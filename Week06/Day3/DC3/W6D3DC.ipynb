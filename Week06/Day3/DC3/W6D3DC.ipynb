{
  "nbformat": 4,
  "nbformat_minor": 0,
  "metadata": {
    "colab": {
      "provenance": [],
      "authorship_tag": "ABX9TyOEdl0kPd8wdwuEPPH92ICX",
      "include_colab_link": true
    },
    "kernelspec": {
      "name": "python3",
      "display_name": "Python 3"
    },
    "language_info": {
      "name": "python"
    }
  },
  "cells": [
    {
      "cell_type": "markdown",
      "metadata": {
        "id": "view-in-github",
        "colab_type": "text"
      },
      "source": [
        "<a href=\"https://colab.research.google.com/github/arquansa/PSTB-exercises/blob/main/Week06/Day3/DC3/W6D3DC.ipynb\" target=\"_parent\"><img src=\"https://colab.research.google.com/assets/colab-badge.svg\" alt=\"Open In Colab\"/></a>"
      ]
    },
    {
      "cell_type": "markdown",
      "source": [
        "#Daily Challenge: Classifying Handwritten Digits with CNNs#"
      ],
      "metadata": {
        "id": "7FUuKCvcP-DL"
      }
    },
    {
      "cell_type": "markdown",
      "source": [
        "#What You Need to Do\n",
        "Load the MNIST dataset:#\n",
        "\n",
        "Use keras.datasets.mnist.load_data() to load the training and testing data.\n",
        "Print the shapes of the loaded data to understand the dataset structure.\n",
        "\n",
        "Preprocess the data for a Fully Connected Neural Network:\n",
        "\n",
        "Flatten the images from 28x28 to 784 pixels.\n",
        "Normalize the pixel values by dividing by 255.\n",
        "One-hot encode the target labels using keras.utils.np_utils.to_categorical().\n",
        "\n",
        "Build and train a Fully Connected Neural Network:\n",
        "\n",
        "Create a Sequential model.\n",
        "Add Dense layers with appropriate activation functions (e.g., ReLU and softmax).\n",
        "Compile the model with an optimizer (e.g., Adam), loss function (e.g., categorical cross-entropy), and metrics (e.g., accuracy).\n",
        "Train the model using model.fit() and evaluate its performance.\n",
        "\n",
        "Preprocess the data for a Convolutional Neural Network:\n",
        "\n",
        "Reshape the input data to the shape expected by a Conv2D layer (e.g., (60000, 28, 28, 1)).\n",
        "Normalize the pixel values by dividing by 255.\n",
        "One-hot encode the target labels using keras.utils.np_utils.to_categorical().\n",
        "\n",
        "Build and train a Convolutional Neural Network:\n",
        "\n",
        "Create a Sequential model.\n",
        "Add Conv2D and MaxPool2D layers.\n",
        "Add a Flatten layer.\n",
        "Add Dense layers with appropriate activation functions.\n",
        "Compile and train the model, similar to the Fully Connected Neural Network.\n",
        "\n",
        "Compare the performance:\n",
        "\n",
        "Analyze the accuracy of both models.\n",
        "Observe the difference between the Fully connected model and the CNN model."
      ],
      "metadata": {
        "id": "C8EiBVqEP91q"
      }
    },
    {
      "cell_type": "markdown",
      "source": [
        "#Fully Connected Neural Network (FCNN)#"
      ],
      "metadata": {
        "id": "yNqJxJlJrpWz"
      }
    },
    {
      "cell_type": "code",
      "source": [
        "from keras.datasets import mnist\n",
        "from keras.models import Sequential\n",
        "from keras.layers import Dense, Flatten\n",
        "from keras.utils import to_categorical"
      ],
      "metadata": {
        "id": "0kofXG5Dt1Xa"
      },
      "execution_count": 2,
      "outputs": []
    },
    {
      "cell_type": "code",
      "source": [
        "# prompt: Print the shapes of the loaded data\n",
        "\n",
        "#Load the dataset\n",
        "(x_train, y_train), (x_test, y_test) = mnist.load_data()\n",
        "\n",
        "#Print the shapes of the loaded data\n",
        "print(\"Shape of x_train:\", x_train.shape)\n",
        "print(\"Shape of y_train:\", y_train.shape)\n",
        "print(\"Shape of x_test:\", x_test.shape)\n",
        "print(\"Shape of y_test:\", y_test.shape)"
      ],
      "metadata": {
        "colab": {
          "base_uri": "https://localhost:8080/"
        },
        "id": "wMVD3ajkvN8J",
        "outputId": "d442877e-9c20-48af-b521-3a62f44f3478"
      },
      "execution_count": 8,
      "outputs": [
        {
          "output_type": "stream",
          "name": "stdout",
          "text": [
            "Shape of X_train: (60000, 28, 28)\n",
            "Shape of y_train: (60000,)\n",
            "Shape of X_test: (10000, 28, 28)\n",
            "Shape of y_test: (10000,)\n"
          ]
        }
      ]
    },
    {
      "cell_type": "markdown",
      "source": [
        "#Load and preprocess data#"
      ],
      "metadata": {
        "id": "qDp9qUJ-vqqt"
      }
    },
    {
      "cell_type": "code",
      "source": [
        "# prompt: Flatten the images from 28x28 to 784 pixels.\n",
        "\n",
        "# Normalize pixel values to be between 0 and 1\n",
        "x_train = x_train.astype('float32') / 255.0\n",
        "x_test = x_test.astype('float32') / 255.0\n",
        "\n",
        "# Flatten images\n",
        "x_train_flat = x_train.reshape(x_train.shape[0], 784)\n",
        "x_test_flat = x_test.reshape(x_test.shape[0], 784)\n",
        "\n",
        "print(\"Shape of x_train_flat:\", x_train_flat.shape)\n",
        "print(\"Shape of x_test_flat:\", x_test_flat.shape)"
      ],
      "metadata": {
        "colab": {
          "base_uri": "https://localhost:8080/"
        },
        "id": "0AyTdA6Mv1_5",
        "outputId": "20e83b14-a3e9-4c3c-b6d8-26cf46de94ec"
      },
      "execution_count": 9,
      "outputs": [
        {
          "output_type": "stream",
          "name": "stdout",
          "text": [
            "Shape of flattened X_train: (60000, 784)\n",
            "Shape of flattened X_test: (10000, 784)\n"
          ]
        }
      ]
    },
    {
      "cell_type": "markdown",
      "source": [
        "One-hot encode the target labels"
      ],
      "metadata": {
        "id": "uuFimV6Kxveq"
      }
    },
    {
      "cell_type": "code",
      "source": [
        "# prompt: One-hot encode the target labels using keras.utils.np_utils.to_categorical()\n",
        "\n",
        "y_train_encoded = to_categorical(y_train)\n",
        "y_test_encoded = to_categorical(y_test)\n",
        "\n",
        "print(\"Shape of encoded y_train:\", y_train_encoded.shape)\n",
        "print(\"Shape of encoded y_test:\", y_test_encoded.shape)"
      ],
      "metadata": {
        "colab": {
          "base_uri": "https://localhost:8080/"
        },
        "id": "Cidl5QMFxm-P",
        "outputId": "ef7f7f1b-5092-4ce2-af56-ead1d6132537"
      },
      "execution_count": 10,
      "outputs": [
        {
          "output_type": "stream",
          "name": "stdout",
          "text": [
            "Shape of encoded y_train: (60000, 10)\n",
            "Shape of encoded y_test: (10000, 10)\n"
          ]
        }
      ]
    },
    {
      "cell_type": "markdown",
      "source": [
        "Build and train a Fully Connected Neural Network:"
      ],
      "metadata": {
        "id": "HWHbskCpyFe1"
      }
    },
    {
      "cell_type": "code",
      "source": [
        "# prompt: Create a Sequential model.\n",
        "\n",
        "# Build a Sequential model\n",
        "model = Sequential([\n",
        "    Flatten(input_shape=(28, 28)),  # Flatten the input images\n",
        "    Dense(128, activation='relu'),  # First dense layer with 128 neurons and ReLU activation\n",
        "    Dense(10, activation='softmax') # Output layer with 10 neurons (for 10 classes) and softmax activation\n",
        "])\n",
        "\n",
        "# Compile the model\n",
        "model.compile(optimizer='adam',\n",
        "              loss='categorical_crossentropy',\n",
        "              metrics=['accuracy'])\n",
        "\n",
        "# Train the model\n",
        "history = model.fit(X_train, y_train_encoded, epochs=5, batch_size=32, validation_split=0.2)\n",
        "\n",
        "# Evaluate the model on the test set\n",
        "loss, accuracy = model.evaluate(X_test, y_test_encoded)\n",
        "print(f\"Test Loss: {loss:.4f}\")\n",
        "print(f\"Test Accuracy: {accuracy:.4f}\")"
      ],
      "metadata": {
        "colab": {
          "base_uri": "https://localhost:8080/"
        },
        "id": "OVp9pw4Fy_YF",
        "outputId": "8acef2b1-2112-49ef-a533-e8426d55ff33"
      },
      "execution_count": 12,
      "outputs": [
        {
          "output_type": "stream",
          "name": "stdout",
          "text": [
            "Epoch 1/5\n",
            "\u001b[1m1500/1500\u001b[0m \u001b[32m━━━━━━━━━━━━━━━━━━━━\u001b[0m\u001b[37m\u001b[0m \u001b[1m8s\u001b[0m 5ms/step - accuracy: 0.8668 - loss: 0.4792 - val_accuracy: 0.9529 - val_loss: 0.1639\n",
            "Epoch 2/5\n",
            "\u001b[1m1500/1500\u001b[0m \u001b[32m━━━━━━━━━━━━━━━━━━━━\u001b[0m\u001b[37m\u001b[0m \u001b[1m9s\u001b[0m 4ms/step - accuracy: 0.9605 - loss: 0.1357 - val_accuracy: 0.9628 - val_loss: 0.1254\n",
            "Epoch 3/5\n",
            "\u001b[1m1500/1500\u001b[0m \u001b[32m━━━━━━━━━━━━━━━━━━━━\u001b[0m\u001b[37m\u001b[0m \u001b[1m6s\u001b[0m 4ms/step - accuracy: 0.9743 - loss: 0.0887 - val_accuracy: 0.9721 - val_loss: 0.0970\n",
            "Epoch 4/5\n",
            "\u001b[1m1500/1500\u001b[0m \u001b[32m━━━━━━━━━━━━━━━━━━━━\u001b[0m\u001b[37m\u001b[0m \u001b[1m11s\u001b[0m 5ms/step - accuracy: 0.9807 - loss: 0.0664 - val_accuracy: 0.9701 - val_loss: 0.1005\n",
            "Epoch 5/5\n",
            "\u001b[1m1500/1500\u001b[0m \u001b[32m━━━━━━━━━━━━━━━━━━━━\u001b[0m\u001b[37m\u001b[0m \u001b[1m10s\u001b[0m 5ms/step - accuracy: 0.9856 - loss: 0.0492 - val_accuracy: 0.9723 - val_loss: 0.0978\n",
            "\u001b[1m313/313\u001b[0m \u001b[32m━━━━━━━━━━━━━━━━━━━━\u001b[0m\u001b[37m\u001b[0m \u001b[1m1s\u001b[0m 2ms/step - accuracy: 0.9709 - loss: 0.1012\n",
            "Test Loss: 0.0897\n",
            "Test Accuracy: 0.9736\n"
          ]
        }
      ]
    },
    {
      "cell_type": "markdown",
      "source": [
        "#Convolutional Neural Network#"
      ],
      "metadata": {
        "id": "XuNdMT8sPe0w"
      }
    },
    {
      "cell_type": "markdown",
      "source": [
        "#Preprocess the data for a Convolutional Neural Network#"
      ],
      "metadata": {
        "id": "lzmVFAsy0Gd_"
      }
    },
    {
      "cell_type": "markdown",
      "source": [
        "For a Conv2D layer (e.g., (60000, 28, 28, 1))."
      ],
      "metadata": {
        "id": "bun5uV3b0d8a"
      }
    },
    {
      "cell_type": "code",
      "source": [
        "from keras.datasets import mnist\n",
        "from keras.models import Sequential\n",
        "from keras.layers import Conv2D, MaxPooling2D, Flatten, Dense\n",
        "from keras.utils import to_categorical"
      ],
      "metadata": {
        "id": "4OP2ZeRsBzyg"
      },
      "execution_count": 37,
      "outputs": []
    },
    {
      "cell_type": "code",
      "source": [
        "x_train = x_train.reshape(x_train.shape[0], 28, 28, 1)\n",
        "x_test = x_test.reshape(x_test.shape[0], 28, 28, 1)\n",
        "\n",
        "print(\"Shape of x_train with channel dimension:\", x_train.shape)\n",
        "print(\"Shape of x_test with channel dimension:\", x_test.shape)"
      ],
      "metadata": {
        "colab": {
          "base_uri": "https://localhost:8080/"
        },
        "id": "Y9dl8lJAC1NO",
        "outputId": "fa065b85-2efb-4997-9fb0-88517176ecc5"
      },
      "execution_count": 38,
      "outputs": [
        {
          "output_type": "stream",
          "name": "stdout",
          "text": [
            "Shape of x_train with channel dimension: (60000, 28, 28, 1)\n",
            "Shape of x_test with channel dimension: (10000, 28, 28, 1)\n"
          ]
        }
      ]
    },
    {
      "cell_type": "markdown",
      "source": [
        "Normalize the pixel values by dividing by 255."
      ],
      "metadata": {
        "id": "o8mvemp60_rO"
      }
    },
    {
      "cell_type": "code",
      "source": [
        "# prompt: Normalize the pixel values by dividing by 255.\n",
        "\n",
        "# Normalize the pixel values by dividing by 255\n",
        "X_train_cnn = X_train_cnn / 255.0\n",
        "X_test_cnn = X_test_cnn / 255.0"
      ],
      "metadata": {
        "id": "a3fDrvZv03Y1"
      },
      "execution_count": 39,
      "outputs": []
    },
    {
      "cell_type": "markdown",
      "source": [
        "One-hot encode the target labels using keras.utils.np_utils.to_categorical()."
      ],
      "metadata": {
        "id": "k6SaaaRN1WiE"
      }
    },
    {
      "cell_type": "code",
      "source": [
        "# prompt: One-hot encode the target labels using keras.utils.np_utils.to_categorical().\n",
        "\n",
        "from keras.utils import to_categorical\n",
        "\n",
        "y_train_encoded_cnn = to_categorical(y_train)\n",
        "y_test_encoded_cnn = to_categorical(y_test)\n",
        "\n",
        "print(\"Shape of encoded y_train for CNN:\", y_train_encoded_cnn.shape)\n",
        "print(\"Shape of encoded y_test for CNN:\", y_test_encoded_cnn.shape)"
      ],
      "metadata": {
        "colab": {
          "base_uri": "https://localhost:8080/"
        },
        "id": "pLXSTdPq1UKh",
        "outputId": "a85abec7-0f33-4794-a0a1-24dfae438fbf"
      },
      "execution_count": 40,
      "outputs": [
        {
          "output_type": "stream",
          "name": "stdout",
          "text": [
            "Shape of encoded y_train for CNN: (60000, 10)\n",
            "Shape of encoded y_test for CNN: (10000, 10)\n"
          ]
        }
      ]
    },
    {
      "cell_type": "markdown",
      "source": [
        "\n",
        "Build and train a Convolutional Neural Network"
      ],
      "metadata": {
        "id": "nPDIEr7W1T2n"
      }
    },
    {
      "cell_type": "markdown",
      "source": [
        "Create a Sequential model"
      ],
      "metadata": {
        "id": "6as6Pe1DHYyq"
      }
    },
    {
      "cell_type": "code",
      "source": [
        "# prompt: create a Sequential model\n",
        "\n",
        "cnn_model = Sequential([\n",
        "    # Convolutional layers\n",
        "    Conv2D(32, kernel_size=(3, 3), activation='relu', input_shape=(28, 28, 1)),\n",
        "    MaxPooling2D(pool_size=(2, 2)),\n",
        "    Conv2D(64, kernel_size=(3, 3), activation='relu'),\n",
        "    MaxPooling2D(pool_size=(2, 2)),\n",
        "\n",
        "    # Flatten the output for the fully connected layers\n",
        "    Flatten(),\n",
        "\n",
        "    # Fully connected layers\n",
        "    Dense(128, activation='relu'),\n",
        "    Dense(10, activation='softmax')  # Output layer with 10 neurons for 10 classes\n",
        "])"
      ],
      "metadata": {
        "colab": {
          "base_uri": "https://localhost:8080/"
        },
        "id": "mQnJINMurn7O",
        "outputId": "f5bb59d5-d8b0-4bf6-d1e6-e8275208a6f7"
      },
      "execution_count": 41,
      "outputs": [
        {
          "output_type": "stream",
          "name": "stderr",
          "text": [
            "/usr/local/lib/python3.11/dist-packages/keras/src/layers/convolutional/base_conv.py:107: UserWarning: Do not pass an `input_shape`/`input_dim` argument to a layer. When using Sequential models, prefer using an `Input(shape)` object as the first layer in the model instead.\n",
            "  super().__init__(activity_regularizer=activity_regularizer, **kwargs)\n"
          ]
        }
      ]
    },
    {
      "cell_type": "markdown",
      "source": [
        "Compile the model"
      ],
      "metadata": {
        "id": "JDPXnit-FuER"
      }
    },
    {
      "cell_type": "code",
      "source": [
        "cnn_model.compile(optimizer='adam',\n",
        "                  loss='categorical_crossentropy',\n",
        "                  metrics=['accuracy'])"
      ],
      "metadata": {
        "id": "mg2qEVqern3L"
      },
      "execution_count": 42,
      "outputs": []
    },
    {
      "cell_type": "markdown",
      "source": [
        "Train the model"
      ],
      "metadata": {
        "id": "K7wHZUtTFkwQ"
      }
    },
    {
      "cell_type": "code",
      "source": [
        "history_cnn = cnn_model.fit(x_train, y_train_encoded_cnn, epochs=5, batch_size=32, validation_split=0.2)"
      ],
      "metadata": {
        "colab": {
          "base_uri": "https://localhost:8080/"
        },
        "id": "AuFOpWs4rn1c",
        "outputId": "11005e73-2309-4a10-fbd7-17ef0ea55a90"
      },
      "execution_count": 43,
      "outputs": [
        {
          "output_type": "stream",
          "name": "stdout",
          "text": [
            "Epoch 1/5\n",
            "\u001b[1m1500/1500\u001b[0m \u001b[32m━━━━━━━━━━━━━━━━━━━━\u001b[0m\u001b[37m\u001b[0m \u001b[1m51s\u001b[0m 33ms/step - accuracy: 0.9039 - loss: 0.3194 - val_accuracy: 0.9823 - val_loss: 0.0586\n",
            "Epoch 2/5\n",
            "\u001b[1m1500/1500\u001b[0m \u001b[32m━━━━━━━━━━━━━━━━━━━━\u001b[0m\u001b[37m\u001b[0m \u001b[1m82s\u001b[0m 33ms/step - accuracy: 0.9856 - loss: 0.0458 - val_accuracy: 0.9873 - val_loss: 0.0468\n",
            "Epoch 3/5\n",
            "\u001b[1m1500/1500\u001b[0m \u001b[32m━━━━━━━━━━━━━━━━━━━━\u001b[0m\u001b[37m\u001b[0m \u001b[1m48s\u001b[0m 32ms/step - accuracy: 0.9897 - loss: 0.0322 - val_accuracy: 0.9877 - val_loss: 0.0403\n",
            "Epoch 4/5\n",
            "\u001b[1m1500/1500\u001b[0m \u001b[32m━━━━━━━━━━━━━━━━━━━━\u001b[0m\u001b[37m\u001b[0m \u001b[1m48s\u001b[0m 32ms/step - accuracy: 0.9934 - loss: 0.0192 - val_accuracy: 0.9872 - val_loss: 0.0445\n",
            "Epoch 5/5\n",
            "\u001b[1m1500/1500\u001b[0m \u001b[32m━━━━━━━━━━━━━━━━━━━━\u001b[0m\u001b[37m\u001b[0m \u001b[1m83s\u001b[0m 33ms/step - accuracy: 0.9955 - loss: 0.0145 - val_accuracy: 0.9901 - val_loss: 0.0366\n"
          ]
        }
      ]
    },
    {
      "cell_type": "markdown",
      "source": [
        "Evaluate"
      ],
      "metadata": {
        "id": "YciO3_tEG5Sw"
      }
    },
    {
      "cell_type": "code",
      "source": [
        "loss_cnn, accuracy_cnn = cnn_model.evaluate(x_test, y_test_encoded_cnn)\n",
        "print(f\"CNN Test Loss: {loss_cnn:.4f}\")\n",
        "print(f\"CNN Test Accuracy: {accuracy_cnn:.4f}\")"
      ],
      "metadata": {
        "colab": {
          "base_uri": "https://localhost:8080/"
        },
        "id": "rb04AzF0rnxg",
        "outputId": "af5f75d6-c21e-4b92-87eb-0ba36b8175d2"
      },
      "execution_count": 44,
      "outputs": [
        {
          "output_type": "stream",
          "name": "stdout",
          "text": [
            "\u001b[1m313/313\u001b[0m \u001b[32m━━━━━━━━━━━━━━━━━━━━\u001b[0m\u001b[37m\u001b[0m \u001b[1m3s\u001b[0m 9ms/step - accuracy: 0.9878 - loss: 0.0347\n",
            "CNN Test Loss: 0.0272\n",
            "CNN Test Accuracy: 0.9908\n"
          ]
        }
      ]
    },
    {
      "cell_type": "markdown",
      "source": [
        "#Compare the performance#\n",
        "1. Accuracy : 0.97 for FNN -  0.99 for CNN - CNN is the most Accurate\n",
        "2. Difference between Fully connected model and CNN model (see comment below)"
      ],
      "metadata": {
        "id": "d8ovCpMLKOQx"
      }
    },
    {
      "cell_type": "markdown",
      "source": [
        "Fully Connected Neural Network (FCNN / Dense Network) - a standard feedforward neural network\n",
        "Limitations:\n",
        "•\tIgnores spatial structure of images (treats pixels as independent).\n",
        "•\tNeeds more parameters and is more prone to overfitting.\n",
        "•\tNot very effective for image data beyond small/simple tasks like MNIST\n",
        "\n",
        "Convolutional Neural Network (CNNs) are specialized for image data\n",
        "Advantages:\n",
        "•\tMore accurate on image tasks.\n",
        "•\tFewer parameters, thanks to shared weights in convolution.\n",
        "•\tRecognizes local features (e.g., lines, corners, digits) and builds up complexity layer by layer.\n"
      ],
      "metadata": {
        "id": "sBUYb88eN3DZ"
      }
    },
    {
      "cell_type": "markdown",
      "source": [
        "#Visualize predictions#"
      ],
      "metadata": {
        "id": "8aNPzlN-thfF"
      }
    },
    {
      "cell_type": "code",
      "source": [
        "import matplotlib.pyplot as plt\n",
        "import numpy as np\n",
        "\n",
        "# Pick a model (choose one)\n",
        "model = cnn_model  # or model\n",
        "\n",
        "# Predict on test set\n",
        "predictions = model.predict(x_test)\n",
        "\n",
        "# Convert predictions to label indices (0–9)\n",
        "predicted_labels = np.argmax(predictions, axis=1)\n",
        "true_labels = y_test  # Use y_test directly as it contains the true labels\n",
        "\n",
        "# Plot the first 15 test images with predicted vs true labels\n",
        "plt.figure(figsize=(12, 5))\n",
        "for i in range(15):\n",
        "    plt.subplot(3, 5, i + 1)\n",
        "    if x_test.shape[-1] == 1:\n",
        "        plt.imshow(x_test[i].reshape(28, 28), cmap='gray')\n",
        "    else:\n",
        "        plt.imshow(x_test[i], cmap='gray')\n",
        "    plt.title(f\"Pred: {predicted_labels[i]}\\nTrue: {true_labels[i]}\")\n",
        "    plt.axis('off')\n",
        "\n",
        "plt.tight_layout()\n",
        "plt.show()"
      ],
      "metadata": {
        "colab": {
          "base_uri": "https://localhost:8080/",
          "height": 523
        },
        "id": "fXdafK5ktmYN",
        "outputId": "cdf8f9a9-262c-482a-a3cf-0ab0bd451367"
      },
      "execution_count": 48,
      "outputs": [
        {
          "output_type": "stream",
          "name": "stdout",
          "text": [
            "\u001b[1m313/313\u001b[0m \u001b[32m━━━━━━━━━━━━━━━━━━━━\u001b[0m\u001b[37m\u001b[0m \u001b[1m3s\u001b[0m 8ms/step\n"
          ]
        },
        {
          "output_type": "display_data",
          "data": {
            "text/plain": [
              "<Figure size 1200x500 with 15 Axes>"
            ],
            "image/png": "[encoded data removed]"
          },
          "metadata": {}
        }
      ]
    }
  ]
}