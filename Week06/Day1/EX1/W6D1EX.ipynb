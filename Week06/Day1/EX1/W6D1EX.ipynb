{
  "nbformat": 4,
  "nbformat_minor": 0,
  "metadata": {
    "colab": {
      "provenance": [],
      "authorship_tag": "ABX9TyNPqqINOHFhDNwGbKKyLG7n",
      "include_colab_link": true
    },
    "kernelspec": {
      "name": "python3",
      "display_name": "Python 3"
    },
    "language_info": {
      "name": "python"
    }
  },
  "cells": [
    {
      "cell_type": "markdown",
      "metadata": {
        "id": "view-in-github",
        "colab_type": "text"
      },
      "source": [
        "<a href=\"https://colab.research.google.com/github/arquansa/PSTB-exercises/blob/main/Week06/Day1/EX1/W6D1EX.ipynb\" target=\"_parent\"><img src=\"https://colab.research.google.com/assets/colab-badge.svg\" alt=\"Open In Colab\"/></a>"
      ]
    },
    {
      "cell_type": "markdown",
      "source": [
        "#Exercises XP\n",
        "Last Updated: June 20th, 2025\n",
        "\n",
        "👩‍🏫 👩🏿‍🏫 What You’ll learn\n",
        "The fundamentals of deep learning and neural networks.\n",
        "How to build and train simple neural networks using TensorFlow/Keras.\n",
        "The concepts of forward and backward propagation.\n",
        "How to visualize and interpret model predictions.\n",
        "\n",
        "\n",
        "🛠️ What you will create\n",
        "A simple perceptron-based decision system.\n",
        "A neural network for classifying handwritten digits from the MNIST dataset.\n",
        "A forward propagation calculation for predicting house prices.\n",
        "A Python implementation of forward and backward propagation.\n",
        "Visualizations of predictions made by a neural network on the MNIST dataset.\n",
        "\n",
        "\n",
        "🌟 Exercise 1 : Small Quizz\n",
        "What is the key difference between traditional machine learning and deep learning?\n",
        "How do artificial neural networks (ANNs) mimic the human brain?\n",
        "Why does deep learning perform better on large datasets compared to traditional machine learning?\n",
        "What are some challenges of deep learning, and how can they be addressed?\n",
        "What is feature engineering, and why is it not needed in deep learning?\n",
        "What role do hidden layers play in a deep learning model?\n",
        "In an artificial neural network (ANN), what is the function of an activation function?\n",
        "\n",
        "\n",
        "🌟 Exercise 2 : Building a Simple Perceptron Decision System\n",
        "You will manually create a simple perceptron-based decision system to determine whether you should go outside based on two inputs:\n",
        "\n",
        "Temperature (°F)\n",
        "Rainy (Yes = 1, No = 0)\n",
        "You will assign weights, compute the weighted sum, apply an activation function, and determine the final decision.\n",
        "\n",
        "Temperature weight = 0.6\n",
        "Rain weight = 0.4\n",
        "Bias = 2\n",
        "Compute the weighted sum using the formula:\n",
        "\n",
        "Weighted Sum=(Temperature×0.6)+(Rain×0.4)+Bias\n",
        "Weighted Sum=(Temperature×0.6)+(Rain×0.4)+Bias\n",
        "Apply a Step Activation Function:\n",
        "\n",
        "If Weighted Sum > 20, output 1 (Yes, go outside)\n",
        "If Weighted Sum ≤ 20, output 0 (No, stay inside)\n",
        "1. Calculate the output for the following conditions:\n",
        "\n",
        "Case 1: Temperature = 70°F, Rain = 0 (No)\n",
        "Case 2: Temperature = 50°F, Rain = 1 (Yes)\n",
        "2. Interpret the results: Did the perceptron suggest going outside in both cases? Why or why not?\n",
        "\n",
        "\n",
        "\n",
        "🌟 Exercise 3 : Building a Simple Neural Network with TensorFlow/Keras\n",
        "Build a simple neural network using TensorFlow/Keras to classify handwritten digits from the MNIST dataset. The network should have:\n",
        "\n",
        "One input layer.\n",
        "One hidden layer with 128 neurons and ReLU activation.\n",
        "One output layer with 10 neurons (for 10 classes) and softmax activation.\n",
        "Steps:\n",
        "\n",
        "1. Import TensorFlow and other necessary modules such as layers, models, and utility functions from tensorflow.keras\n",
        "2. Load the MNIST Dataset\n",
        "3. Normalize the Data by scaling the pixel values of the images to the range [0, 1] by dividing by 255.0.\n",
        "4. One-Hot Encode the Labels by converting the digit labels (0–9) into one-hot encoded vectors.\n",
        "5. To build the Neural Network Model, create a sequential model with the following architecture:\n",
        "\n",
        "A Flatten layer to convert each 28x28 image into a 1D vector.\n",
        "A Dense hidden layer with 128 neurons and ReLU activation.\n",
        "An output Dense layer with 10 neurons and softmax activation (for the 10 classes).\n",
        "6. Compile the model with the following settings:\n",
        "\n",
        "Optimizer: ‘adam’\n",
        "Loss function: ‘categorical_crossentropy’\n",
        "Metrics: [‘accuracy’]\n",
        "7. Train the Model and Evaluate it on the test dataset.\n",
        "\n",
        "Dataset: The MNIST dataset is included in TensorFlow/Keras and can be loaded using:\n",
        "\n",
        "from tensorflow.keras.datasets import mnist\n",
        "\n",
        "\n",
        "🌟 Exercise 4 : Forward Propagation Calculation\n",
        "In this exercise, you will manually compute the forward propagation of a simple neural network that predicts house prices based on:\n",
        "\n",
        "Square Footage (x₁)\n",
        "Number of Bedrooms (x₂)\n",
        "We will calculate the output using the following given values:\n",
        "\n",
        "Input Values:\n",
        "    x₁ = 2000 (Square Footage)\n",
        "    x₂ = 3 (Number of Bedrooms)\n",
        "Initial Weights:\n",
        "    w₁ = 0.5 (Weight for Square Footage)\n",
        "    w₂ = 0.7 (Weight for Bedrooms)\n",
        "Bias: b = 50,000\n",
        "Activation Function: ReLU (Rectified Linear Unit)\n",
        "Calculate the output value “z” before activation.\n",
        "Apply the ReLU function to compute the final prediction.\n",
        "Interpret the result: What is the predicted house price?\n",
        "\n",
        "\n",
        "🌟 Exercise 5(optional) : Implementing Forward and Backward Propagation in Python\n",
        "You will code a simple neural network that performs forward propagation and backpropagation for a regression problem (predicting exam scores based on study hours).\n",
        "\n",
        "import numpy as np\n",
        "\n",
        " Initialize input data (features)\n",
        "x = np.array([4, 80])  # 4 hours studied, previous test score: 80\n",
        "\n",
        " Initialize weights and bias\n",
        "w = np.array([0.6, 0.3])  # Initial weights\n",
        "b = 10  # Initial bias\n",
        "\n",
        " Forward Propagation\n",
        "def forward_propagation(x, w, b):\n",
        "    z = np.dot(x, w) + b  # Weighted sum\n",
        "    return z  # Linear activation (No ReLU here, it's a regression task)\n",
        "\n",
        " Compute prediction\n",
        "y_pred = forward_propagation(x, w, b)\n",
        "y_true = 85  # Actual exam score\n",
        "\n",
        " Compute Loss (Mean Squared Error)\n",
        "loss = 0.5 * (y_true - y_pred) ** 2\n",
        "\n",
        " Compute Gradients\n",
        "grad_w = -(y_true - y_pred) * x  # Partial derivatives with respect to weights\n",
        "grad_b = -(y_true - y_pred)  # Partial derivative with respect to bias\n",
        "\n",
        " Update Weights and Bias\n",
        "learning_rate = 0.01\n",
        "w_new = w - learning_rate * grad_w\n",
        "b_new = b - learning_rate * grad_b\n",
        "\n",
        " Print Results\n",
        "print(\"Initial Prediction:\", y_pred)\n",
        "print(\"Loss:\", loss)\n",
        "print(\"Updated Weights:\", w_new)\n",
        "print(\"Updated Bias:\", b_new)\n",
        "\n",
        "\n",
        "Run the code and observe how the weights and bias update.\n",
        "Explain why updating weights using gradient descent reduces the error.\n",
        "Modify the initial weights or learning rate and see how it affects learning.\n",
        "\n",
        "\n",
        "🌟 Exercise 6(optional) : Visualizing Predictions on the MNIST Dataset\n",
        "Train a simple neural network using TensorFlow/Keras on the MNIST dataset. After training, visualize some of the predictions made by the model.\n",
        "\n",
        "Dataset: The MNIST dataset is included in TensorFlow/Keras.\n",
        "\n",
        "Here are the steps for this exercise :\n",
        "\n",
        "0. Import Required Libraries : Import TensorFlow, NumPy, Matplotlib, and other necessary Keras modules.\n",
        "1. Load the MNIST dataset\n",
        "2. Normalize the data : Scale the pixel values to the range [0, 1].\n",
        "3. One-hot encode the labels : Convert the class labels (digits 0–9) into one-hot encoded vectors.\n",
        "4. Build the model : Create a model with a Flatten layer to convert each image to a vector, a dense layer with 128 neurons and ReLU activation and an output Dense layer with 10 neurons and softmax activation.\n",
        "5. Compile the model using the following settings:\n",
        "\n",
        "Optimizer: ‘adam’\n",
        "Loss: ‘categorical_crossentropy’\n",
        "Metric: ‘accuracy’\n",
        "6. Fit the model on the training data\n",
        "7. Make predictions : Use the trained model to predict the labels of the test images\n",
        "8. Visualize some predictions : Display a few test images alongside the predicted labels using Matplotlib\n",
        "\n"
      ],
      "metadata": {
        "id": "gjpiRLawu61I"
      }
    },
    {
      "cell_type": "markdown",
      "source": [
        "🌟 Exercise 1 : Small Quizz What is the key difference between traditional machine learning and deep learning? How do artificial neural networks (ANNs) mimic the human brain? Why does deep learning perform better on large datasets compared to traditional machine learning? What are some challenges of deep learning, and how can they be addressed? What is feature engineering, and why is it not needed in deep learning? What role do hidden layers play in a deep learning model? In an artificial neural network (ANN), what is the function of an activation function?"
      ],
      "metadata": {
        "id": "aeIYc2qewH69"
      }
    },
    {
      "cell_type": "markdown",
      "source": [
        "Key difference:\n",
        "1. Traditional ML needs manual feature design.\n",
        "Deep learning learns features automatically from data.\n",
        "\n",
        "2. How ANNs mimic the brain:\n",
        "They use \"neurons\" connected by \"weights\" to pass signals, like how the brain works.\n",
        "\n",
        "3. Why DL works better with big data:\n",
        "It has lots of parameters to learn, so it needs lots of data to perform well and avoid overfitting.\n",
        "\n",
        "4. Challenges of DL:\n",
        "\n",
        "- Needs a lot of data and computing power\n",
        "\n",
        "- Can overfit (learn too much from training data)\n",
        "\n",
        "- Fixes: dropout, regularization, data augmentation\n",
        "\n",
        "5. What is feature engineering?\n",
        "Picking useful data features manually. DL skips this by learning features automatically.\n",
        "\n",
        "6.Role of hidden layers:\n",
        "They find patterns and build up complex understanding step by step.\n",
        "\n",
        "7. What does an activation function do?\n",
        "Adds non-linearity so the network can learn complex things.\n",
        "(Examples: ReLU, sigmoid)"
      ],
      "metadata": {
        "id": "moomCIY51cyn"
      }
    },
    {
      "cell_type": "markdown",
      "source": [
        "🌟 Exercise 2 : Building a Simple Perceptron Decision System\n",
        "\n",
        "You will manually create a simple perceptron-based decision system to determine whether you should go outside based on two inputs:\n",
        "\n",
        "Temperature (°F)\n",
        "Rainy (Yes = 1, No = 0)\n",
        "\n",
        "You will assign weights, compute the weighted sum, apply an activation function, and determine the final decision.\n",
        "\n",
        "Temperature weight = 0.6\n",
        "Rain weight = 0.4\n",
        "Bias = 2\n",
        "\n",
        "Compute the weighted sum using the formula:\n",
        "\n",
        "Weighted Sum=(Temperature×0.6)+(Rain×0.4)+Bias\n",
        "Weighted Sum=(Temperature×0.6)+(Rain×0.4)+Bias\n",
        "Apply a Step Activation Function:\n",
        "\n",
        "If Weighted Sum > 20, output 1 (Yes, go outside)\n",
        "If Weighted Sum ≤ 20, output 0 (No, stay inside)\n",
        "\n",
        "1. Calculate the output for the following conditions:\n",
        "\n",
        "Case 1: Temperature = 70°F, Rain = 0 (No)\n",
        "Case 2: Temperature = 50°F, Rain = 1 (Yes)\n",
        "\n",
        "2. Interpret the results: Did the perceptron suggest going outside in both cases? Why or why not?"
      ],
      "metadata": {
        "id": "CP_lAn5TwNuh"
      }
    },
    {
      "cell_type": "markdown",
      "source": [
        "Simple Perceptron\n",
        "Formula: Weighted Sum=(Temp×0.6)+(Rain×0.4)+2\n",
        "Activation:\n",
        "Output = 1 if Weighted Sum > 20 else 0\n",
        "Case 1:\n",
        " Temp = 70, Rain = 0\n",
        " (70×0.6)+(0×0.4)+2=42+0+2=44⇒Output: 1 (Go outside)\n",
        "Case 2:\n",
        " Temp = 50, Rain = 1\n",
        " (50×0.6)+(1×0.4)+2=30+0.4+2=32.4⇒Output: 1 (Go outside)\n",
        "Interpretation: The perceptron suggests going outside in both cases because the weighted sum exceeds 20.\n"
      ],
      "metadata": {
        "id": "eUvzqBSU3Kkp"
      }
    },
    {
      "cell_type": "markdown",
      "source": [
        "🌟 Exercise 3 : Building a Simple Neural Network with TensorFlow/Keras\n",
        "Build a simple neural network using TensorFlow/Keras to classify handwritten digits from the MNIST dataset. The network should have:\n",
        "\n",
        "One input layer.\n",
        "One hidden layer with 128 neurons and ReLU activation.\n",
        "One output layer with 10 neurons (for 10 classes) and softmax activation.\n",
        "Steps:\n",
        "\n",
        "1. Import TensorFlow and other necessary modules such as layers, models, and utility functions from tensorflow.keras\n",
        "2. Load the MNIST Dataset\n",
        "3. Normalize the Data by scaling the pixel values of the images to the range [0, 1] by dividing by 255.0.\n",
        "4. One-Hot Encode the Labels by converting the digit labels (0–9) into one-hot encoded vectors.\n",
        "5. To build the Neural Network Model, create a sequential model with the following architecture:\n",
        "\n",
        "A Flatten layer to convert each 28x28 image into a 1D vector.\n",
        "A Dense hidden layer with 128 neurons and ReLU activation.\n",
        "An output Dense layer with 10 neurons and softmax activation (for the 10 classes).\n",
        "6. Compile the model with the following settings:\n",
        "\n",
        "Optimizer: ‘adam’\n",
        "Loss function: ‘categorical_crossentropy’\n",
        "Metrics: [‘accuracy’]\n",
        "7. Train the Model and Evaluate it on the test dataset.\n",
        "\n",
        "Dataset: The MNIST dataset is included in TensorFlow/Keras and can be loaded using:\n",
        "\n",
        "from tensorflow.keras.datasets import mnist"
      ],
      "metadata": {
        "id": "hTG2YCKzwOmi"
      }
    },
    {
      "cell_type": "markdown",
      "source": [
        " Simple NN with MNIST (TensorFlow/Keras)"
      ],
      "metadata": {
        "id": "ghQ__AuGyBtc"
      }
    },
    {
      "cell_type": "code",
      "source": [
        "import tensorflow as tf\n",
        "from tensorflow.keras.datasets import mnist\n",
        "from tensorflow.keras.models import Sequential\n",
        "from tensorflow.keras.layers import Flatten, Dense\n",
        "from tensorflow.keras.utils import to_categorical\n",
        "\n",
        "# 1. Load data\n",
        "(x_train, y_train), (x_test, y_test) = mnist.load_data()\n",
        "\n",
        "# 2. Normalize\n",
        "x_train, x_test = x_train / 255.0, x_test / 255.0\n",
        "\n",
        "# 3. One-hot encode\n",
        "y_train = to_categorical(y_train, 10)\n",
        "y_test = to_categorical(y_test, 10)\n",
        "\n",
        "# 4. Build model\n",
        "model = Sequential([\n",
        "    Flatten(input_shape=(28, 28)),\n",
        "    Dense(128, activation='relu'),\n",
        "    Dense(10, activation='softmax')\n",
        "])\n",
        "\n",
        "# 5. Compile\n",
        "model.compile(optimizer='adam', loss='categorical_crossentropy', metrics=['accuracy'])\n",
        "\n",
        "# 6. Train & evaluate\n",
        "model.fit(x_train, y_train, epochs=5, validation_split=0.1)\n",
        "model.evaluate(x_test, y_test)\n"
      ],
      "metadata": {
        "id": "6AbAmF_98lfb"
      },
      "execution_count": null,
      "outputs": []
    },
    {
      "cell_type": "markdown",
      "source": [
        "🌟 Exercise 4 : Forward Propagation Calculation\n",
        "In this exercise, you will manually compute the forward propagation of a simple neural network that predicts house prices based on:\n",
        "\n",
        "Square Footage (x₁)\n",
        "Number of Bedrooms (x₂)\n",
        "We will calculate the output using the following given values:\n",
        "\n",
        "Input Values:\n",
        "    x₁ = 2000 (Square Footage)\n",
        "    x₂ = 3 (Number of Bedrooms)\n",
        "Initial Weights:\n",
        "    w₁ = 0.5 (Weight for Square Footage)\n",
        "    w₂ = 0.7 (Weight for Bedrooms)\n",
        "Bias: b = 50,000\n",
        "Activation Function: ReLU (Rectified Linear Unit)\n",
        "Calculate the output value “z” before activation.\n",
        "Apply the ReLU function to compute the final prediction.\n",
        "Interpret the result: What is the predicted house price?"
      ],
      "metadata": {
        "id": "PQuQTUtqx5Q5"
      }
    },
    {
      "cell_type": "markdown",
      "source": [
        "Exercise 4: Forward Propagation Calculation"
      ],
      "metadata": {
        "id": "oYElZyMhzABl"
      }
    },
    {
      "cell_type": "code",
      "source": [
        "Given:\n",
        "x1 - 2000, x2 - 3\n",
        "w1 = 0.3, w2 = 0.7, b = 50000\n",
        " 1: Compute z\n",
        "z (x1 x w1) + (x2 x w2) + b = (2000 x 0.5) + (3 x 0.7) + 50000 = 1000 + 2.1 + 50000 = 51002.1\n",
        "Step 2: Apply ReLU\n",
        "Output = max(0,z) = 51002.1\n",
        "\n",
        "\n"
      ],
      "metadata": {
        "id": "0vptYn0487PM"
      },
      "execution_count": null,
      "outputs": []
    },
    {
      "cell_type": "markdown",
      "source": [
        "🌟 Exercise 5 (optional) : Implementing Forward and Backward Propagation in Python You will code a simple neural network that performs forward propagation and backpropagation for a regression problem (predicting exam scores based on study hours).\n",
        "\n",
        "import numpy as np\n",
        "\n",
        "Initialize input data (features)\n",
        "x = np.array([4, 80]) # 4 hours studied, previous test score: 80\n",
        "\n",
        "Initialize weights and bias\n",
        "w = np.array([0.6, 0.3]) # Initial weights b = 10 # Initial bias\n",
        "\n",
        "Forward Propagation\n",
        "def forward_propagation(x, w, b): z = np.dot(x, w) + b # Weighted sum return z # Linear activation (No ReLU here, it's a regression task)\n",
        "\n",
        "Compute prediction\n",
        "y_pred = forward_propagation(x, w, b) y_true = 85 # Actual exam score\n",
        "\n",
        "Compute Loss (Mean Squared Error)\n",
        "loss = 0.5 * (y_true - y_pred) ** 2\n",
        "\n",
        "Compute Gradients\n",
        "grad_w = -(y_true - y_pred) * x # Partial derivatives with respect to weights grad_b = -(y_true - y_pred) # Partial derivative with respect to bias\n",
        "\n",
        "Update Weights and Bias\n",
        "learning_rate = 0.01 w_new = w - learning_rate * grad_w b_new = b - learning_rate * grad_b\n",
        "\n",
        "Print Results\n",
        "print(\"Initial Prediction:\", y_pred) print(\"Loss:\", loss) print(\"Updated Weights:\", w_new) print(\"Updated Bias:\", b_new)\n",
        "\n",
        "Run the code and observe how the weights and bias update. Explain why updating weights using gradient descent reduces the error. Modify the initial weights or learning rate and see how it affects learning."
      ],
      "metadata": {
        "id": "TeJfEm3ZzO61"
      }
    },
    {
      "cell_type": "markdown",
      "source": [
        "5. Forward & Backward Propagation"
      ],
      "metadata": {
        "id": "KBw8A4kiCsYF"
      }
    },
    {
      "cell_type": "code",
      "source": [
        "import numpy as np\n",
        "\n",
        "x = np.array([4, 80])\n",
        "w = np.array([0.6, 0.3])\n",
        "b = 10\n",
        "y_true = 85\n",
        "\n",
        "# Forward\n",
        "z = np.dot(x, w) + b\n",
        "loss = 0.5 * (y_true - z)**2\n",
        "\n",
        "# Gradients\n",
        "grad_w = -(y_true - z) * x\n",
        "grad_b = -(y_true - z)\n",
        "\n",
        "# Update\n",
        "learning_rate = 0.01\n",
        "w_new = w - learning_rate * grad_w\n",
        "b_new = b - learning_rate * grad_b\n",
        "\n",
        "print(\"Initial Prediction:\", z)\n",
        "print(\"Loss:\", loss)\n",
        "print(\"Updated Weights:\", w_new)\n",
        "print(\"Updated Bias:\", b_new)\n"
      ],
      "metadata": {
        "colab": {
          "base_uri": "https://localhost:8080/"
        },
        "id": "fSBn2PokCvsi",
        "outputId": "40ca1afc-c095-4c25-a2cf-2f612c5ae661"
      },
      "execution_count": 1,
      "outputs": [
        {
          "output_type": "stream",
          "name": "stdout",
          "text": [
            "Initial Prediction: 36.4\n",
            "Loss: 1180.98\n",
            "Updated Weights: [ 2.544 39.18 ]\n",
            "Updated Bias: 10.486\n"
          ]
        }
      ]
    },
    {
      "cell_type": "markdown",
      "source": [
        " Explanation: Gradient descent updates parameters in the direction that reduces loss (error). Repeating this improves predictions."
      ],
      "metadata": {
        "id": "Jw-frK_TDcpn"
      }
    },
    {
      "cell_type": "markdown",
      "source": [
        "\n",
        "🌟 Exercise 6 (optional) : Visualizing Predictions on the MNIST Dataset\n",
        "Train a simple neural network using TensorFlow/Keras on the MNIST dataset. After training, visualize some of the predictions made by the model.\n",
        "\n",
        "Dataset: The MNIST dataset is included in TensorFlow/Keras.\n",
        "\n",
        "Here are the steps for this exercise :\n",
        "\n",
        "0. Import Required Libraries : Import TensorFlow, NumPy, Matplotlib, and other necessary Keras modules.\n",
        "1. Load the MNIST dataset\n",
        "2. Normalize the data : Scale the pixel values to the range [0, 1].\n",
        "3. One-hot encode the labels : Convert the class labels (digits 0–9) into one-hot encoded vectors.\n",
        "4. Build the model : Create a model with a Flatten layer to convert each image to a vector, a dense layer with 128 neurons and ReLU activation and an output Dense layer with 10 neurons and softmax activation.\n",
        "5. Compile the model using the following settings:\n",
        "\n",
        "Optimizer: ‘adam’\n",
        "Loss: ‘categorical_crossentropy’\n",
        "Metric: ‘accuracy’\n",
        "6. Fit the model on the training data\n",
        "7. Make predictions : Use the trained model to predict the labels of the test images\n",
        "8. Visualize some predictions : Display a few test images alongside the predicted labels using Matplotlib\n",
        "\n"
      ],
      "metadata": {
        "id": "SB7jF-UGv76f"
      }
    },
    {
      "cell_type": "markdown",
      "source": [
        "6: Visualizing Predictions (MNIST)"
      ],
      "metadata": {
        "id": "mizS-aa9Dst3"
      }
    },
    {
      "cell_type": "markdown",
      "source": [
        "1. Import required dependencies"
      ],
      "metadata": {
        "id": "EINGrFGWMLOW"
      }
    },
    {
      "cell_type": "code",
      "source": [
        "import tensorflow as tf\n",
        "from tensorflow.keras.models import Sequential\n",
        "from tensorflow.keras.layers import Flatten, Dense\n",
        "from tensorflow.keras.utils import to_categorical\n",
        "import numpy as np\n",
        "import matplotlib.pyplot as plt"
      ],
      "metadata": {
        "id": "cg0kDP0JLQQj"
      },
      "execution_count": 5,
      "outputs": []
    },
    {
      "cell_type": "markdown",
      "source": [
        "2. Load the Mnist dataset"
      ],
      "metadata": {
        "id": "IYwRffI-MeAi"
      }
    },
    {
      "cell_type": "code",
      "source": [
        "(x_train, y_train), (x_test, y_test) = tf.keras.datasets.mnist.load_data()"
      ],
      "metadata": {
        "id": "0FKC6t22Lezr"
      },
      "execution_count": 6,
      "outputs": []
    },
    {
      "cell_type": "markdown",
      "source": [
        "3. Normalize the data"
      ],
      "metadata": {
        "id": "gYp4ejKkLqcZ"
      }
    },
    {
      "cell_type": "code",
      "source": [
        "x_train = x_train / 255.0\n",
        "x_test = x_test / 255.0\n"
      ],
      "metadata": {
        "id": "s9eZyqhILk1D"
      },
      "execution_count": 7,
      "outputs": []
    },
    {
      "cell_type": "markdown",
      "source": [
        "4. One-hot encode the labels"
      ],
      "metadata": {
        "id": "k_eFf1RgMvkH"
      }
    },
    {
      "cell_type": "code",
      "source": [
        "y_train_encoded = to_categorical(y_train, 10)\n",
        "y_test_encoded = to_categorical(y_test, 10)\n"
      ],
      "metadata": {
        "id": "CGPMCwa9Lx5b"
      },
      "execution_count": 8,
      "outputs": []
    },
    {
      "cell_type": "markdown",
      "source": [
        "5. Build the model"
      ],
      "metadata": {
        "id": "no5I4jX-NCuk"
      }
    },
    {
      "cell_type": "code",
      "source": [
        "model = Sequential([\n",
        "    Flatten(input_shape=(28, 28)),\n",
        "    Dense(128, activation='relu'),\n",
        "    Dense(10, activation='softmax')\n",
        "])\n"
      ],
      "metadata": {
        "colab": {
          "base_uri": "https://localhost:8080/"
        },
        "id": "MIkVREtwNHQS",
        "outputId": "79cb503b-b7ae-4c57-e2dd-12fa1eebee9a"
      },
      "execution_count": 9,
      "outputs": [
        {
          "output_type": "stream",
          "name": "stderr",
          "text": [
            "/usr/local/lib/python3.11/dist-packages/keras/src/layers/reshaping/flatten.py:37: UserWarning: Do not pass an `input_shape`/`input_dim` argument to a layer. When using Sequential models, prefer using an `Input(shape)` object as the first layer in the model instead.\n",
            "  super().__init__(**kwargs)\n"
          ]
        }
      ]
    },
    {
      "cell_type": "markdown",
      "source": [
        "6. Compile the model"
      ],
      "metadata": {
        "id": "V-WhsP2tNeDD"
      }
    },
    {
      "cell_type": "code",
      "source": [
        "model.compile(optimizer='adam',\n",
        "              loss='categorical_crossentropy',\n",
        "              metrics=['accuracy'])\n"
      ],
      "metadata": {
        "id": "fMw3WqGiNtGM"
      },
      "execution_count": 11,
      "outputs": []
    },
    {
      "cell_type": "markdown",
      "source": [
        "7. Fit the model"
      ],
      "metadata": {
        "id": "ge6TAAWANysv"
      }
    },
    {
      "cell_type": "code",
      "source": [
        "model.fit(x_train, y_train_encoded, epochs=5, batch_size=32, validation_split=0.1)\n"
      ],
      "metadata": {
        "colab": {
          "base_uri": "https://localhost:8080/"
        },
        "id": "fMqR5AYBOGcH",
        "outputId": "b1cff1c9-dca6-45fd-c0d7-8f45f03c3580"
      },
      "execution_count": 12,
      "outputs": [
        {
          "output_type": "stream",
          "name": "stdout",
          "text": [
            "Epoch 1/5\n",
            "\u001b[1m1688/1688\u001b[0m \u001b[32m━━━━━━━━━━━━━━━━━━━━\u001b[0m\u001b[37m\u001b[0m \u001b[1m7s\u001b[0m 4ms/step - accuracy: 0.8715 - loss: 0.4585 - val_accuracy: 0.9667 - val_loss: 0.1245\n",
            "Epoch 2/5\n",
            "\u001b[1m1688/1688\u001b[0m \u001b[32m━━━━━━━━━━━━━━━━━━━━\u001b[0m\u001b[37m\u001b[0m \u001b[1m9s\u001b[0m 3ms/step - accuracy: 0.9625 - loss: 0.1323 - val_accuracy: 0.9703 - val_loss: 0.1016\n",
            "Epoch 3/5\n",
            "\u001b[1m1688/1688\u001b[0m \u001b[32m━━━━━━━━━━━━━━━━━━━━\u001b[0m\u001b[37m\u001b[0m \u001b[1m6s\u001b[0m 4ms/step - accuracy: 0.9748 - loss: 0.0841 - val_accuracy: 0.9767 - val_loss: 0.0817\n",
            "Epoch 4/5\n",
            "\u001b[1m1688/1688\u001b[0m \u001b[32m━━━━━━━━━━━━━━━━━━━━\u001b[0m\u001b[37m\u001b[0m \u001b[1m5s\u001b[0m 3ms/step - accuracy: 0.9826 - loss: 0.0593 - val_accuracy: 0.9792 - val_loss: 0.0801\n",
            "Epoch 5/5\n",
            "\u001b[1m1688/1688\u001b[0m \u001b[32m━━━━━━━━━━━━━━━━━━━━\u001b[0m\u001b[37m\u001b[0m \u001b[1m6s\u001b[0m 4ms/step - accuracy: 0.9858 - loss: 0.0464 - val_accuracy: 0.9777 - val_loss: 0.0815\n"
          ]
        },
        {
          "output_type": "execute_result",
          "data": {
            "text/plain": [
              "<keras.src.callbacks.history.History at 0x7982c7c86d50>"
            ]
          },
          "metadata": {},
          "execution_count": 12
        }
      ]
    },
    {
      "cell_type": "markdown",
      "source": [
        "Make Predictions"
      ],
      "metadata": {
        "id": "ZiNhlc88OILE"
      }
    },
    {
      "cell_type": "code",
      "source": [
        "predictions = model.predict(x_test)  # Shape: (10000, 10)\n",
        "predicted_labels = np.argmax(predictions, axis=1)\n"
      ],
      "metadata": {
        "colab": {
          "base_uri": "https://localhost:8080/"
        },
        "id": "iqxzNnvZOH3U",
        "outputId": "8ef397d9-0296-45bb-af8b-684d8cfaebcb"
      },
      "execution_count": 13,
      "outputs": [
        {
          "output_type": "stream",
          "name": "stdout",
          "text": [
            "\u001b[1m313/313\u001b[0m \u001b[32m━━━━━━━━━━━━━━━━━━━━\u001b[0m\u001b[37m\u001b[0m \u001b[1m0s\u001b[0m 1ms/step\n"
          ]
        }
      ]
    },
    {
      "cell_type": "markdown",
      "source": [
        "9. Visualize Predictions"
      ],
      "metadata": {
        "id": "HEoC-_6KOHao"
      }
    },
    {
      "cell_type": "code",
      "source": [
        "def plot_predictions(images, labels_true, labels_pred, num=10):\n",
        "    plt.figure(figsize=(15, 5))\n",
        "    for i in range(num):\n",
        "        plt.subplot(2, num//2, i+1)\n",
        "        plt.imshow(images[i], cmap='gray')\n",
        "        plt.title(f\"True: {labels_true[i]}\\nPred: {labels_pred[i]}\")\n",
        "        plt.axis('off')\n",
        "    plt.tight_layout()\n",
        "    plt.show()\n",
        "\n",
        "# Show 10 predictions\n",
        "plot_predictions(x_test, y_test, predicted_labels, num=10)\n"
      ],
      "metadata": {
        "colab": {
          "base_uri": "https://localhost:8080/",
          "height": 416
        },
        "id": "gw140kGePC-s",
        "outputId": "28b5b2e6-aa20-48ef-f74b-503026830057"
      },
      "execution_count": 14,
      "outputs": [
        {
          "output_type": "display_data",
          "data": {
            "text/plain": [
              "<Figure size 1500x500 with 10 Axes>"
            ],
            "image/png": "[encoded data removed]"
          },
          "metadata": {}
        }
      ]
    },
    {
      "cell_type": "markdown",
      "source": [
        "**Summary**:\n",
        "\n",
        "You trained a simple 2-layer neural network.\n",
        "\n",
        "Made predictions on test data.\n",
        "\n",
        "Displayed a few predictions along with the actual digits."
      ],
      "metadata": {
        "id": "Rj-3fk_fPDrO"
      }
    }
  ]
}