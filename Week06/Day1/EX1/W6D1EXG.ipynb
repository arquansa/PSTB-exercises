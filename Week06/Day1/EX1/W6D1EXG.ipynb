{
  "nbformat": 4,
  "nbformat_minor": 0,
  "metadata": {
    "colab": {
      "provenance": [],
      "authorship_tag": "ABX9TyNgqBXDKTM0E3OcTCzIChbm",
      "include_colab_link": true
    },
    "kernelspec": {
      "name": "python3",
      "display_name": "Python 3"
    },
    "language_info": {
      "name": "python"
    }
  },
  "cells": [
    {
      "cell_type": "markdown",
      "metadata": {
        "id": "view-in-github",
        "colab_type": "text"
      },
      "source": [
        "<a href=\"https://colab.research.google.com/github/arquansa/PSTB-exercises/blob/main/Week06/Day1/EX1/W6D1EXG.ipynb\" target=\"_parent\"><img src=\"https://colab.research.google.com/assets/colab-badge.svg\" alt=\"Open In Colab\"/></a>"
      ]
    },
    {
      "cell_type": "markdown",
      "source": [
        "Exercises XP Gold Last Updated: February 14th, 2025\n",
        "\n",
        "👩‍🏫 👩🏿‍🏫 What You’ll learn\n",
        "\n",
        "- How neural networks make predictions using forward propagation\n",
        "- How backpropagation adjusts weights to minimize errors\n",
        "- How activation functions impact neural network performance\n",
        "- How to manually compute and implement gradient descent\n",
        "- How to build and train a simple neural network from scratch\n",
        "🛠️ What you will create\n",
        "\n",
        "- A multi-layer perceptron (MLP) for binary classification\n",
        "- A Python implementation of activation functions\n",
        "- A neural network that predicts house prices using forward propagation\n",
        "- A model that updates weights using gradient descent\n",
        "- A simple training loop for a neural network\n",
        "\n",
        "Exercise 1: Implementing a Multi-Layer Perceptron (MLP) from Scratch\n",
        "\n",
        "Task\n",
        "\n",
        "You will build a multi-layer perceptron for a binary classification problem using NumPy.\n",
        "\n",
        "The model should:\n",
        "\n",
        "- Have one hidden layer with three neurons\n",
        "- Use ReLU activation for hidden layers and Sigmoid for the output layer\n",
        "- Compute forward propagation\n",
        "\n",
        "Steps\n",
        "\n",
        "Define the architecture:\n",
        "- Input layer with two neurons\n",
        "- Hidden layer with three neurons using ReLU activation\n",
        "- Output layer with one neuron using Sigmoid activation\n",
        "Implement forward propagation using weighted sum\n",
        "- calculations and activation functions\n",
        "- Predict outputs for the following inputs:\n",
        "- First case: Input values of two and three\n",
        "- Second case: Input values of one and five\n",
        "\n",
        "Exercise 2: Implementing Backpropagation with Gradient Descent\n",
        "\n",
        "Task\n",
        "\n",
        "You will manually compute backpropagation and update weights\n",
        "\n",
        "- using gradient descent for a simple neural network\n",
        "- predicting student exam scores.\n",
        "\n",
        "Given Data\n",
        "\n",
        "Input variables:\n",
        "\n",
        "- Study hours with a value of six\n",
        "- Previous test score with a value of seventy-five\n",
        "\n",
        "Initial weights:\n",
        "\n",
        "- First weight with a value of zero point four for study hours\n",
        "- Second weight with a value of zero point six for previous test score\n",
        "\n",
        "- Bias with a value of five\n",
        "\n",
        "- Actual exam score with a value of eighty-five\n",
        "Learning rate of zero point zero one\n",
        "\n",
        "Steps\n",
        "- Compute the predicted exam score using the weighted sum formula\n",
        "- Calculate the loss using the mean squared error formula\n",
        "- Compute the gradients for the weights and update them using gradient descent\n",
        "- Interpret the results and observe how much the weights change\n",
        "\n",
        "Exercise 3: Comparing Activation Functions for Neural Networks\n",
        "\n",
        "Task\n",
        "\n",
        "You will implement and compare three activation functions using Python:\n",
        "\n",
        "Step\n",
        "- function Sigmoid function\n",
        "- ReLU function\n",
        "Steps\n",
        "- Implement the three activation functions in Python\n",
        "- Create a graph that visualizes the Sigmoid and ReLU functions\n",
        "- Compare the behaviors of the activation functions:\n",
        "- Identify which function gives only binary outputs\n",
        "- Identify which function smoothly transitions between values\n",
        "- Identify which function sets negative values to zero but keeps positive values unchanged\n",
        "- Answer the following questions:\n",
        "- Why is ReLU commonly used in deep learning models?\n",
        "- Why might Sigmoid be a good choice for binary classification tasks?\n",
        "- What are the weaknesses of the Step function compared to others?\n",
        "\n",
        "Exercise 4: Forward Propagation in a Deep Neural Network\n",
        "\n",
        "Task\n",
        "You will manually compute forward propagation for a three-layer neural network predicting house prices.\n",
        "\n",
        "Given Data\n",
        "\n",
        "Inputs:\n",
        "\n",
        "Square footage with a value of two thousand\n",
        "Number of bedrooms with a value of three Layer one weights and bias:\n",
        "- First weight with a value of zero point five\n",
        "- Second weight with a value of zero point seven\n",
        "- First bias with a value of ten thousand\n",
        "Layer two weights and bias:\n",
        "- First weight with a value of zero point six\n",
        "- Second weight with a value of zero point eight\n",
        "- Second bias with a value of twenty thousand\n",
        "Output layer weight and bias:\n",
        "- Weight with a value of one point two\n",
        "- Bias with a value of thirty thousand Activation function: - ReLU\n",
        "\n",
        "Steps\n",
        "- Compute the output of the first layer using the weighted sum formula and ReLU activation function\n",
        "- Compute the output of the second layer using the same method\n",
        "- Compute the final prediction using the weighted sum formula at the output layer\n",
        "- Interpret the final result and determine the predicted house price\n",
        "\n",
        "Exercise 5: Training a Neural Network with Forward and Backward Propagation\n",
        "\n",
        "Task You will train a simple neural network to predict a student’s exam score using gradient descent.\n",
        "\n",
        "Steps\n",
        "\n",
        "- Initialize input values representing study hours and previous test score\n",
        "- Initialize weights and bias with given values\n",
        "- Compute forward propagation to predict the exam score\n",
        "- Compute the error between the prediction and actual score\n",
        "- Compute gradients for the weights and bias\n",
        "- Update the weights and bias using gradient descent\n",
        "- Print the updated weights and bias after one training iteration\n",
        "\n",
        "Conclusion\n",
        "\n",
        "By completing these exercises, you will:\n",
        "- Understand multi-layer perceptrons\n",
        "- Implement activation functions\n",
        "- Learn forward and backward propagation\n",
        "- Apply gradient descent to train a neural network"
      ],
      "metadata": {
        "id": "JgQHxkeoUTFw"
      }
    },
    {
      "cell_type": "markdown",
      "source": [
        "## Exercise 1: Implementing a Multi-Layer Perceptron (MLP) from Scratch"
      ],
      "metadata": {
        "id": "sn0Nv15AYxHM"
      }
    },
    {
      "cell_type": "code",
      "source": [
        "# Exercise 1: Implementing a Multi-Layer Perceptron (MLP) from Scratch\n",
        "\n",
        "import numpy as np\n",
        "\n",
        "# Define the architecture\n",
        "input_size = 2\n",
        "hidden_size = 3\n",
        "output_size = 1\n",
        "\n",
        "# Initialize weights and biases\n",
        "np.random.seed(42) # for reproducibility\n",
        "weights_input_hidden = np.random.randn(input_size, hidden_size)\n",
        "bias_hidden = np.random.randn(1, hidden_size)\n",
        "weights_hidden_output = np.random.randn(hidden_size, output_size)\n",
        "bias_output = np.random.randn(1, output_size)\n",
        "\n",
        "# Activation functions\n",
        "def relu(x):\n",
        "    return np.maximum(0, x)\n",
        "\n",
        "def sigmoid(x):\n",
        "    return 1 / (1 + np.exp(-x))\n",
        "\n",
        "# Forward propagation\n",
        "def forward_propagation(inputs, weights_input_hidden, bias_hidden, weights_hidden_output, bias_output):\n",
        "    # Input to hidden layer\n",
        "    hidden_layer_input = np.dot(inputs, weights_input_hidden) + bias_hidden\n",
        "    hidden_layer_output = relu(hidden_layer_input)\n",
        "\n",
        "    # Hidden to output layer\n",
        "    output_layer_input = np.dot(hidden_layer_output, weights_hidden_output) + bias_output\n",
        "    predicted_output = sigmoid(output_layer_input)\n",
        "\n",
        "    return predicted_output\n",
        "\n",
        "# Predict outputs for the given inputs\n",
        "inputs_case1 = np.array([[2, 3]])\n",
        "prediction_case1 = forward_propagation(inputs_case1, weights_input_hidden, bias_hidden, weights_hidden_output, bias_output)\n",
        "print(f\"Prediction for input [2, 3]: {prediction_case1}\")\n",
        "\n",
        "inputs_case2 = np.array([[1, 5]])\n",
        "prediction_case2 = forward_propagation(inputs_case2, weights_input_hidden, bias_hidden, weights_hidden_output, bias_output)\n",
        "print(f\"Prediction for input [1, 5]: {prediction_case2}\")\n"
      ],
      "metadata": {
        "colab": {
          "base_uri": "https://localhost:8080/"
        },
        "id": "a_86vffsxZIS",
        "outputId": "f2de665c-efe4-4dbb-8c94-4fa372fcbba8"
      },
      "execution_count": null,
      "outputs": [
        {
          "output_type": "stream",
          "name": "stdout",
          "text": [
            "Prediction for input [2, 3]: [[0.98303123]]\n",
            "Prediction for input [1, 5]: [[0.99592967]]\n"
          ]
        }
      ]
    },
    {
      "cell_type": "markdown",
      "metadata": {
        "id": "00daaa6d"
      },
      "source": [
        "## Exercise 2: Implementing Backpropagation with Gradient Descent"
      ]
    },
    {
      "cell_type": "code",
      "metadata": {
        "colab": {
          "base_uri": "https://localhost:8080/"
        },
        "id": "9debd2d7",
        "outputId": "070c53ed-c766-4fa7-abbe-7ebec3fb1a55"
      },
      "source": [
        "# Exercise 2: Implementing Backpropagation with Gradient Descent\n",
        "\n",
        "# Given Data\n",
        "study_hours = 6\n",
        "previous_score = 75\n",
        "weight_study = 0.4\n",
        "weight_previous = 0.6\n",
        "bias = 5\n",
        "actual_score = 85\n",
        "learning_rate = 0.01\n",
        "\n",
        "# 1. Compute the predicted exam score using the weighted sum formula\n",
        "predicted_score = (study_hours * weight_study) + (previous_score * weight_previous) + bias\n",
        "print(f\"Predicted exam score: {predicted_score}\")\n",
        "\n",
        "# 2. Calculate the loss using the mean squared error formula\n",
        "loss = (actual_score - predicted_score)**2\n",
        "print(f\"Mean Squared Error Loss: {loss}\")\n",
        "\n",
        "# 3. Compute the gradients for the weights and update them using gradient descent\n",
        "# The derivative of the loss function (MSE) with respect to the output is 2 * (predicted_score - actual_score)\n",
        "# The derivative of the output with respect to weight_study is study_hours\n",
        "# The derivative of the output with respect to weight_previous is previous_score\n",
        "# The derivative of the output with respect to bias is 1\n",
        "gradient_weight_study = (predicted_score - actual_score) * study_hours * 2 # Chain rule\n",
        "gradient_weight_previous = (predicted_score - actual_score) * previous_score * 2 # Chain rule\n",
        "gradient_bias = (predicted_score - actual_score) * 2 # Chain rule\n",
        "\n",
        "print(f\"Gradient for weight_study: {gradient_weight_study:.4f}\")\n",
        "print(f\"Gradient for weight_previous: {gradient_weight_previous:.4f}\")\n",
        "print(f\"Gradient for bias: {gradient_bias:.4f}\")\n",
        "\n",
        "# Update weights and bias\n",
        "weight_study = weight_study - learning_rate * gradient_weight_study\n",
        "weight_previous = weight_previous - learning_rate * gradient_weight_previous\n",
        "bias = bias - learning_rate * gradient_bias\n",
        "\n",
        "# 4. Interpret the results and observe how much the weights change\n",
        "print(f\"Updated weight_study: {weight_study:.4f}\")\n",
        "print(f\"Updated weight_previous: {weight_previous:.4f}\")\n",
        "print(f\"Updated bias: {bias:.4f}\")"
      ],
      "execution_count": null,
      "outputs": [
        {
          "output_type": "stream",
          "name": "stdout",
          "text": [
            "Predicted exam score: 52.4\n",
            "Mean Squared Error Loss: 1062.76\n",
            "Gradient for weight_study: -391.2000\n",
            "Gradient for weight_previous: -4890.0000\n",
            "Gradient for bias: -65.2000\n",
            "Updated weight_study: 4.3120\n",
            "Updated weight_previous: 49.5000\n",
            "Updated bias: 5.6520\n"
          ]
        }
      ]
    },
    {
      "cell_type": "markdown",
      "metadata": {
        "id": "b28371d1"
      },
      "source": [
        "## Exercise 3: Comparing Activation Functions for Neural Networks"
      ]
    },
    {
      "cell_type": "code",
      "source": [
        "import numpy as np\n",
        "import matplotlib.pyplot as plt\n",
        "\n",
        "# Activation functions\n",
        "def step_function(x):\n",
        "    return np.where(x > 0, 1, 0)\n",
        "\n",
        "def sigmoid(x):\n",
        "    return 1 / (1 + np.exp(-x))\n",
        "\n",
        "def relu(x):\n",
        "    return np.maximum(0, x)"
      ],
      "metadata": {
        "id": "Qxvw06ry-nkO"
      },
      "execution_count": null,
      "outputs": []
    },
    {
      "cell_type": "code",
      "metadata": {
        "colab": {
          "base_uri": "https://localhost:8080/",
          "height": 333
        },
        "id": "a9cdce02",
        "outputId": "b0784027-b2a8-46da-e1ab-97f4762335d4"
      },
      "source": [
        "# Create a range of input values for visualization\n",
        "x = np.linspace(-5, 5, 100)\n",
        "\n",
        "# Calculate the output of each activation function\n",
        "y_step = step_function(x)\n",
        "y_sigmoid = sigmoid(x)\n",
        "y_relu = relu(x)\n",
        "\n",
        "# Create a graph that visualizes the Sigmoid and ReLU functions\n",
        "plt.figure(figsize=(5, 3))\n",
        "plt.plot(x, y_sigmoid, label='Sigmoid')\n",
        "plt.plot(x, y_relu, label='ReLU')\n",
        "plt.title('Sigmoid and ReLU Activation Functions')\n",
        "plt.xlabel('Input')\n",
        "plt.ylabel('Output')\n",
        "plt.legend()\n",
        "plt.grid(True)\n",
        "plt.show()"
      ],
      "execution_count": null,
      "outputs": [
        {
          "output_type": "display_data",
          "data": {
            "text/plain": [
              "<Figure size 500x300 with 1 Axes>"
            ],
            "image/png": "[encoded data removed]"
          },
          "metadata": {}
        }
      ]
    },
    {
      "cell_type": "markdown",
      "source": [
        "### Compare the behaviours of activation functions:\n",
        "\n",
        "- Step function output for x = -2: 0\n",
        "- Step function output for x = 2: 1\n",
        "- Sigmoid function output for x = -2: 0.1192\n",
        "- Sigmoid function output for x = 2: 0.8808\n",
        "- ReLU function output for x = -2: 0\n",
        "- ReLU function output for x = 2: 2"
      ],
      "metadata": {
        "id": "wBD-z_7J4TBT"
      }
    },
    {
      "cell_type": "markdown",
      "source": [
        "###Answering questions:\n",
        "\n",
        "Which function gives only binary outputs?\n",
        "The Step function gives only binary outputs (0 or 1).\n",
        "\n",
        "Which function smoothly transitions between values?\n",
        "The Sigmoid function smoothly transitions between values.\n",
        "\n",
        "Which function sets negative values to zero but keeps positive values unchanged?\n",
        "The ReLU function sets negative values to zero but keeps positive values unchanged.\n",
        "\n",
        "Why is ReLU commonly used in deep learning models?\n",
        "ReLU is commonly used because it helps mitigate the vanishing gradient problem and is computationally efficient.\n",
        "\n",
        "Why might Sigmoid be a good choice for binary classification tasks?\n",
        "Sigmoid is a good choice for binary classification tasks because its output is between 0 and 1, which can be interpreted as a probability.\n",
        "\n",
        "What are the weaknesses of the Step function compared to others?\n",
        "The Step function's main weakness is that its gradient is zero everywhere except at zero, which makes it unsuitable for gradient-based optimization methods like backpropagation."
      ],
      "metadata": {
        "id": "I66QXYEo38BW"
      }
    },
    {
      "cell_type": "markdown",
      "metadata": {
        "id": "898c23e4"
      },
      "source": [
        "## Exercise 4: Forward Propagation in a Deep Neural Network"
      ]
    },
    {
      "cell_type": "code",
      "metadata": {
        "colab": {
          "base_uri": "https://localhost:8080/"
        },
        "id": "0ab023f8",
        "outputId": "83a7f202-b0ea-4935-ecb5-6ae85c103c20"
      },
      "source": [
        "# Exercise 4: Forward Propagation in a Deep Neural Network\n",
        "\n",
        "# Given Data\n",
        "square_footage = 2000\n",
        "num_bedrooms = 3\n",
        "\n",
        "# Layer one weights and bias\n",
        "weight1_layer1 = 0.5\n",
        "weight2_layer1 = 0.7\n",
        "bias_layer1 = 10000\n",
        "\n",
        "# Layer two weights and bias\n",
        "weight1_layer2 = 0.6\n",
        "weight2_layer2 = 0.8\n",
        "bias_layer2 = 20000\n",
        "\n",
        "# Output layer weight and bias\n",
        "weight_output = 1.2\n",
        "bias_output = 30000\n",
        "\n",
        "# Activation function (ReLU)\n",
        "def relu(x):\n",
        "    return max(0, x)\n",
        "\n",
        "# 1. Compute the output of the first layer using the weighted sum formula and ReLU activation function\n",
        "weighted_sum_layer1 = (square_footage * weight1_layer1) + (num_bedrooms * weight2_layer1) + bias_layer1\n",
        "output_layer1 = relu(weighted_sum_layer1)\n",
        "print(f\"Output of Layer 1: {output_layer1}\")\n",
        "\n",
        "# 2. Compute the output of the second layer using the same method\n",
        "# Assuming layer 2 has one neuron and takes the output of layer 1 as its input:\n",
        "weighted_sum_layer2 = (output_layer1 * weight1_layer2) + bias_layer2 # Simplified for manual calculation\n",
        "output_layer2 = relu(weighted_sum_layer2)\n",
        "print(f\"Output of Layer 2: {output_layer2}\")\n",
        "\n",
        "\n",
        "# 3. Compute the final prediction using the weighted sum formula at the output layer\n",
        "# Assuming the output layer has one neuron and takes the output of layer 2 as its input:\n",
        "final_prediction = (output_layer2 * weight_output) + bias_output\n",
        "print(f\"Final Predicted House Price: {final_prediction}\")\n",
        "\n",
        "# 4. Interpret the final result and determine the predicted house price\n",
        "print(\"\\nInterpretation:\")\n",
        "print(f\"The predicted house price based on the given inputs and network parameters is: ${final_prediction:.2f}\")"
      ],
      "execution_count": null,
      "outputs": [
        {
          "output_type": "stream",
          "name": "stdout",
          "text": [
            "Output of Layer 1: 11002.1\n",
            "Output of Layer 2: 26601.260000000002\n",
            "Final Predicted House Price: 61921.512\n",
            "\n",
            "Interpretation:\n",
            "The predicted house price based on the given inputs and network parameters is: $61921.51\n"
          ]
        }
      ]
    },
    {
      "cell_type": "markdown",
      "metadata": {
        "id": "a06e5652"
      },
      "source": [
        "## Exercise 5: Training a Neural Network with Forward and Backward Propagation"
      ]
    },
    {
      "cell_type": "code",
      "metadata": {
        "colab": {
          "base_uri": "https://localhost:8080/"
        },
        "id": "e0417cf5",
        "outputId": "777f0608-8c4c-4136-f310-a0e17480110d"
      },
      "source": [
        "# Exercise 5: Training a Neural Network with Forward and Backward Propagation\n",
        "\n",
        "# Initialize input values\n",
        "study_hours = 6\n",
        "previous_score = 75\n",
        "inputs = np.array([[study_hours, previous_score]]) # Use numpy array for consistency\n",
        "\n",
        "# Initialize weights and bias with given values\n",
        "weight_study = 0.4\n",
        "weight_previous = 0.6\n",
        "bias = 5\n",
        "\n",
        "# Actual exam score\n",
        "actual_score = 85\n",
        "\n",
        "# Learning rate\n",
        "learning_rate = 0.01\n",
        "\n",
        "# Define sigmoid activation function\n",
        "def sigmoid(x):\n",
        "    return 1 / (1 + np.exp(-x))\n",
        "\n",
        "# Define derivative of sigmoid function for backpropagation\n",
        "def sigmoid_derivative(x):\n",
        "    return x * (1 - x)\n",
        "\n",
        "# Training loop (for a single iteration as per the task)\n",
        "# 1. Compute forward propagation to predict the exam score\n",
        "# Weighted sum\n",
        "weighted_sum = (inputs[0, 0] * weight_study) + (inputs[0, 1] * weight_previous) + bias\n",
        "# Activation\n",
        "predicted_score = sigmoid(weighted_sum)\n",
        "\n",
        "print(f\"Predicted score before training: {predicted_score:.4f}\")\n",
        "\n",
        "# 2. Compute the error between the prediction and actual score\n",
        "# Using Mean Squared Error (MSE)\n",
        "error = actual_score - predicted_score\n",
        "loss = error**2\n",
        "\n",
        "print(f\"Error: {error:.4f}\")\n",
        "print(f\"Loss: {loss:.4f}\")\n",
        "\n",
        "# 3. Compute gradients for the weights and bias\n",
        "# Gradient of loss with respect to predicted_score\n",
        "d_loss_d_predicted_score = 2 * error # Derivative of MSE\n",
        "\n",
        "# Gradient of predicted_score with respect to weighted_sum (derivative of sigmoid)\n",
        "d_predicted_score_d_weighted_sum = sigmoid_derivative(predicted_score)\n",
        "\n",
        "# Gradient of weighted_sum with respect to weights and bias\n",
        "d_weighted_sum_d_weight_study = inputs[0, 0]\n",
        "d_weighted_sum_d_weight_previous = inputs[0, 1]\n",
        "d_weighted_sum_d_bias = 1\n",
        "\n",
        "# Gradients for weights and bias using the chain rule\n",
        "gradient_weight_study = d_loss_d_predicted_score * d_predicted_score_d_weighted_sum * d_weighted_sum_d_weight_study\n",
        "gradient_weight_previous = d_loss_d_predicted_score * d_predicted_score_d_weighted_sum * d_weighted_sum_d_weight_previous\n",
        "gradient_bias = d_loss_d_predicted_score * d_predicted_score_d_weighted_sum * d_weighted_sum_d_bias\n",
        "\n",
        "print(f\"Gradient weight study: {gradient_weight_study:.4f}\")\n",
        "print(f\"Gradient weight previous: {gradient_weight_previous:.4f}\")\n",
        "print(f\"Gradient bias: {gradient_bias:.4f}\")\n",
        "\n",
        "\n",
        "# 4. Update the weights and bias using gradient descent\n",
        "weight_study = weight_study + learning_rate * gradient_weight_study\n",
        "weight_previous = weight_previous + learning_rate * gradient_weight_previous\n",
        "bias = bias + learning_rate * gradient_bias\n",
        "\n",
        "# 5. Print the updated weights and bias after one training iteration\n",
        "print(\"\\nAfter one training iteration:\")\n",
        "print(f\"Updated weight_study: {weight_study:.4f}\")\n",
        "print(f\"Updated weight_previous: {weight_previous:.4f}\")\n",
        "print(f\"Updated bias: {bias:.4f}\")\n"
      ],
      "execution_count": null,
      "outputs": [
        {
          "output_type": "stream",
          "name": "stdout",
          "text": [
            "Predicted score before training: 1.0000\n",
            "Error: 84.0000\n",
            "Loss: 7056.0000\n",
            "Gradient weight study: 0.0000\n",
            "Gradient weight previous: 0.0000\n",
            "Gradient bias: 0.0000\n",
            "\n",
            "After one training iteration:\n",
            "Updated weight_study: 0.4000\n",
            "Updated weight_previous: 0.6000\n",
            "Updated bias: 5.0000\n"
          ]
        }
      ]
    },
    {
      "cell_type": "markdown",
      "metadata": {
        "id": "e6f0ef63"
      },
      "source": [
        "## Conclusion\n",
        "\n",
        "By completing these exercises, you have:\n",
        "\n",
        "- Understood multi-layer perceptrons by building one from scratch in Exercise 1.\n",
        "- Learned forward and backward propagation by implementing them in Exercise 2 and 5.\n",
        "- Implemented and compared activation functions (Step, Sigmoid, and ReLU) in Exercise 3.\n",
        "- Applied gradient descent to update weights and bias in Exercise 2 and 5.\n",
        "- Gained experience with forward propagation in a deeper network in Exercise 4."
      ]
    }
  ]
}