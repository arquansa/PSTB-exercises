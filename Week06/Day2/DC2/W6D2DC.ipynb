{
  "nbformat": 4,
  "nbformat_minor": 0,
  "metadata": {
    "colab": {
      "provenance": [],
      "authorship_tag": "ABX9TyPyuc1LUOpHuC2jYzsM2ai0",
      "include_colab_link": true
    },
    "kernelspec": {
      "name": "python3",
      "display_name": "Python 3"
    },
    "language_info": {
      "name": "python"
    }
  },
  "cells": [
    {
      "cell_type": "markdown",
      "metadata": {
        "id": "view-in-github",
        "colab_type": "text"
      },
      "source": [
        "<a href=\"https://colab.research.google.com/github/arquansa/PSTB-exercises/blob/main/Week06/Day2/DC2/W6D2DC.ipynb\" target=\"_parent\"><img src=\"https://colab.research.google.com/assets/colab-badge.svg\" alt=\"Open In Colab\"/></a>"
      ]
    },
    {
      "cell_type": "markdown",
      "source": [
        "#Definition of classification types#\n",
        "\n",
        "1.   binary classification - a classification task with only two possible outcomes or classes. For instance, in the field of medical diagnosis, predicting whether a tumour is malignant or benign\n",
        "2.   Multi-class classification - a classification task with more than two classes, each input belonging to only one class. For instance, predicting a language is French, Spanisk or chinese.\n",
        "3.   Multi-label Classification - a classification task where each input can belong to multiple classes simultaneously. For instance, a movie can be at once a comedy and a thriller"
      ],
      "metadata": {
        "id": "ZQ22-gy59Pmv"
      }
    },
    {
      "cell_type": "markdown",
      "source": [
        "#Set Up Python Environment and dataset#"
      ],
      "metadata": {
        "id": "b-DseX89RRjo"
      }
    },
    {
      "cell_type": "code",
      "source": [
        "!pip show tensorflow\n",
        "import numpy as np\n",
        "import pandas as pd\n",
        "import matplotlib.pyplot as plt\n",
        "import tensorflow as tf\n",
        "from sklearn.datasets import make_circles"
      ],
      "metadata": {
        "id": "6T8W33AJQD1r",
        "colab": {
          "base_uri": "https://localhost:8080/"
        },
        "outputId": "e0132216-52da-406d-f521-579371ca1dd0",
        "collapsed": true
      },
      "execution_count": 81,
      "outputs": [
        {
          "output_type": "stream",
          "name": "stdout",
          "text": [
            "Name: tensorflow\n",
            "Version: 2.18.0\n",
            "Summary: TensorFlow is an open source machine learning framework for everyone.\n",
            "Home-page: https://www.tensorflow.org/\n",
            "Author: Google Inc.\n",
            "Author-email: packages@tensorflow.org\n",
            "License: Apache 2.0\n",
            "Location: /usr/local/lib/python3.11/dist-packages\n",
            "Requires: absl-py, astunparse, flatbuffers, gast, google-pasta, grpcio, h5py, keras, libclang, ml-dtypes, numpy, opt-einsum, packaging, protobuf, requests, setuptools, six, tensorboard, tensorflow-io-gcs-filesystem, termcolor, typing-extensions, wrapt\n",
            "Required-by: dopamine_rl, tensorflow-text, tensorflow_decision_forests, tf_keras\n"
          ]
        }
      ]
    },
    {
      "cell_type": "markdown",
      "source": [
        "#Visualize the dataset using scatter plots to understand the data distribution#"
      ],
      "metadata": {
        "id": "EtZPNchqU2Ga"
      }
    },
    {
      "cell_type": "code",
      "source": [
        "from sklearn.datasets import make_circles\n",
        "\n",
        "samples = 1000\n",
        "X, y = make_circles(samples,\n",
        "                    noise = 0.03,\n",
        "                    random_state = 42)\n",
        "\n",
        "print('X : ', X)\n",
        "print('\\n')\n",
        "print('y : ', y)"
      ],
      "metadata": {
        "id": "npcx_V3PQDwW",
        "colab": {
          "base_uri": "https://localhost:8080/"
        },
        "outputId": "19ff0f57-a14a-4f79-877e-59e1029ac098"
      },
      "execution_count": 82,
      "outputs": [
        {
          "output_type": "stream",
          "name": "stdout",
          "text": [
            "X :  [[ 0.75424625  0.23148074]\n",
            " [-0.75615888  0.15325888]\n",
            " [-0.81539193  0.17328203]\n",
            " ...\n",
            " [-0.13690036 -0.81001183]\n",
            " [ 0.67036156 -0.76750154]\n",
            " [ 0.28105665  0.96382443]]\n",
            "\n",
            "\n",
            "y :  [1 1 1 1 0 1 1 1 1 0 1 0 1 1 1 1 0 1 1 0 1 0 0 1 0 0 0 1 1 1 0 0 1 0 0 0 1\n",
            " 1 1 0 0 0 0 1 0 0 1 1 0 1 1 1 0 1 0 0 1 0 0 1 0 0 1 0 1 1 1 1 0 1 0 0 1 1\n",
            " 0 0 1 0 1 0 1 0 0 0 0 1 1 1 1 0 0 0 1 0 1 0 1 0 0 1 1 0 1 0 1 1 1 1 0 1 1\n",
            " 1 1 1 0 0 0 1 1 0 1 0 1 0 0 1 1 0 1 1 1 1 0 1 1 0 0 0 0 0 0 0 1 0 1 1 1 0\n",
            " 1 0 1 0 1 0 1 0 0 1 0 1 1 1 1 1 1 1 0 1 0 0 0 0 0 1 0 0 0 0 1 1 0 1 0 1 1\n",
            " 0 0 0 1 1 1 1 1 0 0 0 0 0 1 0 0 1 1 1 1 1 0 1 0 1 0 0 1 1 1 0 1 0 1 1 0 1\n",
            " 1 0 1 0 1 0 1 1 0 1 0 1 0 0 0 1 0 0 0 0 1 1 0 0 0 0 0 0 0 1 1 1 0 0 1 1 1\n",
            " 0 1 0 0 0 0 1 1 0 1 0 0 0 1 0 1 0 0 1 0 1 1 1 0 0 0 1 0 0 0 1 1 1 1 0 0 0\n",
            " 1 0 0 0 1 0 0 0 1 1 0 1 1 1 1 1 1 1 0 0 0 0 1 0 0 0 0 1 1 1 0 0 1 0 1 0 1\n",
            " 1 0 0 1 1 1 1 0 0 0 0 0 0 1 1 0 1 0 0 1 0 0 0 0 0 0 0 0 1 0 0 0 0 1 0 0 1\n",
            " 0 1 0 0 0 1 0 0 1 1 0 0 1 0 0 1 1 0 1 1 0 0 1 0 1 0 0 0 1 1 0 0 1 1 1 1 1\n",
            " 0 0 1 1 1 1 0 1 1 1 1 1 0 0 1 0 1 0 0 0 0 1 0 0 0 0 0 0 0 0 0 1 1 0 1 1 1\n",
            " 1 1 1 0 1 1 1 1 0 0 0 1 1 1 0 0 0 0 1 1 0 0 0 0 1 0 0 0 1 0 0 1 1 1 1 1 1\n",
            " 0 0 0 1 0 0 0 0 0 1 1 1 0 0 0 0 0 1 1 1 0 0 1 1 1 1 0 1 1 0 1 0 0 0 1 0 0\n",
            " 1 0 0 1 1 0 0 1 1 0 1 0 1 0 1 0 1 0 0 0 1 0 0 0 0 0 0 1 1 1 1 0 0 0 1 0 1\n",
            " 1 0 0 0 0 0 1 1 1 0 0 1 0 0 1 0 0 1 0 0 1 0 0 0 1 0 0 1 1 1 0 1 1 0 0 0 1\n",
            " 1 1 1 0 0 1 1 1 0 0 0 0 1 1 0 0 1 1 0 0 1 1 1 1 1 1 1 0 1 0 1 0 0 1 0 1 1\n",
            " 1 1 0 0 1 1 0 0 1 0 1 0 0 0 1 0 0 1 1 1 1 0 1 1 1 1 1 1 1 0 1 0 1 1 1 0 0\n",
            " 1 0 0 0 1 1 1 1 0 0 0 0 1 0 1 1 1 0 1 0 0 1 0 0 1 1 1 1 1 0 1 0 0 0 1 1 1\n",
            " 1 1 0 0 0 1 1 1 1 0 0 0 0 0 1 1 0 1 0 1 0 0 0 0 0 0 0 0 0 1 1 1 1 1 0 1 0\n",
            " 1 1 1 1 0 1 1 1 1 1 1 1 1 0 1 1 0 1 0 0 0 1 0 1 1 1 0 1 1 0 1 1 0 1 0 1 1\n",
            " 0 0 1 1 1 0 0 0 0 1 1 0 0 1 1 1 1 1 1 1 1 1 1 1 1 1 1 0 0 1 0 1 0 1 0 1 1\n",
            " 1 1 1 1 0 1 0 1 1 1 0 1 1 0 0 1 0 1 1 0 0 1 1 1 1 1 1 1 1 0 1 1 1 0 1 0 0\n",
            " 1 1 0 0 0 1 0 0 1 0 0 0 1 0 1 0 0 0 0 1 0 1 1 1 1 0 1 0 0 0 0 0 0 1 0 1 0\n",
            " 1 0 1 1 1 0 1 0 1 0 0 1 1 1 0 0 0 1 1 0 1 0 1 1 0 1 0 0 1 1 1 0 0 0 1 1 0\n",
            " 0 0 0 0 1 1 0 1 0 0 0 1 0 0 0 1 1 1 1 0 1 1 1 0 1 1 1 1 0 1 1 0 1 1 0 0 1\n",
            " 1 1 0 0 0 0 0 0 1 0 0 1 0 0 0 1 0 1 0 1 1 0 0 0 0 0 0 0 0 1 0 1 0 0 0 1 0\n",
            " 0]\n"
          ]
        }
      ]
    },
    {
      "cell_type": "markdown",
      "source": [
        "Dataset creation with make_circles function\n",
        "*   1000 samples\n",
        "*   noise: 0.03"
      ],
      "metadata": {
        "id": "hbbg6yJUDei1"
      }
    },
    {
      "cell_type": "markdown",
      "source": [
        "### Visualisation"
      ],
      "metadata": {
        "id": "ImMxmf9UkIO2"
      }
    },
    {
      "cell_type": "code",
      "metadata": {
        "colab": {
          "base_uri": "https://localhost:8080/",
          "height": 472
        },
        "id": "248d7efd",
        "outputId": "767337a5-68d1-42a4-c4ba-e1513d64e04d"
      },
      "source": [
        "plt.scatter(X[:, 0], X[:, 1], c=y, cmap=plt.cm.RdYlBu)\n",
        "plt.title(\"Scatter Plot of Circles Dataset\")\n",
        "plt.xlabel(\"Feature 1\")\n",
        "plt.ylabel(\"Feature 2\")\n",
        "plt.show()"
      ],
      "execution_count": 83,
      "outputs": [
        {
          "output_type": "display_data",
          "data": {
            "text/plain": [
              "<Figure size 640x480 with 1 Axes>"
            ],
            "image/png": "[encoded data removed]"
          },
          "metadata": {}
        }
      ]
    },
    {
      "cell_type": "markdown",
      "source": [
        "There are two circles :\n",
        "- one internal blue circle\n",
        "- one external red circle"
      ],
      "metadata": {
        "id": "Ge-JoMKk6UOA"
      }
    },
    {
      "cell_type": "markdown",
      "source": [
        "Build a Basic Neural Network Model (Binary Classification)"
      ],
      "metadata": {
        "id": "d7B80Nx7cUzG"
      }
    },
    {
      "cell_type": "code",
      "source": [
        "import numpy as np\n",
        "import tensorflow as tf\n",
        "from tensorflow.keras.models import Sequential\n",
        "from tensorflow.keras.layers import Dense\n",
        "from sklearn.datasets import make_circles\n",
        "import matplotlib.pyplot as plt"
      ],
      "metadata": {
        "id": "b-KM0rpfdeFX"
      },
      "execution_count": 84,
      "outputs": []
    },
    {
      "cell_type": "markdown",
      "source": [
        "Model Specification\n",
        "- One dense layer\n",
        "- Sigmoid activation (for binary classification)\n",
        "- Binary Crossentropy as loss\n",
        "- Adam optimizer"
      ],
      "metadata": {
        "id": "MiMH5kt-Pxee"
      }
    },
    {
      "cell_type": "code",
      "source": [
        "#Generate the dataset\n",
        "X, y = make_circles(n_samples=1000, noise=0.03, random_state=42)\n",
        "X = np.array(X).astype(\"float32\")\n",
        "y = np.array(y).astype(\"float32\")"
      ],
      "metadata": {
        "id": "zGJZu_BBVr5Q"
      },
      "execution_count": 85,
      "outputs": []
    },
    {
      "cell_type": "code",
      "source": [
        "#Build a model with only one Dense layer\n",
        "model = Sequential([\n",
        "    Dense(1, activation='sigmoid', input_shape=(2,))\n",
        "])"
      ],
      "metadata": {
        "id": "8aSs7-_mQs9i",
        "colab": {
          "base_uri": "https://localhost:8080/"
        },
        "outputId": "efa88716-9e3c-4275-d98f-d33a0ab08ba4"
      },
      "execution_count": 86,
      "outputs": [
        {
          "output_type": "stream",
          "name": "stderr",
          "text": [
            "/usr/local/lib/python3.11/dist-packages/keras/src/layers/core/dense.py:87: UserWarning: Do not pass an `input_shape`/`input_dim` argument to a layer. When using Sequential models, prefer using an `Input(shape)` object as the first layer in the model instead.\n",
            "  super().__init__(activity_regularizer=activity_regularizer, **kwargs)\n"
          ]
        }
      ]
    },
    {
      "cell_type": "code",
      "source": [
        "#Compile the model\n",
        "model.compile(loss='binary_crossentropy',\n",
        "              optimizer='adam',\n",
        "              metrics=['accuracy'])"
      ],
      "metadata": {
        "id": "Kwz_txiXQyp2"
      },
      "execution_count": 87,
      "outputs": []
    },
    {
      "cell_type": "code",
      "source": [
        "#Train the model\n",
        "history = model.fit(X, y, epochs=100, verbose=0)\n"
      ],
      "metadata": {
        "id": "aGiZJ0pOUFEV"
      },
      "execution_count": 88,
      "outputs": []
    },
    {
      "cell_type": "code",
      "source": [
        "#Evaluate the model\n",
        "loss, accuracy = model.evaluate(X, y)\n",
        "print(f\"\\nFinal Accuracy (one-layer model): {accuracy * 100:.2f}%\")\n"
      ],
      "metadata": {
        "colab": {
          "base_uri": "https://localhost:8080/"
        },
        "id": "xTv2Z0rZPpGk",
        "outputId": "dd771827-ea53-46b2-b49a-f44ef0b81d0b"
      },
      "execution_count": 89,
      "outputs": [
        {
          "output_type": "stream",
          "name": "stdout",
          "text": [
            "\u001b[1m32/32\u001b[0m \u001b[32m━━━━━━━━━━━━━━━━━━━━\u001b[0m\u001b[37m\u001b[0m \u001b[1m0s\u001b[0m 4ms/step - accuracy: 0.5045 - loss: 0.6932\n",
            "\n",
            "Final Accuracy (one-layer model): 50.00%\n"
          ]
        }
      ]
    },
    {
      "cell_type": "markdown",
      "source": [
        "This model type is linear regression, with one dense layer, it learns only linear boundaries.\n",
        "\n",
        "It is not fit for the make_circles dataset which consists of two concentric circles.\n",
        "\n",
        "The model must be improved."
      ],
      "metadata": {
        "id": "g0fIG_OqcdM1"
      }
    },
    {
      "cell_type": "markdown",
      "source": [
        "Improvements considered\n",
        "- Add hidden layers with more neurons and non-linear activation (ReLU)\n",
        "- Use Adam optimizer (already your suggestion)\n",
        "- Train for more epochs\n",
        "- Keep using binary_crossentropy since this is a binary classification task"
      ],
      "metadata": {
        "id": "mSgB8ANibuqi"
      }
    },
    {
      "cell_type": "markdown",
      "source": [
        "Improved model"
      ],
      "metadata": {
        "id": "Arvd9DqDmcQq"
      }
    },
    {
      "cell_type": "code",
      "source": [
        "import numpy as np\n",
        "import tensorflow as tf\n",
        "from tensorflow.keras.models import Sequential\n",
        "from tensorflow.keras.layers import Dense\n",
        "from sklearn.datasets import make_circles\n",
        "import matplotlib.pyplot as plt"
      ],
      "metadata": {
        "id": "hcIdgazumekF"
      },
      "execution_count": 90,
      "outputs": []
    },
    {
      "cell_type": "markdown",
      "source": [
        "Generate dataset"
      ],
      "metadata": {
        "id": "xi-Ui_2_mn66"
      }
    },
    {
      "cell_type": "code",
      "source": [
        "X, y = make_circles(n_samples=1000, noise=0.03, random_state=42)\n",
        "X = np.array(X).astype(\"float32\")\n",
        "y = np.array(y).astype(\"float32\")"
      ],
      "metadata": {
        "id": "tZk1Ft3qm2hb"
      },
      "execution_count": 91,
      "outputs": []
    },
    {
      "cell_type": "markdown",
      "source": [
        "Visualize the data"
      ],
      "metadata": {
        "id": "n9g72ja7nPpU"
      }
    },
    {
      "cell_type": "code",
      "source": [
        "plt.figure(figsize=(6, 6))\n",
        "plt.scatter(X[y == 0][:, 0], X[y == 0][:, 1], color='skyblue', label='Class 0')\n",
        "plt.scatter(X[y == 1][:, 0], X[y == 1][:, 1], color='salmon', label='Class 1')\n",
        "plt.title(\"make_circles Dataset\")\n",
        "plt.xlabel(\"Feature 1\")\n",
        "plt.ylabel(\"Feature 2\")\n",
        "plt.legend()\n",
        "plt.axis('equal')\n",
        "plt.grid(True)\n",
        "plt.show()"
      ],
      "metadata": {
        "colab": {
          "base_uri": "https://localhost:8080/",
          "height": 564
        },
        "id": "3_4YjMJsm6mV",
        "outputId": "ba1c7532-7ec1-4560-c6db-ea4d87dbff04"
      },
      "execution_count": 92,
      "outputs": [
        {
          "output_type": "display_data",
          "data": {
            "text/plain": [
              "<Figure size 600x600 with 1 Axes>"
            ],
            "image/png": "[encoded data removed]"
          },
          "metadata": {}
        }
      ]
    },
    {
      "cell_type": "markdown",
      "source": [
        "Build improved model"
      ],
      "metadata": {
        "id": "tTXiOxt9nfh2"
      }
    },
    {
      "cell_type": "code",
      "source": [
        "model = Sequential([\n",
        "    Dense(16, activation='relu', input_shape=(2,)),\n",
        "    Dense(8, activation='relu'),\n",
        "    Dense(1, activation='sigmoid')  # Output layer for binary classification\n",
        "])"
      ],
      "metadata": {
        "colab": {
          "base_uri": "https://localhost:8080/"
        },
        "id": "FlWRxdlGw_5e",
        "outputId": "4ddb5c39-fe58-4b5a-a311-d62368a79f0d"
      },
      "execution_count": 93,
      "outputs": [
        {
          "output_type": "stream",
          "name": "stderr",
          "text": [
            "/usr/local/lib/python3.11/dist-packages/keras/src/layers/core/dense.py:87: UserWarning: Do not pass an `input_shape`/`input_dim` argument to a layer. When using Sequential models, prefer using an `Input(shape)` object as the first layer in the model instead.\n",
            "  super().__init__(activity_regularizer=activity_regularizer, **kwargs)\n"
          ]
        }
      ]
    },
    {
      "cell_type": "code",
      "source": [
        "# Compile with Adam optimizer\n",
        "model.compile(optimizer='adam',\n",
        "              loss='binary_crossentropy',\n",
        "              metrics=['accuracy'])\n"
      ],
      "metadata": {
        "id": "AP5YsEUuxDd2"
      },
      "execution_count": 94,
      "outputs": []
    },
    {
      "cell_type": "code",
      "source": [
        "# Train for more epochs\n",
        "history = model.fit(X, y, epochs=100, verbose=0)"
      ],
      "metadata": {
        "id": "229Rf19axJ-u"
      },
      "execution_count": 95,
      "outputs": []
    },
    {
      "cell_type": "code",
      "source": [
        "\n",
        "\n",
        "\n",
        "\n",
        "\n",
        "# Evaluate the model\n",
        "loss, accuracy = model.evaluate(X, y)\n",
        "print(f\"\\nImproved Model Accuracy: {accuracy * 100:.2f}%\")"
      ],
      "metadata": {
        "id": "egwB0sP_gN1O",
        "colab": {
          "base_uri": "https://localhost:8080/"
        },
        "outputId": "d410b762-4e69-4363-f17a-e245aa89220a"
      },
      "execution_count": 96,
      "outputs": [
        {
          "output_type": "stream",
          "name": "stdout",
          "text": [
            "\u001b[1m32/32\u001b[0m \u001b[32m━━━━━━━━━━━━━━━━━━━━\u001b[0m\u001b[37m\u001b[0m \u001b[1m0s\u001b[0m 4ms/step - accuracy: 1.0000 - loss: 0.0265\n",
            "\n",
            "Improved Model Accuracy: 100.00%\n"
          ]
        }
      ]
    },
    {
      "cell_type": "markdown",
      "source": [
        "Accuracy : 100%\n",
        "Loss : 0.0213\n",
        "\n",
        "Model is quite fitted to the dataset, with very little loss."
      ],
      "metadata": {
        "id": "EoHsNBlen5mo"
      }
    },
    {
      "cell_type": "code",
      "source": [
        "# Normalize the features\n",
        "scaler = StandardScaler()\n",
        "X_train = scaler.fit_transform(X_train)\n",
        "X_test = scaler.transform(X_test)\n"
      ],
      "metadata": {
        "id": "uwXfS21ghYbs"
      },
      "execution_count": 97,
      "outputs": []
    },
    {
      "cell_type": "markdown",
      "source": [
        "Improvements:\n",
        "hidden layers to learn more complex patterns.\n",
        "ReLU activation in hidden layers\n",
        "Dropout (optional) for regularization.\n",
        "Sigmoid in the output layer for binary classification.\n",
        "Train with more epochs."
      ],
      "metadata": {
        "id": "csYYDbXvjEVt"
      }
    },
    {
      "cell_type": "code",
      "source": [
        "# Define the improved neural network model with input shape 20\n",
        "model = tf.keras.Sequential([\n",
        "    tf.keras.layers.Dense(128, activation='relu', input_shape=(X_train.shape[1],)),\n",
        "    tf.keras.layers.Dropout(0.3),\n",
        "    tf.keras.layers.Dense(64, activation='relu'),\n",
        "    tf.keras.layers.Dropout(0.3),\n",
        "    tf.keras.layers.Dense(32, activation='relu'),\n",
        "    tf.keras.layers.Dense(16, activation='relu'),\n",
        "    tf.keras.layers.Dense(1, activation='sigmoid')\n",
        "])\n",
        "\n",
        "# Compile the model\n",
        "model.compile(optimizer='adam',\n",
        "              loss='binary_crossentropy',\n",
        "              metrics=['accuracy'])\n",
        "\n",
        "# 5. Train the model\n",
        "model.fit(X_train, y_train, epochs=30, batch_size=32, validation_split=0.1)"
      ],
      "metadata": {
        "colab": {
          "base_uri": "https://localhost:8080/"
        },
        "id": "RT80i42-m__s",
        "outputId": "264f0ca0-a350-4aae-a14c-296a4941d24c"
      },
      "execution_count": 103,
      "outputs": [
        {
          "output_type": "stream",
          "name": "stdout",
          "text": [
            "Epoch 1/30\n"
          ]
        },
        {
          "output_type": "stream",
          "name": "stderr",
          "text": [
            "/usr/local/lib/python3.11/dist-packages/keras/src/layers/core/dense.py:87: UserWarning: Do not pass an `input_shape`/`input_dim` argument to a layer. When using Sequential models, prefer using an `Input(shape)` object as the first layer in the model instead.\n",
            "  super().__init__(activity_regularizer=activity_regularizer, **kwargs)\n"
          ]
        },
        {
          "output_type": "stream",
          "name": "stdout",
          "text": [
            "\u001b[1m23/23\u001b[0m \u001b[32m━━━━━━━━━━━━━━━━━━━━\u001b[0m\u001b[37m\u001b[0m \u001b[1m2s\u001b[0m 14ms/step - accuracy: 0.6211 - loss: 0.6522 - val_accuracy: 0.8125 - val_loss: 0.5351\n",
            "Epoch 2/30\n",
            "\u001b[1m23/23\u001b[0m \u001b[32m━━━━━━━━━━━━━━━━━━━━\u001b[0m\u001b[37m\u001b[0m \u001b[1m0s\u001b[0m 5ms/step - accuracy: 0.7640 - loss: 0.5306 - val_accuracy: 0.8750 - val_loss: 0.4120\n",
            "Epoch 3/30\n",
            "\u001b[1m23/23\u001b[0m \u001b[32m━━━━━━━━━━━━━━━━━━━━\u001b[0m\u001b[37m\u001b[0m \u001b[1m0s\u001b[0m 9ms/step - accuracy: 0.8100 - loss: 0.4470 - val_accuracy: 0.8500 - val_loss: 0.3494\n",
            "Epoch 4/30\n",
            "\u001b[1m23/23\u001b[0m \u001b[32m━━━━━━━━━━━━━━━━━━━━\u001b[0m\u001b[37m\u001b[0m \u001b[1m0s\u001b[0m 6ms/step - accuracy: 0.8405 - loss: 0.3756 - val_accuracy: 0.8625 - val_loss: 0.3452\n",
            "Epoch 5/30\n",
            "\u001b[1m23/23\u001b[0m \u001b[32m━━━━━━━━━━━━━━━━━━━━\u001b[0m\u001b[37m\u001b[0m \u001b[1m0s\u001b[0m 5ms/step - accuracy: 0.8675 - loss: 0.3441 - val_accuracy: 0.8875 - val_loss: 0.3187\n",
            "Epoch 6/30\n",
            "\u001b[1m23/23\u001b[0m \u001b[32m━━━━━━━━━━━━━━━━━━━━\u001b[0m\u001b[37m\u001b[0m \u001b[1m0s\u001b[0m 5ms/step - accuracy: 0.8593 - loss: 0.3295 - val_accuracy: 0.8750 - val_loss: 0.3037\n",
            "Epoch 7/30\n",
            "\u001b[1m23/23\u001b[0m \u001b[32m━━━━━━━━━━━━━━━━━━━━\u001b[0m\u001b[37m\u001b[0m \u001b[1m0s\u001b[0m 5ms/step - accuracy: 0.8888 - loss: 0.3083 - val_accuracy: 0.8750 - val_loss: 0.2979\n",
            "Epoch 8/30\n",
            "\u001b[1m23/23\u001b[0m \u001b[32m━━━━━━━━━━━━━━━━━━━━\u001b[0m\u001b[37m\u001b[0m \u001b[1m0s\u001b[0m 8ms/step - accuracy: 0.8737 - loss: 0.2924 - val_accuracy: 0.8875 - val_loss: 0.3006\n",
            "Epoch 9/30\n",
            "\u001b[1m23/23\u001b[0m \u001b[32m━━━━━━━━━━━━━━━━━━━━\u001b[0m\u001b[37m\u001b[0m \u001b[1m0s\u001b[0m 5ms/step - accuracy: 0.8812 - loss: 0.2813 - val_accuracy: 0.8750 - val_loss: 0.3024\n",
            "Epoch 10/30\n",
            "\u001b[1m23/23\u001b[0m \u001b[32m━━━━━━━━━━━━━━━━━━━━\u001b[0m\u001b[37m\u001b[0m \u001b[1m0s\u001b[0m 5ms/step - accuracy: 0.8968 - loss: 0.2858 - val_accuracy: 0.8750 - val_loss: 0.2828\n",
            "Epoch 11/30\n",
            "\u001b[1m23/23\u001b[0m \u001b[32m━━━━━━━━━━━━━━━━━━━━\u001b[0m\u001b[37m\u001b[0m \u001b[1m0s\u001b[0m 6ms/step - accuracy: 0.8907 - loss: 0.2796 - val_accuracy: 0.8750 - val_loss: 0.3031\n",
            "Epoch 12/30\n",
            "\u001b[1m23/23\u001b[0m \u001b[32m━━━━━━━━━━━━━━━━━━━━\u001b[0m\u001b[37m\u001b[0m \u001b[1m0s\u001b[0m 5ms/step - accuracy: 0.9036 - loss: 0.2688 - val_accuracy: 0.8875 - val_loss: 0.2841\n",
            "Epoch 13/30\n",
            "\u001b[1m23/23\u001b[0m \u001b[32m━━━━━━━━━━━━━━━━━━━━\u001b[0m\u001b[37m\u001b[0m \u001b[1m0s\u001b[0m 5ms/step - accuracy: 0.9158 - loss: 0.2523 - val_accuracy: 0.8625 - val_loss: 0.2909\n",
            "Epoch 14/30\n",
            "\u001b[1m23/23\u001b[0m \u001b[32m━━━━━━━━━━━━━━━━━━━━\u001b[0m\u001b[37m\u001b[0m \u001b[1m0s\u001b[0m 5ms/step - accuracy: 0.9083 - loss: 0.2348 - val_accuracy: 0.8750 - val_loss: 0.2840\n",
            "Epoch 15/30\n",
            "\u001b[1m23/23\u001b[0m \u001b[32m━━━━━━━━━━━━━━━━━━━━\u001b[0m\u001b[37m\u001b[0m \u001b[1m0s\u001b[0m 8ms/step - accuracy: 0.8764 - loss: 0.3014 - val_accuracy: 0.8750 - val_loss: 0.2896\n",
            "Epoch 16/30\n",
            "\u001b[1m23/23\u001b[0m \u001b[32m━━━━━━━━━━━━━━━━━━━━\u001b[0m\u001b[37m\u001b[0m \u001b[1m0s\u001b[0m 8ms/step - accuracy: 0.9033 - loss: 0.2545 - val_accuracy: 0.8750 - val_loss: 0.2961\n",
            "Epoch 17/30\n",
            "\u001b[1m23/23\u001b[0m \u001b[32m━━━━━━━━━━━━━━━━━━━━\u001b[0m\u001b[37m\u001b[0m \u001b[1m0s\u001b[0m 14ms/step - accuracy: 0.8982 - loss: 0.2587 - val_accuracy: 0.8875 - val_loss: 0.3029\n",
            "Epoch 18/30\n",
            "\u001b[1m23/23\u001b[0m \u001b[32m━━━━━━━━━━━━━━━━━━━━\u001b[0m\u001b[37m\u001b[0m \u001b[1m1s\u001b[0m 9ms/step - accuracy: 0.9187 - loss: 0.2199 - val_accuracy: 0.8750 - val_loss: 0.2837\n",
            "Epoch 19/30\n",
            "\u001b[1m23/23\u001b[0m \u001b[32m━━━━━━━━━━━━━━━━━━━━\u001b[0m\u001b[37m\u001b[0m \u001b[1m0s\u001b[0m 9ms/step - accuracy: 0.9002 - loss: 0.2393 - val_accuracy: 0.9000 - val_loss: 0.2858\n",
            "Epoch 20/30\n",
            "\u001b[1m23/23\u001b[0m \u001b[32m━━━━━━━━━━━━━━━━━━━━\u001b[0m\u001b[37m\u001b[0m \u001b[1m0s\u001b[0m 10ms/step - accuracy: 0.9134 - loss: 0.2443 - val_accuracy: 0.8875 - val_loss: 0.3048\n",
            "Epoch 21/30\n",
            "\u001b[1m23/23\u001b[0m \u001b[32m━━━━━━━━━━━━━━━━━━━━\u001b[0m\u001b[37m\u001b[0m \u001b[1m0s\u001b[0m 6ms/step - accuracy: 0.9245 - loss: 0.2081 - val_accuracy: 0.8625 - val_loss: 0.2901\n",
            "Epoch 22/30\n",
            "\u001b[1m23/23\u001b[0m \u001b[32m━━━━━━━━━━━━━━━━━━━━\u001b[0m\u001b[37m\u001b[0m \u001b[1m0s\u001b[0m 5ms/step - accuracy: 0.9068 - loss: 0.2264 - val_accuracy: 0.8875 - val_loss: 0.3082\n",
            "Epoch 23/30\n",
            "\u001b[1m23/23\u001b[0m \u001b[32m━━━━━━━━━━━━━━━━━━━━\u001b[0m\u001b[37m\u001b[0m \u001b[1m0s\u001b[0m 5ms/step - accuracy: 0.8998 - loss: 0.2621 - val_accuracy: 0.8625 - val_loss: 0.2835\n",
            "Epoch 24/30\n",
            "\u001b[1m23/23\u001b[0m \u001b[32m━━━━━━━━━━━━━━━━━━━━\u001b[0m\u001b[37m\u001b[0m \u001b[1m0s\u001b[0m 8ms/step - accuracy: 0.9424 - loss: 0.1827 - val_accuracy: 0.8875 - val_loss: 0.2920\n",
            "Epoch 25/30\n",
            "\u001b[1m23/23\u001b[0m \u001b[32m━━━━━━━━━━━━━━━━━━━━\u001b[0m\u001b[37m\u001b[0m \u001b[1m0s\u001b[0m 7ms/step - accuracy: 0.9162 - loss: 0.2069 - val_accuracy: 0.8750 - val_loss: 0.2812\n",
            "Epoch 26/30\n",
            "\u001b[1m23/23\u001b[0m \u001b[32m━━━━━━━━━━━━━━━━━━━━\u001b[0m\u001b[37m\u001b[0m \u001b[1m0s\u001b[0m 5ms/step - accuracy: 0.9138 - loss: 0.2172 - val_accuracy: 0.8625 - val_loss: 0.3099\n",
            "Epoch 27/30\n",
            "\u001b[1m23/23\u001b[0m \u001b[32m━━━━━━━━━━━━━━━━━━━━\u001b[0m\u001b[37m\u001b[0m \u001b[1m0s\u001b[0m 5ms/step - accuracy: 0.9257 - loss: 0.1913 - val_accuracy: 0.8750 - val_loss: 0.3137\n",
            "Epoch 28/30\n",
            "\u001b[1m23/23\u001b[0m \u001b[32m━━━━━━━━━━━━━━━━━━━━\u001b[0m\u001b[37m\u001b[0m \u001b[1m0s\u001b[0m 6ms/step - accuracy: 0.9222 - loss: 0.1912 - val_accuracy: 0.9000 - val_loss: 0.3252\n",
            "Epoch 29/30\n",
            "\u001b[1m23/23\u001b[0m \u001b[32m━━━━━━━━━━━━━━━━━━━━\u001b[0m\u001b[37m\u001b[0m \u001b[1m0s\u001b[0m 5ms/step - accuracy: 0.9135 - loss: 0.2245 - val_accuracy: 0.8875 - val_loss: 0.2860\n",
            "Epoch 30/30\n",
            "\u001b[1m23/23\u001b[0m \u001b[32m━━━━━━━━━━━━━━━━━━━━\u001b[0m\u001b[37m\u001b[0m \u001b[1m0s\u001b[0m 8ms/step - accuracy: 0.9274 - loss: 0.1703 - val_accuracy: 0.8875 - val_loss: 0.3310\n"
          ]
        },
        {
          "output_type": "execute_result",
          "data": {
            "text/plain": [
              "<keras.src.callbacks.history.History at 0x79ef249a8710>"
            ]
          },
          "metadata": {},
          "execution_count": 103
        }
      ]
    },
    {
      "cell_type": "code",
      "source": [
        "# 6. Evaluate the model\n",
        "loss, accuracy = model.evaluate(X_test, y_test)\n",
        "print(f\"Improved model test accuracy: {accuracy:.2f}\")\n"
      ],
      "metadata": {
        "id": "vu4IAMqClktf"
      },
      "execution_count": null,
      "outputs": []
    },
    {
      "cell_type": "markdown",
      "source": [
        "Visualizing the training process helps you understand if the model is overfitting, underfitting, or training well.\n",
        "\n",
        "Here’s how you can plot training and validation loss/accuracy curves using Matplotlib after training your Keras model."
      ],
      "metadata": {
        "id": "pT1aT1u1n-tg"
      }
    },
    {
      "cell_type": "code",
      "source": [
        "import matplotlib.pyplot as plt\n",
        "import tensorflow as tf\n",
        "from sklearn.datasets import make_classification\n",
        "from sklearn.model_selection import train_test_split\n",
        "from sklearn.preprocessing import StandardScaler"
      ],
      "metadata": {
        "id": "VA1_lTNVfRTa"
      },
      "execution_count": null,
      "outputs": []
    },
    {
      "cell_type": "code",
      "source": [
        "# 1. Generate a dataset\n",
        "X, y = make_classification(n_samples=1000, n_features=20, n_classes=2, random_state=42)\n",
        "X_train, X_test, y_train, y_test = train_test_split(X, y, test_size=0.2, random_state=42)\n",
        "# 2. Normalize the data\n",
        "scaler = StandardScaler()\n",
        "X_train = scaler.fit_transform(X_train)\n",
        "X_test = scaler.transform(X_test)\n",
        "\n",
        "# 3. Build a deeper neural network\n",
        "model = tf.keras.Sequential([\n",
        "    tf.keras.layers.Dense(128, activation='relu', input_shape=(X_train.shape[1],)),\n",
        "    tf.keras.layers.Dropout(0.3),\n",
        "    tf.keras.layers.Dense(64, activation='relu'),\n",
        "    tf.keras.layers.Dropout(0.3),\n",
        "    tf.keras.layers.Dense(32, activation='relu'),\n",
        "    tf.keras.layers.Dense(16, activation='relu'),\n",
        "    tf.keras.layers.Dense(1, activation='sigmoid')\n",
        "])"
      ],
      "metadata": {
        "id": "7ZwEzVSefQ7N"
      },
      "execution_count": null,
      "outputs": []
    },
    {
      "cell_type": "code",
      "source": [
        "# 4. Compile the model\n",
        "model.compile(optimizer='adam',\n",
        "              loss='binary_crossentropy',\n",
        "              metrics=['accuracy'])"
      ],
      "metadata": {
        "id": "bfaSBKhRfQf3"
      },
      "execution_count": null,
      "outputs": []
    },
    {
      "cell_type": "code",
      "source": [
        "# Train the model and save the training history\n",
        "history = model.fit(X_train, y_train, epochs=30, batch_size=32, validation_split=0.1)\n",
        "\n",
        "# Plot training & validation accuracy values\n",
        "plt.figure(figsize=(12, 5))"
      ],
      "metadata": {
        "id": "Ggzs9YFUgPtc"
      },
      "execution_count": null,
      "outputs": []
    },
    {
      "cell_type": "code",
      "source": [
        "# 4. Compile the model\n",
        "model.compile(optimizer='adam',\n",
        "              loss='binary_crossentropy',\n",
        "              metrics=['accuracy'])"
      ],
      "metadata": {
        "id": "TibhGjB0gdwj"
      },
      "execution_count": null,
      "outputs": []
    },
    {
      "cell_type": "code",
      "source": [
        "# Train the model and save the training history\n",
        "history = model.fit(X_train, y_train, epochs=30, batch_size=32, validation_split=0.1)\n"
      ],
      "metadata": {
        "id": "HlPjGKcxgde1"
      },
      "execution_count": null,
      "outputs": []
    },
    {
      "cell_type": "code",
      "source": [
        "# Plot training & validation accuracy values\n",
        "plt.figure(figsize=(12, 5))\n",
        "\n",
        "# Accuracy plot\n",
        "plt.subplot(1, 2, 1)\n",
        "plt.plot(history.history['accuracy'], label='Train Accuracy')\n",
        "plt.plot(history.history['val_accuracy'], label='Val Accuracy')\n",
        "plt.title('Model Accuracy')\n",
        "plt.xlabel('Epoch')\n",
        "plt.ylabel('Accuracy')\n",
        "plt.legend()\n",
        "\n",
        "# Loss plot\n",
        "plt.subplot(1, 2, 2)\n",
        "plt.plot(history.history['loss'], label='Train Loss')\n",
        "plt.plot(history.history['val_loss'], label='Val Loss')\n",
        "plt.title('Model Loss')\n",
        "plt.xlabel('Epoch')\n",
        "plt.ylabel('Loss')\n",
        "plt.legend()\n",
        "\n",
        "plt.tight_layout()\n",
        "plt.show()"
      ],
      "metadata": {
        "id": "M-t3MAK9oZqA"
      },
      "execution_count": null,
      "outputs": []
    },
    {
      "cell_type": "markdown",
      "source": [
        " Deep Neural Network Model (Binary Classification)\n",
        "This version includes:\n",
        "Four hidden layers\n",
        "Increased neuron counts\n",
        "Dropout for regularization\n",
        "ReLU for hidden layers, Sigmoid for output (binary)"
      ],
      "metadata": {
        "id": "TVlq20lfpOB9"
      }
    },
    {
      "cell_type": "code",
      "source": [
        "import tensorflow as tf\n",
        "from sklearn.datasets import make_classification\n",
        "from sklearn.model_selection import train_test_split\n",
        "from sklearn.preprocessing import StandardScaler\n",
        "import matplotlib.pyplot as plt\n",
        "\n",
        "# 1. Generate a dataset\n",
        "X, y = make_classification(n_samples=1000, n_features=20, n_classes=2, random_state=42)\n",
        "X_train, X_test, y_train, y_test = train_test_split(X, y, test_size=0.2, random_state=42)\n",
        "\n",
        "# 2. Normalize the data\n",
        "scaler = StandardScaler()\n",
        "X_train = scaler.fit_transform(X_train)\n",
        "X_test = scaler.transform(X_test)\n",
        "\n",
        "# 3. Build a deeper neural network\n",
        "model = tf.keras.Sequential([\n",
        "    tf.keras.layers.Dense(128, activation='relu', input_shape=(X_train.shape[1],)),\n",
        "    tf.keras.layers.Dropout(0.3),\n",
        "    tf.keras.layers.Dense(64, activation='relu'),\n",
        "    tf.keras.layers.Dropout(0.3),\n",
        "    tf.keras.layers.Dense(32, activation='relu'),\n",
        "    tf.keras.layers.Dense(16, activation='relu'),\n",
        "    tf.keras.layers.Dense(1, activation='sigmoid')\n",
        "])\n",
        "\n",
        "# 4. Compile the model\n",
        "model.compile(optimizer='adam',\n",
        "              loss='binary_crossentropy',\n",
        "              metrics=['accuracy'])\n",
        "\n",
        "# 5. Train the model and store history\n",
        "history = model.fit(X_train, y_train, epochs=40, batch_size=32, validation_split=0.1)\n",
        "\n",
        "# 6. Evaluate the model\n",
        "loss, accuracy = model.evaluate(X_test, y_test)\n",
        "print(f\"Test Accuracy: {accuracy:.2f}\")\n",
        "\n",
        "# 7. Plot training and validation accuracy and loss\n",
        "plt.figure(figsize=(12, 5))\n",
        "\n",
        "# Accuracy plot\n",
        "plt.subplot(1, 2, 1)\n",
        "plt.plot(history.history['accuracy'], label='Train Accuracy')\n",
        "plt.plot(history.history['val_accuracy'], label='Validation Accuracy')\n",
        "plt.title('Training and Validation Accuracy')\n",
        "plt.xlabel('Epoch')\n",
        "plt.ylabel('Accuracy')\n",
        "plt.legend()\n",
        "\n",
        "# Loss plot\n",
        "plt.subplot(1, 2, 2)\n",
        "plt.plot(history.history['loss'], label='Train Loss')\n",
        "plt.plot(history.history['val_loss'], label='Validation Loss')\n",
        "plt.title('Training and Validation Loss')\n",
        "plt.xlabel('Epoch')\n",
        "plt.ylabel('Loss')\n",
        "plt.legend()\n",
        "\n",
        "plt.tight_layout()\n",
        "plt.show()\n"
      ],
      "metadata": {
        "id": "fxFk8wWtpTHL"
      },
      "execution_count": null,
      "outputs": []
    },
    {
      "cell_type": "markdown",
      "source": [
        "Updated Training with 100 Epochs"
      ],
      "metadata": {
        "id": "OFTNX1mip3re"
      }
    },
    {
      "cell_type": "markdown",
      "source": [
        " Train the model and store history"
      ],
      "metadata": {
        "id": "8R56nGgEquq2"
      }
    },
    {
      "cell_type": "code",
      "source": [
        "# Old:\n",
        "#history = model.fit(X_train, y_train, epochs=40, batch_size=32, validation_split=0.1)\n",
        "\n",
        "# New:\n",
        "history = model.fit(X_train, y_train, epochs=100, batch_size=32, validation_split=0.1)\n"
      ],
      "metadata": {
        "id": "5_nA6hQqrJBU"
      },
      "execution_count": null,
      "outputs": []
    },
    {
      "cell_type": "markdown",
      "source": [
        "How to change the optimizer in your model"
      ],
      "metadata": {
        "id": "I2sS625LsKjS"
      }
    },
    {
      "cell_type": "code",
      "source": [
        "# Using SGD (Stochastic Gradient Descent)\n",
        "model.compile(optimizer=tf.keras.optimizers.SGD(learning_rate=0.01),\n",
        "              loss='binary_crossentropy',\n",
        "              metrics=['accuracy'])\n",
        "\n",
        "# OR using RMSprop\n",
        "model.compile(optimizer=tf.keras.optimizers.RMSprop(learning_rate=0.001),\n",
        "              loss='binary_crossentropy',\n",
        "              metrics=['accuracy'])\n",
        "\n",
        "# OR using Adam (default from previous examples)\n",
        "model.compile(optimizer=tf.keras.optimizers.Adam(learning_rate=0.001),\n",
        "              loss='binary_crossentropy',\n",
        "              metrics=['accuracy'])\n"
      ],
      "metadata": {
        "id": "HXwGHjC2sMkw"
      },
      "execution_count": null,
      "outputs": []
    },
    {
      "cell_type": "markdown",
      "source": [
        "Visualize results"
      ],
      "metadata": {
        "id": "vfSxZnwhsYCQ"
      }
    },
    {
      "cell_type": "markdown",
      "source": [
        "Visualize the Decision Boundary"
      ],
      "metadata": {
        "id": "A_LrNf9asnm_"
      }
    },
    {
      "cell_type": "markdown",
      "source": [
        "Implement a function plot_decision_boundary() to visualize model predictions.\n",
        " function plot_decision_boundary() that:\n",
        "Takes a model, feature matrix X (2D), and labels y\n",
        "Plots the data points colored by class\n",
        "Shows the model's decision boundary by predicting over a grid of points\n",
        "Note:\n",
        "The function assumes your data has 2 features (2D) — if you want to visualize higher dimensions, you'll need dimensionality reduction first."
      ],
      "metadata": {
        "id": "Y8nl4Mths3Vp"
      }
    },
    {
      "cell_type": "markdown",
      "source": [
        "plot_decision_boundary() function:\n",
        "Train multiple models on the same 2D dataset\n",
        "Plot their decision boundaries in subplots for easy comparison:"
      ],
      "metadata": {
        "id": "-1GuMjEyt0xq"
      }
    },
    {
      "cell_type": "code",
      "source": [
        "import numpy as np\n",
        "import matplotlib.pyplot as plt\n",
        "from sklearn.datasets import make_blobs\n",
        "from sklearn.preprocessing import StandardScaler\n",
        "import tensorflow as tf\n",
        "from sklearn.linear_model import LogisticRegression"
      ],
      "metadata": {
        "id": "aeoc9DyWmMp8"
      },
      "execution_count": null,
      "outputs": []
    },
    {
      "cell_type": "code",
      "source": [
        "# Generate 2D binary classification dataset\n",
        "X, y = make_blobs(n_samples=500, centers=2, cluster_std=1.5, random_state=42)\n"
      ],
      "metadata": {
        "id": "ExvK3B7UmSx2"
      },
      "execution_count": null,
      "outputs": []
    },
    {
      "cell_type": "code",
      "source": [
        "# Scale features\n",
        "scaler = StandardScaler()\n",
        "X_scaled = scaler.fit_transform(X)"
      ],
      "metadata": {
        "id": "DeUQe4rImStX"
      },
      "execution_count": null,
      "outputs": []
    },
    {
      "cell_type": "code",
      "source": [
        "# Define plot_decision_boundary function (from earlier)\n",
        "def plot_decision_boundary(model, X, y, ax, title=\"Decision Boundary\", scaler=None):\n",
        "    x_min, x_max = X[:, 0].min() - 1, X[:, 0].max() + 1\n",
        "    y_min, y_max = X[:, 1].min() - 1, X[:, 1].max() + 1\n",
        "    xx, yy = np.meshgrid(np.arange(x_min, x_max, 0.01),\n",
        "                         np.arange(y_min, y_max, 0.01))\n",
        "    grid = np.c_[xx.ravel(), yy.ravel()]\n",
        "\n",
        "    if scaler:\n",
        "        grid_scaled = scaler.transform(grid)\n",
        "    else:\n",
        "        grid_scaled = grid\n",
        "\n",
        "    # Predict with model\n",
        "    if isinstance(model, tf.keras.Model):\n",
        "        preds = model.predict(grid_scaled)\n",
        "        preds = (preds > 0.5).astype(int).flatten()\n",
        "    else:\n",
        "        preds = model.predict(grid_scaled)\n",
        "\n",
        "    Z = preds.reshape(xx.shape)\n",
        "\n",
        "    ax.contourf(xx, yy, Z, alpha=0.3, cmap=plt.cm.Paired)\n",
        "    ax.scatter(X[:, 0], X[:, 1], c=y, cmap=plt.cm.Paired, edgecolor='k', s=30)\n",
        "    ax.set_title(title)\n",
        "    ax.set_xlabel(\"Feature 1\")\n",
        "    ax.set_ylabel(\"Feature 2\")"
      ],
      "metadata": {
        "id": "ON6WugJYmSrw"
      },
      "execution_count": null,
      "outputs": []
    },
    {
      "cell_type": "code",
      "source": [
        "# Define plot_decision_boundary function (from earlier)\n",
        "def plot_decision_boundary(model, X, y, ax, title=\"Decision Boundary\", scaler=None):\n",
        "    x_min, x_max = X[:, 0].min() - 1, X[:, 0].max() + 1\n",
        "    y_min, y_max = X[:, 1].min() - 1, X[:, 1].max() + 1\n",
        "    xx, yy = np.meshgrid(np.arange(x_min, x_max, 0.01),\n",
        "                         np.arange(y_min, y_max, 0.01))\n",
        "    grid = np.c_[xx.ravel(), yy.ravel()]\n",
        "\n",
        "    if scaler:\n",
        "        grid_scaled = scaler.transform(grid)\n",
        "    else:\n",
        "        grid_scaled = grid\n",
        "\n",
        "    # Predict with model\n",
        "    if isinstance(model, tf.keras.Model):\n",
        "        preds = model.predict(grid_scaled)\n",
        "        preds = (preds > 0.5).astype(int).flatten()\n",
        "    else:\n",
        "        preds = model.predict(grid_scaled)\n",
        "\n",
        "    Z = preds.reshape(xx.shape)\n",
        "\n",
        "    ax.contourf(xx, yy, Z, alpha=0.3, cmap=plt.cm.Paired)\n",
        "    ax.scatter(X[:, 0], X[:, 1], c=y, cmap=plt.cm.Paired, edgecolor='k', s=30)\n",
        "    ax.set_title(title)\n",
        "    ax.set_xlabel(\"Feature 1\")\n",
        "    ax.set_ylabel(\"Feature 2\")\n"
      ],
      "metadata": {
        "id": "Q_5DtjeDoRsc"
      },
      "execution_count": null,
      "outputs": []
    },
    {
      "cell_type": "code",
      "source": [
        "# --- Train models ---\n",
        "\n",
        "# 1. Logistic Regression\n",
        "log_reg = LogisticRegression()\n",
        "log_reg.fit(X_scaled, y)"
      ],
      "metadata": {
        "id": "unPFQCMPoRZb"
      },
      "execution_count": null,
      "outputs": []
    },
    {
      "cell_type": "code",
      "source": [
        "# 2. Simple Neural Network\n",
        "simple_nn = tf.keras.Sequential([\n",
        "    tf.keras.layers.Dense(8, activation='relu', input_shape=(2,)),\n",
        "    tf.keras.layers.Dense(1, activation='sigmoid')\n",
        "])\n",
        "simple_nn.compile(optimizer='adam', loss='binary_crossentropy', metrics=['accuracy'])\n",
        "simple_nn.fit(X_scaled, y, epochs=50, verbose=0)"
      ],
      "metadata": {
        "id": "mIN4kNvLoRDU"
      },
      "execution_count": null,
      "outputs": []
    },
    {
      "cell_type": "code",
      "source": [
        "# 3. Deep Neural Network\n",
        "deep_nn = tf.keras.Sequential([\n",
        "    tf.keras.layers.Dense(128, activation='relu', input_shape=(2,)),\n",
        "    tf.keras.layers.Dropout(0.3),\n",
        "    tf.keras.layers.Dense(64, activation='relu'),\n",
        "    tf.keras.layers.Dense(32, activation='relu'),\n",
        "    tf.keras.layers.Dense(1, activation='sigmoid')\n",
        "])\n",
        "deep_nn.compile(optimizer='adam', loss='binary_crossentropy', metrics=['accuracy'])\n",
        "deep_nn.fit(X_scaled, y, epochs=50, verbose=0)"
      ],
      "metadata": {
        "id": "k0C-BmIko9Dn"
      },
      "execution_count": null,
      "outputs": []
    },
    {
      "cell_type": "code",
      "source": [
        "# --- Plot all decision boundaries ---\n",
        "fig, axs = plt.subplots(1, 3, figsize=(18, 5))\n",
        "\n",
        "plot_decision_boundary(log_reg, X, y, axs[0], \"Logistic Regression\", scaler)\n",
        "plot_decision_boundary(simple_nn, X, y, axs[1], \"Simple NN\", scaler)\n",
        "plot_decision_boundary(deep_nn, X, y, axs[2], \"Deep NN\", scaler)\n",
        "\n",
        "plt.tight_layout()\n",
        "plt.show()\n"
      ],
      "metadata": {
        "id": "Yayk8lq4s7GN"
      },
      "execution_count": null,
      "outputs": []
    },
    {
      "cell_type": "markdown",
      "source": [
        "Full example: Compare 3 models (Logistic Regression, Simple NN, Deep NN)"
      ],
      "metadata": {
        "id": "W1HRXU0BuaNN"
      }
    },
    {
      "cell_type": "markdown",
      "source": [],
      "metadata": {
        "id": "XZkB3t-8tSM8"
      }
    },
    {
      "cell_type": "code",
      "source": [
        "import tensorflow as tf\n",
        "\n",
        "model = tf.keras.Sequential([\n",
        "    tf.keras.layers.Dense(128, activation='relu', input_shape=(20,)),  # Hidden layer with ReLU\n",
        "    tf.keras.layers.Dense(64, activation='relu'),                      # Hidden layer with ReLU\n",
        "    tf.keras.layers.Dense(1, activation='sigmoid')                     # Output layer with Sigmoid (binary classification)\n",
        "])\n"
      ],
      "metadata": {
        "id": "0vPN1W8qv7NT"
      },
      "execution_count": null,
      "outputs": []
    },
    {
      "cell_type": "code",
      "source": [
        "###ReLU (Rectified Linear Unit)\n"
      ],
      "metadata": {
        "id": "ab9OAJirwj0K"
      },
      "execution_count": null,
      "outputs": []
    },
    {
      "cell_type": "code",
      "source": [
        "\n",
        "import numpy as np\n",
        "import matplotlib.pyplot as plt\n",
        "\n",
        "x = np.linspace(-5, 5, 400)\n",
        "relu = np.maximum(0, x)\n",
        "sigmoid = 1 / (1 + np.exp(-x))\n",
        "\n",
        "plt.figure(figsize=(10,4))\n",
        "\n",
        "plt.subplot(1, 2, 1)\n",
        "plt.plot(x, relu, label='ReLU')\n",
        "plt.title(\"ReLU Activation\")\n",
        "plt.grid(True)\n",
        "\n",
        "plt.subplot(1, 2, 2)\n",
        "plt.plot(x, sigmoid, label='Sigmoid', color='orange')\n",
        "plt.title(\"Sigmoid Activation\")\n",
        "plt.grid(True)\n",
        "\n",
        "plt.show()\n"
      ],
      "metadata": {
        "id": "f3tA8QKcyKjo"
      },
      "execution_count": null,
      "outputs": []
    },
    {
      "cell_type": "markdown",
      "source": [
        "include ReLU activation in the hidden layers and Sigmoid activation in the output layer (for binary classification).\n",
        "\n",
        "Example: Neural Network with ReLU + Sigmoid activations"
      ],
      "metadata": {
        "id": "ApMgEOXbxRle"
      }
    },
    {
      "cell_type": "code",
      "source": [
        "import tensorflow as tf\n",
        "\n",
        "model = tf.keras.Sequential([\n",
        "    tf.keras.layers.Dense(128, activation='relu', input_shape=(X_train.shape[1],)),  # Hidden layer with ReLU\n",
        "    tf.keras.layers.Dropout(0.3),\n",
        "    tf.keras.layers.Dense(64, activation='relu'),                                  # Hidden layer with ReLU\n",
        "    tf.keras.layers.Dropout(0.3),\n",
        "    tf.keras.layers.Dense(32, activation='relu'),                                  # Hidden layer with ReLU\n",
        "    tf.keras.layers.Dense(16, activation='relu'),                                  # Hidden layer with ReLU\n",
        "    tf.keras.layers.Dense(1, activation='sigmoid')                                # Output layer with Sigmoid\n",
        "])\n",
        "\n",
        "model.compile(optimizer='adam',\n",
        "              loss='binary_crossentropy',\n",
        "              metrics=['accuracy'])\n"
      ],
      "metadata": {
        "id": "nBk_LMYyxYCK"
      },
      "execution_count": null,
      "outputs": []
    },
    {
      "cell_type": "markdown",
      "source": [
        "All hidden layers use ReLU activation to learn complex features.\n",
        "\n",
        "Output layer uses Sigmoid to output a probability between 0 and 1, perfect for binary classification."
      ],
      "metadata": {
        "id": "kqi8g1fF04V3"
      }
    },
    {
      "cell_type": "markdown",
      "source": [
        "Split Data into Training and Testing Sets\n",
        "\n",
        "Use 80% data for training and 20% for testing."
      ],
      "metadata": {
        "id": "wpVQExdI0-7L"
      }
    },
    {
      "cell_type": "markdown",
      "source": [
        "Step-by-step: 80/20 Train-Test Split\n",
        "If you're working with X and y, just do:"
      ],
      "metadata": {
        "id": "Gf0vQJAh1TtM"
      }
    },
    {
      "cell_type": "code",
      "source": [
        "from sklearn.model_selection import train_test_split\n",
        "\n",
        "# 80% for training, 20% for testing\n",
        "X_train, X_test, y_train, y_test = train_test_split(\n",
        "    X, y, test_size=0.2, random_state=42, stratify=y  # stratify=y preserves class balance\n",
        ")\n"
      ],
      "metadata": {
        "id": "F7a5PlNy0po1"
      },
      "execution_count": null,
      "outputs": []
    },
    {
      "cell_type": "markdown",
      "source": [
        "Complete Code Block to Train the Model"
      ],
      "metadata": {
        "id": "w8zIFuYQ1ne6"
      }
    },
    {
      "cell_type": "code",
      "source": [
        "import tensorflow as tf\n",
        "from sklearn.datasets import make_classification\n",
        "from sklearn.preprocessing import StandardScaler\n",
        "from sklearn.model_selection import train_test_split\n",
        "\n",
        "# 1. Generate synthetic binary classification data\n",
        "X, y = make_classification(n_samples=1000, n_features=20, n_classes=2, random_state=42)\n",
        "\n",
        "# 2. Split data: 80% train, 20% test\n",
        "X_train, X_test, y_train, y_test = train_test_split(\n",
        "    X, y, test_size=0.2, random_state=42, stratify=y\n",
        ")\n",
        "\n",
        "# 3. Normalize the data\n",
        "scaler = StandardScaler()\n",
        "X_train = scaler.fit_transform(X_train)\n",
        "X_test = scaler.transform(X_test)\n",
        "\n",
        "# 4. Define the improved neural network model\n",
        "model = tf.keras.Sequential([\n",
        "    tf.keras.layers.Dense(128, activation='relu', input_shape=(X_train.shape[1],)),\n",
        "    tf.keras.layers.Dropout(0.3),\n",
        "    tf.keras.layers.Dense(64, activation='relu'),\n",
        "    tf.keras.layers.Dropout(0.3),\n",
        "    tf.keras.layers.Dense(32, activation='relu'),\n",
        "    tf.keras.layers.Dense(16, activation='relu'),\n",
        "    tf.keras.layers.Dense(1, activation='sigmoid')  # Binary classification output\n",
        "])\n",
        "\n",
        "# 5. Compile the model\n",
        "model.compile(optimizer='adam',\n",
        "              loss='binary_crossentropy',\n",
        "              metrics=['accuracy'])\n",
        "\n",
        "# 6. Train the model on the 80% training set\n",
        "history = model.fit(X_train, y_train,\n",
        "                    epochs=50,\n",
        "                    batch_size=32,\n",
        "                    validation_split=0.1,  # 10% of training data for validation\n",
        "                    verbose=1)\n"
      ],
      "metadata": {
        "id": "VmMN_Rbl1sSu"
      },
      "execution_count": null,
      "outputs": []
    },
    {
      "cell_type": "markdown",
      "source": [
        "Evaluate model performance on the test set."
      ],
      "metadata": {
        "id": "lT-kAgEH18Rx"
      }
    },
    {
      "cell_type": "markdown",
      "source": [
        "Evaluate the Model on Test Data"
      ],
      "metadata": {
        "id": "64CPbRAj2HBr"
      }
    },
    {
      "cell_type": "code",
      "source": [
        "# Evaluate on 20% test set\n",
        "loss, accuracy = model.evaluate(X_test, y_test, verbose=1)\n",
        "\n",
        "print(f\"\\n✅ Test Accuracy: {accuracy:.2f}\")\n",
        "print(f\"🧮 Test Loss: {loss:.4f}\")\n"
      ],
      "metadata": {
        "id": "AspCqYKn2IQD"
      },
      "execution_count": null,
      "outputs": []
    },
    {
      "cell_type": "markdown",
      "source": [
        "What This Tells You:\n",
        "loss → How well the model performed according to the loss function (binary_crossentropy)\n",
        "\n",
        "accuracy → Percentage of correct predictions on unseen test data"
      ],
      "metadata": {
        "id": "A271-dAR2a8h"
      }
    },
    {
      "cell_type": "code",
      "metadata": {
        "id": "bb4a3fb1"
      },
      "source": [
        "from tensorflow.keras.layers import Dense, Dropout # Import Dropout\n",
        "\n",
        "# Generate the make_circles dataset\n",
        "X_circles, y_circles = make_circles(n_samples=1000, noise=0.03, random_state=42)\n",
        "X_circles = np.array(X_circles).astype(\"float32\")\n",
        "y_circles = np.array(y_circles).astype(\"float32\")\n",
        "\n",
        "# Split the data\n",
        "X_train_circles, X_test_circles, y_train_circles, y_test_circles = train_test_split(\n",
        "    X_circles, y_circles, test_size=0.2, random_state=42, stratify=y_circles\n",
        ")\n",
        "\n",
        "# Scale the data\n",
        "scaler_circles = StandardScaler()\n",
        "X_train_circles = scaler_circles.fit_transform(X_train_circles)\n",
        "X_test_circles = scaler_circles.transform(X_test_circles)\n",
        "\n",
        "# Define the improved neural network model for make_circles with more dropout\n",
        "model_circles = Sequential([\n",
        "    Dense(16, activation='relu', input_shape=(2,)),\n",
        "    Dropout(0.2), # Added dropout\n",
        "    Dense(8, activation='relu'),\n",
        "    Dropout(0.2), # Added dropout\n",
        "    Dense(1, activation='sigmoid')  # Output layer for binary classification\n",
        "])\n",
        "\n",
        "# Compile the model\n",
        "model_circles.compile(loss='binary_crossentropy',\n",
        "                      optimizer='adam',\n",
        "                      metrics=['accuracy'])\n",
        "\n",
        "# Train the model\n",
        "history_circles = model_circles.fit(X_train_circles, y_train_circles,\n",
        "                                    epochs=100,\n",
        "                                    verbose=0,\n",
        "                                    validation_split=0.1)\n",
        "\n",
        "# Evaluate the model\n",
        "loss_circles, accuracy_circles = model_circles.evaluate(X_test_circles, y_test_circles, verbose=0)\n",
        "print(f\"\\nImproved Model Accuracy with Dropout (make_circles): {accuracy_circles * 100:.2f}%\")"
      ],
      "execution_count": null,
      "outputs": []
    },
    {
      "cell_type": "code",
      "metadata": {
        "id": "0d20846c"
      },
      "source": [
        "# Visualize the decision boundary of the improved model on the make_circles dataset\n",
        "fig, ax = plt.subplots(figsize=(6, 6))\n",
        "plot_decision_boundary(model_circles, X_circles, y_circles, ax, \"Improved Model Decision Boundary (make_circles)\", scaler_circles)\n",
        "plt.show()"
      ],
      "execution_count": null,
      "outputs": []
    },
    {
      "cell_type": "code",
      "metadata": {
        "id": "c8c95f97"
      },
      "source": [
        "# Define plot_decision_boundary function\n",
        "def plot_decision_boundary(model, X, y, ax, title=\"Decision Boundary\", scaler=None):\n",
        "    x_min, x_max = X[:, 0].min() - 1, X[:, 0].max() + 1\n",
        "    y_min, y_max = X[:, 1].min() - 1, X[:, 1].max() + 1\n",
        "    xx, yy = np.meshgrid(np.arange(x_min, x_max, 0.01),\n",
        "                         np.arange(y_min, y_max, 0.01))\n",
        "    grid = np.c_[xx.ravel(), yy.ravel()]\n",
        "\n",
        "    if scaler:\n",
        "        grid_scaled = scaler.transform(grid)\n",
        "    else:\n",
        "        grid_scaled = grid\n",
        "\n",
        "    # Predict with model\n",
        "    if isinstance(model, tf.keras.Model):\n",
        "        preds = model.predict(grid_scaled)\n",
        "        preds = (preds > 0.5).astype(int).flatten()\n",
        "    else:\n",
        "        preds = model.predict(grid_scaled)\n",
        "\n",
        "    Z = preds.reshape(xx.shape)\n",
        "\n",
        "    ax.contourf(xx, yy, Z, alpha=0.3, cmap=plt.cm.Paired)\n",
        "    ax.scatter(X[:, 0], X[:, 1], c=y, cmap=plt.cm.Paired, edgecolor='k', s=30)\n",
        "    ax.set_title(title)\n",
        "    ax.set_xlabel(\"Feature 1\")\n",
        "    ax.set_ylabel(\"Feature 2\")"
      ],
      "execution_count": null,
      "outputs": []
    },
    {
      "cell_type": "markdown",
      "source": [
        ". Evaluate and Visualize Final Model Performance"
      ],
      "metadata": {
        "id": "wVvgy_7Z6Qkz"
      }
    },
    {
      "cell_type": "code",
      "source": [
        "# prompt: Evaluate and Visualize Final Model Performance\n",
        "# Check loss and accuracy on the test set.\n",
        "\n",
        "# Evaluate model performance on the test set.\n",
        "# Evaluate the Model on Test Data\n",
        "# Evaluate on 20% test set\n",
        "loss, accuracy = model_circles.evaluate(X_test_circles, y_test_circles, verbose=1)\n",
        "\n",
        "print(f\"\\n✅ Test Accuracy: {accuracy:.2f}\")\n",
        "print(f\"🧮 Test Loss: {loss:.4f}\")"
      ],
      "metadata": {
        "id": "-f5Jn4LK5EA-"
      },
      "execution_count": null,
      "outputs": []
    },
    {
      "cell_type": "markdown",
      "metadata": {
        "id": "d5d7760d"
      },
      "source": [
        "# Task\n",
        "Compare the performance of the basic model and the improved model trained on the `make_circles` dataset by visualizing their decision boundaries on both the training and test data using the `plot_decision_boundary()` function. Analyze the differences in the decision boundaries and relate them to the models' performance."
      ]
    },
    {
      "cell_type": "markdown",
      "metadata": {
        "id": "fabe01d6"
      },
      "source": [
        "## Generate predictions for both models\n",
        "\n",
        "### Subtask:\n",
        "Use the trained basic model and improved model (`model_circles`) to make predictions on both the training and test sets (`X_circles_train`, `y_circles_train`, `X_circles_test`, `y_circles_test`).\n"
      ]
    },
    {
      "cell_type": "markdown",
      "metadata": {
        "id": "c3ffe052"
      },
      "source": [
        "**Reasoning**:\n",
        "The subtask requires making predictions using the trained basic and improved models on both training and test datasets of `make_circles`. This can be achieved by using the `predict` method of the Keras models and applying a threshold to convert probabilities to class labels.\n",
        "\n"
      ]
    },
    {
      "cell_type": "code",
      "metadata": {
        "id": "9c2ecb76"
      },
      "source": [
        "# Make predictions using the basic model\n",
        "y_train_pred_basic = (model.predict(X_train_circles) > 0.5).astype(int).flatten()\n",
        "y_test_pred_basic = (model.predict(X_test_circles) > 0.5).astype(int).flatten()\n",
        "\n",
        "# Make predictions using the improved model (model_circles)\n",
        "y_train_pred_improved = (model_circles.predict(X_train_circles) > 0.5).astype(int).flatten()\n",
        "y_test_pred_improved = (model_circles.predict(X_test_circles) > 0.5).astype(int).flatten()"
      ],
      "execution_count": null,
      "outputs": []
    },
    {
      "cell_type": "markdown",
      "metadata": {
        "id": "c4b4e683"
      },
      "source": [
        "## Visualize decision boundaries\n",
        "\n",
        "### Subtask:\n",
        "Use the `plot_decision_boundary()` function to create subplots visualizing the decision boundaries of both models on both the training and test data.\n"
      ]
    },
    {
      "cell_type": "markdown",
      "metadata": {
        "id": "ab548e43"
      },
      "source": [
        "**Reasoning**:\n",
        "The previous step generated predictions but the current subtask requires visualizing the decision boundaries of the models on the training and test data. I need to create subplots for both training and testing data and use the provided `plot_decision_boundary` function to visualize the decision boundaries for both the basic and improved models.\n",
        "\n"
      ]
    },
    {
      "cell_type": "code",
      "metadata": {
        "id": "6023b148"
      },
      "source": [
        "# Create a figure for visualizing training data decision boundaries\n",
        "fig_train, axs_train = plt.subplots(1, 2, figsize=(12, 6))\n",
        "\n",
        "# Visualize basic model decision boundary on training data\n",
        "plot_decision_boundary(model, X_circles_train, y_circles_train, axs_train[0], \"Basic Model Decision Boundary (Training)\", scaler_circles)\n",
        "\n",
        "# Visualize improved model decision boundary on training data\n",
        "plot_decision_boundary(model_circles, X_circles_train, y_circles_train, axs_train[1], \"Improved Model Decision Boundary (Training)\", scaler_circles)\n",
        "\n",
        "plt.tight_layout()\n",
        "plt.show()\n",
        "\n",
        "# Create a figure for visualizing test data decision boundaries\n",
        "fig_test, axs_test = plt.subplots(1, 2, figsize=(12, 6))\n",
        "\n",
        "# Visualize basic model decision boundary on test data\n",
        "plot_decision_boundary(model, X_circles_test, y_circles_test, axs_test[0], \"Basic Model Decision Boundary (Testing)\", scaler_circles)\n",
        "\n",
        "# Visualize improved model decision boundary on test data\n",
        "plot_decision_boundary(model_circles, X_circles_test, y_circles_test, axs_test[1], \"Improved Model Decision Boundary (Testing)\", scaler_circles)\n",
        "\n",
        "plt.tight_layout()\n",
        "plt.show()"
      ],
      "execution_count": null,
      "outputs": []
    },
    {
      "cell_type": "markdown",
      "metadata": {
        "id": "221d8bd7"
      },
      "source": [
        "**Reasoning**:\n",
        "The previous code failed because the variables `X_circles_train`, `y_circles_train`, `X_circles_test`, and `y_circles_test` were not defined in the current session. Although they were generated in a previous code cell, that cell was not executed in the current runtime. I need to regenerate the `make_circles` dataset and split it into training and testing sets before attempting to plot the decision boundaries.\n",
        "\n"
      ]
    },
    {
      "cell_type": "code",
      "metadata": {
        "id": "rjGhnf67_wcj"
      },
      "source": [
        "from sklearn.model_selection import train_test_split\n",
        "from sklearn.preprocessing import StandardScaler\n",
        "from sklearn.datasets import make_circles\n",
        "import numpy as np\n",
        "import matplotlib.pyplot as plt\n",
        "import tensorflow as tf\n",
        "from tensorflow.keras.models import Sequential\n",
        "from tensorflow.keras.layers import Dense, Dropout\n",
        "\n",
        "# Generate the make_circles dataset\n",
        "X_circles, y_circles = make_circles(n_samples=1000, noise=0.03, random_state=42)\n",
        "X_circles = np.array(X_circles).astype(\"float32\")\n",
        "y_circles = np.array(y_circles).astype(\"float32\")\n",
        "\n",
        "# Split the data\n",
        "X_circles_train, X_circles_test, y_circles_train, y_circles_test = train_test_split(\n",
        "    X_circles, y_circles, test_size=0.2, random_state=42, stratify=y_circles\n",
        ")\n",
        "\n",
        "# Scale the data\n",
        "scaler_circles = StandardScaler()\n",
        "X_circles_train_scaled = scaler_circles.fit_transform(X_circles_train)\n",
        "X_circles_test_scaled = scaler_circles.transform(X_circles_test)\n",
        "\n",
        "# Define the basic neural network model\n",
        "model = Sequential([\n",
        "    Dense(1, activation='sigmoid', input_shape=(2,))\n",
        "])\n",
        "\n",
        "# Compile the basic model\n",
        "model.compile(loss='binary_crossentropy',\n",
        "              optimizer='adam',\n",
        "              metrics=['accuracy'])\n",
        "\n",
        "# Train the basic model\n",
        "model.fit(X_circles_train_scaled, y_circles_train, epochs=100, verbose=0)\n",
        "\n",
        "\n",
        "# Define the improved neural network model for make_circles with more dropout\n",
        "model_circles = Sequential([\n",
        "    Dense(16, activation='relu', input_shape=(2,)),\n",
        "    Dropout(0.2), # Added dropout\n",
        "    Dense(8, activation='relu'),\n",
        "    Dropout(0.2), # Added dropout\n",
        "    Dense(1, activation='sigmoid')  # Output layer for binary classification\n",
        "])\n",
        "\n",
        "# Compile the improved model\n",
        "model_circles.compile(loss='binary_crossentropy',\n",
        "                      optimizer='adam',\n",
        "                      metrics=['accuracy'])\n",
        "\n",
        "# Train the improved model\n",
        "history_circles = model_circles.fit(X_circles_train_scaled, y_circles_train,\n",
        "                                    epochs=100,\n",
        "                                    verbose=0,\n",
        "                                    validation_split=0.1)\n",
        "\n",
        "\n",
        "# Define plot_decision_boundary function\n",
        "def plot_decision_boundary(model, X, y, ax, title=\"Decision Boundary\", scaler=None):\n",
        "    x_min, x_max = X[:, 0].min() - 1, X[:, 0].max() + 1\n",
        "    y_min, y_max = X[:, 1].min() - 1, X[:, 1].max() + 1\n",
        "    xx, yy = np.meshgrid(np.arange(x_min, x_max, 0.01),\n",
        "                         np.arange(y_min, y_max, 0.01))\n",
        "    grid = np.c_[xx.ravel(), yy.ravel()]\n",
        "\n",
        "    if scaler:\n",
        "        grid_scaled = scaler.transform(grid)\n",
        "    else:\n",
        "        grid_scaled = grid\n",
        "\n",
        "    # Predict with model\n",
        "    if isinstance(model, tf.keras.Model):\n",
        "        preds = model.predict(grid_scaled)\n",
        "        preds = (preds > 0.5).astype(int).flatten()\n",
        "    else:\n",
        "        preds = model.predict(grid_scaled)\n",
        "\n",
        "    Z = preds.reshape(xx.shape)\n",
        "\n",
        "    ax.contourf(xx, yy, Z, alpha=0.3, cmap=plt.cm.Paired)\n",
        "    ax.scatter(X[:, 0], X[:, 1], c=y, cmap=plt.cm.Paired, edgecolor='k', s=30)\n",
        "    ax.set_title(title)\n",
        "    ax.set_xlabel(\"Feature 1\")\n",
        "    ax.set_ylabel(\"Feature 2\")\n",
        "\n",
        "\n",
        "# Create a figure for visualizing training data decision boundaries\n",
        "fig_train, axs_train = plt.subplots(1, 2, figsize=(12, 6))\n",
        "\n",
        "# Visualize basic model decision boundary on training data\n",
        "plot_decision_boundary(model, X_circles_train, y_circles_train, axs_train[0], \"Basic Model Decision Boundary (Training)\", scaler_circles)\n",
        "\n",
        "# Visualize improved model decision boundary on training data\n",
        "plot_decision_boundary(model_circles, X_circles_train, y_circles_train, axs_train[1], \"Improved Model Decision Boundary (Training)\", scaler_circles)\n",
        "\n",
        "plt.tight_layout()\n",
        "plt.show()\n",
        "\n",
        "# Create a figure for visualizing test data decision boundaries\n",
        "fig_test, axs_test = plt.subplots(1, 2, figsize=(12, 6))\n",
        "\n",
        "# Visualize basic model decision boundary on test data\n",
        "plot_decision_boundary(model, X_circles_test, y_circles_test, axs_test[0], \"Basic Model Decision Boundary (Testing)\", scaler_circles)\n",
        "\n",
        "# Visualize improved model decision boundary on test data\n",
        "plot_decision_boundary(model_circles, X_circles_test, y_circles_test, axs_test[1], \"Improved Model Decision Boundary (Testing)\", scaler_circles)\n",
        "\n",
        "plt.tight_layout()\n",
        "plt.show()"
      ],
      "execution_count": null,
      "outputs": []
    },
    {
      "cell_type": "markdown",
      "metadata": {
        "id": "2346691e"
      },
      "source": [
        "## Compare and analyze results\n",
        "\n",
        "### Subtask:\n",
        "Discuss the visual differences in the decision boundaries and relate them to the observed performance metrics (accuracy and loss) for both models.\n"
      ]
    },
    {
      "cell_type": "markdown",
      "metadata": {
        "id": "bb83b258"
      },
      "source": [
        "**Reasoning**:\n",
        "Discuss the visual differences in the decision boundaries and relate them to the observed performance metrics (accuracy and loss) for both models based on the generated plots and previously calculated metrics.\n",
        "\n"
      ]
    },
    {
      "cell_type": "code",
      "metadata": {
        "id": "bdba82b6"
      },
      "source": [
        "print(\"Analysis of Decision Boundaries and Model Performance:\")\n",
        "print(\"-\" * 60)\n",
        "\n",
        "# Assuming accuracy and loss for both models on test data are available from previous outputs\n",
        "# Basic model performance (from previous outputs, approximately 49.90% accuracy, loss around 0.7)\n",
        "basic_model_accuracy = 0.4990\n",
        "basic_model_loss = 0.7539\n",
        "\n",
        "# Improved model performance (from previous outputs, approximately 99.50% accuracy, loss around 0.2150)\n",
        "improved_model_accuracy = accuracy_circles\n",
        "improved_model_loss = loss_circles\n",
        "\n",
        "print(f\"Basic Model Performance (Test Data):\")\n",
        "print(f\"  Accuracy: {basic_model_accuracy:.2f}%\")\n",
        "print(f\"  Loss: {basic_model_loss:.4f}\")\n",
        "print(\"\\n\")\n",
        "print(f\"Improved Model Performance (Test Data):\")\n",
        "print(f\"  Accuracy: {improved_model_accuracy * 100:.2f}%\")\n",
        "print(f\"  Loss: {improved_model_loss:.4f}\")\n",
        "print(\"\\n\")\n",
        "\n",
        "print(\"Visual Analysis of Decision Boundaries:\")\n",
        "print(\"-\" * 60)\n",
        "\n",
        "print(\"Basic Model:\")\n",
        "print(\"The decision boundary of the basic model appears to be a straight line.\")\n",
        "print(\"This is expected because the basic model has only one dense layer with a sigmoid activation, which can only learn linear separations.\")\n",
        "print(\"On the 'make_circles' dataset, which is inherently non-linear, a linear boundary is unable to effectively separate the two classes (the inner and outer circles).\")\n",
        "print(f\"This inability to capture the non-linear pattern is reflected in the low test accuracy ({basic_model_accuracy:.2f}%) and high test loss ({basic_model_loss:.4f}) of the basic model.\")\n",
        "\n",
        "print(\"\\nImproved Model:\")\n",
        "print(\"The decision boundary of the improved model is clearly non-linear.\")\n",
        "print(\"It forms a circular shape that closely follows the structure of the 'make_circles' dataset, effectively separating the inner and outer circles.\")\n",
        "print(\"This non-linear boundary is achieved by the addition of hidden layers with ReLU activation, allowing the model to learn more complex patterns.\")\n",
        "print(f\"The ability of the improved model to learn this non-linear boundary directly translates to its high test accuracy ({improved_model_accuracy * 100:.2f}%) and low test loss ({improved_model_loss:.4f}).\")\n",
        "\n",
        "print(\"\\nOverfitting/Underfitting Analysis:\")\n",
        "print(\"-\" * 60)\n",
        "print(\"Basic Model:\")\n",
        "print(\"The basic model shows significant underfitting. Its performance is poor on both training and test data because its capacity is too low to learn the underlying non-linear pattern.\")\n",
        "print(\"The linear decision boundary is a clear indicator of underfitting on this dataset.\")\n",
        "\n",
        "print(\"\\nImproved Model:\")\n",
        "print(\"The improved model achieves very high accuracy on both training and test data, and the decision boundary visually fits the data well.\")\n",
        "print(\"While the training accuracy is very high, the validation loss and test loss are relatively low, suggesting that the model is not severely overfitting.\")\n",
        "print(\"The use of Dropout layers likely helps in preventing overfitting to some extent.\")\n",
        "print(\"Based on the performance metrics and the decision boundary visualization, the improved model appears to be a good fit for the 'make_circles' dataset.\")"
      ],
      "execution_count": null,
      "outputs": []
    },
    {
      "cell_type": "markdown",
      "metadata": {
        "id": "5a73dd43"
      },
      "source": [
        "## Summary:\n",
        "\n",
        "### What was learned from the data Analysis\n",
        "\n",
        "*   The basic model's decision boundary is a straight line, which is inadequate for the non-linear `make_circles` dataset. This resulted in low test accuracy (49.90%) and high test loss (0.7539).\n",
        "*   The improved model's decision boundary is non-linear and circular, effectively separating the classes in the `make_circles` dataset. This led to significantly higher test accuracy (99.50%) and lower test loss (0.2150).\n",
        "*   The basic model suffers from significant underfitting due to its inability to capture the non-linear pattern.\n",
        "*   The improved model fits the data well and does not appear to be severely overfitting, likely due to its architecture and the inclusion of dropout layers.\n",
        "\n",
        "### The importance of visualisation, right model choice, and optimization\n",
        "\n",
        "*   The visualization of decision boundaries provides a clear understanding of why models perform differently on specific datasets, especially highlighting the need for non-linear models on non-linearly separable data.\n",
        "*   For future model development, visualizing decision boundaries should be a standard step to diagnose issues like underfitting or to confirm that the model is learning appropriate patterns for the given data distribution.\n"
      ]
    },
    {
      "cell_type": "code",
      "metadata": {
        "colab": {
          "base_uri": "https://localhost:8080/",
          "height": 344
        },
        "id": "2212ed6d",
        "outputId": "db7d10af-5764-41c0-8c7e-f340394ea0c8"
      },
      "source": [
        "import tensorflow as tf\n",
        "import numpy as np\n",
        "import matplotlib.pyplot as plt\n",
        "from sklearn.datasets import make_circles\n",
        "from sklearn.model_selection import train_test_split\n",
        "from sklearn.preprocessing import StandardScaler\n",
        "from tensorflow.keras.models import Sequential\n",
        "from tensorflow.keras.layers import Dense, Dropout\n",
        "\n",
        "# Define a neural network model for the make_circles dataset\n",
        "model_circles_again = tf.keras.Sequential([\n",
        "    tf.keras.layers.Dense(16, activation='relu', input_shape=(2,)),\n",
        "    tf.keras.layers.Dropout(0.2),\n",
        "    tf.keras.layers.Dense(8, activation='relu'),\n",
        "    tf.keras.layers.Dropout(0.2),\n",
        "    tf.keras.layers.Dense(1, activation='sigmoid')  # Output layer for binary classification\n",
        "])\n",
        "\n",
        "# Compile the model\n",
        "model_circles_again.compile(loss='binary_crossentropy',\n",
        "                            optimizer='adam',\n",
        "                            metrics=['accuracy'])\n",
        "\n",
        "model_circles_again.summary()"
      ],
      "execution_count": 111,
      "outputs": [
        {
          "output_type": "stream",
          "name": "stderr",
          "text": [
            "/usr/local/lib/python3.11/dist-packages/keras/src/layers/core/dense.py:87: UserWarning: Do not pass an `input_shape`/`input_dim` argument to a layer. When using Sequential models, prefer using an `Input(shape)` object as the first layer in the model instead.\n",
            "  super().__init__(activity_regularizer=activity_regularizer, **kwargs)\n"
          ]
        },
        {
          "output_type": "display_data",
          "data": {
            "text/plain": [
              "\u001b[1mModel: \"sequential_34\"\u001b[0m\n"
            ],
            "text/html": [
              "<pre style=\"white-space:pre;overflow-x:auto;line-height:normal;font-family:Menlo,'DejaVu Sans Mono',consolas,'Courier New',monospace\"><span style=\"font-weight: bold\">Model: \"sequential_34\"</span>\n",
              "</pre>\n"
            ]
          },
          "metadata": {}
        },
        {
          "output_type": "display_data",
          "data": {
            "text/plain": [
              "┏━━━━━━━━━━━━━━━━━━━━━━━━━━━━━━━━━┳━━━━━━━━━━━━━━━━━━━━━━━━┳━━━━━━━━━━━━━━━┓\n",
              "┃\u001b[1m \u001b[0m\u001b[1mLayer (type)                   \u001b[0m\u001b[1m \u001b[0m┃\u001b[1m \u001b[0m\u001b[1mOutput Shape          \u001b[0m\u001b[1m \u001b[0m┃\u001b[1m \u001b[0m\u001b[1m      Param #\u001b[0m\u001b[1m \u001b[0m┃\n",
              "┡━━━━━━━━━━━━━━━━━━━━━━━━━━━━━━━━━╇━━━━━━━━━━━━━━━━━━━━━━━━╇━━━━━━━━━━━━━━━┩\n",
              "│ dense_107 (\u001b[38;5;33mDense\u001b[0m)               │ (\u001b[38;5;45mNone\u001b[0m, \u001b[38;5;34m16\u001b[0m)             │            \u001b[38;5;34m48\u001b[0m │\n",
              "├─────────────────────────────────┼────────────────────────┼───────────────┤\n",
              "│ dropout_36 (\u001b[38;5;33mDropout\u001b[0m)            │ (\u001b[38;5;45mNone\u001b[0m, \u001b[38;5;34m16\u001b[0m)             │             \u001b[38;5;34m0\u001b[0m │\n",
              "├─────────────────────────────────┼────────────────────────┼───────────────┤\n",
              "│ dense_108 (\u001b[38;5;33mDense\u001b[0m)               │ (\u001b[38;5;45mNone\u001b[0m, \u001b[38;5;34m8\u001b[0m)              │           \u001b[38;5;34m136\u001b[0m │\n",
              "├─────────────────────────────────┼────────────────────────┼───────────────┤\n",
              "│ dropout_37 (\u001b[38;5;33mDropout\u001b[0m)            │ (\u001b[38;5;45mNone\u001b[0m, \u001b[38;5;34m8\u001b[0m)              │             \u001b[38;5;34m0\u001b[0m │\n",
              "├─────────────────────────────────┼────────────────────────┼───────────────┤\n",
              "│ dense_109 (\u001b[38;5;33mDense\u001b[0m)               │ (\u001b[38;5;45mNone\u001b[0m, \u001b[38;5;34m1\u001b[0m)              │             \u001b[38;5;34m9\u001b[0m │\n",
              "└─────────────────────────────────┴────────────────────────┴───────────────┘\n"
            ],
            "text/html": [
              "<pre style=\"white-space:pre;overflow-x:auto;line-height:normal;font-family:Menlo,'DejaVu Sans Mono',consolas,'Courier New',monospace\">┏━━━━━━━━━━━━━━━━━━━━━━━━━━━━━━━━━┳━━━━━━━━━━━━━━━━━━━━━━━━┳━━━━━━━━━━━━━━━┓\n",
              "┃<span style=\"font-weight: bold\"> Layer (type)                    </span>┃<span style=\"font-weight: bold\"> Output Shape           </span>┃<span style=\"font-weight: bold\">       Param # </span>┃\n",
              "┡━━━━━━━━━━━━━━━━━━━━━━━━━━━━━━━━━╇━━━━━━━━━━━━━━━━━━━━━━━━╇━━━━━━━━━━━━━━━┩\n",
              "│ dense_107 (<span style=\"color: #0087ff; text-decoration-color: #0087ff\">Dense</span>)               │ (<span style=\"color: #00d7ff; text-decoration-color: #00d7ff\">None</span>, <span style=\"color: #00af00; text-decoration-color: #00af00\">16</span>)             │            <span style=\"color: #00af00; text-decoration-color: #00af00\">48</span> │\n",
              "├─────────────────────────────────┼────────────────────────┼───────────────┤\n",
              "│ dropout_36 (<span style=\"color: #0087ff; text-decoration-color: #0087ff\">Dropout</span>)            │ (<span style=\"color: #00d7ff; text-decoration-color: #00d7ff\">None</span>, <span style=\"color: #00af00; text-decoration-color: #00af00\">16</span>)             │             <span style=\"color: #00af00; text-decoration-color: #00af00\">0</span> │\n",
              "├─────────────────────────────────┼────────────────────────┼───────────────┤\n",
              "│ dense_108 (<span style=\"color: #0087ff; text-decoration-color: #0087ff\">Dense</span>)               │ (<span style=\"color: #00d7ff; text-decoration-color: #00d7ff\">None</span>, <span style=\"color: #00af00; text-decoration-color: #00af00\">8</span>)              │           <span style=\"color: #00af00; text-decoration-color: #00af00\">136</span> │\n",
              "├─────────────────────────────────┼────────────────────────┼───────────────┤\n",
              "│ dropout_37 (<span style=\"color: #0087ff; text-decoration-color: #0087ff\">Dropout</span>)            │ (<span style=\"color: #00d7ff; text-decoration-color: #00d7ff\">None</span>, <span style=\"color: #00af00; text-decoration-color: #00af00\">8</span>)              │             <span style=\"color: #00af00; text-decoration-color: #00af00\">0</span> │\n",
              "├─────────────────────────────────┼────────────────────────┼───────────────┤\n",
              "│ dense_109 (<span style=\"color: #0087ff; text-decoration-color: #0087ff\">Dense</span>)               │ (<span style=\"color: #00d7ff; text-decoration-color: #00d7ff\">None</span>, <span style=\"color: #00af00; text-decoration-color: #00af00\">1</span>)              │             <span style=\"color: #00af00; text-decoration-color: #00af00\">9</span> │\n",
              "└─────────────────────────────────┴────────────────────────┴───────────────┘\n",
              "</pre>\n"
            ]
          },
          "metadata": {}
        },
        {
          "output_type": "display_data",
          "data": {
            "text/plain": [
              "\u001b[1m Total params: \u001b[0m\u001b[38;5;34m193\u001b[0m (772.00 B)\n"
            ],
            "text/html": [
              "<pre style=\"white-space:pre;overflow-x:auto;line-height:normal;font-family:Menlo,'DejaVu Sans Mono',consolas,'Courier New',monospace\"><span style=\"font-weight: bold\"> Total params: </span><span style=\"color: #00af00; text-decoration-color: #00af00\">193</span> (772.00 B)\n",
              "</pre>\n"
            ]
          },
          "metadata": {}
        },
        {
          "output_type": "display_data",
          "data": {
            "text/plain": [
              "\u001b[1m Trainable params: \u001b[0m\u001b[38;5;34m193\u001b[0m (772.00 B)\n"
            ],
            "text/html": [
              "<pre style=\"white-space:pre;overflow-x:auto;line-height:normal;font-family:Menlo,'DejaVu Sans Mono',consolas,'Courier New',monospace\"><span style=\"font-weight: bold\"> Trainable params: </span><span style=\"color: #00af00; text-decoration-color: #00af00\">193</span> (772.00 B)\n",
              "</pre>\n"
            ]
          },
          "metadata": {}
        },
        {
          "output_type": "display_data",
          "data": {
            "text/plain": [
              "\u001b[1m Non-trainable params: \u001b[0m\u001b[38;5;34m0\u001b[0m (0.00 B)\n"
            ],
            "text/html": [
              "<pre style=\"white-space:pre;overflow-x:auto;line-height:normal;font-family:Menlo,'DejaVu Sans Mono',consolas,'Courier New',monospace\"><span style=\"font-weight: bold\"> Non-trainable params: </span><span style=\"color: #00af00; text-decoration-color: #00af00\">0</span> (0.00 B)\n",
              "</pre>\n"
            ]
          },
          "metadata": {}
        }
      ]
    }
  ]
}