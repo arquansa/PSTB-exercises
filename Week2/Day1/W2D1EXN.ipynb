{
  "nbformat": 4,
  "nbformat_minor": 0,
  "metadata": {
    "colab": {
      "provenance": [],
      "authorship_tag": "ABX9TyOoFijttVx01fzGvyB6Y9bQ",
      "include_colab_link": true
    },
    "kernelspec": {
      "name": "python3",
      "display_name": "Python 3"
    },
    "language_info": {
      "name": "python"
    }
  },
  "cells": [
    {
      "cell_type": "markdown",
      "metadata": {
        "id": "view-in-github",
        "colab_type": "text"
      },
      "source": [
        "<a href=\"https://colab.research.google.com/github/arquansa/PSTB-exercises/blob/main/Week2/Day1/W2D1EXN.ipynb\" target=\"_parent\"><img src=\"https://colab.research.google.com/assets/colab-badge.svg\" alt=\"Open In Colab\"/></a>"
      ]
    },
    {
      "cell_type": "markdown",
      "source": [
        "Exercises XP Ninja\n",
        "Last Updated: December 31st, 2024\n",
        "\n",
        "👩‍🏫 👩🏿‍🏫 What You’ll learn\n",
        "Understanding and analyzing the outcomes of different Python expressions and built-in functions.\n",
        "Enhancing your ability to predict the behavior of boolean expressions and value comparisons in Python.\n",
        "Developing skills in string manipulation and text analysis.\n",
        "Learning how to engage with user input to create dynamic, interactive Python scripts.\n",
        "Applying concepts of text processing to perform detailed textual analysis and statistics.\n",
        "\n",
        "\n",
        "🛠️ What you will create\n",
        "A program to predict and understand complex Python outputs involving boolean and comparison operators.\n",
        "An interactive script that challenges users to create the longest sentences without using a specific character and provides real-time feedback.\n",
        "A detailed textual analysis tool that computes various metrics about a given paragraph, such as word count, sentence count, unique word count, and more, providing insights into basic natural language processing.\n",
        "\n",
        "\n",
        "Exercise 1 : Outputs\n",
        "Predict the output of the following code snippets:\n",
        "\n",
        "\n",
        "\n",
        ">>> 3 <= 3 < 9\n",
        "\n",
        ">>> 3 == 3 == 3\n",
        "\n",
        ">>> bool(0)\n",
        "\n",
        ">>> bool(5 == \"5\")\n",
        "\n",
        ">>> bool(4 == 4) == bool(\"4\" == \"4\")\n",
        "\n",
        ">>> bool(bool(None))\n",
        "\n",
        "x = (1 == True)\n",
        "y = (1 == False)\n",
        "a = True + 4\n",
        "b = False + 10\n",
        "\n",
        "print(\"x is\", x)\n",
        "print(\"y is\", y)\n",
        "print(\"a:\", a)\n",
        "print(\"b:\", b)\n",
        "\n",
        "\n",
        "Exercise 2 : Longest word without a specific character\n",
        "Keep asking the user to input the longest sentence they can without the character “A”.\n",
        "Each time a user successfully sets a new longest sentence, print a congratulations message.\n",
        "\n",
        "\n",
        "Exercise 3: Working on a paragraph\n",
        "Find an interesting paragraph of text online. (Please keep it appropriate to the social context of our class.)\n",
        "Paste it to your code, and store it in a variable.\n",
        "Let’s analyze the paragraph. Print out a nicely formatted message saying:\n",
        "How many characters it contains (this one is easy…).\n",
        "How many sentences it contains.\n",
        "How many words it contains.\n",
        "How many unique words it contains.\n",
        "Bonus: How many non-whitespace characters it contains.\n",
        "Bonus: The average amount of words per sentence in the paragraph.\n",
        "Bonus: the amount of non-unique words in the paragraph."
      ],
      "metadata": {
        "id": "bee3mtRTEDZi"
      }
    },
    {
      "cell_type": "markdown",
      "source": [
        "**Exercise 1: Predict the Outputs**"
      ],
      "metadata": {
        "id": "oKW1___-Enf4"
      }
    },
    {
      "cell_type": "code",
      "source": [
        "print(3 <= 3 < 9)              # True → (3 <= 3) and (3 < 9)\n",
        "print(3 == 3 == 3)             # True → chained equality: 3 == 3 and 3 == 3\n",
        "print(bool(0))                 # False → 0 is falsy\n",
        "print(bool(5 == \"5\"))          # False → int != str\n",
        "print(bool(4 == 4) == bool(\"4\" == \"4\"))  # True == True → True\n",
        "print(bool(bool(None)))        # False → None is falsy → bool(None) = False → bool(False) = False\n",
        "\n",
        "x = (1 == True)   # True → 1 is equivalent to True in Python\n",
        "y = (1 == False)  # False → 1 != 0\n",
        "a = True + 4      # 1 + 4 = 5\n",
        "b = False + 10    # 0 + 10 = 10\n",
        "\n",
        "print(\"x is\", x)   # True\n",
        "print(\"y is\", y)   # False\n",
        "print(\"a:\", a)     # 5\n",
        "print(\"b:\", b)     # 10\n"
      ],
      "metadata": {
        "colab": {
          "base_uri": "https://localhost:8080/"
        },
        "id": "L8ytogFAEsmc",
        "outputId": "becff1a1-6e24-4880-a171-52c331eee7fe"
      },
      "execution_count": 1,
      "outputs": [
        {
          "output_type": "stream",
          "name": "stdout",
          "text": [
            "True\n",
            "True\n",
            "False\n",
            "False\n",
            "True\n",
            "False\n",
            "x is True\n",
            "y is False\n",
            "a: 5\n",
            "b: 10\n"
          ]
        }
      ]
    },
    {
      "cell_type": "markdown",
      "source": [
        "Exercise 2: Longest Sentence Without the Letter “A”"
      ],
      "metadata": {
        "id": "pMhZJGemEsZI"
      }
    },
    {
      "cell_type": "code",
      "source": [
        "longest = \"\"\n",
        "\n",
        "print(\"Type your best sentence without the letter 'A'.\\n\")\n",
        "\n",
        "while True:\n",
        "    sentence = input(\"Enter a sentence without the letter 'A': \").strip()\n",
        "\n",
        "    # Check for 'A'\n",
        "    if 'a' in sentence.lower():\n",
        "        print(\"❌ Oops! That sentence contains an 'A'. Try again.\")\n",
        "        continue\n",
        "\n",
        "    # If it's a new longest, show message and STOP\n",
        "    if len(sentence) > len(longest):\n",
        "        longest = sentence\n",
        "        print(\"🎉 New record! That's the longest sentence so far!\")\n",
        "        print(\"\\n👋 Game over. That was your winning entry!\")\n",
        "        print(f\"🏆 Longest valid sentence:\\n\\\"{longest}\\\" ({len(longest)} characters)\")\n",
        "        break\n",
        "\n",
        "    # If not the longest, keep going\n",
        "    else:\n",
        "        print(\"👍 Nice, but not longer than the current best.\")\n"
      ],
      "metadata": {
        "colab": {
          "base_uri": "https://localhost:8080/"
        },
        "id": "N0ezXaxYN-Xy",
        "outputId": "3a02c6b9-5b00-49d0-f652-fd6fb81a2809"
      },
      "execution_count": 5,
      "outputs": [
        {
          "output_type": "stream",
          "name": "stdout",
          "text": [
            "Type your best sentence without the letter 'A'.\n",
            "\n",
            "Enter a sentence without the letter 'A': keep going\n",
            "🎉 New record! That's the longest sentence so far!\n",
            "\n",
            "👋 Game over. That was your winning entry!\n",
            "🏆 Longest valid sentence:\n",
            "\"keep going\" (10 characters)\n"
          ]
        }
      ]
    },
    {
      "cell_type": "markdown",
      "source": [
        "** Exercise 3: Paragraph Analysis**\n",
        "\n",
        "Here’s a script that performs full analysis on a paragraph:"
      ],
      "metadata": {
        "id": "_7mcvxk5FVIm"
      }
    },
    {
      "cell_type": "code",
      "source": [
        "# Sample paragraph\n",
        "paragraph = \"\"\"\n",
        "Success is not final, failure is not fatal: It is the courage to continue that counts.\n",
        "Success consists of going from failure to failure without loss of enthusiasm.\n",
        "\"\"\"\n",
        "\n",
        "import string\n",
        "\n",
        "# Remove punctuation for word analysis\n",
        "cleaned = paragraph.translate(str.maketrans('', '', string.punctuation))\n",
        "\n",
        "# Split for analysis\n",
        "sentences = [s for s in paragraph.split('.') if s.strip()]\n",
        "words = cleaned.split()\n",
        "unique_words = set(words)\n",
        "\n",
        "# Outputs\n",
        "print(\"📊 Paragraph Analysis Results:\")\n",
        "print(f\"Total characters (with spaces): {len(paragraph)}\")\n",
        "\n",
        "# ✅ Fixed backslash error\n",
        "non_whitespace = paragraph.replace(\" \", \"\").replace(\"\\n\", \"\")\n",
        "print(f\"Total non-whitespace characters: {len(non_whitespace)}\")\n",
        "\n",
        "print(f\"Total sentences: {len(sentences)}\")\n",
        "print(f\"Total words: {len(words)}\")\n",
        "print(f\"Unique words: {len(unique_words)}\")\n",
        "\n",
        "# Bonus\n",
        "if len(sentences) > 0:\n",
        "    print(f\"Average words per sentence: {len(words) / len(sentences):.2f}\")\n",
        "else:\n",
        "    print(\"No sentences detected.\")\n",
        "\n",
        "non_unique_count = len(words) - len(unique_words)\n",
        "print(f\"Non-unique word count: {non_unique_count}\")\n"
      ],
      "metadata": {
        "colab": {
          "base_uri": "https://localhost:8080/"
        },
        "id": "pb4i6gkGP3CA",
        "outputId": "0bf22b1a-b034-4733-dc53-3766700f9cea"
      },
      "execution_count": 7,
      "outputs": [
        {
          "output_type": "stream",
          "name": "stdout",
          "text": [
            "📊 Paragraph Analysis Results:\n",
            "Total characters (with spaces): 167\n",
            "Total non-whitespace characters: 137\n",
            "Total sentences: 2\n",
            "Total words: 28\n",
            "Unique words: 20\n",
            "Average words per sentence: 14.00\n",
            "Non-unique word count: 8\n"
          ]
        }
      ]
    },
    {
      "cell_type": "markdown",
      "source": [
        " Example Output:"
      ],
      "metadata": {
        "id": "13rwjcMIF8lz"
      }
    },
    {
      "cell_type": "markdown",
      "source": [
        " Summary of Skills Covered\n",
        "\n",
        ""
      ],
      "metadata": {
        "id": "16y0TLHQGWLn"
      }
    },
    {
      "cell_type": "markdown",
      "source": [
        "| Exercise | Topics Practiced                    |\n",
        "| -------- | ----------------------------------- |\n",
        "| 1        | Logic, Booleans, Types              |\n",
        "| 2        | Loops, Conditionals, String methods |\n",
        "| 3        | Text processing, Sets, Lists, Stats |\n"
      ],
      "metadata": {
        "id": "WvPSDHfbEr6Z"
      }
    }
  ]
}