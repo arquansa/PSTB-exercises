{
  "nbformat": 4,
  "nbformat_minor": 0,
  "metadata": {
    "colab": {
      "provenance": [],
      "authorship_tag": "ABX9TyNA4veKg6kEccrKlXLgGi6l",
      "include_colab_link": true
    },
    "kernelspec": {
      "name": "python3",
      "display_name": "Python 3"
    },
    "language_info": {
      "name": "python"
    }
  },
  "cells": [
    {
      "cell_type": "markdown",
      "metadata": {
        "id": "view-in-github",
        "colab_type": "text"
      },
      "source": [
        "<a href=\"https://colab.research.google.com/github/arquansa/PSTB-exercises/blob/main/Week2/Day1/EXG/W2D1EXG.ipynb\" target=\"_parent\"><img src=\"https://colab.research.google.com/assets/colab-badge.svg\" alt=\"Open In Colab\"/></a>"
      ]
    },
    {
      "cell_type": "markdown",
      "source": [
        "Exercises XP Gold\n",
        "Last Updated: May 28th, 2025\n",
        "\n",
        "👩‍🏫 👩🏿‍🏫 What You’ll learn\n",
        "How to utilize control flow with conditions and loops in Python.\n",
        "Implementing and manipulating loops (for and while) for various uses.\n",
        "Gaining proficiency in handling user inputs and providing appropriate outputs.\n",
        "Using Python’s random module to create interactive and randomized outcomes.\n",
        "Developing logic for basic decision-making through programming.\n",
        "\n",
        "\n",
        "🛠️ What you will create\n",
        "A program that determines the season based on user input.\n",
        "Scripts that utilize for loops for specific numerical outputs.\n",
        "A while loop that interacts dynamically with user input.\n",
        "A search mechanism within a list to find and report indices of specific items.\n",
        "A comparison tool to determine the greatest of three numbers input by the user.\n",
        "An interactive game that uses random numbers to compare user guesses and provides ongoing feedback with an option to exit and review scores.\n",
        "\n",
        "\n",
        "Exercise 1: What is the Season?\n",
        "Ask the user to input a month (1 to 12).\n",
        "Display the season of the month received:\n",
        "Spring runs from March (3) to May (5)\n",
        "Summer runs from June (6) to August (8)\n",
        "Autumn runs from September (9) to November (11)\n",
        "Winter runs from December (12) to February (2)\n",
        "\n",
        "Exercise 2: For Loop\n",
        "Key Python Topics:\n",
        "\n",
        "Loops (for)\n",
        "Range and indexing\n",
        "\n",
        "\n",
        "Instructions:\n",
        "\n",
        "Write a for loop to print all numbers from 1 to 20, inclusive.\n",
        "Write another for loop that prints every number from 1 to 20 where the index is even.\n",
        "\n",
        "\n",
        "Exercise 3: While Loop\n",
        "Key Python Topics:\n",
        "\n",
        "Loops (while)\n",
        "Conditionals\n",
        "\n",
        "\n",
        "Instructions:\n",
        "\n",
        "Write a while loop that keeps asking the user to enter their name.\n",
        "Stop the loop if the user’s input is your name.\n",
        "\n",
        "\n",
        "Exercise 4: Check the index\n",
        "Using this variable:\n",
        "\n",
        "names = ['Samus', 'Cortana', 'V', 'Link', 'Mario', 'Cortana', 'Samus']\n",
        "\n",
        "Ask a user for their name, if their name is in the names list print out the index of the first occurrence of the name.\n",
        "\n",
        "Example: if input is Cortana we should be printing the index 1\n",
        "\n",
        "Exercise 5: Greatest Number\n",
        "Ask the user for 3 numbers and print the greatest number.\n",
        "\n",
        "Test Data:\n",
        "\n",
        "Input the 1st number: 25\n",
        "Input the 2nd number: 78\n",
        "Input the 3rd number: 87\n",
        "\n",
        "The greatest number is: 87\n",
        "\n",
        "Exercise 6: Random number\n",
        "Ask the user to input a number from 1 to 9 (including).\n",
        "Get a random number between 1 and 9. Hint: random module.\n",
        "If the user guesses the correct number print a message that says “Winner”.\n",
        "If the user guesses the wrong number print a message that says “Better luck next time.”\n",
        "Bonus: use a loop that allows the user to keep guessing until they want to quit.\n",
        "Bonus 2: on exiting the loop, tally up and display total games won and lost."
      ],
      "metadata": {
        "id": "ytDQUUWXxQVH"
      }
    },
    {
      "cell_type": "markdown",
      "source": [
        "Exercise 1: What is the Season?"
      ],
      "metadata": {
        "id": "oEvgnh35yaS4"
      }
    },
    {
      "cell_type": "code",
      "execution_count": 1,
      "metadata": {
        "colab": {
          "base_uri": "https://localhost:8080/"
        },
        "id": "FjzcNXr_xJBC",
        "outputId": "f2e0cb6d-9e96-420a-f2b3-d405ea28bdf3"
      },
      "outputs": [
        {
          "output_type": "stream",
          "name": "stdout",
          "text": [
            "Enter a month number (1-12): 11\n",
            "It's Autumn 🍂\n"
          ]
        }
      ],
      "source": [
        "# Exercise 1: What is the Season?\n",
        "month = int(input(\"Enter a month number (1-12): \"))\n",
        "\n",
        "if 3 <= month <= 5:\n",
        "    print(\"It's Spring 🌸\")\n",
        "elif 6 <= month <= 8:\n",
        "    print(\"It's Summer ☀️\")\n",
        "elif 9 <= month <= 11:\n",
        "    print(\"It's Autumn 🍂\")\n",
        "elif month == 12 or month <= 2:\n",
        "    print(\"It's Winter ❄️\")\n",
        "else:\n",
        "    print(\"Invalid month.\")\n"
      ]
    },
    {
      "cell_type": "markdown",
      "source": [
        "Exercise 2: For Loop"
      ],
      "metadata": {
        "id": "qtxm0_UYyfUb"
      }
    },
    {
      "cell_type": "code",
      "source": [
        "# Exercise 2.1: Print 1 to 20\n",
        "for i in range(1, 21):\n",
        "    print(i, end=' ')\n",
        "print(\"\\n\")\n",
        "\n",
        "# Exercise 2.2: Print only even index numbers (starting from index 0)\n",
        "for i in range(1, 21):\n",
        "    if i % 2 == 0:\n",
        "        print(i, end=' ')\n",
        "print(\"\\n\")\n"
      ],
      "metadata": {
        "colab": {
          "base_uri": "https://localhost:8080/"
        },
        "id": "8E9jW3Tyyf-3",
        "outputId": "d7a5a508-ca72-42f7-a611-17f59c1594ab"
      },
      "execution_count": 4,
      "outputs": [
        {
          "output_type": "stream",
          "name": "stdout",
          "text": [
            "1 2 3 4 5 6 7 8 9 10 11 12 13 14 15 16 17 18 19 20 \n",
            "\n",
            "2 4 6 8 10 12 14 16 18 20 \n",
            "\n"
          ]
        }
      ]
    },
    {
      "cell_type": "markdown",
      "source": [
        " Exercise 3: While Loop (Name Match)"
      ],
      "metadata": {
        "id": "RGPryJD6yxdv"
      }
    },
    {
      "cell_type": "code",
      "source": [
        "# Exercise 3: While loop to match name\n",
        "my_name = \"Alice\"  # Change this to your actual name\n",
        "while True:\n",
        "    user_input = input(\"Enter your name: \")\n",
        "    if user_input == my_name:\n",
        "        print(\"Hi, we have the same name! 🎉\")\n",
        "        break\n",
        "    else:\n",
        "        print(\"Nope, try again.\")\n"
      ],
      "metadata": {
        "colab": {
          "base_uri": "https://localhost:8080/"
        },
        "id": "MdZp4E54yxPL",
        "outputId": "5110d24c-f6d3-495c-bf80-a6b92882dab7"
      },
      "execution_count": 3,
      "outputs": [
        {
          "output_type": "stream",
          "name": "stdout",
          "text": [
            "Enter your name: Alice\n",
            "Hi, we have the same name! 🎉\n"
          ]
        }
      ]
    },
    {
      "cell_type": "markdown",
      "source": [
        " Exercise 4: Check the Index"
      ],
      "metadata": {
        "id": "x7nLFbzPy8XT"
      }
    },
    {
      "cell_type": "code",
      "source": [
        "# Exercise 4: Search name index\n",
        "names = ['Samus', 'Cortana', 'V', 'Link', 'Mario', 'Cortana', 'Samus']\n",
        "name_input = input(\"Enter a name to search: \")\n",
        "\n",
        "if name_input in names:\n",
        "    print(f\"{name_input} found at index {names.index(name_input)}.\")\n",
        "else:\n",
        "    print(f\"{name_input} is not in the list.\")\n"
      ],
      "metadata": {
        "colab": {
          "base_uri": "https://localhost:8080/"
        },
        "id": "wa2oKCDMy8Dy",
        "outputId": "23ca9f1c-e9fd-44ab-cec6-47e811243396"
      },
      "execution_count": 6,
      "outputs": [
        {
          "output_type": "stream",
          "name": "stdout",
          "text": [
            "Enter a name to search: Mario\n",
            "Mario found at index 4.\n"
          ]
        }
      ]
    },
    {
      "cell_type": "markdown",
      "source": [
        "Exercise 5: Greatest Number"
      ],
      "metadata": {
        "id": "JGe9Qh9JzU0y"
      }
    },
    {
      "cell_type": "code",
      "source": [
        "# Exercise 5: Greatest of three numbers\n",
        "num1 = int(input(\"Enter the 1st number: \"))\n",
        "num2 = int(input(\"Enter the 2nd number: \"))\n",
        "num3 = int(input(\"Enter the 3rd number: \"))\n",
        "\n",
        "greatest = max(num1, num2, num3)\n",
        "print(f\"The greatest number is: {greatest}\")\n"
      ],
      "metadata": {
        "colab": {
          "base_uri": "https://localhost:8080/"
        },
        "id": "9JgaffnPzfu1",
        "outputId": "2132363f-f21f-410b-db51-6574365955fd"
      },
      "execution_count": 7,
      "outputs": [
        {
          "output_type": "stream",
          "name": "stdout",
          "text": [
            "Enter the 1st number: 12\n",
            "Enter the 2nd number: 56\n",
            "Enter the 3rd number: 24\n",
            "The greatest number is: 56\n"
          ]
        }
      ]
    },
    {
      "cell_type": "markdown",
      "source": [
        "Exercise 6: Random Number Game"
      ],
      "metadata": {
        "id": "7glzU3hIzS9O"
      }
    },
    {
      "cell_type": "code",
      "source": [
        "# Exercise 6: Random number guessing game\n",
        "import random\n",
        "\n",
        "wins = 0\n",
        "losses = 0\n",
        "\n",
        "while True:\n",
        "    guess = input(\"Guess a number between 1 and 9 (or type 'quit' to exit): \")\n",
        "\n",
        "    if guess.lower() == 'quit':\n",
        "        break\n",
        "\n",
        "    if not guess.isdigit() or not (1 <= int(guess) <= 9):\n",
        "        print(\"Invalid input. Please enter a number from 1 to 9.\")\n",
        "        continue\n",
        "\n",
        "    guess = int(guess)\n",
        "    random_number = random.randint(1, 9)\n",
        "\n",
        "    if guess == random_number:\n",
        "        print(\"🎉 Winner!\")\n",
        "        wins += 1\n",
        "    else:\n",
        "        print(f\"❌ Better luck next time. The number was {random_number}.\")\n",
        "        losses += 1\n",
        "\n",
        "# Show final score\n",
        "print(f\"\\nGames won: {wins}\")\n",
        "print(f\"Games lost: {losses}\")\n"
      ],
      "metadata": {
        "colab": {
          "base_uri": "https://localhost:8080/"
        },
        "id": "ukfDljoBzSp8",
        "outputId": "8ec25129-e407-4abc-ad3c-d1eff3d1df13"
      },
      "execution_count": 8,
      "outputs": [
        {
          "output_type": "stream",
          "name": "stdout",
          "text": [
            "Guess a number between 1 and 9 (or type 'quit' to exit): 8\n",
            "❌ Better luck next time. The number was 7.\n",
            "Guess a number between 1 and 9 (or type 'quit' to exit): 5\n",
            "❌ Better luck next time. The number was 6.\n",
            "Guess a number between 1 and 9 (or type 'quit' to exit): 3\n",
            "❌ Better luck next time. The number was 8.\n",
            "Guess a number between 1 and 9 (or type 'quit' to exit): 9\n",
            "❌ Better luck next time. The number was 8.\n",
            "Guess a number between 1 and 9 (or type 'quit' to exit): 8\n",
            "❌ Better luck next time. The number was 1.\n",
            "Guess a number between 1 and 9 (or type 'quit' to exit): 2\n",
            "❌ Better luck next time. The number was 1.\n",
            "Guess a number between 1 and 9 (or type 'quit' to exit): 5\n",
            "❌ Better luck next time. The number was 9.\n",
            "Guess a number between 1 and 9 (or type 'quit' to exit): 3\n",
            "❌ Better luck next time. The number was 4.\n",
            "Guess a number between 1 and 9 (or type 'quit' to exit): 4\n",
            "❌ Better luck next time. The number was 2.\n",
            "Guess a number between 1 and 9 (or type 'quit' to exit): 8\n",
            "🎉 Winner!\n",
            "Guess a number between 1 and 9 (or type 'quit' to exit): quit\n",
            "\n",
            "Games won: 1\n",
            "Games lost: 9\n"
          ]
        }
      ]
    },
    {
      "cell_type": "markdown",
      "source": [
        "**Summary of Skills Used**\n",
        "\n",
        "To sum it up, the following skills have been used -\n",
        "\n",
        "- if/elif/else\n",
        "- for and while loops\n",
        "- input() and string methods\n",
        "- max(), random.randint()\n",
        "- Indexing and list operations"
      ],
      "metadata": {
        "id": "paeK_eOrz50J"
      }
    }
  ]
}