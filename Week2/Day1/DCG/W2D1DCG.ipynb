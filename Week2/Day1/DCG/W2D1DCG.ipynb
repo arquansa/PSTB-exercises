{
  "nbformat": 4,
  "nbformat_minor": 0,
  "metadata": {
    "colab": {
      "provenance": [],
      "authorship_tag": "ABX9TyMMAXAXn655+W8bFgk0Hqjm",
      "include_colab_link": true
    },
    "kernelspec": {
      "name": "python3",
      "display_name": "Python 3"
    },
    "language_info": {
      "name": "python"
    }
  },
  "cells": [
    {
      "cell_type": "markdown",
      "metadata": {
        "id": "view-in-github",
        "colab_type": "text"
      },
      "source": [
        "<a href=\"https://colab.research.google.com/github/arquansa/PSTB-exercises/blob/main/Week2/Day1/DCG/W2D1DCG.ipynb\" target=\"_parent\"><img src=\"https://colab.research.google.com/assets/colab-badge.svg\" alt=\"Open In Colab\"/></a>"
      ]
    },
    {
      "cell_type": "markdown",
      "source": [
        "Taking and parsing date input\n",
        "\n",
        "Calculating age\n",
        "\n",
        "Drawing a fun ASCII cake\n",
        "\n",
        "Using conditionals to check leap years\n",
        "\n",
        "BONUS: Show two cakes if user was born in a leap year"
      ],
      "metadata": {
        "id": "zvGMl8bF5alv"
      }
    },
    {
      "cell_type": "markdown",
      "source": [
        "**Birthday cake Python creation**"
      ],
      "metadata": {
        "id": "OsNjv4wm5rZI"
      }
    },
    {
      "cell_type": "code",
      "source": [
        "from datetime import datetime\n",
        "\n",
        "# 🎂 ASCII Cake Template\n",
        "def draw_cake(candle_count):\n",
        "    candle = 'i' * candle_count\n",
        "    print(f\"       ___{candle}___\")\n",
        "    print(\"      |:H:a:p:p:y:|\")\n",
        "    print(\"    __|___________|__\")\n",
        "    print(\"   |^^^^^^^^^^^^^^^^^|\")\n",
        "    print(\"   |:B:i:r:t:h:d:a:y:|\")\n",
        "    print(\"   |                 |\")\n",
        "    print(\"   ~~~~~~~~~~~~~~~~~~~\")\n",
        "\n",
        "# 🎂 Leap year checker\n",
        "def is_leap_year(year):\n",
        "    return (year % 4 == 0 and year % 100 != 0) or (year % 400 == 0)\n",
        "\n",
        "# 🎂 Get birthdate from user\n",
        "birth_str = input(\"Enter your birthdate (DD/MM/YYYY): \")\n",
        "\n",
        "try:\n",
        "    birthdate = datetime.strptime(birth_str, \"%d/%m/%Y\")\n",
        "    today = datetime.today()\n",
        "    age = today.year - birthdate.year\n",
        "    if (today.month, today.day) < (birthdate.month, birthdate.day):\n",
        "        age -= 1\n",
        "\n",
        "    candle_number = age % 10  # last digit of age\n",
        "    if candle_number == 0:\n",
        "        candle_number = 1  # at least 1 candle for fun\n",
        "\n",
        "    # Check for leap year\n",
        "    if is_leap_year(birthdate.year):\n",
        "        print(\"\\n🎉 You were born in a leap year! Double the cake! 🍰🍰\\n\")\n",
        "        draw_cake(candle_number)\n",
        "        print()\n",
        "        draw_cake(candle_number)\n",
        "    else:\n",
        "        print(\"\\n🎂 Here's your birthday cake!\\n\")\n",
        "        draw_cake(candle_number)\n",
        "\n",
        "except ValueError:\n",
        "    print(\"Invalid date format. Please use DD/MM/YYYY.\")\n"
      ],
      "metadata": {
        "colab": {
          "base_uri": "https://localhost:8080/"
        },
        "id": "7gROOQJm5_QV",
        "outputId": "e1608dca-6f7b-4d75-ef2a-c924a604b819"
      },
      "execution_count": 1,
      "outputs": [
        {
          "output_type": "stream",
          "name": "stdout",
          "text": [
            "Enter your birthdate (DD/MM/YYYY): 08/04/2020\n",
            "\n",
            "🎉 You were born in a leap year! Double the cake! 🍰🍰\n",
            "\n",
            "       ___iiiii___\n",
            "      |:H:a:p:p:y:|\n",
            "    __|___________|__\n",
            "   |^^^^^^^^^^^^^^^^^|\n",
            "   |:B:i:r:t:h:d:a:y:|\n",
            "   |                 |\n",
            "   ~~~~~~~~~~~~~~~~~~~\n",
            "\n",
            "       ___iiiii___\n",
            "      |:H:a:p:p:y:|\n",
            "    __|___________|__\n",
            "   |^^^^^^^^^^^^^^^^^|\n",
            "   |:B:i:r:t:h:d:a:y:|\n",
            "   |                 |\n",
            "   ~~~~~~~~~~~~~~~~~~~\n"
          ]
        }
      ]
    },
    {
      "cell_type": "markdown",
      "source": [
        "\n",
        "🧪 Example\n",
        "\n",
        "Input:"
      ],
      "metadata": {
        "id": "hd0CIcMG6bkV"
      }
    },
    {
      "cell_type": "code",
      "source": [
        "birth_str = input(\"Enter your birthdate (DD/MM/YYYY): \")\n"
      ],
      "metadata": {
        "colab": {
          "base_uri": "https://localhost:8080/"
        },
        "id": "eXiCE_UY8SId",
        "outputId": "63453fea-c21e-4611-c5bf-06c6739e9709"
      },
      "execution_count": 6,
      "outputs": [
        {
          "name": "stdout",
          "output_type": "stream",
          "text": [
            "Enter your birthdate (DD/MM/YYYY): 10/03/1992\n"
          ]
        }
      ]
    },
    {
      "cell_type": "markdown",
      "source": [
        "Output:"
      ],
      "metadata": {
        "id": "goCctlYF7c7J"
      }
    },
    {
      "cell_type": "code",
      "source": [
        "🎂 Here's your birthday cake!\n",
        "\n",
        "       ___ii___\n",
        "      |:H:a:p:p:y:|\n",
        "    __|___________|__\n",
        "   |^^^^^^^^^^^^^^^^^|\n",
        "   |:B:i:r:t:h:d:a:y:|\n",
        "   |                 |\n",
        "   ~~~~~~~~~~~~~~~~~~~\n"
      ],
      "metadata": {
        "id": "TeaSucAh7bkr"
      },
      "execution_count": null,
      "outputs": []
    },
    {
      "cell_type": "markdown",
      "source": [
        "💡 Tips:\n",
        "Handles leap year check with is_leap_year(year)\n",
        "\n",
        "If age ends in 0 (like 40), it shows 1 candle for fun\n",
        "\n",
        "Gracefully handles invalid date input\n",
        "\n",
        "Uses datetime to calculate age correctly"
      ],
      "metadata": {
        "id": "ejAyQS3G80H-"
      }
    }
  ]
}