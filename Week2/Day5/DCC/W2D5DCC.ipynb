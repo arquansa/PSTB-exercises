{
  "nbformat": 4,
  "nbformat_minor": 0,
  "metadata": {
    "colab": {
      "provenance": [],
      "authorship_tag": "ABX9TyMcRg5bLtf1e2M74zXbCJtY",
      "include_colab_link": true
    },
    "kernelspec": {
      "name": "python3",
      "display_name": "Python 3"
    },
    "language_info": {
      "name": "python"
    }
  },
  "cells": [
    {
      "cell_type": "markdown",
      "metadata": {
        "id": "view-in-github",
        "colab_type": "text"
      },
      "source": [
        "<a href=\"https://colab.research.google.com/github/arquansa/PSTB-exercises/blob/main/Week2/Day5/DCC/W2D5DCC.ipynb\" target=\"_parent\"><img src=\"https://colab.research.google.com/assets/colab-badge.svg\" alt=\"Open In Colab\"/></a>"
      ]
    },
    {
      "cell_type": "markdown",
      "source": [
        "#Daily challenge: Challenges\n",
        "\n",
        "Last Updated: March 6th, 2025\n",
        "\n",
        "👩‍🏫 👩🏿‍🏫 What You’ll learn\n",
        "Python Basics\n",
        "\n",
        "\n",
        "#Challenge 1 : Sorting\n",
        "\n",
        "\n",
        "Instructions\n",
        "\n",
        "Write a program that accepts a comma separated sequence of words as input and prints the words in a comma-separated sequence after sorting them alphabetically.\n",
        "\n",
        "Use List Comprehension\n",
        "\n",
        "Example:\n",
        "\n",
        "Suppose the following input is supplied to the program: without,hello,bag,world\n",
        "Then, the output should be: bag,hello,without,world\n",
        "\n",
        "\n",
        "\n",
        "#Challenge 2 : Longest Word\n",
        "\n",
        "Instructions\n",
        "\n",
        "Write a function that finds the longest word in a sentence.\n",
        "\n",
        "If two or more words are found, return the first longest word.\n",
        "\n",
        "Characters such as apostrophe, comma, period count as part of the word (e.g. O’Connor is 8 characters long).\n",
        "\n",
        "Examples\n",
        "\n",
        "longest_word(\"Margaret's toy is a pretty doll.\") ➞ \"Margaret's\"\n",
        "\n",
        "longest_word(\"A thing of beauty is a joy forever.\") ➞ \"forever.\"\n",
        "\n",
        "longest_word(\"Forgetfulness is by all means powerless!\") ➞ \"Forgetfulness\""
      ],
      "metadata": {
        "id": "eP87tWmwpz5X"
      }
    },
    {
      "cell_type": "markdown",
      "source": [
        "\n",
        "**Challenge 1 : Sorting**\n",
        "\n",
        "\n",
        "Instructions\n",
        "\n",
        "Write a program that accepts a comma separated sequence of words as input and prints the words in a comma-separated sequence after sorting them alphabetically."
      ],
      "metadata": {
        "id": "P3-XWLNBrfCC"
      }
    },
    {
      "cell_type": "markdown",
      "source": [
        "Accept a comma-separated list of words → sort them alphabetically → return them as a comma-separated string.\n",
        "\n",
        "List comprehension must also be used."
      ],
      "metadata": {
        "id": "iFVTSyd1sOuP"
      }
    },
    {
      "cell_type": "code",
      "execution_count": 2,
      "metadata": {
        "colab": {
          "base_uri": "https://localhost:8080/"
        },
        "id": "q1Gqlgh6pyn5",
        "outputId": "94d01983-76b4-4b71-fa8b-1bdcc494ca69"
      },
      "outputs": [
        {
          "output_type": "stream",
          "name": "stdout",
          "text": [
            "Enter comma-separated words: without,hello,bag,world\n",
            "bag,hello,without,world\n"
          ]
        }
      ],
      "source": [
        "# Input from user\n",
        "input_words = input(\"Enter comma-separated words: \")\n",
        "\n",
        "# Split the input string, sort using list comprehension, and join back\n",
        "sorted_words = \",\".join([word for word in sorted(input_words.split(\",\"))])\n",
        "\n",
        "# Print the result\n",
        "print(sorted_words)\n"
      ]
    },
    {
      "cell_type": "markdown",
      "source": [
        "Challenge 2 : Longest Word\n",
        "Instructions\n",
        "\n",
        "Write a function that finds the longest word in a sentence.\n",
        "\n",
        "If two or more words are found, return the first longest word.\n",
        "\n",
        "Characters such as apostrophe, comma, period count as part of the word (e.g. O’Connor is 8 characters long)."
      ],
      "metadata": {
        "id": "mkDNyfCcrgtT"
      }
    },
    {
      "cell_type": "markdown",
      "source": [
        "**Challenge** 2:\n",
        "Write a function that:\n",
        "\n",
        "- Finds the longest word in a sentence\n",
        "- Returns the first one if there’s a tie\n",
        "- Keeps punctuation (like apostrophes or commas) as part of the word\n",
        "\n"
      ],
      "metadata": {
        "id": "PhrrT_LPtROg"
      }
    },
    {
      "cell_type": "code",
      "source": [
        "def longest_word(sentence):\n",
        "    words = sentence.split()\n",
        "    longest = max(words, key=len)\n",
        "    return longest\n"
      ],
      "metadata": {
        "id": "v5fSjt0EtTFP"
      },
      "execution_count": null,
      "outputs": []
    },
    {
      "cell_type": "markdown",
      "source": [
        "Example"
      ],
      "metadata": {
        "id": "ty4L2wzGuMaU"
      }
    },
    {
      "cell_type": "code",
      "source": [
        "def longest_word(sentence):\n",
        "    words = sentence.split()\n",
        "    longest = max(words, key=len)\n",
        "    return longest\n",
        "s = \"My name is O’Connor, and I love programming.\"\n",
        "print(longest_word(s))"
      ],
      "metadata": {
        "colab": {
          "base_uri": "https://localhost:8080/"
        },
        "id": "xXYztbvSuQbT",
        "outputId": "76d14fb6-a2b0-4bab-ca8a-dcb2e2b3705e"
      },
      "execution_count": 4,
      "outputs": [
        {
          "output_type": "stream",
          "name": "stdout",
          "text": [
            "programming.\n"
          ]
        }
      ]
    },
    {
      "cell_type": "markdown",
      "source": [
        "**How It Works:**\n",
        "\n",
        "sentence.split() splits the sentence into words by spaces.\n",
        "\n",
        "max(words, key=len) finds the word with the maximum length.\n",
        "\n",
        "Python’s max() returns the first longest word if there's a tie."
      ],
      "metadata": {
        "id": "bUp0oo3tussK"
      }
    }
  ]
}