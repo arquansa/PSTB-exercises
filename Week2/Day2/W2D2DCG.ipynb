{
  "nbformat": 4,
  "nbformat_minor": 0,
  "metadata": {
    "colab": {
      "provenance": [],
      "authorship_tag": "ABX9TyMYEKe46ZjMZtJ0i3um2Dha",
      "include_colab_link": true
    },
    "kernelspec": {
      "name": "python3",
      "display_name": "Python 3"
    },
    "language_info": {
      "name": "python"
    }
  },
  "cells": [
    {
      "cell_type": "markdown",
      "metadata": {
        "id": "view-in-github",
        "colab_type": "text"
      },
      "source": [
        "<a href=\"https://colab.research.google.com/github/arquansa/PSTB-exercises/blob/main/Week2/Day2/W2D2DCG.ipynb\" target=\"_parent\"><img src=\"https://colab.research.google.com/assets/colab-badge.svg\" alt=\"Open In Colab\"/></a>"
      ]
    },
    {
      "cell_type": "markdown",
      "source": [
        "DC Gold : Solve The Matrix\n",
        "Last Updated: May 30th, 2025\n",
        "\n",
        "#Daily challenge Gold : Solve the Matrix\n",
        "\n",
        "\n",
        "👩‍🏫 👩🏿‍🏫 What You’ll learn\n",
        "Python Basics\n",
        "Conditionals\n",
        "Loops\n",
        "Functions\n",
        "\n",
        "\n",
        "Instructions\n",
        "Given a “Matrix” string:\n",
        "\n",
        "7ii\n",
        "Tsx\n",
        "h%?\n",
        "i #\n",
        "sM\n",
        "$a\n",
        "#t%\n",
        "^r!\n",
        "\n",
        "\n",
        "The matrix is a grid of strings (alphanumeric characters and spaces) with a hidden message in it.\n",
        "A grid means that you could potentially break it into rows and columns, like here:\n",
        "\n",
        "7\ti\ti\n",
        "T\ts\tx\n",
        "h\t%\t?\n",
        "i\t\t#\n",
        "s\tM\n",
        "$\ta\n",
        "#\tt\t%\n",
        "^\tr\t!\n",
        "\n",
        "\n",
        "Matrix: A matrix is a two-dimensional array. It is a grid of numbers arranged in rows and columns.\n",
        "To reproduce the grid, the matrix should be a 2D list, not a string\n",
        "\n",
        "\n",
        "\n",
        "To decrypt the matrix, Neo reads each column from top to bottom, starting from the leftmost column, selecting only the alpha characters and connecting them. Then he replaces every group of symbols between two alpha characters by a space.\n",
        "\n",
        "Using his technique, try to decode this matrix.\n",
        "\n",
        "Hints:\n",
        "\n",
        "Use\n",
        "\n",
        "● lists for storing data\n",
        "● Loops for going through the data\n",
        "● if/else statements to check the data\n",
        "● String for the output of the secret message\n",
        "\n",
        "Hint (if needed) : Look at the remote learning “Matrix” video."
      ],
      "metadata": {
        "id": "c-rR7ePagx_0"
      }
    },
    {
      "cell_type": "markdown",
      "source": [
        "To solve the matrix, we need to read each column top-down, from the leftmost column to the right, extract only alphanumeric characters, and connect them.\n",
        "\n",
        "*Any* symbols or spaces between two alphanumeric characters should be replaced by a single space for readability.\n",
        "\n",
        "This is essentially the classic Matrix Script problem, as described in the HackerRank challenge."
      ],
      "metadata": {
        "id": "aa_EMPqWhXPe"
      }
    },
    {
      "cell_type": "markdown",
      "source": [
        "**Code solution**"
      ],
      "metadata": {
        "id": "Zz_7RFl8kfYZ"
      }
    },
    {
      "cell_type": "code",
      "source": [
        "import re\n",
        "\n",
        "# Create the matrix as a list of strings (rows)\n",
        "matrix = [\n",
        "    \"7ii\",\n",
        "    \"Tsx\",\n",
        "    \"h%?\",\n",
        "    \"i #\",\n",
        "    \"sM \",\n",
        "    \"$a \",\n",
        "    \"#t%\",\n",
        "    \"^r!\"\n",
        "]\n",
        "\n",
        "# Define dimensions\n",
        "rows = len(matrix)\n",
        "cols = len(matrix[0])\n",
        "\n",
        "# Read columns top to bottom, left to right\n",
        "combined = \"\"\n",
        "for c in range(cols):\n",
        "    for r in range(rows):\n",
        "        combined += matrix[r][c]\n",
        "\n",
        "# Replace non-alphanumeric sequences between words with a space\n",
        "decoded = re.sub(r'([A-Za-z0-9])[^A-Za-z0-9]+([A-Za-z0-9])', r'\\1 \\2', combined)\n",
        "\n",
        "print(\"Decoded message:\", decoded)\n"
      ],
      "metadata": {
        "id": "TyCPWn19h0dK"
      },
      "execution_count": null,
      "outputs": []
    },
    {
      "cell_type": "markdown",
      "source": [
        "What Happens Under the Hood\n",
        "Reading the Matrix:\n",
        "\n",
        "We iterate through each column (c), and for each column, we go row by row (r) to build a single string: combined.\n",
        "\n",
        "Cleaning Up:\n",
        "\n",
        "We use a regex to insert a single space where non-alphanumeric characters appear between two alphanumeric characters.\n",
        "The Poor Coder | Algorithm Solutions\n",
        "Towards Programming And Science\n",
        "\n"
      ],
      "metadata": {
        "id": "S-Bu2L5mhXNp"
      }
    },
    {
      "cell_type": "markdown",
      "source": [
        "Example Output\n",
        "For the given matrix, the printed result is:"
      ],
      "metadata": {
        "id": "UjgvgOFYiRBC"
      }
    },
    {
      "cell_type": "code",
      "execution_count": null,
      "metadata": {
        "id": "JBkQUwSIgu8_"
      },
      "outputs": [],
      "source": [
        "Decoded message: This is Matrix#  %!"
      ]
    },
    {
      "cell_type": "markdown",
      "source": [
        "(Note: Depending on the exact characters and layout of your matrix, the message might slightly vary—but this matches the classic “This is Matrix# %!” example.)\n",
        "\n",
        "**Summary**\n",
        "\n",
        "Processes:\n",
        "- 2D grid processing (nested loops)\n",
        "- Regular expressions for smart text cleaning\n",
        "- Python string manipulation"
      ],
      "metadata": {
        "id": "ciLJ38nWia_y"
      }
    }
  ]
}