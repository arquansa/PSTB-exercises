{
  "nbformat": 4,
  "nbformat_minor": 0,
  "metadata": {
    "colab": {
      "provenance": [],
      "authorship_tag": "ABX9TyM8WHoJsAyrBf6e4RO10UfF",
      "include_colab_link": true
    },
    "kernelspec": {
      "name": "python3",
      "display_name": "Python 3"
    },
    "language_info": {
      "name": "python"
    }
  },
  "cells": [
    {
      "cell_type": "markdown",
      "metadata": {
        "id": "view-in-github",
        "colab_type": "text"
      },
      "source": [
        "<a href=\"https://colab.research.google.com/github/arquansa/PSTB-exercises/blob/main/Week2/Day2/EXG/W2D2EXG.ipynb\" target=\"_parent\"><img src=\"https://colab.research.google.com/assets/colab-badge.svg\" alt=\"Open In Colab\"/></a>"
      ]
    },
    {
      "cell_type": "markdown",
      "source": [
        "#Exercises XP Gold\n",
        "Last Updated: June 3rd, 2025\n",
        "\n",
        "👩‍🏫 👩🏿‍🏫 What You’ll learn\n",
        "In these exercises, you will learn how to use basic Python data structures like dictionaries and lists, handle user input, and implement functions to perform various tasks including random number generation and iterative calculations. This hands-on practice will help reinforce your understanding of Python programming fundamentals.\n",
        "\n",
        "\n",
        "\n",
        "🛠️ What you will create\n",
        "By the end of these exercises, you will have created a small Python application that can look up birthdays, calculate a specific numeric sequence, and simulate dice throws. You’ll practice using loops, conditionals, functions, and more to solve problems and generate specific outputs.\n",
        "\n",
        "\n",
        "\n",
        "Exercise 1: Birthday Look-up\n",
        "\n",
        "Create a variable called birthdays. Its value should be a dictionary.\n",
        "Initialize this variable with the birthdays of 5 people of your choice. For each entry in the dictionary, the key should be the person’s name, and the value should be their birthday. Tip: Use the format \"YYYY/MM/DD\".\n",
        "Print a welcome message for the user. Then tell them: “You can look up the birthdays of the people in the list!”\n",
        "Ask the user to give you a person's name and store the answer in a variable.\n",
        "Get the birthday of the name provided by the user.\n",
        "Print out the birthday with a nicely-formatted message.\n",
        "\n",
        "\n",
        "Exercise 2: Birthdays Advanced\n",
        "\n",
        "Before asking the user to input a person's name, print out all of the names in the dictionary.\n",
        "If the person that the user types is not found in the dictionary, print an error message (“Sorry, we don’t have the birthday information for person's name”).\n",
        "\n",
        "\n",
        "Exercise 3: Check the index\n",
        "\n",
        "Instructions\n",
        "Using this variable\n",
        "\n",
        "names = ['Samus', 'Cortana', 'V', 'Link', 'Mario', 'Cortana', 'Samus']\n",
        "Ask a user for their name, if their name is in the names list, print out the index of the first occurence of the name.\n",
        "\n",
        "Example: if input is 'Cortana' we should be printing the index 1\n",
        "\n",
        "\n",
        "Exercise 4: Double Dice\n",
        "Create a function that will simulate the rolling of a dice. Call it throw_dice. It should return an integer between 1 and 6.\n",
        "Create a function called throw_until_doubles.\n",
        "It should keep throwing 2 dice (using your throw_dice function) until they both land on the same number, i.e., until we reach doubles.\n",
        "For example: (1, 2), (3, 1), (5, 5) → then stop throwing, because doubles were reached.\n",
        "This function should return the number of times it threw the dice in total. In the example above, it should return 3.\n",
        "Create a main function. It should throw doubles 100 times (i.e., call your throw_until_doubles function 100 times), and store the results of those function calls (in other words, how many throws it took until doubles were thrown, each time) in a collection. (What kind of collection? Read below to understand what we will need the data for, and this should help you decide which data structure to use).\n",
        "After the 100 doubles are thrown, print out a message telling the user how many throws it took in total to reach 100 doubles.\n",
        "Also print out a message telling the user the average amount of throws it took to reach doubles. Round this off to 2 decimal places.\n",
        "For example:\n",
        "\n",
        "If the results of the throws were as follows (your code would do 100 doubles, not just 3):\n",
        "\n",
        "(1, 2), (3, 1), (5, 5)\n",
        "(3, 3)\n",
        "(2, 4), (1, 2), (3, 4), (2, 2)\n",
        "Then my output would show something like this:\n",
        "\n",
        "Total throws: 8\n",
        "Average throws to reach doubles: 2.67."
      ],
      "metadata": {
        "id": "V3jjQKNCUaHG"
      }
    },
    {
      "cell_type": "markdown",
      "source": [
        "#1. Birthday Look-up"
      ],
      "metadata": {
        "id": "DqnvslJYV7pA"
      }
    },
    {
      "cell_type": "code",
      "execution_count": 1,
      "metadata": {
        "colab": {
          "base_uri": "https://localhost:8080/"
        },
        "id": "zbS3WAl_UYmO",
        "outputId": "6b1a32fd-e723-4c99-ea35-b11f65ff5421"
      },
      "outputs": [
        {
          "output_type": "stream",
          "name": "stdout",
          "text": [
            "🎉 Welcome to the Birthday Look-up App!\n",
            "You can look up the birthdays of the people in the list.\n",
            "\n",
            "Available names:\n",
            "- Alice\n",
            "- Bob\n",
            "- Charlie\n",
            "- Diana\n",
            "- Ethan\n",
            "\n",
            "Whose birthday would you like to look up? Alice\n",
            "\n",
            "Alice's birthday is on 1990/05/15 🎂\n"
          ]
        }
      ],
      "source": [
        "# Step 1: Birthday dictionary\n",
        "birthdays = {\n",
        "    \"Alice\": \"1990/05/15\",\n",
        "    \"Bob\": \"1985/12/03\",\n",
        "    \"Charlie\": \"1992/08/21\",\n",
        "    \"Diana\": \"1998/03/09\",\n",
        "    \"Ethan\": \"2000/11/30\"\n",
        "}\n",
        "\n",
        "# Step 2: Welcome message\n",
        "print(\"🎉 Welcome to the Birthday Look-up App!\")\n",
        "print(\"You can look up the birthdays of the people in the list.\")\n",
        "\n",
        "# Step 3: Show available names (optional, for user convenience)\n",
        "print(\"\\nAvailable names:\")\n",
        "for name in birthdays:\n",
        "    print(f\"- {name}\")\n",
        "\n",
        "# Step 4: Ask user for a name\n",
        "name = input(\"\\nWhose birthday would you like to look up? \").strip()\n",
        "\n",
        "# Step 5: Look up and print result\n",
        "if name in birthdays:\n",
        "    print(f\"\\n{name}'s birthday is on {birthdays[name]} 🎂\")\n",
        "else:\n",
        "    print(f\"\\nSorry, we don't have a birthday for '{name}'.\")\n"
      ]
    },
    {
      "cell_type": "markdown",
      "source": [
        "#2. Birthdays Advanced"
      ],
      "metadata": {
        "id": "ELZWNDqtWsqm"
      }
    },
    {
      "cell_type": "code",
      "source": [
        "# Dictionary of birthdays\n",
        "birthdays = {\n",
        "    \"Alice\": \"1990/05/15\",\n",
        "    \"Bob\": \"1985/12/03\",\n",
        "    \"Charlie\": \"1992/08/21\",\n",
        "    \"Diana\": \"1998/03/09\",\n",
        "    \"Ethan\": \"2000/11/30\"\n",
        "}\n",
        "\n",
        "# Welcome message\n",
        "print(\"🎉 Welcome to the Birthday Look-up App!\")\n",
        "print(\"You can look up the birthdays of the people in the list.\\n\")\n",
        "\n",
        "# Display all available names\n",
        "print(\"Here are the people you can look up:\")\n",
        "for name in birthdays:\n",
        "    print(f\" - {name}\")\n",
        "\n",
        "# Ask the user for a name\n",
        "user_input = input(\"\\nEnter a person's name: \").strip()\n",
        "\n",
        "# Check if the name is in the dictionary\n",
        "if user_input in birthdays:\n",
        "    print(f\"\\n🎂 {user_input}'s birthday is on {birthdays[user_input]}\")\n",
        "else:\n",
        "    print(f\"\\n❌ Sorry, we don’t have the birthday information for '{user_input}'.\")\n"
      ],
      "metadata": {
        "colab": {
          "base_uri": "https://localhost:8080/"
        },
        "id": "Dx-VMgEMW5wQ",
        "outputId": "fc8880af-2254-419f-cd4a-984cda9f193a"
      },
      "execution_count": 2,
      "outputs": [
        {
          "output_type": "stream",
          "name": "stdout",
          "text": [
            "🎉 Welcome to the Birthday Look-up App!\n",
            "You can look up the birthdays of the people in the list.\n",
            "\n",
            "Here are the people you can look up:\n",
            " - Alice\n",
            " - Bob\n",
            " - Charlie\n",
            " - Diana\n",
            " - Ethan\n",
            "\n",
            "Enter a person's name: Bob\n",
            "\n",
            "🎂 Bob's birthday is on 1985/12/03\n"
          ]
        }
      ]
    },
    {
      "cell_type": "markdown",
      "source": [
        "Example code"
      ],
      "metadata": {
        "id": "f7F2_mi8XqLW"
      }
    },
    {
      "cell_type": "code",
      "source": [
        "names = ['Samus', 'Cortana', 'V', 'Link', 'Mario', 'Cortana', 'Samus']\n",
        "\n",
        "# Prompt user\n",
        "user_name = input(\"Enter your name: \").strip()\n",
        "\n",
        "# Lookup logic\n",
        "if user_name in names:\n",
        "    idx = names.index(user_name)\n",
        "    print(f\"{user_name} found at index {idx}\")\n",
        "else:\n",
        "    print(f\"Sorry, '{user_name}' is not in the list.\")\n"
      ],
      "metadata": {
        "id": "8BHihYo8XsKr"
      },
      "execution_count": null,
      "outputs": []
    },
    {
      "cell_type": "markdown",
      "source": [
        "#3. Check the index\n",
        "\n",
        "Instructions Using this variable\n",
        "\n",
        "names = ['Samus', 'Cortana', 'V', 'Link', 'Mario', 'Cortana', 'Samus'] Ask a user for their name, if their name is in the names list, print out the index of the first occurence of the name.\n",
        "\n",
        "Example: if input is 'Cortana' we should be printing the index 1"
      ],
      "metadata": {
        "id": "8DlhK2fYY8Hu"
      }
    },
    {
      "cell_type": "markdown",
      "source": [
        "How to Find the First Index of an Item in a List\n",
        "\n"
      ],
      "metadata": {
        "id": "Hy8gXslkZre2"
      }
    },
    {
      "cell_type": "markdown",
      "source": [
        "Solution with User Input & Error Handling"
      ],
      "metadata": {
        "id": "viQVYkgZZ6Na"
      }
    },
    {
      "cell_type": "code",
      "source": [
        "names = ['Samus', 'Cortana', 'V', 'Link', 'Mario', 'Cortana', 'Samus']\n",
        "\n",
        "user_name = input(\"Enter your name: \").strip()\n",
        "\n",
        "if user_name in names:\n",
        "    idx = names.index(user_name)\n",
        "    print(f\"{user_name} found at index {idx}\")\n",
        "else:\n",
        "    print(f\"Sorry, '{user_name}' is not in the list.\")\n"
      ],
      "metadata": {
        "id": "PdV3dc9BY7nL"
      },
      "execution_count": null,
      "outputs": []
    },
    {
      "cell_type": "markdown",
      "source": [
        "How this works:\n",
        "\n",
        ".index() returns the first occurrence index securely because we're checking existence with in to avoid exceptions."
      ],
      "metadata": {
        "id": "JSaFNAzDaM6r"
      }
    },
    {
      "cell_type": "markdown",
      "source": [
        "**Why This Approach Is Effective**\n",
        "\n",
        "Simple and readable: list.index() makes sense when you need the position of an item.\n",
        "\n",
        "Efficient and safe, particularly for small lists like this, and avoids ValueError by checking membership first."
      ],
      "metadata": {
        "id": "6G2ZhB33aZDp"
      }
    },
    {
      "cell_type": "markdown",
      "source": [
        "#4. Double Dice\n",
        "\n",
        " Create a function that will simulate the rolling of a dice. Call it throw_dice. It should return an integer between 1 and 6. Create a function called throw_until_doubles. It should keep throwing 2 dice (using your throw_dice function) until they both land on the same number, i.e., until we reach doubles. For example: (1, 2), (3, 1), (5, 5) → then stop throwing, because doubles were reached. This function should return the number of times it threw the dice in total. In the example above, it should return 3. Create a main function. It should throw doubles 100 times (i.e., call your throw_until_doubles function 100 times), and store the results of those function calls (in other words, how many throws it took until doubles were thrown, each time) in a collection. (What kind of collection? Read below to understand what we will need the data for, and this should help you decide which data structure to use). After the 100 doubles are thrown, print out a message telling the user how many throws it took in total to reach 100 doubles. Also print out a message telling the user the average amount of throws it took to reach doubles. Round this off to 2 decimal places. For example:\n",
        "\n",
        "If the results of the throws were as follows (your code would do 100 doubles, not just 3):\n",
        "\n",
        "(1, 2), (3, 1), (5, 5) (3, 3) (2, 4), (1, 2), (3, 4), (2, 2) Then my output would show something like this:\n",
        "\n",
        "Total throws: 8 Average throws to reach doubles: 2.67."
      ],
      "metadata": {
        "id": "G0jvkim4Wd5L"
      }
    },
    {
      "cell_type": "markdown",
      "source": [
        "Functions Overview\n",
        "\n",
        "1. throw_dice()\n",
        "\n",
        "- Simulates rolling a six-sided die.\n",
        "- Returns a random integer between 1 and 6.\n",
        "\n",
        "2. throw_until_doubles()\n",
        "\n",
        "- Rolls two dice repeatedly using throw_dice() until both show the same number (doubles).\n",
        "- Returns the total number of throws needed to get doubles.\n",
        "\n",
        "2. main()\n",
        "\n",
        "- Calls throw_until_doubles() 100 times, recording each result.\n",
        "- Calculates and prints the total throws across all 100 runs.\n",
        "- Calculates and prints the average throws per run (rounded to 2 decimal places).\n",
        "\n"
      ],
      "metadata": {
        "id": "5-BGuv2hbC8C"
      }
    },
    {
      "cell_type": "code",
      "source": [
        "import random\n",
        "\n",
        "def throw_dice():\n",
        "    \"\"\"Simulate rolling a fair six-sided die.\"\"\"\n",
        "    return random.randint(1, 6)\n",
        "\n",
        "def throw_until_doubles():\n",
        "    \"\"\"Roll two dice until both show the same face. Return rolls count.\"\"\"\n",
        "    count = 0\n",
        "    while True:\n",
        "        count += 1\n",
        "        d1 = throw_dice()\n",
        "        d2 = throw_dice()\n",
        "        if d1 == d2:\n",
        "            return count\n",
        "\n",
        "def main():\n",
        "    trials = 100\n",
        "    results = [throw_until_doubles() for _ in range(trials)]\n",
        "\n",
        "    total_throws = sum(results)\n",
        "    average_throws = total_throws / trials\n",
        "\n",
        "    print(f\"Total throws: {total_throws}\")\n",
        "    print(f\"Average throws to reach doubles: {average_throws:.2f}\")\n",
        "\n",
        "if __name__ == \"__main__\":\n",
        "    main()\n"
      ],
      "metadata": {
        "colab": {
          "base_uri": "https://localhost:8080/"
        },
        "id": "6ILNOEiJXt6n",
        "outputId": "781723ad-a276-4d04-c5ae-af505541fa83"
      },
      "execution_count": 3,
      "outputs": [
        {
          "output_type": "stream",
          "name": "stdout",
          "text": [
            "Total throws: 606\n",
            "Average throws to reach doubles: 6.06\n"
          ]
        }
      ]
    },
    {
      "cell_type": "markdown",
      "source": [
        "Example Output\n",
        "If running the simulation, you might get:\n",
        "\n",
        "Total throws: 347\n",
        "\n",
        "Average throws to reach doubles: 3.47\n",
        "This means over 100 runs, it took 347 rolls cumulatively, with an average of 3.47 rolls to get doubles each time.\n",
        "\n",
        "Why This Works\n",
        "random.randint(1, 6) is the standard way to simulate a fair dice roll in Python.\n",
        "PyQuestHub\n",
        "\n",
        "Using a list comprehension to capture results from 100 runs keeps your code clean and concise.\n",
        "\n",
        "Final statistics are calculated via built-in Python functions: sum() and list arithmetic.\n"
      ],
      "metadata": {
        "id": "AlopKkyabYcL"
      }
    }
  ]
}