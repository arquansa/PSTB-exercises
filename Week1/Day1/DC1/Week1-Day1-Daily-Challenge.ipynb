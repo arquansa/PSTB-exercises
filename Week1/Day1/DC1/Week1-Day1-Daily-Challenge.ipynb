{
 "cells": [
  {
   "cell_type": "code",
   "execution_count": 11,
   "id": "62f414ad",
   "metadata": {},
   "outputs": [
    {
     "name": "stdout",
     "output_type": "stream",
     "text": [
      "list of numbers\n",
      "3\n",
      "6\n"
     ]
    }
   ],
   "source": [
    "#Daily challenge String and lists\n",
    "#CHALLENGE 1\n",
    "\n",
    "number=int(input(\"Enter a number:\")) \n",
    "length=int(input(\"Enter the list length:\"))\n",
    "print(\"list of numbers\") \n",
    "\n",
    "for i in range (number,number*(length+1),number):\n",
    "    print(i)"
   ]
  },
  {
   "cell_type": "code",
   "execution_count": 7,
   "id": "35e2430d",
   "metadata": {},
   "outputs": [
    {
     "name": "stdout",
     "output_type": "stream",
     "text": [
      "avocat\n",
      "avocatvocat\n"
     ]
    }
   ],
   "source": [
    "\n",
    "#Daily challenge String and lists\n",
    "#CHALLENGE 2\n",
    "\n",
    "user_word = input(\"enter a word\")\n",
    "\n",
    "list = user_word\n",
    "length=len(list)\n",
    "new_list = list [0]\n",
    "\n",
    "for i in range (1, length):\n",
    "  if list[i-1] != list [i]:\n",
    "    new_list = new_list + list [i]\n",
    "    index = i + 1\n",
    "\n",
    "print( new_list)\n",
    "\n",
    "for i in range (1, length):\n",
    "  if list[i-1] != list [i]:\n",
    "    new_list = new_list + list [i]\n",
    "    index = i + 1\n",
    "\n",
    "print( new_list)"
   ]
  }
 ],
 "metadata": {
  "kernelspec": {
   "display_name": "Python 3",
   "language": "python",
   "name": "python3"
  },
  "language_info": {
   "codemirror_mode": {
    "name": "ipython",
    "version": 3
   },
   "file_extension": ".py",
   "mimetype": "text/x-python",
   "name": "python",
   "nbconvert_exporter": "python",
   "pygments_lexer": "ipython3",
   "version": "3.11.9"
  }
 },
 "nbformat": 4,
 "nbformat_minor": 5
}
