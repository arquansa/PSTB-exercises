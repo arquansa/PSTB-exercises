{
  "nbformat": 4,
  "nbformat_minor": 0,
  "metadata": {
    "colab": {
      "provenance": [],
      "authorship_tag": "ABX9TyNqpCIqj6cYwmq0azkm14Fb",
      "include_colab_link": true
    },
    "kernelspec": {
      "name": "python3",
      "display_name": "Python 3"
    },
    "language_info": {
      "name": "python"
    }
  },
  "cells": [
    {
      "cell_type": "markdown",
      "metadata": {
        "id": "view-in-github",
        "colab_type": "text"
      },
      "source": [
        "<a href=\"https://colab.research.google.com/github/arquansa/PSTB-exercises/blob/main/Week10/Day1/EX1/W10D1EXN.ipynb\" target=\"_parent\"><img src=\"https://colab.research.google.com/assets/colab-badge.svg\" alt=\"Open In Colab\"/></a>"
      ]
    },
    {
      "cell_type": "markdown",
      "source": [
        "Exercises XP Ninja\n",
        "Last Updated: May 6th, 2025\n",
        "\n",
        "XP Ninja: Build an Intelligent Document Assistant\n",
        "\n",
        "\n",
        "👩‍🏫 👩🏿‍🏫 What You’ll learn\n",
        "Combine foundational and advanced prompt engineering techniques\n",
        "Apply Chain-of-Thought, role prompting, and memory chaining in a real-world scenario\n",
        "Design a dynamic, multi-step LLM workflow that adapts to user input\n",
        "Mitigate model limitations like hallucination and bias\n",
        "\n",
        "\n",
        "🛠️ What you will create\n",
        "An LLM-powered Document Assistant that:\n",
        "\n",
        "Takes a long input document (below)\n",
        "Extracts key sections and summarizes them using appropriate prompt patterns\n",
        "Allows users to ask follow-up questions based on the document\n",
        "Maintains context across turns and reflects on or critiques its own outputs\n",
        "\n",
        "\n",
        "Instructions\n",
        "Use the following document (a contract excerpt) as your input:\n",
        "\n",
        "\n",
        "\n",
        "Document Text:\n",
        "\n",
        "Service Agreement – Excerpt\n",
        "\n",
        "This Service Agreement (“Agreement”) is made effective as of March 1, 2025, by and between BrightLine Technologies Ltd., hereinafter referred to as “Provider”, and NovaWare Systems Inc., hereinafter referred to as “Client”.\n",
        "\n",
        "Scope of Work: Provider shall deliver cloud infrastructure management services, including monitoring, incident response, and monthly reporting, as described in Exhibit A.\n",
        "\n",
        "Payment Terms: Client agrees to pay a fixed monthly fee of $12,000, payable within 30 days of receipt of invoice. Late payments will incur a 2% penalty per month.\n",
        "\n",
        "Term and Termination: This Agreement shall commence on March 1, 2025, and remain in effect for 12 months. Either party may terminate with 30 days’ written notice.\n",
        "\n",
        "Confidentiality: Both parties agree to protect the confidentiality of proprietary or sensitive information shared during the course of the engagement.\n",
        "\n",
        "Limitation of Liability: Provider’s total liability shall not exceed the fees paid by Client in the 3 months prior to a claim. Provider is not liable for indirect or consequential damages.\n",
        "\n",
        "Governing Law: This Agreement shall be governed by the laws of the State of California.\n",
        "\n",
        "\n",
        "\n",
        "Now complete the following steps:\n",
        "\n",
        "\n",
        "\n",
        "Step 1: Initial Summary Prompt\n",
        "Write a few-shot or Chain-of-Thought prompt to summarize the document in plain English.\n",
        "\n",
        "Your summary should include:\n",
        "\n",
        "- Key responsibilities of each party\n",
        "- Payment terms\n",
        "- Termination clauses\n",
        "- Liability limitations\n",
        "\n",
        "\n",
        "💬 Step 2: Role-Based Follow-Up Q&A\n",
        "Write a role-based prompt where the assistant takes on the role of a contract lawyer answering user questions about this agreement.\n",
        "\n",
        "Example: “Can you explain the limitation of liability clause?”\n",
        "\n",
        "Use Narrative-of-Thought or Instance-Adaptive CoT to deliver engaging and helpful responses.\n",
        "\n",
        "\n",
        "\n",
        "🔁 Step 3: Memory Integration\n",
        "Simulate context chaining so the assistant remembers the summary and answers questions accordingly.\n",
        "\n",
        "Choose and apply one method:\n",
        "\n",
        "Prior message passing\n",
        "Structured conversation history\n",
        "(Or describe how you would use vector store retrieval)\n",
        "\n",
        "\n",
        "🔍 Step 4: Mitigation & Refinement\n",
        "Add a self-reflection prompt where the assistant reviews and critiques its own answer for accuracy and clarity.\n",
        "\n",
        "Optional: Include a multi-agent critique step to catch any potential legal misinterpretations.\n",
        "\n"
      ],
      "metadata": {
        "id": "plyiWZv-wvrk"
      }
    },
    {
      "cell_type": "markdown",
      "source": [
        "## Step 1: Initial Summary Prompt\n",
        "\n",
        "Write a few-shot or Chain-of-Thought prompt to summarize the document in plain English.\n",
        "\n",
        "Your summary should include:\n",
        "\n",
        "Key responsibilities of each party\n",
        "Payment terms\n",
        "Termination clauses\n",
        "Liability limitations\n"
      ],
      "metadata": {
        "id": "7m06zBycx20O"
      }
    },
    {
      "cell_type": "markdown",
      "source": [
        "This service agreement is between BrightLine Technologies (the Provider) and NovaWare Systems (the Client). The Provider agrees to provide cloud infrastructure, including monitoring, incident response, and monthly reports.\n",
        "\n",
        "The Client must pay a fixed fee of $12,000 every month, due within 30 days of receiving an invoice, late payments resulting in a 2% monthly penalty.\n",
        "\n",
        "The contract lasts for 12 months, as of March 1, 2025. Either party can end the agreement with 30 days' written notice.\n",
        "\n",
        "In case of legal claims, the Provider’s liability is limited to the fees paid in the last three months, excluding responsibility for indirect or consequential damages.\n",
        "\n",
        "California state law governs this agreement."
      ],
      "metadata": {
        "id": "WUbWkhWt0Zep"
      }
    },
    {
      "cell_type": "markdown",
      "source": [
        "## Step 2: Role-Based Follow-Up Q&A\n",
        "Write a role-based prompt where the assistant takes on the role of a contract lawyer answering user questions about this agreement."
      ],
      "metadata": {
        "id": "VdWXDVtl6rxs"
      }
    },
    {
      "cell_type": "markdown",
      "source": [
        "You are an experienced contract lawyer helping a customer understand a service agreement.\n",
        "When answering, reason through your interpretation step by step before summarizing your conclusion.\n",
        "\n",
        "Use a quiet, confident tone, and explain as if you were talking to a smart non-lawyer"
      ],
      "metadata": {
        "id": "teqPcWNryCFv"
      }
    },
    {
      "cell_type": "markdown",
      "source": [
        "User Question:\n",
        "\n",
        "\"Can you explain the limitation of liability clause?\"\n",
        "\n",
        "We shall use naarative-of-thought:\n",
        "\n",
        "Of course. Let me explain.\n",
        "\n",
        "First, the clause limits the amount the Provider can be held financially responsible if something goes wrong. Specifically, it says the Provider’s total liability can’t exceed the amount the Client paid for the last three months prior to a claim.\n",
        "\n",
        "For example, if the Client brings a claim in June, the maximum the Provider would owe is 36,000 US dollars if they paid 12,000 US dollars per month,  .\n",
        "\n",
        "Second, it also says the Provider isn’t responsible for “indirect or consequential damages.”, which usually means things like lost profits, reputational damage, or any downstream effects of a failure.\n",
        "\n",
        "In summary: the Provider is limiting its risk to recent payments and avoiding responsibility for broader business impact. This is a pretty common clause in service contracts, aimed at managing exposure."
      ],
      "metadata": {
        "id": "Gbe7iv5szCE-"
      }
    },
    {
      "cell_type": "markdown",
      "source": [
        "## Step 3: Memory Integration\n",
        "\n",
        "Simulate context chaining so the assistant remembers the summary and answers questions accordingly.\n",
        "\n",
        "Choose and apply one method:\n",
        "\n",
        "- Prior message passing\n",
        "- Structured conversation history\n",
        "- (Or describe how you would use vector store retrieval)\n",
        "\n"
      ],
      "metadata": {
        "id": "P4b-yXZZ56go"
      }
    },
    {
      "cell_type": "markdown",
      "source": [
        "simulate memory with structured conversation history\n",
        "\n",
        "\n",
        "When a user asks a follow-up question, the assistant stores and references earlier data like this:\n",
        "\n",
        "conversation_memory = {\n",
        "    \"summary\": \"This service agreement is between BrightLine Technologies and NovaWare Systems...\",\n",
        "    \"last_question\": \"Can you explain the limitation of liability clause?\",\n",
        "    \"last_answer\": \"The clause limits the Provider’s liability to fees paid in the prior 3 months.."
      ],
      "metadata": {
        "id": "nurPPAa07FwX"
      }
    },
    {
      "cell_type": "markdown",
      "source": [
        "Then, the prompt for the next user question might be:\n",
        "\n",
        "Context-aware Prompt:\n",
        "\n",
        "Based on the prior summary and your last explanation, respond to the following user question.\n",
        "\n",
        "Prior Summary: {If any legal claims arise, the Provider’s liability is limited to the fees paid in the last three months and excludes responsibility for indirect or consequential damages.}\n",
        "\n",
        "User Question: \"What happens if the Client wants to terminate early?\"\n",
        "\n",
        "Remember to include relevant legal reasoning and keep your tone informative.\n",
        "\n",
        "If the Client wants to terminate early, they can do so by giving 30 days’ written notice.\n",
        "\n",
        "There’s no penalty mentioned for early termination, which suggests the Client can exit the agreement at any point during the 12-month term—as long as they provide proper notice.\n",
        "\n",
        "This gives both parties flexibility, which is useful if business needs change mid-year."
      ],
      "metadata": {
        "id": "SDjPKEyV75ed"
      }
    },
    {
      "cell_type": "markdown",
      "source": [
        "##Step 4: Mitigation & Refinement\n",
        "\n",
        "Add a self-reflection prompt where the assistant reviews and critiques its own answer for accuracy and clarity.\n",
        "\n",
        "Optional: Include a multi-agent critique step to catch any potential legal misinterpretations."
      ],
      "metadata": {
        "id": "BS5K7NTX--sg"
      }
    },
    {
      "cell_type": "markdown",
      "source": [
        "To reduce hallucinations and clarify legal interpretations, we add self-reflection and optionally a multi-agent critique.\n",
        "\n",
        "self-reflection prompt\n",
        "\n",
        "- Before finalizing your answer, pause and review:\n",
        "- Did you cite the correct clause and interpret its language fairly?\n",
        "- Could the wording be clearer or less ambiguous?\n",
        "- Would a non-lawyer understand this explanation?\n",
        "- Rewrite if necessary for clarity or accuracy.\n",
        "\n"
      ],
      "metadata": {
        "id": "0SjuRBaw--Ft"
      }
    },
    {
      "cell_type": "markdown",
      "source": [
        "Upon review, the original answer is legally accurate and explains both the financial cap and the exclusion of indirect damages.\n",
        "However, I could add an example of what indirect damages might look like (e.g., lost revenue due to system downtime) to make it even clearer.\n",
        "\n",
        "Final Answer updated accordingly."
      ],
      "metadata": {
        "id": "lwSn5KeUASQ_"
      }
    },
    {
      "cell_type": "markdown",
      "source": [
        "Optional Multi-Agent Critique Step:\n",
        "\n",
        "A second “Assistant Agent” could act as a peer reviewer:\n",
        "\n",
        "Reviewer Agent Prompt:\n",
        "\"Critique the previous answer for accuracy and completeness. Highlight any risky assumptions or oversimplifications in the legal explanation.\""
      ],
      "metadata": {
        "id": "66QGzlotAtBC"
      }
    },
    {
      "cell_type": "markdown",
      "source": [
        "Final Result: You’ve Built a Modular LLM Document Assistant\n",
        "\n",
        "Your assistant now:\n",
        "- Summarizes a contract using step-by-step logic (CoT)\n",
        "- Adopts expert roles to answer legal questions\n",
        "- Maintains memory across turns (structured history)\n",
        "- Audits itself for clarity and legal risk"
      ],
      "metadata": {
        "id": "vQIbQqjbB3pI"
      }
    }
  ]
}