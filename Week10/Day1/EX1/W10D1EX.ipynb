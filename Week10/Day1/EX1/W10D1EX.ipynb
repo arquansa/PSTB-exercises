{
  "nbformat": 4,
  "nbformat_minor": 0,
  "metadata": {
    "colab": {
      "provenance": [],
      "authorship_tag": "ABX9TyM80n8p97OROp8R8gsfTLyW",
      "include_colab_link": true
    },
    "kernelspec": {
      "name": "python3",
      "display_name": "Python 3"
    },
    "language_info": {
      "name": "python"
    }
  },
  "cells": [
    {
      "cell_type": "markdown",
      "metadata": {
        "id": "view-in-github",
        "colab_type": "text"
      },
      "source": [
        "<a href=\"https://colab.research.google.com/github/arquansa/PSTB-exercises/blob/main/Week10/Day1/EX1/W10D1EX.ipynb\" target=\"_parent\"><img src=\"https://colab.research.google.com/assets/colab-badge.svg\" alt=\"Open In Colab\"/></a>"
      ]
    },
    {
      "cell_type": "markdown",
      "source": [
        "# Exercises XP\n",
        "Last Updated: March 31st, 2025\n",
        "\n",
        "👩‍🏫 👩🏿‍🏫 What You’ll learn\n",
        "How to analyze and improve vague prompts\n",
        "How to apply prompt engineering techniques such as role prompting, constraint prompting, and tone specification\n",
        "How to structure multi-part prompts for specific use cases\n",
        "\n",
        "\n",
        "🛠️ What you will create\n",
        "An improved version of a vague prompt using best practices\n",
        "A complete, structured prompt for generating educational content (quiz + summary) using multiple techniques\n",
        "\n",
        "\n",
        "🌟 Exercise 1: Rewrite and Optimize a Vague Prompt\n",
        "Scenario:\n",
        "You’re an AI Prompt Engineer at a productivity startup. Your manager asks you to use ChatGPT to create a LinkedIn post promoting their new focus app, FlowNest. They send you this vague prompt:\n",
        "\n",
        "“Write something about productivity tips.”\n",
        "\n",
        "\n",
        "\n",
        "Tasks\n",
        "Identify 3 critical issues with this prompt.\n",
        "(Hint: Think about brand voice, target users, and platform engagement.)\n",
        "\n",
        "Rewrite the prompt using all three techniques:\n",
        "\n",
        "Role prompting (e.g., “Act as a…”)\n",
        "Instruction-based prompting (e.g., “Give 3 actionable…”)\n",
        "Format/tone/length constraint (e.g., “Use bullet points” or “max 280 characters”)\n",
        "\n",
        "Add a final line that makes the prompt reusable (e.g., “Use this format whenever we promote productivity tools on social media”).\n",
        "\n",
        "\n",
        "\n",
        "🌟 Exercise 2: Multi-Part Prompt for Quiz Generation\n",
        "Scenario:\n",
        "A 7th-grade science teacher uploads a short article on volcanic eruptions. You are tasked with writing a prompt for ChatGPT to create engaging educational content.\n",
        "\n",
        "\n",
        "\n",
        "Tasks\n",
        "Write a complete prompt that asks the model to:\n",
        "Summarize the article in 2 simple bullet points\n",
        "Generate 3 age-appropriate multiple-choice questions, each with 1 correct and 2 distractors\n",
        "Include a friendly tone and simple vocabulary for 11–13-year-olds\n",
        "Output everything in a format suitable for Google Slides\n",
        "\n",
        "Compare your prompt to this vague one:\n",
        "\n",
        "“Make a quiz for kids about this article.”\n",
        "\n",
        "Explain three key ways your version prevents irrelevant or low-quality output.\n",
        "\n",
        "\n",
        "\n",
        "🌟 Exercise 3: Add Context, Get Better Results\n",
        "Scenario:\n",
        "An intern is preparing a 3-minute summary for a monthly finance update presentation. They give the AI this prompt:\n",
        "\n",
        "“Summarize this report.”\n",
        "\n",
        "The AI gives a generic summary without any useful financial figures or structure.\n",
        "\n",
        "\n",
        "\n",
        "Tasks\n",
        "1. Fill in the table by identifying missing context and what should be added:\n",
        "\n",
        "\n",
        "\n",
        "Context Type\tIs it Missing? (Yes/No)\tWhat Should Be Added?\n",
        "Role\n",
        "Audience\n",
        "Purpose\n",
        "Input Source\n",
        "Format/Style\n",
        "Constraints\n",
        "\n",
        "\n",
        "2. Rewrite the intern’s prompt to include at least 4 context types, such as:\n",
        "\n",
        "“Act as a financial analyst…”\n",
        "“This summary is for a non-technical executive team…”\n",
        "“Limit to 3 key takeaways, each with supporting data…”\n",
        "\n",
        "\n",
        "🌟 Exercise 4: Match Prompt to Purpose\n",
        "Scenario:\n",
        "\n",
        "You’re building prompt templates for a customer support chatbot at an e-commerce company. Pick one of the following styles and use it to write a complete prompt for the chatbot.\n",
        "\n",
        "Exploratory: Helps the model brainstorm options or generate ideas\n",
        "Structured: Follows a fixed format (lists, sections, steps)\n",
        "Conversational: Mimics a human, chatty tone\n",
        "Functional: Executes a task with precision (e.g., summarizing or transforming input)\n",
        "\n",
        "\n",
        "Tasks\n",
        "Write your prompt using the selected style.\n",
        "Identify 2 key features that make your prompt a match for the style.\n",
        "Justify your choice: Why is this style better than the others for your specific case?\n",
        "\n",
        "\n",
        "🌟 Exercise 5: Prompt Refinement Challenge – Control the Style, Structure, and Length\n",
        "Scenario:\n",
        "\n",
        "You work for a wearable tech company launching a new smartwatch called PulseOne Mini. The marketing team is preparing content for an email campaign and wants you to use ChatGPT to write a product blurb with these constraints:\n",
        "\n",
        "Friendly tone\n",
        "Bullet point format\n",
        "Max 50 words total\n",
        "Must mention battery life, fitness tracking, and Bluetooth compatibility\n",
        "\n",
        "\n",
        "Tasks\n",
        "1. Write a prompt that strictly enforces these constraints.\n",
        "\n",
        "2. Run the prompt and evaluate:\n",
        "\n",
        "Did the model stick to the word count?\n",
        "Were all 3 product features mentioned?\n",
        "Is the tone friendly and engaging?\n",
        "3. If not, revise your prompt with stronger constraint language (e.g., “Do not exceed 50 words. List exactly 3 bullet points.”)\n",
        "\n",
        "\n",
        "\n",
        "🌟 Exercise 6: Hallucination Spotting and Mitigation\n",
        "Scenario:\n",
        "You’re preparing a summary of a peer-reviewed article on climate change and marine biodiversity. ChatGPT inserts this claim:\n",
        "\n",
        "“Over 50% of marine species are projected to go extinct by 2050.”\n",
        "\n",
        "This claim does not appear in the original article.\n",
        "\n",
        "\n",
        "\n",
        "Tasks\n",
        "1. Write a precise prompt instructing the model to avoid hallucinations and use only the provided text.\n",
        "\n",
        "2. Rewrite the prompt using verification language, like:\n",
        "\n",
        "“Only include claims explicitly stated in the article.”\n",
        "“If uncertain, state that the information is not available.”\n",
        "3. List 2 mitigation strategies you used to reduce hallucination risk.\n",
        "\n",
        "4. Name 2 professional domains (e.g., legal, healthcare) where hallucinations are especially risky, and explain why.\n",
        "\n"
      ],
      "metadata": {
        "id": "Gta1oUe0dUMO"
      }
    },
    {
      "cell_type": "markdown",
      "source": [
        "# Exercise 1: Rewrite and Optimize a Vague Prompt\n",
        "\n",
        "Scenario: You’re an AI Prompt Engineer at a productivity startup. Your manager asks you to use ChatGPT to create a LinkedIn post promoting their new focus app, FlowNest. They send you this vague prompt:\n",
        "\n",
        "“Write something about productivity tips.”\n",
        "\n",
        "Tasks Identify 3 critical issues with this prompt. (Hint: Think about brand voice, target users, and platform engagement.)\n",
        "\n",
        "Rewrite the prompt using all three techniques:\n",
        "\n",
        "Role prompting (e.g., “Act as a…”) Instruction-based prompting (e.g., “Give 3 actionable…”) Format/tone/length constraint (e.g., “Use bullet points” or “max 280 characters”)\n",
        "\n",
        "Add a final line that makes the prompt reusable (e.g., “Use this format whenever we promote productivity tools on social media”)."
      ],
      "metadata": {
        "id": "ua7WZX-ofLXV"
      }
    },
    {
      "cell_type": "markdown",
      "source": [
        "Exercise 1: Rewrite and Optimize a Vague Prompt\n",
        "\n",
        "Vague prompt:\n",
        "\n",
        "“Write something about productivity tips.”\n",
        "\n",
        "🔍 Three Critical Issues:\n",
        "\n",
        "Lacks Target Audience: Doesn’t specify who the tips are for (e.g., professionals, students, remote workers).\n",
        "\n",
        "No Brand Voice or Tone: It’s unclear how formal, friendly, or motivational the content should be.\n",
        "\n",
        "Platform Mismatch: LinkedIn has a professional tone and favors concise, value-driven content—this prompt doesn’t reflect that.\n",
        "\n",
        "Improved Prompt Using Best Practices:\n",
        "\n",
        "\"Act as a productivity coach who specializes in digital wellness for remote workers.\"\n",
        "Write a LinkedIn post with 3 actionable productivity tips tailored for remote professionals.\n",
        "- Use a professional but friendly tone, keep it under 150 words, and\n",
        "- include relevant emojis or hashtags for engagement.\n",
        "- Use this format whenever we promote productivity tools on social media."
      ],
      "metadata": {
        "id": "AtegHYhQfMDj"
      }
    },
    {
      "cell_type": "markdown",
      "source": [
        "# Exercise 2: Multi-Part Prompt for Quiz Generation\n",
        "\n",
        "Scenario: A 7th-grade science teacher uploads a short article on volcanic eruptions. You are tasked with writing a prompt for ChatGPT to create engaging educational content.\n",
        "\n",
        "Tasks\n",
        "- Write a complete prompt that asks the model to:\n",
        "- Summarize the article in 2 simple bullet points\n",
        "Generate 3 age-appropriate multiple-choice questions, each with 1 correct and 2 distractors\n",
        "Include a friendly tone and simple vocabulary for 11–13-year-olds Output everything in a format suitable for Google Slides\n",
        "\n",
        "Compare your prompt to this vague one:\n",
        "\n",
        "“Make a quiz for kids about this article.”\n",
        "\n",
        "Explain three key ways your version prevents irrelevant or low-quality output."
      ],
      "metadata": {
        "id": "FsOd4UkzfoYF"
      }
    },
    {
      "cell_type": "markdown",
      "source": [
        "Exercise 2: Multi-Part Prompt for Quiz Generation\n",
        "\n",
        "✅ Complete Prompt:\n",
        "\n",
        "You are an educational content creator. Based on the article below about volcanic eruptions:\n",
        "\n",
        "Summarize the key information in 2 simple bullet points using age-appropriate language for 7th graders (ages 11–13).\n",
        "\n",
        "Create 3 multiple-choice questions (each with 1 correct answer and 2 incorrect but believable distractors).\n",
        "\n",
        "Use a friendly tone and simple vocabulary.\n",
        "\n",
        "\"You are an educational content creator and you Write an article for 11-13 year-old kids. Create 3 multiple-choice questions (including 1 correct answer and 3 incorrect yet credible ones). The language used will have to be adequate for this public, the tone should be friendly.\"\n",
        "\n",
        "Format your response so it’s easy to copy into a Google Slides presentation—each section should be clearly labeled.\n",
        "\n",
        "🔍 Why This Works Better Than the Vague Prompt:\n",
        "\n",
        "Specific Output Structure: Tells the model exactly what to generate (summary + quiz + format).\n",
        "\n",
        "Audience Clarity: Age range and tone ensure vocabulary and difficulty are appropriate.\n",
        "\n",
        "Platform Suitability: Google Slides formatting direction aligns output with the final use."
      ],
      "metadata": {
        "id": "G7jUPOQ2foIe"
      }
    },
    {
      "cell_type": "markdown",
      "source": [
        "# Exercise 3: Add Context, Get Better Results\n",
        "✅ 1. Fill in the Table:"
      ],
      "metadata": {
        "id": "hR-rmhXsgRBE"
      }
    },
    {
      "cell_type": "markdown",
      "source": [
        "| Context Type | Is it Missing? | What Should Be Added                                         |\n",
        "| ------------ | -------------- | ------------------------------------------------------------ |\n",
        "| Role         | Yes            | “Act as a financial analyst”                                 |\n",
        "| Audience     | Yes            | “For a non-technical executive team”                         |\n",
        "| Purpose      | Yes            | “To summarize key financial takeaways for a monthly meeting” |\n",
        "| Input Source | No             | (Assumes the report is provided)                             |\n",
        "| Format/Style | Yes            | “Use 3 bullet points, each with a financial figure”          |\n",
        "| Constraints  | Yes            | “Keep it under 3 minutes of spoken content”                  |\n"
      ],
      "metadata": {
        "id": "tAOuhjxTgQmg"
      }
    },
    {
      "cell_type": "markdown",
      "source": [
        "2. Rewritten Prompt:\n",
        "\n",
        "Act as a financial analyst. Summarize the attached monthly finance report for a non-technical executive team.\n",
        "Provide 3 key takeaways, each including a relevant financial figure or trend.\n",
        "Use concise bullet points, and keep the summary suitable for a 3-minute spoken presentation."
      ],
      "metadata": {
        "id": "ottxcKOOgmNI"
      }
    },
    {
      "cell_type": "markdown",
      "source": [
        "# Exercise 4: Match Prompt to Purpose\n",
        "**Selected Style: Structured Prompt:**\n",
        "\n",
        "You are a customer support assistant. When a user reports a missing delivery, respond using the following structure:\n",
        "\n",
        "- Acknowledge the issue and express empathy.\n",
        "- Confirm order details (if available).\n",
        "- Provide next steps, including how to track or request a replacement.\n",
        "- Close with a friendly reassurance that support is ongoing.\n",
        "\n",
        "2 Key Features Matching the Structured Style:\n",
        "\n",
        "- Clear, sequential format (steps).\n",
        "- Ensures consistency in customer support tone and handling.\n",
        "\n",
        "**Why Structured Style is Best:**\n",
        "\n",
        "- structured approach ensures accuracy, efficiency, and uniformity in customer interactions\n",
        "- especially critical when handling sensitive issues like lost orders."
      ],
      "metadata": {
        "id": "JLX2DfS0godY"
      }
    },
    {
      "cell_type": "markdown",
      "source": [
        "# Exercise 5: Prompt Refinement Challenge\n",
        "1. Initial Prompt:\n",
        "\n",
        "Write a product blurb for the new PulseOne Mini smartwatch in a friendly tone, using exactly 3 bullet points.\n",
        "Each bullet must highlight one of these features: battery life, fitness tracking, Bluetooth compatibility.\n",
        "Do not exceed 50 words total.\n",
        "\n",
        "2. Evaluate the Output (Sample):\n",
        "\n",
        "- Lasts up to 7 days on a single charge\n",
        "- Tracks steps, heart rate & workouts\n",
        "- Syncs seamlessly via Bluetooth\n",
        "\n",
        "✓ Word Count: 21\n",
        "✓ All Features Included: Yes\n",
        "✓ Tone: Friendly and engaging\n",
        " Passed"
      ],
      "metadata": {
        "id": "iDQLXVOeg5_F"
      }
    },
    {
      "cell_type": "markdown",
      "source": [
        " # Exercise 6: Hallucination Spotting and Mitigation\n",
        "\n",
        " Scenario: You’re preparing a summary of a peer-reviewed article on climate change and marine biodiversity. ChatGPT inserts this claim:\n",
        "\n",
        "“Over 50% of marine species are projected to go extinct by 2050.”\n",
        "\n",
        "This claim does not appear in the original article.\n",
        "\n",
        "Tasks\n",
        "\n",
        "Write a precise prompt instructing the model to avoid hallucinations and use only the provided text.\n",
        "\n",
        "Rewrite the prompt using verification language, like:\n",
        "\n",
        "“Only include claims explicitly stated in the article.” “If uncertain, state that the information is not available.”\n",
        "\n",
        "Rewritten with Verification Language:\n",
        "- Summarize the article with strict accuracy.\n",
        "- Only include statements that are directly supported by the article.\n",
        "- If a claim is not explicitly made, do not include it.\n",
        "- If information is uncertain or missing, clearly state: “This information is not available in the article.”\n",
        "\n",
        "List 2 mitigation strategies you used to reduce hallucination risk.\n",
        "\n",
        "Mitigation Strategies:\n",
        "\n",
        "- Source-bounded Instructions: Explicitly restrict output to the provided material.\n",
        "- Uncertainty Acknowledgment: Require the model to admit when info isn’t present.\n",
        "\n",
        "Name 2 professional domains (e.g., legal, healthcare) where hallucinations are especially risky, and explain why.\n",
        "\n",
        "High-Risk Domains for Hallucinations:\n",
        "- Legal: Misstating laws or precedents can lead to incorrect or illegal advice.\n",
        "- Healthcare: False medical claims can risk patient safety and violate ethical standards."
      ],
      "metadata": {
        "id": "a0KcEvKsg5uc"
      }
    }
  ]
}