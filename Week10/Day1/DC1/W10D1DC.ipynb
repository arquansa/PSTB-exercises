{
  "nbformat": 4,
  "nbformat_minor": 0,
  "metadata": {
    "colab": {
      "provenance": [],
      "authorship_tag": "ABX9TyPZGhKJetYpMQPcwqwHROCy",
      "include_colab_link": true
    },
    "kernelspec": {
      "name": "python3",
      "display_name": "Python 3"
    },
    "language_info": {
      "name": "python"
    }
  },
  "cells": [
    {
      "cell_type": "markdown",
      "metadata": {
        "id": "view-in-github",
        "colab_type": "text"
      },
      "source": [
        "<a href=\"https://colab.research.google.com/github/arquansa/PSTB-exercises/blob/main/Week10/Day1/DC1/W10D1DC.ipynb\" target=\"_parent\"><img src=\"https://colab.research.google.com/assets/colab-badge.svg\" alt=\"Open In Colab\"/></a>"
      ]
    },
    {
      "cell_type": "markdown",
      "source": [
        "# Daily Challenge: Precision Prompting\n",
        "Last Updated: May 6th, 2025\n",
        "\n",
        "Daily Challenge: Precision Prompting for Control & Output Quality\n",
        "\n",
        "\n",
        "👩‍🏫 👩🏿‍🏫 What You’ll learn\n",
        "How to apply advanced prompting techniques to shape the tone, structure, and format of AI-generated content\n",
        "How to constrain AI responses using word limits, sentence counts, and output formats\n",
        "How to guide the model to paraphrase, quote, or summarize text with precision\n",
        "How to evaluate and revise prompts for better results\n",
        "How to detect and mitigate hallucinated or fabricated content\n",
        "\n",
        "\n",
        "🛠️ What you will create\n",
        "You’ll design, test, and refine a prompt that performs four different control tasks in a realistic content generation workflow. You’ll work through a full prompt development cycle:\n",
        "\n",
        "Crafting a prompt with tone, structure, format, and length control\n",
        "Evaluating the output for quality and accuracy\n",
        "Mitigating hallucination risks\n",
        "Enhancing clarity through quoting or paraphrasing techniques\n",
        "\n",
        "\n",
        "What Will You Use\n",
        "Concepts: advanced prompting (tone, structure, format, length), hallucination detection, paraphrasing vs. quoting\n",
        "Techniques: role prompting, instruction-based prompting, output constraints, iterative evaluation & revision\n",
        "Method: prompt development cycle (design → generate → evaluate → refine)\n",
        "Model: Generative AI (e.g., ChatGPT/GPT-4, Gemini, DeepSeek, …)\n",
        "Dataset: the provided policy paragraph on remote access security\n",
        "\n",
        "\n",
        "Scenario\n",
        "You work on the Learning & Communications Team at a global tech company. You’ve been asked to use generative AI to create employee-facing microlearning content for an internal newsletter.\n",
        "\n",
        "Your task is to turn a paragraph from a recent internal policy update into a concise and clear knowledge snippet. The original policy text is overly formal, dense, and full of jargon.\n",
        "\n",
        "\n",
        "\n",
        "Instructions\n",
        "\n",
        "\n",
        "Step 1: Craft a Prompt That Controls Output Tone, Format, and Length\n",
        "Using the following original text excerpt, write a prompt that:\n",
        "\n",
        "Rewrites it in a friendly and clear tone\n",
        "Uses bullet points to organize information\n",
        "Paraphrases the original, avoiding direct quotations\n",
        "Stays under 75 words total\n",
        "\n",
        "\n",
        "Input Text:\n",
        "\n",
        "Employees must ensure that all remote access to internal systems is established via the approved secure VPN. Under no circumstances should unsecured connections or personal devices lacking endpoint protection be used to access proprietary data or sensitive communications.\n",
        "\n",
        "\n",
        "\n",
        "Step 2: Evaluate the Output\n",
        "Once you’ve generated the response, review it using the following criteria:\n",
        "\n",
        "Criteria\tGuiding Questions\n",
        "Relevance\tDoes the output stick to the message of the source content?\n",
        "Clarity\tIs the message easier to understand for non-technical staff?\n",
        "Structure\tIs the information formatted into clear bullet points?\n",
        "Tone\tIs the language appropriate for internal employee communication?\n",
        "Length\tDoes it stay under 75 words?\n",
        "Factual Accuracy\tDid the model make up or remove any critical security details?\n",
        "\n",
        "\n",
        "Step 3: Detect and Mitigate Hallucinations\n",
        "If the model adds extra content (e.g., new policy terms, technologies not in the input), write a revised version of your original prompt that strictly limits the model to the input only.\n",
        "\n",
        "For example, you might add:\n",
        "\n",
        "“Only paraphrase the content in the input text. Do not add new recommendations or technologies.”\n",
        "\n",
        "\n",
        "\n",
        "Step 4: Paraphrasing Deep Dive\n",
        "Now write a second version of the prompt that paraphrases the policy paragraph for a junior intern audience, using plain language and short phrases.\n",
        "\n",
        "Use no more than 4 bullet points\n",
        "Avoid any corporate or legal jargon\n",
        "Keep the tone supportive and informative\n",
        "\n",
        "\n",
        "Step 5: Quote Extraction Variant\n",
        "Sometimes, quoting is more effective than paraphrasing. Write a new prompt that extracts one direct quote from the original text that best captures the core security policy.\n",
        "\n",
        "Then answer:\n",
        "\n",
        "In what kind of internal communication would quoting be more appropriate than paraphrasing?\n",
        "When might quoting pose a risk?\n"
      ],
      "metadata": {
        "id": "_dyJCIqxCCLa"
      }
    },
    {
      "cell_type": "markdown",
      "source": [
        "Scenario\n",
        "You work on the Learning & Communications Team at a global tech company. You’ve been asked to use generative AI to create employee-facing microlearning content for an internal newsletter.\n",
        "\n",
        "Your task is to turn a paragraph from a recent internal policy update into a concise and clear knowledge snippet. The original policy text is overly formal, dense, and full of jargon."
      ],
      "metadata": {
        "id": "RXizFL-mDeAw"
      }
    },
    {
      "cell_type": "markdown",
      "source": [
        "# Step 1: Craft a Prompt That Controls Output Tone, Format, and Length\n",
        "\n",
        "Using the following original text excerpt, write a prompt that:\n",
        "\n",
        "- Rewrites it in a friendly and clear tone Uses bullet points to organize information\n",
        "- Paraphrases the original, avoiding direct quotations\n",
        "- Stays under 75 words total\n",
        "\n",
        "Input Text:\n",
        "\n",
        "Employees must ensure that all remote access to internal systems is established via the approved secure VPN. Under no circumstances should unsecured connections or personal devices lacking endpoint protection be used to access proprietary data or sensitive communications.\n",
        "\n",
        "Modofied prompt:\n",
        "\n",
        "We want to inform the staff that to help keep our data and communications safe, for all external work access, they shoud:\n",
        "- use our protected VPN\n",
        "- avoid unsecured connections, and\n",
        "- avoid using unpprotected personal devices  \n",
        "\n",
        "Total: 35 words"
      ],
      "metadata": {
        "id": "CmgZBtXDEDLb"
      }
    },
    {
      "cell_type": "markdown",
      "source": [
        "# Step 2: Evaluate the Output\n",
        "Once you’ve generated the response, review it using the following criteria:\n",
        "\n",
        "Criteria Guiding Questions\n",
        "\n",
        "- Relevance Does the output stick to the message of the source content?\n",
        "- Clarity Is the message easier to understand for non-technical staff?\n",
        "- Structure Is the information formatted into clear bullet points?\n",
        "- Tone Is the language appropriate for internal employee communication? - Length Does it stay under 75 words? Factual\n",
        "- Accuracy Did the model make up or remove any critical security details?"
      ],
      "metadata": {
        "id": "0bmixToJX9NC"
      }
    },
    {
      "cell_type": "markdown",
      "source": [
        "- The output is in keeping with the message of the source content.\n",
        "- The message itself as well as its intention, are easier to understand for non technical persons.\n",
        "- Information is formatted into clear bullets\n",
        "- Tone is quite appropriate for internal employee communication (courteous and informative)\n",
        "- the text length is 35 words (under 75 words)\n",
        "- Critical security details have been conveyed."
      ],
      "metadata": {
        "id": "V04cDD-Yb41L"
      }
    },
    {
      "cell_type": "markdown",
      "source": [
        "**Output evaluation**\n",
        "\n",
        "| **Criteria**         | **Evaluation**                                        |\n",
        "| -------------------- | ----------------------------------------------------- |\n",
        "| **Relevance**        | ✔️ All key ideas from the source are preserved.       |\n",
        "| **Clarity**          | ✔️ Easier for non-technical staff to understand.      |\n",
        "| **Structure**        | ✔️ Clearly structured with bullet points.             |\n",
        "| **Tone**             | ✔️ Friendly and direct, appropriate for internal use. |\n",
        "| **Length**           | ✔️ Under 75 words.                                    |\n",
        "| **Factual Accuracy** | ✔️ No hallucinated or omitted critical info.          |\n"
      ],
      "metadata": {
        "id": "WsnPANclSywF"
      }
    },
    {
      "cell_type": "markdown",
      "source": [
        "# Step 3: Detect and Mitigate Hallucinations\n",
        "\n",
        "If the model adds extra content (e.g., new policy terms, technologies not in the input), write a revised version of your original prompt that strictly limits the model to the input only.\n",
        "\n",
        "For example, you might add:\n",
        "\n",
        "“Only paraphrase the content in the input text. Do not add new recommendations or technologies.”"
      ],
      "metadata": {
        "id": "g_0tSkvafaV_"
      }
    },
    {
      "cell_type": "markdown",
      "source": [
        "Hallucination Mitigation Prompt (Revised Version)\n",
        "\n",
        "Paraphrase the input text in a friendly tone using bullet points.\n",
        "- Keep the total output under 75 words.\n",
        "- Use only the information provided\n",
        "— do not add any technologies, examples, or policy terms not in the input.\n",
        "- Avoid direct quotes."
      ],
      "metadata": {
        "id": "4mC87H9XYA7E"
      }
    },
    {
      "cell_type": "markdown",
      "source": [
        "# Step 4: Paraphrasing Deep Dive\n",
        "\n",
        "Now write a second version of the prompt that paraphrases the policy paragraph for a junior intern audience, using plain language and short phrases.\n",
        "\n",
        "- Use no more than 4 bullet points\n",
        "- Avoid any corporate or legal jargon\n",
        "- Keep the tone supportive and informative"
      ],
      "metadata": {
        "id": "epmdTMIVapMg"
      }
    },
    {
      "cell_type": "markdown",
      "source": [
        "Paraphrasing for Junior Interns"
      ],
      "metadata": {
        "id": "D0GDvDAGZsQC"
      }
    },
    {
      "cell_type": "markdown",
      "source": [
        "Prompt:\n",
        "\n",
        "Paraphrase the input policy text for a junior intern. Use plain language with no corporate or legal jargon. Use no more than 4 bullet points. Keep each point short and simple. Use a supportive and informative tone.\n",
        "\n",
        "Input Text:\n",
        "Employees must ensure that all remote access to internal systems is established via the approved secure VPN. Under no circumstances should unsecured connections or personal devices lacking endpoint protection be used to access proprietary data or sensitive communications.\n",
        "\n",
        "Revised prompt:\n",
        "\n",
        "Sample Output:**\n",
        "\n",
        "* Always use the company’s VPN to work remotely.\n",
        "* Don’t use public Wi-Fi or personal laptops for work.\n",
        "* Make sure your device has security software.\n",
        "* This protects private company info.\n",
        "\n",
        "**Short, simple, under 50 words, 4 bullets and friendly.**\n"
      ],
      "metadata": {
        "id": "yGGal2IcZt7g"
      }
    },
    {
      "cell_type": "markdown",
      "source": [
        "# Step 5: Quote Extraction Variant\n",
        "\n",
        "Sometimes, quoting is more effective than paraphrasing.\n",
        "- Write a new prompt that extracts one direct quote from the original text that best captures the core security policy.\n",
        "\n",
        "Then answer:\n",
        "\n",
        "In what kind of internal communication would quoting be more appropriate than paraphrasing? When might quoting pose a risk?"
      ],
      "metadata": {
        "id": "EGh4ckaqYIRD"
      }
    },
    {
      "cell_type": "markdown",
      "source": [
        "Prompt:\n",
        "\n",
        "From the input text, extract one direct quote that best summarizes the core security policy. Do not paraphrase — quote exactly as written.\n",
        "\n",
        "Input Text:\n",
        "Employees must ensure that all remote access to internal systems is established via the approved secure VPN. Under no circumstances should unsecured connections or personal devices lacking endpoint protection be used to access proprietary data or sensitive communications."
      ],
      "metadata": {
        "id": "lozXPTjsazwv"
      }
    },
    {
      "cell_type": "markdown",
      "source": [
        "Sample Output:\n",
        "\n",
        "“Employees must ensure that all remote access to internal systems is established via the approved secure VPN.”"
      ],
      "metadata": {
        "id": "8wkrMs-ebI3V"
      }
    },
    {
      "cell_type": "markdown",
      "source": [
        "**When to Use Quoting vs. Paraphrasing:**\n",
        "- Quoting is appropriate when:\n",
        "- Communicating formal policies or legal language in compliance documents.\n",
        "- Referencing exact wording is necessary (e.g., audits, compliance reports).\n",
        "- You need to avoid misinterpretation of official rules.\n",
        "\n",
        "**Quoting may pose a risk when:**\n",
        "- The original language is too dense or confusing for employees.\n",
        "- It contains legal jargon or passive voice that reduces clarity.\n",
        "- It might be interpreted too narrowly or lack actionable clarity."
      ],
      "metadata": {
        "id": "mKL0RW6hbR5p"
      }
    },
    {
      "cell_type": "markdown",
      "source": [
        "###Prompt creation process:\n",
        "\n",
        "1. **Design** a precise prompt with control.\n",
        "2. **Generate** outputs under constraints.\n",
        "3. **Evaluate** for quality and alignment.\n",
        "4. **Refine** to remove hallucinations.\n",
        "5. Use both **paraphrasing and quoting** where appropriate.\n",
        "\n",
        "Would you like a quick summary of the best practices we applied here?\n"
      ],
      "metadata": {
        "id": "_zWOtBtdbdPU"
      }
    },
    {
      "cell_type": "markdown",
      "source": [
        "## As a conclusion\n",
        "\n",
        "#### 1. Control Tone, Structure & Format\n",
        "#### 2. Use Clear Output Constraints\n",
        "#### 3. Match Output to Audience\n",
        "#### 4. Evaluate Outputs with Clear Criteria\n",
        "#### 5. Mitigate Hallucinations\n",
        "#### 6. Choose Between Paraphrasing vs. Quoting\n",
        "\n",
        "---"
      ],
      "metadata": {
        "id": "Bme9MmV7cE1o"
      }
    }
  ]
}