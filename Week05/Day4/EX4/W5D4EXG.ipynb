{
  "metadata": {
    "kernelspec": {
      "name": "python3",
      "display_name": "Python 3"
    },
    "language_info": {
      "name": "python"
    },
    "kaggle": {
      "accelerator": "none",
      "dataSources": [
        {
          "sourceId": 1569680,
          "sourceType": "datasetVersion",
          "datasetId": 927657
        }
      ],
      "dockerImageVersionId": 30040,
      "isInternetEnabled": true,
      "language": "r",
      "sourceType": "notebook",
      "isGpuEnabled": false
    },
    "colab": {
      "provenance": [],
      "include_colab_link": true
    }
  },
  "nbformat_minor": 0,
  "nbformat": 4,
  "cells": [
    {
      "cell_type": "markdown",
      "metadata": {
        "id": "view-in-github",
        "colab_type": "text"
      },
      "source": [
        "<a href=\"https://colab.research.google.com/github/arquansa/PSTB-exercises/blob/main/Week05/Day4/EX4/W5D4EXG.ipynb\" target=\"_parent\"><img src=\"https://colab.research.google.com/assets/colab-badge.svg\" alt=\"Open In Colab\"/></a>"
      ]
    },
    {
      "cell_type": "markdown",
      "source": [
        "Exercises XP Gold\n",
        "Last Updated: February 10th, 2025\n",
        "\n",
        "👩‍🏫 👩🏿‍🏫 What You’ll learn\n",
        "Data wrangling and preparation for hypothesis testing\n",
        "Visualizing data distributions and comparing group differences\n",
        "Conducting independent two-sample t-tests for comparing means\n",
        "Understanding assumptions for t-tests, including normality and homoscedasticity\n",
        "Conducting One-Way ANOVA to compare multiple treatment groups and performing post-hoc tests\n",
        "\n",
        "\n",
        "🛠️ What you will create\n",
        "Analyzing gender differences in student performance across Math, Reading, and Writing\n",
        "Conducting t-tests to compare performance scores between males and females\n",
        "\n",
        "\n",
        "For today’s XP Gold Exercises, we will predict how various factors such as gender, test preparation, and lunch status influence student performance in Math, Reading, and Writing scores.\n",
        "Please stop the exercise when you see “XP Ninja” in the notebook :)\n"
      ],
      "metadata": {
        "id": "2R4ql0QKRo8A"
      }
    },
    {
      "cell_type": "markdown",
      "source": [
        " # Society's assumptions aren't always true... aren't they?\n",
        "\n",
        "\n",
        "\n",
        "\n",
        "We begin by loading the libraries needed for this project."
      ],
      "metadata": {
        "id": "SVjK2TzRETZv"
      }
    },
    {
      "cell_type": "code",
      "source": [
        "import importlib\n",
        "import sys\n",
        "import matplotlib\n",
        "\n",
        "\n",
        "def install_and_import(packages):\n",
        "    \"\"\"\n",
        "    Attempts to import packages. If a package is missing, it prints a message instead of installing.\n",
        "    \"\"\"\n",
        "    for package in packages:\n",
        "        try:\n",
        "            globals()[package] = importlib.import_module(package)\n",
        "        except ImportError:\n",
        "            print(f\"Warning: The package '{package}' is not installed. Please install it manually.\")\n",
        "\n",
        "\n",
        "packages = [\n",
        "    \"devtools\", \"pandas\", \"scipy\", \"statsmodels\", \"sklearn\", \"matplotlib\", \"seaborn\",\n",
        "    \"tseries\", \"car\", \"caret\", \"lmtest\", \"rstatix\", \"onewaytests\", \"lattice\", \"multcompview\",\n",
        "    \"viridis\", \"gridextra\", \"gvlma\", \"ggpubr\"\n",
        "]\n",
        "\n",
        "install_and_import(packages)\n",
        "\n",
        "# Now all available libraries are imported\n"
      ],
      "metadata": {
        "_uuid": "618e3aef-7319-4595-bace-a34c9fd551d8",
        "_cell_guid": "6c864241-dd48-4f48-a981-f143fd9acc67",
        "trusted": true,
        "id": "pPPCIKNQETZx",
        "outputId": "4d13eae9-0d3d-4b79-8c36-0b418d76f267",
        "colab": {
          "base_uri": "https://localhost:8080/"
        }
      },
      "outputs": [
        {
          "output_type": "stream",
          "name": "stdout",
          "text": [
            "Warning: The package 'devtools' is not installed. Please install it manually.\n",
            "Warning: The package 'tseries' is not installed. Please install it manually.\n",
            "Warning: The package 'car' is not installed. Please install it manually.\n",
            "Warning: The package 'caret' is not installed. Please install it manually.\n",
            "Warning: The package 'lmtest' is not installed. Please install it manually.\n",
            "Warning: The package 'rstatix' is not installed. Please install it manually.\n",
            "Warning: The package 'onewaytests' is not installed. Please install it manually.\n",
            "Warning: The package 'lattice' is not installed. Please install it manually.\n",
            "Warning: The package 'multcompview' is not installed. Please install it manually.\n",
            "Warning: The package 'viridis' is not installed. Please install it manually.\n",
            "Warning: The package 'gridextra' is not installed. Please install it manually.\n",
            "Warning: The package 'gvlma' is not installed. Please install it manually.\n",
            "Warning: The package 'ggpubr' is not installed. Please install it manually.\n"
          ]
        }
      ],
      "execution_count": null
    },
    {
      "cell_type": "markdown",
      "source": [
        "Now we can load the dataset"
      ],
      "metadata": {
        "id": "6Gq5AJwKETZx"
      }
    },
    {
      "cell_type": "code",
      "source": [
        "## TODO: Load the \"StudentsPerformance\" dataset from a CSV file.\n",
        "import pandas as pd\n",
        "df = pd.read_csv('Students_Performance.csv')\n"
      ],
      "metadata": {
        "trusted": true,
        "id": "Zv5sfT1OETZy"
      },
      "outputs": [],
      "execution_count": null
    },
    {
      "cell_type": "markdown",
      "source": [
        "### This dataset describes the students performances in three different tests:\n",
        "\n",
        "- **Math**\n",
        "\n",
        "- **Reading**\n",
        "\n",
        "- **Writing**\n",
        "\n",
        "### Through different variables:\n",
        "\n",
        "- **gender** : binary sex at birth for each individual\n",
        "\n",
        "- **race.ethnicity** : ethnicity group\n",
        "\n",
        "- **parental.level.of.education** : formal level of education achieved by the individual\n",
        "\n",
        "- **lunch** : binary variable for the randomly assigned bonus of free/reduced lunch\n",
        "\n",
        "- **test.preparation.course** : binary variable for the randomly assigned bonus of attending a test preparation course\n",
        "\n",
        "\n",
        "\n",
        "\n",
        "# Which 'gender' is better at maths? And which is better in writing and reading?\n",
        "\n",
        "This is clearly a question that **relies heavily on gender roles** , that since forever assign females to be better at literature tasks and males to be better at mathematical tasks , even though history has repetedly busted this popular myth.\n",
        "\n",
        "For example we have witnessed as a society people like : **Mary Cartwright , Ada Lovelace , Emmy Noether, Maryam Mirzakhani** that definitely were mathematical geniouses.\n",
        "\n",
        "And on the other hand we have witnessed  as a society people like : **Charles Dickens, Lev Tolstoj, Fëdor Dostoevskij,Dante Alighieri** that definitely were literature geniouses.\n",
        "\n",
        "So the aim of this first task is to understand if in this sample there are differences in means between males and females' scores and if they could be statistically significant.\n",
        "\n",
        "### Before conducting any test , let's visualize the situation\n",
        "\n",
        "We're going to do some data wrangling to visualize the scores by gender"
      ],
      "metadata": {
        "id": "j9Qn-RD9ETZy"
      }
    },
    {
      "cell_type": "markdown",
      "source": [
        "### Now we can finally plot the differences between genders in the scores\n"
      ],
      "metadata": {
        "id": "bXi-5pmGETZz"
      }
    },
    {
      "cell_type": "code",
      "source": [
        "## TODO:\n",
        "import seaborn as sns\n",
        "import matplotlib.pyplot as plt\n",
        "\n",
        "df_long = pd.melt(df[['gender', 'math score', 'reading score', 'writing score']],\n",
        "                  id_vars='gender',\n",
        "                  var_name='subject',\n",
        "                  value_name='score')\n",
        "\n",
        "# Assuming df_long is already created using melt\n",
        "# If not, repeat the melt step:\n",
        "# df_long = pd.melt(df[['gender', 'math score', 'reading score', 'writing score']],\n",
        "#                   id_vars='gender',\n",
        "#                   var_name='subject',\n",
        "#                   value_name='score')\n",
        "\n",
        "# Set plot style\n",
        "sns.set(style=\"whitegrid\")\n",
        "\n",
        "# Create boxplot\n",
        "plt.figure(figsize=(10, 6))\n",
        "sns.boxplot(x='subject', y='score', hue='gender', data=df_long)\n",
        "\n",
        "# Add title and labels\n",
        "plt.title('Student Scores by Gender and Subject')\n",
        "plt.xlabel('Subject')\n",
        "plt.ylabel('Score')\n",
        "plt.legend(title='Gender')\n",
        "\n",
        "# Show plot\n",
        "plt.tight_layout()\n",
        "plt.show()\n"
      ],
      "metadata": {
        "trusted": true,
        "id": "0zQOJ-EbETZz",
        "outputId": "b6373e2d-896f-47e3-c747-6f766b0cae2b",
        "colab": {
          "base_uri": "https://localhost:8080/",
          "height": 601
        }
      },
      "outputs": [
        {
          "output_type": "display_data",
          "data": {
            "text/plain": [
              "<Figure size 1000x600 with 1 Axes>"
            ],
            "image/png": "[encoded data removed]"
          },
          "metadata": {}
        }
      ],
      "execution_count": null
    },
    {
      "cell_type": "markdown",
      "source": [
        "It looks like:\n",
        "\n",
        "- **For math score**: males are a little bit better\n",
        "\n",
        "- **For reading score**: females are a little bit better\n",
        "\n",
        "- **For writing score**: females are better as also the scores are affected by less variability around and higher mean\n",
        "\n",
        "\n",
        "\n",
        "***\n",
        "\n",
        "\n",
        "\n",
        "# Now we can go on and perform the first independent two-sample t-test for math scores\n",
        "\n",
        "The size of the males and females samples are different!\n",
        "\n",
        "This means that in the equation for the t statistic:\n",
        "\n",
        "$$ t = \\frac{\\bar{x_{1}}-\\bar{x_{2}}}{S_{pool}\\sqrt{\\frac{1}{n_{1}}-\\frac{1}{n_{2}}}} $$\n",
        "happens that:\n",
        "\n",
        "$$n_{1}\\neq n_{2}$$\n",
        "\n",
        "\n",
        "First we perform some data wrangling on the main dataframe"
      ],
      "metadata": {
        "id": "5-pk58zoETZ0"
      }
    },
    {
      "cell_type": "code",
      "source": [
        "## TODO: Reshape the data into a tidy format\n",
        "# Select gender and score columns\n",
        "df_subset = df[['gender', 'math score', 'reading score', 'writing score']]\n",
        "\n",
        "# Melt the DataFrame to long (tidy) format\n",
        "df_tidy = pd.melt(df_subset,\n",
        "                  id_vars='gender',\n",
        "                  var_name='subject',\n",
        "                  value_name='score')\n",
        "\n",
        "# Clean up subject names if needed\n",
        "df_tidy['subject'] = df_tidy['subject'].str.replace(' score', '', regex=False)\n",
        "\n",
        "# View the tidy data\n",
        "print(df_tidy.head())"
      ],
      "metadata": {
        "trusted": true,
        "id": "k5OYEMv0ETZ0",
        "outputId": "aa2def1d-ef03-4af7-e4e6-e5b74c86b4a7",
        "colab": {
          "base_uri": "https://localhost:8080/"
        }
      },
      "outputs": [
        {
          "output_type": "stream",
          "name": "stdout",
          "text": [
            "   gender subject  score\n",
            "0  female    math     72\n",
            "1  female    math     69\n",
            "2  female    math     90\n",
            "3    male    math     47\n",
            "4    male    math     76\n"
          ]
        }
      ],
      "execution_count": null
    },
    {
      "cell_type": "markdown",
      "source": [
        "We take male and females groups for the math scores:\n"
      ],
      "metadata": {
        "id": "tbYziw8WETZ1"
      }
    },
    {
      "cell_type": "code",
      "source": [
        "## TODO: Separate the scores for males and females in math by filtering the data accordingly.\n",
        "# Filter for math scores only\n",
        "math_scores = df_tidy[df_tidy['subject'] == 'math']\n",
        "\n",
        "# Separate by gender\n",
        "male_math_scores = math_scores[math_scores['gender'] == 'male']\n",
        "female_math_scores = math_scores[math_scores['gender'] == 'female']\n",
        "\n",
        "# Optional: Reset index if needed\n",
        "male_math_scores = male_math_scores.reset_index(drop=True)\n",
        "female_math_scores = female_math_scores.reset_index(drop=True)\n",
        "\n",
        "# Display first few rows\n",
        "print(\"Male Math Scores:\")\n",
        "print(male_math_scores)\n"
      ],
      "metadata": {
        "trusted": true,
        "id": "8qBDSh-wETZ1",
        "outputId": "fd862f18-82ed-4658-fb58-9d48c832d030",
        "colab": {
          "base_uri": "https://localhost:8080/"
        }
      },
      "outputs": [
        {
          "output_type": "stream",
          "name": "stdout",
          "text": [
            "Male Math Scores:\n",
            "    gender subject  score\n",
            "0     male    math     47\n",
            "1     male    math     76\n",
            "2     male    math     40\n",
            "3     male    math     64\n",
            "4     male    math     58\n",
            "..     ...     ...    ...\n",
            "477   male    math     57\n",
            "478   male    math     81\n",
            "479   male    math     86\n",
            "480   male    math     63\n",
            "481   male    math     62\n",
            "\n",
            "[482 rows x 3 columns]\n"
          ]
        }
      ],
      "execution_count": null
    },
    {
      "cell_type": "markdown",
      "source": [
        "\n",
        "### Now we are able to go on and check the t- test assumptions:\n",
        "\n",
        "Normality (even if the sample sizes are reasonable): let's start with a qqplot"
      ],
      "metadata": {
        "id": "zzaZCkgAETZ1"
      }
    },
    {
      "cell_type": "code",
      "source": [
        "## TODO: Create a plot for the male math scores.\n",
        "import matplotlib.pyplot as plt\n",
        "import seaborn as sns\n",
        "\n",
        "# Create a histogram\n",
        "plt.figure(figsize=(8, 5))\n",
        "sns.histplot(male_math_scores['score'], bins=10, kde=True, color='skyblue')\n",
        "\n",
        "# Customize the plot\n",
        "plt.title('Distribution of Math Scores (Male Students)')\n",
        "plt.xlabel('Math Score')\n",
        "plt.ylabel('Frequency')\n",
        "plt.grid(True)\n",
        "\n",
        "# Show the plot\n",
        "plt.tight_layout()\n",
        "plt.show()\n"
      ],
      "metadata": {
        "trusted": true,
        "id": "QShNsLGZETZ2",
        "outputId": "03bb873a-30be-470f-8793-648363d819d3",
        "colab": {
          "base_uri": "https://localhost:8080/",
          "height": 501
        }
      },
      "outputs": [
        {
          "output_type": "display_data",
          "data": {
            "text/plain": [
              "<Figure size 800x500 with 1 Axes>"
            ],
            "image/png": "[encoded data removed]"
          },
          "metadata": {}
        }
      ],
      "execution_count": null
    },
    {
      "cell_type": "markdown",
      "source": [
        "\n",
        "</br>\n",
        "</br>\n",
        "</br>\n",
        "\n",
        "At first glance the qqplot doesn't look perfect , but we might be ok with the normality assumption , let's see what a  Lilliefors (Kolmogorov-Smirnov) normality test tells us:"
      ],
      "metadata": {
        "id": "J3Mxi3rXETZ2"
      }
    },
    {
      "cell_type": "code",
      "source": [
        "## TODO: Perform a Lilliefors (Kolmogorov-Smirnov) test for normality on the male math scores.\n",
        "!pip install statsmodels"
      ],
      "metadata": {
        "trusted": true,
        "id": "4y4A7axHETZ2",
        "outputId": "293009c0-f036-4dcb-bdaf-5c4d587c8fb3",
        "colab": {
          "base_uri": "https://localhost:8080/"
        }
      },
      "outputs": [
        {
          "output_type": "stream",
          "name": "stdout",
          "text": [
            "Requirement already satisfied: statsmodels in /usr/local/lib/python3.11/dist-packages (0.14.5)\n",
            "Requirement already satisfied: numpy<3,>=1.22.3 in /usr/local/lib/python3.11/dist-packages (from statsmodels) (2.0.2)\n",
            "Requirement already satisfied: scipy!=1.9.2,>=1.8 in /usr/local/lib/python3.11/dist-packages (from statsmodels) (1.16.1)\n",
            "Requirement already satisfied: pandas!=2.1.0,>=1.4 in /usr/local/lib/python3.11/dist-packages (from statsmodels) (2.2.2)\n",
            "Requirement already satisfied: patsy>=0.5.6 in /usr/local/lib/python3.11/dist-packages (from statsmodels) (1.0.1)\n",
            "Requirement already satisfied: packaging>=21.3 in /usr/local/lib/python3.11/dist-packages (from statsmodels) (25.0)\n",
            "Requirement already satisfied: python-dateutil>=2.8.2 in /usr/local/lib/python3.11/dist-packages (from pandas!=2.1.0,>=1.4->statsmodels) (2.9.0.post0)\n",
            "Requirement already satisfied: pytz>=2020.1 in /usr/local/lib/python3.11/dist-packages (from pandas!=2.1.0,>=1.4->statsmodels) (2025.2)\n",
            "Requirement already satisfied: tzdata>=2022.7 in /usr/local/lib/python3.11/dist-packages (from pandas!=2.1.0,>=1.4->statsmodels) (2025.2)\n",
            "Requirement already satisfied: six>=1.5 in /usr/local/lib/python3.11/dist-packages (from python-dateutil>=2.8.2->pandas!=2.1.0,>=1.4->statsmodels) (1.17.0)\n"
          ]
        }
      ],
      "execution_count": null
    },
    {
      "cell_type": "code",
      "source": [],
      "metadata": {
        "id": "TgCIlEXYperS"
      },
      "execution_count": null,
      "outputs": []
    },
    {
      "cell_type": "markdown",
      "source": [
        "at significance level 0.05 normality assumption is checked since the p-value is 0.08.\n",
        "\n",
        "\n",
        "### Let's check for the females group:"
      ],
      "metadata": {
        "id": "58dBEnNsETZ2"
      }
    },
    {
      "cell_type": "code",
      "source": [
        "## TODO: Create a plot for the female math scores to check for normality.\n",
        "from statsmodels.stats.diagnostic import lilliefors\n",
        "\n",
        "# Extract just the score values for males\n",
        "male_scores = male_math_scores['score']\n",
        "\n",
        "# Perform the Lilliefors test\n",
        "statistic, p_value = lilliefors(male_scores)\n",
        "\n",
        "# Display the result\n",
        "print(\"Lilliefors Test for Normality (Male Math Scores)\")\n",
        "print(f\"Test Statistic: {statistic:.4f}\")\n",
        "print(f\"P-value: {p_value:.4f}\")\n",
        "\n",
        "# Interpretation\n",
        "if p_value < 0.05:\n",
        "    print(\"Reject the null hypothesis: Data is NOT normally distributed.\")\n",
        "else:\n",
        "    print(\"Fail to reject the null hypothesis: Data appears normally distributed.\")\n"
      ],
      "metadata": {
        "trusted": true,
        "id": "Iw8iXoEbETZ2",
        "outputId": "80aa71ba-d1f1-43cd-c9d2-1bc4e86a9fa5",
        "colab": {
          "base_uri": "https://localhost:8080/"
        }
      },
      "outputs": [
        {
          "output_type": "stream",
          "name": "stdout",
          "text": [
            "Lilliefors Test for Normality (Male Math Scores)\n",
            "Test Statistic: 0.0388\n",
            "P-value: 0.1031\n",
            "Fail to reject the null hypothesis: Data appears normally distributed.\n"
          ]
        }
      ],
      "execution_count": null
    },
    {
      "cell_type": "markdown",
      "source": [
        "\n",
        "</br>\n",
        "</br>\n",
        "</br>\n",
        "\n",
        "This doesn't look good either ,but let's see what an Anderson-Darling  normality test tells us:"
      ],
      "metadata": {
        "id": "9jQ-dGHZETZ2"
      }
    },
    {
      "cell_type": "code",
      "source": [
        "## TODO: Perform the Anderson-Darling test on the female math scores to check for normality.\n",
        "import scipy.stats as stats\n",
        "\n",
        "# Extract the female math scores from your tidy DataFrame\n",
        "female_scores = female_math_scores['score']\n",
        "\n",
        "# Perform the Anderson-Darling test for normality\n",
        "result = stats.anderson(female_scores, dist='norm')\n",
        "print(\"Anderson-Darling Test Results:\")\n",
        "print(f\"Statistic: {result.statistic:.4f}\")\n",
        "\n",
        "# Compare against critical values\n",
        "for cv, sl in zip(result.critical_values, result.significance_level):\n",
        "    if result.statistic < cv:\n",
        "        print(f\"At {sl:.1f}% significance:  Fail to reject H₀ — data appears normal (statistic < {cv})\")\n",
        "    else:\n",
        "        print(f\"At {sl:.1f}% significance:  Reject H₀ — data does not appear normal (statistic ≥ {cv})\")\n"
      ],
      "metadata": {
        "trusted": true,
        "id": "jhwZxxRtETZ3",
        "outputId": "4ee6f11e-abbb-46d0-d8a7-24a68c0c1d00",
        "colab": {
          "base_uri": "https://localhost:8080/"
        }
      },
      "outputs": [
        {
          "output_type": "stream",
          "name": "stdout",
          "text": [
            "Anderson-Darling Test Results:\n",
            "Statistic: 0.7059\n",
            "At 15.0% significance:  Reject H₀ — data does not appear normal (statistic ≥ 0.572)\n",
            "At 10.0% significance:  Reject H₀ — data does not appear normal (statistic ≥ 0.651)\n",
            "At 5.0% significance:  Fail to reject H₀ — data appears normal (statistic < 0.781)\n",
            "At 2.5% significance:  Fail to reject H₀ — data appears normal (statistic < 0.911)\n",
            "At 1.0% significance:  Fail to reject H₀ — data appears normal (statistic < 1.084)\n"
          ]
        }
      ],
      "execution_count": null
    },
    {
      "cell_type": "markdown",
      "source": [
        "at significance level 0.05 normality assumption is checked since the p-value is 0.065.\n",
        "\n",
        "\n",
        "### Let's test homoschedasticity (sample size is different for each group):"
      ],
      "metadata": {
        "id": "uCEDLgl0ETZ3"
      }
    },
    {
      "cell_type": "code",
      "source": [
        "## TODO: Calculate the ratio of the variance between male and female math scores in both directions.\n",
        "import pandas as pd\n",
        "\n",
        "# Assuming df_tidy includes the 'score' column and 'gender' split is done:\n",
        "math_scores = df_tidy[df_tidy['subject'] == 'math']\n",
        "male_scores = math_scores[math_scores['gender'] == 'male']['score']\n",
        "female_scores = math_scores[math_scores['gender'] == 'female']['score']\n",
        "\n",
        "# Compute sample variances (unbiased, ddof=1)\n",
        "male_var = male_scores.var(ddof=1)\n",
        "female_var = female_scores.var(ddof=1)\n",
        "\n",
        "# Calculate variance ratios both ways\n",
        "ratio_male_female = male_var / female_var\n",
        "ratio_female_male = female_var / male_var\n",
        "\n",
        "# Print the results\n",
        "print(f\"Male Variance: {male_var:.2f}\")\n",
        "print(f\"Female Variance: {female_var:.2f}\")\n",
        "print(f\"\\nVariance Ratio (Male / Female): {ratio_male_female:.2f}\")\n",
        "print(f\"Variance Ratio (Female / Male): {ratio_female_male:.2f}\")\n"
      ],
      "metadata": {
        "trusted": true,
        "id": "FPtI09cKETZ3",
        "outputId": "e9937892-d1bc-4019-d1f3-68c7a0a94b66",
        "colab": {
          "base_uri": "https://localhost:8080/"
        }
      },
      "outputs": [
        {
          "output_type": "stream",
          "name": "stdout",
          "text": [
            "Male Variance: 206.10\n",
            "Female Variance: 239.99\n",
            "\n",
            "Variance Ratio (Male / Female): 0.86\n",
            "Variance Ratio (Female / Male): 1.16\n"
          ]
        }
      ],
      "execution_count": null
    },
    {
      "cell_type": "markdown",
      "source": [
        "it looks like , comparing the two variances by a rough rule , the ratios are less than 2 , so we can accept the homoschedasticity assumption.\n",
        "\n",
        "Let's remove outliers"
      ],
      "metadata": {
        "id": "xRcO366YETZ4"
      }
    },
    {
      "cell_type": "code",
      "source": [
        "## TODO: Remove outliers from male and female math scores using the IQR method and filter them out of the dataset.\n",
        "import pandas as pd\n",
        "\n",
        "# Define a function to remove outliers by IQR\n",
        "def remove_outliers_iqr(df, column):\n",
        "    Q1 = df[column].quantile(0.25)\n",
        "    Q3 = df[column].quantile(0.75)\n",
        "    IQR = Q3 - Q1\n",
        "    lower = Q1 - 1.5 * IQR\n",
        "    upper = Q3 + 1.5 * IQR\n",
        "    # Keep only the data within the bounds\n",
        "    return df[(df[column] >= lower) & (df[column] <= upper)]\n",
        "\n",
        "# Apply for male math scores\n",
        "male_clean = remove_outliers_iqr(male_math_scores, 'score')\n",
        "\n",
        "# Apply for female math scores\n",
        "female_clean = remove_outliers_iqr(female_math_scores, 'score')\n",
        "\n",
        "# Display before vs after\n",
        "print(\"Male data: before =\", len(male_math_scores), \", after =\", len(male_clean))\n",
        "print(\"Female data: before =\", len(female_math_scores), \", after =\", len(female_clean))\n"
      ],
      "metadata": {
        "trusted": true,
        "id": "tmPMAugDETZ4",
        "outputId": "ea239845-0bc7-457d-a7fb-5f5f06831879",
        "colab": {
          "base_uri": "https://localhost:8080/"
        }
      },
      "outputs": [
        {
          "output_type": "stream",
          "name": "stdout",
          "text": [
            "Male data: before = 482 , after = 480\n",
            "Female data: before = 518 , after = 512\n"
          ]
        }
      ],
      "execution_count": null
    },
    {
      "cell_type": "markdown",
      "source": [
        "### Now we can finally perform our two sample t-test\n",
        "\n",
        "### Hypothesis: We're going to use the gender assumption that males are better at maths than females as the alternative hypothesis\n",
        "\n",
        "$$\n",
        "H_{0} : \\mu_{MaleMaths}\\leq \\mu_{FemaleMaths}\n",
        "$$\n",
        "\n",
        "$$\n",
        "H_{A} : \\mu_{MaleMaths} >  \\mu_{FemaleMaths}\n",
        "$$"
      ],
      "metadata": {
        "id": "R0gS6pvIETZ4"
      }
    },
    {
      "cell_type": "code",
      "source": [
        "## TODO: Perform a t-test to compare male and female math scores, testing if males have significantly greater scores.\n",
        "from scipy import stats\n",
        "\n",
        "# Assuming male_math_scores and female_math_scores are pandas Series\n",
        "males = male_math_scores['score']\n",
        "females = female_math_scores['score']\n",
        "\n",
        "# Perform one-tailed t-test (male > female)\n",
        "t_stat, p_value_two_sided = stats.ttest_ind(males, females, equal_var=False)\n",
        "\n",
        "# Since 'greater' alternative in newer SciPy versions is available:\n",
        "# t_stat, p_value = stats.ttest_ind(males, females, alternative='greater', equal_var=False)\n",
        "\n",
        "# For older versions without 'alternative' parameter:\n",
        "p_value_one_tailed = p_value_two_sided / 2\n",
        "\n",
        "print(\"Male > Female Math Scores T-Test\")\n",
        "print(f\"T-statistic: {t_stat:.4f}\")\n",
        "print(f\"One-tailed P-value: {p_value_one_tailed:.4f}\")\n"
      ],
      "metadata": {
        "trusted": true,
        "id": "pwroxRgHETZ4",
        "outputId": "a9ef1a93-82c2-49a8-9f58-5fef132518d0",
        "colab": {
          "base_uri": "https://localhost:8080/"
        }
      },
      "outputs": [
        {
          "output_type": "stream",
          "name": "stdout",
          "text": [
            "Male > Female Math Scores T-Test\n",
            "T-statistic: 5.3980\n",
            "One-tailed P-value: 0.0000\n"
          ]
        }
      ],
      "execution_count": null
    },
    {
      "cell_type": "markdown",
      "source": [
        "The p-value turns out to be really small , almost zero, so we are forced to reject the Null Hypothesis.\n",
        "\n",
        "**From this test , the gender assumption that males are better than females at maths is true.**\n",
        "\n",
        "\n",
        "\n",
        "***\n",
        "\n",
        "\n",
        "\n",
        "# Now we can go on and perform the second independent two-sample t-test for reading scores.\n",
        "\n",
        "We take male and females groups for the reading scores:"
      ],
      "metadata": {
        "id": "y8LADjF3ETZ5"
      }
    },
    {
      "cell_type": "code",
      "source": [
        "## TODO: Extract the reading scores for males and females from the tidy_StudentsPerformance dataset.\n",
        "import pandas as pd\n",
        "\n",
        "# Assuming you already have the tidy DataFrame (df_tidy) loaded like:\n",
        "# | gender | subject  | score |\n",
        "# |--------|----------|-------|\n",
        "# | male   | reading  | ...   |\n",
        "# | female | reading  | ...   |\n",
        "\n",
        "# Extract only the rows for reading scores\n",
        "reading_scores = df_tidy[df_tidy['subject'] == 'reading']\n",
        "\n",
        "# Now separate them by gender\n",
        "male_reading = reading_scores[reading_scores['gender'] == 'male']['score']\n",
        "female_reading = reading_scores[reading_scores['gender'] == 'female']['score']\n",
        "\n",
        "# Optional: Reset indices\n",
        "male_reading = male_reading.reset_index(drop=True)\n",
        "female_reading = female_reading.reset_index(drop=True)\n",
        "\n",
        "# Display the first few values\n",
        "print(\"Male Reading Scores:\\n\", male_reading.head())\n",
        "print(\"\\nFemale Reading Scores:\\n\", female_reading.head())\n"
      ],
      "metadata": {
        "trusted": true,
        "id": "D351i-EcETZ5",
        "outputId": "c216ad10-3395-4387-f82e-adf7a06d0cd4",
        "colab": {
          "base_uri": "https://localhost:8080/"
        }
      },
      "outputs": [
        {
          "output_type": "stream",
          "name": "stdout",
          "text": [
            "Male Reading Scores:\n",
            " 0    57\n",
            "1    78\n",
            "2    43\n",
            "3    64\n",
            "4    54\n",
            "Name: score, dtype: int64\n",
            "\n",
            "Female Reading Scores:\n",
            " 0    72\n",
            "1    90\n",
            "2    95\n",
            "3    83\n",
            "4    95\n",
            "Name: score, dtype: int64\n"
          ]
        }
      ],
      "execution_count": null
    },
    {
      "cell_type": "markdown",
      "source": [
        "\n",
        "### Now we are able to go on and check the t- test assumptions:\n",
        "\n",
        "Normality (even if the sample sizes are reasonable): let's go straight to tests."
      ],
      "metadata": {
        "id": "pYFLqoZPETZ5"
      }
    },
    {
      "cell_type": "code",
      "source": [
        "## TODO: Perform the Cramer-Von Mises test on the Males_Reading scores.\n",
        "from scipy import stats\n",
        "\n",
        "# Assume male_reading is a pandas Series containing male reading scores\n",
        "scores = male_reading  # e.g., male_reading['score'] if it's in a DataFrame\n",
        "\n",
        "# Perform the Cramér–von Mises test for normality\n",
        "result = stats.cramervonmises(scores, 'norm')\n",
        "\n",
        "# Print the results\n",
        "print(\"Cramér–von Mises Test for Normality (Male Reading Scores):\")\n",
        "print(f\"Statistic W\\u00b2: {result.statistic:.4f}\")\n",
        "print(f\"P-value: {result.pvalue:.4f}\")\n",
        "\n",
        "# Interpretation\n",
        "alpha = 0.05\n",
        "if result.pvalue < alpha:\n",
        "    print(\"❌ Reject the null hypothesis: Data does NOT follow a normal distribution.\")\n",
        "else:\n",
        "    print(\"✅ Fail to reject the null hypothesis: Data appears normally distributed.\")\n"
      ],
      "metadata": {
        "trusted": true,
        "id": "wczo2oEWETZ5",
        "outputId": "abd4970f-eb5f-4162-9edd-8fc458af795a",
        "colab": {
          "base_uri": "https://localhost:8080/"
        }
      },
      "outputs": [
        {
          "output_type": "stream",
          "name": "stdout",
          "text": [
            "Cramér–von Mises Test for Normality (Male Reading Scores):\n",
            "Statistic W²: 160.6667\n",
            "P-value: 0.0000\n",
            "❌ Reject the null hypothesis: Data does NOT follow a normal distribution.\n"
          ]
        }
      ],
      "execution_count": null
    },
    {
      "cell_type": "markdown",
      "source": [
        "at significance level 0.05 normality assumption is checked since the p-value is 0.11.\n",
        "\n",
        "\n",
        "### Let's check for the females group:"
      ],
      "metadata": {
        "id": "ueMv2XjbETZ5"
      }
    },
    {
      "cell_type": "code",
      "source": [
        "## TODO: Perform the Cramer-Von Mises test on the Females_Reading scores.\n",
        "from scipy import stats\n",
        "\n",
        "# Assume female_reading is a pandas Series of female reading 'score' values\n",
        "scores = female_reading  # e.g., female_reading['score'] if extracted from DataFrame\n",
        "\n",
        "# Perform the Cramér–von Mises test against the normal distribution\n",
        "result = stats.cramervonmises(scores, 'norm')\n",
        "\n",
        "print(\"Cramér–von Mises Test for Normality (Female Reading Scores):\")\n",
        "print(f\"Statistic (W²): {result.statistic:.4f}\")\n",
        "print(f\"P-value: {result.pvalue:.4f}\")\n",
        "\n",
        "# Interpretation\n",
        "alpha = 0.05\n",
        "if result.pvalue < alpha:\n",
        "    print(\"❌ Reject the null hypothesis: Data does NOT follow a normal distribution.\")\n",
        "else:\n",
        "    print(\"✅ Fail to reject the null hypothesis: Data appears normally distributed.\")\n"
      ],
      "metadata": {
        "trusted": true,
        "id": "dDivirNwETZ5",
        "outputId": "04f58d87-9f41-4891-e704-ab98a43ba97a",
        "colab": {
          "base_uri": "https://localhost:8080/"
        }
      },
      "outputs": [
        {
          "output_type": "stream",
          "name": "stdout",
          "text": [
            "Cramér–von Mises Test for Normality (Female Reading Scores):\n",
            "Statistic (W²): 172.6667\n",
            "P-value: 0.0000\n",
            "❌ Reject the null hypothesis: Data does NOT follow a normal distribution.\n"
          ]
        }
      ],
      "execution_count": null
    },
    {
      "cell_type": "markdown",
      "source": [
        "at significance level 0.05 normality assumption is checked since the p-value is 0.068.\n",
        "\n",
        "\n",
        "let's test homoschedasticity (sample size is different for each group):"
      ],
      "metadata": {
        "id": "ZVutxQ_TETZ5"
      }
    },
    {
      "cell_type": "code",
      "source": [
        "## TODO: Calculate the ratio of variances between Males_Reading and Females_Reading scores.\n",
        "import pandas as pd\n",
        "\n",
        "# Extract reading scores from the tidy DataFrame\n",
        "reading_scores = df_tidy[df_tidy['subject'] == 'reading']\n",
        "male_scores = reading_scores[reading_scores['gender'] == 'male']['score']\n",
        "female_scores = reading_scores[reading_scores['gender'] == 'female']['score']\n",
        "\n",
        "# Compute sample variances (using ddof=1 for unbiased estimate)\n",
        "male_var = male_scores.var(ddof=1)\n",
        "female_var = female_scores.var(ddof=1)\n",
        "\n",
        "# Calculate variance ratios both ways\n",
        "ratio_male_female = male_var / female_var\n",
        "ratio_female_male = female_var / male_var\n",
        "\n",
        "# Display the results\n",
        "print(f\"Male Reading Variance: {male_var:.2f}\")\n",
        "print(f\"Female Reading Variance: {female_var:.2f}\\n\")\n",
        "print(f\"Variance Ratio (Male / Female): {ratio_male_female:.2f}\")\n",
        "print(f\"Variance Ratio (Female / Male): {ratio_female_male:.2f}\")\n"
      ],
      "metadata": {
        "trusted": true,
        "id": "GEz1rL8GETZ6",
        "outputId": "deca4be2-1ce8-4036-aec2-a9eebfb53c4c",
        "colab": {
          "base_uri": "https://localhost:8080/"
        }
      },
      "outputs": [
        {
          "output_type": "stream",
          "name": "stdout",
          "text": [
            "Male Reading Variance: 194.10\n",
            "Female Reading Variance: 206.73\n",
            "\n",
            "Variance Ratio (Male / Female): 0.94\n",
            "Variance Ratio (Female / Male): 1.07\n"
          ]
        }
      ],
      "execution_count": null
    },
    {
      "cell_type": "markdown",
      "source": [
        "it looks like , comparing the two variances by a rough rule , the ratios are less than 2 , so we can accept the homoschedasticity assumption.\n",
        "\n",
        "Let's remove outliers"
      ],
      "metadata": {
        "id": "Z00i18R9ETZ6"
      }
    },
    {
      "cell_type": "code",
      "source": [
        "## TODO: Remove outliers using the IQR method from both Males_Reading and Females_Reading scores.\n",
        "import pandas as pd\n",
        "import numpy as np\n",
        "\n",
        "def remove_outliers_iqr(data, col):\n",
        "    Q1 = data[col].quantile(0.25)\n",
        "    Q3 = data[col].quantile(0.75)\n",
        "    IQR = Q3 - Q1\n",
        "\n",
        "    lower = Q1 - 1.5 * IQR\n",
        "    upper = Q3 + 1.5 * IQR\n",
        "\n",
        "    # Filter and return only the rows within the IQR bounds\n",
        "    return data[(data[col] >= lower) & (data[col] <= upper)]\n"
      ],
      "metadata": {
        "trusted": true,
        "id": "FRuvOwdfETZ6"
      },
      "outputs": [],
      "execution_count": null
    },
    {
      "cell_type": "markdown",
      "source": [
        "### Now we can finally perform our two sample t-test\n",
        "\n",
        "### Hypothesis: We're going to use the gender assumption that females are better at reading than males as the alternative hypothesis\n",
        "\n",
        "$$H_{0} : \\mu_{FemaleReading}\\leq \\mu_{MaleReading}$$\n",
        "\n",
        "$$H_{A} : \\mu_{FemaleReading} >  \\mu_{MaleReading}$$"
      ],
      "metadata": {
        "id": "vIp6ILMUETZ6"
      }
    },
    {
      "cell_type": "code",
      "source": [
        "## TODO: Perform a t-test to compare Females_Reading and Males_Reading scores, testing if the mean score for females is greater.\n",
        "import scipy.stats as stats\n",
        "\n",
        "# Assuming 'female_reading' and 'male_reading' are pandas Series of reading scores\n",
        "t_stat, p_value = stats.ttest_ind(female_reading, male_reading, alternative='greater')\n",
        "\n",
        "print(f\"T-statistic: {t_stat:.3f}\")\n",
        "print(f\"P-value: {p_value:.3f}\")\n",
        "\n",
        "# Interpretation\n",
        "alpha = 0.05\n",
        "if p_value < alpha:\n",
        "    print(\"✅ Reject the null hypothesis: Females have significantly higher mean reading scores.\")\n",
        "else:\n",
        "    print(\"❌ Fail to reject the null hypothesis: No significant difference in mean reading scores.\")\n"
      ],
      "metadata": {
        "trusted": true,
        "id": "wSShrgBgETZ6",
        "outputId": "e4b6b0e5-798e-4cba-ea42-212d3e74b556",
        "colab": {
          "base_uri": "https://localhost:8080/"
        }
      },
      "outputs": [
        {
          "output_type": "stream",
          "name": "stdout",
          "text": [
            "T-statistic: 7.959\n",
            "P-value: 0.000\n",
            "✅ Reject the null hypothesis: Females have significantly higher mean reading scores.\n"
          ]
        }
      ],
      "execution_count": null
    },
    {
      "cell_type": "markdown",
      "source": [
        "The p-value turns out to be really small , almost zero, so we are forced to reject the Null Hypothesis.\n",
        "\n",
        "**From this test , the gender assumption that females are better than males at reading is true.**\n",
        "\n",
        "\n",
        "\n",
        "***\n",
        "\n",
        "\n",
        "\n",
        "# Now we can go on and perform the third and last independent two-sample t-test for writing scores\n",
        "\n",
        "We take male and females groups for the writing scores:"
      ],
      "metadata": {
        "id": "zhDuLgEvETZ6"
      }
    },
    {
      "cell_type": "code",
      "source": [
        "## TODO: Create two separate dataframes, one for male and one for female writing scores.\n",
        "import pandas as pd\n",
        "\n",
        "# Assuming df_tidy is your existing DataFrame\n",
        "\n",
        "# Filter for writing scores\n",
        "writing_scores = df_tidy[df_tidy['subject'] == 'writing']\n",
        "\n",
        "# Separate by gender\n",
        "male_writing = writing_scores[writing_scores['gender'] == 'male']\n",
        "female_writing = writing_scores[writing_scores['gender'] == 'female']\n",
        "\n",
        "# Optional: Reset indices if needed\n",
        "male_writing = male_writing.reset_index(drop=True)\n",
        "female_writing = female_writing.reset_index(drop=True)\n",
        "\n",
        "# Display the first few rows of each\n",
        "print(\"Male Writing Scores:\")\n",
        "print(male_writing.head())\n",
        "\n",
        "print(\"\\nFemale Writing Scores:\")\n",
        "print(female_writing.head())\n"
      ],
      "metadata": {
        "trusted": true,
        "id": "qhfDr70bETZ6",
        "outputId": "f456b217-b849-4f2e-d980-8913ee6507ec",
        "colab": {
          "base_uri": "https://localhost:8080/"
        }
      },
      "outputs": [
        {
          "output_type": "stream",
          "name": "stdout",
          "text": [
            "Male Writing Scores:\n",
            "  gender  subject  score\n",
            "0   male  writing     44\n",
            "1   male  writing     75\n",
            "2   male  writing     39\n",
            "3   male  writing     67\n",
            "4   male  writing     52\n",
            "\n",
            "Female Writing Scores:\n",
            "   gender  subject  score\n",
            "0  female  writing     74\n",
            "1  female  writing     88\n",
            "2  female  writing     93\n",
            "3  female  writing     78\n",
            "4  female  writing     92\n"
          ]
        }
      ],
      "execution_count": null
    },
    {
      "cell_type": "markdown",
      "source": [
        "\n",
        "### Now we are able to go on and check the t- test assumptions:\n",
        "\n",
        "- Normality (even if the sample sizes are reasonable): again, let's go straight to tests.\n"
      ],
      "metadata": {
        "id": "GEKlCJFTETZ6"
      }
    },
    {
      "cell_type": "code",
      "source": [
        "## TODO: Perform the Cramer-Von Mises test for the male writing scores.\n",
        "import pandas as pd\n",
        "from scipy import stats\n",
        "\n",
        "# Assuming df_tidy is your DataFrame\n",
        "# Filter for writing scores\n",
        "writing_scores = df_tidy[df_tidy['subject'] == 'writing']\n",
        "\n",
        "# Extract male writing scores\n",
        "male_writing_scores = writing_scores[writing_scores['gender'] == 'male']['score']\n",
        "\n",
        "# Perform the Cramér–von Mises test for normality\n",
        "result = stats.cramervonmises(male_writing_scores, 'norm')\n",
        "\n",
        "# Display the results\n",
        "print(\"Cramér–von Mises Test for Normality (Male Writing Scores):\")\n",
        "print(f\"Statistic W²: {result.statistic:.4f}\")\n",
        "print(f\"P-value: {result.pvalue:.4f}\")\n",
        "\n",
        "# Interpretation\n",
        "alpha = 0.05\n",
        "if result.pvalue < alpha:\n",
        "    print(\"Reject the null hypothesis: Data does NOT follow a normal distribution.\")\n",
        "else:\n",
        "    print(\"Fail to reject the null hypothesis: Data appears normally distributed.\")\n"
      ],
      "metadata": {
        "trusted": true,
        "id": "ZKeb4m0iETZ6",
        "outputId": "03bdbecb-daac-498d-cfbd-7ddbd24177a3",
        "colab": {
          "base_uri": "https://localhost:8080/"
        }
      },
      "outputs": [
        {
          "output_type": "stream",
          "name": "stdout",
          "text": [
            "Cramér–von Mises Test for Normality (Male Writing Scores):\n",
            "Statistic W²: 160.6667\n",
            "P-value: 0.0000\n",
            "Reject the null hypothesis: Data does NOT follow a normal distribution.\n"
          ]
        }
      ],
      "execution_count": null
    },
    {
      "cell_type": "markdown",
      "source": [
        "at significance level 0.05 normality assumption is checked since the p-value is 0.09.\n",
        "\n",
        "\n",
        "### Let's check for the females group:"
      ],
      "metadata": {
        "id": "momA8AwfETZ6"
      }
    },
    {
      "cell_type": "code",
      "source": [
        "## TODO: Perform the Lilliefors test for the female writing scores.\n",
        "import pandas as pd\n",
        "from statsmodels.stats.diagnostic import lilliefors\n",
        "\n",
        "# Assuming df_tidy is your DataFrame\n",
        "# Filter for writing scores\n",
        "writing_scores = df_tidy[df_tidy['subject'] == 'writing']\n",
        "\n",
        "# Extract female writing scores\n",
        "female_writing_scores = writing_scores[writing_scores['gender'] == 'female']['score']\n",
        "\n",
        "# Perform the Lilliefors test for normality\n",
        "statistic, p_value = lilliefors(female_writing_scores)\n",
        "\n",
        "# Display the results\n",
        "print(f\"Lilliefors test statistic: {statistic:.4f}\")\n",
        "print(f\"P-value: {p_value:.4f}\")\n",
        "\n",
        "# Interpretation\n",
        "alpha = 0.05\n",
        "if p_value < alpha:\n",
        "    print(\"Reject the null hypothesis: Data does NOT follow a normal distribution.\")\n",
        "else:\n",
        "    print(\"Fail to reject the null hypothesis: Data appears normally distributed.\")\n"
      ],
      "metadata": {
        "trusted": true,
        "id": "aS9JZW6ZETZ6",
        "outputId": "213f8fae-96a5-40da-8178-6e3f1dfeb90d",
        "colab": {
          "base_uri": "https://localhost:8080/"
        }
      },
      "outputs": [
        {
          "output_type": "stream",
          "name": "stdout",
          "text": [
            "Lilliefors test statistic: 0.0614\n",
            "P-value: 0.0010\n",
            "Reject the null hypothesis: Data does NOT follow a normal distribution.\n"
          ]
        }
      ],
      "execution_count": null
    },
    {
      "cell_type": "markdown",
      "source": [
        "**It looks like the normality assumption is not verified here!**\n",
        "\n",
        "### So let's try to transform data with box-cox transformation"
      ],
      "metadata": {
        "id": "0cCv5uW-ETZ7"
      }
    },
    {
      "cell_type": "code",
      "source": [
        "## TODO: Perform the Box-Cox transformation and apply the CVM test to the writing scores of both males and females.\n",
        "import pandas as pd\n",
        "from scipy import stats\n",
        "\n",
        "# Assuming df_tidy is your DataFrame\n",
        "# Filter for writing scores\n",
        "writing_scores = df_tidy[df_tidy['subject'] == 'writing']\n",
        "\n",
        "# Extract male and female writing scores\n",
        "male_scores = writing_scores[writing_scores['gender'] == 'male']['score']\n",
        "female_scores = writing_scores[writing_scores['gender'] == 'female']['score']\n",
        "\n",
        "# Apply Box-Cox transformation\n",
        "male_transformed, male_lambda = stats.boxcox(male_scores)\n",
        "female_transformed, female_lambda = stats.boxcox(female_scores)\n",
        "\n",
        "# Perform the Cramér–von Mises test for normality\n",
        "male_cvm = stats.cramervonmises(male_transformed, 'norm')\n",
        "female_cvm = stats.cramervonmises(female_transformed, 'norm')\n",
        "\n",
        "# Display results\n",
        "print(f\"Male Writing Scores - Box-Cox Lambda: {male_lambda:.4f}\")\n",
        "print(f\"Male Writing Scores - CVM Statistic: {male_cvm.statistic:.4f}, P-value: {male_cvm.pvalue:.4f}\")\n",
        "\n",
        "print(f\"Female Writing Scores - Box-Cox Lambda: {female_lambda:.4f}\")\n",
        "print(f\"Female Writing Scores - CVM Statistic: {female_cvm.statistic:.4f}, P-value: {female_cvm.pvalue:.4f}\")\n"
      ],
      "metadata": {
        "trusted": true,
        "id": "EShMW26JETZ7"
      },
      "outputs": [],
      "execution_count": 46
    },
    {
      "cell_type": "markdown",
      "source": [
        "our box cox transformation is now applied to both groups , the normality assumption is verified for both males and females group and we can go ahead.\n",
        "\n",
        "\n",
        "\n",
        "let's test homoschedasticity (sample size is different for each group):"
      ],
      "metadata": {
        "id": "WREfQVtFETZ7"
      }
    },
    {
      "cell_type": "code",
      "source": [
        "## TODO: Calculate and compare the variance of writing scores for males and females.\n",
        "import pandas as pd\n",
        "\n",
        "# Assuming df_tidy is your DataFrame\n",
        "# Filter for writing scores\n",
        "writing_scores = df_tidy[df_tidy['subject'] == 'writing']\n",
        "\n",
        "# Extract male and female writing scores\n",
        "male_scores = writing_scores[writing_scores['gender'] == 'male']['score']\n",
        "female_scores = writing_scores[writing_scores['gender'] == 'female']['score']\n",
        "\n",
        "# Calculate variance for each group\n",
        "male_variance = male_scores.var()\n",
        "female_variance = female_scores.var()\n",
        "\n",
        "# Display the results\n",
        "print(f\"Male Writing Scores Variance: {male_variance:.2f}\")\n",
        "print(f\"Female Writing Scores Variance: {female_variance:.2f}\")\n"
      ],
      "metadata": {
        "trusted": true,
        "id": "zA_6U7w6ETZ7",
        "outputId": "6130ed11-18d6-47f8-a05d-4c3c6b94b62c",
        "colab": {
          "base_uri": "https://localhost:8080/"
        }
      },
      "outputs": [
        {
          "output_type": "stream",
          "name": "stdout",
          "text": [
            "Male Writing Scores Variance: 199.20\n",
            "Female Writing Scores Variance: 220.37\n"
          ]
        }
      ],
      "execution_count": null
    },
    {
      "cell_type": "markdown",
      "source": [
        "it looks like , comparing the two variances by a rough rule , the ratios are less than 2 , so we can accept the homoschedasticity assumption.\n",
        "\n",
        "\n",
        "\n",
        "### Now we can finally perform our two sample t-test\n",
        "\n",
        "### Hypothesis: We're going to use the gender assumption that females are better at writing than males as the alternative hypothesis\n",
        "\n",
        "$$H_{0} : \\mu_{FemaleWriting}\\leq \\mu_{MaleWriting}$$\n",
        "\n",
        "$$H_{A} : \\mu_{FemaleWriting} >  \\mu_{MaleWriting}$$"
      ],
      "metadata": {
        "id": "6p1atTzvETZ7"
      }
    },
    {
      "cell_type": "code",
      "source": [
        "## TODO: Perform a t-test to compare Box-Cox transformed writing scores for males and females with the alternative hypothesis \"greater\".\n",
        "import pandas as pd\n",
        "from scipy import stats\n",
        "\n",
        "# Assuming df_tidy is your DataFrame\n",
        "# Filter for writing scores\n",
        "writing_scores = df_tidy[df_tidy['subject'] == 'writing']\n",
        "\n",
        "# Extract male and female writing scores\n",
        "male_scores = writing_scores[writing_scores['gender'] == 'male']['score']\n",
        "female_scores = writing_scores[writing_scores['gender'] == 'female']['score']\n",
        "\n",
        "# Apply Box-Cox transformation\n",
        "male_transformed, male_lambda = stats.boxcox(male_scores)\n",
        "female_transformed, female_lambda = stats.boxcox(female_scores)\n",
        "\n",
        "# Perform one-sided t-test (alternative='greater')\n",
        "t_stat, p_value = stats.ttest_ind(male_transformed, female_transformed, alternative='greater')\n",
        "\n",
        "# Display results\n",
        "print(f\"Male Writing Scores - Box-Cox Lambda: {male_lambda:.4f}\")\n",
        "print(f\"Female Writing Scores - Box-Cox Lambda: {female_lambda:.4f}\")\n",
        "print(f\"T-statistic: {t_stat:.4f}\")\n",
        "print(f\"P-value: {p_value:.4f}\")\n",
        "\n",
        "# Interpretation\n",
        "alpha = 0.05\n",
        "if p_value < alpha:\n",
        "    print(\"Reject the null hypothesis: Male writing scores are significantly greater than female writing scores.\")\n",
        "else:\n",
        "    print(\"Fail to reject the null hypothesis: No significant difference in writing scores between males and females.\")\n"
      ],
      "metadata": {
        "trusted": true,
        "id": "png-SkwvETZ8",
        "outputId": "09314242-3aca-443f-bd3e-ee20727f0c97",
        "colab": {
          "base_uri": "https://localhost:8080/"
        }
      },
      "outputs": [
        {
          "output_type": "stream",
          "name": "stdout",
          "text": [
            "Male Writing Scores - Box-Cox Lambda: 1.1996\n",
            "Female Writing Scores - Box-Cox Lambda: 1.7369\n",
            "T-statistic: -57.8463\n",
            "P-value: 1.0000\n",
            "Fail to reject the null hypothesis: No significant difference in writing scores between males and females.\n"
          ]
        }
      ],
      "execution_count": null
    },
    {
      "cell_type": "markdown",
      "source": [
        "Again , the p-value turns out to be really small , almost zero, so we are forced to reject the Null Hypothesis.\n",
        "\n",
        "**From this test , the gender assumption that females are better than males at writing is true.**\n",
        "\n",
        "\n",
        "\n",
        "***\n",
        "\n",
        "# XP NINJA\n",
        "\n",
        "# One-way ANOVA\n",
        "\n",
        "We are interested in understanding whether or not the **factor** ( in this case the treatments ) has an effect on the **outcome** ( in this case the math scores).\n",
        "\n",
        "The treatments factor is structured in four different levels:\n",
        "\n",
        "- **Control group** : a group that doesn't receive neither the free or reduced lunch nor the attendance to the test preparation course\n",
        "\n",
        "- **Free/Reduced lunch group** = **Treatment_1** : a group that only receives the free or reduced lunch\n",
        "\n",
        "- **Test preparation course group** = **Treatment_2** : a group that only receives the attendance to the test preparation course\n",
        "\n",
        "- **Both free/reduced lunch and test preparation course group** = **Treatment_3** : a group that receives both the 'bonuses': free or reduced lunch and attendance to the test preparation course.\n",
        "\n",
        "\n",
        "\n",
        "### For ANOVA we will have the following hypothesis:\n",
        "\n",
        "$$H_{0} : The \\:means\\:of\\:different\\:groups\\:is\\:the\\:same$$\n",
        "\n",
        "$$H_{A} : At\\:least\\:one\\:sample\\:mean\\:is\\:not\\:equal\\:to\\:others$$\n",
        "\n",
        "\n",
        "To conduct One-way ANOVA we first have to do some data wrangling and adjust for the treatments."
      ],
      "metadata": {
        "id": "nIM98rdxETZ8"
      }
    },
    {
      "cell_type": "code",
      "source": [
        "## TODO: Filter and create groups for analysis based on various criteria (lunch type and test preparation status).\n",
        "\n",
        "# Control group\n",
        "\n",
        "\n",
        "# Free/Reduced lunch group\n",
        "\n",
        "\n",
        "# Test preparation course group\n",
        "\n",
        "\n",
        "# Both free/reduced lunch and test preparation course group\n",
        "\n",
        "\n",
        "# Bind everything together"
      ],
      "metadata": {
        "trusted": true,
        "id": "qda55Go6ETZ8"
      },
      "outputs": [],
      "execution_count": 47
    },
    {
      "cell_type": "markdown",
      "source": [
        "\n",
        "### Now we go along and check the assumptions:\n",
        "\n",
        "- Normality Assumption: let's check the situation visually first"
      ],
      "metadata": {
        "id": "_Vlt_zR5ETZ8"
      }
    },
    {
      "cell_type": "code",
      "source": [
        "## TODO: Create a density plot to compare the scores by treatment type."
      ],
      "metadata": {
        "trusted": true,
        "id": "wkZVOjeGETZ9"
      },
      "outputs": [],
      "execution_count": 48
    },
    {
      "cell_type": "markdown",
      "source": [
        "</br>\n",
        "</br>\n",
        "</br>\n",
        "\n",
        "Each group looks pretty normal , but let's perform some tests to be sure:\n"
      ],
      "metadata": {
        "id": "Z0__1OYJETZ9"
      }
    },
    {
      "cell_type": "code",
      "source": [
        "## TODO: Perform normality tests for each group using Shapiro-Wilk and Lilliefors tests."
      ],
      "metadata": {
        "trusted": true,
        "id": "Ny_eJl7OETZ9"
      },
      "outputs": [],
      "execution_count": 49
    },
    {
      "cell_type": "markdown",
      "source": [
        "**Normality is checked for each treatment group!**\n",
        "\n",
        "- Similarity of variances"
      ],
      "metadata": {
        "id": "mCCnidPpETZ9"
      }
    },
    {
      "cell_type": "code",
      "source": [
        "## TODO: Check for the similarity of variances using rough rules and perform Bartlett's and Fligner tests.\n"
      ],
      "metadata": {
        "trusted": true,
        "id": "eq0cN3WNETZ9"
      },
      "outputs": [],
      "execution_count": 50
    },
    {
      "cell_type": "markdown",
      "source": [
        "**Homogeneity of variances of treatment groups is checked!** ( both with a rough rule and with actual tests.)\n",
        "\n",
        "We can finally perform ANOVA:"
      ],
      "metadata": {
        "id": "FWSsOZJUETZ9"
      }
    },
    {
      "cell_type": "code",
      "source": [
        "## TODO: Perform ANOVA to check if there's a significant difference between the groups."
      ],
      "metadata": {
        "trusted": true,
        "id": "g0gmbKd6ETZ9"
      },
      "outputs": [],
      "execution_count": 51
    },
    {
      "cell_type": "markdown",
      "source": [
        "### Key takeaways:\n",
        "\n",
        "\n",
        "- The **f-value** is much greater than 1,that is **positive** as we know that not only we can reject the null hypothesis (all means are equal) but the **variance between groups is bigger than the one within groups** so this difference is very likely statistically significant.\n",
        "\n",
        "- The **p-value** is essentially zero,confirming what we have already said with the f-value about the rejection of the null hypothesis ,saying that there exist a significant difference between them.\n",
        "\n",
        "\n",
        "### So in general , it looks like there exists a statistically significant difference among at least two of the groups' mean math scores !\n",
        "\n",
        "But wait... which couples of means are different from each other?\n",
        "\n",
        "To answer this question we must perform a post-hoc test.\n",
        "\n",
        "### Let's perform the Tukey test to verify which couple of means is different among them."
      ],
      "metadata": {
        "id": "QhmDU2HkETZ9"
      }
    },
    {
      "cell_type": "markdown",
      "source": [
        "### Key takeaways:\n",
        "\n",
        "- As the boxplot already showed , the difference in means between treatment 1 and control , with control group having higher math scores , is significant: **it looks like having the economic freedom of not paying or paying less for lunch negatively impats math scores!**\n",
        "\n",
        "- Another important difference already present in the boxplot , the difference in means between treatment 2 and 1 , with treatment 2 having higher math scores , is significant:  **only attending the test preparation course and not having the economic freedom of the free or reduced lunch is more effective than having that economic freedom and not attending the test preparation course!**\n",
        "\n",
        "- This difference was also present in the boxplot , like the other two , and is between the third and second treatments, with treatment two being more effective than the third.\n",
        "This means that : **the people who attended the test preparation course but also enjoyed the economic freedom of the free/reduced lunch , statistically perform worse than people who have attened the test , but have to pay for lunch**.\n",
        "\n",
        "### Conclusions : from these tests it looks like , while on the one hand saving the lunch money has a negative effect on math scores as opposed as we expected , on the other hand attending the test preparation course has a positive one as we expected.\n",
        "\n",
        "### Maybe people used the money saved from lunch to buy things that distracted them from studying maths! That's not good , buy more math books with that money!\n",
        "\n",
        "\n",
        "\n"
      ],
      "metadata": {
        "id": "rhP-wTlAETZ-"
      }
    }
  ]
}