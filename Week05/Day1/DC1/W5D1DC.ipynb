{
 "cells": [
  {
   "cell_type": "markdown",
   "id": "0d199467",
   "metadata": {},
   "source": [
    "#MACHINE LEARNING# - A Brief Summary -\n",
    "\n",
    "Machine learning is a branch of artificial intelligence that generates algorithms to automate decision-making and prediction, in that process, computers learn from data to that effect.\n",
    "It allows data analysts to discover patterns, make predictions, and operate complex and large datasets with great accuracy.\n",
    "Here are three examples of machine learning:\n",
    "\n",
    "#THREE EXAMPLES OF MACHINE LEARNING APPLICATIONS#\n",
    "\n",
    "- **email spam filtering**\n",
    "\n",
    "- **Image Recognition** in Healthcare to detect diseases or abnormalities from medical images like X-rays or MRIs\n",
    "\n",
    "- **autonomous Vehicle** (Self-driving cars by Tesla, Waymo)"
   ]
  },
  {
   "cell_type": "markdown",
   "id": "8977104f",
   "metadata": {},
   "source": [
    "#APPLICATIONS OF MACHINE LEARNING - DEFINITIONS AND EXAMPLES#"
   ]
  },
  {
   "cell_type": "markdown",
   "id": "10fb5d7b",
   "metadata": {},
   "source": [
    "| **Learning Type**          | **Definition**                                                                                                     | **Specificities**                                                 | **Example Characteristic**                                               |\n",
    "| -------------------------- | ------------------------------------------------------------------------------------------------------------------ | ----------------------------------------------------------------- | ------------------------------------------------------------------------ |\n",
    "| **Supervised Learning**    | Learning from labeled data where the model maps inputs to known outputs.                                           | Requires labeled datasets; goal is prediction/classification.     | Performance is evaluated using metrics like accuracy, precision, recall. |\n",
    "| **Unsupervised Learning**  | Learning patterns and structure from unlabeled data without explicit outputs.                                      | No labeled data; focuses on clustering, dimensionality reduction. | Evaluation often uses metrics like silhouette score or cluster cohesion. |\n",
    "| **Reinforcement Learning** | Learning optimal actions through trial and error by interacting with an environment to maximize cumulative reward. | Involves states, actions, rewards; learns via feedback over time. | Success measured by cumulative reward and policy convergence.            |\n"
   ]
  },
  {
   "cell_type": "markdown",
   "id": "7b7f9dc9",
   "metadata": {},
   "source": [
    "#** DEVELOPMENT OF A MACHINE LEARNING MODEL **#"
   ]
  },
  {
   "cell_type": "markdown",
   "id": "9ea5c38b",
   "metadata": {},
   "source": [
    "**Supervised Learning** Predicting whether a loan application will be approved (Yes/No) based on applicant data.\n",
    "**Unsupervised Learning** Grouping customers into segments based on purchase behavior (clustering).\n",
    "**Reinforcement Learning**\tTraining a robot to navigate a maze by rewarding it for reaching the exit.\n",
    "\n",
    "#DEVELOMENT STAGES#\n",
    "\n",
    "1. Data collection and preprocessing \n",
    "2. Feature Selection - most relevant input variables (features)\n",
    "3. Right model selection according to task : classification or regression, choosing the most suitable algorithm (like Decision Trees, SVM, or Random Forest) based on the problem type and data characteristics\n",
    "4. Model evaluation using metrics like accuracy, F1-score, or RMSE\n",
    "5. Cross-validation and hyperparameter tuning help improve performance\n",
    "6. Model deployement and monitoring to ensure ongoing accuracy."
   ]
  },
  {
   "cell_type": "markdown",
   "id": "67870b4b",
   "metadata": {},
   "source": [
    "--------------------\n",
    "|Feature selection |\n",
    "|(choose important)|\n",
    " variables)        |\n",
    "-------------------- \n",
    "         |\n",
    "--------------------\n",
    "| Model  selection |\n",
    "|(choose best ML   │\n",
    "│ algorithm)       |\n",
    "-------------------- \n",
    "         |          \n",
    "--------------------\n",
    "| Model Training   │\n",
    "│ (Fit model to    |\n",
    "| data)            |           \n",
    "-------------------- \n",
    "         |         \n",
    "--------------------\n",
    "| Model Evaluation  │\n",
    "│ (Use metrics like │\n",
    "│ Accuracy, F1, etc)|\n",
    "-------------------- "
   ]
  }
 ],
 "metadata": {
  "language_info": {
   "name": "python"
  }
 },
 "nbformat": 4,
 "nbformat_minor": 5
}
