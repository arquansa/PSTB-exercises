{
  "nbformat": 4,
  "nbformat_minor": 0,
  "metadata": {
    "colab": {
      "provenance": [],
      "authorship_tag": "ABX9TyPb86WFjI2QJBI2zIuiZ/wL",
      "include_colab_link": true
    },
    "kernelspec": {
      "name": "python3",
      "display_name": "Python 3"
    },
    "language_info": {
      "name": "python"
    }
  },
  "cells": [
    {
      "cell_type": "markdown",
      "metadata": {
        "id": "view-in-github",
        "colab_type": "text"
      },
      "source": [
        "<a href=\"https://colab.research.google.com/github/arquansa/PSTB-exercises/blob/main/Week05/Day1/EX1/W5D1EXN.ipynb\" target=\"_parent\"><img src=\"https://colab.research.google.com/assets/colab-badge.svg\" alt=\"Open In Colab\"/></a>"
      ]
    },
    {
      "cell_type": "markdown",
      "source": [
        "# Exercises XP Ninja\n",
        "Last Updated: January 8th, 2024\n",
        "\n",
        "What you will learn\n",
        "how to train a logistic regression model\n",
        "how to evaluate your model with metricq\n",
        "\n",
        "\n",
        "What you will create\n",
        "a script to implement Python functions to calculate Accuracy, Precision, Recall, and F1-Score from scratch.\n",
        "\n",
        "\n",
        "Exercise 1 : Evaluation Metrics Implementation\n",
        "Objective:\n",
        "Implement Python functions to calculate Accuracy, Precision, Recall, and F1-Score from scratch.\n",
        "\n",
        "Dataset:\n",
        "Use any binary classification dataset, for example, the Breast Cancer Wisconsin (Diagnostic) dataset available in scikit-learn or any other binary classification dataset of your choice.\n",
        "\n",
        "Tasks:\n",
        "Split the dataset into training and test sets.\n",
        "Train a simple classification model (like Logistic Regression) on the training set.\n",
        "Make predictions on the test set.\n",
        "Write functions to calculate Accuracy, Precision, Recall, and F1-Score using the confusion matrix components (TP, TN, FP, FN).\n",
        "Evaluate your model using these metrics and interpret the results."
      ],
      "metadata": {
        "id": "3O5CrHkWauYA"
      }
    },
    {
      "cell_type": "markdown",
      "source": [
        "Installation des dépendances"
      ],
      "metadata": {
        "id": "N9eZiUgOrAqA"
      }
    },
    {
      "cell_type": "code",
      "execution_count": 1,
      "metadata": {
        "colab": {
          "base_uri": "https://localhost:8080/"
        },
        "id": "sZbn81UAV926",
        "outputId": "03761169-9efc-467d-a00e-315e1a529d56"
      },
      "outputs": [
        {
          "output_type": "stream",
          "name": "stdout",
          "text": [
            "Collecting dependencies\n",
            "  Downloading dependencies-7.7.1-py2.py3-none-any.whl.metadata (1.5 kB)\n",
            "Downloading dependencies-7.7.1-py2.py3-none-any.whl (17 kB)\n",
            "Installing collected packages: dependencies\n",
            "Successfully installed dependencies-7.7.1\n"
          ]
        }
      ],
      "source": [
        "!pip install dependencies"
      ]
    },
    {
      "cell_type": "markdown",
      "source": [
        "Dépendances installées\n",
        "\n",
        "Chargement du dataset"
      ],
      "metadata": {
        "id": "lenu1E4XrFNI"
      }
    },
    {
      "cell_type": "code",
      "source": [
        "from sklearn.datasets import load_breast_cancer\n",
        "\n",
        "data = load_breast_cancer()\n",
        "X = data.data      # Features\n",
        "y = data.target    # Labels (0 = malignant, 1 = benign)"
      ],
      "metadata": {
        "id": "qEqvHO_kh3Ba"
      },
      "execution_count": 2,
      "outputs": []
    },
    {
      "cell_type": "code",
      "source": [
        "import pandas as pd\n"
      ],
      "metadata": {
        "id": "Jt7IHTQniZx6"
      },
      "execution_count": 4,
      "outputs": []
    },
    {
      "cell_type": "markdown",
      "source": [
        "Exploration des données"
      ],
      "metadata": {
        "id": "e9FFuIIorVDj"
      }
    },
    {
      "cell_type": "code",
      "metadata": {
        "colab": {
          "base_uri": "https://localhost:8080/"
        },
        "id": "d4ed9aae",
        "outputId": "f0ed823a-e534-46bf-d65a-0b32e731878b"
      },
      "source": [
        "print(\"Features (X):\")\n",
        "print(X[:5]) # Display the first 5 rows of features\n",
        "\n",
        "print(\"\\nLabels (y):\")\n",
        "print(y[:5]) # Display the first 5 labels"
      ],
      "execution_count": 6,
      "outputs": [
        {
          "output_type": "stream",
          "name": "stdout",
          "text": [
            "Features (X):\n",
            "[[1.799e+01 1.038e+01 1.228e+02 1.001e+03 1.184e-01 2.776e-01 3.001e-01\n",
            "  1.471e-01 2.419e-01 7.871e-02 1.095e+00 9.053e-01 8.589e+00 1.534e+02\n",
            "  6.399e-03 4.904e-02 5.373e-02 1.587e-02 3.003e-02 6.193e-03 2.538e+01\n",
            "  1.733e+01 1.846e+02 2.019e+03 1.622e-01 6.656e-01 7.119e-01 2.654e-01\n",
            "  4.601e-01 1.189e-01]\n",
            " [2.057e+01 1.777e+01 1.329e+02 1.326e+03 8.474e-02 7.864e-02 8.690e-02\n",
            "  7.017e-02 1.812e-01 5.667e-02 5.435e-01 7.339e-01 3.398e+00 7.408e+01\n",
            "  5.225e-03 1.308e-02 1.860e-02 1.340e-02 1.389e-02 3.532e-03 2.499e+01\n",
            "  2.341e+01 1.588e+02 1.956e+03 1.238e-01 1.866e-01 2.416e-01 1.860e-01\n",
            "  2.750e-01 8.902e-02]\n",
            " [1.969e+01 2.125e+01 1.300e+02 1.203e+03 1.096e-01 1.599e-01 1.974e-01\n",
            "  1.279e-01 2.069e-01 5.999e-02 7.456e-01 7.869e-01 4.585e+00 9.403e+01\n",
            "  6.150e-03 4.006e-02 3.832e-02 2.058e-02 2.250e-02 4.571e-03 2.357e+01\n",
            "  2.553e+01 1.525e+02 1.709e+03 1.444e-01 4.245e-01 4.504e-01 2.430e-01\n",
            "  3.613e-01 8.758e-02]\n",
            " [1.142e+01 2.038e+01 7.758e+01 3.861e+02 1.425e-01 2.839e-01 2.414e-01\n",
            "  1.052e-01 2.597e-01 9.744e-02 4.956e-01 1.156e+00 3.445e+00 2.723e+01\n",
            "  9.110e-03 7.458e-02 5.661e-02 1.867e-02 5.963e-02 9.208e-03 1.491e+01\n",
            "  2.650e+01 9.887e+01 5.677e+02 2.098e-01 8.663e-01 6.869e-01 2.575e-01\n",
            "  6.638e-01 1.730e-01]\n",
            " [2.029e+01 1.434e+01 1.351e+02 1.297e+03 1.003e-01 1.328e-01 1.980e-01\n",
            "  1.043e-01 1.809e-01 5.883e-02 7.572e-01 7.813e-01 5.438e+00 9.444e+01\n",
            "  1.149e-02 2.461e-02 5.688e-02 1.885e-02 1.756e-02 5.115e-03 2.254e+01\n",
            "  1.667e+01 1.522e+02 1.575e+03 1.374e-01 2.050e-01 4.000e-01 1.625e-01\n",
            "  2.364e-01 7.678e-02]]\n",
            "\n",
            "Labels (y):\n",
            "[0 0 0 0 0]\n"
          ]
        }
      ]
    },
    {
      "cell_type": "code",
      "metadata": {
        "colab": {
          "base_uri": "https://localhost:8080/"
        },
        "id": "6f53dd62",
        "outputId": "c7458e17-685e-4ef9-be38-c947105e4ad7"
      },
      "source": [
        "from sklearn.model_selection import train_test_split\n",
        "\n",
        "X_train, X_test, y_train, y_test = train_test_split(X_scaled, y, test_size=0.3, random_state=42)\n",
        "\n",
        "print(\"Training features shape:\", X_train.shape)\n",
        "print(\"Testing features shape:\", X_test.shape)\n",
        "print(\"Training labels shape:\", y_train.shape)\n",
        "print(\"Testing labels shape:\", y_test.shape)"
      ],
      "execution_count": 10,
      "outputs": [
        {
          "output_type": "stream",
          "name": "stdout",
          "text": [
            "Training features shape: (398, 30)\n",
            "Testing features shape: (171, 30)\n",
            "Training labels shape: (398,)\n",
            "Testing labels shape: (171,)\n"
          ]
        }
      ]
    },
    {
      "cell_type": "markdown",
      "source": [
        "Mise en oeuvre de la régression logistique"
      ],
      "metadata": {
        "id": "oWgpUAUBrcTT"
      }
    },
    {
      "cell_type": "code",
      "metadata": {
        "colab": {
          "base_uri": "https://localhost:8080/"
        },
        "id": "89eef088",
        "outputId": "3682b696-5910-460c-cc2a-a2f1bb869360"
      },
      "source": [
        "from sklearn.linear_model import LogisticRegression\n",
        "\n",
        "# Initialize the Logistic Regression model\n",
        "# Increased max_iter for convergence\n",
        "model = LogisticRegression(max_iter=1000)\n",
        "\n",
        "# Train the model on the training data\n",
        "model.fit(X_train, y_train)\n",
        "\n",
        "print(\"Model training complete.\")"
      ],
      "execution_count": 11,
      "outputs": [
        {
          "output_type": "stream",
          "name": "stdout",
          "text": [
            "Model training complete.\n"
          ]
        }
      ]
    },
    {
      "cell_type": "markdown",
      "source": [
        "Scaling des features"
      ],
      "metadata": {
        "id": "jgnwqlfwrnJe"
      }
    },
    {
      "cell_type": "code",
      "metadata": {
        "id": "3b57f541"
      },
      "source": [
        "from sklearn.preprocessing import StandardScaler\n",
        "\n",
        "# Initialize the StandardScaler\n",
        "scaler = StandardScaler()\n",
        "\n",
        "# Scale the features\n",
        "X_scaled = scaler.fit_transform(X)"
      ],
      "execution_count": 9,
      "outputs": []
    },
    {
      "cell_type": "markdown",
      "source": [
        "Making predictions"
      ],
      "metadata": {
        "id": "_qwQ1WCErt0y"
      }
    },
    {
      "cell_type": "code",
      "metadata": {
        "colab": {
          "base_uri": "https://localhost:8080/"
        },
        "id": "4faf8bac",
        "outputId": "cd7607d6-5b9b-4752-fcff-85e2b302e31d"
      },
      "source": [
        "# Make predictions on the test set\n",
        "y_pred = model.predict(X_test)\n",
        "\n",
        "print(\"Predictions made successfully.\")"
      ],
      "execution_count": 12,
      "outputs": [
        {
          "output_type": "stream",
          "name": "stdout",
          "text": [
            "Predictions made successfully.\n"
          ]
        }
      ]
    },
    {
      "cell_type": "markdown",
      "source": [
        "Calcul de :\n",
        "\n",
        "- Accuracy\n",
        "- précision\n",
        "- Recall\n",
        "- F1 score\n"
      ],
      "metadata": {
        "id": "Dy2vft0dr4Uj"
      }
    },
    {
      "cell_type": "code",
      "metadata": {
        "id": "e43049f1"
      },
      "source": [
        "def calculate_accuracy(y_true, y_pred):\n",
        "    \"\"\"Calculates accuracy from true and predicted labels.\"\"\"\n",
        "    # Calculate confusion matrix components\n",
        "    TP = ((y_true == 1) & (y_pred == 1)).sum()\n",
        "    TN = ((y_true == 0) & (y_pred == 0)).sum()\n",
        "    FP = ((y_true == 0) & (y_pred == 1)).sum()\n",
        "    FN = ((y_true == 1) & (y_pred == 0)).sum()\n",
        "\n",
        "    # Calculate accuracy\n",
        "    accuracy = (TP + TN) / (TP + TN + FP + FN)\n",
        "    return accuracy"
      ],
      "execution_count": 18,
      "outputs": []
    },
    {
      "cell_type": "code",
      "metadata": {
        "id": "86de0a83"
      },
      "source": [
        "def calculate_precision(y_true, y_pred):\n",
        "    \"\"\"Calculates precision from true and predicted labels.\"\"\"\n",
        "    # Calculate confusion matrix components\n",
        "    TP = ((y_true == 1) & (y_pred == 1)).sum()\n",
        "    TN = ((y_true == 0) & (y_pred == 0)).sum()\n",
        "    FP = ((y_true == 0) & (y_pred == 1)).sum()\n",
        "    FN = ((y_true == 1) & (y_pred == 0)).sum()\n",
        "\n",
        "    # Calculate precision\n",
        "    # Handle the case where TP + FP is 0 to avoid division by zero\n",
        "    precision = TP / (TP + FP) if (TP + FP) > 0 else 0\n",
        "    return precision"
      ],
      "execution_count": 19,
      "outputs": []
    },
    {
      "cell_type": "code",
      "metadata": {
        "id": "fd4cf8e9"
      },
      "source": [
        "def calculate_recall(y_true, y_pred):\n",
        "    \"\"\"Calculates recall from true and predicted labels.\"\"\"\n",
        "    # Calculate confusion matrix components\n",
        "    TP = ((y_true == 1) & (y_pred == 1)).sum()\n",
        "    TN = ((y_true == 0) & (y_pred == 0)).sum()\n",
        "    FP = ((y_true == 0) & (y_pred == 1)).sum()\n",
        "    FN = ((y_true == 1) & (y_pred == 0)).sum()\n",
        "\n",
        "    # Calculate recall\n",
        "    # Handle the case where TP + FN is 0 to avoid division by zero\n",
        "    recall = TP / (TP + FN) if (TP + FN) > 0 else 0\n",
        "    return recall"
      ],
      "execution_count": 20,
      "outputs": []
    },
    {
      "cell_type": "code",
      "metadata": {
        "id": "2c5a2eba"
      },
      "source": [
        "def calculate_f1_score(y_true, y_pred):\n",
        "    \"\"\"Calculates F1-score from true and predicted labels.\"\"\"\n",
        "    # Calculate confusion matrix components\n",
        "    TP = ((y_true == 1) & (y_pred == 1)).sum()\n",
        "    TN = ((y_true == 0) & (y_pred == 0)).sum()\n",
        "    FP = ((y_true == 0) & (y_pred == 1)).sum()\n",
        "    FN = ((y_true == 1) & (y_pred == 0)).sum()\n",
        "\n",
        "    # Calculate precision and recall (using the functions we will define)\n",
        "    # Or calculate directly from TP, FP, FN\n",
        "    precision = TP / (TP + FP) if (TP + FP) > 0 else 0\n",
        "    recall = TP / (TP + FN) if (TP + FN) > 0 else 0\n",
        "\n",
        "    # Calculate F1-score\n",
        "    # Handle the case where precision + recall is 0 to avoid division by zero\n",
        "    f1_score = (2 * precision * recall) / (precision + recall) if (precision + recall) > 0 else 0\n",
        "    return f1_score"
      ],
      "execution_count": 21,
      "outputs": []
    },
    {
      "cell_type": "code",
      "metadata": {
        "colab": {
          "base_uri": "https://localhost:8080/"
        },
        "id": "2c9a9d0f",
        "outputId": "944d36bd-b9da-4f0e-f804-8fd790d87874"
      },
      "source": [
        "# Calculate the evaluation metrics\n",
        "accuracy = calculate_accuracy(y_test, y_pred)\n",
        "precision = calculate_precision(y_test, y_pred)\n",
        "recall = calculate_recall(y_test, y_pred)\n",
        "f1 = calculate_f1_score(y_test, y_pred)\n",
        "\n",
        "# Print the results\n",
        "print(f\"Accuracy: {accuracy:.4f}\")\n",
        "print(f\"Precision: {precision:.4f}\")\n",
        "print(f\"Recall: {recall:.4f}\")\n",
        "print(f\"F1-Score: {f1:.4f}\")"
      ],
      "execution_count": 22,
      "outputs": [
        {
          "output_type": "stream",
          "name": "stdout",
          "text": [
            "Accuracy: 0.9825\n",
            "Precision: 0.9907\n",
            "Recall: 0.9815\n",
            "F1-Score: 0.9860\n"
          ]
        }
      ]
    },
    {
      "cell_type": "markdown",
      "source": [
        "Visualisation des données obtenues avec une matrice de confusion"
      ],
      "metadata": {
        "id": "MNdPD39WssWV"
      }
    },
    {
      "cell_type": "code",
      "metadata": {
        "colab": {
          "base_uri": "https://localhost:8080/",
          "height": 564
        },
        "id": "ddeeae75",
        "outputId": "1865ad07-0e8c-43c2-82b2-54efff009ad6"
      },
      "source": [
        "from sklearn.metrics import confusion_matrix\n",
        "import seaborn as sns\n",
        "import matplotlib.pyplot as plt\n",
        "\n",
        "# Calculate the confusion matrix\n",
        "conf_matrix = confusion_matrix(y_test, y_pred)\n",
        "\n",
        "# Visualize the confusion matrix using seaborn heatmap\n",
        "plt.figure(figsize=(8, 6))\n",
        "sns.heatmap(conf_matrix, annot=True, fmt='d', cmap='Blues', cbar=False,\n",
        "            xticklabels=['Predicted Negative', 'Predicted Positive'],\n",
        "            yticklabels=['Actual Negative', 'Actual Positive'])\n",
        "plt.xlabel('Predicted Label')\n",
        "plt.ylabel('True Label')\n",
        "plt.title('Confusion Matrix')\n",
        "plt.show()"
      ],
      "execution_count": 23,
      "outputs": [
        {
          "output_type": "display_data",
          "data": {
            "text/plain": [
              "<Figure size 800x600 with 1 Axes>"
            ],
            "image/png": "[encoded data removed]"
          },
          "metadata": {}
        }
      ]
    },
    {
      "cell_type": "markdown",
      "metadata": {
        "id": "b8863d49"
      },
      "source": [
        "## Conclusion de l'analyse\n",
        "\n",
        "Un modèle de régression logistique a été développé et évalué pour la classification binaire sur l'ensemble de données Breast Cancer Wisconsin.\n",
        "\n",
        "Après pré-traitement des données, qui ont été normalisées, le modèle a été entraîné  et des prédictions ont été effectuées.\n",
        "\n",
        "A partir des  fonctions implémentées \"from scratch\", les métriques d'évaluation suivantes ont été calculées sur l'ensemble de test :\n",
        "\n",
        "*   **Accuracy (Précision globale) :** Indique la proportion d'instances correctement classifiées.\n",
        "*   **Precision (Précision) :** Mesure la proportion de classifications positives correctes parmi toutes les classifications positives.\n",
        "*   **Recall (Rappel ou Sensibilité) :** Mesure la proportion de classifications positives correctes parmi toutes les instances positives réelles.\n",
        "*   **F1-Score :** Est la moyenne harmonique de la précision et du rappel, offrant un équilibre entre les deux métriques.\n",
        "\n",
        "La matrice de confusion visualisée confirme la répartition des vrais positifs, vrais négatifs, faux positifs et faux négatifs, nous donnant un aperçu détaillé des performances du modèle pour chaque classe.\n",
        "\n",
        "Sur la base de ces métriques, nous pouvons évaluer l'efficacité du modèle de régression logistique pour cette tâche de classification spécifique."
      ]
    }
  ]
}