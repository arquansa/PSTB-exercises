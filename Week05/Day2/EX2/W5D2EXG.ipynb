{
  "nbformat": 4,
  "nbformat_minor": 0,
  "metadata": {
    "colab": {
      "provenance": [],
      "authorship_tag": "ABX9TyMJvT4xtwxnTUCFZ3METtN7",
      "include_colab_link": true
    },
    "kernelspec": {
      "name": "python3",
      "display_name": "Python 3"
    },
    "language_info": {
      "name": "python"
    }
  },
  "cells": [
    {
      "cell_type": "markdown",
      "metadata": {
        "id": "view-in-github",
        "colab_type": "text"
      },
      "source": [
        "<a href=\"https://colab.research.google.com/github/arquansa/PSTB-exercises/blob/main/Week05/Day2/EX2/W5D2EXG.ipynb\" target=\"_parent\"><img src=\"https://colab.research.google.com/assets/colab-badge.svg\" alt=\"Open In Colab\"/></a>"
      ]
    },
    {
      "cell_type": "markdown",
      "source": [
        "Exercises XP Gold\n",
        "Last Updated: March 26th, 2024\n",
        "\n",
        "What will you create\n",
        "By the end of this exercise, you’ll have written your own K-means clustering function in Python, capable of segmenting a dataset into distinct groups.\n",
        "\n",
        "You will create scatter plots to visualize the distribution of data points across clusters and the convergence of centroids.\n",
        "\n",
        "Through your implementation, you’ll generate a report indicating the cluster assignment for each data point in the dataset.\n",
        "\n",
        "You will also create a function to randomly initialize centroids, which is a crucial part of the K-means algorithm.\n",
        "\n",
        "By running your K-means implementation with different initializations, you will learn how to evaluate and refine clustering results.\n",
        "\n",
        "\n",
        "\n",
        "What will you learn\n",
        "Gain a deep understanding of the K-means clustering algorithm by implementing it from scratch.\n",
        "\n",
        "Learn how to use Euclidean distance to assess the similarity between data points and centroids.\n",
        "\n",
        "Understand the impact of initial centroid selection on the clustering outcome and learn methods to initialize centroids.\n",
        "\n",
        "Discover how the K-means algorithm iteratively refines the positions of centroids to minimize within-cluster variances.\n",
        "\n",
        "Develop skills to visualize and interpret the resulting clusters and centroids from the K-means algorithm.\n",
        "\n",
        "\n",
        "\n",
        "You will use the ex7data2.mat dataset, which is a .mat file that contains unlabeled data points. This dataset is typically used to test clustering algorithms.\n",
        "\n",
        "Tasks:\n",
        "Understanding the Dataset:\n",
        "Load the ex7data2.mat dataset using the scipy.io.loadmat function.\n",
        "Visualize the data points in the dataset using a scatter plot.\n",
        "\n",
        "Finding Closest Centroids:\n",
        "Implement the find_closest_centroids function that assigns each data point to the closest centroid.\n",
        "Use Euclidean distance to measure the closeness between data points and centroids.\n",
        "Test the function by assigning the initial centroids as np.array([[3, 3], [6, 2], [8, 5]]) and printing out the index of the closest centroid for the first three data points.\n",
        "\n",
        "Computing Centroids:\n",
        "Implement the compute_centroids function that computes the mean of all data points assigned to each centroid, effectively moving the centroid to the center of its assigned data points.\n",
        "Test the function by computing and printing new centroid locations.\n",
        "\n",
        "Running K-means:\n",
        "Implement the run_k_means function that iteratively runs the find_closest_centroids and compute_centroids functions for a given number of iterations (max_iters).\n",
        "Test the function with 10 iterations and visualize the resulting clusters with different colors on a scatter plot. Also, plot the final centroid locations.\n",
        "\n",
        "Initializing Centroids:\n",
        "Implement the init_centroids function that selects random data points from the dataset to serve as the initial centroids.\n",
        "Test the function by initializing centroids for three clusters and printing them out.\n",
        "\n"
      ],
      "metadata": {
        "id": "s0_-FoLItxZ5"
      }
    },
    {
      "cell_type": "markdown",
      "source": [
        "## Dataset exploration"
      ],
      "metadata": {
        "id": "x7k-jQzBBwrF"
      }
    },
    {
      "cell_type": "code",
      "source": [
        "import pandas as pd"
      ],
      "metadata": {
        "id": "2Udra3aOuhjV"
      },
      "execution_count": null,
      "outputs": []
    },
    {
      "cell_type": "code",
      "metadata": {
        "id": "1b93b43b"
      },
      "source": [
        "from scipy.io import loadmat\n",
        "\n",
        "data = loadmat('ex7data2.mat')"
      ],
      "execution_count": null,
      "outputs": []
    },
    {
      "cell_type": "markdown",
      "source": [
        "## Central points visualization"
      ],
      "metadata": {
        "id": "uG4mcUKEB4uI"
      }
    },
    {
      "cell_type": "code",
      "source": [
        "import matplotlib.pyplot as plt\n",
        "\n",
        "X = data['X']\n",
        "\n",
        "plt.figure(figsize=(4, 3))\n",
        "plt.scatter(X[:, 0], X[:, 1], s=10)\n",
        "plt.title('Dataset Visualization')\n",
        "plt.xlabel('Feature 1')\n",
        "plt.ylabel('Feature 2')\n",
        "plt.grid(True)\n",
        "plt.show()"
      ],
      "metadata": {
        "colab": {
          "base_uri": "https://localhost:8080/",
          "height": 333
        },
        "id": "5Q1KBRqh2ufo",
        "outputId": "bcd58911-ab7c-4c2d-8e1c-d87cf9937697"
      },
      "execution_count": null,
      "outputs": [
        {
          "output_type": "display_data",
          "data": {
            "text/plain": [
              "<Figure size 400x300 with 1 Axes>"
            ],
            "image/png": "[encoded data removed]"
          },
          "metadata": {}
        }
      ]
    },
    {
      "cell_type": "markdown",
      "source": [
        "## Finding Closest Centroids"
      ],
      "metadata": {
        "id": "ZzxEJjlLCK7W"
      }
    },
    {
      "cell_type": "code",
      "source": [
        "import numpy as np\n",
        "\n",
        "def find_closest_centroids(X, centroids):\n",
        "    \"\"\"\n",
        "    Computes the centroid memberships for every example\n",
        "\n",
        "    Args:\n",
        "        X (np.ndarray): (m, n) Input data points\n",
        "        centroids (np.ndarray): (K, n) K centroids, each row is a centroid\n",
        "\n",
        "    Returns:\n",
        "        idx (np.ndarray): (m,) closest centroid, range is [0, K-1]\n",
        "    \"\"\"\n",
        "    m = X.shape[0]\n",
        "    K = centroids.shape[0]\n",
        "    idx = np.zeros(m, dtype=int)\n",
        "\n",
        "    for i in range(m):\n",
        "        min_distance = float('inf')\n",
        "        for j in range(K):\n",
        "            distance = np.linalg.norm(X[i] - centroids[j])\n",
        "            if distance < min_distance:\n",
        "                min_distance = distance\n",
        "                idx[i] = j\n",
        "\n",
        "    return idx"
      ],
      "metadata": {
        "id": "f0QV65tf3HFI"
      },
      "execution_count": null,
      "outputs": []
    },
    {
      "cell_type": "code",
      "metadata": {
        "colab": {
          "base_uri": "https://localhost:8080/"
        },
        "id": "71818a76",
        "outputId": "35d772f0-3b05-4360-8b09-2660d55566e2"
      },
      "source": [
        "initial_centroids = np.array([[3, 3], [6, 2], [8, 5]])\n",
        "idx = find_closest_centroids(X, initial_centroids)\n",
        "\n",
        "print(\"Closest centroid for the first 3 data points:\")\n",
        "print(idx[:3])"
      ],
      "execution_count": null,
      "outputs": [
        {
          "output_type": "stream",
          "name": "stdout",
          "text": [
            "Closest centroid for the first 3 data points:\n",
            "[0 2 1]\n"
          ]
        }
      ]
    },
    {
      "cell_type": "markdown",
      "source": [
        "## Computing Centroids"
      ],
      "metadata": {
        "id": "O-INQ_KQCfIs"
      }
    },
    {
      "cell_type": "code",
      "metadata": {
        "id": "a3742d57"
      },
      "source": [
        "def compute_centroids(X, idx, K):\n",
        "    \"\"\"\n",
        "    Returns the new centroids by computing the means of the data points\n",
        "    assigned to each centroid.\n",
        "\n",
        "    Args:\n",
        "        X (np.ndarray):   (m, n) Input data points\n",
        "        idx (np.ndarray): (m,)   Closest centroid for each data point\n",
        "        K (int):          Number of centroids\n",
        "\n",
        "    Returns:\n",
        "        centroids (np.ndarray): (K, n) New centroids, each row is a centroid\n",
        "    \"\"\"\n",
        "    m, n = X.shape\n",
        "    centroids = np.zeros((K, n))\n",
        "\n",
        "    for k in range(K):\n",
        "        points_assigned_to_k = X[idx == k]\n",
        "        if len(points_assigned_to_k) > 0:\n",
        "            centroids[k, :] = np.mean(points_assigned_to_k, axis=0)\n",
        "\n",
        "    return centroids"
      ],
      "execution_count": null,
      "outputs": []
    },
    {
      "cell_type": "code",
      "metadata": {
        "colab": {
          "base_uri": "https://localhost:8080/"
        },
        "id": "c3e20a10",
        "outputId": "7c2ccc9b-e55f-472e-efb6-3da8af7b7776"
      },
      "source": [
        "# Use the initial_centroids and idx from the previous steps\n",
        "K = initial_centroids.shape[0]\n",
        "new_centroids = compute_centroids(X, idx, K)\n",
        "\n",
        "print(\"New centroid locations:\")\n",
        "print(new_centroids)"
      ],
      "execution_count": null,
      "outputs": [
        {
          "output_type": "stream",
          "name": "stdout",
          "text": [
            "New centroid locations:\n",
            "[[2.42830111 3.15792418]\n",
            " [5.81350331 2.63365645]\n",
            " [7.11938687 3.6166844 ]]\n"
          ]
        }
      ]
    },
    {
      "cell_type": "markdown",
      "source": [
        "## Running K-means"
      ],
      "metadata": {
        "id": "0U3wZ40CCqVC"
      }
    },
    {
      "cell_type": "code",
      "metadata": {
        "id": "4bbb19ac"
      },
      "source": [
        "def run_k_means(X, initial_centroids, max_iters):\n",
        "    \"\"\"\n",
        "    Runs the K-Means algorithm on data matrix X, where each row of X\n",
        "    is a single example.\n",
        "\n",
        "    Args:\n",
        "        X (np.ndarray): Input data points (m, n)\n",
        "        initial_centroids (np.ndarray): Initial centroids (K, n)\n",
        "        max_iters (int): Number of iterations to run K-Means\n",
        "\n",
        "    Returns:\n",
        "        centroids (np.ndarray): Final centroids (K, n)\n",
        "        idx (np.ndarray): Final centroid assignment for each data point (m,)\n",
        "    \"\"\"\n",
        "    m, n = X.shape\n",
        "    K = initial_centroids.shape[0]\n",
        "    centroids = initial_centroids\n",
        "    idx = np.zeros(m, dtype=int)\n",
        "\n",
        "    for i in range(max_iters):\n",
        "        print(f\"K-Means iteration {i+1}/{max_iters}...\")\n",
        "        # Find the closest centroids for the examples\n",
        "        idx = find_closest_centroids(X, centroids)\n",
        "\n",
        "        # Compute new centroids\n",
        "        centroids = compute_centroids(X, idx, K)\n",
        "\n",
        "    return centroids, idx"
      ],
      "execution_count": null,
      "outputs": []
    },
    {
      "cell_type": "code",
      "metadata": {
        "colab": {
          "base_uri": "https://localhost:8080/"
        },
        "id": "2015d9d6",
        "outputId": "770159d6-1c97-4b40-8f7a-a2542fc7ef30"
      },
      "source": [
        "# Run K-Means algorithm\n",
        "max_iters = 10\n",
        "K = initial_centroids.shape[0]\n",
        "final_centroids, final_idx = run_k_means(X, initial_centroids, max_iters)\n",
        "\n",
        "print(\"\\nFinal Centroids:\")\n",
        "print(final_centroids)"
      ],
      "execution_count": null,
      "outputs": [
        {
          "output_type": "stream",
          "name": "stdout",
          "text": [
            "K-Means iteration 1/10...\n",
            "K-Means iteration 2/10...\n",
            "K-Means iteration 3/10...\n",
            "K-Means iteration 4/10...\n",
            "K-Means iteration 5/10...\n",
            "K-Means iteration 6/10...\n",
            "K-Means iteration 7/10...\n",
            "K-Means iteration 8/10...\n",
            "K-Means iteration 9/10...\n",
            "K-Means iteration 10/10...\n",
            "\n",
            "Final Centroids:\n",
            "[[1.95399466 5.02557006]\n",
            " [3.04367119 1.01541041]\n",
            " [6.03366736 3.00052511]]\n"
          ]
        }
      ]
    },
    {
      "cell_type": "code",
      "metadata": {
        "colab": {
          "base_uri": "https://localhost:8080/",
          "height": 333
        },
        "id": "a034c9fa",
        "outputId": "c171d014-aa70-42b9-f05f-29d6e3ec1b6e"
      },
      "source": [
        "# Visualize the clustered data\n",
        "plt.figure(figsize=(4, 3))\n",
        "colors = ['red', 'blue', 'green', 'purple', 'orange', 'brown'] # Define colors for clusters\n",
        "\n",
        "for i in range(K):\n",
        "    cluster_points = X[final_idx == i]\n",
        "    plt.scatter(cluster_points[:, 0], cluster_points[:, 1], s=10, c=colors[i % len(colors)], label=f'Cluster {i+1}')\n",
        "\n",
        "plt.scatter(final_centroids[:, 0], final_centroids[:, 1], s=100, c='black', marker='X', label='Centroids')\n",
        "\n",
        "plt.title('K-Means Clustering Results')\n",
        "plt.xlabel('Feature 1')\n",
        "plt.ylabel('Feature 2')\n",
        "plt.legend()\n",
        "plt.grid(True)\n",
        "plt.show()"
      ],
      "execution_count": null,
      "outputs": [
        {
          "output_type": "display_data",
          "data": {
            "text/plain": [
              "<Figure size 400x300 with 1 Axes>"
            ],
            "image/png": "[encoded data removed]"
          },
          "metadata": {}
        }
      ]
    },
    {
      "cell_type": "markdown",
      "source": [
        "## Initializing Centroids"
      ],
      "metadata": {
        "id": "oxigOH1qDFtJ"
      }
    },
    {
      "cell_type": "code",
      "metadata": {
        "id": "9aeaaede"
      },
      "source": [
        "def init_centroids(X, K):\n",
        "    \"\"\"\n",
        "    This function initializes K centroids that are to be\n",
        "    used in K-Means on the dataset X\n",
        "\n",
        "    Args:\n",
        "        X (np.ndarray): Data points\n",
        "        K (int): Number of centroids\n",
        "\n",
        "    Returns:\n",
        "        centroids (np.ndarray): Initialized centroids\n",
        "    \"\"\"\n",
        "    m = X.shape[0]\n",
        "    # Randomly reorder the indices of examples\n",
        "    randidx = np.random.permutation(m)\n",
        "    # Take the first K examples as centroids\n",
        "    centroids = X[randidx[:K]]\n",
        "\n",
        "    return centroids"
      ],
      "execution_count": null,
      "outputs": []
    },
    {
      "cell_type": "code",
      "metadata": {
        "colab": {
          "base_uri": "https://localhost:8080/"
        },
        "id": "7c10d910",
        "outputId": "e143bc5f-815f-4f32-b1ff-700403c27265"
      },
      "source": [
        "K = 3\n",
        "initial_centroids_random = init_centroids(X, K)\n",
        "\n",
        "print(\"Randomly initialized centroids:\")\n",
        "print(initial_centroids_random)"
      ],
      "execution_count": null,
      "outputs": [
        {
          "output_type": "stream",
          "name": "stdout",
          "text": [
            "Randomly initialized centroids:\n",
            "[[2.95177039 0.89583143]\n",
            " [0.47647355 5.13535977]\n",
            " [6.69451358 2.89056083]]\n"
          ]
        }
      ]
    },
    {
      "cell_type": "code",
      "metadata": {
        "colab": {
          "base_uri": "https://localhost:8080/"
        },
        "id": "b17c4060",
        "outputId": "b4af45e0-cb0f-44de-e275-dc97602b260e"
      },
      "source": [
        "# Run K-Means algorithm with randomly initialized centroids\n",
        "max_iters = 10\n",
        "K = initial_centroids_random.shape[0]\n",
        "final_centroids_random, final_idx_random = run_k_means(X, initial_centroids_random, max_iters)\n",
        "\n",
        "print(\"\\nFinal Centroids with Random Initialization:\")\n",
        "print(final_centroids_random)"
      ],
      "execution_count": null,
      "outputs": [
        {
          "output_type": "stream",
          "name": "stdout",
          "text": [
            "K-Means iteration 1/10...\n",
            "K-Means iteration 2/10...\n",
            "K-Means iteration 3/10...\n",
            "K-Means iteration 4/10...\n",
            "K-Means iteration 5/10...\n",
            "K-Means iteration 6/10...\n",
            "K-Means iteration 7/10...\n",
            "K-Means iteration 8/10...\n",
            "K-Means iteration 9/10...\n",
            "K-Means iteration 10/10...\n",
            "\n",
            "Final Centroids with Random Initialization:\n",
            "[[3.04367119 1.01541041]\n",
            " [1.95399466 5.02557006]\n",
            " [6.03366736 3.00052511]]\n"
          ]
        }
      ]
    },
    {
      "cell_type": "markdown",
      "source": [
        "## Visualizing clustered data"
      ],
      "metadata": {
        "id": "J9DIX_6yDO5Y"
      }
    },
    {
      "cell_type": "code",
      "metadata": {
        "colab": {
          "base_uri": "https://localhost:8080/",
          "height": 333
        },
        "id": "880eb752",
        "outputId": "927e5588-b08a-4dbd-a02a-62726073d3af"
      },
      "source": [
        "# Visualize the clustered data with random initialization\n",
        "plt.figure(figsize=(4, 3))\n",
        "colors = ['red', 'blue', 'green', 'purple', 'orange', 'brown'] # Define colors for clusters\n",
        "\n",
        "for i in range(K):\n",
        "    cluster_points = X[final_idx_random == i]\n",
        "    plt.scatter(cluster_points[:, 0], cluster_points[:, 1], s=10, c=colors[i % len(colors)], label=f'Cluster {i+1}')\n",
        "\n",
        "plt.scatter(final_centroids_random[:, 0], final_centroids_random[:, 1], s=100, c='black', marker='X', label='Centroids')\n",
        "\n",
        "plt.title('K-Means Clustering Results (Random Initialization)')\n",
        "plt.xlabel('Feature 1')\n",
        "plt.ylabel('Feature 2')\n",
        "plt.legend()\n",
        "plt.grid(True)\n",
        "plt.show()"
      ],
      "execution_count": null,
      "outputs": [
        {
          "output_type": "display_data",
          "data": {
            "text/plain": [
              "<Figure size 400x300 with 1 Axes>"
            ],
            "image/png": "[encoded data removed]"
          },
          "metadata": {}
        }
      ]
    },
    {
      "cell_type": "markdown",
      "metadata": {
        "id": "18af3fc0"
      },
      "source": [
        "##**Conclusion**\n",
        "\n",
        "The K-means clustering algorithm has been successfully implemented from scratch in Python. This involved:\n",
        "\n",
        "*   Loading and visualizing the dataset.\n",
        "*   Creating functions to find the closest centroids for each data point and to compute the new centroid locations based on the assigned points.\n",
        "*   Developing a function to run the iterative K-means process.\n",
        "*   Implementing a method to randomly initialize centroids.\n",
        "\n",
        "By visualizing the clustering results with both fixed and random initializations, it was possible to observe how the starting positions of the centroids can influence the final cluster assignments and centroid locations. This hands-on implementation has provided a deeper understanding of the K-means algorithm's mechanics and the importance of initialization.\n",
        "\n",
        "A## working K-means implementation capable of segmenting data into distinct groups and visualizing the results has been created."
      ]
    }
  ]
}