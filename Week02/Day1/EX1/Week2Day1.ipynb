{
 "cells": [
  {
   "cell_type": "code",
   "execution_count": 1,
   "id": "0adb3fb4",
   "metadata": {},
   "outputs": [
    {
     "name": "stdout",
     "output_type": "stream",
     "text": [
      "Hello world\n",
      "Hello world\n",
      "Hello world\n",
      "Hello world\n"
     ]
    }
   ],
   "source": [
    "#Exercice 1\n",
    "\n",
    "for i in range(4):\n",
    "    print(\"Hello world\")"
   ]
  },
  {
   "cell_type": "code",
   "execution_count": null,
   "id": "034cc926",
   "metadata": {},
   "outputs": [],
   "source": [
    "#Exercice 2\n",
    "\n",
    "f=(99**3)*8\n",
    "print (f)"
   ]
  },
  {
   "cell_type": "code",
   "execution_count": null,
   "id": "9971b846",
   "metadata": {},
   "outputs": [
    {
     "name": "stdout",
     "output_type": "stream",
     "text": [
      "['pomme']\n",
      "Désolé orange vous n'avez pas d'homonyme\n",
      "['pomme', 'orange']\n",
      "Désolé poire vous n'avez pas d'homonyme\n",
      "['pomme', 'orange', 'poire']\n",
      "Félicitations pomme vous avez un homonyme\n",
      "['pomme', 'orange', 'poire']\n"
     ]
    }
   ],
   "source": [
    "\n",
    "#Exercice 3\n",
    "\n",
    "liste_name=[]\n",
    "while True:\n",
    "    choix = input (\"Opération 1-Continuer/ 2-Quitter\")\n",
    "    if choix==\"2\":\n",
    "        break\n",
    "    else:\n",
    "        while True:\n",
    "            my_name=input (\"Saisir un nom\")\n",
    "            if my_name not in liste_name:\n",
    "                liste_name=liste_name+[my_name]\n",
    "                if len(liste_name)>1:\n",
    "                    print(\"Désolé \"+my_name+\" vous n'avez pas d'homonyme\")\n",
    "                print(liste_name)\n",
    "            else:\n",
    "                print(\"Félicitations \"+my_name+\" vous avez un homonyme\")\n",
    "                print(liste_name)\n",
    "                break\n",
    "\n",
    "\n",
    "\n",
    "     \n",
    "     "
   ]
  },
  {
   "cell_type": "code",
   "execution_count": null,
   "id": "cd5bcd6e",
   "metadata": {},
   "outputs": [],
   "source": [
    "#Exercice 4\n",
    "\n",
    "my_height:float\n",
    "limit_height=1.45\n",
    "while True:\n",
    "    choix = input (\"Opération 1-Continuer/ 2-Quitter\")\n",
    "    if choix==\"2\":\n",
    "        break\n",
    "    else:\n",
    "        while True:\n",
    "            my_height =float(input (\"Saisir votre taille\"))\n",
    "            if my_height <= limit_height:\n",
    "                print(\"Désolé, vous ne pouvez pas monter à cheval car vous n'êtes pas assez grand : <= \"+ str(limit_height))\n",
    "                print(\"Votre taille : \"+ str(my_height))\n",
    "            else:\n",
    "               print(\"Félicitations vous pouvez monter à cheval : > \"+ str(limit_height))\n",
    "               print(\"Votre taille : \"+ str(my_height))\n",
    "               break"
   ]
  },
  {
   "cell_type": "code",
   "execution_count": null,
   "id": "61596b9f",
   "metadata": {},
   "outputs": [],
   "source": [
    "#Exercice 5"
   ]
  },
  {
   "cell_type": "code",
   "execution_count": null,
   "id": "1cd78161",
   "metadata": {},
   "outputs": [
    {
     "ename": "AttributeError",
     "evalue": "'tuple' object has no attribute 'remove'",
     "output_type": "error",
     "traceback": [
      "\u001b[31m---------------------------------------------------------------------------\u001b[39m",
      "\u001b[31mAttributeError\u001b[39m                            Traceback (most recent call last)",
      "\u001b[36mCell\u001b[39m\u001b[36m \u001b[39m\u001b[32mIn[3]\u001b[39m\u001b[32m, line 11\u001b[39m\n\u001b[32m      9\u001b[39m \u001b[38;5;66;03m# Element  tuple  à retirer\u001b[39;00m\n\u001b[32m     10\u001b[39m element_tuple = \u001b[32m3\u001b[39m\n\u001b[32m---> \u001b[39m\u001b[32m11\u001b[39m \u001b[43mmy_tuple\u001b[49m\u001b[43m.\u001b[49m\u001b[43mremove\u001b[49m(element_tuple)\n\u001b[32m     12\u001b[39m \u001b[38;5;28mprint\u001b[39m(my_tuple)\n\u001b[32m     14\u001b[39m \u001b[38;5;66;03m# Try to add New integers in a tuple\u001b[39;00m\n",
      "\u001b[31mAttributeError\u001b[39m: 'tuple' object has no attribute 'remove'"
     ]
    }
   ],
   "source": [
    "#Exercice 6\n",
    "\n",
    "# Original tuple\n",
    "my_tuple = (1, 2, 3)\n",
    "\n",
    "# New integers to add\n",
    "new_integers = (4, 5)\n",
    "\n",
    "# Element tuple  à retirer/\"il est impossible de retirer un élément d'un tuple => cela renvoie une erreur\n",
    "element_tuple = 3\n",
    "my_tuple.remove(element_tuple)\n",
    "print(my_tuple)\n",
    "\n",
    "# Try to add New integers in a tuple/ il est possible d'ajouter des éléments (crée un nouveau tuple par concaténation)\n",
    "my_tuple = my_tuple+new_integers\n",
    "print(my_tuple)\n",
    "# Adding an element to a tuple raises an AttributeError  (as seen below) because 'tuple' objects have no attribute 'remove' (or 'add'): since they are immutable, nothing can be removed from them or added to them."
   ]
  },
  {
   "cell_type": "code",
   "execution_count": null,
   "id": "c2d2b422",
   "metadata": {},
   "outputs": [],
   "source": [
    "#Exercice 7\n",
    "# List manipulation\n",
    "\n",
    "basket = [\"Banana\", \"Apples\", \"Oranges\", \"Blueberries\"]\n",
    "# Remove \"Banana\" from the list\n",
    "basket.remove(\"Banana\")\n",
    "\n",
    "# Remove \"Blueberries\" from the list\n",
    "basket.remove(\"Blueberries\")\n",
    "\n",
    "# Add \"Kiwi\" to the end of the list\n",
    "basket.append(\"Kiwi\")\n",
    "\n",
    "# Add \"Apples\" to the beginning of the list\n",
    "basket.insert(0, \"Apples\")\n",
    "\n",
    "# Count how many times \"Apples\" appear\n",
    "apples_count = basket.count(\"Apples\")\n",
    "print(\"Number of 'Apples':\", apples_count)\n",
    "\n",
    "# Empty the list\n",
    "basket.clear()\n",
    "\n",
    "# Print the final state of the list\n",
    "print(\"Final basket:\", basket)\n",
    "\n",
    "Number of 'Apples': 2\n",
    "Final basket: []"
   ]
  },
  {
   "cell_type": "code",
   "execution_count": 2,
   "id": "6d18b171",
   "metadata": {},
   "outputs": [
    {
     "name": "stdout",
     "output_type": "stream",
     "text": [
      "I made your tuna sandwich\n",
      "I made your avocado sandwich\n",
      "I made your egg sandwich\n",
      "I made your chicken sandwich\n"
     ]
    }
   ],
   "source": [
    "#Exercice 8\n",
    "# Initial sandwich orders list\n",
    "sandwich_orders = [\n",
    "    \"Tuna sandwich\", \"Pastrami sandwich\", \"Avocado sandwich\",\n",
    "    \"Pastrami sandwich\", \"Egg sandwich\", \"Chicken sandwich\", \"Pastrami sandwich\"\n",
    "]\n",
    "\n",
    "# Remove all \"Pastrami sandwich\" using a while loop\n",
    "while \"Pastrami sandwich\" in sandwich_orders:\n",
    "    sandwich_orders.remove(\"Pastrami sandwich\")\n",
    "\n",
    "# Create an empty list to hold finished sandwiches\n",
    "finished_sandwiches = []\n",
    "\n",
    "# Move sandwiches from sandwich_orders to finished_sandwiches list.\n",
    "while sandwich_orders:\n",
    "    current_sandwich = sandwich_orders.pop(0)  # Remove the first sandwich\n",
    "    finished_sandwiches.append(current_sandwich)\n",
    "    print(f\"I made your {current_sandwich.lower()}\")\n"
   ]
  }
 ],
 "metadata": {
  "kernelspec": {
   "display_name": "Python 3",
   "language": "python",
   "name": "python3"
  },
  "language_info": {
   "codemirror_mode": {
    "name": "ipython",
    "version": 3
   },
   "file_extension": ".py",
   "mimetype": "text/x-python",
   "name": "python",
   "nbconvert_exporter": "python",
   "pygments_lexer": "ipython3",
   "version": "3.11.9"
  }
 },
 "nbformat": 4,
 "nbformat_minor": 5
}
