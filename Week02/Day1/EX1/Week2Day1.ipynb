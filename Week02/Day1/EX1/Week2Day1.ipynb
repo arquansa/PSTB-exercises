{
 "cells": [
  {
   "cell_type": "code",
   "execution_count": 4,
   "id": "0adb3fb4",
   "metadata": {},
   "outputs": [
    {
     "name": "stdout",
     "output_type": "stream",
     "text": [
      "Hello world\n",
      "Hello world\n",
      "Hello world\n",
      "Hello world\n"
     ]
    }
   ],
   "source": [
    "#Exercice 1\n",
    "\n",
    "for i in range(4):\n",
    "    print(\"Hello world\")"
   ]
  },
  {
   "cell_type": "code",
   "execution_count": null,
   "id": "034cc926",
   "metadata": {},
   "outputs": [
    {
     "name": "stdout",
     "output_type": "stream",
     "text": [
      "7762392\n"
     ]
    }
   ],
   "source": [
    "#Exercice 2 - (99 puissance 3) x 8\n",
    "\n",
    "f=(99**3)*8\n",
    "print (f)"
   ]
  },
  {
   "cell_type": "code",
   "execution_count": 10,
   "id": "9971b846",
   "metadata": {},
   "outputs": [
    {
     "name": "stdout",
     "output_type": "stream",
     "text": [
      "Sorry, your name is not also my name\n"
     ]
    }
   ],
   "source": [
    "\n",
    "#Exercice 3\n",
    "\n",
    "my_name = input('my name is')\n",
    "your_name = input ('your name is')\n",
    "if my_name != your_name:\n",
    "    print(\"Sorry, your name is not also my name\")\n",
    "else:\n",
    "    print(\"Whoa! Are we name twins?\")   \n",
    "     "
   ]
  },
  {
   "cell_type": "code",
   "execution_count": 18,
   "id": "cd5bcd6e",
   "metadata": {},
   "outputs": [
    {
     "name": "stdout",
     "output_type": "stream",
     "text": [
      "Sorry, you cannot ride a roller coaster because you are not tall enough: <= 1.45\n"
     ]
    }
   ],
   "source": [
    "#Exercice 4\n",
    "\n",
    "my_size:float\n",
    "limit_size=1.45\n",
    "#Someone enters a size\n",
    "my_size =float(input (\"Enter your size\"))\n",
    "if my_size <= limit_size:\n",
    "   print(\"Sorry, you cannot ride a roller coaster because you are not tall enough: <= \"+ str(limit_size))\n",
    "else:\n",
    "   print(\"Congratulations, you can ride a roller coaster: > \"+ str(limit_size))\n",
    "               "
   ]
  },
  {
   "cell_type": "code",
   "execution_count": null,
   "id": "1859ddd8",
   "metadata": {},
   "outputs": [
    {
     "name": "stdout",
     "output_type": "stream",
     "text": [
      "adding an integer to a tuple generates a syntax error\n"
     ]
    }
   ],
   "source": [
    "#Exercice 6\n",
    "#Given a tuple of integers, try to add more integers to the tuple.\n",
    "#Hint: Tuples are immutable, meaning they cannot be changed after creation. Think about why you can’t add more integers to a tuple.\n",
    "\n",
    "# Original tuple\n",
    "my_tuple = (1, 2, 3)\n",
    "\n",
    "# Attempt to add an element (this won't work)\n",
    "try:\n",
    "    my_tuple.append(4)     \n",
    "# adding an integer to a tuple generates a syntax error.\n",
    "except AttributeError:\n",
    "    print('adding an integer to a tuple generates a syntax error')"
   ]
  }
 ],
 "metadata": {
  "kernelspec": {
   "display_name": "Python 3",
   "language": "python",
   "name": "python3"
  },
  "language_info": {
   "codemirror_mode": {
    "name": "ipython",
    "version": 3
   },
   "file_extension": ".py",
   "mimetype": "text/x-python",
   "name": "python",
   "nbconvert_exporter": "python",
   "pygments_lexer": "ipython3",
   "version": "3.11.9"
  }
 },
 "nbformat": 4,
 "nbformat_minor": 5
}
