{
  "nbformat": 4,
  "nbformat_minor": 0,
  "metadata": {
    "colab": {
      "provenance": [],
      "authorship_tag": "ABX9TyPh7bVNMYDzXtrNEXSygCc6",
      "include_colab_link": true
    },
    "kernelspec": {
      "name": "python3",
      "display_name": "Python 3"
    },
    "language_info": {
      "name": "python"
    }
  },
  "cells": [
    {
      "cell_type": "markdown",
      "metadata": {
        "id": "view-in-github",
        "colab_type": "text"
      },
      "source": [
        "<a href=\"https://colab.research.google.com/github/arquansa/PSTB-exercises/blob/main/Week02/Day4/DC4/W2D4DC.ipynb\" target=\"_parent\"><img src=\"https://colab.research.google.com/assets/colab-badge.svg\" alt=\"Open In Colab\"/></a>"
      ]
    },
    {
      "cell_type": "markdown",
      "source": [
        "#Daily Challenge : Pagination\n",
        "Last Updated: May 5th, 2025\n",
        "\n",
        "👩‍🏫 👩🏿‍🏫 What You’ll learn\n",
        "Classes and Objects\n",
        "Method chaining\n",
        "List slicing and indexing\n",
        "Error handling\n",
        "Type conversion\n",
        "\n",
        "Key Python Topics:\n",
        "\n",
        "Classes and Objects\n",
        "Constructors and instance attributes\n",
        "List slicing and indexing\n",
        "Method chaining (return self)\n",
        "Type casting (int())\n",
        "Conditional logic\n",
        "Custom exceptions\n",
        "\n",
        "Instructions: Pagination System\n",
        "\n",
        "📄 What is Pagination?\n",
        "\n",
        "In web development, pagination helps break large lists into smaller, manageable chunks (pages), making it easier to navigate content like search results, product listings, or articles.\n",
        "\n",
        "Here’s a visual example:\n",
        "\n",
        "Page 1      Page 2      Page 3\n",
        "[a, b, c]   [d, e, f]   [g, h, i]\n",
        "\n",
        "Goal:\n",
        "\n",
        "Create a Pagination class that simulates a basic pagination system.\n",
        "\n",
        "Step 1: Create the Pagination Class\n",
        "\n",
        "Define a class called Pagination to represent paginated content.\n",
        "It should optionally accept a list of items and a page size when initialized.\n",
        "\n",
        "Step 2: Implement the __init__ Method\n",
        "\n",
        "Accept two optional parameters:\n",
        "items (default None): a list of items\n",
        "page_size (default 10): number of items per page\n",
        "\n",
        "Behavior:\n",
        "\n",
        "If items is None,\n",
        "initialize it as an empty list.\n",
        "\n",
        "Save page_size and\n",
        "set current_idx (current page index) to 0.\n",
        "\n",
        "Calculate total number of pages using math.ceil.\n",
        "\n",
        "Step 3: Implement the get_visible_items() Method\n",
        "\n",
        "This method returns the list of items visible on the current page.\n",
        "Use slicing based on the current_idx and page_size.\n",
        "\n",
        "Step 4: Implement Navigation Methods\n",
        "\n",
        "These methods should help navigate through pages:\n",
        "\n",
        "go_to_page(page_num)\n",
        "→ Goes to the specified page number (1-based indexing).\n",
        "→ If page_num is out of range, raise a ValueError.\n",
        "\n",
        "first_page()\n",
        "→ Navigates to the first page.\n",
        "\n",
        "last_page()\n",
        "→ Navigates to the last page.\n",
        "\n",
        "next_page()\n",
        "→ Moves one page forward (if not already on the last page).\n",
        "\n",
        "previous_page()\n",
        "→ Moves one page backward (if not already on the first page).\n",
        "\n",
        "📝 Note:\n",
        "\n",
        "Pages are indexed internally from 0, but user input is expected to start at 1.\n",
        "All navigation methods (except go_to_page) should return self to allow method chaining.\n",
        "\n",
        "Step 5: Add a Custom __str__() Method\n",
        "\n",
        "This magic method should return a string displaying the items on the current page, each on a new line.\n",
        "Example:\n",
        "\n",
        "alphabetList = list(\"abcdefghijklmnopqrstuvwxyz\")\n",
        "p = Pagination(alphabetList, 4)\n",
        "print(str(p))\n",
        "Output:\n",
        "a\n",
        "b\n",
        "c\n",
        "d\n",
        "\n",
        "Step 6: Test Your Code\n",
        "\n",
        "Use the following test cases:\n",
        "\n",
        "alphabetList = list(\"abcdefghijklmnopqrstuvwxyz\")\n",
        "p = Pagination(alphabetList, 4)\n",
        "\n",
        "print(p.get_visible_items())\n",
        "['a', 'b', 'c', 'd']\n",
        "\n",
        "p.next_page()\n",
        "print(p.get_visible_items())\n",
        "['e', 'f', 'g', 'h']\n",
        "\n",
        "p.last_page()\n",
        "print(p.get_visible_items())\n",
        "['y', 'z']\n",
        "\n",
        "p.go_to_page(10)\n",
        "print(p.current_idx + 1)\n",
        "Output: 7\n",
        "\n",
        "p.go_to_page(0)\n",
        "Raises ValueError"
      ],
      "metadata": {
        "id": "ANX9XIWA9k1L"
      }
    },
    {
      "cell_type": "markdown",
      "source": [
        "1. Implementation of Pagination class\n",
        "\n",
        "complete with\n",
        "\n",
        "method chaining,\n",
        "\n",
        "error handling, and\n",
        "\n",
        "clear navigation logic:"
      ],
      "metadata": {
        "id": "PyzjCWKp_Fs4"
      }
    },
    {
      "cell_type": "markdown",
      "source": [
        "______________________________________________________________________________________________________________________________________________"
      ],
      "metadata": {
        "id": "u1JH5IITcJ9m"
      }
    },
    {
      "cell_type": "markdown",
      "source": [
        "Python Pagination Implementation"
      ],
      "metadata": {
        "id": "7Is1HjBC_HD0"
      }
    },
    {
      "cell_type": "markdown",
      "source": [
        "**Create the Pagination Class**\n",
        "\n",
        "**Implement the init Method**\n",
        "\n",
        "Two optional parameters:\n",
        "- items (default None), a list of items ;\n",
        "- page_size (default 10), number of items per page\n"
      ],
      "metadata": {
        "id": "YpKdSUyzATgc"
      }
    },
    {
      "cell_type": "markdown",
      "source": [
        "Full Pagination Class (All Steps Integrated)"
      ],
      "metadata": {
        "id": "m2MJIf5AZTCy"
      }
    },
    {
      "cell_type": "code",
      "source": [
        " import math\n",
        "\n",
        "class Pagination:\n",
        "    def __init__(self, items=None, page_size=10):\n",
        "        self.items = items if items is not None else []\n",
        "        self.page_size = int(page_size)\n",
        "        self.current_idx = 0\n",
        "        self.total_pages = math.ceil(len(self.items) / self.page_size) if self.page_size else 0\n",
        "\n",
        "    def get_visible_items(self):\n",
        "        start = self.current_idx * self.page_size\n",
        "        end = start + self.page_size\n",
        "        return self.items[start:end]\n",
        "\n",
        "    def go_to_page(self, page_num):\n",
        "        if page_num < 1 or page_num > self.total_pages:\n",
        "            raise ValueError(f\"Page {page_num} out of range (1–{self.total_pages}).\")\n",
        "        self.current_idx = page_num - 1\n",
        "        return self\n",
        "\n",
        "    def first_page(self):\n",
        "        self.current_idx = 0\n",
        "        return self\n",
        "\n",
        "    def last_page(self):\n",
        "        self.current_idx = self.total_pages - 1 if self.total_pages else 0\n",
        "        return self\n",
        "\n",
        "    def next_page(self):\n",
        "        if self.current_idx + 1 < self.total_pages:\n",
        "            self.current_idx += 1\n",
        "        return self\n",
        "\n",
        "    def previous_page(self):\n",
        "        if self.current_idx > 0:\n",
        "            self.current_idx -= 1\n",
        "        return self\n"
      ],
      "metadata": {
        "id": "nGOtXNosGAJV"
      },
      "execution_count": 2,
      "outputs": []
    },
    {
      "cell_type": "markdown",
      "source": [
        "2. Implementing the __init__ method for the Pagination class:\n",
        "\n",
        "Accepts optional items (default None) and page_size (default 10).\n",
        "\n",
        "Initializes\n",
        "self.items,\n",
        "self.page_size, and\n",
        "self.current_idx (starting at page 0).\n",
        "\n",
        "Calculates the total number of pages using math.ceil.\n",
        "\n",
        "Here's how to do it, incorporating best practices sourced from pagination logic patterns:\n",
        "\n",
        "Pagination Initialization: __init__ Method"
      ],
      "metadata": {
        "id": "T70j6gsfGpjT"
      }
    },
    {
      "cell_type": "markdown",
      "source": [
        "3. Refined implementation of  Pagination system\n",
        "\n",
        "get_visible_items() method, elegantly fetching the items of the current page using list slicing:\n",
        "\n",
        "get_visible_items() Method"
      ],
      "metadata": {
        "id": "-WzIFyVnHNfu"
      }
    },
    {
      "cell_type": "markdown",
      "source": [
        "Why It Works\n",
        "\n",
        "According to industry-standard approaches, effective pagination relies on **slicing sequences** by computed index ranges:"
      ],
      "metadata": {
        "id": "A-8rpkurHaNj"
      }
    },
    {
      "cell_type": "markdown",
      "source": [
        "start_index = (page_number - 1) * page_size\n",
        "end_index = start_index + page_size\n",
        "page_data = items[start_index:end_index]\n"
      ],
      "metadata": {
        "id": "0Sl3KFOUIJxG"
      }
    },
    {
      "cell_type": "markdown",
      "source": [
        "This pattern is widely used and essential for accurate page-sized data extraction.\n",
        "\n",
        "Explanation in Context\n",
        "Given current_idx (zero-based) and page_size, start finds where the page begins in the overall list.\n",
        "\n",
        "end defines the boundary (non-inclusive), so slicing yields just the items for that page.\n",
        "\n",
        "Python’s list[start:end] slicing seamlessly handles cases that exceed the list bounds — requiring no extra checks.\n",
        "\n",
        "Example Use Case"
      ],
      "metadata": {
        "id": "H6gEG4dFIbSv"
      }
    },
    {
      "cell_type": "markdown",
      "source": [
        "4. Navigation Methods Implementation\n",
        "\n",
        "Pagination class, implementation of navigation methods.\n",
        "Solid pagination practices and method chaining patterns.\n"
      ],
      "metadata": {
        "id": "6ABqJj0CJPeH"
      }
    },
    {
      "cell_type": "markdown",
      "source": [
        "Why This Works\n",
        "\n",
        "All navigation methods (except go_to_page, which raises a ValueError on invalid input) return self, enabling seamless method chaining:\n",
        "\n",
        "paginator.next_page().next_page().last_page()\n",
        "Pages are internally 0-indexed, while user-facing input uses 1-based indexing—so we adjust accordingly.\n",
        "\n",
        "Robust error handling in go_to_page() ensures safe page navigation.\n",
        "\n",
        "Example Usage / Quick Tests"
      ],
      "metadata": {
        "id": "ZyJVC6MoJZT9"
      }
    },
    {
      "cell_type": "code",
      "source": [
        "5. Add a Custom str() Method\n",
        "\n",
        "This magic method should return a string displaying the items on the current page, each on a new line.\n",
        "Example:\n",
        "\n",
        "alphabetList = list(\"abcdefghijklmnopqrstuvwxyz\") p = Pagination(alphabetList, 4) print(str(p))\n",
        "\n",
        "Output:\n",
        "a\n",
        "b\n",
        "c\n",
        "d\n",
        "6. Test Your Code\n",
        "\n",
        "Use the following test cases:\n",
        "\n",
        "alphabetList = list(\"abcdefghijklmnopqrstuvwxyz\") p = Pagination(alphabetList, 4)\n",
        "\n",
        "print(p.get_visible_items())\n",
        "\n",
        "['a', 'b', 'c', 'd']\n",
        "p.next_page() print(p.get_visible_items())\n",
        "\n",
        "['e', 'f', 'g', 'h']\n",
        "p.last_page() print(p.get_visible_items())\n",
        "\n",
        "['y', 'z']\n",
        "p.go_to_page(10) print(p.current_idx + 1)\n",
        "\n",
        "Output: 7\n",
        "p.go_to_page(0)\n",
        "\n",
        "Raises ValueError"
      ],
      "metadata": {
        "id": "b680GWfV-DfY"
      },
      "execution_count": null,
      "outputs": []
    },
    {
      "cell_type": "markdown",
      "source": [
        "6. Test Cases for Your Pagination Class"
      ],
      "metadata": {
        "id": "a2W3t3vN-DRk"
      }
    },
    {
      "cell_type": "code",
      "source": [
        "if __name__ == \"__main__\":\n",
        "    alphabetList = list(\"abcdefghijklmnopqrstuvwxyz\")\n",
        "    p = Pagination(alphabetList, 4)\n",
        "\n",
        "    print(p.get_visible_items())\n",
        "    # ['a', 'b', 'c', 'd']\n",
        "\n",
        "    p.next_page()\n",
        "    print(p.get_visible_items())\n",
        "    # ['e', 'f', 'g', 'h']\n",
        "\n",
        "    p.last_page()\n",
        "    print(p.get_visible_items())\n",
        "    # ['y', 'z']\n",
        "\n",
        "    p.go_to_page(10)\n",
        "    print(p.current_idx + 1)\n",
        "    # Output: 7\n",
        "\n",
        "    try:\n",
        "        p.go_to_page(0)\n",
        "    except ValueError as e:\n",
        "        print(\"Error:\", e)\n",
        "    # Expected to raise ValueError\n"
      ],
      "metadata": {
        "id": "8i9ledeIUYFE"
      },
      "execution_count": null,
      "outputs": []
    },
    {
      "cell_type": "markdown",
      "source": [
        "Explanation & Rationale\n",
        "Slicing Logic: get_visible_items() correctly returns the subset of items based on current_idx and page_size, which is core to pagination logic. This matches standard practices such as seen in the Django Paginator class.\n",
        "\n",
        "Navigation Methods: Functions like next_page(), last_page(), and go_to_page() are consistent with pagination frameworks (like Django’s) in how pages are traversed and how invalid page access is handled via ValueError.\n",
        "\n",
        "Method Chaining: All navigation methods (except those meant to alter flow like go_to_page() raising errors) return self, supporting chaining like p.next_page().last_page().\n",
        "\n",
        "With these tests, your pagination class demonstrates the required functionality and validity.\n"
      ],
      "metadata": {
        "id": "1N5hrBKLU3b8"
      }
    }
  ]
}