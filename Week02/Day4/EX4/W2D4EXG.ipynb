{
  "nbformat": 4,
  "nbformat_minor": 0,
  "metadata": {
    "colab": {
      "provenance": [],
      "authorship_tag": "ABX9TyMKuOpjwb87KgPJRBQ8alON",
      "include_colab_link": true
    },
    "kernelspec": {
      "name": "python3",
      "display_name": "Python 3"
    },
    "language_info": {
      "name": "python"
    }
  },
  "cells": [
    {
      "cell_type": "markdown",
      "metadata": {
        "id": "view-in-github",
        "colab_type": "text"
      },
      "source": [
        "<a href=\"https://colab.research.google.com/github/arquansa/PSTB-exercises/blob/main/Week02/Day4/EX4/W2D4EXG.ipynb\" target=\"_parent\"><img src=\"https://colab.research.google.com/assets/colab-badge.svg\" alt=\"Open In Colab\"/></a>"
      ]
    },
    {
      "cell_type": "markdown",
      "source": [
        "Exercises XP Gold\n",
        "Last Updated: September 13th, 2024\n",
        "\n",
        "What you will learn\n",
        "Inheritance\n",
        "\n",
        "Exercise 1: Bank Account\n",
        "\n",
        "Instructions\n",
        "\n",
        "Part I:\n",
        "\n",
        "Create a class called BankAccount that contains the following\n",
        "attributes and methods:\n",
        "\n",
        "balance - (an attribute)\n",
        "\n",
        "__init__ : initialize the attribute\n",
        "\n",
        "deposit : - (a method) accepts a positive int and adds to the balance,\n",
        "\n",
        "raise an Exception if the int is not positive.\n",
        "withdraw : - (a method) accepts a positive int and deducts from the balance, raise an Exception if not positive\n",
        "\n",
        "Part II : Minimum balance account\n",
        "\n",
        "Create a MinimumBalanceAccount that inherits from BankAccount.\n",
        "Extend the __init__ method and accept a parameter called minimum_balance with a default value of 0.\n",
        "Override the withdraw method so it only allows the user to withdraw money if the balance remains higher than the minimum_balance, raise an Exception if not.\n",
        "\n",
        "Part III: Expand the bank account class\n",
        "\n",
        "Add the following attributes to the BankAccount class:\n",
        "username\n",
        "password\n",
        "authenticated (False by default)\n",
        "\n",
        "Create a method called authenticate. This method should accept 2 strings : a username and a password. If the username and password match the attributes username and password the method should set the authenticated boolean to True.\n",
        "\n",
        "Edit withdraw and deposit to only work if authenticated is set to True, if someone tries an action without being authenticated raise an\n",
        "\n",
        "Exception\n",
        "\n",
        "Part IV: BONUS Create an ATM class\n",
        "\n",
        "__init__:\n",
        "Accepts the following parameters: account_list and try_limit.\n",
        "\n",
        "Validates that account_list contains a list of BankAccount or MinimumBalanceAccount instances.\n",
        "Hint: isinstance()\n",
        "\n",
        "Validates that try_limit is a positive number, if you get an invalid input raise an Exception, then move along and set try_limit to 2.\n",
        "Hint: Check out this tutorial\n",
        "\n",
        "Sets attribute current_tries = 0\n",
        "\n",
        "Call the method show_main_menu (see below)\n",
        "\n",
        "Methods:\n",
        "\n",
        "show_main_menu:\n",
        "This method will start a while loop to display a menu letting a user select:\n",
        "\n",
        "Log in : Will ask for the users username and password and call the\n",
        "\n",
        "log_in method with the username and password (see below).\n",
        "Exit.\n",
        "\n",
        "log_in:\n",
        "\n",
        "Accepts a username and a password.\n",
        "\n",
        "Checks the username and the password against all accounts in account_list.\n",
        "\n",
        "If there is a match (ie. use the authenticate method), call the method show_account_menu.\n",
        "If there is no match with any existing accounts, increment the current tries by 1. Continue asking the user for a username and a password, until the limit is reached (ie. try_limit attribute). Once reached display a message saying they reached max tries and shutdown the program.\n",
        "\n",
        "show_account_menu:\n",
        "\n",
        "Accepts an instance of BankAccount or MinimumBalanceAccount.\n",
        "\n",
        "The method will start a loop giving the user the option to deposit, withdraw or exit."
      ],
      "metadata": {
        "id": "EdcXma-u3HEI"
      }
    },
    {
      "cell_type": "markdown",
      "source": [
        "#Part I - BankAccount class containing the required attributes and methods:\n"
      ],
      "metadata": {
        "id": "-KanPwrG6AJK"
      }
    },
    {
      "cell_type": "markdown",
      "source": [
        "Create a class called BankAccount that contains the following attributes and methods:\n",
        "\n",
        "balance - (an attribute)\n",
        "\n",
        "init : initialize the attribute\n",
        "\n",
        "deposit : - (a method) accepts a positive int and adds to the balance,\n",
        "\n",
        "raise an Exception if the int is not positive. withdraw : - (a method) accepts a positive int and deducts from the balance, raise an Exception if not positive"
      ],
      "metadata": {
        "id": "bT7sFz4RhB4N"
      }
    },
    {
      "cell_type": "markdown",
      "source": [
        "# Part II: MinimumBalanceAccount (Inherits from BankAccount)"
      ],
      "metadata": {
        "id": "FQubb88V8SzF"
      }
    },
    {
      "cell_type": "markdown",
      "source": [
        "Create a MinimumBalanceAccount that inherits from BankAccount.\n",
        "\n",
        "Extend the init method and accept a parameter called minimum_balance with a default value of 0.\n",
        "\n",
        "Override the withdraw method so it only allows the user to withdraw money if the balance remains higher than the minimum_balance, raise an Exception if not."
      ],
      "metadata": {
        "id": "m-BT7jOihWOp"
      }
    },
    {
      "cell_type": "markdown",
      "source": [
        "# Part III: Added Authentication Logic to BankAccount"
      ],
      "metadata": {
        "id": "xros5gOAIU4Y"
      }
    },
    {
      "cell_type": "markdown",
      "source": [
        "This part adds user authentication to the BankAccount class.\n",
        "\n",
        "Requirements Implemented:\n",
        "- Adds attributes:\n",
        "username, password, and authenticated attributes (default False)\n",
        "-\n",
        " Adds method:\n",
        "authenticate(username, password) → sets authenticated = True if credentials match; method to verify credentials\n",
        "\n",
        "Modify deposit() and withdraw(): to require authentication\n",
        "\n",
        "Only works if the user is authenticated: raise an Exception if not"
      ],
      "metadata": {
        "id": "quRIiQgWNoE2"
      }
    },
    {
      "cell_type": "markdown",
      "source": [
        "# Part IV: ATM Class"
      ],
      "metadata": {
        "id": "Q_9ZwtYsItUR"
      }
    },
    {
      "cell_type": "markdown",
      "source": [
        " Example Usage (for Testing Everything)"
      ],
      "metadata": {
        "id": "2tJ6CM2FKBvx"
      }
    },
    {
      "cell_type": "markdown",
      "source": [
        "All the coding in a single block to avoid defining the same class, for instance, BankAccount, several times, which could cause it not to be recognized as a single class."
      ],
      "metadata": {
        "id": "kaL2oyPLzBIG"
      }
    },
    {
      "cell_type": "code",
      "source": [
        "class BankAccount:\n",
        "    def __init__(self, username, password, initial_balance=0):\n",
        "        if initial_balance < 0:\n",
        "            raise Exception(\"Initial balance cannot be negative.\")\n",
        "        self.username = username\n",
        "        self.password = password\n",
        "        self.authenticated = False\n",
        "        self.balance = initial_balance\n",
        "\n",
        "    def authenticate(self, username, password):\n",
        "        if self.username == username and self.password == password:\n",
        "            self.authenticated = True\n",
        "            return True\n",
        "        return False\n",
        "\n",
        "    def deposit(self, amount):\n",
        "        if not self.authenticated:\n",
        "            raise Exception(\"User not authenticated.\")\n",
        "        if amount <= 0:\n",
        "            raise Exception(\"Deposit amount must be positive.\")\n",
        "        self.balance += amount\n",
        "\n",
        "    def withdraw(self, amount):\n",
        "        if not self.authenticated:\n",
        "            raise Exception(\"User not authenticated.\")\n",
        "        if amount <= 0:\n",
        "            raise Exception(\"Withdrawal amount must be positive.\")\n",
        "        if amount > self.balance:\n",
        "            raise Exception(\"Insufficient funds.\")\n",
        "        self.balance -= amount\n",
        "\n",
        "class MinimumBalanceAccount(BankAccount):\n",
        "    def __init__(self, username, password, initial_balance=0, minimum_balance=0):\n",
        "        super().__init__(username, password, initial_balance)\n",
        "        if minimum_balance < 0:\n",
        "            raise Exception(\"Minimum balance cannot be negative.\")\n",
        "        self.minimum_balance = minimum_balance\n",
        "\n",
        "    def withdraw(self, amount):\n",
        "        if not self.authenticated:\n",
        "            raise Exception(\"User not authenticated.\")\n",
        "        if amount <= 0:\n",
        "            raise Exception(\"Withdrawal amount must be positive.\")\n",
        "        if self.balance - amount < self.minimum_balance:\n",
        "            raise Exception(\"Cannot withdraw: balance would fall below minimum balance.\")\n",
        "        self.balance -= amount\n",
        "\n",
        "class ATM:\n",
        "    def __init__(self, account_list, try_limit):\n",
        "        if not isinstance(account_list, list) or not all(isinstance(acc, BankAccount) for acc in account_list):\n",
        "            raise Exception(\"account_list must be a list of BankAccount or MinimumBalanceAccount instances.\")\n",
        "        self.accounts = account_list\n",
        "        self.try_limit = try_limit\n",
        "\n",
        "# Main test block\n",
        "if __name__ == \"__main__\":\n",
        "    # Create sample accounts\n",
        "    acc1 = BankAccount(\"alice\", \"pass123\", 500)\n",
        "    acc2 = MinimumBalanceAccount(\"bob\", \"secure456\", 300, minimum_balance=100)\n",
        "\n",
        "    # Create ATM with 3 login attempts allowed\n",
        "    accounts = [acc1, acc2]\n",
        "\n",
        "    # Debug: check instance types\n",
        "    for acc in accounts:\n",
        "        print(type(acc), isinstance(acc, BankAccount))\n",
        "\n",
        "    # Create ATM instance\n",
        "    atm = ATM(account_list=accounts, try_limit=3)\n",
        "    print(\"ATM initialized successfully.\")\n"
      ],
      "metadata": {
        "colab": {
          "base_uri": "https://localhost:8080/"
        },
        "id": "gif7gOZLyXLh",
        "outputId": "30ca889f-6876-4351-817f-cd35388b53f3"
      },
      "execution_count": null,
      "outputs": [
        {
          "output_type": "stream",
          "name": "stdout",
          "text": [
            "<class '__main__.BankAccount'> True\n",
            "<class '__main__.MinimumBalanceAccount'> True\n",
            "ATM initialized successfully.\n"
          ]
        }
      ]
    }
  ]
}