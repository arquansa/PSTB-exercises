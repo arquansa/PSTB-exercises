{
  "nbformat": 4,
  "nbformat_minor": 0,
  "metadata": {
    "colab": {
      "provenance": [],
      "authorship_tag": "ABX9TyOWAIpBNpuNQuP+eSk6zuhp",
      "include_colab_link": true
    },
    "kernelspec": {
      "name": "python3",
      "display_name": "Python 3"
    },
    "language_info": {
      "name": "python"
    }
  },
  "cells": [
    {
      "cell_type": "markdown",
      "metadata": {
        "id": "view-in-github",
        "colab_type": "text"
      },
      "source": [
        "<a href=\"https://colab.research.google.com/github/arquansa/PSTB-exercises/blob/main/Week02/Day3/EX3/W2D3EXG.ipynb\" target=\"_parent\"><img src=\"https://colab.research.google.com/assets/colab-badge.svg\" alt=\"Open In Colab\"/></a>"
      ]
    },
    {
      "cell_type": "markdown",
      "source": [
        "#Exercises XP Gold\n",
        "Last Updated: September 13th, 2024\n",
        "\n",
        "What you will learn\n",
        "Classes and Objects\n",
        "\n",
        "\n",
        "Exercise 1 : Geometry\n",
        "\n",
        "Instructions\n",
        "Write a class called Circle that receives a radius as an argument (default is 1.0).\n",
        "Write two instance methods to compute perimeter and area.\n",
        "Write a method that prints the geometrical definition of a circle.\n",
        "\n",
        "Exercise 2 : Custom List Class\n",
        "\n",
        "Instructions\n",
        "Create a class called MyList, the class should receive a list of letters.\n",
        "Add a method that returns the reversed list.\n",
        "Add a method that returns the sorted list.\n",
        "Bonus : Create a method that generates a second list with the same length as mylist. The list should be constructed with random numbers. (use list comprehension).\n",
        "\n",
        "\n",
        "Exercise 3 : Restaurant Menu Manager\n",
        "Instructions\n",
        "The purpose of this exercise is to create a restaurant menu. The code will allow a manager to add and delete dishes.\n",
        "\n",
        "Create a python file called menu_manager.py.\n",
        "\n",
        "Create a class called MenuManager.\n",
        "\n",
        "Create a method __init__ that instantiates an attribute called menu. The menu attributes value will be all the current dishes (list of dictionaries). Each dish will be stored in a dictionary where the keys are name, price, spice level and gluten index (which value is a boolean).\n",
        "\n",
        "Here is a list of the dishes currently on the menu:\n",
        "\n",
        "    Soup – 10 – B - False\n",
        "    Hamburger – 15 - A - True\n",
        "    Salad – 18 - A - False\n",
        "    French Fries – 5 - C - False\n",
        "    Beef bourguignon– 25 - B - True\n",
        "\n",
        "    Meaning: For the spice level:\n",
        "       • A = not spicy,\n",
        "       • B = a little spicy,\n",
        "       • C = very spicy\n",
        "\n",
        "\n",
        "The dishes provided above should be the value of the menu attribute.\n",
        "\n",
        "Create a method called add_item(name, price, spice, gluten). This method will add new dishes to the menu.\n",
        "\n",
        "Create a method called update_item(name, price, spice, gluten). This method checks whether a dish is in the menu, if the dish exists then update it. If not notify the manager that the dish is not in the menu.\n",
        "\n",
        "Create a method called remove_item(name). This method should check if the dish is in the menu, if the dish exists then delete it and print the updated dictionary. If not notify the manager that the dish is not in the menu."
      ],
      "metadata": {
        "id": "fSh0L9Kio9kS"
      }
    },
    {
      "cell_type": "markdown",
      "source": [
        "Exercise 1\n",
        "\n",
        "- Define a Python class with default parameters\n",
        "- Implement geometry-related methods like perimeter and area\n",
        "- Add a descriptive method to represent the circle\n",
        "\n"
      ],
      "metadata": {
        "id": "zINeLz8ZquF8"
      }
    },
    {
      "cell_type": "markdown",
      "source": [
        "Solution code"
      ],
      "metadata": {
        "id": "WjZtLPdsq9hj"
      }
    },
    {
      "cell_type": "code",
      "execution_count": null,
      "metadata": {
        "id": "uDBIksmoowZb"
      },
      "outputs": [],
      "source": [
        "import math\n",
        "\n",
        "class Circle:\n",
        "    def __init__(self, radius=1.0):\n",
        "        \"\"\"Initialize a Circle with a given radius (default = 1.0).\"\"\"\n",
        "        self.radius = radius\n",
        "\n",
        "    def perimeter(self):\n",
        "        \"\"\"Return the circle’s perimeter (circumference).\"\"\"\n",
        "        return 2 * math.pi * self.radius\n",
        "\n",
        "    def area(self):\n",
        "        \"\"\"Return the circle’s area.\"\"\"\n",
        "        return math.pi * (self.radius ** 2)\n",
        "\n",
        "    def describe(self):\n",
        "        \"\"\"Print the geometric definition of a circle.\"\"\"\n",
        "        print(\"A circle is the set of all points in a plane that are at a\")\n",
        "        print(f\"fixed distance (the radius, here {self.radius}) from a center point.\")\n"
      ]
    },
    {
      "cell_type": "markdown",
      "source": [
        "Example usage"
      ],
      "metadata": {
        "id": "DhUGiwNLrB3I"
      }
    },
    {
      "cell_type": "code",
      "source": [
        "# Create circles\n",
        "default_circle = Circle()\n",
        "custom_circle = Circle(radius=3.5)\n",
        "\n",
        "# Display definitions\n",
        "default_circle.describe()\n",
        "# Output:\n",
        "# A circle is the set of all points in a plane that are at a\n",
        "# fixed distance (the radius, here 1.0) from a center point.\n",
        "\n",
        "# Compute area and perimeter\n",
        "print(f\"Perimeter: {custom_circle.perimeter():.2f}\")\n",
        "print(f\"Area: {custom_circle.area():.2f}\")\n"
      ],
      "metadata": {
        "id": "r--2nPRZrJf3"
      },
      "execution_count": null,
      "outputs": []
    },
    {
      "cell_type": "markdown",
      "source": [
        "Expected output"
      ],
      "metadata": {
        "id": "g9l_oFmhrLea"
      }
    },
    {
      "cell_type": "code",
      "source": [
        "Perimeter: 21.99\n",
        "Area: 38.48\n"
      ],
      "metadata": {
        "id": "t57jT1icrMHj"
      },
      "execution_count": null,
      "outputs": []
    },
    {
      "cell_type": "markdown",
      "source": [
        "Why This Works\n",
        "\n",
        "- math.pi is used for accuracy and clarity.\n",
        "- clear method naming: perimeter, area, and a descriptive describe.\n",
        "\n",
        "Default radius ensures your class is flexible and user-friendly."
      ],
      "metadata": {
        "id": "PJjlIRPGrST1"
      }
    },
    {
      "cell_type": "markdown",
      "source": [
        "Exercise 2 : Custom List Class\n",
        "\n",
        "Instructions\n",
        "\n",
        "Create a class called MyList, the class should receive a list of letters.\n",
        "Add a method that returns the reversed list.\n",
        "Add a method that returns the sorted list.\n",
        "Bonus : Create a method that generates a second list with the same length as mylist. The list should be constructed with random numbers. (use list comprehension).\n"
      ],
      "metadata": {
        "id": "ixDVDFZusVW_"
      }
    },
    {
      "cell_type": "markdown",
      "source": [
        "Refined implementation of the Custom List Class (MyList) with all the requirements—\n",
        "\n",
        "- leveraging Python’s OOP, list operations, and random number generation:\n",
        "\n",
        "Breakdown & Code"
      ],
      "metadata": {
        "id": "wMU96Z2etD4u"
      }
    },
    {
      "cell_type": "code",
      "source": [
        "import random\n",
        "\n",
        "class MyList:\n",
        "    def __init__(self, letters):\n",
        "        \"\"\"Initialize with a list of letters.\"\"\"\n",
        "        self.letters = list(letters)\n",
        "\n",
        "    def reversed_list(self):\n",
        "        \"\"\"Return a new list with the letters in reverse order.\"\"\"\n",
        "        return self.letters[::-1]\n",
        "\n",
        "    def sorted_list(self):\n",
        "        \"\"\"Return a new list with the letters sorted alphabetically.\"\"\"\n",
        "        return sorted(self.letters)\n",
        "\n",
        "    def random_number_list(self, low=0, high=100):\n",
        "        \"\"\"\n",
        "        Bonus method:\n",
        "        Generate a list of random integers (between low and high)\n",
        "        of the same length as the letters list, using list comprehension.\n",
        "        \"\"\"\n",
        "        return [random.randint(low, high) for _ in range(len(self.letters))]\n",
        "\n",
        "\n",
        "# --- Example Usage ---\n",
        "if __name__ == \"__main__\":\n",
        "    mylist = MyList(['d', 'b', 'a', 'c', 'x'])\n",
        "\n",
        "    print(\"Original:\", mylist.letters)\n",
        "    print(\"Reversed:\", mylist.reversed_list())\n",
        "    print(\"Sorted:\", mylist.sorted_list())\n",
        "    print(\"Random numbers:\", mylist.random_number_list(1, 50))\n"
      ],
      "metadata": {
        "id": "II8juuXfsWQA"
      },
      "execution_count": null,
      "outputs": []
    },
    {
      "cell_type": "markdown",
      "source": [
        "Main assets"
      ],
      "metadata": {
        "id": "yIEnwucttfxo"
      }
    },
    {
      "cell_type": "code",
      "source": [
        "\n",
        "Reversed list: Uses Python slicing [::-1] to cleanly reverse the list.\n",
        "\n",
        "Sorted list: Leverages the built-in sorted() function to return a new, alphabetically ordered list.\n",
        "\n",
        "Random list with same length: Using list comprehension and random.randint() produces a parallel list of random integers. Experts agree this is “very Pythonic and readable”—a powerful one-liner approach for random list generation\n",
        "blog.finxter.com\n",
        "aruljohn.com\n",
        ".\n",
        "\n"
      ],
      "metadata": {
        "id": "BIJu-pbftoF3"
      },
      "execution_count": null,
      "outputs": []
    },
    {
      "cell_type": "markdown",
      "source": [
        "Example output"
      ],
      "metadata": {
        "id": "N4YurV5hsp0u"
      }
    },
    {
      "cell_type": "code",
      "source": [
        "Original: ['d', 'b', 'a', 'c', 'x']\n",
        "Reversed: ['x', 'c', 'a', 'b', 'd']\n",
        "Sorted: ['a', 'b', 'c', 'd', 'x']\n",
        "Random numbers: [17, 3, 49, 25, 8]\n"
      ],
      "metadata": {
        "id": "2vawsk_0sqVP"
      },
      "execution_count": null,
      "outputs": []
    },
    {
      "cell_type": "code",
      "source": [],
      "metadata": {
        "id": "aDv4-iVysrX5"
      },
      "execution_count": null,
      "outputs": []
    },
    {
      "cell_type": "markdown",
      "source": [
        "**Exercise 3 : Restaurant Menu Manager**\n",
        "\n",
        "Instructions\n",
        "\n",
        "The purpose of this exercise is to create a restaurant menu. The code will allow a manager to add and delete dishes.\n",
        "\n",
        "- Create a python file called menu_manager.py.\n",
        "- Create a class called MenuManager.\n",
        "- Create a method init that instantiates an attribute called menu.\n",
        "The menu attributes value will be all the current dishes (list of dictionaries). Each dish will be stored in a dictionary where the keys are name, price, spice level and gluten index (which value is a boolean).\n",
        "\n",
        "Here is a list of the dishes currently on the menu:\n",
        "\n",
        "Soup – 10 – B - False\n",
        "Hamburger – 15 - A - True\n",
        "Salad – 18 - A - False\n",
        "French Fries – 5 - C - False\n",
        "Beef bourguignon– 25 - B - True\n",
        "\n",
        "Meaning: For the spice level:\n",
        "   • A = not spicy,\n",
        "   • B = a little spicy,\n",
        "   • C = very spicy\n",
        "The dishes provided above should be the value of the menu attribute.\n",
        "\n",
        "Create a method called add_item(name, price, spice, gluten). This method will add new dishes to the menu.\n",
        "\n",
        "Create a method called update_item(name, price, spice, gluten). This method checks whether a dish is in the menu, if the dish exists then update it. If not notify the manager that the dish is not in the menu.\n",
        "\n",
        "Create a method called remove_item(name). This method should check if the dish is in the menu, if the dish exists then delete it and print the updated dictionary. If not notify the manager that the dish is not in the menu."
      ],
      "metadata": {
        "id": "pUzsf7Z2ssRe"
      }
    },
    {
      "cell_type": "markdown",
      "source": [
        "Recipe: MenuManager Class\n",
        "Features:\n",
        "Stores menu items as a list of dictionaries.\n",
        "\n",
        "Supports adding, updating, and removing dishes.\n",
        "\n",
        "Notifies the manager when updating or removing a dish that doesn't exist.\n",
        "\n"
      ],
      "metadata": {
        "id": "v24nTwyzuTEz"
      }
    },
    {
      "cell_type": "code",
      "source": [
        "class MenuManager:\n",
        "    def __init__(self):\n",
        "        \"\"\"Initialize with a default set of dishes.\"\"\"\n",
        "        self.menu = [\n",
        "            {\"name\": \"Soup\", \"price\": 10, \"spice\": \"B\", \"gluten\": False},\n",
        "            {\"name\": \"Hamburger\", \"price\": 15, \"spice\": \"A\", \"gluten\": True},\n",
        "            {\"name\": \"Salad\", \"price\": 18, \"spice\": \"A\", \"gluten\": False},\n",
        "            {\"name\": \"French Fries\", \"price\": 5, \"spice\": \"C\", \"gluten\": False},\n",
        "            {\"name\": \"Beef bourguignon\", \"price\": 25, \"spice\": \"B\", \"gluten\": True},\n",
        "        ]\n",
        "\n",
        "    def add_item(self, name, price, spice, gluten):\n",
        "        \"\"\"Add a new dish to the menu.\"\"\"\n",
        "        self.menu.append({\n",
        "            \"name\": name,\n",
        "            \"price\": price,\n",
        "            \"spice\": spice,\n",
        "            \"gluten\": gluten\n",
        "        })\n",
        "        print(f\"Added: {name}\")\n",
        "\n",
        "    def update_item(self, name, price=None, spice=None, gluten=None):\n",
        "        \"\"\"\n",
        "        Update existing dish details.\n",
        "        If dish not found, notify the manager.\n",
        "        \"\"\"\n",
        "        for dish in self.menu:\n",
        "            if dish[\"name\"] == name:\n",
        "                if price is not None:\n",
        "                    dish[\"price\"] = price\n",
        "                if spice is not None:\n",
        "                    dish[\"spice\"] = spice\n",
        "                if gluten is not None:\n",
        "                    dish[\"gluten\"] = gluten\n",
        "                print(f\"Updated: {name}\")\n",
        "                return\n",
        "        print(f\"Dish '{name}' not found in the menu.\")\n",
        "\n",
        "    def remove_item(self, name):\n",
        "        \"\"\"\n",
        "        Remove an existing dish.\n",
        "        If dish not found, notify the manager.\n",
        "        Print updated menu after removal.\n",
        "        \"\"\"\n",
        "        for i, dish in enumerate(self.menu):\n",
        "            if dish[\"name\"] == name:\n",
        "                self.menu.pop(i)\n",
        "                print(f\"Removed: {name}\")\n",
        "                print(\"Updated menu:\")\n",
        "                for d in self.menu:\n",
        "                    print(f\" - {d['name']}\")\n",
        "                return\n",
        "        print(f\"Dish '{name}' not found in the menu.\")\n"
      ],
      "metadata": {
        "id": "BCl5WwlVuU3o"
      },
      "execution_count": null,
      "outputs": []
    },
    {
      "cell_type": "markdown",
      "source": [
        "Recipe: MenuManager\n",
        "\n",
        "Class Features:\n",
        "Stores menu items as a list of dictionaries.\n",
        "\n",
        "Supports adding, updating, and removing dishes.\n",
        "\n",
        "Notifies the manager when updating or removing a dish that doesn't exist.\n",
        "\n"
      ],
      "metadata": {
        "id": "nalGknUwuZw6"
      }
    },
    {
      "cell_type": "markdown",
      "source": [
        "Example usage"
      ],
      "metadata": {
        "id": "LaYfSLB_xMVn"
      }
    },
    {
      "cell_type": "code",
      "source": [
        "if __name__ == \"__main__\":\n",
        "    manager = MenuManager()\n",
        "\n",
        "    print(\"Initial Menu:\")\n",
        "    for dish in manager.menu:\n",
        "        print(dish)\n",
        "\n",
        "    # Add a new dish\n",
        "    manager.add_item(\"Risotto\", 20, \"A\", False)\n",
        "\n",
        "    # Update an existing dish\n",
        "    manager.update_item(\"Salad\", price=19, spice=\"B\")\n",
        "\n",
        "    # Remove a dish\n",
        "    manager.remove_item(\"Hamburger\")\n",
        "\n",
        "    # Try updating a non-existent dish\n",
        "    manager.update_item(\"Pizza\", price=12)\n",
        "\n",
        "    # Try removing a non-existent dish\n",
        "    manager.remove_item(\"Pizza\")\n"
      ],
      "metadata": {
        "id": "13iMACQBxM6U"
      },
      "execution_count": null,
      "outputs": []
    },
    {
      "cell_type": "markdown",
      "source": [
        "**Summary of Capabilities**"
      ],
      "metadata": {
        "id": "440U8HwxxrY4"
      }
    },
    {
      "cell_type": "markdown",
      "source": [
        "| Method          | Purpose                                                   |\n",
        "| --------------- | --------------------------------------------------------- |\n",
        "| `add_item()`    | Adds a new dish to the menu                               |\n",
        "| `update_item()` | Updates an existing dish; notifies if the dish is missing |\n",
        "| `remove_item()` | Removes a dish and prints the updated menu                |\n"
      ],
      "metadata": {
        "id": "SpMD1OHFxldv"
      }
    }
  ]
}