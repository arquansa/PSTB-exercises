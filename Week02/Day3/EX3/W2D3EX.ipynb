{
  "nbformat": 4,
  "nbformat_minor": 0,
  "metadata": {
    "colab": {
      "provenance": [],
      "authorship_tag": "ABX9TyMexNKvQGbhom/lp0o4F4c0",
      "include_colab_link": true
    },
    "kernelspec": {
      "name": "python3",
      "display_name": "Python 3"
    },
    "language_info": {
      "name": "python"
    }
  },
  "cells": [
    {
      "cell_type": "markdown",
      "metadata": {
        "id": "view-in-github",
        "colab_type": "text"
      },
      "source": [
        "<a href=\"https://colab.research.google.com/github/arquansa/PSTB-exercises/blob/main/Week02/Day3/EX3/W2D3EX.ipynb\" target=\"_parent\"><img src=\"https://colab.research.google.com/assets/colab-badge.svg\" alt=\"Open In Colab\"/></a>"
      ]
    },
    {
      "cell_type": "markdown",
      "source": [
        "Exercises XP\n",
        "Last Updated: August 5th, 2025\n",
        "\n",
        "👩‍🏫 👩🏿‍🏫 What You’ll learn\n",
        "Classes and Objects\n",
        "Object instantiation\n",
        "Methods\n",
        "Attributes\n",
        "\n",
        "\n",
        "🌟 Exercise 1: Cats\n",
        "Key Python Topics:\n",
        "\n",
        "Classes and objects\n",
        "Object instantiation\n",
        "Attributes\n",
        "Functions\n",
        "\n",
        "\n",
        "Instructions:\n",
        "\n",
        "Use the provided Cat class to create three cat objects. Then, create a function to find the oldest cat and print its details.\n",
        "\n",
        "class Cat:\n",
        "    def __init__(self, cat_name, cat_age):\n",
        "        self.name = cat_name\n",
        "        self.age = cat_age\n",
        "\n",
        "# Step 1: Create cat objects\n",
        "# cat1 = create the object\n",
        "\n",
        "# Step 2: Create a function to find the oldest cat\n",
        "def find_oldest_cat(cat1, cat2, cat3):\n",
        "    # ... code to find and return the oldest cat ...\n",
        "\n",
        "# Step 3: Print the oldest cat's details\n",
        "\n",
        "Step 1: Create Cat Objects\n",
        "\n",
        "Use the Cat class to create three cat objects with different names and ages.\n",
        "\n",
        "\n",
        "Step 2: Create a Function to Find the Oldest Cat\n",
        "\n",
        "Create a function that takes the three cat objects as input.\n",
        "Inside the function, compare the ages of the cats to find the oldest one.\n",
        "Return the oldest cat object.\n",
        "\n",
        "\n",
        "Step 3: Print the Oldest Cat’s Details\n",
        "\n",
        "Call the function to get the oldest cat.\n",
        "Print a formatted string: “The oldest cat is <cat_name>, and is <cat_age> years old.”\n",
        "Replace <cat_name> and <cat_age> with the oldest cat’s name and age.\n",
        "\n",
        "\n",
        "Example:\n",
        "\n",
        "class Cat:\n",
        "    def __init__(self, cat_name, cat_age):\n",
        "        self.name = cat_name\n",
        "        self.age = cat_age\n",
        "\n",
        "Step 1: Create cat objects\n",
        "  cat1 = create the object\n",
        "\n",
        "Step 2: Create a function to find the oldest cat\n",
        "def find_oldest_cat(cat1, cat2, cat3):\n",
        "    # ... code to find and return the oldest cat ...\n",
        "\n",
        "Step 3: Print the oldest cat's details\n",
        "\n",
        "\n",
        "🌟 Exercise 2 : Dogs\n",
        "Goal: Create a Dog class, instantiate objects, call methods, and compare dog sizes.\n",
        "\n",
        "\n",
        "\n",
        "Key Python Topics:\n",
        "\n",
        "Classes and objects\n",
        "Object instantiation\n",
        "Methods\n",
        "Attributes\n",
        "Conditional statements (if)\n",
        "\n",
        "\n",
        "Instructions:\n",
        "\n",
        "Create a Dog class with methods for barking and jumping. Instantiate dog objects, call their methods, and compare their sizes.\n",
        "\n",
        "\n",
        "\n",
        "Step 1: Create the Dog Class\n",
        "\n",
        "Create a class called Dog.\n",
        "In the __init__ method, take name and height as parameters and create corresponding attributes.\n",
        "Create a bark() method that prints “ goes woof!”.\n",
        "Create a jump() method that prints “ jumps cm high!”, where x is height * 2.\n",
        "\n",
        "\n",
        "Step 2: Create Dog Objects\n",
        "\n",
        "Create davids_dog and sarahs_dog objects with their respective names and heights.\n",
        "\n",
        "\n",
        "Step 3: Print Dog Details and Call Methods\n",
        "\n",
        "Print the name and height of each dog.\n",
        "Call the bark() and jump() methods for each dog.\n",
        "\n",
        "\n",
        "Step 4: Compare Dog Sizes\n",
        "\n",
        "\n",
        "\n",
        "🌟 Exercise 3 : Who’s the song producer?\n",
        "Goal: Create a Song class to represent song lyrics and print them.\n",
        "\n",
        "\n",
        "\n",
        "Key Python Topics:\n",
        "\n",
        "Classes and objects\n",
        "Object instantiation\n",
        "Methods\n",
        "Lists\n",
        "\n",
        "\n",
        "Instructions:\n",
        "\n",
        "Create a Song class with a method to print song lyrics line by line.\n",
        "\n",
        "\n",
        "\n",
        "Step 1: Create the Song Class\n",
        "\n",
        "Create a class called Song.\n",
        "In the __init__ method, take lyrics (a list) as a parameter and create a corresponding attribute.\n",
        "Create a sing_me_a_song() method that prints each element of the lyrics list on a new line.\n",
        "\n",
        "\n",
        "Example:\n",
        "\n",
        "stairway = Song([\"There’s a lady who's sure\", \"all that glitters is gold\", \"and she’s buying a stairway to heaven\"]\n",
        "\n",
        "\n",
        "\n",
        "🌟 Exercise 4 : Afternoon at the Zoo\n",
        "Goal:\n",
        "\n",
        "Create a Zoo class to manage animals. The class should allow adding animals, displaying them, selling them, and organizing them into alphabetical groups.\n",
        "\n",
        "\n",
        "\n",
        "Key Python Topics:\n",
        "\n",
        "Classes and objects\n",
        "Object instantiation\n",
        "Methods\n",
        "Lists\n",
        "Dictionaries (for grouping)\n",
        "String manipulation\n",
        "\n",
        "\n",
        "Instructions\n",
        "Step 1: Define the Zoo Class\n",
        "1. Create a class called Zoo.\n",
        "\n",
        "2. Implement the __init__() method:\n",
        "\n",
        "It takes a string parameter zoo_name, representing the name of the zoo.\n",
        "Initialize an empty list called animals to keep track of animal names.\n",
        "3. Add a method add_animal(new_animal):\n",
        "\n",
        "This method adds a new animal to the animals list.\n",
        "Do not add the animal if it is already in the list.\n",
        "4. Add a method get_animals():\n",
        "\n",
        "This method prints all animals currently in the zoo.\n",
        "5. Add a method sell_animal(animal_sold):\n",
        "\n",
        "This method checks if a specified animal exists on the animals list and if so, remove from it.\n",
        "6. Add a method sort_animals():\n",
        "\n",
        "This method sorts the animals alphabetically.\n",
        "It also groups them by the first letter of their name.\n",
        "The result should be a dictionary where:\n",
        "Each key is a letter.\n",
        "Each value is a list of animals that start with that letter.\n",
        "Example output:\n",
        "\n",
        "{\n",
        "   'B': ['Baboon', 'Bear'],\n",
        "   'C': ['Cat', 'Cougar'],\n",
        "   'G': ['Giraffe'],\n",
        "   'L': ['Lion'],\n",
        "   'Z': ['Zebra']\n",
        "}\n",
        "7. Add a method get_groups():\n",
        "\n",
        "This method prints the grouped animals as created by sort_animals().\n",
        "Example output:\n",
        "\n",
        "B: ['Baboon', 'Bear']\n",
        "C: ['Cat', 'Cougar']\n",
        "G: ['Giraffe']\n",
        "...\n",
        "\n",
        "\n",
        "Step 2: Create a Zoo Object\n",
        "Create an instance of the Zoo class and pass a name for the zoo.\n",
        "\n",
        "\n",
        "Step 3: Call the Zoo Methods\n",
        "Use the methods of your Zoo object to test adding, selling, displaying, sorting, and grouping animals.\n",
        "\n",
        "\n",
        "Example (No Internal Logic Provided)\n",
        "class Zoo:\n",
        "    def __init__(self, zoo_name):\n",
        "        pass\n",
        "\n",
        "    def add_animal(self, new_animal):\n",
        "        pass\n",
        "\n",
        "    def get_animals(self):\n",
        "        pass\n",
        "\n",
        "    def sell_animal(self, animal_sold):\n",
        "        pass\n",
        "\n",
        "    def sort_animals(self):\n",
        "        pass\n",
        "\n",
        "    def get_groups(self):\n",
        "        pass\n",
        "\n",
        "Step 2: Create a Zoo instance\n",
        "brooklyn_safari = Zoo(\"Brooklyn Safari\")\n",
        "\n",
        "Step 3: Use the Zoo methods\n",
        "brooklyn_safari.add_animal(\"Giraffe\")\n",
        "brooklyn_safari.add_animal(\"Bear\")\n",
        "brooklyn_safari.add_animal(\"Baboon\")\n",
        "brooklyn_safari.get_animals()\n",
        "brooklyn_safari.sell_animal(\"Bear\")\n",
        "brooklyn_safari.get_animals()\n",
        "brooklyn_safari.sort_animals()\n",
        "brooklyn_safari.get_groups()"
      ],
      "metadata": {
        "id": "dAcwbP4aHaRo"
      }
    },
    {
      "cell_type": "markdown",
      "source": [
        "##Exercise 1: Cats Key Python Topics:\n",
        "\n",
        "Classes and objects Object instantiation Attributes Functions\n",
        "\n",
        "Instructions:\n",
        "\n",
        "Use the provided Cat class to create three cat objects. Then, create a function to find the oldest cat and print its details.\n",
        "\n",
        "###Step 1: Create Cat Objects\n",
        "\n",
        "Use the Cat class to create three cat objects with different names and ages.\n",
        "\n",
        "###Step 2: Create a Function to Find the Oldest Cat\n",
        "\n",
        "Create a function that takes the three cat objects as input. Inside the function, compare the ages of the cats to find the oldest one. Return the oldest cat object.\n",
        "\n",
        "###Step 3: Print the Oldest Cat’s Details\n",
        "\n",
        "Call the function to get the oldest cat. Print a formatted string: “The oldest cat is , and is years old.” Replace and with the oldest cat’s name and age.\n",
        "\n",
        "Example:\n",
        "\n",
        "class Cat: def init(self, cat_name, cat_age): self.name = cat_name self.age = cat_age\n",
        "\n",
        "Step 1: Create cat objects\n",
        "cat1 = create the object\n",
        "\n",
        "Step 2: Create a function to find the oldest cat\n",
        "def find_oldest_cat(cat1, cat2, cat3): # ... code to find and return the oldest cat ...\n",
        "\n",
        "Step 3: Print the oldest cat's details"
      ],
      "metadata": {
        "id": "Se0tpD0lHqZZ"
      }
    },
    {
      "cell_type": "code",
      "source": [
        "class Cat:\n",
        "    def __init__(self, cat_name, cat_age):\n",
        "        self.name = cat_name\n",
        "        self.age = cat_age\n",
        "\n",
        "# Step 1: Create cat objects\n",
        "cat1 = Cat(\"Whiskers\", 5)\n",
        "cat2 = Cat(\"Mittens\", 8)\n",
        "cat3 = Cat(\"Shadow\", 3)\n",
        "\n",
        "# Step 2: Create a function to find the oldest cat\n",
        "def find_oldest_cat(cat1, cat2, cat3):\n",
        "    oldest_cat = cat1\n",
        "    if cat2.age > oldest_cat.age:\n",
        "        oldest_cat = cat2\n",
        "    if cat3.age > oldest_cat.age:\n",
        "        oldest_cat = cat3\n",
        "    return oldest_cat\n",
        "\n",
        "# Step 3: Print the oldest cat's details\n",
        "oldest = find_oldest_cat(cat1, cat2, cat3)\n",
        "print(f\"The oldest cat is {oldest.name}, and is {oldest.age} years old.\")"
      ],
      "metadata": {
        "colab": {
          "base_uri": "https://localhost:8080/"
        },
        "id": "PooZnkeYaiAK",
        "outputId": "2cfaae8f-6062-4952-de1d-fb0db2abfa3f"
      },
      "execution_count": null,
      "outputs": [
        {
          "output_type": "stream",
          "name": "stdout",
          "text": [
            "The oldest cat is Mittens, and is 8 years old.\n"
          ]
        }
      ]
    },
    {
      "cell_type": "markdown",
      "source": [
        "##Exercise 2 : Dogs Goal: Create a Dog class, instantiate objects, call methods, and compare dog sizes.\n",
        "\n",
        "Key Python Topics:\n",
        "\n",
        "Classes and objects Object instantiation Methods Attributes Conditional statements (if)\n",
        "\n",
        "Instructions:\n",
        "\n",
        "Create a Dog class with methods for barking and jumping. Instantiate dog objects, call their methods, and compare their sizes.\n",
        "\n",
        "###Step 1: Create the Dog Class\n",
        "\n",
        "Create a class called Dog. In the init method, take name and height as parameters and create corresponding attributes. Create a bark() method that prints “ goes woof!”. Create a jump() method that prints “ jumps cm high!”, where x is height * 2.\n",
        "\n",
        "###Step 2: Create Dog Objects\n",
        "\n",
        "Create davids_dog and sarahs_dog objects with their respective names and heights.\n",
        "\n",
        "###Step 3: Print Dog Details and Call Methods\n",
        "\n",
        "Print the name and height of each dog. Call the bark() and jump() methods for each dog.\n",
        "\n",
        "###Step 4: Compare Dog Sizes"
      ],
      "metadata": {
        "id": "r1ZrxBLMbJN0"
      }
    },
    {
      "cell_type": "code",
      "execution_count": 1,
      "metadata": {
        "id": "aaq9MKRPHZtc",
        "colab": {
          "base_uri": "https://localhost:8080/"
        },
        "outputId": "f87fe3a2-e893-47ec-cf9d-44f7a1dd1a51"
      },
      "outputs": [
        {
          "output_type": "stream",
          "name": "stdout",
          "text": [
            "David's dog: Buddy, Height: 50 cm\n",
            "Buddy goes woof!\n",
            "Buddy jumps 100 cm high!\n",
            "Sarah's dog: Lucy, Height: 30 cm\n",
            "Lucy goes woof!\n",
            "Lucy jumps 60 cm high!\n",
            "Buddy is taller than Lucy.\n"
          ]
        }
      ],
      "source": [
        "# Exercise 2 : Dogs\n",
        "class Dog:\n",
        "    def __init__(self, name, height):\n",
        "        self.name = name\n",
        "        self.height = height\n",
        "\n",
        "    def bark(self):\n",
        "        print(f\"{self.name} goes woof!\")\n",
        "\n",
        "    def jump(self):\n",
        "        jump_height = self.height * 2\n",
        "        print(f\"{self.name} jumps {jump_height} cm high!\")\n",
        "\n",
        "# Step 2: Create Dog Objects\n",
        "davids_dog = Dog(\"Buddy\", 50)\n",
        "sarahs_dog = Dog(\"Lucy\", 30)\n",
        "\n",
        "# Step 3: Print Dog Details and Call Methods\n",
        "print(f\"David's dog: {davids_dog.name}, Height: {davids_dog.height} cm\")\n",
        "davids_dog.bark()\n",
        "davids_dog.jump()\n",
        "\n",
        "print(f\"Sarah's dog: {sarahs_dog.name}, Height: {sarahs_dog.height} cm\")\n",
        "sarahs_dog.bark()\n",
        "sarahs_dog.jump()\n",
        "\n",
        "# Step 4: Compare Dog Sizes\n",
        "if davids_dog.height > sarahs_dog.height:\n",
        "    print(f\"{davids_dog.name} is taller than {sarahs_dog.name}.\")\n",
        "elif sarahs_dog.height > davids_dog.height:\n",
        "    print(f\"{sarahs_dog.name} is taller than {davids_dog.name}.\")\n",
        "else:\n",
        "    print(f\"{davids_dog.name} and {sarahs_dog.name} are the same height.\")"
      ]
    },
    {
      "cell_type": "markdown",
      "source": [
        "##Exercise 3 : Who’s the song producer? Goal: Create a Song class to represent song lyrics and print them.\n",
        "\n",
        "Key Python Topics:\n",
        "\n",
        "Classes and objects Object instantiation Methods Lists\n",
        "\n",
        "Instructions:\n",
        "\n",
        "Create a Song class with a method to print song lyrics line by line.\n",
        "\n",
        "###Step 1: Create the Song Class\n",
        "\n",
        "Create a class called Song. In the init method, take lyrics (a list) as a parameter and create a corresponding attribute. Create a sing_me_a_song() method that prints each element of the lyrics list on a new line.\n",
        "\n",
        "Example:\n",
        "\n",
        "stairway = Song([\"There’s a lady who's sure\", \"all that glitters is gold\", \"and she’s buying a stairway to heaven\"]"
      ],
      "metadata": {
        "id": "AzJsACdxbagh"
      }
    },
    {
      "cell_type": "code",
      "source": [
        "# Exercise 3 : Who’s the song producer?\n",
        "class Song:\n",
        "    def __init__(self, lyrics):\n",
        "        self.lyrics = lyrics\n",
        "\n",
        "    def sing_me_a_song(self):\n",
        "        for line in self.lyrics:\n",
        "            print(line)\n",
        "\n",
        "# Example Usage:\n",
        "stairway = Song([\"There’s a lady who's sure\", \"all that glitters is gold\", \"and she’s buying a stairway to heaven\"])\n",
        "stairway.sing_me_a_song()"
      ],
      "metadata": {
        "colab": {
          "base_uri": "https://localhost:8080/"
        },
        "id": "2QjBK-jXb5My",
        "outputId": "6eb9b4df-cdc4-4946-87d3-7b2efc919b71"
      },
      "execution_count": 2,
      "outputs": [
        {
          "output_type": "stream",
          "name": "stdout",
          "text": [
            "There’s a lady who's sure\n",
            "all that glitters is gold\n",
            "and she’s buying a stairway to heaven\n"
          ]
        }
      ]
    },
    {
      "cell_type": "markdown",
      "source": [
        "##Exercise 4 : Afternoon at the Zoo Goal:\n",
        "\n",
        "Create a Zoo class to manage animals. The class should allow adding animals, displaying them, selling them, and organizing them into alphabetical groups.\n",
        "\n",
        "Key Python Topics:\n",
        "\n",
        "Classes and objects Object instantiation Methods Lists Dictionaries (for grouping) String manipulation\n",
        "\n",
        "Instructions\n",
        "\n",
        "###Step 1: Define the Zoo Class\n",
        "\n",
        "Create a class called Zoo.\n",
        "\n",
        "Implement the init() method:\n",
        "\n",
        "It takes a string parameter zoo_name, representing the name of the zoo. Initialize an empty list called animals to keep track of animal names. 3. Add a method add_animal(new_animal):\n",
        "\n",
        "This method adds a new animal to the animals list. Do not add the animal if it is already in the list. 4. Add a method get_animals():\n",
        "\n",
        "This method prints all animals currently in the zoo. 5. Add a method sell_animal(animal_sold):\n",
        "\n",
        "This method checks if a specified animal exists on the animals list and if so, remove from it. 6. Add a method sort_animals():\n",
        "\n",
        "This method sorts the animals alphabetically. It also groups them by the first letter of their name. The result should be a dictionary where: Each key is a letter. Each value is a list of animals that start with that letter. Example output:\n",
        "\n",
        "{ 'B': ['Baboon', 'Bear'], 'C': ['Cat', 'Cougar'], 'G': ['Giraffe'], 'L': ['Lion'], 'Z': ['Zebra'] } 7. Add a method get_groups():\n",
        "\n",
        "This method prints the grouped animals as created by sort_animals(). Example output:\n",
        "\n",
        "B: ['Baboon', 'Bear'] C: ['Cat', 'Cougar'] G: ['Giraffe'] ...\n",
        "\n",
        "###Step 2: Create a Zoo Object Create an instance of the Zoo class and pass a name for the zoo.\n",
        "\n",
        "###Step 3: Call the Zoo Methods Use the methods of your Zoo object to test adding, selling, displaying, sorting, and grouping animals.\n",
        "\n",
        "Example (No Internal Logic Provided) class Zoo: def init(self, zoo_name): pass\n",
        "\n",
        "def add_animal(self, new_animal):\n",
        "    pass\n",
        "\n",
        "def get_animals(self):\n",
        "    pass\n",
        "\n",
        "def sell_animal(self, animal_sold):\n",
        "    pass\n",
        "\n",
        "def sort_animals(self):\n",
        "    pass\n",
        "\n",
        "def get_groups(self):\n",
        "    pass\n",
        "###Step 2: Create a Zoo instance\n",
        "brooklyn_safari = Zoo(\"Brooklyn Safari\")\n",
        "\n",
        "###Step 3: Use the Zoo methods\n",
        "brooklyn_safari.add_animal(\"Giraffe\") brooklyn_safari.add_animal(\"Bear\") brooklyn_safari.add_animal(\"Baboon\") brooklyn_safari.get_animals() brooklyn_safari.sell_animal(\"Bear\") brooklyn_safari.get_animals() brooklyn_safari.sort_animals() brooklyn_safari.get_groups()"
      ],
      "metadata": {
        "id": "bqY3owEncHHl"
      }
    },
    {
      "cell_type": "markdown",
      "metadata": {
        "id": "4b429f89"
      },
      "source": [
        "Task\n",
        "- Implement a Python class `Zoo` with methods to add, sell, get, and sort animals, and group them by the first letter.\n",
        "- Instantiate the class and test the methods."
      ]
    },
    {
      "cell_type": "markdown",
      "metadata": {
        "id": "be3fc93e"
      },
      "source": [
        "Define the zoo class\n",
        "\n",
        "- Implement the `Zoo` class with the `__init__` method to store the zoo name and an empty list for animals.\n"
      ]
    },
    {
      "cell_type": "markdown",
      "source": [
        "The `Zoo` class must be implemented with the `__init__` method to initialize the zoo name and an empty list for animals.\n",
        "This can be done in a single code block."
      ],
      "metadata": {
        "id": "NEEN6ebufSXV"
      }
    },
    {
      "cell_type": "code",
      "metadata": {
        "id": "7985630b"
      },
      "source": [
        "class Zoo:\n",
        "    def __init__(self, zoo_name):\n",
        "        self.zoo_name = zoo_name\n",
        "        self.animals = []"
      ],
      "execution_count": 3,
      "outputs": []
    },
    {
      "cell_type": "markdown",
      "metadata": {
        "id": "62cdb645"
      },
      "source": [
        "Implement `add animal`\n",
        "\n",
        "Add the `add_animal` method to the `Zoo` class, ensuring it only adds unique animal names.\n"
      ]
    },
    {
      "cell_type": "code",
      "metadata": {
        "id": "8f0f7aaf"
      },
      "source": [
        "class Zoo:\n",
        "    def __init__(self, zoo_name):\n",
        "        self.zoo_name = zoo_name\n",
        "        self.animals = []\n",
        "\n",
        "    def add_animal(self, new_animal):\n",
        "        if new_animal not in self.animals:\n",
        "            self.animals.append(new_animal)"
      ],
      "execution_count": 4,
      "outputs": []
    },
    {
      "cell_type": "markdown",
      "metadata": {
        "id": "93bd922b"
      },
      "source": [
        "Implement `get animals`\n",
        "\n",
        "Add the `get_animals` method to the `Zoo` class to print the list of animals.\n"
      ]
    },
    {
      "cell_type": "code",
      "metadata": {
        "id": "3b0b484d"
      },
      "source": [
        "class Zoo:\n",
        "    def __init__(self, zoo_name):\n",
        "        self.zoo_name = zoo_name\n",
        "        self.animals = []\n",
        "\n",
        "    def add_animal(self, new_animal):\n",
        "        if new_animal not in self.animals:\n",
        "            self.animals.append(new_animal)\n",
        "\n",
        "    def get_animals(self):\n",
        "        for animal in self.animals:\n",
        "            print(animal)"
      ],
      "execution_count": 5,
      "outputs": []
    },
    {
      "cell_type": "markdown",
      "metadata": {
        "id": "86ea11f9"
      },
      "source": [
        "Implement `sell animal`\n",
        "\n",
        "Add the `sell_animal` method to the `Zoo` class to remove an animal if it exists in the list.\n"
      ]
    },
    {
      "cell_type": "code",
      "metadata": {
        "id": "7875fb15"
      },
      "source": [
        "class Zoo:\n",
        "    def __init__(self, zoo_name):\n",
        "        self.zoo_name = zoo_name\n",
        "        self.animals = []\n",
        "\n",
        "    def add_animal(self, new_animal):\n",
        "        if new_animal not in self.animals:\n",
        "            self.animals.append(new_animal)\n",
        "\n",
        "    def get_animals(self):\n",
        "        for animal in self.animals:\n",
        "            print(animal)\n",
        "\n",
        "    def sell_animal(self, animal_sold):\n",
        "        if animal_sold in self.animals:\n",
        "            self.animals.remove(animal_sold)"
      ],
      "execution_count": 6,
      "outputs": []
    },
    {
      "cell_type": "markdown",
      "metadata": {
        "id": "77bf23ab"
      },
      "source": [
        "Implement `sort animals`\n",
        "\n",
        "Add the `sort_animals` method to the `Zoo` class to sort animals alphabetically and group them by the first letter.\n"
      ]
    },
    {
      "cell_type": "code",
      "metadata": {
        "id": "a6c188f2"
      },
      "source": [
        "class Zoo:\n",
        "    def __init__(self, zoo_name):\n",
        "        self.zoo_name = zoo_name\n",
        "        self.animals = []\n",
        "        self.grouped_animals = {}\n",
        "\n",
        "    def add_animal(self, new_animal):\n",
        "        if new_animal not in self.animals:\n",
        "            self.animals.append(new_animal)\n",
        "\n",
        "    def get_animals(self):\n",
        "        for animal in self.animals:\n",
        "            print(animal)\n",
        "\n",
        "    def sell_animal(self, animal_sold):\n",
        "        if animal_sold in self.animals:\n",
        "            self.animals.remove(animal_sold)\n",
        "\n",
        "    def sort_animals(self):\n",
        "        self.animals.sort()\n",
        "        self.grouped_animals = {}\n",
        "        for animal in self.animals:\n",
        "            first_letter = animal[0]\n",
        "            if first_letter not in self.grouped_animals:\n",
        "                self.grouped_animals[first_letter] = []\n",
        "            self.grouped_animals[first_letter].append(animal)"
      ],
      "execution_count": 7,
      "outputs": []
    },
    {
      "cell_type": "markdown",
      "metadata": {
        "id": "25af67e0"
      },
      "source": [
        "Implement `get groups`\n",
        "\n",
        "Add the `get_groups` method to the `Zoo` class to print the grouped animals.\n"
      ]
    },
    {
      "cell_type": "code",
      "metadata": {
        "id": "2a5c530d"
      },
      "source": [
        "class Zoo:\n",
        "    def __init__(self, zoo_name):\n",
        "        self.zoo_name = zoo_name\n",
        "        self.animals = []\n",
        "        self.grouped_animals = {}\n",
        "\n",
        "    def add_animal(self, new_animal):\n",
        "        if new_animal not in self.animals:\n",
        "            self.animals.append(new_animal)\n",
        "\n",
        "    def get_animals(self):\n",
        "        for animal in self.animals:\n",
        "            print(animal)\n",
        "\n",
        "    def sell_animal(self, animal_sold):\n",
        "        if animal_sold in self.animals:\n",
        "            self.animals.remove(animal_sold)\n",
        "\n",
        "    def sort_animals(self):\n",
        "        self.animals.sort()\n",
        "        self.grouped_animals = {}\n",
        "        for animal in self.animals:\n",
        "            first_letter = animal[0]\n",
        "            if first_letter not in self.grouped_animals:\n",
        "                self.grouped_animals[first_letter] = []\n",
        "            self.grouped_animals[first_letter].append(animal)\n",
        "\n",
        "    def get_groups(self):\n",
        "        for letter, animal_list in self.grouped_animals.items():\n",
        "            print(f\"{letter}: {animal_list}\")"
      ],
      "execution_count": 8,
      "outputs": []
    },
    {
      "cell_type": "markdown",
      "metadata": {
        "id": "a132ba35"
      },
      "source": [
        "Create a zoo instance and test methods\n",
        "\n",
        "Instantiate the `Zoo` class and call the implemented methods to test their functionality.\n"
      ]
    },
    {
      "cell_type": "code",
      "metadata": {
        "colab": {
          "base_uri": "https://localhost:8080/"
        },
        "id": "6607006c",
        "outputId": "8826a5e0-dd11-411f-9dbd-2e72d75d36aa"
      },
      "source": [
        "# Step 2: Create a Zoo instance\n",
        "brooklyn_safari = Zoo(\"Brooklyn Safari\")\n",
        "\n",
        "# Step 3: Use the Zoo methods\n",
        "brooklyn_safari.add_animal(\"Giraffe\")\n",
        "brooklyn_safari.add_animal(\"Bear\")\n",
        "brooklyn_safari.add_animal(\"Baboon\")\n",
        "brooklyn_safari.add_animal(\"Giraffe\") # Add duplicate\n",
        "brooklyn_safari.add_animal(\"Lion\")\n",
        "brooklyn_safari.add_animal(\"Cougar\")\n",
        "brooklyn_safari.add_animal(\"Zebra\")\n",
        "brooklyn_safari.add_animal(\"Cat\")\n",
        "\n",
        "\n",
        "print(\"Animals after adding:\")\n",
        "brooklyn_safari.get_animals()\n",
        "\n",
        "print(\"\\nAnimals after selling Bear and Dog (Dog not in list):\")\n",
        "brooklyn_safari.sell_animal(\"Bear\")\n",
        "brooklyn_safari.sell_animal(\"Dog\")\n",
        "brooklyn_safari.get_animals()\n",
        "\n",
        "print(\"\\nGrouped animals:\")\n",
        "brooklyn_safari.sort_animals()\n",
        "brooklyn_safari.get_groups()"
      ],
      "execution_count": 9,
      "outputs": [
        {
          "output_type": "stream",
          "name": "stdout",
          "text": [
            "Animals after adding:\n",
            "Giraffe\n",
            "Bear\n",
            "Baboon\n",
            "Lion\n",
            "Cougar\n",
            "Zebra\n",
            "Cat\n",
            "\n",
            "Animals after selling Bear and Dog (Dog not in list):\n",
            "Giraffe\n",
            "Baboon\n",
            "Lion\n",
            "Cougar\n",
            "Zebra\n",
            "Cat\n",
            "\n",
            "Grouped animals:\n",
            "B: ['Baboon']\n",
            "C: ['Cat', 'Cougar']\n",
            "G: ['Giraffe']\n",
            "L: ['Lion']\n",
            "Z: ['Zebra']\n"
          ]
        }
      ]
    },
    {
      "cell_type": "markdown",
      "metadata": {
        "id": "6f50fca5"
      },
      "source": [
        "## **Summary**:\n",
        "\n",
        "### Data Analysis Key Findings\n",
        "\n",
        "*   The `Zoo` class was successfully implemented with methods to add, sell, retrieve, sort, and group animals.\n",
        "*   The `add_animal` method correctly handles duplicate entries, ensuring only unique animal names are added.\n",
        "*   The `sell_animal` method removes an animal if it exists in the zoo and does not cause an error if the animal is not found.\n",
        "*   The `sort_animals` method sorts the animals alphabetically and populates the `grouped_animals` dictionary, grouping animals by their first letter.\n",
        "*   The `get_animals` method prints the list of animals, and the `get_groups` method prints the animals grouped by their first letter.\n",
        "*   Testing with an instance of the `Zoo` class demonstrated the expected behavior of all implemented methods."
      ]
    }
  ]
}