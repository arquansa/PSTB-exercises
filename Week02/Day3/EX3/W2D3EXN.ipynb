{
  "nbformat": 4,
  "nbformat_minor": 0,
  "metadata": {
    "colab": {
      "provenance": [],
      "authorship_tag": "ABX9TyMT1POA21ogJWPHNC5KcSsD",
      "include_colab_link": true
    },
    "kernelspec": {
      "name": "python3",
      "display_name": "Python 3"
    },
    "language_info": {
      "name": "python"
    }
  },
  "cells": [
    {
      "cell_type": "markdown",
      "metadata": {
        "id": "view-in-github",
        "colab_type": "text"
      },
      "source": [
        "<a href=\"https://colab.research.google.com/github/arquansa/PSTB-exercises/blob/main/Week02/Day3/EX3/W2D3EXN.ipynb\" target=\"_parent\"><img src=\"https://colab.research.google.com/assets/colab-badge.svg\" alt=\"Open In Colab\"/></a>"
      ]
    },
    {
      "cell_type": "markdown",
      "source": [
        "\n",
        "Exercise 1 : Call History\n",
        "Instructions\n",
        "1. Create a class called Phone. This class takes a parameter called phone_number. When instantiating an object create an attribute called call_history which value is an empty list.\n",
        "\n",
        "2. Add a method called call that takes both self and other_phone (i.e another Phone object) as parameters. The method should print a string stating who called who, and add this string to the phone’s call_history.\n",
        "\n",
        "3. Add a method called show_call_history. This method should print the call_history.\n",
        "\n",
        "4. Add another attribute called messages to your __init__() method which value is an empty list.\n",
        "\n",
        "5. Create a method called send_message which is similar to the call method. Each message should be saved as a dictionary with the following keys:\n",
        "to : the number of another Phone object\n",
        "from : your phone number (also a Phone object)\n",
        "content\n",
        "\n",
        "6. Create the following methods: show_outgoing_messages(self), show_incoming_messages(self), show_messages_from(self)\n",
        "\n",
        "Test your code !!!"
      ],
      "metadata": {
        "id": "Bd2WT83nAw0a"
      }
    },
    {
      "cell_type": "markdown",
      "source": [
        "# Exercise 1\n",
        "\n",
        "#1. Class Phone\n",
        "\n",
        "Create a class called Phone. This class takes a parameter called phone_number. When instantiating an object create an attribute called call_history which value is an empty list."
      ],
      "metadata": {
        "id": "AugoYMsoDTKV"
      }
    },
    {
      "cell_type": "markdown",
      "source": [
        "Phone class\n",
        "\n",
        "Refined implementation of the Call History exercise using object-oriented principles.\n",
        "\n",
        "In this version:\n",
        "- logging calls,\n",
        "- messages, and\n",
        "- differentiating between incoming and outgoing message histories"
      ],
      "metadata": {
        "id": "Y8b73htfBMli"
      }
    },
    {
      "cell_type": "code",
      "source": [
        "class Phone:\n",
        "    def __init__(self, phone_number):\n",
        "        self.phone_number = phone_number\n",
        "        self.call_history = []  # 1. Call history\n",
        "        self.messages = []      # 4. Messages history"
      ],
      "metadata": {
        "id": "0lJv32Y-wdvu"
      },
      "execution_count": 20,
      "outputs": []
    },
    {
      "cell_type": "markdown",
      "source": [
        " # 2. Making a call\n",
        "\n",
        "Add a method called call that takes both self and other_phone (i.e another Phone object) as parameters. The method should print a string stating who called who, and add this string to the phone’s call_history.\n"
      ],
      "metadata": {
        "id": "HJVKYOUhKVoU"
      }
    },
    {
      "cell_type": "code",
      "source": [
        "    def call(self, other_phone):\n",
        "        call_info = f\"{self.phone_number} called {other_phone.phone_number}\"\n",
        "        print(call_info)\n",
        "        self.call_history.append(call_info)"
      ],
      "metadata": {
        "id": "L_8BslGN8gFc"
      },
      "execution_count": 21,
      "outputs": []
    },
    {
      "cell_type": "markdown",
      "source": [
        "# 3. Add a method called show_call_history\n",
        "\n",
        "This method should print the call_history."
      ],
      "metadata": {
        "id": "OsvQ_8D3t4P0"
      }
    },
    {
      "cell_type": "code",
      "source": [
        "# 3. To display call history\n",
        "def show_call_history(self):\n",
        "        print(\"📞 Call History:\")\n",
        "        for call in self.call_history:\n",
        "            print(call)"
      ],
      "metadata": {
        "id": "ILLZeQzaygBr"
      },
      "execution_count": 22,
      "outputs": []
    },
    {
      "cell_type": "markdown",
      "source": [
        "# 4. Add another attribute called messages to your init() method\n",
        "which value is an empty list."
      ],
      "metadata": {
        "id": "eDr3NxK8tul7"
      }
    },
    {
      "cell_type": "code",
      "source": [
        "class Phone:\n",
        "    def __init__(self, phone_number):\n",
        "        self.phone_number = phone_number\n",
        "        self.call_history = []"
      ],
      "metadata": {
        "id": "XasW7V7qyfqx"
      },
      "execution_count": 23,
      "outputs": []
    },
    {
      "cell_type": "markdown",
      "source": [
        "# 5. Create a method called send_message\n",
        "\n",
        "which is similar to the call method.\n",
        "\n",
        "Each message should be saved as a dictionary with the following keys: to : the number of another Phone object from : your phone number (also a Phone object) content"
      ],
      "metadata": {
        "id": "-1f-Ww86tjh9"
      }
    },
    {
      "cell_type": "code",
      "source": [
        " # 5. Send a message\n",
        " def send_message(self, other_phone, content):\n",
        "    outgoing_message = {\n",
        "        \"to\": other_phone.phone_number,\n",
        "        \"from\": self.phone_number,\n",
        "        \"content\": content\n",
        "    }\n",
        "    incoming_message = outgoing_message.copy()\n",
        "\n",
        "    self.messages.append(outgoing_message)      # message sent\n",
        "    other_phone.messages.append(incoming_message)  # message received\n"
      ],
      "metadata": {
        "id": "Y0HpjAo1yejs"
      },
      "execution_count": 24,
      "outputs": []
    },
    {
      "cell_type": "markdown",
      "source": [
        "# 6. The following methods:\n",
        "- show_outgoing_messages(self),\n",
        "- show_incoming_messages(self),\n",
        "- show_messages_from(self)**"
      ],
      "metadata": {
        "id": "TWm_KDomtdFQ"
      }
    },
    {
      "cell_type": "code",
      "source": [
        " # 1. Display messages sent\n",
        "def show_outgoing_messages(self):\n",
        "    print(\"📤 Outgoing Messages:\")\n",
        "    found = False\n",
        "    for msg in self.messages:\n",
        "        if msg.get(\"from\") == self.phone_number:\n",
        "            print(f\"To {msg.get('to')}: {msg.get('content')}\")\n",
        "            found = True\n",
        "    if not found:\n",
        "        print(\"No message sent.\")\n",
        "\n",
        "# 2. Display messages received\n",
        "def show_incoming_messages(self):\n",
        "    print(\"📥 Incoming Messages:\")\n",
        "    found = False\n",
        "    for msg in self.messages:\n",
        "        if msg.get(\"to\") == self.phone_number:\n",
        "            print(f\"From {msg.get('from')}: {msg.get('content')}\")\n",
        "            found = True\n",
        "    if not found:\n",
        "        print(\"No message received.\")\n",
        "\n",
        "# 3. Display messages from a specific number\n",
        "def show_messages_from(self, number):\n",
        "    print(f\"📨 Messages from {number}:\")\n",
        "    found = False\n",
        "    for msg in self.messages:\n",
        "        if msg.get(\"from\") == number and msg.get(\"to\") == self.phone_number:\n",
        "            print(msg.get(\"content\"))\n",
        "            found = True\n",
        "    if not found:\n",
        "        print(f\"No message received from {number}.\")\n"
      ],
      "metadata": {
        "id": "pecvSHBB0T57"
      },
      "execution_count": 25,
      "outputs": []
    },
    {
      "cell_type": "markdown",
      "source": [
        "# Conclusion\n",
        "\n",
        "A functional Phone class has been built in Python; it simulates basic phone operations, including:\n",
        "- call history\n",
        "- incoming and outcoming calls\n",
        "- messages"
      ],
      "metadata": {
        "id": "b5zm0_uKBOer"
      }
    }
  ]
}