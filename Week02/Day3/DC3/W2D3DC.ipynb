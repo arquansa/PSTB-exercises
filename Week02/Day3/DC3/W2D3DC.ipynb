{
  "nbformat": 4,
  "nbformat_minor": 0,
  "metadata": {
    "colab": {
      "provenance": [],
      "authorship_tag": "ABX9TyOMHsXsUxxG4m+Fg8QZbDbU",
      "include_colab_link": true
    },
    "kernelspec": {
      "name": "python3",
      "display_name": "Python 3"
    },
    "language_info": {
      "name": "python"
    }
  },
  "cells": [
    {
      "cell_type": "markdown",
      "metadata": {
        "id": "view-in-github",
        "colab_type": "text"
      },
      "source": [
        "<a href=\"https://colab.research.google.com/github/arquansa/PSTB-exercises/blob/main/Week02/Day3/DC3/W2D3DC.ipynb\" target=\"_parent\"><img src=\"https://colab.research.google.com/assets/colab-badge.svg\" alt=\"Open In Colab\"/></a>"
      ]
    },
    {
      "cell_type": "markdown",
      "source": [
        "Daily challenge: Old MacDonald’s Farm\n",
        "Last Updated: May 5th, 2025\n",
        "\n",
        "👩‍🏫 👩🏿‍🏫 What You’ll learn\n",
        "Classes and Objects\n",
        "Dictionaries\n",
        "String Formatting\n",
        "Methods\n",
        "List manipulation and sorting\n",
        "\n",
        "Key Python Topics:\n",
        "\n",
        "Classes and Objects\n",
        "Dictionaries\n",
        "String Formatting\n",
        "Methods\n",
        "List manipulation (sorted())\n",
        "Conditional logic (if)\n",
        "String concatenation\n",
        "\n",
        "Instructions: Old MacDonald’s Farm\n",
        "\n",
        "You are given example code and output. Your task is to create a Farm class that produces the same output.\n",
        "\n",
        "\n",
        "\n",
        "Step 1: Create the Farm Class\n",
        "\n",
        "Create a class called Farm.\n",
        "This class will represent a farm and its animals.\n",
        "\n",
        "\n",
        "Step 2: Implement the __init__ Method\n",
        "\n",
        "The Farm class should have an __init__ method.\n",
        "It should take one parameter: farm_name.\n",
        "Inside __init__, create two attributes: name to store the farm’s name and animals to store the animals (initialize as an empty dictionary).\n",
        "\n",
        "\n",
        "Step 3: Implement the add_animal Method\n",
        "\n",
        "Create a method called add_animal.\n",
        "It should take two parameters: animal_type and count (with a default value of 1). Count is the quantity of the animal that will be added to the animal dictionary.\n",
        "The dictionary will look like this:\n",
        "{'cow': 1, 'pig':3, 'horse': 2}\n",
        "If the animal_type already exists in the animals dictionary, increment its count by count.\n",
        "If it doesn’t exist, add it to the dictionary as the key and with the given count as value.\n",
        "\n",
        "\n",
        "Step 4: Implement the get_info Method\n",
        "\n",
        "Create a method called get_info.\n",
        "It should return a string that displays the farm’s name, the animals and their counts, and the “E-I-E-I-0!” phrase.\n",
        "Format the output to match the provided example.\n",
        "Use string formatting to align the animal names and counts into columns.\n",
        "\n",
        "\n",
        "Step 5: Test Your Code\n",
        "\n",
        "Create a Farm object and call the add_animal and get_info methods.\n",
        "Verify that the output matches the provided example.\n",
        "\n",
        "\n",
        "Example:\n",
        "\n",
        "class Farm:\n",
        "    def __init__(self, farm_name):\n",
        "        # ... code to initialize name and animals attributes ...\n",
        "\n",
        "    def add_animal(self, animal_type, count):\n",
        "        # ... code to add or update animal count in animals dictionary ...\n",
        "\n",
        "    def get_info(self):\n",
        "        # ... code to format animal info from animals dictionary ...\n",
        "\n",
        "\n",
        "# Test the code\n",
        "macdonald = Farm(\"McDonald\")\n",
        "macdonald.add_animal('cow', 5)\n",
        "macdonald.add_animal('sheep')\n",
        "macdonald.add_animal('sheep')\n",
        "macdonald.add_animal('goat', 12)\n",
        "print(macdonald.get_info())\n",
        "#output:\n",
        "# McDonald's farm\n",
        "\n",
        "# cow : 5\n",
        "# sheep : 2\n",
        "# goat : 12\n",
        "\n",
        "#     E-I-E-I-0!\n",
        "\n",
        "\n",
        "Bonus: Expand The Farm\n",
        "\n",
        "\n",
        "Step 6: Implement the get_animal_types Method\n",
        "\n",
        "Add a method called get_animal_types to the Farm class.\n",
        "This method should return a sorted list of all animal types (keys from the animals dictionary).\n",
        "Use the sorted() function to sort the list.\n",
        "\n",
        "Step 7: Implement the get_short_info Method\n",
        "\n",
        "Add a method called get_short_info to the Farm class.\n",
        "This method should return a string like “McDonald’s farm has cows, goats and sheeps.”.\n",
        "Call the get_animal_types method to get the list of animals.\n",
        "Construct the string, adding an “s” to the animal name if its count is greater than 1.\n",
        "Use string formatting to create the output."
      ],
      "metadata": {
        "id": "Iy6Fcu1t7YC3"
      }
    },
    {
      "cell_type": "code",
      "metadata": {
        "colab": {
          "base_uri": "https://localhost:8080/"
        },
        "id": "2357f283",
        "outputId": "eb51be93-dbae-4b41-be29-4014fab6dcc1"
      },
      "source": [
        "macdonald = Farm(\"McDonald\")\n",
        "macdonald.add_animal('cow', 5)\n",
        "macdonald.add_animal('sheep')\n",
        "macdonald.add_animal('sheep')\n",
        "macdonald.add_animal('goat', 12)\n",
        "print(macdonald.get_info())"
      ],
      "execution_count": null,
      "outputs": [
        {
          "output_type": "stream",
          "name": "stdout",
          "text": [
            "McDonald's farm\n",
            "\n",
            "cow : 5\n",
            "sheep : 2\n",
            "goat : 12\n",
            "\n",
            "E-I-E-I-0!\n"
          ]
        }
      ]
    },
    {
      "cell_type": "markdown",
      "source": [
        "Instructions: Old MacDonald’s Farm\n",
        "\n",
        "You are given example code and output. Your task is to create a Farm class that produces the same output.\n",
        "\n",
        "\n",
        "Step 1: Create the Farm Class\n",
        "\n",
        "Create a class called Farm.\n",
        "This class will represent a farm and its animals.\n"
      ],
      "metadata": {
        "id": "UYYCauDt7wpo"
      }
    },
    {
      "cell_type": "markdown",
      "source": [
        "Step 2: Implement the init Method\n",
        "\n",
        "The Farm class should have an init method. It should take one parameter: farm_name. Inside init, create two attributes: name to store the farm’s name and animals to store the animals (initialize as an empty dictionary)."
      ],
      "metadata": {
        "id": "VnW0zqmO9rem"
      }
    },
    {
      "cell_type": "markdown",
      "source": [
        "Step 3: Implement the add_animal Method\n",
        "\n",
        "Create a method called add_animal. It should take two parameters: animal_type and count (with a default value of 1). Count is the quantity of the animal that will be added to the animal dictionary. The dictionary will look like this: {'cow': 1, 'pig':3, 'horse': 2} If the animal_type already exists in the animals dictionary, increment its count by count. If it doesn’t exist, add it to the dictionary as the key and with the given count as value."
      ],
      "metadata": {
        "id": "KoZHbtai91nL"
      }
    },
    {
      "cell_type": "markdown",
      "source": [
        "\n",
        "Step 4: Implement the get_info Method\n",
        "\n",
        "Create a method called get_info. It should return a string that displays the farm’s name, the animals and their counts, and the “E-I-E-I-0!” phrase. Format the output to match the provided example. Use string formatting to align the animal names and counts into columns."
      ],
      "metadata": {
        "id": "rn7KdBzT-NX3"
      }
    },
    {
      "cell_type": "markdown",
      "source": [
        "Step 5: Test Your Code\n",
        "\n",
        "Create a Farm object and call the add_animal and get_info methods. Verify that the output matches the provided example.\n",
        "\n",
        "Example:\n",
        "\n",
        "class Farm: def init(self, farm_name): # ... code to initialize name and animals attributes ...\n",
        "\n",
        "def add_animal(self, animal_type, count):\n",
        "    # ... code to add or update animal count in animals dictionary ...\n",
        "\n",
        "def get_info(self):\n",
        "    # ... code to format animal info from animals dictionary ...\n",
        "Test the code\n",
        "macdonald = Farm(\"McDonald\") macdonald.add_animal('cow', 5) macdonald.add_animal('sheep') macdonald.add_animal('sheep') macdonald.add_animal('goat', 12) print(macdonald.get_info())\n",
        "\n",
        "output:\n",
        "McDonald's farm\n",
        "cow : 5\n",
        "sheep : 2\n",
        "goat : 12\n",
        "E-I-E-I-0!\n",
        "Bonus: Expand The Farm"
      ],
      "metadata": {
        "id": "VbGp_dSv-X7S"
      }
    },
    {
      "cell_type": "markdown",
      "source": [
        "Step 6: Implement the get_animal_types Method\n",
        "\n",
        "Add a method called get_animal_types to the Farm class. This method should return a sorted list of all animal types (keys from the animals dictionary). Use the sorted() function to sort the list."
      ],
      "metadata": {
        "id": "ghZJBNjl-ukU"
      }
    },
    {
      "cell_type": "markdown",
      "source": [
        "Step 7: Implement the get_short_info Method\n",
        "\n",
        "Add a method called get_short_info to the Farm class. This method should return a string like “McDonald’s farm has cows, goats and sheeps.”. Call the get_animal_types method to get the list of animals. Construct the string, adding an “s” to the animal name if its count is greater than 1. Use string formatting to create the output."
      ],
      "metadata": {
        "id": "rcr4geDx_4HR"
      }
    },
    {
      "cell_type": "code",
      "metadata": {
        "id": "0465cc4a"
      },
      "source": [
        "class Farm:\n",
        "    def __init__(self, farm_name):\n",
        "        self.name = farm_name\n",
        "        self.animals = {}\n",
        "\n",
        "    def add_animal(self, animal_type, count=1):\n",
        "        if animal_type in self.animals:\n",
        "            self.animals[animal_type] += count\n",
        "        else:\n",
        "            self.animals[animal_type] = count\n",
        "\n",
        "    def get_info(self):\n",
        "        info = f\"{self.name}'s farm\\n\\n\"\n",
        "        for animal, count in self.animals.items():\n",
        "            info += f\"{animal} : {count}\\n\"\n",
        "        info += \"\\nE-I-E-I-0!\"\n",
        "        return info\n",
        "\n",
        "    def get_animal_types(self):\n",
        "        return sorted(list(self.animals.keys()))\n",
        "\n",
        "    def get_short_info(self):\n",
        "        animal_types = self.get_animal_types()\n",
        "        animal_strings = []\n",
        "        for animal_type in animal_types:\n",
        "            count = self.animals[animal_type]\n",
        "            if count > 1:\n",
        "                animal_strings.append(f\"{animal_type}s\")\n",
        "            else:\n",
        "                animal_strings.append(animal_type)\n",
        "\n",
        "        if len(animal_strings) > 1:\n",
        "            animals_str = \", \".join(animal_strings[:-1]) + \" and \" + animal_strings[-1]\n",
        "        elif animal_strings:\n",
        "            animals_str = animal_strings[0]\n",
        "        else:\n",
        "            animals_str = \"no animals\"\n",
        "\n",
        "        return f\"{self.name}'s farm has {animals_str}.\""
      ],
      "execution_count": null,
      "outputs": []
    },
    {
      "cell_type": "code",
      "metadata": {
        "colab": {
          "base_uri": "https://localhost:8080/"
        },
        "id": "e4650b27",
        "outputId": "97b8f0d4-da4b-4770-bb83-85d386661065"
      },
      "source": [
        "# Recreate the macdonald object after updating the Farm class\n",
        "macdonald = Farm(\"McDonald\")\n",
        "macdonald.add_animal('cow', 5)\n",
        "macdonald.add_animal('sheep')\n",
        "macdonald.add_animal('sheep')\n",
        "macdonald.add_animal('goat', 12)\n",
        "\n",
        "# Now test the get_short_info method\n",
        "print(macdonald.get_short_info())"
      ],
      "execution_count": null,
      "outputs": [
        {
          "output_type": "stream",
          "name": "stdout",
          "text": [
            "McDonald's farm has cows, goats and sheeps.\n"
          ]
        }
      ]
    },
    {
      "cell_type": "code",
      "metadata": {
        "colab": {
          "base_uri": "https://localhost:8080/"
        },
        "id": "6756a787",
        "outputId": "5d78705c-2823-4b3a-847d-b59c8e9b74a5"
      },
      "source": [
        "# Assuming macdonald object from previous steps is still available\n",
        "print(macdonald.get_short_info())"
      ],
      "execution_count": null,
      "outputs": [
        {
          "output_type": "stream",
          "name": "stdout",
          "text": [
            "McDonald's farm has cows, goats and sheeps.\n"
          ]
        }
      ]
    },
    {
      "cell_type": "markdown",
      "source": [
        "##**Conclusion**:\n",
        "\n",
        "We have successfully completed the \"Old MacDonald's Farm\" daily challenge! We created a Farm class with methods to add animals, display a detailed list of animals and their counts, get a sorted list of animal types, and generate a short summary of the farm's animals. This exercise helped us practice using classes, objects, dictionaries, string formatting, methods, and list manipulation in Python."
      ],
      "metadata": {
        "id": "bw8Re1lzA-YU"
      }
    }
  ]
}