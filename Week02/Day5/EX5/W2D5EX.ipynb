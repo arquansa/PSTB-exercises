{
  "nbformat": 4,
  "nbformat_minor": 0,
  "metadata": {
    "colab": {
      "provenance": [],
      "authorship_tag": "ABX9TyNkMMNwCu1eUJz317wzuSSq",
      "include_colab_link": true
    },
    "kernelspec": {
      "name": "python3",
      "display_name": "Python 3"
    },
    "language_info": {
      "name": "python"
    }
  },
  "cells": [
    {
      "cell_type": "markdown",
      "metadata": {
        "id": "view-in-github",
        "colab_type": "text"
      },
      "source": [
        "<a href=\"https://colab.research.google.com/github/arquansa/PSTB-exercises/blob/main/Week02/Day5/EX5/W2D5EX.ipynb\" target=\"_parent\"><img src=\"https://colab.research.google.com/assets/colab-badge.svg\" alt=\"Open In Colab\"/></a>"
      ]
    },
    {
      "cell_type": "markdown",
      "source": [
        "# Daily Challenge - Circle\n",
        "**texte en gras**\n",
        "Last Updated: April 30th, 2025\n",
        "\n",
        "What You will learn :\n",
        "OOP dunder methods\n",
        "\n",
        "\n",
        "Instructions :\n",
        "The goal is to create a class that represents a simple circle.\n",
        "A Circle can be defined by either specifying the radius or the diameter.\n",
        "The user can query the circle for either its radius or diameter.\n",
        "\n",
        "Other abilities of a Circle instance:\n",
        "\n",
        "- Compute the circle’s area\n",
        "- Print the attributes of the circle - use a dunder method\n",
        "- Be able to add two circles together, and return a new circle with the new radius - use a dunder method\n",
        "- Be able to compare two circles to see which is bigger, and return a Boolean - use a dunder method\n",
        "- Be able to compare two circles and see if there are equal, and return a Boolean- use a dunder method\n",
        "- Be able to put them in a list and sort them*\n",
        "\n",
        "Bonus (not mandatory) : Install the Turtle module, and draw the sorted circles\n"
      ],
      "metadata": {
        "id": "jsLnoReOVSGe"
      }
    },
    {
      "cell_type": "markdown",
      "source": [
        "This challenge is an opportunity to practice using dunder methods (__add__, __eq__, __lt__, __str__, etc.) to make classes behave like a built-in Python type."
      ],
      "metadata": {
        "id": "9Q1ccvyxV54S"
      }
    },
    {
      "cell_type": "markdown",
      "source": [
        "\n",
        "**Features Required in Circle Class**\n",
        "\n",
        "Attributes\n",
        "Defined by radius or diameter\n",
        "\n",
        "Ability to get radius or diameter\n",
        "\n",
        "Methods\n",
        "area(): compute the area\n",
        "\n",
        "__str__(): nicely print attributes\n",
        "\n",
        "__add__(): add two circles → new circle with summed radius\n",
        "\n",
        "__eq__(): check if two circles are equal (based on radius)\n",
        "\n",
        "__lt__(): compare two circles (for sorting)\n",
        "\n",
        "Bonus: Visualize sorted circles using Turtle\n",
        "\n",
        "**Python Implementation**"
      ],
      "metadata": {
        "id": "xlwGesbbWNbe"
      }
    },
    {
      "cell_type": "code",
      "execution_count": null,
      "metadata": {
        "id": "zSBPCzyoVQi9"
      },
      "outputs": [],
      "source": [
        "import math\n",
        "\n",
        "class Circle:\n",
        "    def __init__(self, *, radius=None, diameter=None):\n",
        "        if radius is not None:\n",
        "            self._radius = radius\n",
        "        elif diameter is not None:\n",
        "            self._radius = diameter / 2\n",
        "        else:\n",
        "            raise ValueError(\"You must provide either a radius or a diameter.\")\n",
        "\n",
        "    @property\n",
        "    def radius(self):\n",
        "        return self._radius\n",
        "\n",
        "    @property\n",
        "    def diameter(self):\n",
        "        return self._radius * 2\n",
        "\n",
        "    def area(self):\n",
        "        return math.pi * self._radius ** 2\n",
        "\n",
        "    def __str__(self):\n",
        "        return f\"Circle with radius {self.radius:.2f} and diameter {self.diameter:.2f}\"\n",
        "\n",
        "    def __add__(self, other):\n",
        "        if not isinstance(other, Circle):\n",
        "            return NotImplemented\n",
        "        return Circle(radius=self.radius + other.radius)\n",
        "\n",
        "    def __eq__(self, other):\n",
        "        if not isinstance(other, Circle):\n",
        "            return NotImplemented\n",
        "        return self.radius == other.radius\n",
        "\n",
        "    def __lt__(self, other):\n",
        "        if not isinstance(other, Circle):\n",
        "            return NotImplemented\n",
        "        return self.radius < other.radius\n",
        "\n",
        "    def __repr__(self):\n",
        "        return f\"Circle(radius={self.radius:.2f})\"\n"
      ]
    },
    {
      "cell_type": "markdown",
      "source": [
        "Test the class"
      ],
      "metadata": {
        "id": "YC1kOpByW45O"
      }
    },
    {
      "cell_type": "code",
      "source": [
        "# Create a few circles\n",
        "c1 = Circle(radius=3)\n",
        "c2 = Circle(diameter=10)\n",
        "c3 = Circle(radius=5)\n",
        "\n",
        "# Print info\n",
        "print(c1)  # Circle with radius 3.00 and diameter 6.00\n",
        "print(c2)  # Circle with radius 5.00 and diameter 10.00\n",
        "\n",
        "# Area\n",
        "print(f\"Area of c1: {c1.area():.2f}\")\n",
        "\n",
        "# Add circles\n",
        "c4 = c1 + c2\n",
        "print(f\"New Circle from c1 + c2: {c4}\")\n",
        "\n",
        "# Equality\n",
        "print(\"c2 == c3?\", c2 == c3)\n",
        "\n",
        "# Comparison\n",
        "print(\"c1 < c3?\", c1 < c3)\n",
        "\n",
        "# Sorting\n",
        "circles = [c1, c2, c3, c4]\n",
        "sorted_circles = sorted(circles)\n",
        "print(\"Sorted circles:\", sorted_circles)\n"
      ],
      "metadata": {
        "colab": {
          "base_uri": "https://localhost:8080/"
        },
        "id": "pO6nq94CW7Ca",
        "outputId": "fb168e97-d5d6-45bc-de34-3042e3396b37"
      },
      "execution_count": null,
      "outputs": [
        {
          "output_type": "stream",
          "name": "stdout",
          "text": [
            "Circle with radius 3.00 and diameter 6.00\n",
            "Circle with radius 5.00 and diameter 10.00\n",
            "Area of c1: 28.27\n",
            "New Circle from c1 + c2: Circle with radius 8.00 and diameter 16.00\n",
            "c2 == c3? True\n",
            "c1 < c3? True\n",
            "Sorted circles: [Circle(radius=3.00), Circle(radius=5.00), Circle(radius=5.00), Circle(radius=8.00)]\n"
          ]
        }
      ]
    },
    {
      "cell_type": "markdown",
      "source": [
        " Bonus: Turtle Visualization (Optional)"
      ],
      "metadata": {
        "id": "CBykDYJsXOcP"
      }
    },
    {
      "cell_type": "code",
      "source": [
        "import turtle\n",
        "\n",
        "def draw_circle(t, radius, x, y):\n",
        "    t.penup()\n",
        "    t.goto(x, y - radius)\n",
        "    t.pendown()\n",
        "    t.circle(radius)\n",
        "\n",
        "def draw_sorted_circles(circle_list):\n",
        "    t = turtle.Turtle()\n",
        "    t.speed(0)\n",
        "    turtle.bgcolor(\"white\")\n",
        "    screen = turtle.Screen()\n",
        "    screen.title(\"Sorted Circles\")\n",
        "\n",
        "    spacing = 50\n",
        "    x_position = -300\n",
        "\n",
        "    for circle in circle_list:\n",
        "        draw_circle(t, circle.radius * 10, x_position, 0)  # scale radius\n",
        "        x_position += circle.radius * 20 + spacing  # space based on diameter\n",
        "\n",
        "    turtle.done()\n",
        "\n",
        "# Uncomment to run if turtle is installed\n",
        "# draw_sorted_circles(sorted_circles)\n"
      ],
      "metadata": {
        "id": "Scfw2xDsXPOe"
      },
      "execution_count": null,
      "outputs": []
    },
    {
      "cell_type": "markdown",
      "source": [
        "✅ Summary\n",
        "\n",
        "You learned how to make a Python class behave like a native type using dunder methods.\n",
        "\n",
        "You can now add, compare, sort, and print circles.\n",
        "\n",
        "Optional: Visualized using Turtle."
      ],
      "metadata": {
        "id": "2r2EcE8dXtqK"
      }
    },
    {
      "cell_type": "markdown",
      "source": [
        "Plotting with matplotlib:\n",
        "\n",
        "\n",
        "Use the Circle class from earlier.\n",
        "\n",
        "Create a list of Circle instances.\n",
        "\n",
        "Sort them by radius.\n",
        "\n",
        "Plot them using matplotlib.patches.Circle.\n"
      ],
      "metadata": {
        "id": "_ObFY_gtXzri"
      }
    },
    {
      "cell_type": "code",
      "source": [
        "import matplotlib.pyplot as plt\n",
        "from matplotlib.patches import Circle as PatchCircle\n",
        "import math\n",
        "\n",
        "# Reuse the Circle class\n",
        "class Circle:\n",
        "    def __init__(self, *, radius=None, diameter=None):\n",
        "        if radius is not None:\n",
        "            self._radius = radius\n",
        "        elif diameter is not None:\n",
        "            self._radius = diameter / 2\n",
        "        else:\n",
        "            raise ValueError(\"You must provide either a radius or a diameter.\")\n",
        "\n",
        "    @property\n",
        "    def radius(self):\n",
        "        return self._radius\n",
        "\n",
        "    @property\n",
        "    def diameter(self):\n",
        "        return self._radius * 2\n",
        "\n",
        "    def area(self):\n",
        "        return math.pi * self._radius ** 2\n",
        "\n",
        "    def __str__(self):\n",
        "        return f\"Circle with radius {self.radius:.2f} and diameter {self.diameter:.2f}\"\n",
        "\n",
        "    def __add__(self, other):\n",
        "        if not isinstance(other, Circle):\n",
        "            return NotImplemented\n",
        "        return Circle(radius=self.radius + other.radius)\n",
        "\n",
        "    def __eq__(self, other):\n",
        "        return isinstance(other, Circle) and self.radius == other.radius\n",
        "\n",
        "    def __lt__(self, other):\n",
        "        return isinstance(other, Circle) and self.radius < other.radius\n",
        "\n",
        "    def __repr__(self):\n",
        "        return f\"Circle(radius={self.radius:.2f})\"\n",
        "\n",
        "# Create and sort circles\n",
        "circles = [\n",
        "    Circle(radius=3),\n",
        "    Circle(diameter=8),\n",
        "    Circle(radius=5),\n",
        "    Circle(radius=1.5),\n",
        "    Circle(radius=7),\n",
        "    Circle(diameter=4),\n",
        "]\n",
        "\n",
        "sorted_circles = sorted(circles)\n",
        "\n",
        "# Plotting\n",
        "fig, ax = plt.subplots(figsize=(10, 5))\n",
        "ax.set_aspect('equal')\n",
        "ax.set_title(\"Sorted Circles by Radius (Matplotlib Visualization)\")\n",
        "ax.axis('off')  # Hide axis\n",
        "\n",
        "x_pos = 0\n",
        "spacing = 5  # Horizontal space between circles\n",
        "\n",
        "for i, circle in enumerate(sorted_circles):\n",
        "    radius = circle.radius\n",
        "    patch = PatchCircle((x_pos, 0), radius=radius, edgecolor='black', facecolor='skyblue', alpha=0.6)\n",
        "    ax.add_patch(patch)\n",
        "\n",
        "    # Label each circle with its radius\n",
        "    ax.text(x_pos, 0, f\"{radius:.1f}\", ha='center', va='center', fontsize=10, color='black')\n",
        "\n",
        "    x_pos += radius * 2 + spacing\n",
        "\n",
        "# Set limits to fit all circles\n",
        "ax.set_xlim(-10, x_pos)\n",
        "ax.set_ylim(-max(c.radius for c in sorted_circles) - 5, max(c.radius for c in sorted_circles) + 5)\n",
        "\n",
        "plt.show()\n"
      ],
      "metadata": {
        "colab": {
          "base_uri": "https://localhost:8080/",
          "height": 278
        },
        "id": "uywym8ZxX0Dx",
        "outputId": "4c06c1f5-5584-47ef-9a44-decdb839904e"
      },
      "execution_count": null,
      "outputs": [
        {
          "output_type": "display_data",
          "data": {
            "text/plain": [
              "<Figure size 1000x500 with 1 Axes>"
            ],
            "image/png": "[encoded data removed]"
          },
          "metadata": {}
        }
      ]
    }
  ]
}