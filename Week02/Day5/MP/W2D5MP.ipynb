{
 "cells": [
  {
   "cell_type": "markdown",
   "id": "6befd081",
   "metadata": {},
   "source": [
    "# Mini Project : Rock Paper Scissors\n",
    "\n",
    "Part II - rock-paper-scissors.py\n",
    "rock-paper-scissors.py : create 3 functions\n",
    "get_user_menu_choice() - this should display a simple menu, get the user’s choice (with data validation), and return the choice. No looping should occur here.\n",
    "The possibles choices are : Play a new game or Show scores or Quit\n",
    "\n",
    "print_results(results) – this should print the results of the games played. It should have a single parameter named results; which will be a dictionary of the results of the games played. It should display these results in a user-friendly way, and thank the user for playing.\n",
    "\n",
    "\n",
    "Note: results should be in this form: {win: 2,loss: 4,draw: 3}. Bear in mind that this dictionary will need to be created and populated in some other part of our code, and passed in to the print_results function at the right time.\n",
    "\n",
    "main() - the main function. It should take care of 3 things:\n",
    "Displaying the menu repeatedly, until the user types in the value to exit the program: ‘x’ or ‘q’, whatever you decide. (Make use of the get_user_menu_choice function)\n",
    "\n",
    "When the user chooses to play a game:\n",
    "Create a new Game object (see below), and call its play() function, receiving the result of the game that is returned.\n",
    "Remember the results of every game that is played.\n",
    "\n",
    "When the user chooses to exit the program, call the print_results function in order to display a summary of all the games played.\n"
   ]
  },
  {
   "cell_type": "markdown",
   "id": "ac5ee352",
   "metadata": {},
   "source": [
    "✅ Structure du fichier\n",
    "get_user_menu_choice() — affiche un menu simple, retourne le choix.\n",
    "\n",
    "print_results(results) — affiche le résumé des scores {win: x, loss: y, draw: z}.\n",
    "\n",
    "main() — boucle principale avec appel au menu, gestion des parties et des scores."
   ]
  },
  {
   "cell_type": "code",
   "execution_count": 2,
   "id": "874965f7",
   "metadata": {},
   "outputs": [],
   "source": [
    "import random\n",
    "\n",
    "# 🎮 Choix possibles\n",
    "OPTIONS = [\"rock\", \"paper\", \"scissors\"]\n"
   ]
  },
  {
   "cell_type": "code",
   "execution_count": 3,
   "id": "f67d819d",
   "metadata": {},
   "outputs": [],
   "source": [
    "# 🧠 Fonction pour jouer une manche\n",
    "def play_round():\n",
    "    user_choice = \"\"\n",
    "    while user_choice not in OPTIONS:\n",
    "        user_choice = input(\"Choisissez rock, paper ou scissors : \").lower()\n",
    "        if user_choice not in OPTIONS:\n",
    "            print(\"❌ Choix invalide. Réessayez.\")\n",
    "\n",
    "    computer_choice = random.choice(OPTIONS)\n",
    "    print(f\"🤖 L'ordinateur a choisi : {computer_choice}\")\n",
    "\n",
    "    if user_choice == computer_choice:\n",
    "        print(\"🟨 Égalité !\")\n",
    "        return \"draw\"\n",
    "    elif (\n",
    "        (user_choice == \"rock\" and computer_choice == \"scissors\") or\n",
    "        (user_choice == \"paper\" and computer_choice == \"rock\") or\n",
    "        (user_choice == \"scissors\" and computer_choice == \"paper\")\n",
    "    ):\n",
    "        print(\"✅ Vous avez gagné !\")\n",
    "        return \"win\"\n",
    "    else:\n",
    "        print(\"❌ Vous avez perdu.\")\n",
    "        return \"loss\"\n"
   ]
  },
  {
   "cell_type": "code",
   "execution_count": 4,
   "id": "b6b6c25b",
   "metadata": {},
   "outputs": [],
   "source": [
    "# 📋 1. Menu principal\n",
    "def get_user_menu_choice():\n",
    "    print(\"\\n=== Menu ===\")\n",
    "    print(\"1. Jouer une nouvelle partie\")\n",
    "    print(\"2. Afficher les scores\")\n",
    "    print(\"x. Quitter le jeu\")\n",
    "\n",
    "    choice = input(\"Entrez votre choix : \").lower().strip()\n",
    "    valid_choices = [\"1\", \"2\", \"x\", \"q\"]\n",
    "\n",
    "    if choice not in valid_choices:\n",
    "        print(\"❌ Choix invalide.\")\n",
    "        return None\n",
    "    return choice"
   ]
  },
  {
   "cell_type": "code",
   "execution_count": 5,
   "id": "2bac6c11",
   "metadata": {},
   "outputs": [],
   "source": [
    "# 📊 2. Afficher les résultats\n",
    "def print_results(results):\n",
    "    print(\"\\n=== Résumé des scores ===\")\n",
    "    print(f\"🏆 Victoires : {results['win']}\")\n",
    "    print(f\"💥 Défaites : {results['loss']}\")\n",
    "    print(f\"⚖️ Égalités : {results['draw']}\")\n",
    "    total = sum(results.values())\n",
    "    print(f\"🎮 Parties jouées : {total}\")\n",
    "    print(\"🙏 Merci d'avoir joué !\")"
   ]
  },
  {
   "cell_type": "code",
   "execution_count": 6,
   "id": "ff10c17f",
   "metadata": {},
   "outputs": [],
   "source": [
    "# 🔁 3. Boucle principale\n",
    "def main():\n",
    "    results = {\"win\": 0, \"loss\": 0, \"draw\": 0}\n",
    "\n",
    "    while True:\n",
    "        choice = get_user_menu_choice()\n",
    "        if choice is None:\n",
    "            continue\n",
    "        elif choice in [\"x\", \"q\"]:\n",
    "            break\n",
    "        elif choice == \"1\":\n",
    "            result = play_round()\n",
    "            results[result] += 1\n",
    "        elif choice == \"2\":\n",
    "            print_results(results)\n",
    "\n",
    "    print_results(results)"
   ]
  },
  {
   "cell_type": "code",
   "execution_count": null,
   "id": "5ee3c379",
   "metadata": {},
   "outputs": [],
   "source": [
    "\n",
    "# 🚀 Lancer le programme\n",
    "if __name__ == \"__main__\":\n",
    "    main()"
   ]
  }
 ],
 "metadata": {
  "kernelspec": {
   "display_name": "Python 3",
   "language": "python",
   "name": "python3"
  },
  "language_info": {
   "codemirror_mode": {
    "name": "ipython",
    "version": 3
   },
   "file_extension": ".py",
   "mimetype": "text/x-python",
   "name": "python",
   "nbconvert_exporter": "python",
   "pygments_lexer": "ipython3",
   "version": "3.11.9"
  }
 },
 "nbformat": 4,
 "nbformat_minor": 5
}
