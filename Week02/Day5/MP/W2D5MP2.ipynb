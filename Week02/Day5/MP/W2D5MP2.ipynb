{
  "nbformat": 4,
  "nbformat_minor": 0,
  "metadata": {
    "colab": {
      "provenance": [],
      "authorship_tag": "ABX9TyNpkFpPLiuXTI1sFdvYXfOT",
      "include_colab_link": true
    },
    "kernelspec": {
      "name": "python3",
      "display_name": "Python 3"
    },
    "language_info": {
      "name": "python"
    }
  },
  "cells": [
    {
      "cell_type": "markdown",
      "metadata": {
        "id": "view-in-github",
        "colab_type": "text"
      },
      "source": [
        "<a href=\"https://colab.research.google.com/github/arquansa/PSTB-exercises/blob/main/Week02/Day5/MP/W2D5MP2.ipynb\" target=\"_parent\"><img src=\"https://colab.research.google.com/assets/colab-badge.svg\" alt=\"Open In Colab\"/></a>"
      ]
    },
    {
      "cell_type": "markdown",
      "source": [
        "#Mini-projet Tic Tac Toe\n",
        "En Python, jeu respectant :\n",
        "- Les bonnes pratiques (fonctions dédiées)\n",
        "- Le principe de responsabilité unique\n",
        "- L’interactivité console (pour 2 joueurs)\n",
        "\n"
      ],
      "metadata": {
        "id": "rBOju_a9hKPM"
      }
    },
    {
      "cell_type": "markdown",
      "source": [
        " #Code du jeu Tic Tac Toe :"
      ],
      "metadata": {
        "id": "4dJmcjzQrHqg"
      }
    },
    {
      "cell_type": "markdown",
      "source": [
        "Présentation de la grile de jeu"
      ],
      "metadata": {
        "id": "tOWmCfObyrm-"
      }
    },
    {
      "cell_type": "code",
      "source": [
        "# 📦 Afficher la grille de jeu\n",
        "def display_board(board):\n",
        "    print(\"\\n\")\n",
        "    for row in board:\n",
        "        print(\" | \".join(row))\n",
        "        print(\"-\" * 9)\n",
        "    print(\"\\n\")"
      ],
      "metadata": {
        "id": "Lerw1z0FxN-N"
      },
      "execution_count": 6,
      "outputs": []
    },
    {
      "cell_type": "markdown",
      "source": [
        "Invite à jouer sur la grille"
      ],
      "metadata": {
        "id": "YgJYzcMZy0_U"
      }
    },
    {
      "cell_type": "code",
      "source": [
        "# 🎮 Demander au joueur où jouer\n",
        "def player_input(player, board):\n",
        "    while True:\n",
        "        try:\n",
        "            pos = int(input(f\"Joueur {player}, choisis une case (1-9) : \"))\n",
        "            if pos < 1 or pos > 9:\n",
        "                print(\"⚠️ Choix invalide. Entrez un nombre entre 1 et 9.\")\n",
        "                continue\n",
        "            row, col = divmod(pos - 1, 3)\n",
        "            if board[row][col] != \" \":\n",
        "                print(\"⚠️ Case déjà prise. Choisis-en une autre.\")\n",
        "                continue\n",
        "            return row, col\n",
        "        except ValueError:\n",
        "            print(\"⚠️ Entrée non valide. Entrez un nombre entre 1 et 9.\")"
      ],
      "metadata": {
        "id": "Kc3IjeTVxNDo"
      },
      "execution_count": 7,
      "outputs": []
    },
    {
      "cell_type": "markdown",
      "source": [
        "Vérifier le résultat des joueurs"
      ],
      "metadata": {
        "id": "oJ2upDTsznCJ"
      }
    },
    {
      "cell_type": "code",
      "source": [
        "\n",
        "# ✅ Vérifier si un joueur a gagné\n",
        "def check_win(board, player):\n",
        "    # Lignes, colonnes, diagonales\n",
        "    win_conditions = (\n",
        "        # Lignes\n",
        "        [board[0], board[1], board[2]],\n",
        "        # Colonnes\n",
        "        [[board[r][c] for r in range(3)] for c in range(3)],\n",
        "        # Diagonales\n",
        "        [[board[i][i] for i in range(3)], [board[i][2 - i] for i in range(3)]],\n",
        "    )\n",
        "    for condition_group in win_conditions:\n",
        "        for line in condition_group:\n",
        "            if all(cell == player for cell in line):\n",
        "                return True\n",
        "    return False\n"
      ],
      "metadata": {
        "id": "Xqo8xJS0wl5O"
      },
      "execution_count": 8,
      "outputs": []
    },
    {
      "cell_type": "markdown",
      "source": [
        "Fonction principale\n",
        "- accueil dans le jeu\n",
        "- annonce du gagnant"
      ],
      "metadata": {
        "id": "cGp4n9ei0lAa"
      }
    },
    {
      "cell_type": "code",
      "source": [
        "# 🔁 Fonction principale\n",
        "def play():\n",
        "    board = [[\" \" for _ in range(3)] for _ in range(3)]\n",
        "    current_player = \"X\"\n",
        "    turn_count = 0\n",
        "\n",
        "    print(\"🎉 Bienvenue dans le jeu du Tic Tac Toe !\")\n",
        "    display_board(board)\n",
        "\n",
        "    while turn_count < 9:\n",
        "        row, col = player_input(current_player, board)\n",
        "        board[row][col] = current_player\n",
        "        display_board(board)\n",
        "\n",
        "        if check_win(board, current_player):\n",
        "            print(f\"🏆 Joueur {current_player} a gagné ! Bravo !\")\n",
        "            return\n",
        "        # Changer de joueur\n",
        "        current_player = \"X\" if current_player == \"O\" else \"O\"\n",
        "        turn_count += 1\n",
        "    # Vérifier égalité\n",
        "    if turn_count == 9:\n",
        "      print(\"🤝 Match nul !\")\n"
      ],
      "metadata": {
        "id": "iGVvQUCzyJdQ"
      },
      "execution_count": 20,
      "outputs": []
    },
    {
      "cell_type": "markdown",
      "source": [
        "Lancement du jeu"
      ],
      "metadata": {
        "id": "pDWouf7p02qR"
      }
    },
    {
      "cell_type": "code",
      "source": [
        "# 🚀 Lancer le jeu\n",
        "if __name__ == \"__main__\":\n",
        "    play()"
      ],
      "metadata": {
        "id": "9I7F8weNxA8Y"
      },
      "execution_count": null,
      "outputs": []
    },
    {
      "cell_type": "markdown",
      "source": [
        "📌 Functions run at each turn:\n",
        "\n",
        "✅ Display the Board Players\n",
        "\n",
        "✅ Get and Validate Player\n",
        "\n",
        "✅ check move\n",
        "\n",
        "✅ check victory or equality\n",
        "\n",
        "✅ Change player\n",
        "\n"
      ],
      "metadata": {
        "id": "uKWaO1hDt96k"
      }
    }
  ]
}