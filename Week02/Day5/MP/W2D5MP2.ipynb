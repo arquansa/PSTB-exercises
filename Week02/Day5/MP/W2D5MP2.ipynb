{
  "nbformat": 4,
  "nbformat_minor": 0,
  "metadata": {
    "colab": {
      "provenance": [],
      "authorship_tag": "ABX9TyOH78PWZN8eyhwcy/Zu6ajH",
      "include_colab_link": true
    },
    "kernelspec": {
      "name": "python3",
      "display_name": "Python 3"
    },
    "language_info": {
      "name": "python"
    }
  },
  "cells": [
    {
      "cell_type": "markdown",
      "metadata": {
        "id": "view-in-github",
        "colab_type": "text"
      },
      "source": [
        "<a href=\"https://colab.research.google.com/github/arquansa/PSTB-exercises/blob/main/Week02/Day5/MP/W2D5MP2.ipynb\" target=\"_parent\"><img src=\"https://colab.research.google.com/assets/colab-badge.svg\" alt=\"Open In Colab\"/></a>"
      ]
    },
    {
      "cell_type": "markdown",
      "source": [
        "Mini-Project - Tic Tac Toe\n",
        "Last Updated: March 6th, 2025\n",
        "\n",
        "👩‍🏫 👩🏿‍🏫 What You’ll learn\n",
        "Conditionals\n",
        "Loops\n",
        "Functions\n",
        "\n",
        "\n",
        "🛠️ What you will create\n",
        "Create a TicTacToe game in python, where two users can play together."
      ],
      "metadata": {
        "id": "KWzAb2ddkaAJ"
      }
    },
    {
      "cell_type": "markdown",
      "source": [
        "Here’s a simple but fully functional Tic Tac Toe mini-project in Python based on your instructions. This version includes all four suggested functions and adheres to good programming practices like the Single Responsibility Principle.\n",
        "\n",
        "Features:\n",
        "Two human players\n",
        "\n",
        "Input validation\n",
        "\n",
        "Win/tie detection\n",
        "\n",
        "Clear board display\n",
        "\n",
        "\n",
        "Core Functions:\n",
        "display_board() – Show the board.\n",
        "\n",
        "player_input(player) – Get and validate input.\n",
        "\n",
        "check_win(board, mark) – Check win condition.\n",
        "\n",
        "play() – Main game loop.\n",
        "\n",
        "💻 Full Python Code:"
      ],
      "metadata": {
        "id": "96t-STqhfik0"
      }
    },
    {
      "cell_type": "code",
      "source": [
        "def display_board(board):\n",
        "    print(\"\\n\")\n",
        "    print(f\" {board[0]} | {board[1]} | {board[2]} \")\n",
        "    print(\"---|---|---\")\n",
        "    print(f\" {board[3]} | {board[4]} | {board[5]} \")\n",
        "    print(\"---|---|---\")\n",
        "    print(f\" {board[6]} | {board[7]} | {board[8]} \")\n",
        "    print(\"\\n\")\n",
        "\n",
        "def player_input(player, board):\n",
        "    while True:\n",
        "        try:\n",
        "            position = int(input(f\"Player {player}, enter your move (1-9): \")) - 1\n",
        "            if position < 0 or position > 8:\n",
        "                print(\"Invalid position. Please choose a number between 1 and 9.\")\n",
        "            elif board[position] != \" \":\n",
        "                print(\"Position already taken. Choose another.\")\n",
        "            else:\n",
        "                return position\n",
        "        except ValueError:\n",
        "            print(\"Invalid input. Please enter a number.\")\n",
        "\n",
        "def check_win(board, mark):\n",
        "    win_conditions = [\n",
        "        [0, 1, 2], [3, 4, 5], [6, 7, 8],  # Rows\n",
        "        [0, 3, 6], [1, 4, 7], [2, 5, 8],  # Columns\n",
        "        [0, 4, 8], [2, 4, 6]              # Diagonals\n",
        "    ]\n",
        "    for condition in win_conditions:\n",
        "        if all(board[i] == mark for i in condition):\n",
        "            return True\n",
        "    return False\n",
        "\n",
        "def play():\n",
        "    board = [\" \"] * 9\n",
        "    current_player = \"X\"\n",
        "    turn_count = 0\n",
        "    print(\"Welcome to Tic Tac Toe!\\n\")\n",
        "    display_board([str(i+1) for i in range(9)])  # Show position guide\n",
        "    while turn_count < 9:\n",
        "        display_board(board)\n",
        "        position = player_input(current_player, board)\n",
        "        board[position] = current_player\n",
        "        if check_win(board, current_player):\n",
        "            display_board(board)\n",
        "            print(f\"Player {current_player} wins!\")\n",
        "            return\n",
        "        current_player = \"O\" if current_player == \"X\" else \"X\"\n",
        "        turn_count += 1\n",
        "\n",
        "    display_board(board)\n",
        "    print(\"It's a tie!\")\n",
        "\n",
        "# Run the game\n",
        "play()\n"
      ],
      "metadata": {
        "id": "hAu4AtAVhDBI"
      },
      "execution_count": null,
      "outputs": []
    },
    {
      "cell_type": "markdown",
      "source": [
        "Sample Output (when playing):"
      ],
      "metadata": {
        "id": "TjNSuPl7hQVJ"
      }
    },
    {
      "cell_type": "markdown",
      "source": [
        "Welcome to Tic Tac Toe!\n",
        "\n",
        " 1 | 2 | 3\n",
        "---|---|---\n",
        " 4 | 5 | 6\n",
        "---|---|---\n",
        " 7 | 8 | 9\n",
        "\n",
        "Player X, enter your move (1-9):"
      ],
      "metadata": {
        "id": "6McUiSb4FVrk"
      }
    },
    {
      "cell_type": "markdown",
      "source": [
        "Tips : Consider the following:\n",
        "What functionality will need to accur every turn to make this program work?\n",
        "After contemplating the question above, think about splitting your code into smaller pieces (functions).\n",
        "Remember to follow the single responsibility principle! each function should do one thing and do it well!\n",
        "\n",
        "✅ Functionality Required Every Turn:\n",
        "1. Display the Board\n",
        "Players need to see the current state of the board before making a move.\n",
        "2. Get and Validate Player Input\n",
        "The program must ask the current player for a position and validate it (e.g. not taken, within range).\n",
        "3. Update the Board"
      ],
      "metadata": {
        "id": "ni3utyH2h515"
      }
    },
    {
      "cell_type": "markdown",
      "source": [
        "Functions run at each turn:\n",
        "\n",
        "✅ Display the Board Players\n",
        "\n",
        "✅ Get and Validate Player\n",
        "\n",
        "✅ check move"
      ],
      "metadata": {
        "id": "6HERIhpE9xi_"
      }
    }
  ]
}