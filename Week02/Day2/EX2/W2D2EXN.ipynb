{
  "nbformat": 4,
  "nbformat_minor": 0,
  "metadata": {
    "colab": {
      "provenance": [],
      "authorship_tag": "ABX9TyOzZeOCtGCGfNypEJPg1Vzb",
      "include_colab_link": true
    },
    "kernelspec": {
      "name": "python3",
      "display_name": "Python 3"
    },
    "language_info": {
      "name": "python"
    }
  },
  "cells": [
    {
      "cell_type": "markdown",
      "metadata": {
        "id": "view-in-github",
        "colab_type": "text"
      },
      "source": [
        "<a href=\"https://colab.research.google.com/github/arquansa/PSTB-exercises/blob/main/Week02/Day2/EX2/W2D2EXN.ipynb\" target=\"_parent\"><img src=\"https://colab.research.google.com/assets/colab-badge.svg\" alt=\"Open In Colab\"/></a>"
      ]
    },
    {
      "cell_type": "markdown",
      "source": [
        "#Exercises XP Ninja\n",
        "Last Updated: January 31st, 2025\n",
        "\n",
        "👩‍🏫 👩🏿‍🏫 What You’ll learn\n",
        "In these exercises, you will enhance your skills in Python by handling strings, lists, and functions. You will also learn about manipulating data structures and implementing basic algorithms. These exercises will sharpen your problem-solving skills and deepen your understanding of Python’s built-in functions and methods.\n",
        "\n",
        "🛠️ What you will create\n",
        "You will create Python scripts that manipulate lists and strings, handle optional function parameters, and convert text between English and Morse code. This will include data cleaning, complex list manipulations, and practical use of loops and conditions to solve various problems.\n",
        "\n",
        "Exercise 1: Cars\n",
        "\n",
        "Copy the following string into your code: Volkswagen, Toyota, Ford Motor, Honda, Chevrolet.\n",
        "\n",
        "Convert it into a list using Python (don’t do it by hand!).\n",
        "Print out a message saying how many manufacturers/companies are in the list.\n",
        "\n",
        "Print the list of manufacturers in reverse/descending order (Z-A).\n",
        "\n",
        "Using loops or list comprehension:\n",
        "Find out how many manufacturers’ names have the letter o in them.\n",
        "Find out how many manufacturers’ names do not have the letter i in them.\n",
        "\n",
        "Bonus:\n",
        "\n",
        "There are a few duplicates in this list: [\"Honda\", \"Volkswagen\", \"Toyota\", \"Ford Motor\", \"Honda\", \"Chevrolet\", \"Toyota\"]\n",
        "\n",
        "Remove these programmatically. (Hint: you can use a set to help you).\n",
        "\n",
        "Print out the companies without duplicates, in a comma-separated string with no line-breaks (e.g., “Acura, Alfa Romeo, Aston Martin, …”),\n",
        "also print out a message saying how many companies are now in the list.\n",
        "Bonus:\n",
        "\n",
        "Print out the list of manufacturers in ascending order (A-Z), but reverse the letters of each manufacturer’s name.\n",
        "\n",
        "Exercise 2: What’s your name?\n",
        "Write a function called get_full_name() that takes three arguments: 1: first_name, 2: middle_name, 3: last_name.\n",
        "\n",
        "middle_name should be optional; if it’s omitted by the user, the name returned should only contain the first and the last name.\n",
        "\n",
        "For example, get_full_name(first_name=\"john\", middle_name=\"hooker\", last_name=\"lee\") will return “John Hooker Lee”.\n",
        "\n",
        "But get_full_name(first_name=\"bruce\", last_name=\"lee\") will return “Bruce Lee”.\n",
        "\n",
        "Exercise 3: From English to Morse\n",
        "\n",
        "Write a function that converts English text to Morse code and another one that does the opposite.\n",
        "Hint: Check the internet for a translation table, every letter is separated with a space and every word is separated with a slash /."
      ],
      "metadata": {
        "id": "BRwNcw9Xv-SO"
      }
    },
    {
      "cell_type": "markdown",
      "source": [
        "#Exercise 1: Cars\n",
        "\n",
        "```\n",
        "# Ce texte est au format code\n",
        "```\n",
        "\n"
      ],
      "metadata": {
        "id": "o32-dHA4x9Y8"
      }
    },
    {
      "cell_type": "code",
      "source": [
        "from collections import OrderedDict\n",
        "\n",
        "# 1. Convert string into a list\n",
        "cars_str = \"Volkswagen, Toyota, Ford Motor, Honda, Chevrolet\"\n",
        "cars_list = [name.strip() for name in cars_str.split(\",\")]\n",
        "\n",
        "# Print how many manufacturers there are\n",
        "print(f\"There are {len(cars_list)} manufacturers in the list.\")\n",
        "\n",
        "# 2. Print manufacturers in descending (Z–A) order\n",
        "desc = sorted(cars_list, reverse=True)\n",
        "print(\"Descending order:\", desc)\n",
        "\n",
        "# 3. Count names containing 'o' and those without 'i'\n",
        "contains_o = sum(1 for name in cars_list if 'o' in name.lower())\n",
        "without_i = sum(1 for name in cars_list if 'i' not in name.lower())\n",
        "print(f\"Names containing 'o': {contains_o}\")\n",
        "print(f\"Names without 'i': {without_i}\")\n",
        "\n",
        "# Bonus: Remove duplicates programmatically\n",
        "cars_with_dupes = [\"Honda\", \"Volkswagen\", \"Toyota\", \"Ford Motor\", \"Honda\", \"Chevrolet\", \"Toyota\"]\n",
        "unique_cars = list(dict.fromkeys(cars_with_dupes))  # preserves order\n",
        "\n",
        "print(f\"Unique companies ({len(unique_cars)}): \" + \", \".join(unique_cars))\n",
        "\n",
        "# Bonus 2: Ascending order (A–Z), with names reversed\n",
        "rev_asc = [name[::-1] for name in sorted(unique_cars)]\n",
        "print(\"Reversed names in ascending order:\", rev_asc)\n"
      ],
      "metadata": {
        "id": "oL8O36Nmx8tt"
      },
      "execution_count": null,
      "outputs": []
    },
    {
      "cell_type": "markdown",
      "source": [
        "Sample outputs"
      ],
      "metadata": {
        "id": "nVWdutJJ163V"
      }
    },
    {
      "cell_type": "code",
      "source": [
        "There are 5 manufacturers in the list.\n",
        "Descending order: ['Volkswagen', 'Toyota', 'Honda', 'Ford Motor', 'Chevrolet']\n",
        "Names containing 'o': 4\n",
        "Names without 'i': 5\n",
        "Unique companies (5): Honda, Volkswagen, Toyota, Ford Motor, Chevrolet\n",
        "Reversed names in ascending order: ['adnhoH', 'regelehcvoC', 'rotiatoyT', 'rogruM droF', 'negawskloV']\n"
      ],
      "metadata": {
        "id": "04GhWnlrx8Py"
      },
      "execution_count": null,
      "outputs": []
    },
    {
      "cell_type": "markdown",
      "source": [
        "#Exercise 2: What’s your name?"
      ],
      "metadata": {
        "id": "kINIoaDi4Kyg"
      }
    },
    {
      "cell_type": "markdown",
      "source": [
        "Implementation: get_full_name"
      ],
      "metadata": {
        "id": "-rd5Ikcqx75w"
      }
    },
    {
      "cell_type": "code",
      "execution_count": null,
      "metadata": {
        "id": "oMo0fVyQv9Ut"
      },
      "outputs": [],
      "source": [
        "def get_full_name(first_name, last_name, middle_name=\"\"):\n",
        "    \"\"\"\n",
        "    Return the full name, properly formatted.\n",
        "    If middle_name is provided, include it; otherwise, omit it.\n",
        "    \"\"\"\n",
        "    if middle_name:\n",
        "        full_name = f\"{first_name} {middle_name} {last_name}\"\n",
        "    else:\n",
        "        full_name = f\"{first_name} {last_name}\"\n",
        "    return full_name.title()\n"
      ]
    },
    {
      "cell_type": "markdown",
      "source": [
        "Example usage"
      ],
      "metadata": {
        "id": "fox1wJ_h20Dl"
      }
    },
    {
      "cell_type": "code",
      "source": [
        "print(get_full_name(first_name=\"john\", middle_name=\"hooker\", last_name=\"lee\"))\n",
        "# Output: John Hooker Lee\n",
        "\n",
        "print(get_full_name(first_name=\"bruce\", last_name=\"lee\"))\n",
        "# Output: Bruce Lee\n"
      ],
      "metadata": {
        "id": "qZwRP6Kh200P"
      },
      "execution_count": null,
      "outputs": []
    },
    {
      "cell_type": "markdown",
      "source": [
        "#Exercise 3: : From English to Morse\n",
        "\n",
        "Implementation: English ↔ Morse Code Translator"
      ],
      "metadata": {
        "id": "SyOuthI_30sE"
      }
    },
    {
      "cell_type": "code",
      "source": [
        "# Mapping from English letters and digits to Morse code\n",
        "MORSE_CODE_DICT = {\n",
        "    'A': '.-', 'B': '-...', 'C': '-.-.', 'D': '-..', 'E': '.',\n",
        "    'F': '..-.', 'G': '--.', 'H': '....', 'I': '..', 'J': '.---',\n",
        "    'K': '-.-', 'L': '.-..', 'M': '--', 'N': '-.', 'O': '---',\n",
        "    'P': '.--.', 'Q': '--.-', 'R': '.-.', 'S': '...', 'T': '-',\n",
        "    'U': '..-', 'V': '...-', 'W': '.--', 'X': '-..-', 'Y': '-.--',\n",
        "    'Z': '--..', '1': '.----', '2': '..---', '3': '...--',\n",
        "    '4': '....-', '5': '.....', '6': '-....', '7': '--...',\n",
        "    '8': '---..', '9': '----.', '0': '-----',\n",
        "    ' ': '/'  # Use slash to separate words\n",
        "}\n",
        "\n",
        "# Reverse mapping for decoding\n",
        "MORSE_REVERSE_DICT = {morse: char for char, morse in MORSE_CODE_DICT.items()}\n",
        "\n",
        "def english_to_morse(text):\n",
        "    \"\"\"Convert English text to Morse code.\n",
        "    Letters separated by spaces, words by slash (/).\"\"\"\n",
        "    return ' '.join(MORSE_CODE_DICT.get(ch.upper(), '') for ch in text)\n",
        "\n",
        "def morse_to_english(morse_code):\n",
        "    \"\"\"Convert Morse code to English text.\n",
        "    Words separated by slash, letters by spaces.\"\"\"\n",
        "    words = morse_code.split(' / ')\n",
        "    decoded = []\n",
        "    for word in words:\n",
        "        letters = word.split()\n",
        "        decoded.append(''.join(MORSE_REVERSE_DICT.get(letter, '') for letter in letters))\n",
        "    return ' '.join(decoded)\n",
        "\n",
        "# Example Usage\n",
        "if __name__ == \"__main__\":\n",
        "    sample = \"Hello World\"\n",
        "    morse = english_to_morse(sample)\n",
        "    print(\"English:\", sample)\n",
        "    print(\"Morse  :\", morse)\n",
        "\n",
        "    text_back = morse_to_english(morse)\n",
        "    print(\"Decoded:\", text_back)\n"
      ],
      "metadata": {
        "id": "pO-T9hwH31Xj"
      },
      "execution_count": null,
      "outputs": []
    },
    {
      "cell_type": "markdown",
      "source": [
        "How It Works\n",
        "To Morse (english_to_morse):\n",
        "\n",
        "Iterates through each character, converting via MORSE_CODE_DICT.\n",
        "\n",
        "Letters are separated by spaces; words become separated by /.\n",
        "\n",
        "From Morse (morse_to_english):\n",
        "\n",
        "Splits the input by / to get words, then splits each word by spaces to get letters.\n",
        "\n",
        "Looks up each Morse sequence in MORSE_REVERSE_DICT.\n",
        "\n",
        "Joins them back into text.\n",
        "\n",
        "This approach follows practical solutions widely used in Morse code translators."
      ],
      "metadata": {
        "id": "ZJSI6yZ-31un"
      }
    }
  ]
}