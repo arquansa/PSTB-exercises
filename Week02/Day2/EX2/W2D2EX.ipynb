{
  "nbformat": 4,
  "nbformat_minor": 0,
  "metadata": {
    "colab": {
      "provenance": [],
      "authorship_tag": "ABX9TyMewv5vu9+lxzB7xDhLH7HA",
      "include_colab_link": true
    },
    "kernelspec": {
      "name": "python3",
      "display_name": "Python 3"
    },
    "language_info": {
      "name": "python"
    }
  },
  "cells": [
    {
      "cell_type": "markdown",
      "metadata": {
        "id": "view-in-github",
        "colab_type": "text"
      },
      "source": [
        "<a href=\"https://colab.research.google.com/github/arquansa/PSTB-exercises/blob/main/Week02/Day2/EX2/W2D2EX.ipynb\" target=\"_parent\"><img src=\"https://colab.research.google.com/assets/colab-badge.svg\" alt=\"Open In Colab\"/></a>"
      ]
    },
    {
      "cell_type": "markdown",
      "source": [
        "Exercises XP\n",
        "Last Updated: July 21st, 2025\n",
        "\n",
        "👩‍🏫 👩🏿‍🏫 What You’ll learn\n",
        "How to manipulate lists and dictionaries in Python.\n",
        "Implementing basic conditional logic.\n",
        "Creating, accessing, and modifying data in dictionaries.\n",
        "Using Python’s built-in functions like zip, map, filter, and reduce to work with collections.\n",
        "Handling user inputs and validating data.\n",
        "\n",
        "\n",
        "🛠️ What you will create\n",
        "A set of Python scripts that convert lists to dictionaries, handle conditional pricing logic, manage and modify dictionary data, and utilize user input to interactively retrieve and display data.\n",
        "\n",
        "\n",
        "🌟 Exercise 1: Converting Lists into Dictionaries\n",
        "Key Python Topics:\n",
        "\n",
        "Creating dictionaries\n",
        "Zip function or dictionary comprehension\n",
        "\n",
        "\n",
        "Instructions\n",
        "\n",
        "You are given two lists. Convert them into a dictionary where the first list contains the keys and the second list contains the corresponding values.\n",
        "\n",
        "\n",
        "\n",
        "Lists:\n",
        "\n",
        "keys = ['Ten', 'Twenty', 'Thirty']\n",
        "values = [10, 20, 30]\n",
        "\n",
        "\n",
        "Expected Output:\n",
        "\n",
        "{'Ten': 10, 'Twenty': 20, 'Thirty': 30}\n",
        "\n",
        "\n",
        "🌟 Exercise 2: Cinemax #2\n",
        "Key Python Topics:\n",
        "\n",
        "Looping through dictionaries\n",
        "Conditionals\n",
        "Calculations\n",
        "\n",
        "\n",
        "Instructions\n",
        "\n",
        "Write a program that calculates the total cost of movie tickets for a family based on their ages.\n",
        "\n",
        "Family members’ ages are stored in a dictionary.\n",
        "The ticket pricing rules are as follows:\n",
        "Under 3 years old: Free\n",
        "3 to 12 years old: $10\n",
        "Over 12 years old: $15\n",
        "\n",
        "\n",
        "Family Data:\n",
        "\n",
        "family = {\"rick\": 43, 'beth': 13, 'morty': 5, 'summer': 8}\n",
        "\n",
        "\n",
        "Loop through the family dictionary to calculate the total cost.\n",
        "Print the ticket price for each family member.\n",
        "Print the total cost at the end.\n",
        "\n",
        "\n",
        "Bonus:\n",
        "\n",
        "Allow the user to input family members’ names and ages, then calculate the total ticket cost.\n",
        "\n",
        "\n",
        "\n",
        "🌟 Exercise 3: Zara\n",
        "Key Python Topics:\n",
        "\n",
        "Creating dictionaries\n",
        "Accessing and modifying dictionary elements\n",
        "Dictionary methods like .pop() and .update()\n",
        "\n",
        "\n",
        "Instructions\n",
        "\n",
        "Create and manipulate a dictionary that contains information about the Zara brand.\n",
        "\n",
        "\n",
        "\n",
        "Brand Information:\n",
        "\n",
        "name: Zara\n",
        "creation_date: 1975\n",
        "creator_name: Amancio Ortega Gaona\n",
        "type_of_clothes: men, women, children, home\n",
        "international_competitors: Gap, H&M, Benetton\n",
        "number_stores: 7000\n",
        "major_color:\n",
        "    France: blue,\n",
        "    Spain: red,\n",
        "    US: pink, green\n",
        "\n",
        "\n",
        "Create a dictionary called brand with the provided data.\n",
        "Modify and access the dictionary as follows:\n",
        "Change the value of number_stores to 2.\n",
        "Print a sentence describing Zara’s clients using the type_of_clothes key.\n",
        "Add a new key country_creation with the value Spain.\n",
        "Check if international_competitors exists and, if so, add “Desigual” to the list.\n",
        "Delete the creation_date key.\n",
        "Print the last item in international_competitors.\n",
        "Print the major colors in the US.\n",
        "Print the number of keys in the dictionary.\n",
        "Print all keys of the dictionary.\n",
        "\n",
        "\n",
        "Bonus:\n",
        "\n",
        "Create another dictionary called more_on_zara with creation_date and number_stores. Merge this dictionary with the original brand dictionary and print the result.\n",
        "\n",
        "\n",
        "\n",
        "🌟 Exercise 4 : Some Geography\n",
        "Goal: Create a function that describes a city and its country.\n",
        "\n",
        "Key Python Topics:\n",
        "\n",
        "Functions with multiple parameters\n",
        "Default parameter values\n",
        "String formatting\n",
        "\n",
        "\n",
        "Step 1: Define a Function with Parameters\n",
        "\n",
        "Define a function named describe_city().\n",
        "This function should accept two parameters: city and country.\n",
        "Give the country parameter a default value, such as “Unknown”.\n",
        "\n",
        "\n",
        "Step 2: Print a Message\n",
        "\n",
        "Inside the function, set up the code to display a sentence like “ is in “.\n",
        "Replace <city> and <country> with the parameter values.\n",
        "\n",
        "\n",
        "Step 3: Call the Function\n",
        "\n",
        "Call the describe_city() function with different city and country combinations.\n",
        "Try calling it with and without providing the country argument to see the default value in action.\n",
        "Example: describe_city(\"Reykjavik\", \"Iceland\") and describe_city(\"Paris\").\n",
        "\n",
        "\n",
        "Expected Output:\n",
        "\n",
        "Reykjavik is in Iceland.\n",
        "Paris is in Unknown.\n",
        "\n",
        "\n",
        "🌟 Exercise 5 : Random\n",
        "Goal: Create a function that generates random numbers and compares them.\n",
        "\n",
        "Key Python Topics:\n",
        "\n",
        "random module\n",
        "random.randint() function\n",
        "Conditional statements (if, else)\n",
        "\n",
        "\n",
        "Step 1: Import the random Module\n",
        "\n",
        "At the beginning of your script, use import random to access the random number generation functions.\n",
        "\n",
        "\n",
        "Step 2: Define a Function with a Parameter\n",
        "\n",
        "Create a function that accepts a number between 1 and 100 as a parameter.\n",
        "\n",
        "\n",
        "Step 3: Generate a Random Number\n",
        "\n",
        "Inside the function, use random.randint(1, 100) to generate a random integer between 1 and 100.\n",
        "\n",
        "\n",
        "Step 4: Compare the Numbers\n",
        "\n",
        "If they are the same, print a success message. Otherwise, print a fail message and display both numbers.\n",
        "\n",
        "\n",
        "Step 5: Call the Function\n",
        "\n",
        "Call the function with a number between 1 and 100.\n",
        "\n",
        "\n",
        "Expected Output:\n",
        "\n",
        "Success! (if the numbers match)\n",
        "Fail! Your number: 50, Random number: 23 (if they don't match)\n",
        "\n",
        "\n",
        "🌟 Exercise 6 : Let’s create some personalized shirts !\n",
        "Goal: Create a function to describe a shirt’s size and message, with default values.\n",
        "\n",
        "Key Python Topics:\n",
        "\n",
        "Functions with parameters and default values\n",
        "Keyword arguments\n",
        "\n",
        "\n",
        "Step 1: Define a Function with Parameters\n",
        "\n",
        "Define a function called make_shirt().\n",
        "This function should accept two parameters: size and text.\n",
        "\n",
        "\n",
        "Step 2: Print a Summary Message\n",
        "\n",
        "Set up the function to display a sentence summarizing the shirt’s size and message.\n",
        "\n",
        "\n",
        "Step 3: Call the Function\n",
        "\n",
        "\n",
        "\n",
        "Step 4: Modify the Function with Default Values\n",
        "\n",
        "Modify the make_shirt() function so that size has a default value of “large” and text has a default value of “I love Python”.\n",
        "\n",
        "\n",
        "Step 5: Call the Function with Default and Custom Values\n",
        "\n",
        "Call make_shirt() to make a large shirt with the default message.\n",
        "Call make_shirt() to make a medium shirt with the default message.\n",
        "Call make_shirt() to make a shirt of any size with a different message.\n",
        "\n",
        "\n",
        "Step 6 (Bonus): Keyword Arguments\n",
        "\n",
        "Call make_shirt() using keyword arguments (e.g., make_shirt(size=\"small\", text=\"Hello!\")).\n",
        "\n",
        "\n",
        "Expected Output:\n",
        "\n",
        "The size of the shirt is large and the text is I love Python.\n",
        "The size of the shirt is medium and the text is I love Python.\n",
        "The size of the shirt is small and the text is Custom message.\n",
        "\n",
        "\n",
        "🌟 Exercise 7 : Temperature Advice\n",
        "Goal: Generate a random temperature and provide advice based on the temperature range.\n",
        "\n",
        "Key Python Topics:\n",
        "\n",
        "Functions\n",
        "Conditionals (if / elif)\n",
        "Random numbers\n",
        "Floating-point numbers (Bonus)\n",
        "Handling seasons (Bonus)\n",
        "\n",
        "\n",
        "Step 1: Create the get_random_temp() Function\n",
        "\n",
        "Create a function called get_random_temp() that returns a random integer between -10 and 40 degrees Celsius.\n",
        "\n",
        "\n",
        "Step 2: Create the main() Function\n",
        "\n",
        "Create a function called main(). Inside this function:\n",
        "Call get_random_temp() to get a random temperature.\n",
        "Store the temperature in a variable and print a friendly message like:\n",
        "“The temperature right now is 32 degrees Celsius.”\n",
        "\n",
        "\n",
        "Step 3: Provide Temperature-Based Advice\n",
        "\n",
        "Inside main(), provide advice based on the temperature:\n",
        "Below 0°C: e.g., “Brrr, that’s freezing! Wear some extra layers today.”\n",
        "Between 0°C and 16°C: e.g., “Quite chilly! Don’t forget your coat.”\n",
        "Between 16°C and 23°C: e.g., “Nice weather.”\n",
        "Between 24°C and 32°C: e.g., “A bit warm, stay hydrated.”\n",
        "Between 32°C and 40°C: e.g., “It’s really hot! Stay cool.”\n",
        "\n",
        "\n",
        "Step 4: Floating-Point Temperatures (Bonus)\n",
        "\n",
        "Modify get_random_temp() to return a random floating-point number using random.uniform() for more accurate temperature values.\n",
        "\n",
        "\n",
        "Step 5: Month-Based Seasons (Bonus)\n",
        "\n",
        "Instead of directly generating a random temperature, ask the user for a month (1-12) and determine the season using if/elif conditions.\n",
        "Modify get_random_temp() to return temperatures specific to each season.\n",
        "\n",
        "\n",
        "Expected Output:\n",
        "\n",
        "The temperature right now is 32 degrees Celsius.\n",
        "It's really hot! Stay cool.\n",
        "\n",
        "\n",
        "🌟 Exercise 8: Pizza Toppings\n",
        "Key Python Topics:\n",
        "\n",
        "Loops\n",
        "Lists\n",
        "String formatting\n",
        "\n",
        "\n",
        "Instructions:\n",
        "\n",
        "Write a loop that asks the user to enter pizza toppings one by one.\n",
        "Stop the loop when the user types 'quit'.\n",
        "For each topping entered, print:\n",
        "\"Adding [topping] to your pizza.\"\n",
        "After exiting the loop, print all the toppings and the total cost of the pizza.\n",
        "The base price is $10, and each topping adds $2.50."
      ],
      "metadata": {
        "id": "SPpdrgSVc36q"
      }
    },
    {
      "cell_type": "markdown",
      "source": [
        "A dictionary is created using the two lists, first with a zip function, then with dictionary comprehension. The result is then printed."
      ],
      "metadata": {
        "id": "wpFJezEmmHC9"
      }
    },
    {
      "cell_type": "markdown",
      "source": [
        "Exercise 1: Converting Lists into Dictionaries Key Python Topics:\n",
        "\n",
        "Creating dictionaries Zip function or dictionary comprehension\n",
        "\n",
        "Instructions\n",
        "\n",
        "You are given two lists. Convert them into a dictionary where the first list contains the keys and the second list contains the corresponding values.\n",
        "\n",
        "Lists:\n",
        "\n",
        "keys = ['Ten', 'Twenty', 'Thirty'] values = [10, 20, 30]\n",
        "\n",
        "Expected Output:\n",
        "\n",
        "{'Ten': 10, 'Twenty': 20, 'Thirty': 30}"
      ],
      "metadata": {
        "id": "f8VgffX5dHvk"
      }
    },
    {
      "cell_type": "code",
      "metadata": {
        "colab": {
          "base_uri": "https://localhost:8080/"
        },
        "id": "9ae8e22c",
        "outputId": "5f7d2f27-92f0-4593-f393-d0b96931d830"
      },
      "source": [
        "keys = ['Ten', 'Twenty', 'Thirty']\n",
        "values = [10, 20, 30]\n",
        "\n",
        "# Using zip and dict()\n",
        "my_dict = dict(zip(keys, values))\n",
        "print(my_dict)\n",
        "\n",
        "# Using dictionary comprehension\n",
        "# my_dict = {keys[i]: values[i] for i in range(len(keys))}\n",
        "# print(my_dict)"
      ],
      "execution_count": null,
      "outputs": [
        {
          "output_type": "stream",
          "name": "stdout",
          "text": [
            "{'Ten': 10, 'Twenty': 20, 'Thirty': 30}\n"
          ]
        }
      ]
    },
    {
      "cell_type": "markdown",
      "source": [
        "A loop is used to associate each family member age with the price they must pay, then prices are added to find the Total family ticket cost."
      ],
      "metadata": {
        "id": "vY9qkLHymwjB"
      }
    },
    {
      "cell_type": "markdown",
      "source": [
        "Exercise 2: Cinemax #2 Key Python Topics:\n",
        "\n",
        "Looping through dictionaries Conditionals Calculations\n",
        "\n",
        "Instructions\n",
        "\n",
        "Write a program that calculates the total cost of movie tickets for a family based on their ages.\n",
        "\n",
        "Family members’ ages are stored in a dictionary. The ticket pricing rules are as follows: Under 3 years old: Free 3 to 12 years old:  10Over12yearsold: 15\n",
        "\n",
        "Family Data:\n",
        "\n",
        "family = {\"rick\": 43, 'beth': 13, 'morty': 5, 'summer': 8}\n",
        "\n",
        "Loop through the family dictionary to calculate the total cost. Print the ticket price for each family member. Print the total cost at the end.\n",
        "\n",
        "Bonus:\n",
        "\n",
        "Allow the user to input family members’ names and ages, then calculate the total ticket cost."
      ],
      "metadata": {
        "id": "FnIVX_5ReOH5"
      }
    },
    {
      "cell_type": "code",
      "metadata": {
        "colab": {
          "base_uri": "https://localhost:8080/"
        },
        "id": "a4e08c3b",
        "outputId": "aa6d0c0a-dcb2-43fb-b209-cd57e1783b45"
      },
      "source": [
        "family = {\"rick\": 43, 'beth': 13, 'morty': 5, 'summer': 8}\n",
        "total_cost = 0\n",
        "\n",
        "for name, age in family.items():\n",
        "  if age < 3:\n",
        "    price = 0\n",
        "  elif 3 <= age <= 12:\n",
        "    price = 10\n",
        "  else:\n",
        "    price = 15\n",
        "  print(f\"{name.capitalize()} is {age} years old. Ticket price: ${price}\")\n",
        "  total_cost += price\n",
        "\n",
        "print(f\"\\nTotal family ticket cost: ${total_cost}\")"
      ],
      "execution_count": null,
      "outputs": [
        {
          "output_type": "stream",
          "name": "stdout",
          "text": [
            "Rick is 43 years old. Ticket price: $15\n",
            "Beth is 13 years old. Ticket price: $15\n",
            "Morty is 5 years old. Ticket price: $10\n",
            "Summer is 8 years old. Ticket price: $10\n",
            "\n",
            "Total family ticket cost: $50\n"
          ]
        }
      ]
    },
    {
      "cell_type": "markdown",
      "source": [
        "A Zara dictionary is created and various manipulations are made on it:  \n",
        "- Changing the number of stores to 2,\n",
        "- Printing a sentence about Zara customers using the type_of_clothes key,\n",
        "- Creating the country_creation,\n",
        "- Checking the existence of international and if so adding Desigual to the list,\n",
        "- Deleting the date_creation key,\n",
        "- Printing the last item in international competitors,\n",
        "- Printing the major colours in the US,\n",
        "- The number of key in the dictionary, and\n",
        "- All keys of the dictionary"
      ],
      "metadata": {
        "id": "9vuwlYHQnp1l"
      }
    },
    {
      "cell_type": "markdown",
      "source": [
        "Exercise 3: Zara Key Python Topics:\n",
        "\n",
        "Creating dictionaries Accessing and modifying dictionary elements Dictionary methods like .pop() and .update()\n",
        "\n",
        "Instructions\n",
        "\n",
        "Create and manipulate a dictionary that contains information about the Zara brand.\n",
        "\n",
        "Brand Information:\n",
        "\n",
        "name: Zara creation_date: 1975 creator_name: Amancio Ortega Gaona type_of_clothes: men, women, children, home international_competitors: Gap, H&M, Benetton number_stores: 7000 major_color: France: blue, Spain: red, US: pink, green\n",
        "\n",
        "Create a dictionary called brand with the provided data. Modify and access the dictionary as follows: Change the value of number_stores to 2. Print a sentence describing Zara’s clients using the type_of_clothes key. Add a new key country_creation with the value Spain. Check if international_competitors exists and, if so, add “Desigual” to the list. Delete the creation_date key. Print the last item in international_competitors. Print the major colors in the US. Print the number of keys in the dictionary. Print all keys of the dictionary.\n",
        "\n",
        "Bonus:\n",
        "\n",
        "Create another dictionary called more_on_zara with creation_date and number_stores. Merge this dictionary with the original brand dictionary and print the result."
      ],
      "metadata": {
        "id": "jTEVueVhfUYb"
      }
    },
    {
      "cell_type": "code",
      "metadata": {
        "colab": {
          "base_uri": "https://localhost:8080/"
        },
        "id": "37916728",
        "outputId": "29beff48-c31a-486c-8cfb-4ae77cf619c0"
      },
      "source": [
        "brand = {\n",
        "    \"name\": \"Zara\",\n",
        "    \"creation_date\": 1975,\n",
        "    \"creator_name\": \"Amancio Ortega Gaona\",\n",
        "    \"type_of_clothes\": [\"men\", \"women\", \"children\", \"home\"],\n",
        "    \"international_competitors\": [\"Gap\", \"H&M\", \"Benetton\"],\n",
        "    \"number_stores\": 7000,\n",
        "    \"major_color\": {\n",
        "        \"France\": \"blue\",\n",
        "        \"Spain\": \"red\",\n",
        "        \"US\": [\"pink\", \"green\"]\n",
        "    }\n",
        "}\n",
        "\n",
        "# Change the value of number_stores to 2.\n",
        "brand[\"number_stores\"] = 2\n",
        "\n",
        "# Print a sentence describing Zara’s clients using the type_of_clothes key.\n",
        "print(f\"Zara's clients include: {', '.join(brand['type_of_clothes'])}\")\n",
        "\n",
        "# Add a new key country_creation with the value Spain.\n",
        "brand[\"country_creation\"] = \"Spain\"\n",
        "\n",
        "# Check if international_competitors exists and, if so, add “Desigual” to the list.\n",
        "if \"international_competitors\" in brand:\n",
        "  brand[\"international_competitors\"].append(\"Desigual\")\n",
        "\n",
        "# Delete the creation_date key.\n",
        "del brand[\"creation_date\"]\n",
        "\n",
        "# Print the last item in international_competitors.\n",
        "print(f\"The last international competitor is: {brand['international_competitors'][-1]}\")\n",
        "\n",
        "# Print the major colors in the US.\n",
        "print(f\"Major colors in the US: {', '.join(brand['major_color']['US'])}\")\n",
        "\n",
        "# Print the number of keys in the dictionary.\n",
        "print(f\"Number of keys in the brand dictionary: {len(brand)}\")\n",
        "\n",
        "# Print all keys of the dictionary.\n",
        "print(\"Keys in the brand dictionary:\")\n",
        "for key in brand.keys():\n",
        "  print(key)\n",
        "\n",
        "# Bonus: Merge with another dictionary\n",
        "more_on_zara = {\"creation_date\": 1975, \"number_stores\": 7000}\n",
        "brand.update(more_on_zara)\n",
        "print(\"\\nBrand dictionary after merging with more_on_zara:\")\n",
        "print(brand)"
      ],
      "execution_count": null,
      "outputs": [
        {
          "output_type": "stream",
          "name": "stdout",
          "text": [
            "Zara's clients include: men, women, children, home\n",
            "The last international competitor is: Desigual\n",
            "Major colors in the US: pink, green\n",
            "Number of keys in the brand dictionary: 7\n",
            "Keys in the brand dictionary:\n",
            "name\n",
            "creator_name\n",
            "type_of_clothes\n",
            "international_competitors\n",
            "number_stores\n",
            "major_color\n",
            "country_creation\n",
            "\n",
            "Brand dictionary after merging with more_on_zara:\n",
            "{'name': 'Zara', 'creator_name': 'Amancio Ortega Gaona', 'type_of_clothes': ['men', 'women', 'children', 'home'], 'international_competitors': ['Gap', 'H&M', 'Benetton', 'Desigual'], 'number_stores': 7000, 'major_color': {'France': 'blue', 'Spain': 'red', 'US': ['pink', 'green']}, 'country_creation': 'Spain', 'creation_date': 1975}\n"
          ]
        }
      ]
    },
    {
      "cell_type": "markdown",
      "source": [
        "Creation of Geography describe_city functions for the towns of Reykjavik, Tokyo, and Paris."
      ],
      "metadata": {
        "id": "NHvn2NgYrQd5"
      }
    },
    {
      "cell_type": "markdown",
      "source": [
        "Exercise 4 : Some Geography Goal: Create a function that describes a city and its country.\n",
        "\n",
        "Key Python Topics:\n",
        "\n",
        "Functions with multiple parameters Default parameter values String formatting\n",
        "\n",
        "Step 1: Define a Function with Parameters\n",
        "\n",
        "Define a function named describe_city(). This function should accept two parameters: city and country. Give the country parameter a default value, such as “Unknown”.\n",
        "\n",
        "Step 2: Print a Message\n",
        "\n",
        "Inside the function, set up the code to display a sentence like “ is in “. Replace and with the parameter values.\n",
        "\n",
        "Step 3: Call the Function\n",
        "\n",
        "Call the describe_city() function with different city and country combinations. Try calling it with and without providing the country argument to see the default value in action. Example: describe_city(\"Reykjavik\", \"Iceland\") and describe_city(\"Paris\").\n",
        "\n",
        "Expected Output:\n",
        "\n",
        "Reykjavik is in Iceland. Paris is in Unknown."
      ],
      "metadata": {
        "id": "jQfBXb2Lg4Ql"
      }
    },
    {
      "cell_type": "code",
      "metadata": {
        "colab": {
          "base_uri": "https://localhost:8080/"
        },
        "id": "98200bc4",
        "outputId": "b063be33-0a2c-40af-d521-17787613336e"
      },
      "source": [
        "def describe_city(city, country=\"Unknown\"):\n",
        "  \"\"\"Describes a city and its country.\"\"\"\n",
        "  print(f\"{city} is in {country}.\")\n",
        "\n",
        "# Call the function with different city and country combinations\n",
        "describe_city(\"Reykjavik\", \"Iceland\")\n",
        "describe_city(\"Paris\")\n",
        "describe_city(\"Tokyo\", \"Japan\")"
      ],
      "execution_count": null,
      "outputs": [
        {
          "output_type": "stream",
          "name": "stdout",
          "text": [
            "Reykjavik is in Iceland.\n",
            "Paris is in Unknown.\n",
            "Tokyo is in Japan.\n"
          ]
        }
      ]
    },
    {
      "cell_type": "markdown",
      "source": [
        "Random function: goal, finding a randomly generated number."
      ],
      "metadata": {
        "id": "ULilH8lasR4m"
      }
    },
    {
      "cell_type": "markdown",
      "source": [
        "Exercise 5 : Random Goal: Create a function that generates random numbers and compares them.\n",
        "\n",
        "Key Python Topics:\n",
        "\n",
        "random module random.randint() function Conditional statements (if, else)\n",
        "\n",
        "Step 1: Import the random Module\n",
        "\n",
        "At the beginning of your script, use import random to access the random number generation functions.\n",
        "\n",
        "Step 2: Define a Function with a Parameter\n",
        "\n",
        "Create a function that accepts a number between 1 and 100 as a parameter.\n",
        "\n",
        "Step 3: Generate a Random Number\n",
        "\n",
        "Inside the function, use random.randint(1, 100) to generate a random integer between 1 and 100.\n",
        "\n",
        "Step 4: Compare the Numbers\n",
        "\n",
        "If they are the same, print a success message. Otherwise, print a fail message and display both numbers.\n",
        "\n",
        "Step 5: Call the Function\n",
        "\n",
        "Call the function with a number between 1 and 100.\n",
        "\n",
        "Expected Output:\n",
        "\n",
        "Success! (if the numbers match) Fail! Your number: 50, Random number: 23 (if they don't match)"
      ],
      "metadata": {
        "id": "io78kB1iiQw7"
      }
    },
    {
      "cell_type": "code",
      "source": [],
      "metadata": {
        "id": "worY8EfvibYz"
      },
      "execution_count": null,
      "outputs": []
    },
    {
      "cell_type": "code",
      "metadata": {
        "colab": {
          "base_uri": "https://localhost:8080/"
        },
        "id": "2f6bbb30",
        "outputId": "08b02ec8-6586-4ce5-db81-7dabd527558f"
      },
      "source": [
        "import random\n",
        "\n",
        "def compare_random(user_number):\n",
        "  \"\"\"Generates a random number and compares it to the user's number.\"\"\"\n",
        "  random_number = random.randint(1, 100)\n",
        "  if user_number == random_number:\n",
        "    print(\"Success!\")\n",
        "  else:\n",
        "    print(f\"Fail! Your number: {user_number}, Random number: {random_number}\")\n",
        "\n",
        "# Call the function with a number between 1 and 100\n",
        "compare_random(50)"
      ],
      "execution_count": null,
      "outputs": [
        {
          "output_type": "stream",
          "name": "stdout",
          "text": [
            "Fail! Your number: 50, Random number: 60\n"
          ]
        }
      ]
    },
    {
      "cell_type": "markdown",
      "source": [
        "Creating personalized shirts of different sizes."
      ],
      "metadata": {
        "id": "HBKMjp4Dslxn"
      }
    },
    {
      "cell_type": "markdown",
      "source": [
        "Exercise 6 : Let’s create some personalized shirts ! Goal: Create a function to describe a shirt’s size and message, with default values.\n",
        "\n",
        "Key Python Topics:\n",
        "\n",
        "Functions with parameters and default values Keyword arguments\n",
        "\n",
        "Step 1: Define a Function with Parameters\n",
        "\n",
        "Define a function called make_shirt(). This function should accept two parameters: size and text.\n",
        "\n",
        "Step 2: Print a Summary Message\n",
        "\n",
        "Set up the function to display a sentence summarizing the shirt’s size and message.\n",
        "\n",
        "Step 3: Call the Function\n",
        "\n",
        "Step 4: Modify the Function with Default Values\n",
        "\n",
        "Modify the make_shirt() function so that size has a default value of “large” and text has a default value of “I love Python”.\n",
        "\n",
        "Step 5: Call the Function with Default and Custom Values\n",
        "\n",
        "Call make_shirt() to make a large shirt with the default message. Call make_shirt() to make a medium shirt with the default message. Call make_shirt() to make a shirt of any size with a different message.\n",
        "\n",
        "Step 6 (Bonus): Keyword Arguments\n",
        "\n",
        "Call make_shirt() using keyword arguments (e.g., make_shirt(size=\"small\", text=\"Hello!\")).\n",
        "\n",
        "Expected Output:\n",
        "\n",
        "The size of the shirt is large and the text is I love Python. The size of the shirt is medium and the text is I love Python. The size of the shirt is small and the text is Custom message."
      ],
      "metadata": {
        "id": "RYC4AU7Pi_6A"
      }
    },
    {
      "cell_type": "code",
      "source": [],
      "metadata": {
        "id": "PQmgl-YijTld"
      },
      "execution_count": null,
      "outputs": []
    },
    {
      "cell_type": "code",
      "metadata": {
        "colab": {
          "base_uri": "https://localhost:8080/"
        },
        "id": "1f58837f",
        "outputId": "dac0eef8-4655-4d80-8363-bdf2ffee2b9c"
      },
      "source": [
        "def make_shirt(size=\"large\", text=\"I love Python\"):\n",
        "  \"\"\"Summarizes the size and text of a shirt.\"\"\"\n",
        "  print(f\"The size of the shirt is {size} and the text is {text}.\")\n",
        "\n",
        "# Call make_shirt() to make a large shirt with the default message.\n",
        "make_shirt()\n",
        "\n",
        "# Call make_shirt() to make a medium shirt with the default message.\n",
        "make_shirt(size=\"medium\")\n",
        "\n",
        "# Call make_shirt() to make a shirt of any size with a different message.\n",
        "make_shirt(size=\"small\", text=\"Custom message.\")\n",
        "\n",
        "# Bonus: Call make_shirt() using keyword arguments.\n",
        "make_shirt(text=\"Hello!\", size=\"small\")"
      ],
      "execution_count": null,
      "outputs": [
        {
          "output_type": "stream",
          "name": "stdout",
          "text": [
            "The size of the shirt is large and the text is I love Python.\n",
            "The size of the shirt is medium and the text is I love Python.\n",
            "The size of the shirt is small and the text is Custom message..\n",
            "The size of the shirt is small and the text is Hello!.\n"
          ]
        }
      ]
    },
    {
      "cell_type": "markdown",
      "source": [
        "Temperature function: giving advice based on randomly generated temperature."
      ],
      "metadata": {
        "id": "Ll9v6aqNs0YX"
      }
    },
    {
      "cell_type": "markdown",
      "source": [
        "Exercise 7 : Temperature Advice Goal: Generate a random temperature and provide advice based on the temperature range.\n",
        "\n",
        "Key Python Topics:\n",
        "\n",
        "Functions Conditionals (if / elif) Random numbers Floating-point numbers (Bonus) Handling seasons (Bonus)\n",
        "\n",
        "Step 1: Create the get_random_temp() Function\n",
        "\n",
        "Create a function called get_random_temp() that returns a random integer between -10 and 40 degrees Celsius.\n",
        "\n",
        "Step 2: Create the main() Function\n",
        "\n",
        "Create a function called main(). Inside this function: Call get_random_temp() to get a random temperature. Store the temperature in a variable and print a friendly message like: “The temperature right now is 32 degrees Celsius.”\n",
        "\n",
        "Step 3: Provide Temperature-Based Advice\n",
        "\n",
        "Inside main(), provide advice based on the temperature: Below 0°C: e.g., “Brrr, that’s freezing! Wear some extra layers today.” Between 0°C and 16°C: e.g., “Quite chilly! Don’t forget your coat.” Between 16°C and 23°C: e.g., “Nice weather.” Between 24°C and 32°C: e.g., “A bit warm, stay hydrated.” Between 32°C and 40°C: e.g., “It’s really hot! Stay cool.”\n",
        "\n",
        "Step 4: Floating-Point Temperatures (Bonus)\n",
        "\n",
        "Modify get_random_temp() to return a random floating-point number using random.uniform() for more accurate temperature values.\n",
        "\n",
        "Step 5: Month-Based Seasons (Bonus)\n",
        "\n",
        "Instead of directly generating a random temperature, ask the user for a month (1-12) and determine the season using if/elif conditions. Modify get_random_temp() to return temperatures specific to each season.\n",
        "\n",
        "Expected Output:\n",
        "\n",
        "The temperature right now is 32 degrees Celsius. It's really hot! Stay cool."
      ],
      "metadata": {
        "id": "tGbD_qxFkV-X"
      }
    },
    {
      "cell_type": "code",
      "source": [],
      "metadata": {
        "id": "izUjLu5nkYTm"
      },
      "execution_count": null,
      "outputs": []
    },
    {
      "cell_type": "code",
      "metadata": {
        "colab": {
          "base_uri": "https://localhost:8080/"
        },
        "id": "cd157ac8",
        "outputId": "cd7dd80c-905f-42b7-c081-eed2ca702d14"
      },
      "source": [
        "import random\n",
        "\n",
        "def get_random_temp():\n",
        "  \"\"\"Returns a random integer temperature between -10 and 40 degrees Celsius.\"\"\"\n",
        "  return random.randint(-10, 40)\n",
        "\n",
        "def main():\n",
        "  \"\"\"Generates a random temperature and provides advice.\"\"\"\n",
        "  temperature = get_random_temp()\n",
        "  print(f\"The temperature right now is {temperature} degrees Celsius.\")\n",
        "\n",
        "  if temperature < 0:\n",
        "    print(\"Brrr, that’s freezing! Wear some extra layers today.\")\n",
        "  elif 0 <= temperature <= 16:\n",
        "    print(\"Quite chilly! Don’t forget your coat.\")\n",
        "  elif 16 < temperature <= 23:\n",
        "    print(\"Nice weather.\")\n",
        "  elif 23 < temperature <= 32:\n",
        "    print(\"A bit warm, stay hydrated.\")\n",
        "  else: # temperature > 32 and temperature <= 40\n",
        "    print(\"It’s really hot! Stay cool.\")\n",
        "\n",
        "# Call the main function to run the program\n",
        "main()"
      ],
      "execution_count": null,
      "outputs": [
        {
          "output_type": "stream",
          "name": "stdout",
          "text": [
            "The temperature right now is 31 degrees Celsius.\n",
            "A bit warm, stay hydrated.\n"
          ]
        }
      ]
    },
    {
      "cell_type": "markdown",
      "source": [
        "Calculating pizza price depending on whether a topping has been added or not."
      ],
      "metadata": {
        "id": "HKNzOx4LtHw2"
      }
    },
    {
      "cell_type": "markdown",
      "source": [
        "Exercise 8: Pizza Toppings Key Python Topics:\n",
        "\n",
        "Loops Lists String formatting\n",
        "\n",
        "Instructions:\n",
        "\n",
        "Write a loop that asks the user to enter pizza toppings one by one. Stop the loop when the user types 'quit'. For each topping entered, print: \"Adding [topping] to your pizza.\" After exiting the loop, print all the toppings and the total cost of the pizza. The base price is  10,andeachtoppingadds 2.50."
      ],
      "metadata": {
        "id": "MAgx3Mj1kuZe"
      }
    },
    {
      "cell_type": "code",
      "metadata": {
        "colab": {
          "base_uri": "https://localhost:8080/"
        },
        "id": "9eb39abf",
        "outputId": "ca8aa3f4-9fe6-43f6-9bf8-1ec6fb5d4933"
      },
      "source": [
        "toppings = []\n",
        "base_price = 10\n",
        "topping_price = 2.50\n",
        "\n",
        "while True:\n",
        "  topping = input(\"Enter a pizza topping (or type 'quit' to finish): \")\n",
        "  if topping.lower() == 'quit':\n",
        "    break\n",
        "  else:\n",
        "    toppings.append(topping)\n",
        "    print(f\"Adding {topping} to your pizza.\")\n",
        "\n",
        "print(\"\\nYour pizza toppings:\")\n",
        "for topping in toppings:\n",
        "  print(f\"- {topping}\")\n",
        "\n",
        "total_cost = base_price + (len(toppings) * topping_price)\n",
        "print(f\"\\nTotal pizza cost: ${total_cost:.2f}\")"
      ],
      "execution_count": null,
      "outputs": [
        {
          "output_type": "stream",
          "name": "stdout",
          "text": [
            "Enter a pizza topping (or type 'quit' to finish): topping\n",
            "Adding topping to your pizza.\n",
            "Enter a pizza topping (or type 'quit' to finish): quit\n",
            "\n",
            "Your pizza toppings:\n",
            "- topping\n",
            "\n",
            "Total pizza cost: $12.50\n"
          ]
        }
      ]
    }
  ]
}