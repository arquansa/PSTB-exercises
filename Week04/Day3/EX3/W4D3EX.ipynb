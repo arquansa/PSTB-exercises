{
  "nbformat": 4,
  "nbformat_minor": 0,
  "metadata": {
    "colab": {
      "provenance": [],
      "authorship_tag": "ABX9TyMK/LvymNieYbUy9u2ZA0bq",
      "include_colab_link": true
    },
    "kernelspec": {
      "name": "python3",
      "display_name": "Python 3"
    },
    "language_info": {
      "name": "python"
    }
  },
  "cells": [
    {
      "cell_type": "markdown",
      "metadata": {
        "id": "view-in-github",
        "colab_type": "text"
      },
      "source": [
        "<a href=\"https://colab.research.google.com/github/arquansa/PSTB-exercises/blob/main/Week04/Day3/EX3/W4D3EX.ipynb\" target=\"_parent\"><img src=\"https://colab.research.google.com/assets/colab-badge.svg\" alt=\"Open In Colab\"/></a>"
      ]
    },
    {
      "cell_type": "markdown",
      "source": [
        "🛠️ What you will create\n",
        "You will create a series of Python scripts that perform different statistical analyses, including data exploration, hypothesis testing, linear regression, ANOVA, and more.\n",
        "\n",
        "\n",
        "🌟 Exercise 1: Basic Usage of SciPy\n",
        "Task: Import the SciPy library and explore its version.\n",
        "\n",
        "🌟 Exercise 2: Descriptive Statistics\n",
        "Task: Given a sample dataset, calculate the mean, median, variance, and standard deviation using SciPy.\n",
        "Sample Dataset:\n",
        "data = [12, 15, 13, 12, 18, 20, 22, 21]\n",
        "\n",
        "🌟 Exercise 3: Understanding Distributions\n",
        "Task: Generate a normal distribution using SciPy with a mean of 50 and a standard deviation of 10. Plot this distribution.\n",
        "Code Example:\n",
        "import numpy as np\n",
        "import matplotlib.pyplot as plt\n",
        "from scipy.stats import norm\n",
        "\n",
        "# complete your code here\n",
        "\n",
        "🌟 Exercise 4: T-Test Application\n",
        "Task: Perform a T-test on two sets of randomly generated data.\n",
        "Code Example:\n",
        "data1 = np.random.normal(50, 10, 100)\n",
        "data2 = np.random.normal(60, 10, 100)\n",
        "\n",
        "# complete your code here\n",
        "\n",
        "🌟 Exercise 5: Linear Regression Analysis\n",
        "Objective: Apply linear regression to a dataset and interpret the results.\n",
        "\n",
        "Task: Given a dataset of housing prices (house_prices) and their corresponding sizes (house_sizes), use linear regression to predict the price of a house given its size.\n",
        "Dataset:\n",
        "house_sizes: [50, 70, 80, 100, 120] (in square meters)\n",
        "house_prices: [150,000, 200,000, 210,000, 250,000, 280,000] (in currency units)\n",
        "Questions:\n",
        "What is the slope and intercept of the regression line?\n",
        "Predict the price of a house that is 90 square meters.\n",
        "Interpret the meaning of the slope in the context of housing prices.\n",
        "\n",
        "🌟 Exercise 6: Understanding ANOVA\n",
        "Objective: Test understanding of ANOVA and its application.\n",
        "\n",
        "Task: Three different fertilizers are applied to three separate groups of plants to test their effectiveness. The growth in centimeters is recorded.\n",
        "Dataset:\n",
        "fertilizer_1: [5, 6, 7, 6, 5]\n",
        "fertilizer_2: [7, 8, 7, 9, 8]\n",
        "fertilizer_3: [4, 5, 4, 3, 4]\n",
        "Questions:\n",
        "Perform an ANOVA test on the given data. What are the F-value and P-value?\n",
        "Based on the P-value, do the fertilizers have significantly different effects on plant growth?\n",
        "Explain what would happen if the P-value were greater than 0.05.\n",
        "\n",
        "🌟 Exercise 7: Probability Distributions (Optional)\n",
        "Work with a binomial distribution: calculate probabilities for different numbers of successes.\n",
        "Example: Calculating the probability of getting exactly 5 heads in 10 coin flips.\n",
        "\n",
        "🌟 Exercise 8: Correlation Coefficients (Optional)\n",
        "Calculate the Pearson and Spearman correlation coefficients between two variables in a dataset.\n",
        "Example in code: data = pd.DataFrame({'age': [23, 25, 30, 35, 40], 'income': [35000, 40000, 50000, 60000, 70000]})\n"
      ],
      "metadata": {
        "id": "cprbGNI76pZl"
      }
    },
    {
      "cell_type": "markdown",
      "source": [
        "\n",
        "🛠️ What you will create You will create a series of Python scripts that perform different statistical analyses, including data exploration, hypothesis testing, linear regression, ANOVA, and more."
      ],
      "metadata": {
        "id": "p9Ux68808g5P"
      }
    },
    {
      "cell_type": "markdown",
      "source": [],
      "metadata": {
        "id": "AcPYKPbR8sLV"
      }
    },
    {
      "cell_type": "markdown",
      "source": [
        "#Exercise 1: Basic Usage of SciPy\n",
        "\n",
        "Task:\n",
        "\n",
        "Import the SciPy library and explore its version."
      ],
      "metadata": {
        "id": "JxatSy6o8ruq"
      }
    },
    {
      "cell_type": "code",
      "source": [
        "import numpy as np\n",
        "import pandas as pd\n",
        "import matplotlib.pyplot as plt\n",
        "from scipy import stats\n",
        "from scipy.stats import norm"
      ],
      "metadata": {
        "id": "TzcSBIsR-QPb"
      },
      "execution_count": null,
      "outputs": []
    },
    {
      "cell_type": "code",
      "source": [
        "import scipy\n",
        "print(\"SciPy version:\", scipy.__version__)"
      ],
      "metadata": {
        "colab": {
          "base_uri": "https://localhost:8080/"
        },
        "id": "M9wlHQ8X-anY",
        "outputId": "a2c46a2c-c1f1-4819-fb90-da4cf29757d4"
      },
      "execution_count": null,
      "outputs": [
        {
          "output_type": "stream",
          "name": "stdout",
          "text": [
            "SciPy version: 1.16.1\n"
          ]
        }
      ]
    },
    {
      "cell_type": "markdown",
      "source": [
        "# Exercise 2: Descriptive Statistics\n",
        "\n",
        "Task:\n",
        "\n",
        "Given a sample dataset, calculate the mean, median, variance, and standard deviation using SciPy.\n",
        "\n",
        "Sample Dataset: data = [12, 15, 13, 12, 18, 20, 22, 21]"
      ],
      "metadata": {
        "id": "Y8aZjfKz-mR7"
      }
    },
    {
      "cell_type": "code",
      "source": [
        "data = [12, 15, 13, 12, 18, 20, 22, 21]\n",
        "print(\"\\nDescriptive Statistics:\")\n",
        "print(\"Mean:\", np.mean(data))\n",
        "print(\"Median:\", np.median(data))\n",
        "print(\"Variance:\", np.var(data, ddof=1))  # sample variance\n",
        "print(\"Standard Deviation:\", np.std(data, ddof=1))  # sample std dev"
      ],
      "metadata": {
        "id": "DyvQl9X--aMm"
      },
      "execution_count": null,
      "outputs": []
    },
    {
      "cell_type": "markdown",
      "source": [
        "# Exercise 3: Understanding Distributions\n",
        "\n",
        "Task:\n",
        "- Generate a normal distribution using SciPy with a mean of 50 and a standard deviation of 10.\n",
        "- Plot this distribution.\n",
        "- Code Example: import numpy as np import matplotlib.pyplot as plt from scipy.stats import norm\n",
        "- complete your code here"
      ],
      "metadata": {
        "id": "4WuANCwK8X_i"
      }
    },
    {
      "cell_type": "code",
      "source": [
        "x = np.linspace(0, 100, 1000)\n",
        "pdf = norm.pdf(x, loc=50, scale=10)\n",
        "\n",
        "plt.figure(figsize=(8, 4))\n",
        "plt.plot(x, pdf, label='Normal Distribution (μ=50, σ=10)')\n",
        "plt.title(\"Normal Distribution\")\n",
        "plt.xlabel(\"Value\")\n",
        "plt.ylabel(\"Probability Density\")\n",
        "plt.legend()\n",
        "plt.grid(True)\n",
        "plt.show()"
      ],
      "metadata": {
        "colab": {
          "base_uri": "https://localhost:8080/",
          "height": 410
        },
        "id": "JdUjd9abAOlH",
        "outputId": "4e79d94d-216f-4f05-eaf8-4b3b08bada92"
      },
      "execution_count": null,
      "outputs": [
        {
          "output_type": "display_data",
          "data": {
            "text/plain": [
              "<Figure size 800x400 with 1 Axes>"
            ],
            "image/png": "[encoded data removed]"
          },
          "metadata": {}
        }
      ]
    },
    {
      "cell_type": "markdown",
      "source": [
        "\n",
        "# Exercise 4: T-Test Application\n",
        "\n",
        "\n",
        "Task:\n",
        "\n",
        "Perform a T-test on two sets of randomly generated data.\n",
        "\n",
        "\n",
        "Code Example:\n",
        "data1 = np.random.normal(50, 10, 100)\n",
        "data2 = np.random.normal(60, 10, 100)\n",
        "\n",
        "complete your code here"
      ],
      "metadata": {
        "id": "mdPa3LEy8DNP"
      }
    },
    {
      "cell_type": "code",
      "source": [
        "data1 = np.random.normal(50, 10, 100)\n",
        "data2 = np.random.normal(60, 10, 100)\n",
        "t_stat, p_value = stats.ttest_ind(data1, data2)\n",
        "\n",
        "print(\"\\nT-Test Results:\")\n",
        "print(\"T-Statistic:\", t_stat)\n",
        "print(\"P-Value:\", p_value)"
      ],
      "metadata": {
        "colab": {
          "base_uri": "https://localhost:8080/"
        },
        "id": "HbY3C6G4BbIO",
        "outputId": "7ead666f-3587-4df1-f2ed-e4dde9a2a441"
      },
      "execution_count": null,
      "outputs": [
        {
          "output_type": "stream",
          "name": "stdout",
          "text": [
            "\n",
            "T-Test Results:\n",
            "T-Statistic: -6.287934034003545\n",
            "P-Value: 2.015594033721862e-09\n"
          ]
        }
      ]
    },
    {
      "cell_type": "markdown",
      "source": [
        "#Exercise 5: Linear Regression Analysis\n",
        "\n",
        "Objective: Apply linear regression to a dataset and interpret the results.\n",
        "\n",
        "Task:\n",
        "\n",
        "- Given a dataset of housing prices (house_prices) and their corresponding sizes (house_sizes), use linear regression to predict the price of a house given its size.\n",
        "- Dataset: house_sizes: [50, 70, 80, 100, 120] (in square meters) house_prices: [150,000, 200,000, 210,000, 250,000, 280,000] (in currency units)\n",
        "- Questions: What is the slope and intercept of the regression line?\n",
        "- Predict the price of a house that is 90 square meters.\n",
        "- Interpret the meaning of the slope in the context of housing prices."
      ],
      "metadata": {
        "id": "EnX7jfGd76ZA"
      }
    },
    {
      "cell_type": "code",
      "source": [
        "house_sizes = np.array([50, 70, 80, 100, 120])\n",
        "house_prices = np.array([150000, 200000, 210000, 250000, 280000])\n",
        "slope, intercept, r_value, p_value, std_err = stats.linregress(house_sizes, house_prices)\n",
        "\n",
        "print(\"\\nLinear Regression:\")\n",
        "print(\"Slope:\", slope)\n",
        "print(\"Intercept:\", intercept)\n",
        "predicted_price = slope * 90 + intercept\n",
        "print(\"Predicted price for 90 sqm house:\", round(predicted_price))\n",
        "\n",
        "# Interpretation\n",
        "print(\"Interpretation: For every additional square meter, price increases by approx.\", round(slope), \"currency units.\")\n"
      ],
      "metadata": {
        "colab": {
          "base_uri": "https://localhost:8080/"
        },
        "id": "5_5DU3lEBxpu",
        "outputId": "04a7b232-af53-4d1e-cf21-73b0ace4b5f4"
      },
      "execution_count": null,
      "outputs": [
        {
          "output_type": "stream",
          "name": "stdout",
          "text": [
            "\n",
            "Linear Regression:\n",
            "Slope: 1828.7671232876712\n",
            "Intercept: 64383.56164383562\n",
            "Predicted price for 90 sqm house: 228973\n",
            "Interpretation: For every additional square meter, price increases by approx. 1829 currency units.\n"
          ]
        }
      ]
    },
    {
      "cell_type": "markdown",
      "source": [
        "#Exercise 6: Understanding ANOVA\n",
        "\n",
        "Objective:\n",
        "\n",
        "Test understanding of ANOVA and its application.\n",
        "\n",
        "Task:\n",
        "- Three different fertilizers are applied to three separate groups of plants to test their effectiveness.\n",
        "- The growth in centimeters is recorded.\n",
        "- Dataset: fertilizer_1: [5, 6, 7, 6, 5] fertilizer_2: [7, 8, 7, 9, 8] fertilizer_3: [4, 5, 4, 3, 4]\n",
        "- Questions: Perform an ANOVA test on the given data. What are the F-value and P-value?\n",
        "- Based on the P-value, do the fertilizers have significantly different effects on plant growth?\n",
        "- Explain what would happen if the P-value were greater than 0.05."
      ],
      "metadata": {
        "id": "4OTMuJMX7lfr"
      }
    },
    {
      "cell_type": "code",
      "source": [
        "fertilizer_1 = [5, 6, 7, 6, 5]\n",
        "fertilizer_2 = [7, 8, 7, 9, 8]\n",
        "fertilizer_3 = [4, 5, 4, 3, 4]\n",
        "f_value, p_value = stats.f_oneway(fertilizer_1, fertilizer_2, fertilizer_3)\n",
        "\n",
        "print(\"\\nANOVA Test:\")\n",
        "print(\"F-Value:\", f_value)\n",
        "print(\"P-Value:\", p_value)\n",
        "if p_value < 0.05:\n",
        "    print(\"Conclusion: There is a significant difference between fertilizers.\")\n",
        "else:\n",
        "    print(\"Conclusion: No significant difference between fertilizers (P > 0.05).\")"
      ],
      "metadata": {
        "colab": {
          "base_uri": "https://localhost:8080/"
        },
        "id": "rhhF8ieoENSr",
        "outputId": "5adc32ca-415f-4de1-9292-3948df9f3b2d"
      },
      "execution_count": null,
      "outputs": [
        {
          "output_type": "stream",
          "name": "stdout",
          "text": [
            "\n",
            "ANOVA Test:\n",
            "F-Value: 28.52631578947368\n",
            "P-Value: 2.754267209804844e-05\n",
            "Conclusion: There is a significant difference between fertilizers.\n"
          ]
        }
      ]
    },
    {
      "cell_type": "markdown",
      "source": [
        "# Exercise 7: Probability Distributions (Optional)\n",
        "\n",
        "Work with a binomial distribution: calculate probabilities for different numbers of successes.\n",
        "\n",
        "Example: Calculating the probability of getting exactly 5 heads in 10 coin flips."
      ],
      "metadata": {
        "id": "x77b2psh7dRw"
      }
    },
    {
      "cell_type": "code",
      "source": [
        "# Probability of getting exactly 5 heads in 10 coin tosses\n",
        "prob_5_heads = stats.binom.pmf(5, 10, 0.5)\n",
        "print(\"\\nBinomial Distribution:\")\n",
        "print(\"P(getting exactly 5 heads in 10 flips):\", prob_5_heads)"
      ],
      "metadata": {
        "colab": {
          "base_uri": "https://localhost:8080/"
        },
        "id": "NGrSPIZXFE7Z",
        "outputId": "6c6d3556-7507-4208-a5ba-4614abe71a00"
      },
      "execution_count": null,
      "outputs": [
        {
          "output_type": "stream",
          "name": "stdout",
          "text": [
            "\n",
            "Binomial Distribution:\n",
            "P(getting exactly 5 heads in 10 flips): 0.24609375000000003\n"
          ]
        }
      ]
    },
    {
      "cell_type": "markdown",
      "source": [
        "#Exercise 8: Correlation Coefficients (Optional)\n",
        "\n",
        "\n",
        "Calculate the Pearson and Spearman correlation coefficients between two variables in a dataset.\n",
        "\n",
        "\n",
        "Example in code: data = pd.DataFrame({'age': [23, 25, 30, 35, 40], 'income': [35000, 40000, 50000, 60000, 70000]})"
      ],
      "metadata": {
        "id": "QsN2jDTY7SO3"
      }
    },
    {
      "cell_type": "code",
      "source": [
        "data_corr = pd.DataFrame({\n",
        "    'age': [23, 25, 30, 35, 40],\n",
        "    'income': [35000, 40000, 50000, 60000, 70000]\n",
        "})\n",
        "\n",
        "pearson_corr, _ = stats.pearsonr(data_corr['age'], data_corr['income'])\n",
        "spearman_corr, _ = stats.spearmanr(data_corr['age'], data_corr['income'])\n",
        "\n",
        "print(\"\\nCorrelation Coefficients:\")\n",
        "print(\"Pearson Correlation:\", pearson_corr)\n",
        "print(\"Spearman Correlation:\", spearman_corr)"
      ],
      "metadata": {
        "colab": {
          "base_uri": "https://localhost:8080/"
        },
        "id": "8hfafqaxFNIk",
        "outputId": "e28eb22c-606f-4ba4-9908-fdd050c67e72"
      },
      "execution_count": null,
      "outputs": [
        {
          "output_type": "stream",
          "name": "stdout",
          "text": [
            "\n",
            "Correlation Coefficients:\n",
            "Pearson Correlation: 0.9996907452347201\n",
            "Spearman Correlation: 0.9999999999999999\n"
          ]
        }
      ]
    }
  ]
}