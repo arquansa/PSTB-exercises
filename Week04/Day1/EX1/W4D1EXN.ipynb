{
  "nbformat": 4,
  "nbformat_minor": 0,
  "metadata": {
    "colab": {
      "provenance": [],
      "authorship_tag": "ABX9TyPt4luwF1te0KiVFp2Z4FXK",
      "include_colab_link": true
    },
    "kernelspec": {
      "name": "python3",
      "display_name": "Python 3"
    },
    "language_info": {
      "name": "python"
    }
  },
  "cells": [
    {
      "cell_type": "markdown",
      "metadata": {
        "id": "view-in-github",
        "colab_type": "text"
      },
      "source": [
        "<a href=\"https://colab.research.google.com/github/arquansa/PSTB-exercises/blob/main/Week04/Day1/EX1/W4D1EXN.ipynb\" target=\"_parent\"><img src=\"https://colab.research.google.com/assets/colab-badge.svg\" alt=\"Open In Colab\"/></a>"
      ]
    },
    {
      "cell_type": "markdown",
      "source": [
        "Exercises XP Ninja\n",
        "Last Updated: November 20th, 2024\n",
        "\n",
        "👩‍🏫 👩🏿‍🏫 What You’ll learn\n",
        "How to manipulate matrices and find commonalities in data sets using NumPy.\n",
        "Advanced array operations like maximum value replacement and common value identification.\n",
        "\n",
        "\n",
        "🛠️ What you will create\n",
        "A set of challenging exercises that include replacing the maximum value in a matrix and finding common values between arrays.\n",
        "\n",
        "\n",
        "Exercise 1 : Maximum Value Replacement in Matrix\n",
        "Instructions\n",
        "Create a random 5x5 matrix and replace the maximum value by 0.\n",
        "\n",
        "Expected Output:\n",
        "\n",
        "\n",
        "\n",
        "array([[0.23, 0.35, 0.01, 0.05, 0.11],\n",
        "       [0.91, 0.28, 0.66, 0.13, 0.14],\n",
        "       [0.94, 0.40, 0.76, 0.65, 0.46],\n",
        "       [0.12, 0.15, 0.95, 0.57, 0.60],\n",
        "       [0.17, 0.97, 0.87, 0.45, 0.  ]])\n",
        "\n",
        "\n",
        "Exercise 2 : Finding Common Values in Arrays\n",
        "Instructions\n",
        "Find the common values between two random arrays of size 5.\n",
        "\n",
        "Expected Output:\n",
        "\n",
        "\n",
        "\n",
        "array([0.35, 0.66, 0.76])\n",
        "\n",
        "\n",
        "Exercise 3 : Sorting Array in Ascending and Descending Order\n",
        "Instructions\n",
        "Create a random 1D array of size 10 and sort it in ascending and then in descending order.\n",
        "\n",
        "Expected Output:\n",
        "\n",
        "\n",
        "\n",
        "Ascending: array([0.1, 0.2, 0.3, 0.4, 0.5, 0.6, 0.7, 0.8, 0.9, 1. ])\n",
        "Descending: array([1. , 0.9, 0.8, 0.7, 0.6, 0.5, 0.4, 0.3, 0.2, 0.1])\n",
        "\n",
        "\n",
        "Brief Introduction to Matrix Rank\n",
        "What is Matrix Rank?\n",
        "\n",
        "The rank of a matrix indicates the number of linearly independent rows or columns in the matrix.\n",
        "For example, in a matrix with rows [1, 2, 3] and [2, 4, 6], the second row is just twice the first, so these two rows are not independent. This matrix would have a rank of 1.\n",
        "Why and When to Use Matrix Rank?\n",
        "\n",
        "Matrix rank is used to determine if a set of vectors (rows or columns) are linearly independent. This is crucial in understanding the solutions to systems of linear equations represented by the matrix.\n",
        "In simpler terms, it helps in identifying if the given matrix has redundant information or not.\n",
        "\n",
        "\n",
        "Exercise 4 : Matrix Rank Determination\n",
        "Instructions\n",
        "Generate a random 4x4 matrix and find the rank of the matrix.\n",
        "\n",
        "Expected Output:\n",
        "\n",
        "\n",
        "\n",
        "Rank: 4\n",
        "\n",
        "\n",
        "Exercise 5 : Creating Border Array\n",
        "Instructions\n",
        "Create a 2D array with 1 on the border and 0 inside.\n",
        "\n",
        "Expected Output:\n",
        "\n",
        "\n",
        "\n",
        "array([[1, 1, 1, 1, 1],\n",
        "       [1, 0, 0, 0, 1],\n",
        "       [1, 0, 0, 0, 1],\n",
        "       [1, 0, 0, 0, 1],\n",
        "       [1, 1, 1, 1, 1]])"
      ],
      "metadata": {
        "id": "ZWJdl5QLD83q"
      }
    },
    {
      "cell_type": "markdown",
      "source": [
        "Exercise 1: Maximum Value Replacement in Matrix"
      ],
      "metadata": {
        "id": "KMHpToyVEV6C"
      }
    },
    {
      "cell_type": "code",
      "execution_count": 1,
      "metadata": {
        "colab": {
          "base_uri": "https://localhost:8080/"
        },
        "id": "cD8aloh-D7JO",
        "outputId": "1aad4e39-f873-4fd5-b6b1-4cd33505b565"
      },
      "outputs": [
        {
          "output_type": "stream",
          "name": "stdout",
          "text": [
            "Modified Matrix:\n",
            " [[0.57 0.56 0.59 0.9  0.  ]\n",
            " [0.71 0.65 0.41 0.96 0.75]\n",
            " [0.73 0.24 0.82 0.27 0.84]\n",
            " [0.08 0.09 0.9  0.26 0.7 ]\n",
            " [0.07 0.33 0.3  0.   0.25]]\n"
          ]
        }
      ],
      "source": [
        "import numpy as np\n",
        "\n",
        "# Create a random 5x5 matrix\n",
        "matrix = np.random.rand(5, 5).round(2)\n",
        "\n",
        "# Find the maximum value and replace it with 0\n",
        "max_index = np.unravel_index(np.argmax(matrix), matrix.shape)\n",
        "matrix[max_index] = 0\n",
        "\n",
        "print(\"Modified Matrix:\\n\", matrix)\n"
      ]
    },
    {
      "cell_type": "markdown",
      "source": [
        "Exercise 2: Finding Common Values in Arrays"
      ],
      "metadata": {
        "id": "CwxAsmvuEbD9"
      }
    },
    {
      "cell_type": "code",
      "source": [
        "# Create two random arrays of size 5\n",
        "array1 = np.random.rand(5).round(2)\n",
        "array2 = np.random.rand(5).round(2)\n",
        "\n",
        "# Find common values\n",
        "common = np.intersect1d(array1, array2)\n",
        "\n",
        "print(\"Array 1:\", array1)\n",
        "print(\"Array 2:\", array2)\n",
        "print(\"Common Values:\", common)\n"
      ],
      "metadata": {
        "colab": {
          "base_uri": "https://localhost:8080/"
        },
        "id": "QlvKOxlhEiA8",
        "outputId": "29cbc359-6abc-42a8-9686-88d92f89176a"
      },
      "execution_count": 2,
      "outputs": [
        {
          "output_type": "stream",
          "name": "stdout",
          "text": [
            "Array 1: [0.56 0.41 0.93 0.54 0.49]\n",
            "Array 2: [0.64 0.89 0.94 0.24 0.34]\n",
            "Common Values: []\n"
          ]
        }
      ]
    },
    {
      "cell_type": "markdown",
      "source": [
        "Exercise 3: Sorting Array in Ascending and Descending Order"
      ],
      "metadata": {
        "id": "HDh0bfqWEk0F"
      }
    },
    {
      "cell_type": "code",
      "source": [
        "# Create a random 1D array of size 10\n",
        "array = np.random.rand(10).round(2)\n",
        "\n",
        "# Sort ascending and descending\n",
        "ascending = np.sort(array)\n",
        "descending = ascending[::-1]\n",
        "\n",
        "print(\"Original Array:\", array)\n",
        "print(\"Ascending:\", ascending)\n",
        "print(\"Descending:\", descending)\n"
      ],
      "metadata": {
        "colab": {
          "base_uri": "https://localhost:8080/"
        },
        "id": "B-neSki3EnCx",
        "outputId": "40f5f47d-2b9b-44fd-91bf-c21ea4343620"
      },
      "execution_count": 3,
      "outputs": [
        {
          "output_type": "stream",
          "name": "stdout",
          "text": [
            "Original Array: [0.05 0.95 0.54 0.48 0.82 0.94 0.07 0.13 0.5  0.42]\n",
            "Ascending: [0.05 0.07 0.13 0.42 0.48 0.5  0.54 0.82 0.94 0.95]\n",
            "Descending: [0.95 0.94 0.82 0.54 0.5  0.48 0.42 0.13 0.07 0.05]\n"
          ]
        }
      ]
    },
    {
      "cell_type": "markdown",
      "source": [
        "Exercise 4: Matrix Rank Determination"
      ],
      "metadata": {
        "id": "oJrSJz8fE1lH"
      }
    },
    {
      "cell_type": "code",
      "source": [
        "# Create a random 4x4 matrix\n",
        "matrix = np.random.rand(4, 4)\n",
        "\n",
        "# Find matrix rank\n",
        "rank = np.linalg.matrix_rank(matrix)\n",
        "\n",
        "print(\"Matrix:\\n\", matrix)\n",
        "print(\"Rank:\", rank)\n"
      ],
      "metadata": {
        "colab": {
          "base_uri": "https://localhost:8080/"
        },
        "id": "mqh0CIDuE_oB",
        "outputId": "a6d8dc17-8336-4a4c-efaa-c053047781c3"
      },
      "execution_count": 4,
      "outputs": [
        {
          "output_type": "stream",
          "name": "stdout",
          "text": [
            "Matrix:\n",
            " [[0.45483567 0.83406859 0.36613886 0.77428783]\n",
            " [0.58334025 0.77017523 0.39845271 0.20664763]\n",
            " [0.73202927 0.14711334 0.4735121  0.10692871]\n",
            " [0.63209359 0.64234497 0.01960349 0.34808155]]\n",
            "Rank: 4\n"
          ]
        }
      ]
    },
    {
      "cell_type": "markdown",
      "source": [
        "Exercise 5: Creating Border Array"
      ],
      "metadata": {
        "id": "QhmRXFsuFIzc"
      }
    },
    {
      "cell_type": "code",
      "source": [
        "# Create a 5x5 array with border 1s and inside 0s\n",
        "border_array = np.ones((5, 5), dtype=int)\n",
        "border_array[1:-1, 1:-1] = 0\n",
        "\n",
        "print(\"Border Array:\\n\", border_array)\n"
      ],
      "metadata": {
        "colab": {
          "base_uri": "https://localhost:8080/"
        },
        "id": "hydJcGpiFJh0",
        "outputId": "d00f1cbd-5500-4e61-88aa-48196c2b10da"
      },
      "execution_count": 5,
      "outputs": [
        {
          "output_type": "stream",
          "name": "stdout",
          "text": [
            "Border Array:\n",
            " [[1 1 1 1 1]\n",
            " [1 0 0 0 1]\n",
            " [1 0 0 0 1]\n",
            " [1 0 0 0 1]\n",
            " [1 1 1 1 1]]\n"
          ]
        }
      ]
    }
  ]
}