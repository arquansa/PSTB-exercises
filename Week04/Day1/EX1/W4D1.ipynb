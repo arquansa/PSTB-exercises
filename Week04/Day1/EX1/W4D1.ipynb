{
 "cells": [
  {
   "cell_type": "code",
   "execution_count": 11,
   "id": "c8c2fe30",
   "metadata": {},
   "outputs": [
    {
     "name": "stdout",
     "output_type": "stream",
     "text": [
      "Requirement already satisfied: numpy in c:\\users\\aqs_pstb\\appdata\\local\\packages\\pythonsoftwarefoundation.python.3.11_qbz5n2kfra8p0\\localcache\\local-packages\\python311\\site-packages (2.3.0)\n",
      "Note: you may need to restart the kernel to use updated packages.\n"
     ]
    }
   ],
   "source": [
    "pip install numpy"
   ]
  },
  {
   "cell_type": "code",
   "execution_count": 12,
   "id": "4817a338",
   "metadata": {},
   "outputs": [],
   "source": [
    "import numpy as np"
   ]
  },
  {
   "cell_type": "code",
   "execution_count": null,
   "id": "a24d9f61",
   "metadata": {},
   "outputs": [
    {
     "name": "stdout",
     "output_type": "stream",
     "text": [
      "\n"
     ]
    }
   ],
   "source": [
    "#Exercice 1\n",
    "import numpy as np\n",
    "\n",
    "array = array_1d = np.array([0, 1, 2, 3, 4, 5, 6, 7, 8, 9])\n",
    "print()\n"
   ]
  },
  {
   "cell_type": "code",
   "execution_count": null,
   "id": "678bd8a2",
   "metadata": {},
   "outputs": [
    {
     "name": "stdout",
     "output_type": "stream",
     "text": [
      "[3 2 0 1 2]\n"
     ]
    }
   ],
   "source": [
    "#Exercice 2\n",
    "import numpy as np\n",
    "\n",
    "list = [3.14, 2.17, 0, 1, 2]\n",
    "array =  np.array(list, dtype=int)\n",
    "print(array)"
   ]
  },
  {
   "cell_type": "code",
   "execution_count": null,
   "id": "4e4e7a9b",
   "metadata": {},
   "outputs": [
    {
     "name": "stdout",
     "output_type": "stream",
     "text": [
      "[[1 2 3]\n",
      " [4 5 6]\n",
      " [7 8 9]]\n"
     ]
    }
   ],
   "source": [
    "#Exercice 3\n",
    "import numpy as np\n",
    "array = np.arange(1,10).reshape(3,3)\n",
    "print(array)\n",
    "\n"
   ]
  },
  {
   "cell_type": "code",
   "execution_count": null,
   "id": "586da9b0",
   "metadata": {},
   "outputs": [
    {
     "name": "stdout",
     "output_type": "stream",
     "text": [
      "Shape of array: (4, 5)\n",
      "Array contents:\n",
      " [[0.50973717 0.07306079 0.1415564  0.41370943 0.87112042]\n",
      " [0.83569048 0.25487184 0.30212498 0.11805819 0.59666074]\n",
      " [0.21778409 0.77864885 0.80633882 0.55128029 0.25153274]\n",
      " [0.06130548 0.12458509 0.23056535 0.80202524 0.89446554]]\n"
     ]
    }
   ],
   "source": [
    "#Exercice 4\n",
    "import numpy as np\n",
    "# Create the 2D array\n",
    "array = arr = np.random.rand(4, 5)\n",
    "# Print shape and array\n",
    "print(\"Shape of array:\", arr.shape)\n",
    "print(\"Array contents:\\n\", arr)\n"
   ]
  },
  {
   "cell_type": "code",
   "execution_count": null,
   "id": "0a22c650",
   "metadata": {},
   "outputs": [
    {
     "name": "stdout",
     "output_type": "stream",
     "text": [
      "[20 21 22 23 24]\n"
     ]
    }
   ],
   "source": [
    "#Exercice 5\n",
    "import numpy as np\n",
    "array = np.array([[21, 22, 23, 22, 22],\n",
    "                    [20, 21, 22, 23, 24],\n",
    "                    [21, 22, 23, 22, 22]])\n",
    "\n",
    "second_row = array[1]\n",
    "print(second_row)\n",
    "#In NumPy, indexing starts from 0, so array[1] refers to the second row.\n"
   ]
  },
  {
   "cell_type": "code",
   "execution_count": null,
   "id": "c127bf63",
   "metadata": {},
   "outputs": [
    {
     "name": "stdout",
     "output_type": "stream",
     "text": [
      "[9 8 7 6 5 4 3 2 1 0]\n"
     ]
    }
   ],
   "source": [
    "#Exercice 6\n",
    "import numpy as np\n",
    "arr = array = np.array([[0, 1, 2, 3, 4, 5,6,7,8,9]])\n",
    "arr = np.arange(10)                \n",
    "reversed_arr = arr[::-1]\n",
    "print(reversed_arr)"
   ]
  },
  {
   "cell_type": "code",
   "execution_count": null,
   "id": "faea86e6",
   "metadata": {},
   "outputs": [
    {
     "name": "stdout",
     "output_type": "stream",
     "text": [
      "[[1. 0. 0. 0.]\n",
      " [0. 1. 0. 0.]\n",
      " [0. 0. 1. 0.]\n",
      " [0. 0. 0. 1.]]\n"
     ]
    }
   ],
   "source": [
    "#Exercice 7\n",
    "import numpy as np\n",
    "# create a 4x4 identity matrix using NummPy's ny.eyes :\n",
    "\n",
    "identity_matrix = np.eye(4)\n",
    "\n",
    "print(identity_matrix)\n"
   ]
  },
  {
   "cell_type": "code",
   "execution_count": 21,
   "id": "471c64b1",
   "metadata": {},
   "outputs": [
    {
     "name": "stdout",
     "output_type": "stream",
     "text": [
      "45\n",
      "4.5\n"
     ]
    }
   ],
   "source": [
    "#Exercice 8\n",
    "import numpy as np\n",
    "arr = array = np.array([[0, 1, 2, 3, 4, 5,6,7,8,9]])\n",
    "total = np.sum(arr)\n",
    "average = np.mean(array)\n",
    "\n",
    "print(total)\n",
    "print(average)"
   ]
  },
  {
   "cell_type": "code",
   "execution_count": 23,
   "id": "01c76e57",
   "metadata": {},
   "outputs": [
    {
     "name": "stdout",
     "output_type": "stream",
     "text": [
      "[ 1  2  3  4  5  6  7  8  9 10 11 12 13 14 15 16 17 18 19 20]\n",
      "[[ 1  2  3  4  5]\n",
      " [ 6  7  8  9 10]\n",
      " [11 12 13 14 15]\n",
      " [16 17 18 19 20]]\n"
     ]
    }
   ],
   "source": [
    "#Exercice 9\n",
    "import numpy as np\n",
    "arr = np.arange(1, 21)\n",
    "print(arr)\n",
    "matrix_4x5 = arr.reshape(4, 5)\n",
    "\n",
    "print(matrix_4x5)"
   ]
  },
  {
   "cell_type": "code",
   "execution_count": 24,
   "id": "f1d252b1",
   "metadata": {},
   "outputs": [
    {
     "name": "stdout",
     "output_type": "stream",
     "text": [
      "[1 3 5 7 9]\n"
     ]
    }
   ],
   "source": [
    "#Exercice 10\n",
    "arr = np.array([0, 1, 2, 3, 4, 5, 6, 7, 8, 9])\n",
    "\n",
    "odd_numbers = arr[arr % 2 == 1]\n",
    "print(odd_numbers)"
   ]
  }
 ],
 "metadata": {
  "kernelspec": {
   "display_name": "Python 3",
   "language": "python",
   "name": "python3"
  },
  "language_info": {
   "codemirror_mode": {
    "name": "ipython",
    "version": 3
   },
   "file_extension": ".py",
   "mimetype": "text/x-python",
   "name": "python",
   "nbconvert_exporter": "python",
   "pygments_lexer": "ipython3",
   "version": "3.11.9"
  }
 },
 "nbformat": 4,
 "nbformat_minor": 5
}
