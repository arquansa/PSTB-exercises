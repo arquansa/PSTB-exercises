{
 "cells": [
  {
   "cell_type": "markdown",
   "id": "ce43b8f6",
   "metadata": {},
   "source": [
    "Exercise 1\n",
    "\n",
    "Data analysis has become a very important and efficient means, nowadays, to understand all sorts of events, what they stem from, as well as to make redictions as to what might happen, or give indicatiuons as to what should be done in certain situations.^\n",
    "Indeed, data is precious because, when it is analyzed statistically, it will give answers to a great many questions concerning groups of people, objects, etc.\n",
    "A great many fields of everyday life are concerned: health (medications, diagnoses, patient treatments), finance (macro-economics prospects, loan rates, assets evolution), marketing (sales forecasts, sampling of customer types, etc.)"
   ]
  },
  {
   "cell_type": "markdown",
   "id": "36b658f4",
   "metadata": {},
   "source": [
    "Exercise 2"
   ]
  },
  {
   "cell_type": "code",
   "execution_count": 5,
   "id": "8a8ce609",
   "metadata": {},
   "outputs": [],
   "source": [
    "import pandas as pd"
   ]
  },
  {
   "cell_type": "code",
   "execution_count": 6,
   "id": "13c128e9",
   "metadata": {},
   "outputs": [
    {
     "name": "stdout",
     "output_type": "stream",
     "text": [
      "Requirement already satisfied: pandas in c:\\users\\aqs_pstb\\appdata\\local\\packages\\pythonsoftwarefoundation.python.3.11_qbz5n2kfra8p0\\localcache\\local-packages\\python311\\site-packages (2.3.0)\n"
     ]
    },
    {
     "name": "stderr",
     "output_type": "stream",
     "text": [
      "ERROR: Could not find a version that satisfies the requirement as (from versions: none)\n",
      "ERROR: No matching distribution found for as\n",
      "\n",
      "[notice] A new release of pip is available: 24.0 -> 25.1.1\n",
      "[notice] To update, run: C:\\Users\\AQS_PSTB\\AppData\\Local\\Microsoft\\WindowsApps\\PythonSoftwareFoundation.Python.3.11_qbz5n2kfra8p0\\python.exe -m pip install --upgrade pip\n"
     ]
    }
   ],
   "source": [
    "!pip install pandas as pd"
   ]
  },
  {
   "cell_type": "code",
   "execution_count": 8,
   "id": "58aa9b75",
   "metadata": {},
   "outputs": [],
   "source": [
    "pandas = (pd)\n",
    "data = {\n",
    "    'Name': ['John', 'Anna', 'Peter', 'Linda'],\n",
    "    'Age': [28, 34, 29, 32],\n",
    "    'City': ['New York', 'Paris', 'Berlin', 'London']\n",
    "}\n",
    "df = pd.DataFrame(data)"
   ]
  },
  {
   "cell_type": "code",
   "execution_count": 2,
   "id": "88872581",
   "metadata": {},
   "outputs": [
    {
     "name": "stdout",
     "output_type": "stream",
     "text": [
      "Requirement already satisfied: pandas in c:\\users\\aqs_pstb\\appdata\\local\\packages\\pythonsoftwarefoundation.python.3.11_qbz5n2kfra8p0\\localcache\\local-packages\\python311\\site-packages (2.3.0)\n",
      "Requirement already satisfied: numpy>=1.23.2 in c:\\users\\aqs_pstb\\appdata\\local\\packages\\pythonsoftwarefoundation.python.3.11_qbz5n2kfra8p0\\localcache\\local-packages\\python311\\site-packages (from pandas) (2.3.0)\n",
      "Requirement already satisfied: python-dateutil>=2.8.2 in c:\\users\\aqs_pstb\\appdata\\local\\packages\\pythonsoftwarefoundation.python.3.11_qbz5n2kfra8p0\\localcache\\local-packages\\python311\\site-packages (from pandas) (2.9.0.post0)\n",
      "Requirement already satisfied: pytz>=2020.1 in c:\\users\\aqs_pstb\\appdata\\local\\packages\\pythonsoftwarefoundation.python.3.11_qbz5n2kfra8p0\\localcache\\local-packages\\python311\\site-packages (from pandas) (2025.2)\n",
      "Requirement already satisfied: tzdata>=2022.7 in c:\\users\\aqs_pstb\\appdata\\local\\packages\\pythonsoftwarefoundation.python.3.11_qbz5n2kfra8p0\\localcache\\local-packages\\python311\\site-packages (from pandas) (2025.2)\n",
      "Requirement already satisfied: six>=1.5 in c:\\users\\aqs_pstb\\appdata\\local\\packages\\pythonsoftwarefoundation.python.3.11_qbz5n2kfra8p0\\localcache\\local-packages\\python311\\site-packages (from python-dateutil>=2.8.2->pandas) (1.17.0)\n",
      "Note: you may need to restart the kernel to use updated packages.\n"
     ]
    },
    {
     "name": "stderr",
     "output_type": "stream",
     "text": [
      "\n",
      "[notice] A new release of pip is available: 24.0 -> 25.1.1\n",
      "[notice] To update, run: C:\\Users\\AQS_PSTB\\AppData\\Local\\Microsoft\\WindowsApps\\PythonSoftwareFoundation.Python.3.11_qbz5n2kfra8p0\\python.exe -m pip install --upgrade pip\n"
     ]
    }
   ],
   "source": [
    "pip install pandas"
   ]
  },
  {
   "cell_type": "markdown",
   "id": "95db1dd5",
   "metadata": {},
   "source": [
    "data = {\n",
    "    'Name': ['John', 'Anna', 'Peter', 'Linda'],\n",
    "    'Age': [28, 34, 29, 32],\n",
    "    'City': ['New York', 'Paris', 'Berlin', 'London']\n",
    "}\n",
    "df = pd.DataFrame(data)"
   ]
  },
  {
   "cell_type": "code",
   "execution_count": 4,
   "id": "ed6d4867",
   "metadata": {},
   "outputs": [],
   "source": [
    "import pandas as pd"
   ]
  },
  {
   "cell_type": "code",
   "execution_count": 5,
   "id": "7372456c",
   "metadata": {},
   "outputs": [],
   "source": [
    "data = pd.Series([1, 3, 5, 7, 9])"
   ]
  },
  {
   "cell_type": "code",
   "execution_count": 6,
   "id": "eee2347e",
   "metadata": {},
   "outputs": [],
   "source": [
    "import pandas as pd\n",
    "\n",
    "data = {\n",
    "    'Book Title': ['The Great Gatsby', 'To Kill a Mockingbird', '1984', 'Pride and Prejudice', 'The Catcher in the Rye'],\n",
    "    'Author': ['F. Scott Fitzgerald', 'Harper Lee', 'George Orwell', 'Jane Austen', 'J.D. Salinger'],\n",
    "    'Genre': ['Classic', 'Classic', 'Dystopian', 'Classic', 'Classic'],\n",
    "    'Price': [10.99, 8.99, 7.99, 11.99, 9.99],\n",
    "    'Copies Sold': [500, 600, 800, 300, 450]\n",
    "}\n",
    "\n",
    "df = pd.DataFrame(data)"
   ]
  },
  {
   "cell_type": "code",
   "execution_count": 7,
   "id": "525a1aff",
   "metadata": {},
   "outputs": [
    {
     "data": {
      "text/html": [
       "<div>\n",
       "<style scoped>\n",
       "    .dataframe tbody tr th:only-of-type {\n",
       "        vertical-align: middle;\n",
       "    }\n",
       "\n",
       "    .dataframe tbody tr th {\n",
       "        vertical-align: top;\n",
       "    }\n",
       "\n",
       "    .dataframe thead th {\n",
       "        text-align: right;\n",
       "    }\n",
       "</style>\n",
       "<table border=\"1\" class=\"dataframe\">\n",
       "  <thead>\n",
       "    <tr style=\"text-align: right;\">\n",
       "      <th></th>\n",
       "      <th>Book Title</th>\n",
       "      <th>Author</th>\n",
       "      <th>Genre</th>\n",
       "      <th>Price</th>\n",
       "      <th>Copies Sold</th>\n",
       "    </tr>\n",
       "  </thead>\n",
       "  <tbody>\n",
       "    <tr>\n",
       "      <th>0</th>\n",
       "      <td>The Great Gatsby</td>\n",
       "      <td>F. Scott Fitzgerald</td>\n",
       "      <td>Classic</td>\n",
       "      <td>10.99</td>\n",
       "      <td>500</td>\n",
       "    </tr>\n",
       "    <tr>\n",
       "      <th>1</th>\n",
       "      <td>To Kill a Mockingbird</td>\n",
       "      <td>Harper Lee</td>\n",
       "      <td>Classic</td>\n",
       "      <td>8.99</td>\n",
       "      <td>600</td>\n",
       "    </tr>\n",
       "    <tr>\n",
       "      <th>2</th>\n",
       "      <td>1984</td>\n",
       "      <td>George Orwell</td>\n",
       "      <td>Dystopian</td>\n",
       "      <td>7.99</td>\n",
       "      <td>800</td>\n",
       "    </tr>\n",
       "    <tr>\n",
       "      <th>3</th>\n",
       "      <td>Pride and Prejudice</td>\n",
       "      <td>Jane Austen</td>\n",
       "      <td>Classic</td>\n",
       "      <td>11.99</td>\n",
       "      <td>300</td>\n",
       "    </tr>\n",
       "    <tr>\n",
       "      <th>4</th>\n",
       "      <td>The Catcher in the Rye</td>\n",
       "      <td>J.D. Salinger</td>\n",
       "      <td>Classic</td>\n",
       "      <td>9.99</td>\n",
       "      <td>450</td>\n",
       "    </tr>\n",
       "  </tbody>\n",
       "</table>\n",
       "</div>"
      ],
      "text/plain": [
       "               Book Title               Author      Genre  Price  Copies Sold\n",
       "0        The Great Gatsby  F. Scott Fitzgerald    Classic  10.99          500\n",
       "1   To Kill a Mockingbird           Harper Lee    Classic   8.99          600\n",
       "2                    1984        George Orwell  Dystopian   7.99          800\n",
       "3     Pride and Prejudice          Jane Austen    Classic  11.99          300\n",
       "4  The Catcher in the Rye        J.D. Salinger    Classic   9.99          450"
      ]
     },
     "execution_count": 7,
     "metadata": {},
     "output_type": "execute_result"
    }
   ],
   "source": [
    "df.head() "
   ]
  },
  {
   "cell_type": "code",
   "execution_count": 13,
   "id": "abfa02d6",
   "metadata": {},
   "outputs": [],
   "source": [
    "import pandas as pd"
   ]
  },
  {
   "cell_type": "code",
   "execution_count": 15,
   "id": "16804a1b",
   "metadata": {},
   "outputs": [
    {
     "data": {
      "text/html": [
       "<div>\n",
       "<style scoped>\n",
       "    .dataframe tbody tr th:only-of-type {\n",
       "        vertical-align: middle;\n",
       "    }\n",
       "\n",
       "    .dataframe tbody tr th {\n",
       "        vertical-align: top;\n",
       "    }\n",
       "\n",
       "    .dataframe thead th {\n",
       "        text-align: right;\n",
       "    }\n",
       "</style>\n",
       "<table border=\"1\" class=\"dataframe\">\n",
       "  <thead>\n",
       "    <tr style=\"text-align: right;\">\n",
       "      <th></th>\n",
       "      <th>Age</th>\n",
       "    </tr>\n",
       "  </thead>\n",
       "  <tbody>\n",
       "    <tr>\n",
       "      <th>count</th>\n",
       "      <td>4.000000</td>\n",
       "    </tr>\n",
       "    <tr>\n",
       "      <th>mean</th>\n",
       "      <td>30.750000</td>\n",
       "    </tr>\n",
       "    <tr>\n",
       "      <th>std</th>\n",
       "      <td>2.753785</td>\n",
       "    </tr>\n",
       "    <tr>\n",
       "      <th>min</th>\n",
       "      <td>28.000000</td>\n",
       "    </tr>\n",
       "    <tr>\n",
       "      <th>25%</th>\n",
       "      <td>28.750000</td>\n",
       "    </tr>\n",
       "    <tr>\n",
       "      <th>50%</th>\n",
       "      <td>30.500000</td>\n",
       "    </tr>\n",
       "    <tr>\n",
       "      <th>75%</th>\n",
       "      <td>32.500000</td>\n",
       "    </tr>\n",
       "    <tr>\n",
       "      <th>max</th>\n",
       "      <td>34.000000</td>\n",
       "    </tr>\n",
       "  </tbody>\n",
       "</table>\n",
       "</div>"
      ],
      "text/plain": [
       "             Age\n",
       "count   4.000000\n",
       "mean   30.750000\n",
       "std     2.753785\n",
       "min    28.000000\n",
       "25%    28.750000\n",
       "50%    30.500000\n",
       "75%    32.500000\n",
       "max    34.000000"
      ]
     },
     "execution_count": 15,
     "metadata": {},
     "output_type": "execute_result"
    }
   ],
   "source": [
    "df.describe()"
   ]
  },
  {
   "cell_type": "code",
   "execution_count": 16,
   "id": "0d05a72c",
   "metadata": {},
   "outputs": [
    {
     "name": "stdout",
     "output_type": "stream",
     "text": [
      "<class 'pandas.core.frame.DataFrame'>\n",
      "RangeIndex: 4 entries, 0 to 3\n",
      "Data columns (total 3 columns):\n",
      " #   Column  Non-Null Count  Dtype \n",
      "---  ------  --------------  ----- \n",
      " 0   Name    4 non-null      object\n",
      " 1   Age     4 non-null      int64 \n",
      " 2   City    4 non-null      object\n",
      "dtypes: int64(1), object(2)\n",
      "memory usage: 228.0+ bytes\n"
     ]
    }
   ],
   "source": [
    "df.info()"
   ]
  },
  {
   "cell_type": "code",
   "execution_count": 16,
   "id": "0b7be4e8",
   "metadata": {},
   "outputs": [
    {
     "name": "stdout",
     "output_type": "stream",
     "text": [
      "\n",
      ">>> Tri par prix\n",
      "               Book Title               Author      Genre  Price  Copies Sold\n",
      "2                    1984        George Orwell  Dystopian   7.99          800\n",
      "1   To Kill a Mockingbird           Harper Lee    Classic   8.99          600\n",
      "4  The Catcher in the Rye        J.D. Salinger    Classic   9.99          450\n",
      "0        The Great Gatsby  F. Scott Fitzgerald    Classic  10.99          500\n",
      "3     Pride and Prejudice          Jane Austen    Classic  11.99          300\n"
     ]
    }
   ],
   "source": [
    "# Tri par prix (croissant)\n",
    "print(\"\\n>>> Tri par prix\")\n",
    "print(df.sort_values(by='Price'))"
   ]
  },
  {
   "cell_type": "code",
   "execution_count": null,
   "id": "0d4c52c5",
   "metadata": {},
   "outputs": [],
   "source": [
    "expensive_books = df[df('price')]"
   ]
  },
  {
   "cell_type": "code",
   "execution_count": null,
   "id": "caf51d18",
   "metadata": {},
   "outputs": [],
   "source": [
    "df_sorted_by_copies = df.sort_values (by= 'copies sold', ascending false')"
   ]
  },
  {
   "cell_type": "code",
   "execution_count": 2,
   "id": "f6db11e6",
   "metadata": {},
   "outputs": [],
   "source": [
    "import pandas as pd"
   ]
  },
  {
   "cell_type": "code",
   "execution_count": 4,
   "id": "a8fb46f2",
   "metadata": {},
   "outputs": [],
   "source": [
    "data = pd.read_csv(\"Time Americans Spend Sleeping.csv\")"
   ]
  },
  {
   "cell_type": "code",
   "execution_count": 5,
   "id": "8b026b37",
   "metadata": {},
   "outputs": [
    {
     "data": {
      "text/html": [
       "<div>\n",
       "<style scoped>\n",
       "    .dataframe tbody tr th:only-of-type {\n",
       "        vertical-align: middle;\n",
       "    }\n",
       "\n",
       "    .dataframe tbody tr th {\n",
       "        vertical-align: top;\n",
       "    }\n",
       "\n",
       "    .dataframe thead th {\n",
       "        text-align: right;\n",
       "    }\n",
       "</style>\n",
       "<table border=\"1\" class=\"dataframe\">\n",
       "  <thead>\n",
       "    <tr style=\"text-align: right;\">\n",
       "      <th></th>\n",
       "      <th>index</th>\n",
       "      <th>Year</th>\n",
       "      <th>Period</th>\n",
       "      <th>Avg hrs per day sleeping</th>\n",
       "      <th>Standard Error</th>\n",
       "      <th>Type of Days</th>\n",
       "      <th>Age Group</th>\n",
       "      <th>Activity</th>\n",
       "      <th>Sex</th>\n",
       "    </tr>\n",
       "  </thead>\n",
       "  <tbody>\n",
       "    <tr>\n",
       "      <th>0</th>\n",
       "      <td>0</td>\n",
       "      <td>2003</td>\n",
       "      <td>Annual</td>\n",
       "      <td>8.57</td>\n",
       "      <td>0.018</td>\n",
       "      <td>All days</td>\n",
       "      <td>15 years and over</td>\n",
       "      <td>Sleeping</td>\n",
       "      <td>Both</td>\n",
       "    </tr>\n",
       "    <tr>\n",
       "      <th>1</th>\n",
       "      <td>1</td>\n",
       "      <td>2004</td>\n",
       "      <td>Annual</td>\n",
       "      <td>8.55</td>\n",
       "      <td>0.026</td>\n",
       "      <td>All days</td>\n",
       "      <td>15 years and over</td>\n",
       "      <td>Sleeping</td>\n",
       "      <td>Both</td>\n",
       "    </tr>\n",
       "    <tr>\n",
       "      <th>2</th>\n",
       "      <td>2</td>\n",
       "      <td>2005</td>\n",
       "      <td>Annual</td>\n",
       "      <td>8.62</td>\n",
       "      <td>0.023</td>\n",
       "      <td>All days</td>\n",
       "      <td>15 years and over</td>\n",
       "      <td>Sleeping</td>\n",
       "      <td>Both</td>\n",
       "    </tr>\n",
       "    <tr>\n",
       "      <th>3</th>\n",
       "      <td>3</td>\n",
       "      <td>2006</td>\n",
       "      <td>Annual</td>\n",
       "      <td>8.63</td>\n",
       "      <td>0.024</td>\n",
       "      <td>All days</td>\n",
       "      <td>15 years and over</td>\n",
       "      <td>Sleeping</td>\n",
       "      <td>Both</td>\n",
       "    </tr>\n",
       "    <tr>\n",
       "      <th>4</th>\n",
       "      <td>4</td>\n",
       "      <td>2007</td>\n",
       "      <td>Annual</td>\n",
       "      <td>8.57</td>\n",
       "      <td>0.024</td>\n",
       "      <td>All days</td>\n",
       "      <td>15 years and over</td>\n",
       "      <td>Sleeping</td>\n",
       "      <td>Both</td>\n",
       "    </tr>\n",
       "  </tbody>\n",
       "</table>\n",
       "</div>"
      ],
      "text/plain": [
       "   index  Year  Period  Avg hrs per day sleeping  Standard Error Type of Days  \\\n",
       "0      0  2003  Annual                      8.57           0.018     All days   \n",
       "1      1  2004  Annual                      8.55           0.026     All days   \n",
       "2      2  2005  Annual                      8.62           0.023     All days   \n",
       "3      3  2006  Annual                      8.63           0.024     All days   \n",
       "4      4  2007  Annual                      8.57           0.024     All days   \n",
       "\n",
       "           Age Group  Activity   Sex  \n",
       "0  15 years and over  Sleeping  Both  \n",
       "1  15 years and over  Sleeping  Both  \n",
       "2  15 years and over  Sleeping  Both  \n",
       "3  15 years and over  Sleeping  Both  \n",
       "4  15 years and over  Sleeping  Both  "
      ]
     },
     "execution_count": 5,
     "metadata": {},
     "output_type": "execute_result"
    }
   ],
   "source": [
    "data.head()"
   ]
  },
  {
   "cell_type": "code",
   "execution_count": 14,
   "id": "ac2534a5",
   "metadata": {},
   "outputs": [
    {
     "data": {
      "text/html": [
       "<div>\n",
       "<style scoped>\n",
       "    .dataframe tbody tr th:only-of-type {\n",
       "        vertical-align: middle;\n",
       "    }\n",
       "\n",
       "    .dataframe tbody tr th {\n",
       "        vertical-align: top;\n",
       "    }\n",
       "\n",
       "    .dataframe thead th {\n",
       "        text-align: right;\n",
       "    }\n",
       "</style>\n",
       "<table border=\"1\" class=\"dataframe\">\n",
       "  <thead>\n",
       "    <tr style=\"text-align: right;\">\n",
       "      <th></th>\n",
       "      <th>index</th>\n",
       "      <th>Year</th>\n",
       "      <th>Avg hrs per day sleeping</th>\n",
       "      <th>Standard Error</th>\n",
       "    </tr>\n",
       "  </thead>\n",
       "  <tbody>\n",
       "    <tr>\n",
       "      <th>count</th>\n",
       "      <td>945.000000</td>\n",
       "      <td>945.000000</td>\n",
       "      <td>945.000000</td>\n",
       "      <td>945.000000</td>\n",
       "    </tr>\n",
       "    <tr>\n",
       "      <th>mean</th>\n",
       "      <td>472.000000</td>\n",
       "      <td>2010.000000</td>\n",
       "      <td>8.806868</td>\n",
       "      <td>0.086958</td>\n",
       "    </tr>\n",
       "    <tr>\n",
       "      <th>std</th>\n",
       "      <td>272.942302</td>\n",
       "      <td>4.322782</td>\n",
       "      <td>0.545001</td>\n",
       "      <td>0.034631</td>\n",
       "    </tr>\n",
       "    <tr>\n",
       "      <th>min</th>\n",
       "      <td>0.000000</td>\n",
       "      <td>2003.000000</td>\n",
       "      <td>7.720000</td>\n",
       "      <td>0.018000</td>\n",
       "    </tr>\n",
       "    <tr>\n",
       "      <th>25%</th>\n",
       "      <td>236.000000</td>\n",
       "      <td>2006.000000</td>\n",
       "      <td>8.360000</td>\n",
       "      <td>0.063000</td>\n",
       "    </tr>\n",
       "    <tr>\n",
       "      <th>50%</th>\n",
       "      <td>472.000000</td>\n",
       "      <td>2010.000000</td>\n",
       "      <td>8.810000</td>\n",
       "      <td>0.084000</td>\n",
       "    </tr>\n",
       "    <tr>\n",
       "      <th>75%</th>\n",
       "      <td>708.000000</td>\n",
       "      <td>2014.000000</td>\n",
       "      <td>9.190000</td>\n",
       "      <td>0.106000</td>\n",
       "    </tr>\n",
       "    <tr>\n",
       "      <th>max</th>\n",
       "      <td>944.000000</td>\n",
       "      <td>2017.000000</td>\n",
       "      <td>10.650000</td>\n",
       "      <td>0.228000</td>\n",
       "    </tr>\n",
       "  </tbody>\n",
       "</table>\n",
       "</div>"
      ],
      "text/plain": [
       "            index         Year  Avg hrs per day sleeping  Standard Error\n",
       "count  945.000000   945.000000                945.000000      945.000000\n",
       "mean   472.000000  2010.000000                  8.806868        0.086958\n",
       "std    272.942302     4.322782                  0.545001        0.034631\n",
       "min      0.000000  2003.000000                  7.720000        0.018000\n",
       "25%    236.000000  2006.000000                  8.360000        0.063000\n",
       "50%    472.000000  2010.000000                  8.810000        0.084000\n",
       "75%    708.000000  2014.000000                  9.190000        0.106000\n",
       "max    944.000000  2017.000000                 10.650000        0.228000"
      ]
     },
     "execution_count": 14,
     "metadata": {},
     "output_type": "execute_result"
    }
   ],
   "source": [
    "data.describe()"
   ]
  },
  {
   "cell_type": "code",
   "execution_count": 17,
   "id": "bb40a265",
   "metadata": {},
   "outputs": [
    {
     "name": "stdout",
     "output_type": "stream",
     "text": [
      "<class 'pandas.core.frame.DataFrame'>\n",
      "RangeIndex: 945 entries, 0 to 944\n",
      "Data columns (total 9 columns):\n",
      " #   Column                    Non-Null Count  Dtype  \n",
      "---  ------                    --------------  -----  \n",
      " 0   index                     945 non-null    int64  \n",
      " 1   Year                      945 non-null    int64  \n",
      " 2   Period                    945 non-null    object \n",
      " 3   Avg hrs per day sleeping  945 non-null    float64\n",
      " 4   Standard Error            945 non-null    float64\n",
      " 5   Type of Days              945 non-null    object \n",
      " 6   Age Group                 945 non-null    object \n",
      " 7   Activity                  945 non-null    object \n",
      " 8   Sex                       945 non-null    object \n",
      "dtypes: float64(2), int64(2), object(5)\n",
      "memory usage: 66.6+ KB\n"
     ]
    }
   ],
   "source": [
    "data.info()"
   ]
  },
  {
   "cell_type": "markdown",
   "id": "92074bab",
   "metadata": {},
   "source": [
    "Exercice 3"
   ]
  },
  {
   "cell_type": "code",
   "execution_count": null,
   "id": "2a36a029",
   "metadata": {},
   "outputs": [
    {
     "data": {
      "text/plain": [
       "index                         int64\n",
       "Year                          int64\n",
       "Period                       object\n",
       "Avg hrs per day sleeping    float64\n",
       "Standard Error              float64\n",
       "Type of Days                 object\n",
       "Age Group                    object\n",
       "Activity                     object\n",
       "Sex                          object\n",
       "dtype: object"
      ]
     },
     "execution_count": 24,
     "metadata": {},
     "output_type": "execute_result"
    }
   ],
   "source": [
    "data.dtypes"
   ]
  },
  {
   "cell_type": "markdown",
   "id": "ea302ece",
   "metadata": {},
   "source": [
    "Index : quantitative \n",
    "Year  : quantitative \n",
    "Period  : quantitative \n",
    "Avg hrs per day sleeping : quantitative \n",
    "Standard Error    :    quantitative \n",
    "Type of Days : qualitative\n",
    "Age Group   : quantitative \n",
    "Activity  : qualitative \n",
    "Sex   : qualitative\n"
   ]
  },
  {
   "cell_type": "markdown",
   "id": "82d1800e",
   "metadata": {},
   "source": [
    "Exercise 4"
   ]
  },
  {
   "cell_type": "code",
   "execution_count": 26,
   "id": "dce7c8a1",
   "metadata": {},
   "outputs": [],
   "source": [
    "import pandas as pd"
   ]
  },
  {
   "cell_type": "code",
   "execution_count": 34,
   "id": "f4f70f91",
   "metadata": {},
   "outputs": [
    {
     "name": "stdout",
     "output_type": "stream",
     "text": [
      "      Id  SepalLengthCm  SepalWidthCm  PetalLengthCm  PetalWidthCm  \\\n",
      "0      1            5.1           3.5            1.4           0.2   \n",
      "1      2            4.9           3.0            1.4           0.2   \n",
      "2      3            4.7           3.2            1.3           0.2   \n",
      "3      4            4.6           3.1            1.5           0.2   \n",
      "4      5            5.0           3.6            1.4           0.2   \n",
      "..   ...            ...           ...            ...           ...   \n",
      "145  146            6.7           3.0            5.2           2.3   \n",
      "146  147            6.3           2.5            5.0           1.9   \n",
      "147  148            6.5           3.0            5.2           2.0   \n",
      "148  149            6.2           3.4            5.4           2.3   \n",
      "149  150            5.9           3.0            5.1           1.8   \n",
      "\n",
      "            Species  \n",
      "0       Iris-setosa  \n",
      "1       Iris-setosa  \n",
      "2       Iris-setosa  \n",
      "3       Iris-setosa  \n",
      "4       Iris-setosa  \n",
      "..              ...  \n",
      "145  Iris-virginica  \n",
      "146  Iris-virginica  \n",
      "147  Iris-virginica  \n",
      "148  Iris-virginica  \n",
      "149  Iris-virginica  \n",
      "\n",
      "[150 rows x 6 columns]\n"
     ]
    }
   ],
   "source": [
    "data1 = pd.read_csv(\"Iris.csv\")\n",
    "print(data)"
   ]
  },
  {
   "cell_type": "code",
   "execution_count": 38,
   "id": "49dec574",
   "metadata": {},
   "outputs": [
    {
     "data": {
      "text/html": [
       "<div>\n",
       "<style scoped>\n",
       "    .dataframe tbody tr th:only-of-type {\n",
       "        vertical-align: middle;\n",
       "    }\n",
       "\n",
       "    .dataframe tbody tr th {\n",
       "        vertical-align: top;\n",
       "    }\n",
       "\n",
       "    .dataframe thead th {\n",
       "        text-align: right;\n",
       "    }\n",
       "</style>\n",
       "<table border=\"1\" class=\"dataframe\">\n",
       "  <thead>\n",
       "    <tr style=\"text-align: right;\">\n",
       "      <th></th>\n",
       "      <th>Id</th>\n",
       "      <th>SepalLengthCm</th>\n",
       "      <th>SepalWidthCm</th>\n",
       "      <th>PetalLengthCm</th>\n",
       "      <th>PetalWidthCm</th>\n",
       "      <th>Species</th>\n",
       "    </tr>\n",
       "  </thead>\n",
       "  <tbody>\n",
       "    <tr>\n",
       "      <th>0</th>\n",
       "      <td>1</td>\n",
       "      <td>5.1</td>\n",
       "      <td>3.5</td>\n",
       "      <td>1.4</td>\n",
       "      <td>0.2</td>\n",
       "      <td>Iris-setosa</td>\n",
       "    </tr>\n",
       "    <tr>\n",
       "      <th>1</th>\n",
       "      <td>2</td>\n",
       "      <td>4.9</td>\n",
       "      <td>3.0</td>\n",
       "      <td>1.4</td>\n",
       "      <td>0.2</td>\n",
       "      <td>Iris-setosa</td>\n",
       "    </tr>\n",
       "    <tr>\n",
       "      <th>2</th>\n",
       "      <td>3</td>\n",
       "      <td>4.7</td>\n",
       "      <td>3.2</td>\n",
       "      <td>1.3</td>\n",
       "      <td>0.2</td>\n",
       "      <td>Iris-setosa</td>\n",
       "    </tr>\n",
       "    <tr>\n",
       "      <th>3</th>\n",
       "      <td>4</td>\n",
       "      <td>4.6</td>\n",
       "      <td>3.1</td>\n",
       "      <td>1.5</td>\n",
       "      <td>0.2</td>\n",
       "      <td>Iris-setosa</td>\n",
       "    </tr>\n",
       "    <tr>\n",
       "      <th>4</th>\n",
       "      <td>5</td>\n",
       "      <td>5.0</td>\n",
       "      <td>3.6</td>\n",
       "      <td>1.4</td>\n",
       "      <td>0.2</td>\n",
       "      <td>Iris-setosa</td>\n",
       "    </tr>\n",
       "  </tbody>\n",
       "</table>\n",
       "</div>"
      ],
      "text/plain": [
       "   Id  SepalLengthCm  SepalWidthCm  PetalLengthCm  PetalWidthCm      Species\n",
       "0   1            5.1           3.5            1.4           0.2  Iris-setosa\n",
       "1   2            4.9           3.0            1.4           0.2  Iris-setosa\n",
       "2   3            4.7           3.2            1.3           0.2  Iris-setosa\n",
       "3   4            4.6           3.1            1.5           0.2  Iris-setosa\n",
       "4   5            5.0           3.6            1.4           0.2  Iris-setosa"
      ]
     },
     "execution_count": 38,
     "metadata": {},
     "output_type": "execute_result"
    }
   ],
   "source": [
    "data.head()"
   ]
  },
  {
   "cell_type": "markdown",
   "id": "cc8d8ff5",
   "metadata": {},
   "source": [
    "list 1 to 5 are quantitative\n",
    "list 6 is qualitative\n",
    "List 1 to 5 contain only numbers, that is why they are described as quantitative.\n",
    "list 6 is qualitative as it only contains letters"
   ]
  },
  {
   "cell_type": "code",
   "execution_count": 41,
   "id": "f6fc0053",
   "metadata": {},
   "outputs": [
    {
     "name": "stdout",
     "output_type": "stream",
     "text": [
      "Moyenne : 3.0540000000000003\n",
      "Médiane : 3.0\n",
      "Mode : 3.0\n"
     ]
    }
   ],
   "source": [
    "mean_Iris = data1['SepalWidthCm'].mean()\n",
    "median_Iris = data1['SepalWidthCm'].median()\n",
    "mode_Iris = data1['SepalWidthCm'].mode()[0]\n",
    "\n",
    "print(\"Moyenne :\", mean_Iris)\n",
    "print(\"Médiane :\", median_Iris)\n",
    "print(\"Mode :\", mode_Iris)"
   ]
  },
  {
   "cell_type": "markdown",
   "id": "0352ae7e",
   "metadata": {},
   "source": [
    "Exercise 5"
   ]
  },
  {
   "cell_type": "code",
   "execution_count": 46,
   "id": "cecec297",
   "metadata": {},
   "outputs": [
    {
     "name": "stdout",
     "output_type": "stream",
     "text": [
      "Collecting matplotlib\n",
      "  Downloading matplotlib-3.10.3-cp311-cp311-win_amd64.whl.metadata (11 kB)\n",
      "Collecting contourpy>=1.0.1 (from matplotlib)\n",
      "  Downloading contourpy-1.3.2-cp311-cp311-win_amd64.whl.metadata (5.5 kB)\n",
      "Collecting cycler>=0.10 (from matplotlib)\n",
      "  Downloading cycler-0.12.1-py3-none-any.whl.metadata (3.8 kB)\n",
      "Collecting fonttools>=4.22.0 (from matplotlib)\n",
      "  Downloading fonttools-4.58.4-cp311-cp311-win_amd64.whl.metadata (108 kB)\n",
      "     ---------------------------------------- 0.0/108.7 kB ? eta -:--:--\n",
      "     ------ ------------------------------ 20.5/108.7 kB 640.0 kB/s eta 0:00:01\n",
      "     ------------------------------- ----- 92.2/108.7 kB 871.5 kB/s eta 0:00:01\n",
      "     ------------------------------------ 108.7/108.7 kB 895.5 kB/s eta 0:00:00\n",
      "Collecting kiwisolver>=1.3.1 (from matplotlib)\n",
      "  Downloading kiwisolver-1.4.8-cp311-cp311-win_amd64.whl.metadata (6.3 kB)\n",
      "Requirement already satisfied: numpy>=1.23 in c:\\users\\aqs_pstb\\appdata\\local\\packages\\pythonsoftwarefoundation.python.3.11_qbz5n2kfra8p0\\localcache\\local-packages\\python311\\site-packages (from matplotlib) (2.3.0)\n",
      "Requirement already satisfied: packaging>=20.0 in c:\\users\\aqs_pstb\\appdata\\local\\packages\\pythonsoftwarefoundation.python.3.11_qbz5n2kfra8p0\\localcache\\local-packages\\python311\\site-packages (from matplotlib) (25.0)\n",
      "Collecting pillow>=8 (from matplotlib)\n",
      "  Downloading pillow-11.2.1-cp311-cp311-win_amd64.whl.metadata (9.1 kB)\n",
      "Collecting pyparsing>=2.3.1 (from matplotlib)\n",
      "  Downloading pyparsing-3.2.3-py3-none-any.whl.metadata (5.0 kB)\n",
      "Requirement already satisfied: python-dateutil>=2.7 in c:\\users\\aqs_pstb\\appdata\\local\\packages\\pythonsoftwarefoundation.python.3.11_qbz5n2kfra8p0\\localcache\\local-packages\\python311\\site-packages (from matplotlib) (2.9.0.post0)\n",
      "Requirement already satisfied: six>=1.5 in c:\\users\\aqs_pstb\\appdata\\local\\packages\\pythonsoftwarefoundation.python.3.11_qbz5n2kfra8p0\\localcache\\local-packages\\python311\\site-packages (from python-dateutil>=2.7->matplotlib) (1.17.0)\n",
      "Downloading matplotlib-3.10.3-cp311-cp311-win_amd64.whl (8.1 MB)\n",
      "   ---------------------------------------- 0.0/8.1 MB ? eta -:--:--\n",
      "   ---------------------------------------- 0.1/8.1 MB 2.6 MB/s eta 0:00:04\n",
      "    --------------------------------------- 0.2/8.1 MB 1.7 MB/s eta 0:00:05\n",
      "   - -------------------------------------- 0.2/8.1 MB 2.1 MB/s eta 0:00:04\n",
      "   - -------------------------------------- 0.3/8.1 MB 1.6 MB/s eta 0:00:05\n",
      "   - -------------------------------------- 0.4/8.1 MB 1.6 MB/s eta 0:00:05\n",
      "   -- ------------------------------------- 0.5/8.1 MB 1.8 MB/s eta 0:00:05\n",
      "   --- ------------------------------------ 0.6/8.1 MB 1.9 MB/s eta 0:00:04\n",
      "   --- ------------------------------------ 0.7/8.1 MB 1.9 MB/s eta 0:00:04\n",
      "   ---- ----------------------------------- 0.8/8.1 MB 2.1 MB/s eta 0:00:04\n",
      "   ---- ----------------------------------- 0.9/8.1 MB 2.1 MB/s eta 0:00:04\n",
      "   ----- ---------------------------------- 1.0/8.1 MB 2.1 MB/s eta 0:00:04\n",
      "   ----- ---------------------------------- 1.1/8.1 MB 2.0 MB/s eta 0:00:04\n",
      "   ----- ---------------------------------- 1.1/8.1 MB 1.9 MB/s eta 0:00:04\n",
      "   ----- ---------------------------------- 1.2/8.1 MB 1.9 MB/s eta 0:00:04\n",
      "   ------ --------------------------------- 1.3/8.1 MB 1.9 MB/s eta 0:00:04\n",
      "   ------ --------------------------------- 1.4/8.1 MB 1.9 MB/s eta 0:00:04\n",
      "   ------- -------------------------------- 1.4/8.1 MB 1.9 MB/s eta 0:00:04\n",
      "   ------- -------------------------------- 1.5/8.1 MB 1.7 MB/s eta 0:00:04\n",
      "   ------- -------------------------------- 1.5/8.1 MB 1.7 MB/s eta 0:00:04\n",
      "   ------- -------------------------------- 1.6/8.1 MB 1.7 MB/s eta 0:00:04\n",
      "   ------- -------------------------------- 1.6/8.1 MB 1.7 MB/s eta 0:00:04\n",
      "   -------- ------------------------------- 1.6/8.1 MB 1.6 MB/s eta 0:00:05\n",
      "   -------- ------------------------------- 1.7/8.1 MB 1.6 MB/s eta 0:00:05\n",
      "   -------- ------------------------------- 1.7/8.1 MB 1.5 MB/s eta 0:00:05\n",
      "   -------- ------------------------------- 1.7/8.1 MB 1.5 MB/s eta 0:00:05\n",
      "   --------- ------------------------------ 1.8/8.1 MB 1.5 MB/s eta 0:00:05\n",
      "   --------- ------------------------------ 1.9/8.1 MB 1.5 MB/s eta 0:00:05\n",
      "   --------- ------------------------------ 1.9/8.1 MB 1.5 MB/s eta 0:00:05\n",
      "   --------- ------------------------------ 2.0/8.1 MB 1.5 MB/s eta 0:00:05\n",
      "   ---------- ----------------------------- 2.1/8.1 MB 1.5 MB/s eta 0:00:04\n",
      "   ---------- ----------------------------- 2.2/8.1 MB 1.5 MB/s eta 0:00:04\n",
      "   ----------- ---------------------------- 2.3/8.1 MB 1.5 MB/s eta 0:00:04\n",
      "   ----------- ---------------------------- 2.4/8.1 MB 1.5 MB/s eta 0:00:04\n",
      "   ------------ --------------------------- 2.4/8.1 MB 1.5 MB/s eta 0:00:04\n",
      "   ------------ --------------------------- 2.6/8.1 MB 1.6 MB/s eta 0:00:04\n",
      "   ------------- -------------------------- 2.7/8.1 MB 1.6 MB/s eta 0:00:04\n",
      "   -------------- ------------------------- 2.9/8.1 MB 1.7 MB/s eta 0:00:04\n",
      "   -------------- ------------------------- 3.0/8.1 MB 1.7 MB/s eta 0:00:04\n",
      "   --------------- ------------------------ 3.1/8.1 MB 1.7 MB/s eta 0:00:03\n",
      "   ---------------- ----------------------- 3.2/8.1 MB 1.7 MB/s eta 0:00:03\n",
      "   ---------------- ----------------------- 3.3/8.1 MB 1.7 MB/s eta 0:00:03\n",
      "   ---------------- ----------------------- 3.3/8.1 MB 1.7 MB/s eta 0:00:03\n",
      "   ---------------- ----------------------- 3.4/8.1 MB 1.7 MB/s eta 0:00:03\n",
      "   ----------------- ---------------------- 3.5/8.1 MB 1.7 MB/s eta 0:00:03\n",
      "   ----------------- ---------------------- 3.6/8.1 MB 1.7 MB/s eta 0:00:03\n",
      "   ------------------ --------------------- 3.7/8.1 MB 1.7 MB/s eta 0:00:03\n",
      "   ------------------- -------------------- 3.9/8.1 MB 1.8 MB/s eta 0:00:03\n",
      "   -------------------- ------------------- 4.1/8.1 MB 1.8 MB/s eta 0:00:03\n",
      "   -------------------- ------------------- 4.2/8.1 MB 1.8 MB/s eta 0:00:03\n",
      "   --------------------- ------------------ 4.3/8.1 MB 1.9 MB/s eta 0:00:02\n",
      "   ---------------------- ----------------- 4.6/8.1 MB 1.9 MB/s eta 0:00:02\n",
      "   ----------------------- ---------------- 4.7/8.1 MB 1.9 MB/s eta 0:00:02\n",
      "   ------------------------ --------------- 4.8/8.1 MB 2.0 MB/s eta 0:00:02\n",
      "   ------------------------ --------------- 4.9/8.1 MB 2.0 MB/s eta 0:00:02\n",
      "   ------------------------ --------------- 5.0/8.1 MB 2.0 MB/s eta 0:00:02\n",
      "   ------------------------- -------------- 5.1/8.1 MB 2.0 MB/s eta 0:00:02\n",
      "   ------------------------- -------------- 5.2/8.1 MB 2.0 MB/s eta 0:00:02\n",
      "   -------------------------- ------------- 5.4/8.1 MB 2.0 MB/s eta 0:00:02\n",
      "   --------------------------- ------------ 5.5/8.1 MB 2.0 MB/s eta 0:00:02\n",
      "   --------------------------- ------------ 5.6/8.1 MB 2.0 MB/s eta 0:00:02\n",
      "   ---------------------------- ----------- 5.7/8.1 MB 2.1 MB/s eta 0:00:02\n",
      "   ----------------------------- ---------- 5.9/8.1 MB 2.1 MB/s eta 0:00:02\n",
      "   ----------------------------- ---------- 6.0/8.1 MB 2.1 MB/s eta 0:00:02\n",
      "   ----------------------------- ---------- 6.0/8.1 MB 2.1 MB/s eta 0:00:01\n",
      "   ------------------------------ --------- 6.1/8.1 MB 2.0 MB/s eta 0:00:01\n",
      "   ------------------------------ --------- 6.1/8.1 MB 2.0 MB/s eta 0:00:01\n",
      "   ------------------------------ --------- 6.2/8.1 MB 2.0 MB/s eta 0:00:01\n",
      "   ------------------------------ --------- 6.2/8.1 MB 2.0 MB/s eta 0:00:01\n",
      "   ------------------------------ --------- 6.2/8.1 MB 2.0 MB/s eta 0:00:01\n",
      "   ------------------------------- -------- 6.3/8.1 MB 2.0 MB/s eta 0:00:01\n",
      "   ------------------------------- -------- 6.4/8.1 MB 2.0 MB/s eta 0:00:01\n",
      "   -------------------------------- ------- 6.5/8.1 MB 2.0 MB/s eta 0:00:01\n",
      "   -------------------------------- ------- 6.6/8.1 MB 2.0 MB/s eta 0:00:01\n",
      "   --------------------------------- ------ 6.8/8.1 MB 2.0 MB/s eta 0:00:01\n",
      "   ---------------------------------- ----- 6.9/8.1 MB 2.0 MB/s eta 0:00:01\n",
      "   ---------------------------------- ----- 7.0/8.1 MB 2.0 MB/s eta 0:00:01\n",
      "   ----------------------------------- ---- 7.1/8.1 MB 2.0 MB/s eta 0:00:01\n",
      "   ------------------------------------ --- 7.3/8.1 MB 2.0 MB/s eta 0:00:01\n",
      "   ------------------------------------- -- 7.5/8.1 MB 2.1 MB/s eta 0:00:01\n",
      "   ------------------------------------- -- 7.6/8.1 MB 2.1 MB/s eta 0:00:01\n",
      "   -------------------------------------- - 7.8/8.1 MB 2.1 MB/s eta 0:00:01\n",
      "   ---------------------------------------  7.9/8.1 MB 2.1 MB/s eta 0:00:01\n",
      "   ---------------------------------------  8.0/8.1 MB 2.1 MB/s eta 0:00:01\n",
      "   ---------------------------------------  8.1/8.1 MB 2.1 MB/s eta 0:00:01\n",
      "   ---------------------------------------  8.1/8.1 MB 2.1 MB/s eta 0:00:01\n",
      "   ---------------------------------------  8.1/8.1 MB 2.1 MB/s eta 0:00:01\n",
      "   ---------------------------------------- 8.1/8.1 MB 2.0 MB/s eta 0:00:00\n",
      "Downloading contourpy-1.3.2-cp311-cp311-win_amd64.whl (222 kB)\n",
      "   ---------------------------------------- 0.0/222.0 kB ? eta -:--:--\n",
      "   ----------------------------------- ---- 194.6/222.0 kB 3.9 MB/s eta 0:00:01\n",
      "   ---------------------------------------- 222.0/222.0 kB 3.4 MB/s eta 0:00:00\n",
      "Downloading cycler-0.12.1-py3-none-any.whl (8.3 kB)\n",
      "Downloading fonttools-4.58.4-cp311-cp311-win_amd64.whl (2.2 MB)\n",
      "   ---------------------------------------- 0.0/2.2 MB ? eta -:--:--\n",
      "   -- ------------------------------------- 0.2/2.2 MB 3.1 MB/s eta 0:00:01\n",
      "   ------ --------------------------------- 0.4/2.2 MB 4.1 MB/s eta 0:00:01\n",
      "   --------- ------------------------------ 0.6/2.2 MB 3.9 MB/s eta 0:00:01\n",
      "   ------------- -------------------------- 0.7/2.2 MB 3.9 MB/s eta 0:00:01\n",
      "   --------------- ------------------------ 0.9/2.2 MB 3.9 MB/s eta 0:00:01\n",
      "   ------------------ --------------------- 1.0/2.2 MB 3.8 MB/s eta 0:00:01\n",
      "   -------------------- ------------------- 1.2/2.2 MB 3.7 MB/s eta 0:00:01\n",
      "   ---------------------- ----------------- 1.3/2.2 MB 3.7 MB/s eta 0:00:01\n",
      "   -------------------------- ------------- 1.5/2.2 MB 3.6 MB/s eta 0:00:01\n",
      "   ---------------------------- ----------- 1.6/2.2 MB 3.6 MB/s eta 0:00:01\n",
      "   -------------------------------- ------- 1.8/2.2 MB 3.5 MB/s eta 0:00:01\n",
      "   ---------------------------------- ----- 1.9/2.2 MB 3.5 MB/s eta 0:00:01\n",
      "   -------------------------------------- - 2.1/2.2 MB 3.7 MB/s eta 0:00:01\n",
      "   ---------------------------------------  2.2/2.2 MB 3.6 MB/s eta 0:00:01\n",
      "   ---------------------------------------- 2.2/2.2 MB 3.4 MB/s eta 0:00:00\n",
      "Downloading kiwisolver-1.4.8-cp311-cp311-win_amd64.whl (71 kB)\n",
      "   ---------------------------------------- 0.0/72.0 kB ? eta -:--:--\n",
      "   ---------------------------------------  71.7/72.0 kB 3.8 MB/s eta 0:00:01\n",
      "   ---------------------------------------  71.7/72.0 kB 3.8 MB/s eta 0:00:01\n",
      "   ---------------------------------------  71.7/72.0 kB 3.8 MB/s eta 0:00:01\n",
      "   ---------------------------------------- 72.0/72.0 kB 358.9 kB/s eta 0:00:00\n",
      "Downloading pillow-11.2.1-cp311-cp311-win_amd64.whl (2.7 MB)\n",
      "   ---------------------------------------- 0.0/2.7 MB ? eta -:--:--\n",
      "   --- ------------------------------------ 0.2/2.7 MB 4.6 MB/s eta 0:00:01\n",
      "   ---- ----------------------------------- 0.3/2.7 MB 4.3 MB/s eta 0:00:01\n",
      "   ----- ---------------------------------- 0.3/2.7 MB 2.6 MB/s eta 0:00:01\n",
      "   ------ --------------------------------- 0.4/2.7 MB 2.5 MB/s eta 0:00:01\n",
      "   --------- ------------------------------ 0.6/2.7 MB 2.5 MB/s eta 0:00:01\n",
      "   ------------ --------------------------- 0.8/2.7 MB 2.8 MB/s eta 0:00:01\n",
      "   --------------- ------------------------ 1.1/2.7 MB 3.0 MB/s eta 0:00:01\n",
      "   ------------------ --------------------- 1.2/2.7 MB 3.2 MB/s eta 0:00:01\n",
      "   -------------------- ------------------- 1.3/2.7 MB 3.0 MB/s eta 0:00:01\n",
      "   --------------------- ------------------ 1.5/2.7 MB 3.1 MB/s eta 0:00:01\n",
      "   ----------------------- ---------------- 1.6/2.7 MB 2.9 MB/s eta 0:00:01\n",
      "   ------------------------ --------------- 1.6/2.7 MB 2.9 MB/s eta 0:00:01\n",
      "   -------------------------- ------------- 1.8/2.7 MB 2.9 MB/s eta 0:00:01\n",
      "   --------------------------- ------------ 1.8/2.7 MB 2.7 MB/s eta 0:00:01\n",
      "   ---------------------------- ----------- 1.9/2.7 MB 2.6 MB/s eta 0:00:01\n",
      "   ------------------------------- -------- 2.1/2.7 MB 2.7 MB/s eta 0:00:01\n",
      "   -------------------------------- ------- 2.2/2.7 MB 2.6 MB/s eta 0:00:01\n",
      "   --------------------------------- ------ 2.2/2.7 MB 2.6 MB/s eta 0:00:01\n",
      "   ---------------------------------- ----- 2.3/2.7 MB 2.5 MB/s eta 0:00:01\n",
      "   ----------------------------------- ---- 2.4/2.7 MB 2.5 MB/s eta 0:00:01\n",
      "   ------------------------------------ --- 2.4/2.7 MB 2.4 MB/s eta 0:00:01\n",
      "   ------------------------------------- -- 2.5/2.7 MB 2.4 MB/s eta 0:00:01\n",
      "   ------------------------------------- -- 2.5/2.7 MB 2.3 MB/s eta 0:00:01\n",
      "   -------------------------------------- - 2.6/2.7 MB 2.2 MB/s eta 0:00:01\n",
      "   -------------------------------------- - 2.6/2.7 MB 2.2 MB/s eta 0:00:01\n",
      "   ---------------------------------------  2.7/2.7 MB 2.1 MB/s eta 0:00:01\n",
      "   ---------------------------------------  2.7/2.7 MB 2.1 MB/s eta 0:00:01\n",
      "   ---------------------------------------  2.7/2.7 MB 2.1 MB/s eta 0:00:01\n",
      "   ---------------------------------------  2.7/2.7 MB 2.1 MB/s eta 0:00:01\n",
      "   ---------------------------------------  2.7/2.7 MB 2.1 MB/s eta 0:00:01\n",
      "   ---------------------------------------- 2.7/2.7 MB 1.8 MB/s eta 0:00:00\n",
      "Downloading pyparsing-3.2.3-py3-none-any.whl (111 kB)\n",
      "   ---------------------------------------- 0.0/111.1 kB ? eta -:--:--\n",
      "   -------------- ------------------------ 41.0/111.1 kB 991.0 kB/s eta 0:00:01\n",
      "   ------------------------------------ --- 102.4/111.1 kB 1.2 MB/s eta 0:00:01\n",
      "   ---------------------------------------- 111.1/111.1 kB 1.1 MB/s eta 0:00:00\n",
      "Installing collected packages: pyparsing, pillow, kiwisolver, fonttools, cycler, contourpy, matplotlib\n",
      "Successfully installed contourpy-1.3.2 cycler-0.12.1 fonttools-4.58.4 kiwisolver-1.4.8 matplotlib-3.10.3 pillow-11.2.1 pyparsing-3.2.3\n"
     ]
    },
    {
     "name": "stderr",
     "output_type": "stream",
     "text": [
      "\n",
      "[notice] A new release of pip is available: 24.0 -> 25.1.1\n",
      "[notice] To update, run: C:\\Users\\AQS_PSTB\\AppData\\Local\\Microsoft\\WindowsApps\\PythonSoftwareFoundation.Python.3.11_qbz5n2kfra8p0\\python.exe -m pip install --upgrade pip\n"
     ]
    }
   ],
   "source": [
    "!pip install matplotlib"
   ]
  },
  {
   "cell_type": "code",
   "execution_count": 48,
   "id": "3cea6bc8",
   "metadata": {},
   "outputs": [],
   "source": [
    "import matplotlib as plt"
   ]
  },
  {
   "cell_type": "code",
   "execution_count": 52,
   "id": "10dda172",
   "metadata": {},
   "outputs": [
    {
     "data": {
      "image/png": "[encoded data removed]",
      "text/plain": [
       "<Figure size 640x480 with 1 Axes>"
      ]
     },
     "metadata": {},
     "output_type": "display_data"
    }
   ],
   "source": [
    "import matplotlib.pyplot as plt\n",
    "plt.plot(data['Id'], data['SepalLengthCm'])\n",
    "plt.show()"
   ]
  },
  {
   "cell_type": "markdown",
   "id": "3956c2a0",
   "metadata": {},
   "source": [
    "Exercise 6 How Much Sleep Do Americans Really Get?\n",
    "\n",
    "I can identify several columns which are of interest concerning the data on Americans sleep hours: for instance, age group, type of days, sex, and activity could be interesting to analyze, as they could respectively help to determine that \n",
    "age group : young people need more rest\n",
    "type of days: people sleep as much as they can during the working week to have more energy on the next day\n",
    "sex: women might sleep less because of household chores\n",
    "activity: some jobs might be more tiring than others and require more rest."
   ]
  }
 ],
 "metadata": {
  "kernelspec": {
   "display_name": "Python 3",
   "language": "python",
   "name": "python3"
  },
  "language_info": {
   "codemirror_mode": {
    "name": "ipython",
    "version": 3
   },
   "file_extension": ".py",
   "mimetype": "text/x-python",
   "name": "python",
   "nbconvert_exporter": "python",
   "pygments_lexer": "ipython3",
   "version": "3.11.9"
  }
 },
 "nbformat": 4,
 "nbformat_minor": 5
}
