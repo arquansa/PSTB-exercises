{
  "nbformat": 4,
  "nbformat_minor": 0,
  "metadata": {
    "colab": {
      "provenance": [],
      "authorship_tag": "ABX9TyNFkjZ1mWPaVIWKFLdgtX7l",
      "include_colab_link": true
    },
    "kernelspec": {
      "name": "python3",
      "display_name": "Python 3"
    },
    "language_info": {
      "name": "python"
    }
  },
  "cells": [
    {
      "cell_type": "markdown",
      "metadata": {
        "id": "view-in-github",
        "colab_type": "text"
      },
      "source": [
        "<a href=\"https://colab.research.google.com/github/arquansa/PSTB-exercises/blob/main/Week03/Day2/EX2/W3D2EXG.ipynb\" target=\"_parent\"><img src=\"https://colab.research.google.com/assets/colab-badge.svg\" alt=\"Open In Colab\"/></a>"
      ]
    },
    {
      "cell_type": "markdown",
      "source": [
        "Exercises XP Gold\n",
        "Last Updated: October 16th, 2024\n",
        "\n",
        "👩‍🏫 👩🏿‍🏫 What You’ll learn\n",
        "Perform a comparative analysis of structured and unstructured retail data.\n",
        "Understand the processing and analysis of structured and unstructured healthcare data.\n",
        "Gain familiarity with structured data through basic exploration.\n",
        "Understand the challenges of working with unstructured data and identify structured elements in a public transportation dataset.\n",
        "Generate a synthetic product catalog for an e-commerce platform using Faker.\n",
        "\n",
        "\n",
        "🛠️ What you will create\n",
        "A comparative analysis document discussing the insights from structured and unstructured retail data and the challenges in processing them.\n",
        "Identification of structured data elements within the E-Commerce dataset.\n",
        "Categorization of data elements in the dataset as structured or unstructured with justifications.\n",
        "A Python script using Faker to generate a synthetic product catalog for an e-commerce platform.\n",
        "\n",
        "\n",
        "Exercise 1: Comparative Analysis of Retail Data\n",
        "Dataset: Use the Retail Dataset for structured data and Women’s E-Commerce Clothing Reviews for unstructured data.\n",
        "\n",
        "Analyze the Retail Dataset focusing on sales trends, customer purchase patterns, and store performance.\n",
        "Analyze the Clothing Reviews dataset to extract insights like predominant sentiments, frequently mentioned topics, and overall customer satisfaction.\n",
        "Compare the insights you can derive from each dataset and discuss the challenges you faced in processing the unstructured data.\n",
        "\n",
        "\n",
        "Exercise 2: Basic Data Exploration in E-Commerce\n",
        "Dataset: Use the “E-Commerce Data” dataset.\n",
        "\n",
        "Load the dataset using Pandas and print the first few rows to understand its structure.\n",
        "Print basic information about the dataset, like the number of rows, columns, and column names.\n",
        "Identify which columns in the dataset represent structured data (like numerical values, dates, fixed categories).\n",
        "Suggest what type of unstructured data could complement this dataset for a more comprehensive analysis (e.g., customer reviews, product descriptions).\n",
        "Discuss how this unstructured data might be used in conjunction with the structured data.\n",
        "\n",
        "\n",
        "Exercise 3: Analyzing a Public Transportation Dataset with a Focus on Data Types\n",
        "Dataset: Use the “Metro Interstate Traffic Volume” dataset.\n",
        "\n",
        "Load the dataset and display the first few rows to get a sense of the data.\n",
        "Identify and print the structured elements in the dataset, such as date-time, traffic volume, etc.\n",
        "Based on your observation of the dataset, categorize the data elements as structured or unstructured. For example, consider elements like weather descriptions, date-time, and traffic volume. Explain why you categorized them as such.\n",
        "\n",
        "\n",
        "Exercise 4: Basic Data Analysis in a Movie Ratings Dataset\n",
        "Dataset: Use the “MovieLens Latest Datasets”.\n",
        "\n",
        "Load the ‘ratings.csv’ file from the dataset, which contains user ratings for movies, and display the first few rows.\n",
        "Identify and list down the structured elements in the dataset, such as user IDs, movie IDs, ratings, and timestamps.\n",
        "Explain why the data elements in the ‘ratings.csv’ file are considered structured data.\n",
        "\n",
        "\n",
        "Exercise 5: Creating a Synthetic Product Catalog\n",
        "We want to generate a synthetic product catalog for an e-commerce platform using Faker.\n",
        "\n",
        "Ensure that the Faker library is installed and imported into your Python environment.\n",
        "Create a dataset of 500 products. Each product should have a unique ID, name, description, and price.\n",
        "Use Pandas to create a DataFrame from the generated data.\n"
      ],
      "metadata": {
        "id": "pJOZ2w0NbHvt"
      }
    },
    {
      "cell_type": "markdown",
      "source": [
        "# Exercise 1: Comparative Analysis of Retail Data\n",
        "\n",
        "Comparative Analysis of Retail Data Dataset: Use the Retail Dataset for structured data and Women’s E-Commerce Clothing Reviews for unstructured data.\n",
        "\n",
        "Analyze the Retail Dataset focusing on sales trends, customer purchase patterns, and store performance. Analyze the Clothing Reviews dataset to extract insights like predominant sentiments, frequently mentioned topics, and overall customer satisfaction. Compare the insights you can derive from each dataset and discuss the challenges you faced in processing the unstructured data.\n",
        "Datasets\n",
        "Structured: Retail Dataset (e.g., sales transactions, customer IDs)\n",
        "\n",
        "Unstructured: Women’s E-Commerce Clothing Reviews (text reviews)\n"
      ],
      "metadata": {
        "id": "DBYl3KnkbZy9"
      }
    },
    {
      "cell_type": "markdown",
      "source": [
        "Compare how insights are derived from:\n",
        "\n",
        "- Structured retail data (e.g., sales, customers, store performance)\n",
        "- Unstructured e-commerce roduct review data (e.g., text reviews from women’s clothing dataset)"
      ],
      "metadata": {
        "id": "LYPk-8RxcD7f"
      }
    },
    {
      "cell_type": "markdown",
      "source": [
        "### Unstructured vs structured data\n",
        "- Data format: Product reviews are ubstructured free-text fields whereas data from the retail dataset are structured in tables\n",
        "- The former are qualitative, the latter are quantitative.\n",
        "- Product reviews aim at understanding customer opinions, satisfaction and concerns; retail data track sales, analyze  store performance ans customer behaviours\n",
        "  - Analysis methods are quite different:\n",
        "  - Sentiment analysis (e.g. TextBlob)\n",
        "  - Word frequency / keyword extraction\n",
        "  - Topic modeling\n",
        "  - Correlating sentiment with rating on the one hand,\n",
        "\n",
        "  - Aggregations with groupby()\n",
        "  - Time-series analysis\n",
        "  - Performance metrics by store/date\n",
        "  - Trend detection on the other hand\n",
        "\n",
        "  A few example insights\n",
        "  from unstructured data ==>\n",
        "  - Customers love the product quality but often complain about sizing\n",
        "  - Frequent mentions of “comfortable,” “tight,” or “return”\n",
        "  - Reviews with low sentiment align with lower star ratings\n",
        "\n",
        "   from structured data ==>\n",
        "   - Store 20 had the highest sales in Q1\n",
        "  - Sales peak in November during promotions\n",
        "  - Customers purchase more on holidays\n",
        "  - Store 5 underperforms consistently\n",
        "  Added value of both processes\n",
        "  unstructured data\n",
        "  - Captures the voice of the customer\n",
        "  - Highlights hidden issues (e.g., “itchy fabric”) not visible in numbers\n",
        "  - Identifies product strengths/weaknesses\n",
        "  structured data\n",
        "  - Measures what is happening (e.g., sales trends)\n",
        "  - Enables forecasting and operational decisions\n",
        "  - Tracks performance metrics over time or by location\n",
        "\n",
        " ** Conclusion **\n",
        "\n",
        "  Regarding challenges one is confronted with when analyzing unstructured versus structured data:\n",
        "\n",
        "  Unstructured data\n",
        "  - Requires text preprocessing and NLP\n",
        "  - Sentiment can be ambiguous or inconsistent\n",
        "  - It is harder to quantify\n",
        "\n",
        "  Structured data\n",
        "  - Is easier to analyze but lacks depth\n",
        "  - Doesn’t explain why a product sells well or poorly\n",
        "\n",
        "  Yet, they respectively\n",
        "  \n",
        "  - Explain why sales are rising or falling — customer feedback, complaints, preferences\n",
        "  - Shows what is happening — performance, trends, revenue data\n"
      ],
      "metadata": {
        "id": "pTpiF4jfTD9Q"
      }
    },
    {
      "cell_type": "markdown",
      "source": [
        "Comparative Discussion (to sum it up)\n",
        "\n",
        "| Aspect     | Structured (Retail)                           | Unstructured (Reviews)                   |\n",
        "| ---------- | --------------------------------------------- | ---------------------------------------- |\n",
        "| Insights   | Sales trends, customer loyalty, store ranking | Sentiment, product perception, topics    |\n",
        "| Tools Used | GroupBy, sum/mean                             | TextBlob, word frequency                 |\n",
        "| Challenges | Clean data format                             | Text cleaning, ambiguity, missing values |\n",
        "| Use Cases  | Sales forecasting                             | Product improvement, sentiment tracking  |\n"
      ],
      "metadata": {
        "id": "8C3S8dghcV2N"
      }
    },
    {
      "cell_type": "markdown",
      "source": [
        "#Exercise 2: Basic Data Exploration in E-Commerce\n",
        "\n",
        "Dataset: E-Commerce Data\n"
      ],
      "metadata": {
        "id": "MD_gFDETcyQd"
      }
    },
    {
      "cell_type": "markdown",
      "source": [
        "Exercise 2: Basic Data Exploration in E-Commerce Dataset: Use the “E-Commerce Data” dataset.\n",
        "\n",
        "- Load the dataset using Pandas and print the first few rows to understand its structure.\n",
        "- Print basic information about the dataset, like the number of rows, columns, and column names.\n",
        "- Identify which columns in the dataset represent structured data (like numerical values, dates, fixed categories).\n",
        "- Suggest what type of unstructured data could complement this dataset for a more comprehensive analysis (e.g., customer reviews, product descriptions).\n",
        "- Discuss how this unstructured data might be used in conjunction with the structured data."
      ],
      "metadata": {
        "id": "ICPMkfYnal5t"
      }
    },
    {
      "cell_type": "code",
      "source": [
        "import pandas as pd"
      ],
      "metadata": {
        "id": "e5R_VUUai2Bh"
      },
      "execution_count": null,
      "outputs": []
    },
    {
      "cell_type": "code",
      "source": [
        "!pip install chardet"
      ],
      "metadata": {
        "colab": {
          "base_uri": "https://localhost:8080/"
        },
        "id": "bBwnB8FchyLp",
        "outputId": "1b9dbfb6-7b03-4a77-d9d3-3fa26749c188"
      },
      "execution_count": null,
      "outputs": [
        {
          "output_type": "stream",
          "name": "stdout",
          "text": [
            "Requirement already satisfied: chardet in /usr/local/lib/python3.11/dist-packages (5.2.0)\n"
          ]
        }
      ]
    },
    {
      "cell_type": "code",
      "source": [
        "df = pd.read_csv('data.csv', encoding='ISO-8859-1', delimiter=';')"
      ],
      "metadata": {
        "id": "vD2bOM9ykBZI"
      },
      "execution_count": null,
      "outputs": []
    },
    {
      "cell_type": "code",
      "source": [
        "# Basic info\n",
        "print(df.head())\n",
        "print(df.tail())\n",
        "df.columns.tolist()"
      ],
      "metadata": {
        "colab": {
          "base_uri": "https://localhost:8080/"
        },
        "id": "eoG1tOFWkPe2",
        "outputId": "4e57a2bd-a2fd-48fc-90bd-919f461e6425"
      },
      "execution_count": null,
      "outputs": [
        {
          "output_type": "stream",
          "name": "stdout",
          "text": [
            "  InvoiceNo,StockCode,Description,Quantity,InvoiceDate,UnitPrice,CustomerID,Country\n",
            "0  536365,85123A,WHITE HANGING HEART T-LIGHT HOLD...                               \n",
            "1  536365,71053,WHITE METAL LANTERN,6,12/1/2010 8...                               \n",
            "2  536365,84406B,CREAM CUPID HEARTS COAT HANGER,8...                               \n",
            "3  536365,84029G,KNITTED UNION FLAG HOT WATER BOT...                               \n",
            "4  536365,84029E,RED WOOLLY HOTTIE WHITE HEART.,6...                               \n",
            "       InvoiceNo,StockCode,Description,Quantity,InvoiceDate,UnitPrice,CustomerID,Country\n",
            "911386  577742,22558,CLOTHES PEGS RETROSPOT PACK 24 ,1...                               \n",
            "911387  577742,82616C,MIDNIGHT GLAMOUR SCARF KNITTING ...                               \n",
            "911388  577742,21731,RED TOADSTOOL LED NIGHT LIGHT,1,1...                               \n",
            "911389  577742,22804,PINK HANGING HEART T-LIGHT HOLDER...                               \n",
            "911390      577742,21098,CHRISTMAS TOILET ROLL,1,11/21/20                               \n"
          ]
        },
        {
          "output_type": "execute_result",
          "data": {
            "text/plain": [
              "['InvoiceNo,StockCode,Description,Quantity,InvoiceDate,UnitPrice,CustomerID,Country']"
            ]
          },
          "metadata": {},
          "execution_count": 14
        }
      ]
    },
    {
      "cell_type": "code",
      "source": [
        "numerical_cols = df.select_dtypes(include=['number']).columns\n",
        "print(\"Colonnes numériques :\")\n",
        "print(numerical_cols.tolist())\n"
      ],
      "metadata": {
        "colab": {
          "base_uri": "https://localhost:8080/"
        },
        "id": "7it5-yzZloaT",
        "outputId": "5b66fa60-8dcd-4997-ab7d-d856bf4c24b0"
      },
      "execution_count": null,
      "outputs": [
        {
          "output_type": "stream",
          "name": "stdout",
          "text": [
            "Colonnes numériques :\n",
            "[]\n"
          ]
        }
      ]
    },
    {
      "cell_type": "code",
      "source": [
        "# Colonnes avec types non numériques (object, string, etc.)\n",
        "non_numerical_cols = df.select_dtypes(exclude=['number']).columns\n",
        "print(\"\\nColonnes non numériques :\")\n",
        "print(non_numerical_cols.tolist())"
      ],
      "metadata": {
        "colab": {
          "base_uri": "https://localhost:8080/"
        },
        "id": "0LkqM719lvYm",
        "outputId": "c91ca9d2-7994-45f4-b822-8f00029ed59d"
      },
      "execution_count": null,
      "outputs": [
        {
          "output_type": "stream",
          "name": "stdout",
          "text": [
            "\n",
            "Colonnes non numériques :\n",
            "['InvoiceNo,StockCode,Description,Quantity,InvoiceDate,UnitPrice,CustomerID,Country']\n"
          ]
        }
      ]
    },
    {
      "cell_type": "code",
      "source": [
        "print(df.dtypes)"
      ],
      "metadata": {
        "colab": {
          "base_uri": "https://localhost:8080/"
        },
        "id": "ECBaDBfil1__",
        "outputId": "36081ba3-e38c-4185-d7e1-b3570371cf1f"
      },
      "execution_count": null,
      "outputs": [
        {
          "output_type": "stream",
          "name": "stdout",
          "text": [
            "InvoiceNo,StockCode,Description,Quantity,InvoiceDate,UnitPrice,CustomerID,Country    object\n",
            "dtype: object\n"
          ]
        }
      ]
    },
    {
      "cell_type": "markdown",
      "source": [
        "All column datatypes are object, there are no structured data.\n",
        "\n",
        "That data could be converted into numeric values which could, of course, complement customer reviews, and product descriptions."
      ],
      "metadata": {
        "id": "Ngplr2rto23s"
      }
    },
    {
      "cell_type": "markdown",
      "source": [
        "# Exercise 3: Analyzing a Public Transportation Dataset with a Focus on Data Types\n",
        "\n",
        "Dataset: Use the “Metro Interstate Traffic Volume” dataset.\n",
        "\n",
        "- Load the dataset and display the first few rows to get a sense of the data. -\n",
        "Identify and print the structured elements in the dataset, such as date-time, traffic volume, etc.\n",
        "- Based on your observation of the dataset, categorize the data elements as structured or unstructured. For example, consider elements like weather descriptions, date-time, and traffic volume.\n",
        "Explain why you categorized them as such.\n"
      ],
      "metadata": {
        "id": "cpR_rC2fdVd1"
      }
    },
    {
      "cell_type": "code",
      "source": [
        "import pandas as pd\n",
        "\n",
        "# Load the dataset (adjust filename/path as needed)\n",
        "df = pd.read_csv(\"Metro_Interstate_Traffic_Volume.csv\")\n",
        "\n",
        "# Display the first few rows\n",
        "print(df.head())\n"
      ],
      "metadata": {
        "colab": {
          "base_uri": "https://localhost:8080/"
        },
        "id": "vOBYSEAPqbAQ",
        "outputId": "03705d7d-a242-4cd4-9ce6-c7b588913f4c"
      },
      "execution_count": null,
      "outputs": [
        {
          "output_type": "stream",
          "name": "stdout",
          "text": [
            "  holiday    temp  rain_1h  snow_1h  clouds_all weather_main  \\\n",
            "0     NaN  288.28      0.0      0.0          40       Clouds   \n",
            "1     NaN  289.36      0.0      0.0          75       Clouds   \n",
            "2     NaN  289.58      0.0      0.0          90       Clouds   \n",
            "3     NaN  290.13      0.0      0.0          90       Clouds   \n",
            "4     NaN  291.14      0.0      0.0          75       Clouds   \n",
            "\n",
            "  weather_description            date_time  traffic_volume  \n",
            "0    scattered clouds  2012-10-02 09:00:00            5545  \n",
            "1       broken clouds  2012-10-02 10:00:00            4516  \n",
            "2     overcast clouds  2012-10-02 11:00:00            4767  \n",
            "3     overcast clouds  2012-10-02 12:00:00            5026  \n",
            "4       broken clouds  2012-10-02 13:00:00            4918  \n"
          ]
        }
      ]
    },
    {
      "cell_type": "code",
      "execution_count": null,
      "metadata": {
        "id": "4tX6dMXlbFrR",
        "colab": {
          "base_uri": "https://localhost:8080/"
        },
        "outputId": "c7b514c4-4245-4668-fc88-f98e606115f0"
      },
      "outputs": [
        {
          "output_type": "stream",
          "name": "stdout",
          "text": [
            "Structured Elements: ['date_time', 'traffic_volume', 'temp', 'rain_1h', 'snow_1h']\n",
            "holiday: Unstructured\n",
            "temp: Structured\n",
            "rain_1h: Structured\n",
            "snow_1h: Structured\n",
            "clouds_all: Structured\n",
            "weather_main: Unstructured\n",
            "weather_description: Unstructured\n",
            "date_time: Unstructured\n",
            "traffic_volume: Structured\n"
          ]
        }
      ],
      "source": [
        "# Identify structured elements\n",
        "structured = ['date_time', 'traffic_volume', 'temp', 'rain_1h', 'snow_1h']\n",
        "print(\"Structured Elements:\", structured)\n",
        "\n",
        "# Categorize each column\n",
        "for col in df.columns:\n",
        "    print(f\"{col}: {'Structured' if df[col].dtype != 'object' else 'Unstructured'}\")\n"
      ]
    },
    {
      "cell_type": "markdown",
      "source": [
        "\n",
        "\n",
        "| Column                | Type         | Reason                |\n",
        "| --------------------- | ------------ | --------------------- |\n",
        "| `traffic_volume`      | Structured   | Numeric, quantifiable |\n",
        "| `date_time`           | Structured   | Timestamp             |\n",
        "| `weather_description` | Unstructured | Free-text             |\n",
        "| `holiday`             | Structured   | Fixed categories      |\n",
        "| `temp`, `rain_1h`     | Structured   | Numerical values      |\n"
      ],
      "metadata": {
        "id": "R53g8V_Edbk7"
      }
    },
    {
      "cell_type": "markdown",
      "source": [
        "Conclusion\n",
        "\n",
        "Regarding Structured vs. Unstructured Data\n",
        "\n",
        "- Structured Data Elements\n",
        "Are well-organized, machine-readable fields with defined formats:\n",
        "- Unstructured or Semi-Structured Data Elements\n",
        "Aare harder to process automatically without text parsing or NLP:\n",
        "It is important because it has an impact on the way that data is used and processed:\n",
        "- Structured s=data allows Filtering, grouping, time series, and the use of pandas, numeric method\n",
        "- Unstructured data alloqs sentiment/weather classification, clustering, and requires NLP or text processing\n",
        "- Semi-Structured allows classification, labeling, and can be\n",
        "converted to categorical or one-hot.\n",
        "\n"
      ],
      "metadata": {
        "id": "ERJhhWvXrHWd"
      }
    },
    {
      "cell_type": "markdown",
      "source": [
        "# Exercise 4: Basic Data Analysis – Movie Ratings\n",
        "\n",
        "Basic Data Analysis in a Movie Ratings Dataset Dataset: Use the “MovieLens Latest Datasets”.\n",
        "\n",
        "- Load the ‘ratings.csv’ file from the dataset, which contains user ratings for movies, and display the first few rows.\n",
        "- Identify and list down the structured elements in the dataset, such as user IDs, movie IDs, ratings, and timestamps.\n",
        "- Explain why the data elements in the ‘ratings.csv’ file are considered structured data.\n",
        "\n",
        "Dataset: MovieLens Latest → ratings.csv\n"
      ],
      "metadata": {
        "id": "OeWkJL7ud6xk"
      }
    },
    {
      "cell_type": "code",
      "source": [
        "import pandas as pd\n",
        "\n",
        "rating_df = pd.read_csv('rating.csv')"
      ],
      "metadata": {
        "id": "piiO5eYVwUFm"
      },
      "execution_count": null,
      "outputs": []
    },
    {
      "cell_type": "code",
      "source": [
        "print(rating_df.head())"
      ],
      "metadata": {
        "colab": {
          "base_uri": "https://localhost:8080/"
        },
        "id": "ofCXbkviwbn4",
        "outputId": "3873aab1-c270-401b-aae6-fb338af5e1b5"
      },
      "execution_count": null,
      "outputs": [
        {
          "output_type": "stream",
          "name": "stdout",
          "text": [
            "   userId  movieId  rating            timestamp\n",
            "0       1        2     3.5  2005-04-02 23:53:47\n",
            "1       1       29     3.5  2005-04-02 23:31:16\n",
            "2       1       32     3.5  2005-04-02 23:33:39\n",
            "3       1       47     3.5  2005-04-02 23:32:07\n",
            "4       1       50     3.5  2005-04-02 23:29:40\n"
          ]
        }
      ]
    },
    {
      "cell_type": "code",
      "source": [
        "# Structured elements\n",
        "structured_cols = ['userId', 'movieId', 'rating', 'timestamp']\n",
        "print(\"Structured Elements:\", structured_cols)\n",
        "\n",
        "# Explain structure\n",
        "for col in structured_cols:\n",
        "    print(f\"{col}: {rating_df[col].dtype}\")\n"
      ],
      "metadata": {
        "id": "YtGHu7mod7tL",
        "colab": {
          "base_uri": "https://localhost:8080/"
        },
        "outputId": "d0e77fb0-9a04-4244-8fff-934b36238f77"
      },
      "execution_count": null,
      "outputs": [
        {
          "output_type": "stream",
          "name": "stdout",
          "text": [
            "Structured Elements: ['userId', 'movieId', 'rating', 'timestamp']\n",
            "userId: int64\n",
            "movieId: int64\n",
            "rating: float64\n",
            "timestamp: object\n"
          ]
        }
      ]
    },
    {
      "cell_type": "markdown",
      "source": [
        "Why Structured?\n",
        "\n",
        "- All columns contain numeric or timestamp data\n",
        "- Fields are predefined with a consistent format\n",
        "- Easy to analyze quantitatively (e.g., average rating, user activity)"
      ],
      "metadata": {
        "id": "ECX2iKwkeWua"
      }
    },
    {
      "cell_type": "markdown",
      "source": [
        "# Exercise 5: Generate a Synthetic Product Catalog with Faker\n",
        "\n",
        "Goal:\n",
        "Create 500 fake products with:\n",
        "- ID\n",
        "- Name\n",
        "- Description\n",
        "- Price"
      ],
      "metadata": {
        "id": "Yi4spZcZeYDk"
      }
    },
    {
      "cell_type": "code",
      "source": [
        "!pip install faker"
      ],
      "metadata": {
        "colab": {
          "base_uri": "https://localhost:8080/"
        },
        "id": "F85fcbbWyEpH",
        "outputId": "50a30091-dbe9-4140-b196-d76b58c3bd43"
      },
      "execution_count": null,
      "outputs": [
        {
          "output_type": "stream",
          "name": "stdout",
          "text": [
            "Collecting faker\n",
            "  Downloading faker-37.5.3-py3-none-any.whl.metadata (15 kB)\n",
            "Requirement already satisfied: tzdata in /usr/local/lib/python3.11/dist-packages (from faker) (2025.2)\n",
            "Downloading faker-37.5.3-py3-none-any.whl (1.9 MB)\n",
            "\u001b[2K   \u001b[90m━━━━━━━━━━━━━━━━━━━━━━━━━━━━━━━━━━━━━━━━\u001b[0m \u001b[32m1.9/1.9 MB\u001b[0m \u001b[31m10.1 MB/s\u001b[0m eta \u001b[36m0:00:00\u001b[0m\n",
            "\u001b[?25hInstalling collected packages: faker\n",
            "Successfully installed faker-37.5.3\n"
          ]
        }
      ]
    },
    {
      "cell_type": "code",
      "source": [
        "from faker import Faker\n",
        "import pandas as pd\n",
        "import random\n",
        "\n",
        "fake = Faker()\n",
        "products = []\n",
        "\n",
        "for i in range(500):\n",
        "    product = {\n",
        "        'Product ID': i + 1,\n",
        "        'Name': fake.word().capitalize() + \" \" + fake.word().capitalize(),\n",
        "        'Description': fake.sentence(),\n",
        "        'Price': round(random.uniform(10, 500), 2)\n",
        "    }\n",
        "    products.append(product)\n",
        "\n",
        "# Convert to DataFrame\n",
        "df = pd.DataFrame(products)\n",
        "print(df.head())\n",
        "\n",
        "# Optionally save to CSV\n",
        "df.to_csv('synthetic_product_catalog.csv', index=False)\n"
      ],
      "metadata": {
        "id": "MCx-GLBLeei0",
        "colab": {
          "base_uri": "https://localhost:8080/"
        },
        "outputId": "1937e02b-5d8a-4d36-de06-e8ac74382837"
      },
      "execution_count": null,
      "outputs": [
        {
          "output_type": "stream",
          "name": "stdout",
          "text": [
            "   Product ID                 Name  \\\n",
            "0           1        Office Budget   \n",
            "1           2     Writer Direction   \n",
            "2           3      According Owner   \n",
            "3           4  Particularly Factor   \n",
            "4           5           Far Artist   \n",
            "\n",
            "                                         Description   Price  \n",
            "0               Later treat dark perhaps feel visit.  207.96  \n",
            "1                           Wrong offer them almost.  207.33  \n",
            "2        White it house might perhaps minute member.  493.99  \n",
            "3    Behavior thought station value join tend thing.  230.79  \n",
            "4  Forward example something produce buy culture ...  181.62  \n"
          ]
        }
      ]
    },
    {
      "cell_type": "markdown",
      "source": [
        "### **Short Conclusion: Structured vs. Unstructured Data**\n",
        "\n",
        "* **Structured data** is organized and easy to analyze — like numbers, dates, or categories in tables.\n",
        "* **Unstructured data** is messy but rich — like reviews, images, or text that need more work to understand.\n",
        "\n",
        "> **Altogether**, structured data shows *what* is happening, and unstructured data explains *why*. Using both gives a clearer, deeper view.\n"
      ],
      "metadata": {
        "id": "4-uu8PWEzPk1"
      }
    }
  ]
}