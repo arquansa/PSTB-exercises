{
  "nbformat": 4,
  "nbformat_minor": 0,
  "metadata": {
    "colab": {
      "provenance": [],
      "authorship_tag": "ABX9TyPPOoVuCOQ6cUih1ZuBaYvT",
      "include_colab_link": true
    },
    "kernelspec": {
      "name": "python3",
      "display_name": "Python 3"
    },
    "language_info": {
      "name": "python"
    }
  },
  "cells": [
    {
      "cell_type": "markdown",
      "metadata": {
        "id": "view-in-github",
        "colab_type": "text"
      },
      "source": [
        "<a href=\"https://colab.research.google.com/github/arquansa/PSTB-exercises/blob/main/Week09/Day3/DC3/W9D3DC.ipynb\" target=\"_parent\"><img src=\"https://colab.research.google.com/assets/colab-badge.svg\" alt=\"Open In Colab\"/></a>"
      ]
    },
    {
      "cell_type": "markdown",
      "source": [
        "AI Agent - Last Updated: April 29th, 2025\n",
        "\n",
        "#Daily Challenge : AI Agent for Emergency Medical Dispatch#\n",
        "\n",
        "👩‍🏫 👩🏿‍🏫 What You’ll learn\n",
        "You’ll deepen your understanding of how AI agents perceive, reason, and act by analyzing their architecture and designing your own. You’ll also critically compare agent types and decide which is best for specific tasks.\n",
        "\n",
        "🛠️ What you will create\n",
        "You’ll design a smart emergency dispatch agent that assists in triaging 911 calls, gathering critical patient data, and dispatching appropriate medical services. You’ll define its architecture, tools, state management, and evaluate the trade-offs between different agent types.\n",
        "\n",
        "🛠 What will you use\n",
        "Agent concepts: perception, reasoning, action loops\n",
        "Architecture types: reactive, deliberative, hybrid\n",
        "Tools & integrations: symptom‐checker APIs, dispatch scheduling systems, GIS/location services\n",
        "State management: memory of caller info, symptom history, decision logs\n",
        "Evaluation criteria: urgency determination, response speed, reliability, safety trade-offs\n",
        "\n",
        "Step-by-Step Instructions\n",
        "1. Understand the Scenario\n",
        "\n",
        "Read the challenge description.\n",
        "Note the goal: build an AI assistant that triages 911 calls and dispatches medical help.\n",
        "\n",
        "2. Define the Agent’s Environment\n",
        "- List all inputs your agent will “perceive”:\n",
        "- Voice or text transcript of caller’s symptoms\n",
        "- Caller location (GPS/address)\n",
        "- Caller identity and medical history (if available)\n",
        "- Write down each input as bullet points in your notes.\n",
        "\n",
        "3. Select and Describe Tools\n",
        "Identify at least three external systems or APIs your agent needs:\n",
        "- Symptom Checker API (e.g., Infermedica)\n",
        "- Ambulance Scheduling System (e.g., internal dispatch API)\n",
        "- Medical Triage Model (e.g., fine-tuned LLM for severity scoring)\n",
        "\n",
        "For each tool, note: what data it consumes, and what it returns.\n",
        "\n",
        "4. Outline State Management\n",
        "\n",
        "Decide what the agent must remember across the call:\n",
        "\n",
        "- Caller identity and contact info\n",
        "- Reported symptoms and their severity\n",
        "- Decisions/actions taken so far (e.g., advised self-care, dispatched ambulance)\n",
        "- Sketch a simple state table or JSON schema listing these fields.\n",
        "\n",
        "5. Design the Decision-Making Process\n",
        "\n",
        "Break down urgency determination into steps:\n",
        "- Parse symptoms → extract severity keywords\n",
        "- Query triage model → get “urgency score”\n",
        "- Compare score against thresholds → “High”, “Medium”, “Low”\n",
        "- Define what the agent does at each level:\n",
        "    - High → dispatch ambulance immediately\n",
        "    - Medium → advise nearest urgent care\n",
        "    - Low → provide self-care instructions\n",
        "\n",
        "6. Classify Your Agent\n",
        "Choose one architecture type (Reactive, Deliberative, or Hybrid).\n",
        "Justify:\n",
        "  - How does it use memory?\n",
        "  - Does it plan ahead or act on immediate inputs?\n",
        "  - Example justification in 2–3 sentences.\n",
        "\n",
        "7. Compare to a Second Agent Type\n",
        "Pick a different type (e.g., if you chose Hybrid, compare to Reactive).\n",
        "- Describe how your design would change:\n",
        "    - Memory handling\n",
        "    - Planning steps or lack thereof\n",
        "    - Tool invocation strategy\n",
        "List trade-offs in\n",
        "    - speed,\n",
        "    - reliability, and\n",
        "    - intelligence (one bullet each).\n",
        "\n",
        "8. Reflect on Critical Questions\n",
        "- What fails if your agent does not maintain state?\n",
        "- Why are external tools (APIs, models) essential in an EMR dispatch scenario?\n",
        "- Write 2–3 sentences for each reflection question.\n",
        "_____________________________________________________________\n",
        "\n",
        "Deliverables\n",
        "\n",
        "1. Design Document (Markdown or Notebook)\n",
        "Environment definition\n",
        "Tool list & interfaces\n",
        "State schema\n",
        "Decision-making flowchart or pseudocode\n",
        "\n",
        "2. Agent Classification & Comparison\n",
        "Chosen architecture with justification\n",
        "Comparison to second type with trade-off analysis\n",
        "\n",
        "3. Reflection Answers\n",
        "Impact of no state management\n",
        "Role of tools in high-stakes dispatch\n",
        "\n",
        "4. (Optional) GitHub Submission\n",
        "Push your final .md or notebook to a public repo and share the link."
      ],
      "metadata": {
        "id": "Bwmrn01ypDAP"
      }
    },
    {
      "cell_type": "markdown",
      "source": [
        "#1. Smart Emergency Dispatch Agent — Overview#\n",
        "Triages 911 calls, assists emergency response centers and dispatches medical help:\n",
        "\n",
        "**Handles incoming emergency calls**\n",
        "- Receives voice or text emergency calls via automated interfaces.\n",
        "- Uses speech-to-text and NLP to extract relevant\n",
        "information (location, urgency, symptoms).\n",
        "- Prioritizes based on severity (triage logic).\n",
        "\n",
        "**Manages patient data**\n",
        "- Collects medical history (if available via health records or caller input).\n",
        "- Identifies high-risk patients (e.g., elderly, chronic\n",
        "conditions).\n",
        "- Updates centralized records in real time.\n",
        "\n",
        "**Dispatches medical services**\n",
        "- Matches case severity with appropriate response (ambulance, paramedic, airlift).\n",
        "- Considers location, traffic, resource availability.\n",
        "- Sends alerts and real-time updates to EMS teams."
      ],
      "metadata": {
        "id": "1cSJr-mCEK-_"
      }
    },
    {
      "cell_type": "markdown",
      "source": [
        "#2. Inputs perceived by the Agent#"
      ],
      "metadata": {
        "id": "N1CJ1jj3EJSp"
      }
    },
    {
      "cell_type": "markdown",
      "source": [
        "Here is a concise list of inputs perceived by the agent of an intelligent emergency system, within the framework of its interaction environment (multimodal inputs):\n",
        " Inputs the Agent Must Perceive\n",
        "- Call transcription — a text summary of what the caller says, particularly the symptoms reported (e.g. breathing difficulty, chest pain).\n",
        "- Caller’s phone number — used to call back if the call drops or if the location information needs clarifying.\n",
        "- Patient location — either entered/addressed by the caller or captured from mobile-based GPS (e.g. Advanced Mobile Location).\n",
        "- Caller/patient identity — name, relationship (e.g. friend/family member), or Patient ID if linked to an electronic health record.\n",
        "- Patient demographics — age, sex (collected by caller or extracted from EHR).\n",
        "- Structured symptom responses — answers to standardized triage questions (e.g. level of consciousness, pain, breathing). These follow systems like MPDS/AMPDS to guide severity assessment.\n",
        "- Known medical history — reported by patient or retrieved from EHR/national ID registry (e.g. chronic conditions, allergies).\n",
        "- Emotional tone of voice — stress, hysteria, calm, etc., used as ancillary signal to help assess urgency.\n",
        "- Time stamps of the call — when the call started, transferred, ended (useful for monitoring response times).\n",
        "- EMS resource status — real-time locations and availability of nearby ambulances or medical units (e.g. GPS, unit type).\n",
        "- Environmental context — traffic conditions, weather reports, road hazards, IoT sensors in the area.\n",
        "- Hospital/diversion status — local hospitals’ capacity, wait times, or diversion protocols.\n",
        "\n"
      ],
      "metadata": {
        "id": "RnDDETijEJOB"
      }
    },
    {
      "cell_type": "markdown",
      "source": [
        "To sum it up:\n",
        "\n",
        "| **Input Category**   | **Examples**                                                            |\n",
        "| -------------------- | ----------------------------------------------------------------------- |\n",
        "| **Caller / Patient** | Symptoms, identity, age, medical history, emotional state               |\n",
        "| **Call Metadata**    | Caller ID/phone number, geolocation, timestamp                          |\n",
        "| **External Data**    | Traffic conditions, weather, hospital availability, EMS resource status |"
      ],
      "metadata": {
        "id": "EtWbFIvoEJMQ"
      }
    },
    {
      "cell_type": "markdown",
      "source": [
        "#3. Tools, external systems or APIs the Agent needs#\n",
        "\n",
        "Tools - APIs, models, and systems - the agent will interact with, including data consumed and returned."
      ],
      "metadata": {
        "id": "VUA22ty7tzzJ"
      }
    },
    {
      "cell_type": "markdown",
      "source": [
        "| Tool/Service                | Purpose                                    | Integration                           |\n",
        "| --------------------------- | ------------------------------------------ | ------------------------------------- |\n",
        "| **Infermedica API**         | Symptom checking & triage                  | REST API                              |\n",
        "| **Dispatch Scheduling API** | To assign and dispatch ambulances          | REST API / internal                   |\n",
        "| **GIS/Location Services**   | GPS, geolocation, and nearest care centers | Google Maps API, OpenCage, etc.       |\n",
        "| **Triage Model (LLM)**      | Severity scoring from symptoms             | OpenAI API, or fine-tuned local model |\n",
        "| **Caller ID/Medical DB**    | For fetching caller history and identity   | Internal DB/API                       |\n"
      ],
      "metadata": {
        "id": "N0fQSKURhEUl"
      }
    },
    {
      "cell_type": "markdown",
      "source": [
        "#4. State Management Options#\n",
        "\n",
        "\n"
      ],
      "metadata": {
        "id": "mwgSfC0yhSes"
      }
    },
    {
      "cell_type": "markdown",
      "source": [
        "**Agent State Management — What to retain throughout an emergency cal\n",
        "\n",
        "Concise list of key data fields the dispatcher agent must remember throughout the call:\n",
        "\n",
        "- **Caller identity & contact information** — callerName, callerPhone\n",
        "- **Caller / Patient location** — address or GPS coordinates (location)\n",
        "- **Reported symptoms** — the list of symptoms verbally described or transcribed\n",
        "- **Symptom severity or priority score** — e.g., a numeric triage code (1 = low, 5 = critical)\n",
        "- **Dispatch protocol stage** — which step of the decision tree is currently being followed\n",
        "- **Decisions or actions taken** so far — e.g. “instructed self-care”, “ambulance dispatched”, “redirect to fire/EMS”\n",
        "- **Timestamp of key events** — e.g., call receipt, signal to dispatch, ambulance en route\n",
        "- **Confirmation that response arrived on scene** — onScene = true|false\n",
        "\n"
      ],
      "metadata": {
        "id": "4srbkFIZSoEJ"
      }
    },
    {
      "cell_type": "markdown",
      "source": [
        "State table of key data fields information gathered by dispatcher agent"
      ],
      "metadata": {
        "id": "ItcomA1pzbjm"
      }
    },
    {
      "cell_type": "markdown",
      "source": [
        "| **Key data field**                   | **Description**                                                         |\n",
        "| --------------------------- | ----------------------------------------------------------------------- |\n",
        "| `callerName`, `callerPhone` | Identity of the caller or patient, and their contact phone number       |\n",
        "| `location`                  | Reported location of the patient (address or GPS coordinates)           |\n",
        "| `reportedSymptoms`          | List of symptoms as verbalized or transcribed during the call           |\n",
        "| `severityScore`             | Triage-level urgency score—e.g. 1–5 (low to critical) or A–E codes      |\n",
        "| `protocolStage`             | Current decision-tree stage (which step in the triage protocol)         |\n",
        "| `decisionsTaken`            | Actions or advisories executed so far (e.g. “ambulance dispatched”)     |\n",
        "| `timestampCallReceived`     | ISO‑8601 timestamp when the call began                                  |\n",
        "| `timestampDispatched`       | ISO‑8601 timestamp when EMS unit(s) were dispatched                     |\n",
        "| `onSceneConfirmation`       | Boolean: whether EMS responders confirmed arrival at the incident scene |\n"
      ],
      "metadata": {
        "id": "mxnX0jVIbBNw"
      }
    },
    {
      "cell_type": "markdown",
      "source": [
        "#5. The Decision-Making Process#\n",
        "\n",
        "Break down urgency determination into steps:\n",
        "\n",
        "Parse symptoms → extract severity keywords\n",
        "Query triage model → get “urgency score”\n",
        "Compare score against thresholds → “High”, “Medium”, “Low”\n",
        "\n",
        "Define what the agent does at each level:\n",
        "\n",
        "- High → dispatch ambulance immediately\n",
        "- Medium → advise nearest urgent care\n",
        "+ Low → provide self-care instructions"
      ],
      "metadata": {
        "id": "mxzSOuUlLCO_"
      }
    },
    {
      "cell_type": "markdown",
      "source": [
        "#6. Classify Your Agent#\n",
        "Agents per\n",
        "\n",
        "Architecture type - Reactive, Deliberative, or Hybrid, Memory Usage, Planning Style, and Justification:\n",
        "\n",
        "| **Architecture Type**  | **Memory Usage** | **Planning Style**               | **Justification**                                                                                                                                                                                                                                                          |\n",
        "| ---------------------- | ---------------- | -------------------------------- | -------------------------------------------------------------------------------------------------------------------------------------------------------------------------------------------------------------------------------------------------------------------------- |\n",
        "| **Reactive Agent**     | Low              | No explicit planning             | Quick and simple; reacts to predefined stimuli (e.g., \"unconscious\" → immediate ambulance dispatch). Ideal for time-critical responses but no situational foresight.                                                                |\n",
        "| **Deliberative Agent** | High             | Goal-based, symbolic             | Uses internal models (e.g., triage trees, patient history) to plan actions. Suitable for complex cases with prioritization, trade-offs, or predictions, and possibly latency in emergencies.                                                                     |\n",
        "| **Hybrid Agent**       | Medium to High   | Layered: Reactive + Deliberative | Fast responses yet deeper reasoning. Reactive layer handles urgent tasks instantly; deliberative layer optimizes resource allocation and handles ambiguous scenarios. Best suited for EMD applications requiring speed and adaptability. |\n"
      ],
      "metadata": {
        "id": "Y6OBz5rpbVSq"
      }
    },
    {
      "cell_type": "markdown",
      "source": [
        "#7. Comparative Table of Agents\n",
        "**Reactive Agent versus Deliberative Agent**\n",
        "\n",
        "| **Aspect**               | **Reactive Agent**                                                               | **Deliberative Agent**                                              |\n",
        "| ------------------------ | -------------------------------------------------------------------------------- | ------------------------------------------------------------------- |\n",
        "| **Memory handling**      | • None<br>• Stateless: uses only current input                                   | • Full session state<br>• Tracks symptoms, decisions, timestamps    |\n",
        "| **Planning orientation** | • No planning<br>• Executes immediate rules                                      | • Plans ahead<br>• Uses belief model to simulate outcomes           |\n",
        "| **Tool invocation**      | • Calls dispatch rules directly upon symptom match                               | • Invokes planner module when uncertainty arises                    |\n",
        "| **Speed**                | ⚡ **Fast**<br>Minimal logic per step                                             | ⏳ **Slower**<br>Overhead from planning & updates                    |\n",
        "| **Reliability**          | ✔ Stable when inputs match rules<br>❌ Fragile with unexpected or evolving inputs | ✔ Adapts to novel cases<br>❌ Depends on model accuracy & fresh data |\n",
        "| **Intelligence**         | 🧠 Limited<br>No inference beyond lookup rules                                   | 🤖 High<br>Can infer intent/outcomes and optimize decisions         |\n",
        "\n"
      ],
      "metadata": {
        "id": "3KdjycXDbVMw"
      }
    },
    {
      "cell_type": "markdown",
      "source": [
        "#8. Reflect on Critical Questions#\n",
        "\n",
        "What fails if your agent does not maintain state?\n",
        "\n",
        "Why are external tools (APIs, models) essential in an EMR dispatch scenario?\n",
        "\n",
        "Answer in 2–3 sentences for each reflection question."
      ],
      "metadata": {
        "id": "U9ApkKR0bVI_"
      }
    },
    {
      "cell_type": "markdown",
      "source": [
        "What fails if your agent does not maintain state?\n",
        "\n",
        "Without session memory, the agent cannot track interrogation progress or evolving symptoms, cannot resume after call interruptions, and cannot make context‑aware dispatch decisions\n",
        "It leads to repeated questions, mis-triage, poor audit trails, and inconsistent instructions. It effectively becomes a stateless reactive system, unsuitable for multi-turn medical protocols and high-stakes decision support.\n",
        "Research shows that reactive (memoryless) agents diminished “situation awareness” in evolving dispatch calls, whereas model-based agents that retain state maintained coherence and performance.\n",
        "\n",
        "Why are external tools (APIs, models) essential in an EMR dispatch scenario?\n",
        "\n",
        "Because accurate dispatch requires real‑time location data, traffic-aware routing, hospital capacity, and triage classification, external APIs (e.g. geocoding, traffic, facility availability) and trained NLP/triage models provide the necessary precision that an agent alone cannot infer.\n",
        "\n",
        "These components enable optimal ambulance assignment, dynamic routing adjustments, symptom-to-urgency mapping, and reliable audit trails—all proven to reduce EMS response times and improve patient outcomes when tightly integrated into a dispatch platform."
      ],
      "metadata": {
        "id": "yg1HRuGBbVHK"
      }
    },
    {
      "cell_type": "markdown",
      "source": [
        "#Conclusion:#\n",
        "A Smart Emergency Dispatch Agent integrates multimodal perception, real-time reasoning, and layered planning for efficient management of emergency medical calls.\n",
        "\n",
        "It keeps interpreting caller data, symptoms, and external context to prioritize and coordinate timely EMS response.\n",
        "\n",
        "Decision accuracy and situational awareness is optimized through leveraging external APIs (e.g., for triage, geolocation, hospital load).\n",
        "\n",
        "Hybrid agent architecture enables fast reaction for urgent cases, as well as complex planning in ambiguous or evolving ones.\n",
        "\n",
        "Maintaining agent state is critical — without it, decisions become brittle, redundant, and potentially life-threatening."
      ],
      "metadata": {
        "id": "nIPF_8JL6AJy"
      }
    }
  ]
}