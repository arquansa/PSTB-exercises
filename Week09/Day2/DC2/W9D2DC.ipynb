{
  "nbformat": 4,
  "nbformat_minor": 0,
  "metadata": {
    "colab": {
      "provenance": []
    },
    "kernelspec": {
      "name": "python3",
      "display_name": "Python 3"
    },
    "language_info": {
      "name": "python"
    }
  },
  "cells": [
    {
      "cell_type": "markdown",
      "metadata": {
        "id": "view-in-github"
      },
      "source": [
        "<a href=\"https://colab.research.google.com/github/arquansa/PSTB-exercises/blob/main/Week09/Day2/DC2/W9D2DC.ipynb\" target=\"_parent\"><img src=\"https://colab.research.google.com/assets/colab-badge.svg\" alt=\"Open In Colab\"/></a>"
      ]
    },
    {
      "cell_type": "markdown",
      "source": [
        "#Daily Challenge : Run Code Llama on Kaggle using Gemma#\n",
        "\n",
        "Last Updated: April 29th, 2025\n",
        "\n",
        "👩‍🏫 👩🏿‍🏫 What You’ll learn\n",
        "How to run open-source LLMs like Code Llama on Kaggle using llama.cpp\n",
        "How to install and configure Gemma with CUDA support\n",
        "How to convert Hugging Face models\n",
        "How to generate code and text using Code Llama\n",
        "\n",
        "🛠️ What you will create\n",
        "You’ll deploy Code Llama 7B on Kaggle and generate Python code through prompts. You’ll also explore small exercises to play with inference using your own ideas!\n",
        "\n",
        "Warning : The Code Llama 7B model is not being publicly accessible on Kaggle without an approved access request.\n",
        "To do this exercise you will first need to request for access (which should not take too long) here\n",
        "\n",
        "In case you don’t get approved, you can consider the following alternative to avoid access requests : you will opt for a smaller and publicly available language model llama2-7b-chat that doesn’t require access requests. Download the Code Llama 7B model weights from Hugging Face and upload them to your Kaggle working directory or a publicly accessible storage location like Google Drive. You can then load the model from the downloaded weights.\n",
        "\n",
        "!pip install llama-cpp-python --verbose\n",
        "\n",
        "!wget https://huggingface.co/MaziyarPanahi/gemma-3-1b-it-GGUF/resolve/main/gemma-3-1b-it.Q8_0.gguf -O gemma-3-1b-it-Q8_0.gguf # Gemma 3 1B model Q8 in GGUF format (compatible with Llama)\n",
        "\n",
        "🛠️ What you will use?\n",
        "The method: using llama.cpp and llama-cpp-python for efficient inference\n",
        "The models: Code Llama 7B (or llama2-7b-chat as fallback) and Gemma\n",
        "The tools: Hugging Face, GGUF conversion, CUDA bindings\n",
        "\n",
        "\n",
        "💼 Prerequisites\n",
        "Kaggle account with GPU enabled\n",
        "(Optional) Access approved for Code Llama 7B\n",
        "Python basics and comfort with command line\n",
        "\n",
        "#Task\n",
        "\n",
        "**Part 1 : Install llama-cpp-python with CUDA bindings and clone the llama.cpp GitHub repository.**\n",
        "\n",
        "\n",
        "**Part 2 : Model Preparation : Convert the Hugging Face Code Llama model into GGUF format (optimized for llama.cpp).**\n",
        "\n",
        "\n",
        "**Part 3 : Load the converted model using the llama-cpp-python bindings.**\n"
      ],
      "metadata": {
        "id": "TyjJIbdPXlL5"
      }
    },
    {
      "cell_type": "markdown",
      "source": [
        "#**Part 1 : Install llama-cpp-python with CUDA bindings and clone the llama.cpp GitHub repository.**\n",
        "\n",
        "1. Create a new Kaggle or Google Colaboratory notebook with GPU runtime.\n",
        "\n",
        "2. Install dependencies:\n",
        "\n",
        "!pip install llama-cpp-python --verbose\n",
        "3. Clone llama.cpp:\n",
        "\n",
        "!git clone https://github.com/ggerganov/llama.cpp.git\n",
        "\n",
        "\n",
        "What you’ll use:\n",
        "\n",
        "Kaggle or Colab notebook UI\n",
        "pip for package installation\n",
        "git for repository cloning"
      ],
      "metadata": {
        "id": "1hVoFkr8atXi"
      }
    },
    {
      "cell_type": "markdown",
      "source": [
        "**1. Create a new Kaggle or Google Colaboratory notebook with GPU runtime.**"
      ],
      "metadata": {
        "id": "MFeyDSk4m6s9"
      }
    },
    {
      "cell_type": "markdown",
      "source": [
        "*# Fait - le notebook colab en cours*"
      ],
      "metadata": {
        "id": "VDTvnNYh7_HL"
      }
    },
    {
      "cell_type": "markdown",
      "source": [
        "**2. Install dependencies:**"
      ],
      "metadata": {
        "id": "v3hz7GdgfQeu"
      }
    },
    {
      "cell_type": "code",
      "source": [
        "!pip install llama-cpp-python --verbose"
      ],
      "metadata": {
        "id": "YPfKbiTVbsCP"
      },
      "execution_count": null,
      "outputs": []
    },
    {
      "cell_type": "markdown",
      "source": [
        "**3. Clone llama.cpp:**"
      ],
      "metadata": {
        "id": "PQAAn2yPe-S1"
      }
    },
    {
      "cell_type": "code",
      "execution_count": null,
      "metadata": {
        "colab": {
          "base_uri": "https://localhost:8080/"
        },
        "id": "mq4jrjqEXjJQ",
        "outputId": "eaee40fe-988f-47a7-ec1d-4b5ab67a5a03"
      },
      "outputs": [
        {
          "output_type": "stream",
          "name": "stdout",
          "text": [
            "Cloning into 'llama.cpp'...\n",
            "remote: Enumerating objects: 58076, done.\u001b[K\n",
            "remote: Counting objects: 100% (221/221), done.\u001b[K\n",
            "remote: Compressing objects: 100% (175/175), done.\u001b[K\n",
            "remote: Total 58076 (delta 140), reused 46 (delta 46), pack-reused 57855 (from 4)\u001b[K\n",
            "Receiving objects: 100% (58076/58076), 137.96 MiB | 11.77 MiB/s, done.\n",
            "Resolving deltas: 100% (41990/41990), done.\n"
          ]
        }
      ],
      "source": [
        "!git clone https://github.com/ggerganov/llama.cpp.git"
      ]
    },
    {
      "cell_type": "markdown",
      "source": [
        "#**Part 2 : Model Preparation : Convert the Hugging Face Code Llama model into GGUF format (optimized for llama.cpp).**\n",
        "\n",
        "**Option A:** Code Llama 7B (if approved)\n",
        "\n",
        "Request and download the model via Kaggle UI.\n",
        "\n",
        "Convert to GGUF for llama.cpp:\n",
        "\n",
        "cd llama.cpp python3 convert-hf-to-gguf.py\n",
        "--model hf/metaresearch/codellama-7b-pytorch\n",
        "--outfile codellama-7b.gguf\n",
        "\n",
        "**Option B:**\n",
        "1. llama2-7b-chat (public fallback)\n",
        "2. Download weights from Hugging Face:\n",
        "!wget https://huggingface.co/llama2/7b-chat/resolve/main/llama2-7b-chat.gguf\n"
      ],
      "metadata": {
        "id": "4PCp4pRjgP7c"
      }
    },
    {
      "cell_type": "markdown",
      "source": [
        "==> **B option was chosen and implemented**"
      ],
      "metadata": {
        "id": "qKIcT3GI9vMB"
      }
    },
    {
      "cell_type": "markdown",
      "source": [
        "**1. Request and download the model via Kaggle UI - llama2-7b-chat (public fallback).**"
      ],
      "metadata": {
        "id": "Yes4Opcy-33y"
      }
    },
    {
      "cell_type": "code",
      "source": [
        "!pip install llama-stack"
      ],
      "metadata": {
        "colab": {
          "base_uri": "https://localhost:8080/"
        },
        "id": "pRoabOLL7K6M",
        "outputId": "e6ac0c55-c4e7-42aa-89f8-2593232206b6"
      },
      "execution_count": null,
      "outputs": [
        {
          "output_type": "stream",
          "name": "stdout",
          "text": [
            "Requirement already satisfied: llama-stack in /usr/local/lib/python3.11/dist-packages (0.2.12)\n",
            "Requirement already satisfied: aiohttp in /usr/local/lib/python3.11/dist-packages (from llama-stack) (3.12.14)\n",
            "Requirement already satisfied: fastapi<1.0,>=0.115.0 in /usr/local/lib/python3.11/dist-packages (from llama-stack) (0.116.1)\n",
            "Requirement already satisfied: fire in /usr/local/lib/python3.11/dist-packages (from llama-stack) (0.7.0)\n",
            "Requirement already satisfied: httpx in /usr/local/lib/python3.11/dist-packages (from llama-stack) (0.28.1)\n",
            "Requirement already satisfied: huggingface-hub in /usr/local/lib/python3.11/dist-packages (from llama-stack) (0.34.1)\n",
            "Requirement already satisfied: jinja2>=3.1.6 in /usr/local/lib/python3.11/dist-packages (from llama-stack) (3.1.6)\n",
            "Requirement already satisfied: jsonschema in /usr/local/lib/python3.11/dist-packages (from llama-stack) (4.25.0)\n",
            "Requirement already satisfied: llama-stack-client>=0.2.12 in /usr/local/lib/python3.11/dist-packages (from llama-stack) (0.2.12)\n",
            "Requirement already satisfied: openai>=1.66 in /usr/local/lib/python3.11/dist-packages (from llama-stack) (1.97.1)\n",
            "Requirement already satisfied: prompt-toolkit in /usr/local/lib/python3.11/dist-packages (from llama-stack) (3.0.51)\n",
            "Requirement already satisfied: python-dotenv in /usr/local/lib/python3.11/dist-packages (from llama-stack) (1.1.1)\n",
            "Requirement already satisfied: python-jose in /usr/local/lib/python3.11/dist-packages (from llama-stack) (3.5.0)\n",
            "Requirement already satisfied: pydantic>=2 in /usr/local/lib/python3.11/dist-packages (from llama-stack) (2.11.7)\n",
            "Requirement already satisfied: requests in /usr/local/lib/python3.11/dist-packages (from llama-stack) (2.32.3)\n",
            "Requirement already satisfied: rich in /usr/local/lib/python3.11/dist-packages (from llama-stack) (13.9.4)\n",
            "Requirement already satisfied: setuptools in /usr/local/lib/python3.11/dist-packages (from llama-stack) (75.2.0)\n",
            "Requirement already satisfied: starlette in /usr/local/lib/python3.11/dist-packages (from llama-stack) (0.47.2)\n",
            "Requirement already satisfied: termcolor in /usr/local/lib/python3.11/dist-packages (from llama-stack) (3.1.0)\n",
            "Requirement already satisfied: tiktoken in /usr/local/lib/python3.11/dist-packages (from llama-stack) (0.9.0)\n",
            "Requirement already satisfied: pillow in /usr/local/lib/python3.11/dist-packages (from llama-stack) (11.3.0)\n",
            "Requirement already satisfied: h11>=0.16.0 in /usr/local/lib/python3.11/dist-packages (from llama-stack) (0.16.0)\n",
            "Requirement already satisfied: python-multipart>=0.0.20 in /usr/local/lib/python3.11/dist-packages (from llama-stack) (0.0.20)\n",
            "Requirement already satisfied: typing-extensions>=4.8.0 in /usr/local/lib/python3.11/dist-packages (from fastapi<1.0,>=0.115.0->llama-stack) (4.14.1)\n",
            "Requirement already satisfied: MarkupSafe>=2.0 in /usr/local/lib/python3.11/dist-packages (from jinja2>=3.1.6->llama-stack) (3.0.2)\n",
            "Requirement already satisfied: anyio<5,>=3.5.0 in /usr/local/lib/python3.11/dist-packages (from llama-stack-client>=0.2.12->llama-stack) (4.9.0)\n",
            "Requirement already satisfied: click in /usr/local/lib/python3.11/dist-packages (from llama-stack-client>=0.2.12->llama-stack) (8.2.1)\n",
            "Requirement already satisfied: distro<2,>=1.7.0 in /usr/local/lib/python3.11/dist-packages (from llama-stack-client>=0.2.12->llama-stack) (1.9.0)\n",
            "Requirement already satisfied: pandas in /usr/local/lib/python3.11/dist-packages (from llama-stack-client>=0.2.12->llama-stack) (2.2.2)\n",
            "Requirement already satisfied: pyaml in /usr/local/lib/python3.11/dist-packages (from llama-stack-client>=0.2.12->llama-stack) (25.7.0)\n",
            "Requirement already satisfied: sniffio in /usr/local/lib/python3.11/dist-packages (from llama-stack-client>=0.2.12->llama-stack) (1.3.1)\n",
            "Requirement already satisfied: tqdm in /usr/local/lib/python3.11/dist-packages (from llama-stack-client>=0.2.12->llama-stack) (4.67.1)\n",
            "Requirement already satisfied: certifi in /usr/local/lib/python3.11/dist-packages (from httpx->llama-stack) (2025.7.14)\n",
            "Requirement already satisfied: httpcore==1.* in /usr/local/lib/python3.11/dist-packages (from httpx->llama-stack) (1.0.9)\n",
            "Requirement already satisfied: idna in /usr/local/lib/python3.11/dist-packages (from httpx->llama-stack) (3.10)\n",
            "Requirement already satisfied: jiter<1,>=0.4.0 in /usr/local/lib/python3.11/dist-packages (from openai>=1.66->llama-stack) (0.10.0)\n",
            "Requirement already satisfied: annotated-types>=0.6.0 in /usr/local/lib/python3.11/dist-packages (from pydantic>=2->llama-stack) (0.7.0)\n",
            "Requirement already satisfied: pydantic-core==2.33.2 in /usr/local/lib/python3.11/dist-packages (from pydantic>=2->llama-stack) (2.33.2)\n",
            "Requirement already satisfied: typing-inspection>=0.4.0 in /usr/local/lib/python3.11/dist-packages (from pydantic>=2->llama-stack) (0.4.1)\n",
            "Requirement already satisfied: aiohappyeyeballs>=2.5.0 in /usr/local/lib/python3.11/dist-packages (from aiohttp->llama-stack) (2.6.1)\n",
            "Requirement already satisfied: aiosignal>=1.4.0 in /usr/local/lib/python3.11/dist-packages (from aiohttp->llama-stack) (1.4.0)\n",
            "Requirement already satisfied: attrs>=17.3.0 in /usr/local/lib/python3.11/dist-packages (from aiohttp->llama-stack) (25.3.0)\n",
            "Requirement already satisfied: frozenlist>=1.1.1 in /usr/local/lib/python3.11/dist-packages (from aiohttp->llama-stack) (1.7.0)\n",
            "Requirement already satisfied: multidict<7.0,>=4.5 in /usr/local/lib/python3.11/dist-packages (from aiohttp->llama-stack) (6.6.3)\n",
            "Requirement already satisfied: propcache>=0.2.0 in /usr/local/lib/python3.11/dist-packages (from aiohttp->llama-stack) (0.3.2)\n",
            "Requirement already satisfied: yarl<2.0,>=1.17.0 in /usr/local/lib/python3.11/dist-packages (from aiohttp->llama-stack) (1.20.1)\n",
            "Requirement already satisfied: filelock in /usr/local/lib/python3.11/dist-packages (from huggingface-hub->llama-stack) (3.18.0)\n",
            "Requirement already satisfied: fsspec>=2023.5.0 in /usr/local/lib/python3.11/dist-packages (from huggingface-hub->llama-stack) (2025.3.0)\n",
            "Requirement already satisfied: packaging>=20.9 in /usr/local/lib/python3.11/dist-packages (from huggingface-hub->llama-stack) (25.0)\n",
            "Requirement already satisfied: pyyaml>=5.1 in /usr/local/lib/python3.11/dist-packages (from huggingface-hub->llama-stack) (6.0.2)\n",
            "Requirement already satisfied: hf-xet<2.0.0,>=1.1.3 in /usr/local/lib/python3.11/dist-packages (from huggingface-hub->llama-stack) (1.1.5)\n",
            "Requirement already satisfied: jsonschema-specifications>=2023.03.6 in /usr/local/lib/python3.11/dist-packages (from jsonschema->llama-stack) (2025.4.1)\n",
            "Requirement already satisfied: referencing>=0.28.4 in /usr/local/lib/python3.11/dist-packages (from jsonschema->llama-stack) (0.36.2)\n",
            "Requirement already satisfied: rpds-py>=0.7.1 in /usr/local/lib/python3.11/dist-packages (from jsonschema->llama-stack) (0.26.0)\n",
            "Requirement already satisfied: wcwidth in /usr/local/lib/python3.11/dist-packages (from prompt-toolkit->llama-stack) (0.2.13)\n",
            "Requirement already satisfied: ecdsa!=0.15 in /usr/local/lib/python3.11/dist-packages (from python-jose->llama-stack) (0.19.1)\n",
            "Requirement already satisfied: rsa!=4.1.1,!=4.4,<5.0,>=4.0 in /usr/local/lib/python3.11/dist-packages (from python-jose->llama-stack) (4.9.1)\n",
            "Requirement already satisfied: pyasn1>=0.5.0 in /usr/local/lib/python3.11/dist-packages (from python-jose->llama-stack) (0.6.1)\n",
            "Requirement already satisfied: charset-normalizer<4,>=2 in /usr/local/lib/python3.11/dist-packages (from requests->llama-stack) (3.4.2)\n",
            "Requirement already satisfied: urllib3<3,>=1.21.1 in /usr/local/lib/python3.11/dist-packages (from requests->llama-stack) (2.5.0)\n",
            "Requirement already satisfied: markdown-it-py>=2.2.0 in /usr/local/lib/python3.11/dist-packages (from rich->llama-stack) (3.0.0)\n",
            "Requirement already satisfied: pygments<3.0.0,>=2.13.0 in /usr/local/lib/python3.11/dist-packages (from rich->llama-stack) (2.19.2)\n",
            "Requirement already satisfied: regex>=2022.1.18 in /usr/local/lib/python3.11/dist-packages (from tiktoken->llama-stack) (2024.11.6)\n",
            "Requirement already satisfied: six>=1.9.0 in /usr/local/lib/python3.11/dist-packages (from ecdsa!=0.15->python-jose->llama-stack) (1.17.0)\n",
            "Requirement already satisfied: mdurl~=0.1 in /usr/local/lib/python3.11/dist-packages (from markdown-it-py>=2.2.0->rich->llama-stack) (0.1.2)\n",
            "Requirement already satisfied: numpy>=1.23.2 in /usr/local/lib/python3.11/dist-packages (from pandas->llama-stack-client>=0.2.12->llama-stack) (2.0.2)\n",
            "Requirement already satisfied: python-dateutil>=2.8.2 in /usr/local/lib/python3.11/dist-packages (from pandas->llama-stack-client>=0.2.12->llama-stack) (2.9.0.post0)\n",
            "Requirement already satisfied: pytz>=2020.1 in /usr/local/lib/python3.11/dist-packages (from pandas->llama-stack-client>=0.2.12->llama-stack) (2025.2)\n",
            "Requirement already satisfied: tzdata>=2022.7 in /usr/local/lib/python3.11/dist-packages (from pandas->llama-stack-client>=0.2.12->llama-stack) (2025.2)\n"
          ]
        }
      ]
    },
    {
      "cell_type": "code",
      "source": [
        "!llama model list --show-all # A list of models to be selected in the Hugging Face Repo"
      ],
      "metadata": {
        "colab": {
          "base_uri": "https://localhost:8080/"
        },
        "id": "0oDXrrV-7T1T",
        "outputId": "4fad96c1-ca82-48ad-c9b0-2403b83a5544"
      },
      "execution_count": null,
      "outputs": [
        {
          "output_type": "stream",
          "name": "stdout",
          "text": [
            "┏━━━━━━━━━━━━━━━━━━━━━━━━━━━━━━┳━━━━━━━━━━━━━━━━━━━━━━━━━━━━━━┳━━━━━━━━━━━━━━━━┓\n",
            "┃\u001b[1m \u001b[0m\u001b[1mModel Descriptor(ID)        \u001b[0m\u001b[1m \u001b[0m┃\u001b[1m \u001b[0m\u001b[1mHugging Face Repo           \u001b[0m\u001b[1m \u001b[0m┃\u001b[1m \u001b[0m\u001b[1mContext Length\u001b[0m\u001b[1m \u001b[0m┃\n",
            "┡━━━━━━━━━━━━━━━━━━━━━━━━━━━━━━╇━━━━━━━━━━━━━━━━━━━━━━━━━━━━━━╇━━━━━━━━━━━━━━━━┩\n",
            "│\u001b[1;37m \u001b[0m\u001b[1;37mLlama-2-7b                  \u001b[0m\u001b[1;37m \u001b[0m│\u001b[1;37m \u001b[0m\u001b[1;37mmeta-llama/Llama-2-7b       \u001b[0m\u001b[1;37m \u001b[0m│\u001b[1;37m \u001b[0m\u001b[1;37m4K            \u001b[0m\u001b[1;37m \u001b[0m│\n",
            "├──────────────────────────────┼──────────────────────────────┼────────────────┤\n",
            "│\u001b[1;37m \u001b[0m\u001b[1;37mLlama-2-13b                 \u001b[0m\u001b[1;37m \u001b[0m│\u001b[1;37m \u001b[0m\u001b[1;37mmeta-llama/Llama-2-13b      \u001b[0m\u001b[1;37m \u001b[0m│\u001b[1;37m \u001b[0m\u001b[1;37m4K            \u001b[0m\u001b[1;37m \u001b[0m│\n",
            "├──────────────────────────────┼──────────────────────────────┼────────────────┤\n",
            "│\u001b[1;37m \u001b[0m\u001b[1;37mLlama-2-70b                 \u001b[0m\u001b[1;37m \u001b[0m│\u001b[1;37m \u001b[0m\u001b[1;37mmeta-llama/Llama-2-70b      \u001b[0m\u001b[1;37m \u001b[0m│\u001b[1;37m \u001b[0m\u001b[1;37m4K            \u001b[0m\u001b[1;37m \u001b[0m│\n",
            "├──────────────────────────────┼──────────────────────────────┼────────────────┤\n",
            "│\u001b[1;37m \u001b[0m\u001b[1;37mLlama-2-7b-chat             \u001b[0m\u001b[1;37m \u001b[0m│\u001b[1;37m \u001b[0m\u001b[1;37mmeta-llama/Llama-2-7b-chat  \u001b[0m\u001b[1;37m \u001b[0m│\u001b[1;37m \u001b[0m\u001b[1;37m4K            \u001b[0m\u001b[1;37m \u001b[0m│\n",
            "├──────────────────────────────┼──────────────────────────────┼────────────────┤\n",
            "│\u001b[1;37m \u001b[0m\u001b[1;37mLlama-2-13b-chat            \u001b[0m\u001b[1;37m \u001b[0m│\u001b[1;37m \u001b[0m\u001b[1;37mmeta-llama/Llama-2-13b-chat \u001b[0m\u001b[1;37m \u001b[0m│\u001b[1;37m \u001b[0m\u001b[1;37m4K            \u001b[0m\u001b[1;37m \u001b[0m│\n",
            "├──────────────────────────────┼──────────────────────────────┼────────────────┤\n",
            "│\u001b[1;37m \u001b[0m\u001b[1;37mLlama-2-70b-chat            \u001b[0m\u001b[1;37m \u001b[0m│\u001b[1;37m \u001b[0m\u001b[1;37mmeta-llama/Llama-2-70b-chat \u001b[0m\u001b[1;37m \u001b[0m│\u001b[1;37m \u001b[0m\u001b[1;37m4K            \u001b[0m\u001b[1;37m \u001b[0m│\n",
            "├──────────────────────────────┼──────────────────────────────┼────────────────┤\n",
            "│\u001b[1;37m \u001b[0m\u001b[1;37mLlama-3-8B                  \u001b[0m\u001b[1;37m \u001b[0m│\u001b[1;37m \u001b[0m\u001b[1;37mmeta-llama/Llama-3-8B       \u001b[0m\u001b[1;37m \u001b[0m│\u001b[1;37m \u001b[0m\u001b[1;37m8K            \u001b[0m\u001b[1;37m \u001b[0m│\n",
            "├──────────────────────────────┼──────────────────────────────┼────────────────┤\n",
            "│\u001b[1;37m \u001b[0m\u001b[1;37mLlama-3-70B                 \u001b[0m\u001b[1;37m \u001b[0m│\u001b[1;37m \u001b[0m\u001b[1;37mmeta-llama/Llama-3-70B      \u001b[0m\u001b[1;37m \u001b[0m│\u001b[1;37m \u001b[0m\u001b[1;37m8K            \u001b[0m\u001b[1;37m \u001b[0m│\n",
            "├──────────────────────────────┼──────────────────────────────┼────────────────┤\n",
            "│\u001b[1;37m \u001b[0m\u001b[1;37mLlama-3-8B-Instruct         \u001b[0m\u001b[1;37m \u001b[0m│\u001b[1;37m \u001b[0m\u001b[1;37mmeta-llama/Llama-3-8B-Instr…\u001b[0m\u001b[1;37m \u001b[0m│\u001b[1;37m \u001b[0m\u001b[1;37m8K            \u001b[0m\u001b[1;37m \u001b[0m│\n",
            "├──────────────────────────────┼──────────────────────────────┼────────────────┤\n",
            "│\u001b[1;37m \u001b[0m\u001b[1;37mLlama-3-70B-Instruct        \u001b[0m\u001b[1;37m \u001b[0m│\u001b[1;37m \u001b[0m\u001b[1;37mmeta-llama/Llama-3-70B-Inst…\u001b[0m\u001b[1;37m \u001b[0m│\u001b[1;37m \u001b[0m\u001b[1;37m8K            \u001b[0m\u001b[1;37m \u001b[0m│\n",
            "├──────────────────────────────┼──────────────────────────────┼────────────────┤\n",
            "│\u001b[1;37m \u001b[0m\u001b[1;37mLlama3.1-8B                 \u001b[0m\u001b[1;37m \u001b[0m│\u001b[1;37m \u001b[0m\u001b[1;37mmeta-llama/Llama-3.1-8B     \u001b[0m\u001b[1;37m \u001b[0m│\u001b[1;37m \u001b[0m\u001b[1;37m128K          \u001b[0m\u001b[1;37m \u001b[0m│\n",
            "├──────────────────────────────┼──────────────────────────────┼────────────────┤\n",
            "│\u001b[1;37m \u001b[0m\u001b[1;37mLlama3.1-70B                \u001b[0m\u001b[1;37m \u001b[0m│\u001b[1;37m \u001b[0m\u001b[1;37mmeta-llama/Llama-3.1-70B    \u001b[0m\u001b[1;37m \u001b[0m│\u001b[1;37m \u001b[0m\u001b[1;37m128K          \u001b[0m\u001b[1;37m \u001b[0m│\n",
            "├──────────────────────────────┼──────────────────────────────┼────────────────┤\n",
            "│\u001b[1;37m \u001b[0m\u001b[1;37mLlama3.1-405B:bf16-mp8      \u001b[0m\u001b[1;37m \u001b[0m│\u001b[1;37m \u001b[0m\u001b[1;37mmeta-llama/Llama-3.1-405B   \u001b[0m\u001b[1;37m \u001b[0m│\u001b[1;37m \u001b[0m\u001b[1;37m128K          \u001b[0m\u001b[1;37m \u001b[0m│\n",
            "├──────────────────────────────┼──────────────────────────────┼────────────────┤\n",
            "│\u001b[1;37m \u001b[0m\u001b[1;37mLlama3.1-405B               \u001b[0m\u001b[1;37m \u001b[0m│\u001b[1;37m \u001b[0m\u001b[1;37mmeta-llama/Llama-3.1-405B-F…\u001b[0m\u001b[1;37m \u001b[0m│\u001b[1;37m \u001b[0m\u001b[1;37m128K          \u001b[0m\u001b[1;37m \u001b[0m│\n",
            "├──────────────────────────────┼──────────────────────────────┼────────────────┤\n",
            "│\u001b[1;37m \u001b[0m\u001b[1;37mLlama3.1-405B:bf16-mp16     \u001b[0m\u001b[1;37m \u001b[0m│\u001b[1;37m \u001b[0m\u001b[1;37mmeta-llama/Llama-3.1-405B   \u001b[0m\u001b[1;37m \u001b[0m│\u001b[1;37m \u001b[0m\u001b[1;37m128K          \u001b[0m\u001b[1;37m \u001b[0m│\n",
            "├──────────────────────────────┼──────────────────────────────┼────────────────┤\n",
            "│\u001b[1;37m \u001b[0m\u001b[1;37mLlama3.1-8B-Instruct        \u001b[0m\u001b[1;37m \u001b[0m│\u001b[1;37m \u001b[0m\u001b[1;37mmeta-llama/Llama-3.1-8B-Ins…\u001b[0m\u001b[1;37m \u001b[0m│\u001b[1;37m \u001b[0m\u001b[1;37m128K          \u001b[0m\u001b[1;37m \u001b[0m│\n",
            "├──────────────────────────────┼──────────────────────────────┼────────────────┤\n",
            "│\u001b[1;37m \u001b[0m\u001b[1;37mLlama3.1-70B-Instruct       \u001b[0m\u001b[1;37m \u001b[0m│\u001b[1;37m \u001b[0m\u001b[1;37mmeta-llama/Llama-3.1-70B-In…\u001b[0m\u001b[1;37m \u001b[0m│\u001b[1;37m \u001b[0m\u001b[1;37m128K          \u001b[0m\u001b[1;37m \u001b[0m│\n",
            "├──────────────────────────────┼──────────────────────────────┼────────────────┤\n",
            "│\u001b[1;37m \u001b[0m\u001b[1;37mLlama3.1-405B-Instruct:bf16…\u001b[0m\u001b[1;37m \u001b[0m│\u001b[1;37m \u001b[0m\u001b[1;37mmeta-llama/Llama-3.1-405B-I…\u001b[0m\u001b[1;37m \u001b[0m│\u001b[1;37m \u001b[0m\u001b[1;37m128K          \u001b[0m\u001b[1;37m \u001b[0m│\n",
            "├──────────────────────────────┼──────────────────────────────┼────────────────┤\n",
            "│\u001b[1;37m \u001b[0m\u001b[1;37mLlama3.1-405B-Instruct      \u001b[0m\u001b[1;37m \u001b[0m│\u001b[1;37m \u001b[0m\u001b[1;37mmeta-llama/Llama-3.1-405B-I…\u001b[0m\u001b[1;37m \u001b[0m│\u001b[1;37m \u001b[0m\u001b[1;37m128K          \u001b[0m\u001b[1;37m \u001b[0m│\n",
            "├──────────────────────────────┼──────────────────────────────┼────────────────┤\n",
            "│\u001b[1;37m \u001b[0m\u001b[1;37mLlama3.1-405B-Instruct:bf16…\u001b[0m\u001b[1;37m \u001b[0m│\u001b[1;37m \u001b[0m\u001b[1;37mmeta-llama/Llama-3.1-405B-I…\u001b[0m\u001b[1;37m \u001b[0m│\u001b[1;37m \u001b[0m\u001b[1;37m128K          \u001b[0m\u001b[1;37m \u001b[0m│\n",
            "├──────────────────────────────┼──────────────────────────────┼────────────────┤\n",
            "│\u001b[1;37m \u001b[0m\u001b[1;37mLlama3.2-1B                 \u001b[0m\u001b[1;37m \u001b[0m│\u001b[1;37m \u001b[0m\u001b[1;37mmeta-llama/Llama-3.2-1B     \u001b[0m\u001b[1;37m \u001b[0m│\u001b[1;37m \u001b[0m\u001b[1;37m128K          \u001b[0m\u001b[1;37m \u001b[0m│\n",
            "├──────────────────────────────┼──────────────────────────────┼────────────────┤\n",
            "│\u001b[1;37m \u001b[0m\u001b[1;37mLlama3.2-3B                 \u001b[0m\u001b[1;37m \u001b[0m│\u001b[1;37m \u001b[0m\u001b[1;37mmeta-llama/Llama-3.2-3B     \u001b[0m\u001b[1;37m \u001b[0m│\u001b[1;37m \u001b[0m\u001b[1;37m128K          \u001b[0m\u001b[1;37m \u001b[0m│\n",
            "├──────────────────────────────┼──────────────────────────────┼────────────────┤\n",
            "│\u001b[1;37m \u001b[0m\u001b[1;37mLlama3.2-11B-Vision         \u001b[0m\u001b[1;37m \u001b[0m│\u001b[1;37m \u001b[0m\u001b[1;37mmeta-llama/Llama-3.2-11B-Vi…\u001b[0m\u001b[1;37m \u001b[0m│\u001b[1;37m \u001b[0m\u001b[1;37m128K          \u001b[0m\u001b[1;37m \u001b[0m│\n",
            "├──────────────────────────────┼──────────────────────────────┼────────────────┤\n",
            "│\u001b[1;37m \u001b[0m\u001b[1;37mLlama3.2-90B-Vision         \u001b[0m\u001b[1;37m \u001b[0m│\u001b[1;37m \u001b[0m\u001b[1;37mmeta-llama/Llama-3.2-90B-Vi…\u001b[0m\u001b[1;37m \u001b[0m│\u001b[1;37m \u001b[0m\u001b[1;37m128K          \u001b[0m\u001b[1;37m \u001b[0m│\n",
            "├──────────────────────────────┼──────────────────────────────┼────────────────┤\n",
            "│\u001b[1;37m \u001b[0m\u001b[1;37mLlama3.2-1B-Instruct        \u001b[0m\u001b[1;37m \u001b[0m│\u001b[1;37m \u001b[0m\u001b[1;37mmeta-llama/Llama-3.2-1B-Ins…\u001b[0m\u001b[1;37m \u001b[0m│\u001b[1;37m \u001b[0m\u001b[1;37m128K          \u001b[0m\u001b[1;37m \u001b[0m│\n",
            "├──────────────────────────────┼──────────────────────────────┼────────────────┤\n",
            "│\u001b[1;37m \u001b[0m\u001b[1;37mLlama3.2-3B-Instruct        \u001b[0m\u001b[1;37m \u001b[0m│\u001b[1;37m \u001b[0m\u001b[1;37mmeta-llama/Llama-3.2-3B-Ins…\u001b[0m\u001b[1;37m \u001b[0m│\u001b[1;37m \u001b[0m\u001b[1;37m128K          \u001b[0m\u001b[1;37m \u001b[0m│\n",
            "├──────────────────────────────┼──────────────────────────────┼────────────────┤\n",
            "│\u001b[1;37m \u001b[0m\u001b[1;37mLlama3.2-1B-Instruct:int4-q…\u001b[0m\u001b[1;37m \u001b[0m│\u001b[1;37m \u001b[0m\u001b[1;37mmeta-llama/Llama-3.2-1B-Ins…\u001b[0m\u001b[1;37m \u001b[0m│\u001b[1;37m \u001b[0m\u001b[1;37m8K            \u001b[0m\u001b[1;37m \u001b[0m│\n",
            "├──────────────────────────────┼──────────────────────────────┼────────────────┤\n",
            "│\u001b[1;37m \u001b[0m\u001b[1;37mLlama3.2-1B-Instruct:int4-s…\u001b[0m\u001b[1;37m \u001b[0m│\u001b[1;37m \u001b[0m\u001b[1;37mmeta-llama/Llama-3.2-1B-Ins…\u001b[0m\u001b[1;37m \u001b[0m│\u001b[1;37m \u001b[0m\u001b[1;37m8K            \u001b[0m\u001b[1;37m \u001b[0m│\n",
            "├──────────────────────────────┼──────────────────────────────┼────────────────┤\n",
            "│\u001b[1;37m \u001b[0m\u001b[1;37mLlama3.2-3B-Instruct:int4-q…\u001b[0m\u001b[1;37m \u001b[0m│\u001b[1;37m \u001b[0m\u001b[1;37mmeta-llama/Llama-3.2-3B-Ins…\u001b[0m\u001b[1;37m \u001b[0m│\u001b[1;37m \u001b[0m\u001b[1;37m8K            \u001b[0m\u001b[1;37m \u001b[0m│\n",
            "├──────────────────────────────┼──────────────────────────────┼────────────────┤\n",
            "│\u001b[1;37m \u001b[0m\u001b[1;37mLlama3.2-3B-Instruct:int4-s…\u001b[0m\u001b[1;37m \u001b[0m│\u001b[1;37m \u001b[0m\u001b[1;37mmeta-llama/Llama-3.2-3B-Ins…\u001b[0m\u001b[1;37m \u001b[0m│\u001b[1;37m \u001b[0m\u001b[1;37m8K            \u001b[0m\u001b[1;37m \u001b[0m│\n",
            "├──────────────────────────────┼──────────────────────────────┼────────────────┤\n",
            "│\u001b[1;37m \u001b[0m\u001b[1;37mLlama3.2-11B-Vision-Instruct\u001b[0m\u001b[1;37m \u001b[0m│\u001b[1;37m \u001b[0m\u001b[1;37mmeta-llama/Llama-3.2-11B-Vi…\u001b[0m\u001b[1;37m \u001b[0m│\u001b[1;37m \u001b[0m\u001b[1;37m128K          \u001b[0m\u001b[1;37m \u001b[0m│\n",
            "├──────────────────────────────┼──────────────────────────────┼────────────────┤\n",
            "│\u001b[1;37m \u001b[0m\u001b[1;37mLlama3.2-90B-Vision-Instruct\u001b[0m\u001b[1;37m \u001b[0m│\u001b[1;37m \u001b[0m\u001b[1;37mmeta-llama/Llama-3.2-90B-Vi…\u001b[0m\u001b[1;37m \u001b[0m│\u001b[1;37m \u001b[0m\u001b[1;37m128K          \u001b[0m\u001b[1;37m \u001b[0m│\n",
            "├──────────────────────────────┼──────────────────────────────┼────────────────┤\n",
            "│\u001b[1;37m \u001b[0m\u001b[1;37mLlama3.3-70B-Instruct       \u001b[0m\u001b[1;37m \u001b[0m│\u001b[1;37m \u001b[0m\u001b[1;37mmeta-llama/Llama-3.3-70B-In…\u001b[0m\u001b[1;37m \u001b[0m│\u001b[1;37m \u001b[0m\u001b[1;37m128K          \u001b[0m\u001b[1;37m \u001b[0m│\n",
            "├──────────────────────────────┼──────────────────────────────┼────────────────┤\n",
            "│\u001b[1;37m \u001b[0m\u001b[1;37mLlama-4-Scout-17B-16E       \u001b[0m\u001b[1;37m \u001b[0m│\u001b[1;37m \u001b[0m\u001b[1;37mmeta-llama/Llama-4-Scout-17…\u001b[0m\u001b[1;37m \u001b[0m│\u001b[1;37m \u001b[0m\u001b[1;37m256K          \u001b[0m\u001b[1;37m \u001b[0m│\n",
            "├──────────────────────────────┼──────────────────────────────┼────────────────┤\n",
            "│\u001b[1;37m \u001b[0m\u001b[1;37mLlama-4-Maverick-17B-128E   \u001b[0m\u001b[1;37m \u001b[0m│\u001b[1;37m \u001b[0m\u001b[1;37mmeta-llama/Llama-4-Maverick…\u001b[0m\u001b[1;37m \u001b[0m│\u001b[1;37m \u001b[0m\u001b[1;37m256K          \u001b[0m\u001b[1;37m \u001b[0m│\n",
            "├──────────────────────────────┼──────────────────────────────┼────────────────┤\n",
            "│\u001b[1;37m \u001b[0m\u001b[1;37mLlama-4-Scout-17B-16E-Instr…\u001b[0m\u001b[1;37m \u001b[0m│\u001b[1;37m \u001b[0m\u001b[1;37mmeta-llama/Llama-4-Scout-17…\u001b[0m\u001b[1;37m \u001b[0m│\u001b[1;37m \u001b[0m\u001b[1;37m10240K        \u001b[0m\u001b[1;37m \u001b[0m│\n",
            "├──────────────────────────────┼──────────────────────────────┼────────────────┤\n",
            "│\u001b[1;37m \u001b[0m\u001b[1;37mLlama-4-Maverick-17B-128E-I…\u001b[0m\u001b[1;37m \u001b[0m│\u001b[1;37m \u001b[0m\u001b[1;37mmeta-llama/Llama-4-Maverick…\u001b[0m\u001b[1;37m \u001b[0m│\u001b[1;37m \u001b[0m\u001b[1;37m1024K         \u001b[0m\u001b[1;37m \u001b[0m│\n",
            "├──────────────────────────────┼──────────────────────────────┼────────────────┤\n",
            "│\u001b[1;37m \u001b[0m\u001b[1;37mLlama-4-Maverick-17B-128E-I…\u001b[0m\u001b[1;37m \u001b[0m│\u001b[1;37m \u001b[0m\u001b[1;37mmeta-llama/Llama-4-Maverick…\u001b[0m\u001b[1;37m \u001b[0m│\u001b[1;37m \u001b[0m\u001b[1;37m1024K         \u001b[0m\u001b[1;37m \u001b[0m│\n",
            "├──────────────────────────────┼──────────────────────────────┼────────────────┤\n",
            "│\u001b[1;37m \u001b[0m\u001b[1;37mLlama-Guard-4-12B           \u001b[0m\u001b[1;37m \u001b[0m│\u001b[1;37m \u001b[0m\u001b[1;37mmeta-llama/Llama-Guard-4-12B\u001b[0m\u001b[1;37m \u001b[0m│\u001b[1;37m \u001b[0m\u001b[1;37m8K            \u001b[0m\u001b[1;37m \u001b[0m│\n",
            "├──────────────────────────────┼──────────────────────────────┼────────────────┤\n",
            "│\u001b[1;37m \u001b[0m\u001b[1;37mLlama-Guard-3-11B-Vision    \u001b[0m\u001b[1;37m \u001b[0m│\u001b[1;37m \u001b[0m\u001b[1;37mmeta-llama/Llama-Guard-3-11…\u001b[0m\u001b[1;37m \u001b[0m│\u001b[1;37m \u001b[0m\u001b[1;37m128K          \u001b[0m\u001b[1;37m \u001b[0m│\n",
            "├──────────────────────────────┼──────────────────────────────┼────────────────┤\n",
            "│\u001b[1;37m \u001b[0m\u001b[1;37mLlama-Guard-3-1B:int4       \u001b[0m\u001b[1;37m \u001b[0m│\u001b[1;37m \u001b[0m\u001b[1;37mmeta-llama/Llama-Guard-3-1B…\u001b[0m\u001b[1;37m \u001b[0m│\u001b[1;37m \u001b[0m\u001b[1;37m128K          \u001b[0m\u001b[1;37m \u001b[0m│\n",
            "├──────────────────────────────┼──────────────────────────────┼────────────────┤\n",
            "│\u001b[1;37m \u001b[0m\u001b[1;37mLlama-Guard-3-1B            \u001b[0m\u001b[1;37m \u001b[0m│\u001b[1;37m \u001b[0m\u001b[1;37mmeta-llama/Llama-Guard-3-1B \u001b[0m\u001b[1;37m \u001b[0m│\u001b[1;37m \u001b[0m\u001b[1;37m128K          \u001b[0m\u001b[1;37m \u001b[0m│\n",
            "├──────────────────────────────┼──────────────────────────────┼────────────────┤\n",
            "│\u001b[1;37m \u001b[0m\u001b[1;37mLlama-Guard-3-8B            \u001b[0m\u001b[1;37m \u001b[0m│\u001b[1;37m \u001b[0m\u001b[1;37mmeta-llama/Llama-Guard-3-8B \u001b[0m\u001b[1;37m \u001b[0m│\u001b[1;37m \u001b[0m\u001b[1;37m128K          \u001b[0m\u001b[1;37m \u001b[0m│\n",
            "├──────────────────────────────┼──────────────────────────────┼────────────────┤\n",
            "│\u001b[1;37m \u001b[0m\u001b[1;37mLlama-Guard-3-8B:int8       \u001b[0m\u001b[1;37m \u001b[0m│\u001b[1;37m \u001b[0m\u001b[1;37mmeta-llama/Llama-Guard-3-8B…\u001b[0m\u001b[1;37m \u001b[0m│\u001b[1;37m \u001b[0m\u001b[1;37m128K          \u001b[0m\u001b[1;37m \u001b[0m│\n",
            "├──────────────────────────────┼──────────────────────────────┼────────────────┤\n",
            "│\u001b[1;37m \u001b[0m\u001b[1;37mLlama-Guard-2-8B            \u001b[0m\u001b[1;37m \u001b[0m│\u001b[1;37m \u001b[0m\u001b[1;37mmeta-llama/Llama-Guard-2-8B \u001b[0m\u001b[1;37m \u001b[0m│\u001b[1;37m \u001b[0m\u001b[1;37m4K            \u001b[0m\u001b[1;37m \u001b[0m│\n",
            "├──────────────────────────────┼──────────────────────────────┼────────────────┤\n",
            "│\u001b[1;37m \u001b[0m\u001b[1;37mPrompt-Guard-86M            \u001b[0m\u001b[1;37m \u001b[0m│\u001b[1;37m \u001b[0m\u001b[1;37mmeta-llama/Prompt-Guard-86M \u001b[0m\u001b[1;37m \u001b[0m│\u001b[1;37m \u001b[0m\u001b[1;37m0K            \u001b[0m\u001b[1;37m \u001b[0m│\n",
            "├──────────────────────────────┼──────────────────────────────┼────────────────┤\n",
            "│\u001b[1;37m \u001b[0m\u001b[1;37mLlama-Prompt-Guard-2-86M    \u001b[0m\u001b[1;37m \u001b[0m│\u001b[1;37m \u001b[0m\u001b[1;37mmeta-llama/Llama-Prompt-Gua…\u001b[0m\u001b[1;37m \u001b[0m│\u001b[1;37m \u001b[0m\u001b[1;37m0K            \u001b[0m\u001b[1;37m \u001b[0m│\n",
            "├──────────────────────────────┼──────────────────────────────┼────────────────┤\n",
            "│\u001b[1;37m \u001b[0m\u001b[1;37mLlama-Prompt-Guard-2-22M    \u001b[0m\u001b[1;37m \u001b[0m│\u001b[1;37m \u001b[0m\u001b[1;37mmeta-llama/Llama-Prompt-Gua…\u001b[0m\u001b[1;37m \u001b[0m│\u001b[1;37m \u001b[0m\u001b[1;37m0K            \u001b[0m\u001b[1;37m \u001b[0m│\n",
            "└──────────────────────────────┴──────────────────────────────┴────────────────┘\n"
          ]
        }
      ]
    },
    {
      "cell_type": "code",
      "source": [
        "!llama download --source meta --model-id Llama-2-7b # Model chosen and uploaded from Hugging Face Repo"
      ],
      "metadata": {
        "id": "qMpMwFWN9pJD"
      },
      "execution_count": null,
      "outputs": []
    },
    {
      "cell_type": "code",
      "source": [
        "!llama model verify-download --model-id Llama-2-7b ## Vérification de l'installation du modèle choisi depuis Hugging Face Repo#/"
      ],
      "metadata": {
        "colab": {
          "base_uri": "https://localhost:8080/"
        },
        "id": "cXJkjJaxHWSy",
        "outputId": "a546776f-014e-4ecc-d47c-d81f75a12102"
      },
      "execution_count": null,
      "outputs": [
        {
          "output_type": "stream",
          "name": "stdout",
          "text": [
            "\u001b[2K\n",
            "\u001b[?25h\n",
            "Verification Results:\n",
            "\u001b[32m✓ consolidated.\u001b[0m\u001b[1;32m00.\u001b[0m\u001b[32mpth: Verified\u001b[0m\n",
            "\u001b[32m✓ params.json: Verified\u001b[0m\n",
            "\n",
            "\u001b[32mAll files verified successfully!\u001b[0m\n"
          ]
        }
      ]
    },
    {
      "cell_type": "markdown",
      "source": [
        "Uploading has been checked and was successfully implemented. All files were successfully checked."
      ],
      "metadata": {
        "id": "2UYwCB2P5Gob"
      }
    },
    {
      "cell_type": "markdown",
      "source": [
        "**2. Download weights from Hugging Face (conversion of the Hugging Face Code Llama model into GGUF format - optimized for llama.cpp)**"
      ],
      "metadata": {
        "id": "eG3k8ChY_kJc"
      }
    },
    {
      "cell_type": "code",
      "source": [
        "!wget https://huggingface.co/TheBloke/Llama-2-7B-Chat-GGUF/resolve/main/llama-2-7b-chat.Q4_K_M.gguf\n"
      ],
      "metadata": {
        "colab": {
          "base_uri": "https://localhost:8080/"
        },
        "id": "OxTBc7taNN8J",
        "outputId": "ef94c9bc-c2a7-4dba-c461-d4a78fca4d51"
      },
      "execution_count": null,
      "outputs": [
        {
          "output_type": "stream",
          "name": "stdout",
          "text": [
            "--2025-08-02 14:35:01--  https://huggingface.co/TheBloke/Llama-2-7B-Chat-GGUF/resolve/main/llama-2-7b-chat.Q4_K_M.gguf\n",
            "Resolving huggingface.co (huggingface.co)... 3.165.160.61, 3.165.160.59, 3.165.160.12, ...\n",
            "Connecting to huggingface.co (huggingface.co)|3.165.160.61|:443... connected.\n",
            "HTTP request sent, awaiting response... 302 Found\n",
            "Location: https://cdn-lfs.hf.co/repos/b0/ca/b0cae82fd4b3a362cab01d17953c45edac67d1c2dfb9fbb9e69c80c32dc2012e/08a5566d61d7cb6b420c3e4387a39e0078e1f2fe5f055f3a03887385304d4bfa?response-content-disposition=inline%3B+filename*%3DUTF-8%27%27llama-2-7b-chat.Q4_K_M.gguf%3B+filename%3D%22llama-2-7b-chat.Q4_K_M.gguf%22%3B&Expires=1754148635&Policy=eyJTdGF0ZW1lbnQiOlt7IkNvbmRpdGlvbiI6eyJEYXRlTGVzc1RoYW4iOnsiQVdTOkVwb2NoVGltZSI6MTc1NDE0ODYzNX19LCJSZXNvdXJjZSI6Imh0dHBzOi8vY2RuLWxmcy5oZi5jby9yZXBvcy9iMC9jYS9iMGNhZTgyZmQ0YjNhMzYyY2FiMDFkMTc5NTNjNDVlZGFjNjdkMWMyZGZiOWZiYjllNjljODBjMzJkYzIwMTJlLzA4YTU1NjZkNjFkN2NiNmI0MjBjM2U0Mzg3YTM5ZTAwNzhlMWYyZmU1ZjA1NWYzYTAzODg3Mzg1MzA0ZDRiZmE%7EcmVzcG9uc2UtY29udGVudC1kaXNwb3NpdGlvbj0qIn1dfQ__&Signature=WsetnLann%7EQl9gizG-A9iqSCXT%7Eap59arHfHHrbQhMUq0j-Rkk9xWPmKuo7P2BPcfnabLMWpVomgoqCxpl6dRQYuVOjSbrIvWuB89E%7E7CmQ%7Eknkxy1VNtukHxKkNOKUd9zYxSmBvICfUFg30Ozi0urUx19QDf3NnKaHqrRzmD81dXxasCo%7EGo9tUYiS58c5ScMpnigozRHi%7ELYHF60P3DkeQENo9ebmJkg0QnFtF6yoNJFzbusUzhmZqxGHb-YYwdxmXlWymw1MkZ9kHGc%7EBOQ-xjc9guj4LahPH7hAdeI3hebZIr2qTbFGibjaz477hqkK97dl9IA9RlXAGv-T6mQ__&Key-Pair-Id=K3RPWS32NSSJCE [following]\n",
            "--2025-08-02 14:35:02--  https://cdn-lfs.hf.co/repos/b0/ca/b0cae82fd4b3a362cab01d17953c45edac67d1c2dfb9fbb9e69c80c32dc2012e/08a5566d61d7cb6b420c3e4387a39e0078e1f2fe5f055f3a03887385304d4bfa?response-content-disposition=inline%3B+filename*%3DUTF-8%27%27llama-2-7b-chat.Q4_K_M.gguf%3B+filename%3D%22llama-2-7b-chat.Q4_K_M.gguf%22%3B&Expires=1754148635&Policy=eyJTdGF0ZW1lbnQiOlt7IkNvbmRpdGlvbiI6eyJEYXRlTGVzc1RoYW4iOnsiQVdTOkVwb2NoVGltZSI6MTc1NDE0ODYzNX19LCJSZXNvdXJjZSI6Imh0dHBzOi8vY2RuLWxmcy5oZi5jby9yZXBvcy9iMC9jYS9iMGNhZTgyZmQ0YjNhMzYyY2FiMDFkMTc5NTNjNDVlZGFjNjdkMWMyZGZiOWZiYjllNjljODBjMzJkYzIwMTJlLzA4YTU1NjZkNjFkN2NiNmI0MjBjM2U0Mzg3YTM5ZTAwNzhlMWYyZmU1ZjA1NWYzYTAzODg3Mzg1MzA0ZDRiZmE%7EcmVzcG9uc2UtY29udGVudC1kaXNwb3NpdGlvbj0qIn1dfQ__&Signature=WsetnLann%7EQl9gizG-A9iqSCXT%7Eap59arHfHHrbQhMUq0j-Rkk9xWPmKuo7P2BPcfnabLMWpVomgoqCxpl6dRQYuVOjSbrIvWuB89E%7E7CmQ%7Eknkxy1VNtukHxKkNOKUd9zYxSmBvICfUFg30Ozi0urUx19QDf3NnKaHqrRzmD81dXxasCo%7EGo9tUYiS58c5ScMpnigozRHi%7ELYHF60P3DkeQENo9ebmJkg0QnFtF6yoNJFzbusUzhmZqxGHb-YYwdxmXlWymw1MkZ9kHGc%7EBOQ-xjc9guj4LahPH7hAdeI3hebZIr2qTbFGibjaz477hqkK97dl9IA9RlXAGv-T6mQ__&Key-Pair-Id=K3RPWS32NSSJCE\n",
            "Resolving cdn-lfs.hf.co (cdn-lfs.hf.co)... 18.172.170.108, 18.172.170.5, 18.172.170.29, ...\n",
            "Connecting to cdn-lfs.hf.co (cdn-lfs.hf.co)|18.172.170.108|:443... connected.\n",
            "HTTP request sent, awaiting response... 200 OK\n",
            "Length: 4081004224 (3.8G) [binary/octet-stream]\n",
            "Saving to: ‘llama-2-7b-chat.Q4_K_M.gguf’\n",
            "\n",
            "llama-2-7b-chat.Q4_ 100%[===================>]   3.80G  51.1MB/s    in 39s     \n",
            "\n",
            "2025-08-02 14:35:40 (101 MB/s) - ‘llama-2-7b-chat.Q4_K_M.gguf’ saved [4081004224/4081004224]\n",
            "\n"
          ]
        }
      ]
    },
    {
      "cell_type": "markdown",
      "source": [
        "Weights have been uploaded from HuggingFace in order to convert the HuggingFace code Llama into GGUF format, optimized for Llama.cpp."
      ],
      "metadata": {
        "id": "J90ntL9U5i7o"
      }
    },
    {
      "cell_type": "markdown",
      "source": [
        "#**Part 3 : Load the converted model using the llama-cpp-python bindings.**\n",
        "\n",
        "1. Initialize the Python environment:\n",
        "\n",
        "from llama_cpp import Llama\n",
        "2. Load the GGUF model:\n",
        "\n",
        "llm = Llama(\n",
        "   model_path=\"...\",\n",
        "   n_gpu_layers=..,       # adjust for GPU memory\n",
        "   n_threads=...\n",
        ")\n",
        "3. Generate text using a natural language prompt (e.g., ask about the solar system)\n",
        "\n",
        "prompt = \"Explain how the solar system formed.\"\n",
        "output = llm(prompt=..., max_tokens=...)\n",
        "print(output[\"choices\"][0][\"text\"])\n",
        "4. Generate Python code by prompting the model to write a script (e.g., loading a model with Hugging Face)\n",
        "\n",
        "output_stream = llm(\n",
        "   prompt=\"Write a Python script that loads a Hugging Face model and tokenizes input.\",\n",
        "   max_tokens=...,\n",
        "   stream=True\n",
        ")\n",
        "for token_info in output_stream:\n",
        "   print(token_info[\"...\"], end=\"\", flush=True)\n",
        "\n",
        "\n",
        "What you’ll use:\n",
        "\n",
        "llama_cpp.Llama bindings\n",
        "Model path and hardware configuration\n",
        "Prompt engineering fundamentals\n",
        "Streaming inference API\n",
        "Hint : (complete code to fill where there is “…”)\n",
        "\n",
        "\n",
        "\n",
        "\n",
        "from llama_cpp import Llama\n",
        "\n",
        "llm = ...\n",
        "\n",
        "prompt = ...\n",
        "\n",
        "output = ...\n",
        "print(output[\"choices\"][0][\"text\"])\n",
        "\n",
        "output_stream = llm(\n",
        "    ...,\n",
        "    max_tokens=...,\n",
        "    stream=True  # Enable streaming\n",
        ")\n",
        "\n",
        "Iterate through the tokens and print them at the same time they are computed\n",
        "\n",
        "for output in output_stream:\n",
        "    token = ...\n",
        "    print(token, end=\"\", flush=True)"
      ],
      "metadata": {
        "id": "yojEVq9ynjsF"
      }
    },
    {
      "cell_type": "markdown",
      "source": [
        "**1. Initialize the Python environment:**\n",
        "\n",
        "\n"
      ],
      "metadata": {
        "id": "cPxJYT1PPjfQ"
      }
    },
    {
      "cell_type": "code",
      "source": [
        "from llama_cpp import Llama"
      ],
      "metadata": {
        "id": "6te4WDIqQM-I"
      },
      "execution_count": null,
      "outputs": []
    },
    {
      "cell_type": "markdown",
      "source": [
        "Python environment initialized."
      ],
      "metadata": {
        "id": "XLMFaCxl7Fzv"
      }
    },
    {
      "cell_type": "markdown",
      "source": [
        "**2. Load the GGUF model:**"
      ],
      "metadata": {
        "id": "urvDMPoKPjQQ"
      }
    },
    {
      "cell_type": "code",
      "source": [
        "llm = Llama(\n",
        "    model_path=\"llama-2-7b-chat.Q4_K_M.gguf\",  # Replace with the actual path to your GGUF model file\n",
        "    n_gpu_layers=0,  # Adjust for GPU memory. Set to 0 to use CPU.\n",
        "    n_threads=None   # Use default number of threads\n",
        ")"
      ],
      "metadata": {
        "colab": {
          "base_uri": "https://localhost:8080/"
        },
        "id": "Djlu5rhLQOZw",
        "outputId": "5ef08172-3ea0-4fe6-9130-49fb56d5a470"
      },
      "execution_count": null,
      "outputs": [
        {
          "output_type": "stream",
          "name": "stderr",
          "text": [
            "llama_model_loader: loaded meta data with 19 key-value pairs and 291 tensors from llama-2-7b-chat.Q4_K_M.gguf (version GGUF V2)\n",
            "llama_model_loader: Dumping metadata keys/values. Note: KV overrides do not apply in this output.\n",
            "llama_model_loader: - kv   0:                       general.architecture str              = llama\n",
            "llama_model_loader: - kv   1:                               general.name str              = LLaMA v2\n",
            "llama_model_loader: - kv   2:                       llama.context_length u32              = 4096\n",
            "llama_model_loader: - kv   3:                     llama.embedding_length u32              = 4096\n",
            "llama_model_loader: - kv   4:                          llama.block_count u32              = 32\n",
            "llama_model_loader: - kv   5:                  llama.feed_forward_length u32              = 11008\n",
            "llama_model_loader: - kv   6:                 llama.rope.dimension_count u32              = 128\n",
            "llama_model_loader: - kv   7:                 llama.attention.head_count u32              = 32\n",
            "llama_model_loader: - kv   8:              llama.attention.head_count_kv u32              = 32\n",
            "llama_model_loader: - kv   9:     llama.attention.layer_norm_rms_epsilon f32              = 0.000001\n",
            "llama_model_loader: - kv  10:                          general.file_type u32              = 15\n",
            "llama_model_loader: - kv  11:                       tokenizer.ggml.model str              = llama\n",
            "llama_model_loader: - kv  12:                      tokenizer.ggml.tokens arr[str,32000]   = [\"<unk>\", \"<s>\", \"</s>\", \"<0x00>\", \"<...\n",
            "llama_model_loader: - kv  13:                      tokenizer.ggml.scores arr[f32,32000]   = [0.000000, 0.000000, 0.000000, 0.0000...\n",
            "llama_model_loader: - kv  14:                  tokenizer.ggml.token_type arr[i32,32000]   = [2, 3, 3, 6, 6, 6, 6, 6, 6, 6, 6, 6, ...\n",
            "llama_model_loader: - kv  15:                tokenizer.ggml.bos_token_id u32              = 1\n",
            "llama_model_loader: - kv  16:                tokenizer.ggml.eos_token_id u32              = 2\n",
            "llama_model_loader: - kv  17:            tokenizer.ggml.unknown_token_id u32              = 0\n",
            "llama_model_loader: - kv  18:               general.quantization_version u32              = 2\n",
            "llama_model_loader: - type  f32:   65 tensors\n",
            "llama_model_loader: - type q4_K:  193 tensors\n",
            "llama_model_loader: - type q6_K:   33 tensors\n",
            "print_info: file format = GGUF V2\n",
            "print_info: file type   = Q4_K - Medium\n",
            "print_info: file size   = 3.80 GiB (4.84 BPW) \n",
            "init_tokenizer: initializing tokenizer for type 1\n",
            "load: control token:      2 '</s>' is not marked as EOG\n",
            "load: control token:      1 '<s>' is not marked as EOG\n",
            "load: special_eos_id is not in special_eog_ids - the tokenizer config may be incorrect\n",
            "load: special tokens cache size = 3\n",
            "load: token to piece cache size = 0.1684 MB\n",
            "print_info: arch             = llama\n",
            "print_info: vocab_only       = 0\n",
            "print_info: n_ctx_train      = 4096\n",
            "print_info: n_embd           = 4096\n",
            "print_info: n_layer          = 32\n",
            "print_info: n_head           = 32\n",
            "print_info: n_head_kv        = 32\n",
            "print_info: n_rot            = 128\n",
            "print_info: n_swa            = 0\n",
            "print_info: is_swa_any       = 0\n",
            "print_info: n_embd_head_k    = 128\n",
            "print_info: n_embd_head_v    = 128\n",
            "print_info: n_gqa            = 1\n",
            "print_info: n_embd_k_gqa     = 4096\n",
            "print_info: n_embd_v_gqa     = 4096\n",
            "print_info: f_norm_eps       = 0.0e+00\n",
            "print_info: f_norm_rms_eps   = 1.0e-06\n",
            "print_info: f_clamp_kqv      = 0.0e+00\n",
            "print_info: f_max_alibi_bias = 0.0e+00\n",
            "print_info: f_logit_scale    = 0.0e+00\n",
            "print_info: f_attn_scale     = 0.0e+00\n",
            "print_info: n_ff             = 11008\n",
            "print_info: n_expert         = 0\n",
            "print_info: n_expert_used    = 0\n",
            "print_info: causal attn      = 1\n",
            "print_info: pooling type     = 0\n",
            "print_info: rope type        = 0\n",
            "print_info: rope scaling     = linear\n",
            "print_info: freq_base_train  = 10000.0\n",
            "print_info: freq_scale_train = 1\n",
            "print_info: n_ctx_orig_yarn  = 4096\n",
            "print_info: rope_finetuned   = unknown\n",
            "print_info: model type       = 7B\n",
            "print_info: model params     = 6.74 B\n",
            "print_info: general.name     = LLaMA v2\n",
            "print_info: vocab type       = SPM\n",
            "print_info: n_vocab          = 32000\n",
            "print_info: n_merges         = 0\n",
            "print_info: BOS token        = 1 '<s>'\n",
            "print_info: EOS token        = 2 '</s>'\n",
            "print_info: UNK token        = 0 '<unk>'\n",
            "print_info: LF token         = 13 '<0x0A>'\n",
            "print_info: EOG token        = 2 '</s>'\n",
            "print_info: max token length = 48\n",
            "load_tensors: loading model tensors, this can take a while... (mmap = true)\n",
            "load_tensors: layer   0 assigned to device CPU, is_swa = 0\n",
            "load_tensors: layer   1 assigned to device CPU, is_swa = 0\n",
            "load_tensors: layer   2 assigned to device CPU, is_swa = 0\n",
            "load_tensors: layer   3 assigned to device CPU, is_swa = 0\n",
            "load_tensors: layer   4 assigned to device CPU, is_swa = 0\n",
            "load_tensors: layer   5 assigned to device CPU, is_swa = 0\n",
            "load_tensors: layer   6 assigned to device CPU, is_swa = 0\n",
            "load_tensors: layer   7 assigned to device CPU, is_swa = 0\n",
            "load_tensors: layer   8 assigned to device CPU, is_swa = 0\n",
            "load_tensors: layer   9 assigned to device CPU, is_swa = 0\n",
            "load_tensors: layer  10 assigned to device CPU, is_swa = 0\n",
            "load_tensors: layer  11 assigned to device CPU, is_swa = 0\n",
            "load_tensors: layer  12 assigned to device CPU, is_swa = 0\n",
            "load_tensors: layer  13 assigned to device CPU, is_swa = 0\n",
            "load_tensors: layer  14 assigned to device CPU, is_swa = 0\n",
            "load_tensors: layer  15 assigned to device CPU, is_swa = 0\n",
            "load_tensors: layer  16 assigned to device CPU, is_swa = 0\n",
            "load_tensors: layer  17 assigned to device CPU, is_swa = 0\n",
            "load_tensors: layer  18 assigned to device CPU, is_swa = 0\n",
            "load_tensors: layer  19 assigned to device CPU, is_swa = 0\n",
            "load_tensors: layer  20 assigned to device CPU, is_swa = 0\n",
            "load_tensors: layer  21 assigned to device CPU, is_swa = 0\n",
            "load_tensors: layer  22 assigned to device CPU, is_swa = 0\n",
            "load_tensors: layer  23 assigned to device CPU, is_swa = 0\n",
            "load_tensors: layer  24 assigned to device CPU, is_swa = 0\n",
            "load_tensors: layer  25 assigned to device CPU, is_swa = 0\n",
            "load_tensors: layer  26 assigned to device CPU, is_swa = 0\n",
            "load_tensors: layer  27 assigned to device CPU, is_swa = 0\n",
            "load_tensors: layer  28 assigned to device CPU, is_swa = 0\n",
            "load_tensors: layer  29 assigned to device CPU, is_swa = 0\n",
            "load_tensors: layer  30 assigned to device CPU, is_swa = 0\n",
            "load_tensors: layer  31 assigned to device CPU, is_swa = 0\n",
            "load_tensors: layer  32 assigned to device CPU, is_swa = 0\n",
            "load_tensors: tensor 'token_embd.weight' (q4_K) (and 98 others) cannot be used with preferred buffer type CPU_REPACK, using CPU instead\n",
            "load_tensors:   CPU_REPACK model buffer size =  2943.00 MiB\n",
            "load_tensors:   CPU_Mapped model buffer size =  3891.24 MiB\n",
            "repack: repack tensor blk.0.attn_q.weight with q4_K_8x8\n",
            "repack: repack tensor blk.0.attn_k.weight with q4_K_8x8\n",
            "repack: repack tensor blk.0.attn_output.weight with q4_K_8x8\n",
            "repack: repack tensor blk.0.ffn_gate.weight with q4_K_8x8\n",
            ".repack: repack tensor blk.0.ffn_up.weight with q4_K_8x8\n",
            "repack: repack tensor blk.1.attn_q.weight with q4_K_8x8\n",
            ".repack: repack tensor blk.1.attn_k.weight with q4_K_8x8\n",
            "repack: repack tensor blk.1.attn_output.weight with q4_K_8x8\n",
            "repack: repack tensor blk.1.ffn_gate.weight with q4_K_8x8\n",
            ".repack: repack tensor blk.1.ffn_up.weight with q4_K_8x8\n",
            "repack: repack tensor blk.2.attn_q.weight with q4_K_8x8\n",
            ".repack: repack tensor blk.2.attn_k.weight with q4_K_8x8\n",
            "repack: repack tensor blk.2.attn_output.weight with q4_K_8x8\n",
            "repack: repack tensor blk.2.ffn_gate.weight with q4_K_8x8\n",
            ".repack: repack tensor blk.2.ffn_up.weight with q4_K_8x8\n",
            "repack: repack tensor blk.3.attn_q.weight with q4_K_8x8\n",
            ".repack: repack tensor blk.3.attn_k.weight with q4_K_8x8\n",
            "repack: repack tensor blk.3.attn_v.weight with q4_K_8x8\n",
            "repack: repack tensor blk.3.attn_output.weight with q4_K_8x8\n",
            "repack: repack tensor blk.3.ffn_gate.weight with q4_K_8x8\n",
            ".repack: repack tensor blk.3.ffn_down.weight with q4_K_8x8\n",
            "repack: repack tensor blk.3.ffn_up.weight with q4_K_8x8\n",
            ".repack: repack tensor blk.4.attn_q.weight with q4_K_8x8\n",
            "repack: repack tensor blk.4.attn_k.weight with q4_K_8x8\n",
            ".repack: repack tensor blk.4.attn_output.weight with q4_K_8x8\n",
            "repack: repack tensor blk.4.ffn_gate.weight with q4_K_8x8\n",
            "repack: repack tensor blk.4.ffn_up.weight with q4_K_8x8\n",
            ".repack: repack tensor blk.5.attn_q.weight with q4_K_8x8\n",
            "repack: repack tensor blk.5.attn_k.weight with q4_K_8x8\n",
            ".repack: repack tensor blk.5.attn_v.weight with q4_K_8x8\n",
            "repack: repack tensor blk.5.attn_output.weight with q4_K_8x8\n",
            "repack: repack tensor blk.5.ffn_gate.weight with q4_K_8x8\n",
            ".repack: repack tensor blk.5.ffn_down.weight with q4_K_8x8\n",
            "repack: repack tensor blk.5.ffn_up.weight with q4_K_8x8\n",
            ".repack: repack tensor blk.6.attn_q.weight with q4_K_8x8\n",
            "repack: repack tensor blk.6.attn_k.weight with q4_K_8x8\n",
            "repack: repack tensor blk.6.attn_v.weight with q4_K_8x8\n",
            ".repack: repack tensor blk.6.attn_output.weight with q4_K_8x8\n",
            "repack: repack tensor blk.6.ffn_gate.weight with q4_K_8x8\n",
            "repack: repack tensor blk.6.ffn_down.weight with q4_K_8x8\n",
            ".repack: repack tensor blk.6.ffn_up.weight with q4_K_8x8\n",
            ".repack: repack tensor blk.7.attn_q.weight with q4_K_8x8\n",
            "repack: repack tensor blk.7.attn_k.weight with q4_K_8x8\n",
            "repack: repack tensor blk.7.attn_output.weight with q4_K_8x8\n",
            "repack: repack tensor blk.7.ffn_gate.weight with q4_K_8x8\n",
            ".repack: repack tensor blk.7.ffn_up.weight with q4_K_8x8\n",
            ".repack: repack tensor blk.8.attn_q.weight with q4_K_8x8\n",
            "repack: repack tensor blk.8.attn_k.weight with q4_K_8x8\n",
            "repack: repack tensor blk.8.attn_v.weight with q4_K_8x8\n",
            "repack: repack tensor blk.8.attn_output.weight with q4_K_8x8\n",
            "repack: repack tensor blk.8.ffn_gate.weight with q4_K_8x8\n",
            ".repack: repack tensor blk.8.ffn_down.weight with q4_K_8x8\n",
            ".repack: repack tensor blk.8.ffn_up.weight with q4_K_8x8\n",
            "repack: repack tensor blk.9.attn_q.weight with q4_K_8x8\n",
            ".repack: repack tensor blk.9.attn_k.weight with q4_K_8x8\n",
            "repack: repack tensor blk.9.attn_v.weight with q4_K_8x8\n",
            "repack: repack tensor blk.9.attn_output.weight with q4_K_8x8\n",
            "repack: repack tensor blk.9.ffn_gate.weight with q4_K_8x8\n",
            ".repack: repack tensor blk.9.ffn_down.weight with q4_K_8x8\n",
            ".repack: repack tensor blk.9.ffn_up.weight with q4_K_8x8\n",
            "repack: repack tensor blk.10.attn_q.weight with q4_K_8x8\n",
            "repack: repack tensor blk.10.attn_k.weight with q4_K_8x8\n",
            ".repack: repack tensor blk.10.attn_output.weight with q4_K_8x8\n",
            "repack: repack tensor blk.10.ffn_gate.weight with q4_K_8x8\n",
            "repack: repack tensor blk.10.ffn_up.weight with q4_K_8x8\n",
            ".repack: repack tensor blk.11.attn_q.weight with q4_K_8x8\n",
            "repack: repack tensor blk.11.attn_k.weight with q4_K_8x8\n",
            ".repack: repack tensor blk.11.attn_output.weight with q4_K_8x8\n",
            "repack: repack tensor blk.11.ffn_gate.weight with q4_K_8x8\n",
            "repack: repack tensor blk.11.ffn_up.weight with q4_K_8x8\n",
            ".repack: repack tensor blk.12.attn_q.weight with q4_K_8x8\n",
            "repack: repack tensor blk.12.attn_k.weight with q4_K_8x8\n",
            "repack: repack tensor blk.12.attn_v.weight with q4_K_8x8\n",
            ".repack: repack tensor blk.12.attn_output.weight with q4_K_8x8\n",
            "repack: repack tensor blk.12.ffn_gate.weight with q4_K_8x8\n",
            ".repack: repack tensor blk.12.ffn_down.weight with q4_K_8x8\n",
            "repack: repack tensor blk.12.ffn_up.weight with q4_K_8x8\n",
            ".repack: repack tensor blk.13.attn_q.weight with q4_K_8x8\n",
            "repack: repack tensor blk.13.attn_k.weight with q4_K_8x8\n",
            "repack: repack tensor blk.13.attn_v.weight with q4_K_8x8\n",
            "repack: repack tensor blk.13.attn_output.weight with q4_K_8x8\n",
            ".repack: repack tensor blk.13.ffn_gate.weight with q4_K_8x8\n",
            "repack: repack tensor blk.13.ffn_down.weight with q4_K_8x8\n",
            ".repack: repack tensor blk.13.ffn_up.weight with q4_K_8x8\n",
            ".repack: repack tensor blk.14.attn_q.weight with q4_K_8x8\n",
            "repack: repack tensor blk.14.attn_k.weight with q4_K_8x8\n",
            "repack: repack tensor blk.14.attn_output.weight with q4_K_8x8\n",
            "repack: repack tensor blk.14.ffn_gate.weight with q4_K_8x8\n",
            ".repack: repack tensor blk.14.ffn_up.weight with q4_K_8x8\n",
            ".repack: repack tensor blk.15.attn_q.weight with q4_K_8x8\n",
            "repack: repack tensor blk.15.attn_k.weight with q4_K_8x8\n",
            "repack: repack tensor blk.15.attn_v.weight with q4_K_8x8\n",
            "repack: repack tensor blk.15.attn_output.weight with q4_K_8x8\n",
            "repack: repack tensor blk.15.ffn_gate.weight with q4_K_8x8\n",
            ".repack: repack tensor blk.15.ffn_down.weight with q4_K_8x8\n",
            ".repack: repack tensor blk.15.ffn_up.weight with q4_K_8x8\n",
            "repack: repack tensor blk.16.attn_q.weight with q4_K_8x8\n",
            ".repack: repack tensor blk.16.attn_k.weight with q4_K_8x8\n",
            "repack: repack tensor blk.16.attn_v.weight with q4_K_8x8\n",
            "repack: repack tensor blk.16.attn_output.weight with q4_K_8x8\n",
            "repack: repack tensor blk.16.ffn_gate.weight with q4_K_8x8\n",
            ".repack: repack tensor blk.16.ffn_down.weight with q4_K_8x8\n",
            "repack: repack tensor blk.16.ffn_up.weight with q4_K_8x8\n",
            ".repack: repack tensor blk.17.attn_q.weight with q4_K_8x8\n",
            "repack: repack tensor blk.17.attn_k.weight with q4_K_8x8\n",
            ".repack: repack tensor blk.17.attn_output.weight with q4_K_8x8\n",
            "repack: repack tensor blk.17.ffn_gate.weight with q4_K_8x8\n",
            "repack: repack tensor blk.17.ffn_up.weight with q4_K_8x8\n",
            ".repack: repack tensor blk.18.attn_q.weight with q4_K_8x8\n",
            "repack: repack tensor blk.18.attn_k.weight with q4_K_8x8\n",
            ".repack: repack tensor blk.18.attn_v.weight with q4_K_8x8\n",
            "repack: repack tensor blk.18.attn_output.weight with q4_K_8x8\n",
            "repack: repack tensor blk.18.ffn_gate.weight with q4_K_8x8\n",
            ".repack: repack tensor blk.18.ffn_down.weight with q4_K_8x8\n",
            "repack: repack tensor blk.18.ffn_up.weight with q4_K_8x8\n",
            ".repack: repack tensor blk.19.attn_q.weight with q4_K_8x8\n",
            "repack: repack tensor blk.19.attn_k.weight with q4_K_8x8\n",
            "repack: repack tensor blk.19.attn_v.weight with q4_K_8x8\n",
            ".repack: repack tensor blk.19.attn_output.weight with q4_K_8x8\n",
            "repack: repack tensor blk.19.ffn_gate.weight with q4_K_8x8\n",
            "repack: repack tensor blk.19.ffn_down.weight with q4_K_8x8\n",
            ".repack: repack tensor blk.19.ffn_up.weight with q4_K_8x8\n",
            ".repack: repack tensor blk.20.attn_q.weight with q4_K_8x8\n",
            "repack: repack tensor blk.20.attn_k.weight with q4_K_8x8\n",
            "repack: repack tensor blk.20.attn_v.weight with q4_K_8x8\n",
            "repack: repack tensor blk.20.attn_output.weight with q4_K_8x8\n",
            ".repack: repack tensor blk.20.ffn_gate.weight with q4_K_8x8\n",
            "repack: repack tensor blk.20.ffn_down.weight with q4_K_8x8\n",
            ".repack: repack tensor blk.20.ffn_up.weight with q4_K_8x8\n",
            "repack: repack tensor blk.21.attn_q.weight with q4_K_8x8\n",
            ".repack: repack tensor blk.21.attn_k.weight with q4_K_8x8\n",
            "repack: repack tensor blk.21.attn_v.weight with q4_K_8x8\n",
            "repack: repack tensor blk.21.attn_output.weight with q4_K_8x8\n",
            "repack: repack tensor blk.21.ffn_gate.weight with q4_K_8x8\n",
            ".repack: repack tensor blk.21.ffn_down.weight with q4_K_8x8\n",
            ".repack: repack tensor blk.21.ffn_up.weight with q4_K_8x8\n",
            "repack: repack tensor blk.22.attn_q.weight with q4_K_8x8\n",
            "repack: repack tensor blk.22.attn_k.weight with q4_K_8x8\n",
            ".repack: repack tensor blk.22.attn_output.weight with q4_K_8x8\n",
            "repack: repack tensor blk.22.ffn_gate.weight with q4_K_8x8\n",
            ".repack: repack tensor blk.22.ffn_up.weight with q4_K_8x8\n",
            "repack: repack tensor blk.23.attn_q.weight with q4_K_8x8\n",
            "repack: repack tensor blk.23.attn_k.weight with q4_K_8x8\n",
            ".repack: repack tensor blk.23.attn_v.weight with q4_K_8x8\n",
            "repack: repack tensor blk.23.attn_output.weight with q4_K_8x8\n",
            "repack: repack tensor blk.23.ffn_gate.weight with q4_K_8x8\n",
            ".repack: repack tensor blk.23.ffn_down.weight with q4_K_8x8\n",
            "repack: repack tensor blk.23.ffn_up.weight with q4_K_8x8\n",
            ".repack: repack tensor blk.24.attn_q.weight with q4_K_8x8\n",
            "repack: repack tensor blk.24.attn_k.weight with q4_K_8x8\n",
            "repack: repack tensor blk.24.attn_output.weight with q4_K_8x8\n",
            ".repack: repack tensor blk.24.ffn_gate.weight with q4_K_8x8\n",
            "repack: repack tensor blk.24.ffn_up.weight with q4_K_8x8\n",
            ".repack: repack tensor blk.25.attn_q.weight with q4_K_8x8\n",
            "repack: repack tensor blk.25.attn_k.weight with q4_K_8x8\n",
            "repack: repack tensor blk.25.attn_v.weight with q4_K_8x8\n",
            ".repack: repack tensor blk.25.attn_output.weight with q4_K_8x8\n",
            "repack: repack tensor blk.25.ffn_gate.weight with q4_K_8x8\n",
            "repack: repack tensor blk.25.ffn_down.weight with q4_K_8x8\n",
            ".repack: repack tensor blk.25.ffn_up.weight with q4_K_8x8\n",
            ".repack: repack tensor blk.26.attn_q.weight with q4_K_8x8\n",
            "repack: repack tensor blk.26.attn_k.weight with q4_K_8x8\n",
            "repack: repack tensor blk.26.attn_v.weight with q4_K_8x8\n",
            "repack: repack tensor blk.26.attn_output.weight with q4_K_8x8\n",
            ".repack: repack tensor blk.26.ffn_gate.weight with q4_K_8x8\n",
            "repack: repack tensor blk.26.ffn_down.weight with q4_K_8x8\n",
            ".repack: repack tensor blk.26.ffn_up.weight with q4_K_8x8\n",
            "repack: repack tensor blk.27.attn_q.weight with q4_K_8x8\n",
            ".repack: repack tensor blk.27.attn_k.weight with q4_K_8x8\n",
            "repack: repack tensor blk.27.attn_output.weight with q4_K_8x8\n",
            "repack: repack tensor blk.27.ffn_gate.weight with q4_K_8x8\n",
            ".repack: repack tensor blk.27.ffn_up.weight with q4_K_8x8\n",
            "repack: repack tensor blk.28.attn_q.weight with q4_K_8x8\n",
            ".repack: repack tensor blk.28.attn_k.weight with q4_K_8x8\n",
            "repack: repack tensor blk.28.attn_output.weight with q4_K_8x8\n",
            "repack: repack tensor blk.28.ffn_gate.weight with q4_K_8x8\n",
            ".repack: repack tensor blk.28.ffn_up.weight with q4_K_8x8\n",
            "repack: repack tensor blk.29.attn_q.weight with q4_K_8x8\n",
            ".repack: repack tensor blk.29.attn_k.weight with q4_K_8x8\n",
            "repack: repack tensor blk.29.attn_output.weight with q4_K_8x8\n",
            "repack: repack tensor blk.29.ffn_gate.weight with q4_K_8x8\n",
            ".repack: repack tensor blk.29.ffn_up.weight with q4_K_8x8\n",
            "repack: repack tensor blk.30.attn_q.weight with q4_K_8x8\n",
            "repack: repack tensor blk.30.attn_k.weight with q4_K_8x8\n",
            ".repack: repack tensor blk.30.attn_output.weight with q4_K_8x8\n",
            "repack: repack tensor blk.30.ffn_gate.weight with q4_K_8x8\n",
            ".repack: repack tensor blk.30.ffn_up.weight with q4_K_8x8\n",
            "repack: repack tensor blk.31.attn_q.weight with q4_K_8x8\n",
            "repack: repack tensor blk.31.attn_k.weight with q4_K_8x8\n",
            ".repack: repack tensor blk.31.attn_output.weight with q4_K_8x8\n",
            "repack: repack tensor blk.31.ffn_gate.weight with q4_K_8x8\n",
            ".repack: repack tensor blk.31.ffn_up.weight with q4_K_8x8\n",
            "......................\n",
            "llama_context: constructing llama_context\n",
            "llama_context: n_seq_max     = 1\n",
            "llama_context: n_ctx         = 512\n",
            "llama_context: n_ctx_per_seq = 512\n",
            "llama_context: n_batch       = 512\n",
            "llama_context: n_ubatch      = 512\n",
            "llama_context: causal_attn   = 1\n",
            "llama_context: flash_attn    = 0\n",
            "llama_context: freq_base     = 10000.0\n",
            "llama_context: freq_scale    = 1\n",
            "llama_context: n_ctx_per_seq (512) < n_ctx_train (4096) -- the full capacity of the model will not be utilized\n",
            "set_abort_callback: call\n",
            "llama_context:        CPU  output buffer size =     0.12 MiB\n",
            "create_memory: n_ctx = 512 (padded)\n",
            "llama_kv_cache_unified: layer   0: dev = CPU\n",
            "llama_kv_cache_unified: layer   1: dev = CPU\n",
            "llama_kv_cache_unified: layer   2: dev = CPU\n",
            "llama_kv_cache_unified: layer   3: dev = CPU\n",
            "llama_kv_cache_unified: layer   4: dev = CPU\n",
            "llama_kv_cache_unified: layer   5: dev = CPU\n",
            "llama_kv_cache_unified: layer   6: dev = CPU\n",
            "llama_kv_cache_unified: layer   7: dev = CPU\n",
            "llama_kv_cache_unified: layer   8: dev = CPU\n",
            "llama_kv_cache_unified: layer   9: dev = CPU\n",
            "llama_kv_cache_unified: layer  10: dev = CPU\n",
            "llama_kv_cache_unified: layer  11: dev = CPU\n",
            "llama_kv_cache_unified: layer  12: dev = CPU\n",
            "llama_kv_cache_unified: layer  13: dev = CPU\n",
            "llama_kv_cache_unified: layer  14: dev = CPU\n",
            "llama_kv_cache_unified: layer  15: dev = CPU\n",
            "llama_kv_cache_unified: layer  16: dev = CPU\n",
            "llama_kv_cache_unified: layer  17: dev = CPU\n",
            "llama_kv_cache_unified: layer  18: dev = CPU\n",
            "llama_kv_cache_unified: layer  19: dev = CPU\n",
            "llama_kv_cache_unified: layer  20: dev = CPU\n",
            "llama_kv_cache_unified: layer  21: dev = CPU\n",
            "llama_kv_cache_unified: layer  22: dev = CPU\n",
            "llama_kv_cache_unified: layer  23: dev = CPU\n",
            "llama_kv_cache_unified: layer  24: dev = CPU\n",
            "llama_kv_cache_unified: layer  25: dev = CPU\n",
            "llama_kv_cache_unified: layer  26: dev = CPU\n",
            "llama_kv_cache_unified: layer  27: dev = CPU\n",
            "llama_kv_cache_unified: layer  28: dev = CPU\n",
            "llama_kv_cache_unified: layer  29: dev = CPU\n",
            "llama_kv_cache_unified: layer  30: dev = CPU\n",
            "llama_kv_cache_unified: layer  31: dev = CPU\n",
            "llama_kv_cache_unified:        CPU KV buffer size =   256.00 MiB\n",
            "llama_kv_cache_unified: size =  256.00 MiB (   512 cells,  32 layers,  1 seqs), K (f16):  128.00 MiB, V (f16):  128.00 MiB\n",
            "llama_kv_cache_unified: LLAMA_SET_ROWS=0, using old ggml_cpy() method for backwards compatibility\n",
            "llama_context: enumerating backends\n",
            "llama_context: backend_ptrs.size() = 1\n",
            "llama_context: max_nodes = 65536\n",
            "llama_context: worst-case: n_tokens = 512, n_seqs = 1, n_outputs = 0\n",
            "graph_reserve: reserving a graph for ubatch with n_tokens =  512, n_seqs =  1, n_outputs =  512\n",
            "graph_reserve: reserving a graph for ubatch with n_tokens =    1, n_seqs =  1, n_outputs =    1\n",
            "graph_reserve: reserving a graph for ubatch with n_tokens =  512, n_seqs =  1, n_outputs =  512\n",
            "llama_context:        CPU compute buffer size =    89.51 MiB\n",
            "llama_context: graph nodes  = 1158\n",
            "llama_context: graph splits = 1\n",
            "CPU : SSE3 = 1 | SSSE3 = 1 | AVX = 1 | AVX2 = 1 | F16C = 1 | FMA = 1 | BMI2 = 1 | LLAMAFILE = 1 | OPENMP = 1 | REPACK = 1 | \n",
            "Model metadata: {'tokenizer.ggml.unknown_token_id': '0', 'tokenizer.ggml.eos_token_id': '2', 'general.architecture': 'llama', 'llama.context_length': '4096', 'general.name': 'LLaMA v2', 'llama.embedding_length': '4096', 'llama.feed_forward_length': '11008', 'llama.attention.layer_norm_rms_epsilon': '0.000001', 'llama.rope.dimension_count': '128', 'llama.attention.head_count': '32', 'tokenizer.ggml.bos_token_id': '1', 'llama.block_count': '32', 'llama.attention.head_count_kv': '32', 'general.quantization_version': '2', 'tokenizer.ggml.model': 'llama', 'general.file_type': '15'}\n",
            "Using fallback chat format: llama-2\n"
          ]
        }
      ]
    },
    {
      "cell_type": "markdown",
      "source": [
        "GGUF model uploaded."
      ],
      "metadata": {
        "id": "nQO650VJ8LG1"
      }
    },
    {
      "cell_type": "markdown",
      "source": [
        "**3.Generate text using a natural language prompt (e.g., ask about the solar system)**"
      ],
      "metadata": {
        "id": "MzxO_22HPioY"
      }
    },
    {
      "cell_type": "code",
      "source": [
        "prompt = \"Explain how the solar system formed.\"\n",
        "output = llm(prompt, max_tokens=32)\n",
        "print(output[\"choices\"][0][\"text\"])\n",
        "\n"
      ],
      "metadata": {
        "colab": {
          "base_uri": "https://localhost:8080/"
        },
        "id": "q-9YzztRQPDo",
        "outputId": "d5054f64-84a4-4e92-ab29-a26857e1bbf6"
      },
      "execution_count": null,
      "outputs": [
        {
          "output_type": "stream",
          "name": "stderr",
          "text": [
            "Llama.generate: 1 prefix-match hit, remaining 8 prompt tokens to eval\n",
            "llama_perf_context_print:        load time =    5214.04 ms\n",
            "llama_perf_context_print: prompt eval time =    2581.44 ms /     8 tokens (  322.68 ms per token,     3.10 tokens per second)\n",
            "llama_perf_context_print:        eval time =   20271.29 ms /    31 runs   (  653.91 ms per token,     1.53 tokens per second)\n",
            "llama_perf_context_print:       total time =   22870.43 ms /    39 tokens\n"
          ]
        },
        {
          "output_type": "stream",
          "name": "stdout",
          "text": [
            " nobody really knows how the solar system formed. but there are several theories that scientists have developed over the years. one of the most widely accepted theories is the\n"
          ]
        }
      ]
    },
    {
      "cell_type": "markdown",
      "source": [
        "Text generated using a natural language prompt '\"Explain how the solar system formed.\"'."
      ],
      "metadata": {
        "id": "rzMANtnZ8ThT"
      }
    },
    {
      "cell_type": "markdown",
      "source": [
        "**4. Generate Python code by prompting the model (e.g.,\"Write a Python script that loads a Hugging Face model and tokenizes input.\")**"
      ],
      "metadata": {
        "id": "a6WSeI4HPiXp"
      }
    },
    {
      "cell_type": "code",
      "source": [
        "output_stream = llm(\n",
        "   prompt=\"Write a Python script that loads a Hugging Face model and tokenizes input.\",\n",
        "    max_tokens=256, # Increased max_tokens for a more complete script\n",
        "    stream=True  # Enable streaming\n",
        ")\n",
        "\n",
        "# Iterate through the tokens and print them at the same time they are computed\n",
        "for token_info in output_stream:\n",
        "    token = token_info[\"choices\"][0][\"text\"]\n",
        "    print(token, sep = \"/n\", end=\"\", flush=True)"
      ],
      "metadata": {
        "colab": {
          "base_uri": "https://localhost:8080/"
        },
        "id": "dDARGfA6QPzY",
        "outputId": "58081c74-b871-403b-df5b-5e2eec3384f5"
      },
      "execution_count": null,
      "outputs": [
        {
          "output_type": "stream",
          "name": "stderr",
          "text": [
            "Llama.generate: 17 prefix-match hit, remaining 1 prompt tokens to eval\n"
          ]
        },
        {
          "output_type": "stream",
          "name": "stdout",
          "text": [
            " surely, you can use the `from_pretrained` method to load a model. Here's an example of how you can use it to load a BERT model:\n",
            "```\n",
            "import torch\n",
            "from transformers import BertTokenizer, BertModel\n",
            "\n",
            "# Load the BERT model\n",
            "model = BertModel.from_pretrained('bert-base-uncased')\n",
            "\n",
            "# Load the tokenizer\n",
            "tokenizer = BertTokenizer.from_pretrained('bert-base-uncased')\n",
            "\n",
            "# Test the tokenizer\n",
            "text = \"This is a sample input text.\"\n",
            "input_ids = tokenizer.encode_plus(text, \n",
            "```\n",
            "In this example, we first load the BERT model using the `from_pretrained` method. This method takes the name of the model checkpoint as an argument and returns a `BertModel` instance.\n",
            "Next, we load the tokenizer using the `from_pretrained` method. This method takes the name of the tokenizer checkpoint as an argument and returns a `BertTokenizer` instance.\n",
            "Finally, we test the tokenizer by calling the `encode_plus` method on it and passing"
          ]
        },
        {
          "output_type": "stream",
          "name": "stderr",
          "text": [
            "llama_perf_context_print:        load time =    5214.04 ms\n",
            "llama_perf_context_print: prompt eval time =       0.00 ms /     1 tokens (    0.00 ms per token,      inf tokens per second)\n",
            "llama_perf_context_print:        eval time =  166546.93 ms /   256 runs   (  650.57 ms per token,     1.54 tokens per second)\n",
            "llama_perf_context_print:       total time =  167083.62 ms /   257 tokens\n"
          ]
        }
      ]
    },
    {
      "cell_type": "markdown",
      "source": [
        "Python code generated by prompting the model: prompt=\"Write a Python script that loads a Hugging Face model and tokenizes input.\""
      ],
      "metadata": {
        "id": "ZWHEaz7q84RF"
      }
    },
    {
      "cell_type": "markdown",
      "source": [
        "**Bonus Exercises 🎯**\n",
        "\n",
        "Try these fun and simple prompts to test Code Llama’s coding ability:\n",
        "\n",
        "**I tested bonus exercises 1 & 2.**\n",
        "\n",
        "1. Ask Code Llama to generate a function that checks if a number is prime.\n",
        "\n",
        "2. Prompt it to create a script that reads a CSV file and plots a line chart using matplotlib."
      ],
      "metadata": {
        "id": "Yc9kRappf7jn"
      }
    },
    {
      "cell_type": "markdown",
      "source": [
        "**1. Ask Code Llama to generate a function that checks if a number is prime.**"
      ],
      "metadata": {
        "id": "KFEfvlydAaCS"
      }
    },
    {
      "cell_type": "code",
      "source": [
        "#Génération du prompt via llama\n",
        "prompt = \"Ask Code Llama to generate a function that checks if a number is prime.\"\n",
        "output = llm(prompt, max_tokens=256)\n",
        "print(output[\"choices\"][0][\"text\"])"
      ],
      "metadata": {
        "colab": {
          "base_uri": "https://localhost:8080/"
        },
        "id": "cFVEd6S8gAfv",
        "outputId": "9da48228-f316-4137-ce8f-3884a3724d0e"
      },
      "execution_count": null,
      "outputs": [
        {
          "output_type": "stream",
          "name": "stderr",
          "text": [
            "Llama.generate: 17 prefix-match hit, remaining 1 prompt tokens to eval\n",
            "llama_perf_context_print:        load time =    5214.04 ms\n",
            "llama_perf_context_print: prompt eval time =       0.00 ms /     1 tokens (    0.00 ms per token,      inf tokens per second)\n",
            "llama_perf_context_print:        eval time =  167734.13 ms /   256 runs   (  655.21 ms per token,     1.53 tokens per second)\n",
            "llama_perf_context_print:       total time =  167927.88 ms /   257 tokens\n"
          ]
        },
        {
          "output_type": "stream",
          "name": "stdout",
          "text": [
            "\n",
            "I am glad you asked! Here is a function that checks if a number is prime:\n",
            "```\n",
            "def is_prime(n):\n",
            "    if n <= 1 or n % 2 == 0:\n",
            "        return False\n",
            "    for i in range(3, int(n ** 0.5) + 1, 2):\n",
            "        if n % i == 0:\n",
            "            return False\n",
            "    return True\n",
            "```\n",
            "This function uses the Sieve of Eratosthenes algorithm to check if a number is prime. The function starts by checking if the number is less than or equal to 1, or if it is even. If it is, then it is not prime, so the function returns `False`.\n",
            "If the number is greater than 1 and even, the function then checks if it is divisible by any prime number less than or equal to the square root of the number. If it is, then it is not prime, so the function returns `False`.\n",
            "If the number is greater than 1 and not even, then it is prime, so the function returns `True`.\n",
            "Here is an example of how you can use this function:\n",
            "```\n",
            "n = 23\n"
          ]
        }
      ]
    },
    {
      "cell_type": "code",
      "source": [
        "#Vérification du prompt généré par llama\n",
        "# Résultat : Code généré OK\n",
        "def is_prime(n):\n",
        "    if n <= 1 or n % 2 == 0:\n",
        "        return False\n",
        "    for i in range(3, int(n ** 0.5) + 1, 2):\n",
        "        if n % i == 0:\n",
        "            return False\n",
        "    return True\n",
        "\n",
        "\n",
        "n = 23\n",
        "print(is_prime(n))"
      ],
      "metadata": {
        "colab": {
          "base_uri": "https://localhost:8080/"
        },
        "id": "u8ZN5JDcjFhO",
        "outputId": "63cab22c-7e46-4f6b-fb58-8f158f0803e5"
      },
      "execution_count": null,
      "outputs": [
        {
          "output_type": "stream",
          "name": "stdout",
          "text": [
            "True\n"
          ]
        }
      ]
    },
    {
      "cell_type": "markdown",
      "source": [
        "Llama's ability to code tested by asking code Llama if a number is prime.\n",
        "\n",
        "Code has been generated correctly."
      ],
      "metadata": {
        "id": "gQ80npB89xjj"
      }
    },
    {
      "cell_type": "markdown",
      "source": [
        "**2. Prompt Llama to create a script that reads a CSV file and plots a line chart using matplotlib.**"
      ],
      "metadata": {
        "id": "74ST-D_sA7Gi"
      }
    },
    {
      "cell_type": "code",
      "source": [
        "#Génération du code via llama\n",
        "prompt = \"Create a script that reads a CSV file and plots a line chart using matplotlib\"\n",
        "output = llm(prompt, max_tokens=512)\n",
        "print(output[\"choices\"][0][\"text\"])\n"
      ],
      "metadata": {
        "colab": {
          "base_uri": "https://localhost:8080/"
        },
        "id": "hSfTBv3lkYR3",
        "outputId": "80379c50-948f-4794-8262-b5c617571545"
      },
      "execution_count": null,
      "outputs": [
        {
          "output_type": "stream",
          "name": "stderr",
          "text": [
            "Llama.generate: 15 prefix-match hit, remaining 1 prompt tokens to eval\n",
            "llama_perf_context_print:        load time =    5214.04 ms\n",
            "llama_perf_context_print: prompt eval time =       0.00 ms /     1 tokens (    0.00 ms per token,      inf tokens per second)\n",
            "llama_perf_context_print:        eval time =  226026.40 ms /   354 runs   (  638.49 ms per token,     1.57 tokens per second)\n",
            "llama_perf_context_print:       total time =  226331.30 ms /   355 tokens\n"
          ]
        },
        {
          "output_type": "stream",
          "name": "stdout",
          "text": [
            "\n",
            "\n",
            "import matplotlib.pyplot as plt\n",
            "import csv\n",
            "\n",
            "# Load the CSV file\n",
            "with open('data.csv', 'r') as f:\n",
            "    reader = csv.DictReader(f)\n",
            "\n",
            "# Plot the data\n",
            "plt.plot(reader['date'], reader['value'])\n",
            "\n",
            "# Add axis labels\n",
            "plt.xlabel('Date')\n",
            "plt.ylabel('Value')\n",
            "\n",
            "# Show the plot\n",
            "plt.show()\n",
            "\n",
            "This script will read a CSV file named \"data.csv\" and plot a line chart of the data in the file. The script uses the `csv` module to read the file and the `matplotlib.pyplot` module to create the plot.\n",
            "The script first loads the CSV file using the `open()` function in read mode (`'r'`). The `csv.DictReader()` function is then used to read the file and create a dictionary of the data in the file, where the keys are the column names and the values are the data values.\n",
            "The script then uses the `plot()` function to plot the data, passing in the column names as the x-axis and y-axis values. The `xlabel()` and `ylabel()` functions are used to add axis labels to the plot.\n",
            "Finally, the script uses the `show()` function to display the plot.\n",
            "You will need to replace \"data.csv\" with the name of your CSV file.\n",
            "Note: This script assumes that the CSV file has two columns, with the first column named \"date\" and the second column named \"value\". If your CSV file has a different structure, you will need to modify the script accordingly.\n"
          ]
        }
      ]
    },
    {
      "cell_type": "code",
      "source": [
        "#Vérification du prompt généré par llama\n",
        "# Résultat ==> le code renvoie une erreur : 'DictReader' object is not subscriptable**\n",
        "\n",
        "import matplotlib.pyplot as plt\n",
        "import csv\n",
        "\n",
        "# Load the CSV file\n",
        "with open('data.csv', 'r') as f:\n",
        "    reader = csv.DictReader(f)\n",
        "\n",
        "# Plot the data\n",
        "plt.plot(reader['date'], reader['value'])\n",
        "\n",
        "# Add axis labels\n",
        "plt.xlabel('Date')\n",
        "plt.ylabel('Value')\n",
        "\n",
        "# Show the plot\n",
        "plt.show()"
      ],
      "metadata": {
        "collapsed": true,
        "id": "7gUxC-tF0pg0"
      },
      "execution_count": null,
      "outputs": []
    },
    {
      "cell_type": "code",
      "source": [
        "#Vérification du code généré par Llama (OK après corrections mineures)\n",
        "import matplotlib.pyplot as plt\n",
        "import csv\n",
        "\n",
        "# Load the CSV file\n",
        "dates = [] #correction : création d'une liste 'dates'\n",
        "values = [] #correction : création d'une liste 'values'\n",
        "with open('data.csv', 'r') as f:\n",
        "    reader = csv.DictReader(f)\n",
        "    for row in reader: #Correction : transfert du dictionnaire dans les deux listes\n",
        "        dates.append(row['date'])\n",
        "        values.append(row['value'])\n",
        "\n",
        "# Plot the data\n",
        "plt.plot(dates, values)\n",
        "\n",
        "# Add axis labels\n",
        "plt.xlabel('Date')\n",
        "plt.ylabel('Value')\n",
        "\n",
        "# Show the plot\n",
        "plt.show()"
      ],
      "metadata": {
        "colab": {
          "base_uri": "https://localhost:8080/",
          "height": 449
        },
        "id": "zaEpAil03MJK",
        "outputId": "eca25eab-1a8f-4882-8476-19e14eda1d45"
      },
      "execution_count": null,
      "outputs": [
        {
          "output_type": "display_data",
          "data": {
            "text/plain": [
              "<Figure size 640x480 with 1 Axes>"
            ],
            "image/png": "[encoded data removed]"
          },
          "metadata": {}
        }
      ]
    },
    {
      "cell_type": "markdown",
      "source": [
        "Llama was prompted to load a .csv file (the one I had to create) and plot a line chart.\n",
        "\n",
        "Code was generated using my prompt, but generated code did not allow me to create the plot, so I had to slightly modify the code to be able to get a plot: Lama generated a dictionary that could not be directly plotted.\n",
        "\n",
        "I had to turn the dictionary into a list to get a plot.  "
      ],
      "metadata": {
        "id": "fvmgzmf6-3UW"
      }
    }
  ]
}