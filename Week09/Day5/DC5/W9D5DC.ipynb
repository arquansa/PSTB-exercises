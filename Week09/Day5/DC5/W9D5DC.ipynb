{
  "nbformat": 4,
  "nbformat_minor": 0,
  "metadata": {
    "colab": {
      "provenance": [],
      "authorship_tag": "ABX9TyMRkMXqA0ogwYvrILJGgszb",
      "include_colab_link": true
    },
    "kernelspec": {
      "name": "python3",
      "display_name": "Python 3"
    },
    "language_info": {
      "name": "python"
    }
  },
  "cells": [
    {
      "cell_type": "markdown",
      "metadata": {
        "id": "view-in-github",
        "colab_type": "text"
      },
      "source": [
        "<a href=\"https://colab.research.google.com/github/arquansa/PSTB-exercises/blob/main/Week09/Day5/DC5/W9D5DC.ipynb\" target=\"_parent\"><img src=\"https://colab.research.google.com/assets/colab-badge.svg\" alt=\"Open In Colab\"/></a>"
      ]
    },
    {
      "cell_type": "markdown",
      "source": [
        "#Daily Challenge: Building an Agent with LangGraph and the Gemini API#\n",
        "\n",
        "- How to create a stateful application using LangGraph.\n",
        "- How to integrate Gemini API (via LangChain) into your LangGraph application.\n",
        "- How to define and manipulate state using TypedDict and node functions.\n",
        "- How to simulate dynamic, tool-augmented behavior (like menus and ordering) in a conversational loop.\n",
        "- How to model conditional transitions, loops, and user interaction using LangGraph.\n",
        "\n",
        "A conversational cafe ordering system called BaristaBot. This bot will:\n",
        "- Use natural language to take coffee/tea orders.\n",
        "- Offer a real-time menu using a tool.\n",
        "- Confirm and modify orders.\n",
        "- Loop through conversation until an order is placed.\n",
        "- Handle tool calls using LangGraph’s ToolNode mechanism.\n"
      ],
      "metadata": {
        "id": "wi3RpV3aNVaW"
      }
    },
    {
      "cell_type": "markdown",
      "source": [
        "✅ Challenge Goal - Create a LangGraph-based BaristaBot that:\n",
        "\n",
        "- Takes natural language coffee/tea orders\n",
        "- Displays a real-time menu using a tool\n",
        "- Confirms or modifies orders\n",
        "- Loops until the order is confirmed\n",
        "- Uses Gemini API as the LLM via LangChain"
      ],
      "metadata": {
        "id": "e9OStiXRQ0uR"
      }
    },
    {
      "cell_type": "markdown",
      "source": [
        "Sample Interaction\n",
        "\n",
        "- You: Can I see the menu?\n",
        "- BaristaBot: ☕ Coffee Menu: ...\n",
        "- You: I'll take a cappuccino.\n",
        "- BaristaBot: You ordered a Cappuccino. Type 'confirm' to place it or 'change' to modify.\n",
        "- You: confirm\n",
        "\n",
        "✅ Order placed."
      ],
      "metadata": {
        "id": "ZS37uVrOV1aF"
      }
    },
    {
      "cell_type": "markdown",
      "source": [
        "#1. Setup Requirements\n",
        "Install necessary packages:"
      ],
      "metadata": {
        "id": "sptusXGZRPZU"
      }
    },
    {
      "cell_type": "code",
      "source": [
        "pip install langgraph langchain-google-genai"
      ],
      "metadata": {
        "id": "OL1LBLSIRRjW",
        "colab": {
          "base_uri": "https://localhost:8080/"
        },
        "outputId": "fb162173-b4f1-47ba-dcf6-ce6a774e1072"
      },
      "execution_count": null,
      "outputs": [
        {
          "output_type": "stream",
          "name": "stdout",
          "text": [
            "Requirement already satisfied: langgraph in /usr/local/lib/python3.11/dist-packages (0.6.3)\n",
            "Requirement already satisfied: langchain-google-genai in /usr/local/lib/python3.11/dist-packages (2.1.8)\n",
            "Requirement already satisfied: langchain-core>=0.1 in /usr/local/lib/python3.11/dist-packages (from langgraph) (0.3.72)\n",
            "Requirement already satisfied: langgraph-checkpoint<3.0.0,>=2.1.0 in /usr/local/lib/python3.11/dist-packages (from langgraph) (2.1.1)\n",
            "Requirement already satisfied: langgraph-prebuilt<0.7.0,>=0.6.0 in /usr/local/lib/python3.11/dist-packages (from langgraph) (0.6.3)\n",
            "Requirement already satisfied: langgraph-sdk<0.3.0,>=0.2.0 in /usr/local/lib/python3.11/dist-packages (from langgraph) (0.2.0)\n",
            "Requirement already satisfied: pydantic>=2.7.4 in /usr/local/lib/python3.11/dist-packages (from langgraph) (2.11.7)\n",
            "Requirement already satisfied: xxhash>=3.5.0 in /usr/local/lib/python3.11/dist-packages (from langgraph) (3.5.0)\n",
            "Requirement already satisfied: filetype<2.0.0,>=1.2.0 in /usr/local/lib/python3.11/dist-packages (from langchain-google-genai) (1.2.0)\n",
            "Requirement already satisfied: google-ai-generativelanguage<0.7.0,>=0.6.18 in /usr/local/lib/python3.11/dist-packages (from langchain-google-genai) (0.6.18)\n",
            "Requirement already satisfied: google-api-core!=2.0.*,!=2.1.*,!=2.10.*,!=2.2.*,!=2.3.*,!=2.4.*,!=2.5.*,!=2.6.*,!=2.7.*,!=2.8.*,!=2.9.*,<3.0.0,>=1.34.1 in /usr/local/lib/python3.11/dist-packages (from google-api-core[grpc]!=2.0.*,!=2.1.*,!=2.10.*,!=2.2.*,!=2.3.*,!=2.4.*,!=2.5.*,!=2.6.*,!=2.7.*,!=2.8.*,!=2.9.*,<3.0.0,>=1.34.1->google-ai-generativelanguage<0.7.0,>=0.6.18->langchain-google-genai) (2.25.1)\n",
            "Requirement already satisfied: google-auth!=2.24.0,!=2.25.0,<3.0.0,>=2.14.1 in /usr/local/lib/python3.11/dist-packages (from google-ai-generativelanguage<0.7.0,>=0.6.18->langchain-google-genai) (2.38.0)\n",
            "Requirement already satisfied: proto-plus<2.0.0,>=1.22.3 in /usr/local/lib/python3.11/dist-packages (from google-ai-generativelanguage<0.7.0,>=0.6.18->langchain-google-genai) (1.26.1)\n",
            "Requirement already satisfied: protobuf!=4.21.0,!=4.21.1,!=4.21.2,!=4.21.3,!=4.21.4,!=4.21.5,<7.0.0,>=3.20.2 in /usr/local/lib/python3.11/dist-packages (from google-ai-generativelanguage<0.7.0,>=0.6.18->langchain-google-genai) (5.29.5)\n",
            "Requirement already satisfied: langsmith>=0.3.45 in /usr/local/lib/python3.11/dist-packages (from langchain-core>=0.1->langgraph) (0.4.8)\n",
            "Requirement already satisfied: tenacity!=8.4.0,<10.0.0,>=8.1.0 in /usr/local/lib/python3.11/dist-packages (from langchain-core>=0.1->langgraph) (8.5.0)\n",
            "Requirement already satisfied: jsonpatch<2.0,>=1.33 in /usr/local/lib/python3.11/dist-packages (from langchain-core>=0.1->langgraph) (1.33)\n",
            "Requirement already satisfied: PyYAML>=5.3 in /usr/local/lib/python3.11/dist-packages (from langchain-core>=0.1->langgraph) (6.0.2)\n",
            "Requirement already satisfied: typing-extensions>=4.7 in /usr/local/lib/python3.11/dist-packages (from langchain-core>=0.1->langgraph) (4.14.1)\n",
            "Requirement already satisfied: packaging>=23.2 in /usr/local/lib/python3.11/dist-packages (from langchain-core>=0.1->langgraph) (25.0)\n",
            "Requirement already satisfied: ormsgpack>=1.10.0 in /usr/local/lib/python3.11/dist-packages (from langgraph-checkpoint<3.0.0,>=2.1.0->langgraph) (1.10.0)\n",
            "Requirement already satisfied: httpx>=0.25.2 in /usr/local/lib/python3.11/dist-packages (from langgraph-sdk<0.3.0,>=0.2.0->langgraph) (0.28.1)\n",
            "Requirement already satisfied: orjson>=3.10.1 in /usr/local/lib/python3.11/dist-packages (from langgraph-sdk<0.3.0,>=0.2.0->langgraph) (3.11.1)\n",
            "Requirement already satisfied: annotated-types>=0.6.0 in /usr/local/lib/python3.11/dist-packages (from pydantic>=2.7.4->langgraph) (0.7.0)\n",
            "Requirement already satisfied: pydantic-core==2.33.2 in /usr/local/lib/python3.11/dist-packages (from pydantic>=2.7.4->langgraph) (2.33.2)\n",
            "Requirement already satisfied: typing-inspection>=0.4.0 in /usr/local/lib/python3.11/dist-packages (from pydantic>=2.7.4->langgraph) (0.4.1)\n",
            "Requirement already satisfied: googleapis-common-protos<2.0.0,>=1.56.2 in /usr/local/lib/python3.11/dist-packages (from google-api-core!=2.0.*,!=2.1.*,!=2.10.*,!=2.2.*,!=2.3.*,!=2.4.*,!=2.5.*,!=2.6.*,!=2.7.*,!=2.8.*,!=2.9.*,<3.0.0,>=1.34.1->google-api-core[grpc]!=2.0.*,!=2.1.*,!=2.10.*,!=2.2.*,!=2.3.*,!=2.4.*,!=2.5.*,!=2.6.*,!=2.7.*,!=2.8.*,!=2.9.*,<3.0.0,>=1.34.1->google-ai-generativelanguage<0.7.0,>=0.6.18->langchain-google-genai) (1.70.0)\n",
            "Requirement already satisfied: requests<3.0.0,>=2.18.0 in /usr/local/lib/python3.11/dist-packages (from google-api-core!=2.0.*,!=2.1.*,!=2.10.*,!=2.2.*,!=2.3.*,!=2.4.*,!=2.5.*,!=2.6.*,!=2.7.*,!=2.8.*,!=2.9.*,<3.0.0,>=1.34.1->google-api-core[grpc]!=2.0.*,!=2.1.*,!=2.10.*,!=2.2.*,!=2.3.*,!=2.4.*,!=2.5.*,!=2.6.*,!=2.7.*,!=2.8.*,!=2.9.*,<3.0.0,>=1.34.1->google-ai-generativelanguage<0.7.0,>=0.6.18->langchain-google-genai) (2.32.3)\n",
            "Requirement already satisfied: grpcio<2.0.0,>=1.33.2 in /usr/local/lib/python3.11/dist-packages (from google-api-core[grpc]!=2.0.*,!=2.1.*,!=2.10.*,!=2.2.*,!=2.3.*,!=2.4.*,!=2.5.*,!=2.6.*,!=2.7.*,!=2.8.*,!=2.9.*,<3.0.0,>=1.34.1->google-ai-generativelanguage<0.7.0,>=0.6.18->langchain-google-genai) (1.74.0)\n",
            "Requirement already satisfied: grpcio-status<2.0.0,>=1.33.2 in /usr/local/lib/python3.11/dist-packages (from google-api-core[grpc]!=2.0.*,!=2.1.*,!=2.10.*,!=2.2.*,!=2.3.*,!=2.4.*,!=2.5.*,!=2.6.*,!=2.7.*,!=2.8.*,!=2.9.*,<3.0.0,>=1.34.1->google-ai-generativelanguage<0.7.0,>=0.6.18->langchain-google-genai) (1.71.2)\n",
            "Requirement already satisfied: cachetools<6.0,>=2.0.0 in /usr/local/lib/python3.11/dist-packages (from google-auth!=2.24.0,!=2.25.0,<3.0.0,>=2.14.1->google-ai-generativelanguage<0.7.0,>=0.6.18->langchain-google-genai) (5.5.2)\n",
            "Requirement already satisfied: pyasn1-modules>=0.2.1 in /usr/local/lib/python3.11/dist-packages (from google-auth!=2.24.0,!=2.25.0,<3.0.0,>=2.14.1->google-ai-generativelanguage<0.7.0,>=0.6.18->langchain-google-genai) (0.4.2)\n",
            "Requirement already satisfied: rsa<5,>=3.1.4 in /usr/local/lib/python3.11/dist-packages (from google-auth!=2.24.0,!=2.25.0,<3.0.0,>=2.14.1->google-ai-generativelanguage<0.7.0,>=0.6.18->langchain-google-genai) (4.9.1)\n",
            "Requirement already satisfied: anyio in /usr/local/lib/python3.11/dist-packages (from httpx>=0.25.2->langgraph-sdk<0.3.0,>=0.2.0->langgraph) (4.9.0)\n",
            "Requirement already satisfied: certifi in /usr/local/lib/python3.11/dist-packages (from httpx>=0.25.2->langgraph-sdk<0.3.0,>=0.2.0->langgraph) (2025.7.14)\n",
            "Requirement already satisfied: httpcore==1.* in /usr/local/lib/python3.11/dist-packages (from httpx>=0.25.2->langgraph-sdk<0.3.0,>=0.2.0->langgraph) (1.0.9)\n",
            "Requirement already satisfied: idna in /usr/local/lib/python3.11/dist-packages (from httpx>=0.25.2->langgraph-sdk<0.3.0,>=0.2.0->langgraph) (3.10)\n",
            "Requirement already satisfied: h11>=0.16 in /usr/local/lib/python3.11/dist-packages (from httpcore==1.*->httpx>=0.25.2->langgraph-sdk<0.3.0,>=0.2.0->langgraph) (0.16.0)\n",
            "Requirement already satisfied: jsonpointer>=1.9 in /usr/local/lib/python3.11/dist-packages (from jsonpatch<2.0,>=1.33->langchain-core>=0.1->langgraph) (3.0.0)\n",
            "Requirement already satisfied: requests-toolbelt<2.0.0,>=1.0.0 in /usr/local/lib/python3.11/dist-packages (from langsmith>=0.3.45->langchain-core>=0.1->langgraph) (1.0.0)\n",
            "Requirement already satisfied: zstandard<0.24.0,>=0.23.0 in /usr/local/lib/python3.11/dist-packages (from langsmith>=0.3.45->langchain-core>=0.1->langgraph) (0.23.0)\n",
            "Requirement already satisfied: pyasn1<0.7.0,>=0.6.1 in /usr/local/lib/python3.11/dist-packages (from pyasn1-modules>=0.2.1->google-auth!=2.24.0,!=2.25.0,<3.0.0,>=2.14.1->google-ai-generativelanguage<0.7.0,>=0.6.18->langchain-google-genai) (0.6.1)\n",
            "Requirement already satisfied: charset-normalizer<4,>=2 in /usr/local/lib/python3.11/dist-packages (from requests<3.0.0,>=2.18.0->google-api-core!=2.0.*,!=2.1.*,!=2.10.*,!=2.2.*,!=2.3.*,!=2.4.*,!=2.5.*,!=2.6.*,!=2.7.*,!=2.8.*,!=2.9.*,<3.0.0,>=1.34.1->google-api-core[grpc]!=2.0.*,!=2.1.*,!=2.10.*,!=2.2.*,!=2.3.*,!=2.4.*,!=2.5.*,!=2.6.*,!=2.7.*,!=2.8.*,!=2.9.*,<3.0.0,>=1.34.1->google-ai-generativelanguage<0.7.0,>=0.6.18->langchain-google-genai) (3.4.2)\n",
            "Requirement already satisfied: urllib3<3,>=1.21.1 in /usr/local/lib/python3.11/dist-packages (from requests<3.0.0,>=2.18.0->google-api-core!=2.0.*,!=2.1.*,!=2.10.*,!=2.2.*,!=2.3.*,!=2.4.*,!=2.5.*,!=2.6.*,!=2.7.*,!=2.8.*,!=2.9.*,<3.0.0,>=1.34.1->google-api-core[grpc]!=2.0.*,!=2.1.*,!=2.10.*,!=2.2.*,!=2.3.*,!=2.4.*,!=2.5.*,!=2.6.*,!=2.7.*,!=2.8.*,!=2.9.*,<3.0.0,>=1.34.1->google-ai-generativelanguage<0.7.0,>=0.6.18->langchain-google-genai) (2.5.0)\n",
            "Requirement already satisfied: sniffio>=1.1 in /usr/local/lib/python3.11/dist-packages (from anyio->httpx>=0.25.2->langgraph-sdk<0.3.0,>=0.2.0->langgraph) (1.3.1)\n"
          ]
        }
      ]
    },
    {
      "cell_type": "code",
      "execution_count": null,
      "metadata": {
        "id": "xSr4ucHzNF5O"
      },
      "outputs": [],
      "source": [
        "import os\n",
        "os.environ['GOOGLE_API_KEY'] = \"your-gemini-api-key\""
      ]
    },
    {
      "cell_type": "markdown",
      "source": [
        "#2. Define conversation state with TypedDict\n",
        "\n",
        "Create a shared state to track conversation context, order info, and control flags:"
      ],
      "metadata": {
        "id": "x06KVE2qR-s0"
      }
    },
    {
      "cell_type": "code",
      "source": [
        "from typing import TypedDict, List, Optional\n",
        "\n",
        "class BaristaState(TypedDict):\n",
        "    messages: List[str]\n",
        "    order: Optional[str]\n",
        "    confirmed: bool\n",
        "    menu_shown: bool\n",
        "    input_text: Optional[str]"
      ],
      "metadata": {
        "id": "roIr0BH3SOfp"
      },
      "execution_count": null,
      "outputs": []
    },
    {
      "cell_type": "markdown",
      "source": [
        "#3. Create Menu Tool#\n",
        "\n",
        "\n",
        "Use a tool to return a mock menu dynamically:"
      ],
      "metadata": {
        "id": "aaxfX9EaSk6E"
      }
    },
    {
      "cell_type": "code",
      "source": [
        "def get_menu() -> str:\n",
        "    return \"\"\"☕ Coffee Menu:\n",
        "- Espresso\n",
        "- Cappuccino\n",
        "- Latte\n",
        "\n",
        "🍵 Tea Menu:\n",
        "- Green Tea\n",
        "- Chai\n",
        "- Earl Grey\"\"\"\n",
        "\n",
        "#Wrap it using LangChain's tool mechanism:\n",
        "\n",
        "from langchain.tools import Tool\n",
        "\n",
        "menu_tool = Tool(\n",
        "    name=\"get_menu\",\n",
        "    func=lambda _: get_menu(),\n",
        "    description=\"Returns the coffee and tea menu.\"\n",
        ")"
      ],
      "metadata": {
        "id": "Fgq0-JROTEJk"
      },
      "execution_count": null,
      "outputs": []
    },
    {
      "cell_type": "markdown",
      "source": [
        "#4. Setup Gemini LLM\""
      ],
      "metadata": {
        "id": "nVT8NBl_0lHi"
      }
    },
    {
      "cell_type": "markdown",
      "source": [
        "Integration of Gemini, via LangChain into the LangGraph application.  "
      ],
      "metadata": {
        "id": "LwSvyEQ16Iv2"
      }
    },
    {
      "cell_type": "code",
      "source": [
        "from langchain_google_genai import ChatGoogleGenerativeAI\n",
        "\n",
        "llm = ChatGoogleGenerativeAI(model=\"gemini-pro\", temperature=0.7)"
      ],
      "metadata": {
        "id": "e--gw9TLu_V6"
      },
      "execution_count": null,
      "outputs": []
    },
    {
      "cell_type": "markdown",
      "source": [
        "#5. Define Node Functions#\n",
        "\n",
        "These represent your LangGraph steps: the different tasks or actions accomplished by the BaristaBot.\n",
        "\n",
        "Parse User Input:"
      ],
      "metadata": {
        "id": "5P3D5gBGSpRP"
      }
    },
    {
      "cell_type": "code",
      "source": [
        " def parse_input(state: BaristaState) -> dict:\n",
        "    raw = state.get(\"input_text\")\n",
        "    messages = state.get(\"messages\", [])[:]\n",
        "    if raw:\n",
        "        messages.append(raw)\n",
        "\n",
        "    order = state.get(\"order\")\n",
        "    confirmed = state.get(\"confirmed\", False)\n",
        "    menu_shown = state.get(\"menu_shown\", False)\n",
        "\n",
        "    lower = raw.lower() if raw else \"\"\n",
        "\n",
        "    if \"menu\" in lower:\n",
        "        menu_shown = True\n",
        "    elif \"confirm\" in lower:\n",
        "        confirmed = True\n",
        "    elif \"change\" in lower:\n",
        "        order = None\n",
        "        confirmed = False\n",
        "    elif order is None:\n",
        "        drinks = [\"espresso\", \"cappuccino\", \"latte\", \"green tea\", \"chai\", \"earl grey\"]\n",
        "        for drink in drinks:\n",
        "            if drink in lower:\n",
        "                order = drink.title()\n",
        "                break\n",
        "\n",
        "    return {\n",
        "        \"messages\": messages,\n",
        "        \"order\": order,\n",
        "        \"confirmed\": confirmed,\n",
        "        \"menu_shown\": menu_shown\n",
        "    }"
      ],
      "metadata": {
        "id": "w48Ip0wfu_I-"
      },
      "execution_count": null,
      "outputs": []
    },
    {
      "cell_type": "markdown",
      "source": [
        "Display Menu (ToolNode)"
      ],
      "metadata": {
        "id": "mctCUmU81Tgn"
      }
    },
    {
      "cell_type": "code",
      "source": [
        "from langgraph.prebuilt import ToolNode\n",
        "\n",
        "menu_node = ToolNode(tools=[menu_tool])"
      ],
      "metadata": {
        "id": "wvUjEyHL1aeI"
      },
      "execution_count": null,
      "outputs": []
    },
    {
      "cell_type": "markdown",
      "source": [
        "#6. Exit Condition#"
      ],
      "metadata": {
        "id": "tE4EQCS7v96X"
      }
    },
    {
      "cell_type": "markdown",
      "source": [
        "Exit condition is checked:\n",
        "\n",
        "Once the order is confirmed, the conversation is over, and the BaristaBot takes care of another customer.\n",
        "\n",
        "On the contrary, if the order is not confirmed, conversation goes on."
      ],
      "metadata": {
        "id": "BgnGEaVCbQZq"
      }
    },
    {
      "cell_type": "code",
      "source": [
        "# Define the conditional logic function\n",
        "def is_done(state: BaristaState) -> bool:\n",
        "   # The conversation is done if the order is confirmed\n",
        "    return state.get(\"confirmed\", False)"
      ],
      "metadata": {
        "id": "NLhi7iyXv2Uf"
      },
      "execution_count": null,
      "outputs": []
    },
    {
      "cell_type": "markdown",
      "source": [
        "#7. Define LangGraph Workflow#"
      ],
      "metadata": {
        "id": "Ds4v8nKXwMSk"
      }
    },
    {
      "cell_type": "markdown",
      "source": [
        "At each step; workflow is managed thanks to LangGraph and its conversational Agents."
      ],
      "metadata": {
        "id": "L4ccc8Fodtwh"
      }
    },
    {
      "cell_type": "code",
      "source": [
        "from langgraph.graph import StateGraph, END\n",
        "\n",
        "builder = StateGraph(BaristaState)\n",
        "\n",
        "builder.add_node(\"parse_input\", parse_input)\n",
        "builder.set_entry_point(\"parse_input\")\n",
        "\n",
        "builder.add_edge(\"parse_input\", END)  # Always end after one run\n",
        "#builder.print_ascii() : imprimer le graphe (méthode non prise en charge avec cette version de Langgraph)\n",
        "graph = builder.compile()"
      ],
      "metadata": {
        "id": "rJzdHMXoVEmA"
      },
      "execution_count": null,
      "outputs": []
    },
    {
      "cell_type": "markdown",
      "source": [
        "#8. Run BaristaBot (Main Loop)#\n",
        "\n",
        "BaristaBot's conversational agent makes a loop:\n",
        "\n",
        "- It asks the customer which beverage they will have.\n",
        "- Customers make a choice, and,\n",
        "- If they confirm their choice, conversation comes to an end.\n",
        "- They can also modify their choice, before confirming, and coversation then comes to an end.\n",
        "- The BaristaBot then moves on to another customer."
      ],
      "metadata": {
        "id": "eCHc7AJIVPo9"
      }
    },
    {
      "cell_type": "code",
      "source": [
        "# To run in a conversational loop, you can do something like this:\n",
        "initial_state = BaristaState(\n",
        "    messages=[],\n",
        "    order=None,\n",
        "    confirmed=False,\n",
        "    menu_shown=False,\n",
        "    input_text=\"\"\n",
        ")\n",
        "state = initial_state\n",
        "while not state[\"confirmed\"]:\n",
        "    user_input = input(\"You: \")\n",
        "    # Pass the user_input in the state dictionary for the parse_input node\n",
        "    # The graph will process this input and update the state\n",
        "\n",
        "    result = graph.invoke({\n",
        "        **state,\n",
        "        \"input_text\": user_input\n",
        "    })\n",
        "\n",
        "    state.update(result)\n",
        "\n",
        "    if state[\"menu_shown\"]:\n",
        "        print(get_menu())\n",
        "        state[\"menu_shown\"] = False\n",
        "\n",
        "    if state[\"order\"] and not state[\"confirmed\"]:\n",
        "        print(f\"BaristaBot: You ordered a {state['order']}. Type 'confirm' to place it or 'change' to modify.\")\n",
        "    elif not state[\"menu_shown\"]:\n",
        "        print(\"BaristaBot: What would you like to order?\")\n"
      ],
      "metadata": {
        "colab": {
          "base_uri": "https://localhost:8080/"
        },
        "id": "2zeFblkWu_Dy",
        "outputId": "d08ec7cc-065c-4660-813c-5df302d3f3fc"
      },
      "execution_count": null,
      "outputs": [
        {
          "output_type": "stream",
          "name": "stdout",
          "text": [
            "You: Please, show me the menu\n",
            "☕ Coffee Menu:\n",
            "- Espresso\n",
            "- Cappuccino\n",
            "- Latte\n",
            "\n",
            "🍵 Tea Menu:\n",
            "- Green Tea\n",
            "- Chai\n",
            "- Earl Grey\n",
            "BaristaBot: What would you like to order?\n",
            "You: An espresso please\n",
            "BaristaBot: You ordered a Espresso. Type 'confirm' to place it or 'change' to modify.\n",
            "You: I want tot change\n",
            "BaristaBot: What would you like to order?\n",
            "You: A Chai\n",
            "BaristaBot: You ordered a Chai. Type 'confirm' to place it or 'change' to modify.\n",
            "You: confirm\n",
            "BaristaBot: What would you like to order?\n"
          ]
        }
      ]
    },
    {
      "cell_type": "markdown",
      "source": [
        "# ✅ **Completed**:\n",
        "\n",
        "- A stateful LangGraph app\n",
        "- Use of TypedDict for shared state\n",
        "- Integration of Gemini API via LangChain\n",
        "- Creation of a menu tool\n",
        "- Use of ToolNode to handle dynamic responses\n",
        "- Implementation of loops and conditional exits in LangGraph"
      ],
      "metadata": {
        "id": "JymNYpkmVgUX"
      }
    }
  ]
}